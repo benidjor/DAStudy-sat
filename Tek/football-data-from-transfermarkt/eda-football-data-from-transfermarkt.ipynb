{
 "cells": [
  {
   "cell_type": "markdown",
   "metadata": {},
   "source": [
    "# EDA for Football Data from Transfermarkt\n",
    "- Kaggle Data URL\n",
    "\n",
    "    - https://www.kaggle.com/datasets/davidcariboo/player-scores"
   ]
  },
  {
   "cell_type": "markdown",
   "metadata": {},
   "source": [
    "## 데이터 설명\n",
    "- Transfermarkt 웹사이트에서 스크레이핑한 각종 축구 데이터 (매주 한번 파일 업데이트)\n",
    "    - 주요 대회 시즌별 60,000개 이상의 경기\n",
    "    - 모든 대회의 400개 이상의 클럽들\n",
    "    - 30,000 이상의 선수들\n",
    "    - 400,000개 이상의 선수 가치 기록\n",
    "    - 1,200,000개 이상의 선수 출전 기록\n",
    "\n",
    "- `csv` 파일 설명\n",
    "    - `apperances` : 선수 출장 기록\n",
    "    - `club_games` : 클럽별 경기 홈팀, 어웨이팀 정보\n",
    "    - `clubs` : 리그별 속해 있는 클럽\n",
    "    - `competitions` : 대회 정보\n",
    "    - `game_events` : 경기별 이벤트 정보 (카드, 득점, 어시스트 등)\n",
    "    - `game_lineups` : 경기별 선수의 선발, 교체 명단 등재 여부\n",
    "    - `games` : 경기에 대한 정보 (시즌, 라운드, 홈팀, 어웨이팀, 순위)\n",
    "    - `player_valuations` : Transfermarkt 웹사이트에서 매긴 선수의 가치\n",
    "    - `players` : 선수에 대한 세부 정보\n",
    "\n",
    "- 데이터베이스 스키마\n",
    "    <img src=\"https://raw.githubusercontent.com/dcaribou/transfermarkt-datasets/master/resources/diagram.svg?sanitize=true\" width=\"1700\">"
   ]
  },
  {
   "cell_type": "code",
   "execution_count": 1,
   "metadata": {},
   "outputs": [],
   "source": [
    "import numpy as np\n",
    "import pandas as pd\n",
    "import matplotlib.pyplot as plt\n",
    "import seaborn as sns\n",
    "%matplotlib inline\n",
    "\n",
    "from datetime import datetime\n",
    "from datetime import timedelta\n",
    "import missingno as msno"
   ]
  },
  {
   "cell_type": "code",
   "execution_count": null,
   "metadata": {},
   "outputs": [],
   "source": []
  }
 ],
 "metadata": {
  "kernelspec": {
   "display_name": "football",
   "language": "python",
   "name": "python3"
  },
  "language_info": {
   "codemirror_mode": {
    "name": "ipython",
    "version": 3
   },
   "file_extension": ".py",
   "mimetype": "text/x-python",
   "name": "python",
   "nbconvert_exporter": "python",
   "pygments_lexer": "ipython3",
   "version": "3.11.0"
  }
 },
 "nbformat": 4,
 "nbformat_minor": 2
}
