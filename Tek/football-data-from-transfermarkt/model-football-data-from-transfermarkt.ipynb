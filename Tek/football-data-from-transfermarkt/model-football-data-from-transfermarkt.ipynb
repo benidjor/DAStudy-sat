{
 "cells": [
  {
   "cell_type": "markdown",
   "metadata": {},
   "source": [
    "# Modeling for Football Data from Transfermarkt\n",
    "- Kaggle Data URL\n",
    "\n",
    "    - https://www.kaggle.com/datasets/davidcariboo/player-scores"
   ]
  },
  {
   "cell_type": "markdown",
   "metadata": {},
   "source": [
    "## 데이터 설명\n",
    "- Transfermarkt 웹사이트에서 스크레이핑한 각종 축구 데이터 (매주 한번 파일 업데이트)\n",
    "    - 주요 대회 시즌별 60,000개 이상의 경기\n",
    "    - 모든 대회의 400개 이상의 클럽들\n",
    "    - 30,000 이상의 선수들\n",
    "    - 400,000개 이상의 선수 가치 기록\n",
    "    - 1,200,000개 이상의 선수 출전 기록\n",
    "\n",
    "- `csv` 파일 설명\n",
    "    - `apperances` : 선수 출장 기록\n",
    "    - `club_games` : 클럽별 경기 홈팀, 어웨이팀 정보\n",
    "    - `clubs` : 리그별 속해 있는 클럽\n",
    "    - `competitions` : 대회 정보\n",
    "    - `game_events` : 경기별 이벤트 정보 (카드, 득점, 어시스트 등)\n",
    "    - `game_lineups` : 경기별 선수의 선발, 교체 명단 등재 여부\n",
    "    - `games` : 경기에 대한 정보 (시즌, 라운드, 홈팀, 어웨이팀, 순위)\n",
    "    - `player_valuations` : Transfermarkt 웹사이트에서 매긴 선수의 가치\n",
    "    - `players` : 선수에 대한 세부 정보\n",
    "\n",
    "- 데이터베이스 스키마\n",
    "    <img src=\"https://raw.githubusercontent.com/dcaribou/transfermarkt-datasets/master/resources/diagram.svg?sanitize=true\" width=\"1700\">"
   ]
  },
  {
   "cell_type": "code",
   "execution_count": 1,
   "metadata": {},
   "outputs": [],
   "source": [
    "import numpy as np\n",
    "import pandas as pd\n",
    "import matplotlib.pyplot as plt\n",
    "import seaborn as sns\n",
    "%matplotlib inline\n",
    "\n",
    "from sklearn.tree import DecisionTreeRegressor\n",
    "from sklearn.ensemble import RandomForestRegressor\n",
    "from sklearn.ensemble import GradientBoostingRegressor\n",
    "from sklearn import ensemble\n",
    "from xgboost import XGBRegressor\n",
    "from lightgbm import LGBMRegressor\n",
    "\n",
    "from sklearn.model_selection import cross_val_score\n",
    "from sklearn.model_selection import train_test_split\n",
    "\n",
    "import category_encoders as ce\n",
    "from sklearn.preprocessing import TargetEncoder\n",
    "\n",
    "\n",
    "\n"
   ]
  },
  {
   "cell_type": "code",
   "execution_count": 2,
   "metadata": {},
   "outputs": [],
   "source": [
    "# 데이터 경로\n",
    "path = \"C:/Users/aryij/Documents/DataStudy/DAStudy-sat/Tek/football-data-from-transfermarkt/data/df_eda.csv\"\n",
    "df = pd.read_csv(path)"
   ]
  },
  {
   "cell_type": "code",
   "execution_count": 3,
   "metadata": {},
   "outputs": [
    {
     "data": {
      "text/html": [
       "<div>\n",
       "<style scoped>\n",
       "    .dataframe tbody tr th:only-of-type {\n",
       "        vertical-align: middle;\n",
       "    }\n",
       "\n",
       "    .dataframe tbody tr th {\n",
       "        vertical-align: top;\n",
       "    }\n",
       "\n",
       "    .dataframe thead th {\n",
       "        text-align: right;\n",
       "    }\n",
       "</style>\n",
       "<table border=\"1\" class=\"dataframe\">\n",
       "  <thead>\n",
       "    <tr style=\"text-align: right;\">\n",
       "      <th></th>\n",
       "      <th>player_name</th>\n",
       "      <th>start_season</th>\n",
       "      <th>yellow_cards</th>\n",
       "      <th>red_cards</th>\n",
       "      <th>goals</th>\n",
       "      <th>assists</th>\n",
       "      <th>minutes_played</th>\n",
       "      <th>competition_code</th>\n",
       "      <th>date_of_birth</th>\n",
       "      <th>age</th>\n",
       "      <th>position</th>\n",
       "      <th>current_club_name</th>\n",
       "      <th>market_value_per_season</th>\n",
       "      <th>country</th>\n",
       "      <th>foot</th>\n",
       "      <th>height_in_cm</th>\n",
       "    </tr>\n",
       "  </thead>\n",
       "  <tbody>\n",
       "    <tr>\n",
       "      <th>0</th>\n",
       "      <td>Aaron Connolly</td>\n",
       "      <td>2019</td>\n",
       "      <td>0</td>\n",
       "      <td>0</td>\n",
       "      <td>3</td>\n",
       "      <td>2</td>\n",
       "      <td>1261</td>\n",
       "      <td>premier-league</td>\n",
       "      <td>2000-01-28</td>\n",
       "      <td>20</td>\n",
       "      <td>Centre-Forward</td>\n",
       "      <td>Brighton and Hove Albion Football Club</td>\n",
       "      <td>4000000.0</td>\n",
       "      <td>Ireland</td>\n",
       "      <td>right</td>\n",
       "      <td>174.0</td>\n",
       "    </tr>\n",
       "    <tr>\n",
       "      <th>1</th>\n",
       "      <td>Aaron Connolly</td>\n",
       "      <td>2020</td>\n",
       "      <td>0</td>\n",
       "      <td>0</td>\n",
       "      <td>2</td>\n",
       "      <td>1</td>\n",
       "      <td>791</td>\n",
       "      <td>premier-league</td>\n",
       "      <td>2000-01-28</td>\n",
       "      <td>21</td>\n",
       "      <td>Centre-Forward</td>\n",
       "      <td>Brighton and Hove Albion Football Club</td>\n",
       "      <td>7000000.0</td>\n",
       "      <td>Ireland</td>\n",
       "      <td>right</td>\n",
       "      <td>174.0</td>\n",
       "    </tr>\n",
       "    <tr>\n",
       "      <th>2</th>\n",
       "      <td>Aaron Connolly</td>\n",
       "      <td>2021</td>\n",
       "      <td>0</td>\n",
       "      <td>0</td>\n",
       "      <td>0</td>\n",
       "      <td>0</td>\n",
       "      <td>155</td>\n",
       "      <td>premier-league</td>\n",
       "      <td>2000-01-28</td>\n",
       "      <td>22</td>\n",
       "      <td>Centre-Forward</td>\n",
       "      <td>Brighton and Hove Albion Football Club</td>\n",
       "      <td>6000000.0</td>\n",
       "      <td>Ireland</td>\n",
       "      <td>right</td>\n",
       "      <td>174.0</td>\n",
       "    </tr>\n",
       "    <tr>\n",
       "      <th>3</th>\n",
       "      <td>Aaron Cresswell</td>\n",
       "      <td>2019</td>\n",
       "      <td>7</td>\n",
       "      <td>0</td>\n",
       "      <td>3</td>\n",
       "      <td>0</td>\n",
       "      <td>2730</td>\n",
       "      <td>premier-league</td>\n",
       "      <td>1989-12-15</td>\n",
       "      <td>30</td>\n",
       "      <td>Left-Back</td>\n",
       "      <td>West Ham United Football Club</td>\n",
       "      <td>6500000.0</td>\n",
       "      <td>England</td>\n",
       "      <td>left</td>\n",
       "      <td>170.0</td>\n",
       "    </tr>\n",
       "    <tr>\n",
       "      <th>4</th>\n",
       "      <td>Aaron Cresswell</td>\n",
       "      <td>2020</td>\n",
       "      <td>3</td>\n",
       "      <td>0</td>\n",
       "      <td>0</td>\n",
       "      <td>8</td>\n",
       "      <td>3172</td>\n",
       "      <td>premier-league</td>\n",
       "      <td>1989-12-15</td>\n",
       "      <td>31</td>\n",
       "      <td>Left-Back</td>\n",
       "      <td>West Ham United Football Club</td>\n",
       "      <td>5000000.0</td>\n",
       "      <td>England</td>\n",
       "      <td>left</td>\n",
       "      <td>170.0</td>\n",
       "    </tr>\n",
       "  </tbody>\n",
       "</table>\n",
       "</div>"
      ],
      "text/plain": [
       "       player_name  start_season  yellow_cards  red_cards  goals  assists  \\\n",
       "0   Aaron Connolly          2019             0          0      3        2   \n",
       "1   Aaron Connolly          2020             0          0      2        1   \n",
       "2   Aaron Connolly          2021             0          0      0        0   \n",
       "3  Aaron Cresswell          2019             7          0      3        0   \n",
       "4  Aaron Cresswell          2020             3          0      0        8   \n",
       "\n",
       "   minutes_played competition_code date_of_birth  age        position  \\\n",
       "0            1261   premier-league    2000-01-28   20  Centre-Forward   \n",
       "1             791   premier-league    2000-01-28   21  Centre-Forward   \n",
       "2             155   premier-league    2000-01-28   22  Centre-Forward   \n",
       "3            2730   premier-league    1989-12-15   30       Left-Back   \n",
       "4            3172   premier-league    1989-12-15   31       Left-Back   \n",
       "\n",
       "                        current_club_name  market_value_per_season  country  \\\n",
       "0  Brighton and Hove Albion Football Club                4000000.0  Ireland   \n",
       "1  Brighton and Hove Albion Football Club                7000000.0  Ireland   \n",
       "2  Brighton and Hove Albion Football Club                6000000.0  Ireland   \n",
       "3           West Ham United Football Club                6500000.0  England   \n",
       "4           West Ham United Football Club                5000000.0  England   \n",
       "\n",
       "    foot  height_in_cm  \n",
       "0  right         174.0  \n",
       "1  right         174.0  \n",
       "2  right         174.0  \n",
       "3   left         170.0  \n",
       "4   left         170.0  "
      ]
     },
     "execution_count": 3,
     "metadata": {},
     "output_type": "execute_result"
    }
   ],
   "source": [
    "df.head()"
   ]
  },
  {
   "cell_type": "code",
   "execution_count": 4,
   "metadata": {},
   "outputs": [],
   "source": [
    "# date_of_birth 열 제거 (age로 대체)\n",
    "df = df.drop(\"date_of_birth\", axis=1)"
   ]
  },
  {
   "cell_type": "code",
   "execution_count": 5,
   "metadata": {},
   "outputs": [
    {
     "name": "stdout",
     "output_type": "stream",
     "text": [
      "<class 'pandas.core.frame.DataFrame'>\n",
      "RangeIndex: 16001 entries, 0 to 16000\n",
      "Data columns (total 15 columns):\n",
      " #   Column                   Non-Null Count  Dtype  \n",
      "---  ------                   --------------  -----  \n",
      " 0   player_name              16001 non-null  object \n",
      " 1   start_season             16001 non-null  int64  \n",
      " 2   yellow_cards             16001 non-null  int64  \n",
      " 3   red_cards                16001 non-null  int64  \n",
      " 4   goals                    16001 non-null  int64  \n",
      " 5   assists                  16001 non-null  int64  \n",
      " 6   minutes_played           16001 non-null  int64  \n",
      " 7   competition_code         16001 non-null  object \n",
      " 8   age                      16001 non-null  int64  \n",
      " 9   position                 16001 non-null  object \n",
      " 10  current_club_name        16001 non-null  object \n",
      " 11  market_value_per_season  16001 non-null  float64\n",
      " 12  country                  16001 non-null  object \n",
      " 13  foot                     16001 non-null  object \n",
      " 14  height_in_cm             16001 non-null  float64\n",
      "dtypes: float64(2), int64(7), object(6)\n",
      "memory usage: 1.8+ MB\n"
     ]
    }
   ],
   "source": [
    "df.info()"
   ]
  },
  {
   "cell_type": "code",
   "execution_count": 6,
   "metadata": {},
   "outputs": [],
   "source": [
    "# 수치형, 범주형 변수 따로 선언\n",
    "num_cols = df.select_dtypes(include=np.number).columns.tolist()\n",
    "cat_cols = df.select_dtypes(exclude=np.number).columns.tolist()"
   ]
  },
  {
   "cell_type": "code",
   "execution_count": 7,
   "metadata": {},
   "outputs": [
    {
     "name": "stdout",
     "output_type": "stream",
     "text": [
      "수치형 변수 : ['start_season', 'yellow_cards', 'red_cards', 'goals', 'assists', 'minutes_played', 'age', 'market_value_per_season', 'height_in_cm']\n",
      "범주형 변수 : ['player_name', 'competition_code', 'position', 'current_club_name', 'country', 'foot']\n"
     ]
    }
   ],
   "source": [
    "print(\"수치형 변수 :\", num_cols)\n",
    "print(\"범주형 변수 :\", cat_cols)"
   ]
  },
  {
   "cell_type": "markdown",
   "metadata": {},
   "source": [
    "## 데이터 분리"
   ]
  },
  {
   "cell_type": "code",
   "execution_count": 39,
   "metadata": {},
   "outputs": [
    {
     "data": {
      "text/plain": [
       "((13081, 15), (2920, 15))"
      ]
     },
     "execution_count": 39,
     "metadata": {},
     "output_type": "execute_result"
    }
   ],
   "source": [
    "# target 컬럼 \"market_value_per_season\"\n",
    "target = \"market_value_per_season\"\n",
    "# 나머지 컬럼 features에 선언\n",
    "features = df.drop(columns=target).columns\n",
    "\n",
    "# 학습할 train 데이터 : 19-20 ~ 22-23 시즌 데이터 (4시즌)\n",
    "train = df[df.start_season != 2023]\n",
    "# 예측할 test 데이터 : 23-24 시즌 데이터\n",
    "test = df[df.start_season == 2023]\n",
    "\n",
    "train.shape, test.shape"
   ]
  },
  {
   "cell_type": "code",
   "execution_count": 40,
   "metadata": {},
   "outputs": [],
   "source": [
    "# validation 데이터셋 생성\n",
    "train, val = train_test_split(train, train_size=0.8, random_state=42)"
   ]
  },
  {
   "cell_type": "code",
   "execution_count": 41,
   "metadata": {},
   "outputs": [
    {
     "data": {
      "text/plain": [
       "((10464, 14), (10464,), (2617, 14), (2617,), (2920, 14), (2920,))"
      ]
     },
     "execution_count": 41,
     "metadata": {},
     "output_type": "execute_result"
    }
   ],
   "source": [
    "# train 데이터 나눠준다\n",
    "X_train = train[features]\n",
    "y_train = train[target]\n",
    "\n",
    "# validation 데이터 나눠준다\n",
    "X_val = val[features]\n",
    "y_val = val[target]\n",
    "\n",
    "# test 데이터 나눠준다\n",
    "X_test = test[features]\n",
    "y_test = test[target]\n",
    "\n",
    "X_train.shape, y_train.shape, X_val.shape, y_val.shape, X_test.shape, y_test.shape"
   ]
  },
  {
   "cell_type": "markdown",
   "metadata": {},
   "source": [
    "## 인코딩"
   ]
  },
  {
   "cell_type": "markdown",
   "metadata": {},
   "source": [
    "### Target Encoding\n",
    "- 머신 러닝 모델의 출력이 숫자 (회귀)일 때만 범주형 feature에 사용\n",
    "\n",
    "- 각 범주에 대한 평균 목표값 계산 → 인코딩 하기 위해 범주형 값이 갖는 범주에 해당하는 백분율 대체\n",
    "- 각 카테고리의 값을 학습 데이터의 target 값의 평균값으로 설정한다\n",
    "- 데이터 관측치가 많아야 한다\n",
    "- 과적합의 원인이 될 수 있다\n",
    "- references\n",
    "    - https://conanmoon.medium.com/%EB%8D%B0%EC%9D%B4%ED%84%B0%EA%B3%BC%ED%95%99-%EC%9C%A0%EB%A7%9D%EC%A3%BC%EC%9D%98-%EB%A7%A4%EC%9D%BC-%EA%B8%80%EC%93%B0%EA%B8%B0-%EC%9D%BC%EA%B3%B1%EB%B2%88%EC%A7%B8-%EC%9D%BC%EC%9A%94%EC%9D%BC-7a40e7de39d4\n",
    "    - https://velog.io/@seungwoong12/encoding"
   ]
  },
  {
   "cell_type": "code",
   "execution_count": 47,
   "metadata": {},
   "outputs": [],
   "source": [
    "# Scikit-learn TargetEncoder 사용\n",
    "# https://scikit-learn.org/stable/modules/generated/sklearn.preprocessing.TargetEncoder.html\n",
    "# Scikit-learn 버전 높아야 사용 가능 (업데이트 필요)\n",
    "\n",
    "# smooth=\"auto\", cv=5로 TargetEncoder 객체 생성\n",
    "te = TargetEncoder(target_type=\"continuous\", smooth=\"auto\", cv=5)\n",
    "\n",
    "# Train 데이터로 fit_transform 해준다\n",
    "train_encoded = te.fit_transform(X_train, y_train)\n",
    "val_encoded = te.transform(X_val)\n",
    "test_encoded = te.transform(X_test)\n",
    "\n"
   ]
  },
  {
   "cell_type": "markdown",
   "metadata": {},
   "source": []
  },
  {
   "cell_type": "markdown",
   "metadata": {},
   "source": []
  },
  {
   "cell_type": "markdown",
   "metadata": {},
   "source": []
  },
  {
   "cell_type": "markdown",
   "metadata": {},
   "source": [
    "## Baseline 모델링"
   ]
  },
  {
   "cell_type": "markdown",
   "metadata": {},
   "source": []
  }
 ],
 "metadata": {
  "kernelspec": {
   "display_name": "football",
   "language": "python",
   "name": "python3"
  },
  "language_info": {
   "codemirror_mode": {
    "name": "ipython",
    "version": 3
   },
   "file_extension": ".py",
   "mimetype": "text/x-python",
   "name": "python",
   "nbconvert_exporter": "python",
   "pygments_lexer": "ipython3",
   "version": "3.11.8"
  }
 },
 "nbformat": 4,
 "nbformat_minor": 2
}
