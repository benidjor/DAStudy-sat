{
 "cells": [
  {
   "cell_type": "markdown",
   "metadata": {},
   "source": [
    "# Modeling for Football Data from Transfermarkt\n",
    "- Kaggle Data URL\n",
    "\n",
    "    - https://www.kaggle.com/datasets/davidcariboo/player-scores"
   ]
  },
  {
   "cell_type": "markdown",
   "metadata": {},
   "source": [
    "## 데이터 설명\n",
    "- Transfermarkt 웹사이트에서 스크레이핑한 각종 축구 데이터 (매주 한번 파일 업데이트)\n",
    "    - 주요 대회 시즌별 60,000개 이상의 경기\n",
    "    - 모든 대회의 400개 이상의 클럽들\n",
    "    - 30,000 이상의 선수들\n",
    "    - 400,000개 이상의 선수 가치 기록\n",
    "    - 1,200,000개 이상의 선수 출전 기록\n",
    "\n",
    "- `csv` 파일 설명\n",
    "    - `apperances` : 선수 출장 기록\n",
    "    - `club_games` : 클럽별 경기 홈팀, 어웨이팀 정보\n",
    "    - `clubs` : 리그별 속해 있는 클럽\n",
    "    - `competitions` : 대회 정보\n",
    "    - `game_events` : 경기별 이벤트 정보 (카드, 득점, 어시스트 등)\n",
    "    - `game_lineups` : 경기별 선수의 선발, 교체 명단 등재 여부\n",
    "    - `games` : 경기에 대한 정보 (시즌, 라운드, 홈팀, 어웨이팀, 순위)\n",
    "    - `player_valuations` : Transfermarkt 웹사이트에서 매긴 선수의 가치\n",
    "    - `players` : 선수에 대한 세부 정보\n",
    "\n",
    "- 데이터베이스 스키마\n",
    "    <img src=\"https://raw.githubusercontent.com/dcaribou/transfermarkt-datasets/master/resources/diagram.svg?sanitize=true\" width=\"1700\">"
   ]
  },
  {
   "cell_type": "code",
   "execution_count": 1,
   "metadata": {},
   "outputs": [
    {
     "name": "stderr",
     "output_type": "stream",
     "text": [
      "c:\\Users\\aryij\\anaconda3\\envs\\football\\Lib\\site-packages\\tqdm\\auto.py:21: TqdmWarning: IProgress not found. Please update jupyter and ipywidgets. See https://ipywidgets.readthedocs.io/en/stable/user_install.html\n",
      "  from .autonotebook import tqdm as notebook_tqdm\n"
     ]
    }
   ],
   "source": [
    "import numpy as np\n",
    "import pandas as pd\n",
    "import matplotlib.pyplot as plt\n",
    "import seaborn as sns\n",
    "%matplotlib inline\n",
    "\n",
    "from sklearn import metrics\n",
    "from sklearn.linear_model import LinearRegression\n",
    "from sklearn.tree import DecisionTreeRegressor\n",
    "from sklearn.ensemble import RandomForestRegressor\n",
    "from xgboost import XGBRegressor\n",
    "from lightgbm import LGBMRegressor\n",
    "from catboost import CatBoostRegressor\n",
    "\n",
    "import optuna\n",
    "from optuna import Trial, visualization\n",
    "from optuna.samplers import TPESampler\n",
    "\n",
    "from sklearn.model_selection import train_test_split\n",
    "from sklearn.model_selection import RandomizedSearchCV\n",
    "\n",
    "from sklearn.preprocessing import TargetEncoder\n",
    "from sklearn.preprocessing import RobustScaler\n",
    "\n",
    "from xgboost import plot_importance\n",
    "\n",
    "import warnings\n",
    "warnings.filterwarnings(action='ignore')\n",
    "\n"
   ]
  },
  {
   "cell_type": "code",
   "execution_count": 2,
   "metadata": {},
   "outputs": [],
   "source": [
    "# 데이터 경로\n",
    "path = \"data/df_eda.csv\"\n",
    "df = pd.read_csv(path)"
   ]
  },
  {
   "cell_type": "code",
   "execution_count": 3,
   "metadata": {},
   "outputs": [
    {
     "data": {
      "text/html": [
       "<div>\n",
       "<style scoped>\n",
       "    .dataframe tbody tr th:only-of-type {\n",
       "        vertical-align: middle;\n",
       "    }\n",
       "\n",
       "    .dataframe tbody tr th {\n",
       "        vertical-align: top;\n",
       "    }\n",
       "\n",
       "    .dataframe thead th {\n",
       "        text-align: right;\n",
       "    }\n",
       "</style>\n",
       "<table border=\"1\" class=\"dataframe\">\n",
       "  <thead>\n",
       "    <tr style=\"text-align: right;\">\n",
       "      <th></th>\n",
       "      <th>player_name</th>\n",
       "      <th>start_season</th>\n",
       "      <th>goals</th>\n",
       "      <th>assists</th>\n",
       "      <th>minutes_played</th>\n",
       "      <th>competition_code</th>\n",
       "      <th>date_of_birth</th>\n",
       "      <th>age</th>\n",
       "      <th>position</th>\n",
       "      <th>current_club_name</th>\n",
       "      <th>market_value_per_season</th>\n",
       "      <th>country</th>\n",
       "      <th>foot</th>\n",
       "      <th>height_in_cm</th>\n",
       "    </tr>\n",
       "  </thead>\n",
       "  <tbody>\n",
       "    <tr>\n",
       "      <th>0</th>\n",
       "      <td>Aaron Connolly</td>\n",
       "      <td>2019</td>\n",
       "      <td>3</td>\n",
       "      <td>2</td>\n",
       "      <td>1261</td>\n",
       "      <td>premier-league</td>\n",
       "      <td>2000-01-28</td>\n",
       "      <td>20</td>\n",
       "      <td>Centre-Forward</td>\n",
       "      <td>Brighton and Hove Albion Football Club</td>\n",
       "      <td>4000000.0</td>\n",
       "      <td>Ireland</td>\n",
       "      <td>right</td>\n",
       "      <td>174.0</td>\n",
       "    </tr>\n",
       "    <tr>\n",
       "      <th>1</th>\n",
       "      <td>Aaron Connolly</td>\n",
       "      <td>2020</td>\n",
       "      <td>2</td>\n",
       "      <td>1</td>\n",
       "      <td>791</td>\n",
       "      <td>premier-league</td>\n",
       "      <td>2000-01-28</td>\n",
       "      <td>21</td>\n",
       "      <td>Centre-Forward</td>\n",
       "      <td>Brighton and Hove Albion Football Club</td>\n",
       "      <td>7000000.0</td>\n",
       "      <td>Ireland</td>\n",
       "      <td>right</td>\n",
       "      <td>174.0</td>\n",
       "    </tr>\n",
       "    <tr>\n",
       "      <th>2</th>\n",
       "      <td>Aaron Connolly</td>\n",
       "      <td>2021</td>\n",
       "      <td>0</td>\n",
       "      <td>0</td>\n",
       "      <td>155</td>\n",
       "      <td>premier-league</td>\n",
       "      <td>2000-01-28</td>\n",
       "      <td>22</td>\n",
       "      <td>Centre-Forward</td>\n",
       "      <td>Brighton and Hove Albion Football Club</td>\n",
       "      <td>6000000.0</td>\n",
       "      <td>Ireland</td>\n",
       "      <td>right</td>\n",
       "      <td>174.0</td>\n",
       "    </tr>\n",
       "    <tr>\n",
       "      <th>3</th>\n",
       "      <td>Aaron Cresswell</td>\n",
       "      <td>2019</td>\n",
       "      <td>3</td>\n",
       "      <td>0</td>\n",
       "      <td>2730</td>\n",
       "      <td>premier-league</td>\n",
       "      <td>1989-12-15</td>\n",
       "      <td>30</td>\n",
       "      <td>Left-Back</td>\n",
       "      <td>West Ham United Football Club</td>\n",
       "      <td>6500000.0</td>\n",
       "      <td>England</td>\n",
       "      <td>left</td>\n",
       "      <td>170.0</td>\n",
       "    </tr>\n",
       "    <tr>\n",
       "      <th>4</th>\n",
       "      <td>Aaron Cresswell</td>\n",
       "      <td>2020</td>\n",
       "      <td>0</td>\n",
       "      <td>8</td>\n",
       "      <td>3172</td>\n",
       "      <td>premier-league</td>\n",
       "      <td>1989-12-15</td>\n",
       "      <td>31</td>\n",
       "      <td>Left-Back</td>\n",
       "      <td>West Ham United Football Club</td>\n",
       "      <td>5000000.0</td>\n",
       "      <td>England</td>\n",
       "      <td>left</td>\n",
       "      <td>170.0</td>\n",
       "    </tr>\n",
       "  </tbody>\n",
       "</table>\n",
       "</div>"
      ],
      "text/plain": [
       "       player_name  start_season  goals  assists  minutes_played  \\\n",
       "0   Aaron Connolly          2019      3        2            1261   \n",
       "1   Aaron Connolly          2020      2        1             791   \n",
       "2   Aaron Connolly          2021      0        0             155   \n",
       "3  Aaron Cresswell          2019      3        0            2730   \n",
       "4  Aaron Cresswell          2020      0        8            3172   \n",
       "\n",
       "  competition_code date_of_birth  age        position  \\\n",
       "0   premier-league    2000-01-28   20  Centre-Forward   \n",
       "1   premier-league    2000-01-28   21  Centre-Forward   \n",
       "2   premier-league    2000-01-28   22  Centre-Forward   \n",
       "3   premier-league    1989-12-15   30       Left-Back   \n",
       "4   premier-league    1989-12-15   31       Left-Back   \n",
       "\n",
       "                        current_club_name  market_value_per_season  country  \\\n",
       "0  Brighton and Hove Albion Football Club                4000000.0  Ireland   \n",
       "1  Brighton and Hove Albion Football Club                7000000.0  Ireland   \n",
       "2  Brighton and Hove Albion Football Club                6000000.0  Ireland   \n",
       "3           West Ham United Football Club                6500000.0  England   \n",
       "4           West Ham United Football Club                5000000.0  England   \n",
       "\n",
       "    foot  height_in_cm  \n",
       "0  right         174.0  \n",
       "1  right         174.0  \n",
       "2  right         174.0  \n",
       "3   left         170.0  \n",
       "4   left         170.0  "
      ]
     },
     "execution_count": 3,
     "metadata": {},
     "output_type": "execute_result"
    }
   ],
   "source": [
    "df.head()"
   ]
  },
  {
   "cell_type": "code",
   "execution_count": 4,
   "metadata": {},
   "outputs": [],
   "source": [
    "# date_of_birth 열 제거 (age로 대체)\n",
    "df = df.drop(\"date_of_birth\", axis=1)"
   ]
  },
  {
   "cell_type": "code",
   "execution_count": 5,
   "metadata": {},
   "outputs": [
    {
     "name": "stdout",
     "output_type": "stream",
     "text": [
      "<class 'pandas.core.frame.DataFrame'>\n",
      "RangeIndex: 16001 entries, 0 to 16000\n",
      "Data columns (total 13 columns):\n",
      " #   Column                   Non-Null Count  Dtype  \n",
      "---  ------                   --------------  -----  \n",
      " 0   player_name              16001 non-null  object \n",
      " 1   start_season             16001 non-null  int64  \n",
      " 2   goals                    16001 non-null  int64  \n",
      " 3   assists                  16001 non-null  int64  \n",
      " 4   minutes_played           16001 non-null  int64  \n",
      " 5   competition_code         16001 non-null  object \n",
      " 6   age                      16001 non-null  int64  \n",
      " 7   position                 16001 non-null  object \n",
      " 8   current_club_name        16001 non-null  object \n",
      " 9   market_value_per_season  16001 non-null  float64\n",
      " 10  country                  16001 non-null  object \n",
      " 11  foot                     16001 non-null  object \n",
      " 12  height_in_cm             16001 non-null  float64\n",
      "dtypes: float64(2), int64(5), object(6)\n",
      "memory usage: 1.6+ MB\n"
     ]
    }
   ],
   "source": [
    "df.info()"
   ]
  },
  {
   "cell_type": "code",
   "execution_count": 6,
   "metadata": {},
   "outputs": [],
   "source": [
    "# 수치형, 범주형 변수 따로 선언\n",
    "num_cols = df.select_dtypes(include=np.number).columns.tolist()\n",
    "cat_cols = df.select_dtypes(exclude=np.number).columns.tolist()"
   ]
  },
  {
   "cell_type": "code",
   "execution_count": 7,
   "metadata": {},
   "outputs": [
    {
     "name": "stdout",
     "output_type": "stream",
     "text": [
      "수치형 변수 : ['start_season', 'goals', 'assists', 'minutes_played', 'age', 'market_value_per_season', 'height_in_cm']\n",
      "범주형 변수 : ['player_name', 'competition_code', 'position', 'current_club_name', 'country', 'foot']\n"
     ]
    }
   ],
   "source": [
    "print(\"수치형 변수 :\", num_cols)\n",
    "print(\"범주형 변수 :\", cat_cols)"
   ]
  },
  {
   "cell_type": "markdown",
   "metadata": {},
   "source": [
    "## 데이터 분리"
   ]
  },
  {
   "cell_type": "code",
   "execution_count": 8,
   "metadata": {},
   "outputs": [
    {
     "data": {
      "text/plain": [
       "((13081, 13), (2920, 13))"
      ]
     },
     "execution_count": 8,
     "metadata": {},
     "output_type": "execute_result"
    }
   ],
   "source": [
    "# target 컬럼 \"market_value_per_season\"\n",
    "target = \"market_value_per_season\"\n",
    "# 나머지 컬럼 features에 선언\n",
    "features = df.drop(columns=target).columns\n",
    "\n",
    "# 학습할 train 데이터 : 19-20 ~ 22-23 시즌 데이터 (4시즌)\n",
    "train = df[df.start_season != 2023]\n",
    "# 예측할 test 데이터 : 23-24 시즌 데이터\n",
    "test = df[df.start_season == 2023]\n",
    "\n",
    "train.shape, test.shape"
   ]
  },
  {
   "cell_type": "code",
   "execution_count": 9,
   "metadata": {},
   "outputs": [],
   "source": [
    "# validation 데이터셋 생성\n",
    "train, val = train_test_split(train, train_size=0.8, random_state=42)"
   ]
  },
  {
   "cell_type": "code",
   "execution_count": 10,
   "metadata": {},
   "outputs": [
    {
     "data": {
      "text/plain": [
       "((10464, 12), (10464,), (2617, 12), (2617,), (2920, 12), (2920,))"
      ]
     },
     "execution_count": 10,
     "metadata": {},
     "output_type": "execute_result"
    }
   ],
   "source": [
    "# train 데이터 나눠준다\n",
    "X_train = train[features]\n",
    "y_train = train[target]\n",
    "\n",
    "# validation 데이터 나눠준다\n",
    "X_val = val[features]\n",
    "y_val = val[target]\n",
    "\n",
    "# test 데이터 나눠준다\n",
    "X_test = test[features]\n",
    "y_test = test[target]\n",
    "\n",
    "X_train.shape, y_train.shape, X_val.shape, y_val.shape, X_test.shape, y_test.shape"
   ]
  },
  {
   "cell_type": "code",
   "execution_count": 11,
   "metadata": {},
   "outputs": [],
   "source": [
    "num_cols = df.drop(columns=target).select_dtypes(include=np.number).columns.tolist()\n",
    "\n",
    "# train 데이터 copy\n",
    "X_train_no_enc = train[features].copy()\n",
    "# y_train_no_enc = train[target].copy()\n",
    "\n",
    "# validation 데이터 copy\n",
    "X_val_no_enc = val[features].copy()\n",
    "# y_val_no_enc = val[target].copy()\n",
    "\n",
    "# test 데이터 copy\n",
    "X_test_no_enc = test[features].copy()\n",
    "# y_test_no_enc = test[target].copy()"
   ]
  },
  {
   "cell_type": "markdown",
   "metadata": {},
   "source": [
    "## 인코딩"
   ]
  },
  {
   "cell_type": "markdown",
   "metadata": {},
   "source": [
    "### Target Encoding\n",
    "- 머신 러닝 모델의 출력이 숫자 (회귀)일 때만 범주형 feature에 사용\n",
    "\n",
    "- 각 범주에 대한 평균 목표값 계산 → 인코딩 하기 위해 범주형 값이 갖는 범주에 해당하는 백분율 대체\n",
    "- 각 카테고리의 값을 학습 데이터의 target 값의 평균값으로 설정한다\n",
    "- 데이터 관측치가 많아야 한다\n",
    "- 과적합의 원인이 될 수 있다\n",
    "- references\n",
    "    - https://conanmoon.medium.com/%EB%8D%B0%EC%9D%B4%ED%84%B0%EA%B3%BC%ED%95%99-%EC%9C%A0%EB%A7%9D%EC%A3%BC%EC%9D%98-%EB%A7%A4%EC%9D%BC-%EA%B8%80%EC%93%B0%EA%B8%B0-%EC%9D%BC%EA%B3%B1%EB%B2%88%EC%A7%B8-%EC%9D%BC%EC%9A%94%EC%9D%BC-7a40e7de39d4\n",
    "    - https://velog.io/@seungwoong12/encoding"
   ]
  },
  {
   "cell_type": "code",
   "execution_count": 12,
   "metadata": {},
   "outputs": [],
   "source": [
    "# Scikit-learn TargetEncoder 사용\n",
    "# https://scikit-learn.org/stable/modules/generated/sklearn.preprocessing.TargetEncoder.html\n",
    "# Scikit-learn 버전 높아야 사용 가능 (업데이트 필요)\n",
    "\n",
    "# 범주형 변수 목록 cat_features에 선언\n",
    "cat_features = df.select_dtypes(exclude=np.number).columns.tolist()\n",
    "\n",
    "# smooth=\"auto\", cv=5로 TargetEncoder 객체 생성\n",
    "te = TargetEncoder(target_type=\"continuous\", smooth=\"auto\", cv=5)\n",
    "\n",
    "for cat_feature in cat_features:\n",
    "    # Train 데이터로 fit_transform 해준다\n",
    "    X_train[[cat_feature]] = te.fit_transform(X_train[[cat_feature]], y_train)\n",
    "    X_val[[cat_feature]] = te.transform(X_val[[cat_feature]])\n",
    "    X_test[[cat_feature]] = te.transform(X_test[[cat_feature]])"
   ]
  },
  {
   "cell_type": "markdown",
   "metadata": {},
   "source": [
    "## Baseline 모델 생성"
   ]
  },
  {
   "cell_type": "code",
   "execution_count": 13,
   "metadata": {},
   "outputs": [],
   "source": [
    "# https://medium.com/machine-learning-with-python/multiple-linear-regression-implementation-in-python-2de9b303fc0c"
   ]
  },
  {
   "cell_type": "code",
   "execution_count": 14,
   "metadata": {},
   "outputs": [
    {
     "data": {
      "text/html": [
       "<style>#sk-container-id-1 {\n",
       "  /* Definition of color scheme common for light and dark mode */\n",
       "  --sklearn-color-text: black;\n",
       "  --sklearn-color-line: gray;\n",
       "  /* Definition of color scheme for unfitted estimators */\n",
       "  --sklearn-color-unfitted-level-0: #fff5e6;\n",
       "  --sklearn-color-unfitted-level-1: #f6e4d2;\n",
       "  --sklearn-color-unfitted-level-2: #ffe0b3;\n",
       "  --sklearn-color-unfitted-level-3: chocolate;\n",
       "  /* Definition of color scheme for fitted estimators */\n",
       "  --sklearn-color-fitted-level-0: #f0f8ff;\n",
       "  --sklearn-color-fitted-level-1: #d4ebff;\n",
       "  --sklearn-color-fitted-level-2: #b3dbfd;\n",
       "  --sklearn-color-fitted-level-3: cornflowerblue;\n",
       "\n",
       "  /* Specific color for light theme */\n",
       "  --sklearn-color-text-on-default-background: var(--sg-text-color, var(--theme-code-foreground, var(--jp-content-font-color1, black)));\n",
       "  --sklearn-color-background: var(--sg-background-color, var(--theme-background, var(--jp-layout-color0, white)));\n",
       "  --sklearn-color-border-box: var(--sg-text-color, var(--theme-code-foreground, var(--jp-content-font-color1, black)));\n",
       "  --sklearn-color-icon: #696969;\n",
       "\n",
       "  @media (prefers-color-scheme: dark) {\n",
       "    /* Redefinition of color scheme for dark theme */\n",
       "    --sklearn-color-text-on-default-background: var(--sg-text-color, var(--theme-code-foreground, var(--jp-content-font-color1, white)));\n",
       "    --sklearn-color-background: var(--sg-background-color, var(--theme-background, var(--jp-layout-color0, #111)));\n",
       "    --sklearn-color-border-box: var(--sg-text-color, var(--theme-code-foreground, var(--jp-content-font-color1, white)));\n",
       "    --sklearn-color-icon: #878787;\n",
       "  }\n",
       "}\n",
       "\n",
       "#sk-container-id-1 {\n",
       "  color: var(--sklearn-color-text);\n",
       "}\n",
       "\n",
       "#sk-container-id-1 pre {\n",
       "  padding: 0;\n",
       "}\n",
       "\n",
       "#sk-container-id-1 input.sk-hidden--visually {\n",
       "  border: 0;\n",
       "  clip: rect(1px 1px 1px 1px);\n",
       "  clip: rect(1px, 1px, 1px, 1px);\n",
       "  height: 1px;\n",
       "  margin: -1px;\n",
       "  overflow: hidden;\n",
       "  padding: 0;\n",
       "  position: absolute;\n",
       "  width: 1px;\n",
       "}\n",
       "\n",
       "#sk-container-id-1 div.sk-dashed-wrapped {\n",
       "  border: 1px dashed var(--sklearn-color-line);\n",
       "  margin: 0 0.4em 0.5em 0.4em;\n",
       "  box-sizing: border-box;\n",
       "  padding-bottom: 0.4em;\n",
       "  background-color: var(--sklearn-color-background);\n",
       "}\n",
       "\n",
       "#sk-container-id-1 div.sk-container {\n",
       "  /* jupyter's `normalize.less` sets `[hidden] { display: none; }`\n",
       "     but bootstrap.min.css set `[hidden] { display: none !important; }`\n",
       "     so we also need the `!important` here to be able to override the\n",
       "     default hidden behavior on the sphinx rendered scikit-learn.org.\n",
       "     See: https://github.com/scikit-learn/scikit-learn/issues/21755 */\n",
       "  display: inline-block !important;\n",
       "  position: relative;\n",
       "}\n",
       "\n",
       "#sk-container-id-1 div.sk-text-repr-fallback {\n",
       "  display: none;\n",
       "}\n",
       "\n",
       "div.sk-parallel-item,\n",
       "div.sk-serial,\n",
       "div.sk-item {\n",
       "  /* draw centered vertical line to link estimators */\n",
       "  background-image: linear-gradient(var(--sklearn-color-text-on-default-background), var(--sklearn-color-text-on-default-background));\n",
       "  background-size: 2px 100%;\n",
       "  background-repeat: no-repeat;\n",
       "  background-position: center center;\n",
       "}\n",
       "\n",
       "/* Parallel-specific style estimator block */\n",
       "\n",
       "#sk-container-id-1 div.sk-parallel-item::after {\n",
       "  content: \"\";\n",
       "  width: 100%;\n",
       "  border-bottom: 2px solid var(--sklearn-color-text-on-default-background);\n",
       "  flex-grow: 1;\n",
       "}\n",
       "\n",
       "#sk-container-id-1 div.sk-parallel {\n",
       "  display: flex;\n",
       "  align-items: stretch;\n",
       "  justify-content: center;\n",
       "  background-color: var(--sklearn-color-background);\n",
       "  position: relative;\n",
       "}\n",
       "\n",
       "#sk-container-id-1 div.sk-parallel-item {\n",
       "  display: flex;\n",
       "  flex-direction: column;\n",
       "}\n",
       "\n",
       "#sk-container-id-1 div.sk-parallel-item:first-child::after {\n",
       "  align-self: flex-end;\n",
       "  width: 50%;\n",
       "}\n",
       "\n",
       "#sk-container-id-1 div.sk-parallel-item:last-child::after {\n",
       "  align-self: flex-start;\n",
       "  width: 50%;\n",
       "}\n",
       "\n",
       "#sk-container-id-1 div.sk-parallel-item:only-child::after {\n",
       "  width: 0;\n",
       "}\n",
       "\n",
       "/* Serial-specific style estimator block */\n",
       "\n",
       "#sk-container-id-1 div.sk-serial {\n",
       "  display: flex;\n",
       "  flex-direction: column;\n",
       "  align-items: center;\n",
       "  background-color: var(--sklearn-color-background);\n",
       "  padding-right: 1em;\n",
       "  padding-left: 1em;\n",
       "}\n",
       "\n",
       "\n",
       "/* Toggleable style: style used for estimator/Pipeline/ColumnTransformer box that is\n",
       "clickable and can be expanded/collapsed.\n",
       "- Pipeline and ColumnTransformer use this feature and define the default style\n",
       "- Estimators will overwrite some part of the style using the `sk-estimator` class\n",
       "*/\n",
       "\n",
       "/* Pipeline and ColumnTransformer style (default) */\n",
       "\n",
       "#sk-container-id-1 div.sk-toggleable {\n",
       "  /* Default theme specific background. It is overwritten whether we have a\n",
       "  specific estimator or a Pipeline/ColumnTransformer */\n",
       "  background-color: var(--sklearn-color-background);\n",
       "}\n",
       "\n",
       "/* Toggleable label */\n",
       "#sk-container-id-1 label.sk-toggleable__label {\n",
       "  cursor: pointer;\n",
       "  display: block;\n",
       "  width: 100%;\n",
       "  margin-bottom: 0;\n",
       "  padding: 0.5em;\n",
       "  box-sizing: border-box;\n",
       "  text-align: center;\n",
       "}\n",
       "\n",
       "#sk-container-id-1 label.sk-toggleable__label-arrow:before {\n",
       "  /* Arrow on the left of the label */\n",
       "  content: \"▸\";\n",
       "  float: left;\n",
       "  margin-right: 0.25em;\n",
       "  color: var(--sklearn-color-icon);\n",
       "}\n",
       "\n",
       "#sk-container-id-1 label.sk-toggleable__label-arrow:hover:before {\n",
       "  color: var(--sklearn-color-text);\n",
       "}\n",
       "\n",
       "/* Toggleable content - dropdown */\n",
       "\n",
       "#sk-container-id-1 div.sk-toggleable__content {\n",
       "  max-height: 0;\n",
       "  max-width: 0;\n",
       "  overflow: hidden;\n",
       "  text-align: left;\n",
       "  /* unfitted */\n",
       "  background-color: var(--sklearn-color-unfitted-level-0);\n",
       "}\n",
       "\n",
       "#sk-container-id-1 div.sk-toggleable__content.fitted {\n",
       "  /* fitted */\n",
       "  background-color: var(--sklearn-color-fitted-level-0);\n",
       "}\n",
       "\n",
       "#sk-container-id-1 div.sk-toggleable__content pre {\n",
       "  margin: 0.2em;\n",
       "  border-radius: 0.25em;\n",
       "  color: var(--sklearn-color-text);\n",
       "  /* unfitted */\n",
       "  background-color: var(--sklearn-color-unfitted-level-0);\n",
       "}\n",
       "\n",
       "#sk-container-id-1 div.sk-toggleable__content.fitted pre {\n",
       "  /* unfitted */\n",
       "  background-color: var(--sklearn-color-fitted-level-0);\n",
       "}\n",
       "\n",
       "#sk-container-id-1 input.sk-toggleable__control:checked~div.sk-toggleable__content {\n",
       "  /* Expand drop-down */\n",
       "  max-height: 200px;\n",
       "  max-width: 100%;\n",
       "  overflow: auto;\n",
       "}\n",
       "\n",
       "#sk-container-id-1 input.sk-toggleable__control:checked~label.sk-toggleable__label-arrow:before {\n",
       "  content: \"▾\";\n",
       "}\n",
       "\n",
       "/* Pipeline/ColumnTransformer-specific style */\n",
       "\n",
       "#sk-container-id-1 div.sk-label input.sk-toggleable__control:checked~label.sk-toggleable__label {\n",
       "  color: var(--sklearn-color-text);\n",
       "  background-color: var(--sklearn-color-unfitted-level-2);\n",
       "}\n",
       "\n",
       "#sk-container-id-1 div.sk-label.fitted input.sk-toggleable__control:checked~label.sk-toggleable__label {\n",
       "  background-color: var(--sklearn-color-fitted-level-2);\n",
       "}\n",
       "\n",
       "/* Estimator-specific style */\n",
       "\n",
       "/* Colorize estimator box */\n",
       "#sk-container-id-1 div.sk-estimator input.sk-toggleable__control:checked~label.sk-toggleable__label {\n",
       "  /* unfitted */\n",
       "  background-color: var(--sklearn-color-unfitted-level-2);\n",
       "}\n",
       "\n",
       "#sk-container-id-1 div.sk-estimator.fitted input.sk-toggleable__control:checked~label.sk-toggleable__label {\n",
       "  /* fitted */\n",
       "  background-color: var(--sklearn-color-fitted-level-2);\n",
       "}\n",
       "\n",
       "#sk-container-id-1 div.sk-label label.sk-toggleable__label,\n",
       "#sk-container-id-1 div.sk-label label {\n",
       "  /* The background is the default theme color */\n",
       "  color: var(--sklearn-color-text-on-default-background);\n",
       "}\n",
       "\n",
       "/* On hover, darken the color of the background */\n",
       "#sk-container-id-1 div.sk-label:hover label.sk-toggleable__label {\n",
       "  color: var(--sklearn-color-text);\n",
       "  background-color: var(--sklearn-color-unfitted-level-2);\n",
       "}\n",
       "\n",
       "/* Label box, darken color on hover, fitted */\n",
       "#sk-container-id-1 div.sk-label.fitted:hover label.sk-toggleable__label.fitted {\n",
       "  color: var(--sklearn-color-text);\n",
       "  background-color: var(--sklearn-color-fitted-level-2);\n",
       "}\n",
       "\n",
       "/* Estimator label */\n",
       "\n",
       "#sk-container-id-1 div.sk-label label {\n",
       "  font-family: monospace;\n",
       "  font-weight: bold;\n",
       "  display: inline-block;\n",
       "  line-height: 1.2em;\n",
       "}\n",
       "\n",
       "#sk-container-id-1 div.sk-label-container {\n",
       "  text-align: center;\n",
       "}\n",
       "\n",
       "/* Estimator-specific */\n",
       "#sk-container-id-1 div.sk-estimator {\n",
       "  font-family: monospace;\n",
       "  border: 1px dotted var(--sklearn-color-border-box);\n",
       "  border-radius: 0.25em;\n",
       "  box-sizing: border-box;\n",
       "  margin-bottom: 0.5em;\n",
       "  /* unfitted */\n",
       "  background-color: var(--sklearn-color-unfitted-level-0);\n",
       "}\n",
       "\n",
       "#sk-container-id-1 div.sk-estimator.fitted {\n",
       "  /* fitted */\n",
       "  background-color: var(--sklearn-color-fitted-level-0);\n",
       "}\n",
       "\n",
       "/* on hover */\n",
       "#sk-container-id-1 div.sk-estimator:hover {\n",
       "  /* unfitted */\n",
       "  background-color: var(--sklearn-color-unfitted-level-2);\n",
       "}\n",
       "\n",
       "#sk-container-id-1 div.sk-estimator.fitted:hover {\n",
       "  /* fitted */\n",
       "  background-color: var(--sklearn-color-fitted-level-2);\n",
       "}\n",
       "\n",
       "/* Specification for estimator info (e.g. \"i\" and \"?\") */\n",
       "\n",
       "/* Common style for \"i\" and \"?\" */\n",
       "\n",
       ".sk-estimator-doc-link,\n",
       "a:link.sk-estimator-doc-link,\n",
       "a:visited.sk-estimator-doc-link {\n",
       "  float: right;\n",
       "  font-size: smaller;\n",
       "  line-height: 1em;\n",
       "  font-family: monospace;\n",
       "  background-color: var(--sklearn-color-background);\n",
       "  border-radius: 1em;\n",
       "  height: 1em;\n",
       "  width: 1em;\n",
       "  text-decoration: none !important;\n",
       "  margin-left: 1ex;\n",
       "  /* unfitted */\n",
       "  border: var(--sklearn-color-unfitted-level-1) 1pt solid;\n",
       "  color: var(--sklearn-color-unfitted-level-1);\n",
       "}\n",
       "\n",
       ".sk-estimator-doc-link.fitted,\n",
       "a:link.sk-estimator-doc-link.fitted,\n",
       "a:visited.sk-estimator-doc-link.fitted {\n",
       "  /* fitted */\n",
       "  border: var(--sklearn-color-fitted-level-1) 1pt solid;\n",
       "  color: var(--sklearn-color-fitted-level-1);\n",
       "}\n",
       "\n",
       "/* On hover */\n",
       "div.sk-estimator:hover .sk-estimator-doc-link:hover,\n",
       ".sk-estimator-doc-link:hover,\n",
       "div.sk-label-container:hover .sk-estimator-doc-link:hover,\n",
       ".sk-estimator-doc-link:hover {\n",
       "  /* unfitted */\n",
       "  background-color: var(--sklearn-color-unfitted-level-3);\n",
       "  color: var(--sklearn-color-background);\n",
       "  text-decoration: none;\n",
       "}\n",
       "\n",
       "div.sk-estimator.fitted:hover .sk-estimator-doc-link.fitted:hover,\n",
       ".sk-estimator-doc-link.fitted:hover,\n",
       "div.sk-label-container:hover .sk-estimator-doc-link.fitted:hover,\n",
       ".sk-estimator-doc-link.fitted:hover {\n",
       "  /* fitted */\n",
       "  background-color: var(--sklearn-color-fitted-level-3);\n",
       "  color: var(--sklearn-color-background);\n",
       "  text-decoration: none;\n",
       "}\n",
       "\n",
       "/* Span, style for the box shown on hovering the info icon */\n",
       ".sk-estimator-doc-link span {\n",
       "  display: none;\n",
       "  z-index: 9999;\n",
       "  position: relative;\n",
       "  font-weight: normal;\n",
       "  right: .2ex;\n",
       "  padding: .5ex;\n",
       "  margin: .5ex;\n",
       "  width: min-content;\n",
       "  min-width: 20ex;\n",
       "  max-width: 50ex;\n",
       "  color: var(--sklearn-color-text);\n",
       "  box-shadow: 2pt 2pt 4pt #999;\n",
       "  /* unfitted */\n",
       "  background: var(--sklearn-color-unfitted-level-0);\n",
       "  border: .5pt solid var(--sklearn-color-unfitted-level-3);\n",
       "}\n",
       "\n",
       ".sk-estimator-doc-link.fitted span {\n",
       "  /* fitted */\n",
       "  background: var(--sklearn-color-fitted-level-0);\n",
       "  border: var(--sklearn-color-fitted-level-3);\n",
       "}\n",
       "\n",
       ".sk-estimator-doc-link:hover span {\n",
       "  display: block;\n",
       "}\n",
       "\n",
       "/* \"?\"-specific style due to the `<a>` HTML tag */\n",
       "\n",
       "#sk-container-id-1 a.estimator_doc_link {\n",
       "  float: right;\n",
       "  font-size: 1rem;\n",
       "  line-height: 1em;\n",
       "  font-family: monospace;\n",
       "  background-color: var(--sklearn-color-background);\n",
       "  border-radius: 1rem;\n",
       "  height: 1rem;\n",
       "  width: 1rem;\n",
       "  text-decoration: none;\n",
       "  /* unfitted */\n",
       "  color: var(--sklearn-color-unfitted-level-1);\n",
       "  border: var(--sklearn-color-unfitted-level-1) 1pt solid;\n",
       "}\n",
       "\n",
       "#sk-container-id-1 a.estimator_doc_link.fitted {\n",
       "  /* fitted */\n",
       "  border: var(--sklearn-color-fitted-level-1) 1pt solid;\n",
       "  color: var(--sklearn-color-fitted-level-1);\n",
       "}\n",
       "\n",
       "/* On hover */\n",
       "#sk-container-id-1 a.estimator_doc_link:hover {\n",
       "  /* unfitted */\n",
       "  background-color: var(--sklearn-color-unfitted-level-3);\n",
       "  color: var(--sklearn-color-background);\n",
       "  text-decoration: none;\n",
       "}\n",
       "\n",
       "#sk-container-id-1 a.estimator_doc_link.fitted:hover {\n",
       "  /* fitted */\n",
       "  background-color: var(--sklearn-color-fitted-level-3);\n",
       "}\n",
       "</style><div id=\"sk-container-id-1\" class=\"sk-top-container\"><div class=\"sk-text-repr-fallback\"><pre>LinearRegression()</pre><b>In a Jupyter environment, please rerun this cell to show the HTML representation or trust the notebook. <br />On GitHub, the HTML representation is unable to render, please try loading this page with nbviewer.org.</b></div><div class=\"sk-container\" hidden><div class=\"sk-item\"><div class=\"sk-estimator fitted sk-toggleable\"><input class=\"sk-toggleable__control sk-hidden--visually\" id=\"sk-estimator-id-1\" type=\"checkbox\" checked><label for=\"sk-estimator-id-1\" class=\"sk-toggleable__label fitted sk-toggleable__label-arrow fitted\">&nbsp;&nbsp;LinearRegression<a class=\"sk-estimator-doc-link fitted\" rel=\"noreferrer\" target=\"_blank\" href=\"https://scikit-learn.org/1.4/modules/generated/sklearn.linear_model.LinearRegression.html\">?<span>Documentation for LinearRegression</span></a><span class=\"sk-estimator-doc-link fitted\">i<span>Fitted</span></span></label><div class=\"sk-toggleable__content fitted\"><pre>LinearRegression()</pre></div> </div></div></div></div>"
      ],
      "text/plain": [
       "LinearRegression()"
      ]
     },
     "execution_count": 14,
     "metadata": {},
     "output_type": "execute_result"
    }
   ],
   "source": [
    "# 선형회귀 모델로 Baseline 모델 생성\n",
    "lr = LinearRegression()\n",
    "lr.fit(X_train, y_train)"
   ]
  },
  {
   "cell_type": "code",
   "execution_count": 15,
   "metadata": {},
   "outputs": [
    {
     "name": "stdout",
     "output_type": "stream",
     "text": [
      "Intercept:  324171317.3954841\n",
      "Coefficients:\n"
     ]
    },
    {
     "data": {
      "text/plain": [
       "[('player_name', 0.6101697720331758),\n",
       " ('start_season', -161838.8986509133),\n",
       " ('goals', 696190.4201552332),\n",
       " ('assists', 582234.7316274208),\n",
       " ('minutes_played', 1781.6376126028263),\n",
       " ('competition_code', 0.16424877266399562),\n",
       " ('age', -266298.47124338127),\n",
       " ('position', 0.09917036612296215),\n",
       " ('current_club_name', 0.3833206740382593),\n",
       " ('country', 0.03840035917892237),\n",
       " ('foot', -0.4552673874686235),\n",
       " ('height_in_cm', 35649.03458529093)]"
      ]
     },
     "execution_count": 15,
     "metadata": {},
     "output_type": "execute_result"
    }
   ],
   "source": [
    "# Baseline 모델 절편, 결정 계수 확인\n",
    "\n",
    "print(\"Intercept: \", lr.intercept_)\n",
    "print(\"Coefficients:\")\n",
    "list(zip(X_train, lr.coef_))"
   ]
  },
  {
   "cell_type": "code",
   "execution_count": 16,
   "metadata": {},
   "outputs": [],
   "source": [
    "def baseline_model(model_name, model):\n",
    "    baseline_results = []\n",
    "\n",
    "    print(f\"\\n====== Baseline Model : {model_name} ======\")\n",
    "    \n",
    "    # 모델 생성 및 훈련\n",
    "    # model.fit(X_train, y_train)\n",
    "\n",
    "    # Baseline 모델로 train, validation, test 데이터셋 예측\n",
    "    y_train_pred_lr = model.predict(X_train)\n",
    "    y_val_pred_lr = model.predict(X_val)\n",
    "    y_test_pred_lr = model.predict(X_test)\n",
    "\n",
    "    # Baseline 모델의 MAE, MSE, RMSE, R2 score 확인\n",
    "    base_meanAbErr = metrics.mean_absolute_error(y_test, y_test_pred_lr)\n",
    "    base_meanSqErr = metrics.mean_squared_error(y_test, y_test_pred_lr)\n",
    "    # base_rootMeanSqErr = np.sqrt(metrics.mean_squared_error(y_test, y_test_pred_lr))\n",
    "    base_rootMeanSqErr = metrics.mean_squared_error(y_test, y_test_pred_lr, squared=False)\n",
    "\n",
    "\n",
    "    # 결과를 리스트에 저장\n",
    "    baseline_results.append({\"Model\" : model_name,\n",
    "                             \"MAE\" : '{:.2f}'.format(base_meanAbErr),\n",
    "                             \"MSE\" : '{:.2f}'.format(base_meanSqErr),\n",
    "                             \"RMSE\" : '{:.2f}'.format(base_rootMeanSqErr),\n",
    "                             \"R2 Score\" : '{:.2f}'.format(model.score(X_test, y_test))})\n",
    "    \n",
    "    # 결과 리스트를 DataFrame으로 변환\n",
    "    baseline_df = pd.DataFrame(baseline_results)\n",
    "    \n",
    "    return baseline_df"
   ]
  },
  {
   "cell_type": "code",
   "execution_count": 17,
   "metadata": {},
   "outputs": [
    {
     "name": "stdout",
     "output_type": "stream",
     "text": [
      "\n",
      "====== Baseline Model : Linear Regression ======\n"
     ]
    },
    {
     "data": {
      "text/html": [
       "<div>\n",
       "<style scoped>\n",
       "    .dataframe tbody tr th:only-of-type {\n",
       "        vertical-align: middle;\n",
       "    }\n",
       "\n",
       "    .dataframe tbody tr th {\n",
       "        vertical-align: top;\n",
       "    }\n",
       "\n",
       "    .dataframe thead th {\n",
       "        text-align: right;\n",
       "    }\n",
       "</style>\n",
       "<table border=\"1\" class=\"dataframe\">\n",
       "  <thead>\n",
       "    <tr style=\"text-align: right;\">\n",
       "      <th></th>\n",
       "      <th>Model</th>\n",
       "      <th>MAE</th>\n",
       "      <th>MSE</th>\n",
       "      <th>RMSE</th>\n",
       "      <th>R2 Score</th>\n",
       "    </tr>\n",
       "  </thead>\n",
       "  <tbody>\n",
       "    <tr>\n",
       "      <th>0</th>\n",
       "      <td>Linear Regression</td>\n",
       "      <td>5359661.96</td>\n",
       "      <td>94541045509067.61</td>\n",
       "      <td>9723221.97</td>\n",
       "      <td>0.65</td>\n",
       "    </tr>\n",
       "  </tbody>\n",
       "</table>\n",
       "</div>"
      ],
      "text/plain": [
       "               Model         MAE                MSE        RMSE R2 Score\n",
       "0  Linear Regression  5359661.96  94541045509067.61  9723221.97     0.65"
      ]
     },
     "execution_count": 17,
     "metadata": {},
     "output_type": "execute_result"
    }
   ],
   "source": [
    "baseline_model(\"Linear Regression\", lr)"
   ]
  },
  {
   "cell_type": "markdown",
   "metadata": {},
   "source": [
    "## 스케일링\n",
    "- 데이터셋의 다양한 컬럼들에 이상치 다수 존재\n",
    "    - 하지만 축구라는 스포츠의 특성 상, 득점, 도움, 시장 가치 등 몇몇의 특출난 선수들의 스탯이 도드라진다\n",
    "    - 따라서 이상치 제거하지 않음\n",
    "- `RobustScaler` 선택 (이상치의 영향 최소화)\n",
    "- References\n",
    "    - https://cheris8.github.io/data%20analysis/DP-Data-Scaling/"
   ]
  },
  {
   "cell_type": "markdown",
   "metadata": {},
   "source": [
    "### `RobustScaling`\n",
    "- 데이터의 중앙값 = 0, IQE = 1이 되도록 스케일링\n",
    "    - IQR = Q3 - Q1 : 25퍼센타일과 75퍼센타일의 값들\n",
    "- 중앙값 (Median)과 IQR (Interquartile Range) 사용\n",
    "    - `RobustScaler`를 사용할 경우, `StandardScaler`에 비해 스케일링 결과가 더 넓게 분포\n",
    "- 모든 feature들이 같은 스케일을 갖는다\n",
    "- 이상치의 영향을 최소화 한다"
   ]
  },
  {
   "cell_type": "code",
   "execution_count": 18,
   "metadata": {},
   "outputs": [],
   "source": [
    "# RobustScaler X_train 데이터셋에 fit\n",
    "robustScaler = RobustScaler().fit(X_train)\n",
    "\n",
    "# RobustScaler로 X_train, X_val, X_test 데이터셋 변환\n",
    "X_train_robust = robustScaler.transform(X_train)\n",
    "X_val_robust = robustScaler.transform(X_val)\n",
    "X_test_robust = robustScaler.transform(X_test)"
   ]
  },
  {
   "cell_type": "code",
   "execution_count": 19,
   "metadata": {},
   "outputs": [],
   "source": [
    "# num_cols = df.drop(columns=target).select_dtypes(include=np.number).columns.tolist()\n",
    "\n",
    "# # catboost 사용하기 위한 scaling 따로 실시 (별도의 encoding 거치지 않고 스케일링)\n",
    "\n",
    "# robustScaler_no_enc = RobustScaler().fit(X_train_no_enc[num_cols])\n",
    "\n",
    "# # RobustScaler로 X_train_no_enc, X_val_no_enc, X_test_no_enc 데이터셋 변환\n",
    "# X_train_robust_no_enc = robustScaler_no_enc.transform(X_train_no_enc[num_cols])\n",
    "# X_val_robust_no_enc = robustScaler_no_enc.transform(X_val_no_enc[num_cols])\n",
    "# X_test_robust_no_enc = robustScaler_no_enc.transform(X_test_no_enc[num_cols])"
   ]
  },
  {
   "cell_type": "markdown",
   "metadata": {},
   "source": [
    "## 머신러닝 모델링"
   ]
  },
  {
   "cell_type": "markdown",
   "metadata": {},
   "source": [
    "### 하이퍼 파라미터 튜닝 전 모델 생성"
   ]
  },
  {
   "cell_type": "code",
   "execution_count": 20,
   "metadata": {},
   "outputs": [],
   "source": [
    "model_list = [\"lr_model\", \"dt_model\", \"rf_model\", \"cat_model\", \"lgbm_model\", \"xgb_model\"]\n",
    "\n",
    "lr_model = LinearRegression()\n",
    "dt_model = DecisionTreeRegressor(random_state=42)\n",
    "rf_model = RandomForestRegressor(random_state=42)\n",
    "cat_model = CatBoostRegressor(random_state=42)\n",
    "lgbm_model = LGBMRegressor(random_state=42)\n",
    "xgb_model = XGBRegressor(random_state=42)"
   ]
  },
  {
   "cell_type": "code",
   "execution_count": 21,
   "metadata": {},
   "outputs": [],
   "source": [
    "models = [\n",
    "    (\"Linear Regression\", LinearRegression()),\n",
    "    (\"Decision Tree\", DecisionTreeRegressor(random_state=42)),\n",
    "    (\"Random Forest\", RandomForestRegressor(random_state=42)),\n",
    "    (\"CatBoost\", CatBoostRegressor(random_state=42)),\n",
    "    (\"LightGBM\", LGBMRegressor(random_state=42)),\n",
    "    (\"XGBoost\", XGBRegressor(random_state=42))\n",
    "]"
   ]
  },
  {
   "cell_type": "code",
   "execution_count": 22,
   "metadata": {},
   "outputs": [],
   "source": [
    "def model_list(models, when=\"Before\"):\n",
    "    models_results = []\n",
    "\n",
    "    for model_name, model in models:\n",
    "\n",
    "        # 모델 생성 및 훈련\n",
    "        model.fit(X_train_robust, y_train)\n",
    "\n",
    "        # Robust Scaling 거친 train 데이터를 바탕으로 예측\n",
    "        y_train_pred = model.predict(X_train_robust)\n",
    "        y_val_pred = model.predict(X_val_robust)\n",
    "        y_test_pred = model.predict(X_test_robust)\n",
    "\n",
    "        # 모델의 MAE, MSE, RMSE, R2 score 확인\n",
    "        meanAbErr = metrics.mean_absolute_error(y_test, y_test_pred)\n",
    "        meanSqErr = metrics.mean_squared_error(y_test, y_test_pred)\n",
    "        # rootMeanSqErr = np.sqrt(metrics.mean_squared_error(y_test, y_test_pred))\n",
    "        rootMeanSqErr = metrics.mean_squared_error(y_test, y_test_pred, squared=False)\n",
    "\n",
    "\n",
    "        # 결과를 리스트에 저장\n",
    "        models_results.append({\"Model\" : model_name,\n",
    "                                \"MAE\" : '{:.2f}'.format(meanAbErr),\n",
    "                                \"MSE\" : '{:.2f}'.format(meanSqErr),\n",
    "                                \"RMSE\" : '{:.2f}'.format(rootMeanSqErr),\n",
    "                                \"R2 Score\" : '{:.2f}'.format(model.score(X_test_robust, y_test))})\n",
    "    \n",
    "    # 결과 리스트를 DataFrame으로 변환\n",
    "    models_df = pd.DataFrame(models_results)\n",
    "\n",
    "    print(f\"\\n====== Models {when} Hyper Parameter Tuning ======\")\n",
    "    \n",
    "    return models_df.sort_values(by=[\"R2 Score\", \"RMSE\"], ascending=[False, True]).reset_index(drop=True)\n",
    "\n"
   ]
  },
  {
   "cell_type": "code",
   "execution_count": 23,
   "metadata": {},
   "outputs": [
    {
     "name": "stdout",
     "output_type": "stream",
     "text": [
      "Learning rate set to 0.059332\n",
      "0:\tlearn: 13550922.0706726\ttotal: 145ms\tremaining: 2m 25s\n",
      "1:\tlearn: 13052837.5047920\ttotal: 148ms\tremaining: 1m 13s\n",
      "2:\tlearn: 12599574.3433455\ttotal: 150ms\tremaining: 50s\n",
      "3:\tlearn: 12163526.8579833\ttotal: 153ms\tremaining: 38.2s\n",
      "4:\tlearn: 11772495.7394067\ttotal: 156ms\tremaining: 31s\n",
      "5:\tlearn: 11390803.1619380\ttotal: 159ms\tremaining: 26.3s\n",
      "6:\tlearn: 11045658.2115640\ttotal: 161ms\tremaining: 22.9s\n",
      "7:\tlearn: 10747094.2789580\ttotal: 164ms\tremaining: 20.3s\n",
      "8:\tlearn: 10429846.1959363\ttotal: 166ms\tremaining: 18.3s\n",
      "9:\tlearn: 10164570.9447996\ttotal: 169ms\tremaining: 16.7s\n",
      "10:\tlearn: 9906779.7756777\ttotal: 171ms\tremaining: 15.4s\n",
      "11:\tlearn: 9653419.0133652\ttotal: 174ms\tremaining: 14.3s\n",
      "12:\tlearn: 9405765.1039110\ttotal: 177ms\tremaining: 13.4s\n",
      "13:\tlearn: 9181768.1032199\ttotal: 179ms\tremaining: 12.6s\n",
      "14:\tlearn: 8966410.4711742\ttotal: 182ms\tremaining: 12s\n",
      "15:\tlearn: 8794076.2650401\ttotal: 185ms\tremaining: 11.3s\n",
      "16:\tlearn: 8633652.6708913\ttotal: 187ms\tremaining: 10.8s\n",
      "17:\tlearn: 8499680.4266543\ttotal: 190ms\tremaining: 10.4s\n",
      "18:\tlearn: 8348431.7106229\ttotal: 193ms\tremaining: 9.94s\n",
      "19:\tlearn: 8225383.7960515\ttotal: 195ms\tremaining: 9.57s\n",
      "20:\tlearn: 8084685.0544317\ttotal: 198ms\tremaining: 9.22s\n",
      "21:\tlearn: 7956720.2475017\ttotal: 201ms\tremaining: 8.92s\n",
      "22:\tlearn: 7834335.7400083\ttotal: 204ms\tremaining: 8.64s\n",
      "23:\tlearn: 7740987.2157513\ttotal: 207ms\tremaining: 8.41s\n",
      "24:\tlearn: 7633007.3862441\ttotal: 210ms\tremaining: 8.18s\n",
      "25:\tlearn: 7539126.4345733\ttotal: 212ms\tremaining: 7.95s\n",
      "26:\tlearn: 7457946.5176675\ttotal: 215ms\tremaining: 7.76s\n",
      "27:\tlearn: 7378184.7114295\ttotal: 218ms\tremaining: 7.57s\n",
      "28:\tlearn: 7302621.0882336\ttotal: 221ms\tremaining: 7.38s\n",
      "29:\tlearn: 7227755.9756012\ttotal: 223ms\tremaining: 7.22s\n",
      "30:\tlearn: 7159211.3350019\ttotal: 226ms\tremaining: 7.06s\n",
      "31:\tlearn: 7098667.7634550\ttotal: 229ms\tremaining: 6.91s\n",
      "32:\tlearn: 7042200.3556945\ttotal: 231ms\tremaining: 6.77s\n",
      "33:\tlearn: 6981726.9717483\ttotal: 234ms\tremaining: 6.64s\n",
      "34:\tlearn: 6933223.8271061\ttotal: 236ms\tremaining: 6.51s\n",
      "35:\tlearn: 6888202.7522828\ttotal: 239ms\tremaining: 6.4s\n",
      "36:\tlearn: 6844876.5652102\ttotal: 242ms\tremaining: 6.29s\n",
      "37:\tlearn: 6792885.3685138\ttotal: 244ms\tremaining: 6.19s\n",
      "38:\tlearn: 6737453.0286763\ttotal: 247ms\tremaining: 6.09s\n",
      "39:\tlearn: 6685785.0154930\ttotal: 250ms\tremaining: 5.99s\n",
      "40:\tlearn: 6647168.1224259\ttotal: 252ms\tremaining: 5.9s\n",
      "41:\tlearn: 6609649.1413393\ttotal: 255ms\tremaining: 5.81s\n",
      "42:\tlearn: 6575371.9842719\ttotal: 257ms\tremaining: 5.72s\n",
      "43:\tlearn: 6544179.8691566\ttotal: 260ms\tremaining: 5.65s\n",
      "44:\tlearn: 6507057.5895233\ttotal: 262ms\tremaining: 5.57s\n",
      "45:\tlearn: 6476029.1938539\ttotal: 265ms\tremaining: 5.49s\n",
      "46:\tlearn: 6444486.7628924\ttotal: 267ms\tremaining: 5.42s\n",
      "47:\tlearn: 6418224.8184274\ttotal: 270ms\tremaining: 5.36s\n",
      "48:\tlearn: 6397600.5439637\ttotal: 273ms\tremaining: 5.29s\n",
      "49:\tlearn: 6375830.4134429\ttotal: 275ms\tremaining: 5.23s\n",
      "50:\tlearn: 6349360.6221349\ttotal: 278ms\tremaining: 5.17s\n",
      "51:\tlearn: 6323950.7576549\ttotal: 280ms\tremaining: 5.11s\n",
      "52:\tlearn: 6306331.6027882\ttotal: 283ms\tremaining: 5.05s\n",
      "53:\tlearn: 6273160.9562733\ttotal: 285ms\tremaining: 5s\n",
      "54:\tlearn: 6255170.8742649\ttotal: 288ms\tremaining: 4.95s\n",
      "55:\tlearn: 6238998.5549020\ttotal: 290ms\tremaining: 4.89s\n",
      "56:\tlearn: 6221136.7723909\ttotal: 293ms\tremaining: 4.84s\n",
      "57:\tlearn: 6199053.9911350\ttotal: 295ms\tremaining: 4.79s\n",
      "58:\tlearn: 6182464.6729537\ttotal: 298ms\tremaining: 4.75s\n",
      "59:\tlearn: 6155786.7835840\ttotal: 300ms\tremaining: 4.7s\n",
      "60:\tlearn: 6132958.8416921\ttotal: 303ms\tremaining: 4.66s\n",
      "61:\tlearn: 6114135.5859090\ttotal: 305ms\tremaining: 4.62s\n",
      "62:\tlearn: 6096706.4589301\ttotal: 308ms\tremaining: 4.58s\n",
      "63:\tlearn: 6075437.2421108\ttotal: 310ms\tremaining: 4.54s\n",
      "64:\tlearn: 6063808.1519284\ttotal: 313ms\tremaining: 4.5s\n",
      "65:\tlearn: 6048532.9426077\ttotal: 316ms\tremaining: 4.46s\n",
      "66:\tlearn: 6031768.1486230\ttotal: 319ms\tremaining: 4.43s\n",
      "67:\tlearn: 6017890.3332130\ttotal: 322ms\tremaining: 4.41s\n",
      "68:\tlearn: 6002518.2230480\ttotal: 324ms\tremaining: 4.38s\n",
      "69:\tlearn: 5993124.7155846\ttotal: 327ms\tremaining: 4.35s\n",
      "70:\tlearn: 5974893.5397431\ttotal: 330ms\tremaining: 4.32s\n",
      "71:\tlearn: 5954190.1561943\ttotal: 333ms\tremaining: 4.29s\n",
      "72:\tlearn: 5940967.3255162\ttotal: 336ms\tremaining: 4.26s\n",
      "73:\tlearn: 5933160.9653942\ttotal: 338ms\tremaining: 4.23s\n",
      "74:\tlearn: 5920063.5203064\ttotal: 340ms\tremaining: 4.2s\n",
      "75:\tlearn: 5909970.0579919\ttotal: 343ms\tremaining: 4.17s\n",
      "76:\tlearn: 5903415.8013646\ttotal: 345ms\tremaining: 4.14s\n",
      "77:\tlearn: 5897632.2988208\ttotal: 348ms\tremaining: 4.11s\n",
      "78:\tlearn: 5889202.7374439\ttotal: 350ms\tremaining: 4.08s\n",
      "79:\tlearn: 5880276.1200362\ttotal: 353ms\tremaining: 4.06s\n",
      "80:\tlearn: 5873154.8614669\ttotal: 355ms\tremaining: 4.03s\n",
      "81:\tlearn: 5864049.2844843\ttotal: 358ms\tremaining: 4.01s\n",
      "82:\tlearn: 5856106.6918215\ttotal: 360ms\tremaining: 3.98s\n",
      "83:\tlearn: 5842294.4427064\ttotal: 363ms\tremaining: 3.96s\n",
      "84:\tlearn: 5824781.5359210\ttotal: 366ms\tremaining: 3.93s\n",
      "85:\tlearn: 5814119.2229071\ttotal: 368ms\tremaining: 3.91s\n",
      "86:\tlearn: 5800343.7723328\ttotal: 371ms\tremaining: 3.89s\n",
      "87:\tlearn: 5788024.0782728\ttotal: 373ms\tremaining: 3.87s\n",
      "88:\tlearn: 5780771.7207484\ttotal: 376ms\tremaining: 3.85s\n",
      "89:\tlearn: 5772607.9023812\ttotal: 378ms\tremaining: 3.83s\n",
      "90:\tlearn: 5762822.2712336\ttotal: 381ms\tremaining: 3.81s\n",
      "91:\tlearn: 5756419.9650328\ttotal: 383ms\tremaining: 3.78s\n",
      "92:\tlearn: 5751802.0375449\ttotal: 386ms\tremaining: 3.77s\n",
      "93:\tlearn: 5745099.0348552\ttotal: 389ms\tremaining: 3.75s\n",
      "94:\tlearn: 5737038.7593380\ttotal: 391ms\tremaining: 3.73s\n",
      "95:\tlearn: 5730078.1167094\ttotal: 394ms\tremaining: 3.71s\n",
      "96:\tlearn: 5719699.6765547\ttotal: 396ms\tremaining: 3.69s\n",
      "97:\tlearn: 5713653.5117525\ttotal: 399ms\tremaining: 3.67s\n",
      "98:\tlearn: 5703554.7120146\ttotal: 402ms\tremaining: 3.65s\n",
      "99:\tlearn: 5693237.6567623\ttotal: 404ms\tremaining: 3.64s\n",
      "100:\tlearn: 5689029.8038165\ttotal: 407ms\tremaining: 3.62s\n",
      "101:\tlearn: 5676715.7506378\ttotal: 409ms\tremaining: 3.6s\n",
      "102:\tlearn: 5668863.3532838\ttotal: 412ms\tremaining: 3.59s\n",
      "103:\tlearn: 5661094.2799977\ttotal: 414ms\tremaining: 3.57s\n",
      "104:\tlearn: 5650702.1477975\ttotal: 418ms\tremaining: 3.56s\n",
      "105:\tlearn: 5645790.8614259\ttotal: 420ms\tremaining: 3.54s\n",
      "106:\tlearn: 5638416.2737434\ttotal: 423ms\tremaining: 3.53s\n",
      "107:\tlearn: 5627893.2158847\ttotal: 425ms\tremaining: 3.51s\n",
      "108:\tlearn: 5622024.6286066\ttotal: 428ms\tremaining: 3.5s\n",
      "109:\tlearn: 5616752.8146630\ttotal: 430ms\tremaining: 3.48s\n",
      "110:\tlearn: 5610787.6475652\ttotal: 433ms\tremaining: 3.47s\n",
      "111:\tlearn: 5603502.3328222\ttotal: 436ms\tremaining: 3.46s\n",
      "112:\tlearn: 5595627.7314627\ttotal: 439ms\tremaining: 3.44s\n",
      "113:\tlearn: 5583133.5063043\ttotal: 441ms\tremaining: 3.43s\n",
      "114:\tlearn: 5577636.2924925\ttotal: 444ms\tremaining: 3.41s\n",
      "115:\tlearn: 5573685.8101075\ttotal: 446ms\tremaining: 3.4s\n",
      "116:\tlearn: 5568549.1635255\ttotal: 449ms\tremaining: 3.39s\n",
      "117:\tlearn: 5562622.1692919\ttotal: 452ms\tremaining: 3.38s\n",
      "118:\tlearn: 5559971.4612128\ttotal: 454ms\tremaining: 3.36s\n",
      "119:\tlearn: 5554538.4028365\ttotal: 456ms\tremaining: 3.35s\n",
      "120:\tlearn: 5547754.4539070\ttotal: 459ms\tremaining: 3.33s\n",
      "121:\tlearn: 5544045.4023743\ttotal: 461ms\tremaining: 3.32s\n",
      "122:\tlearn: 5533993.3088352\ttotal: 464ms\tremaining: 3.31s\n",
      "123:\tlearn: 5527364.6321522\ttotal: 466ms\tremaining: 3.29s\n",
      "124:\tlearn: 5517291.3190385\ttotal: 469ms\tremaining: 3.28s\n",
      "125:\tlearn: 5513421.6542624\ttotal: 471ms\tremaining: 3.27s\n",
      "126:\tlearn: 5502714.3260615\ttotal: 474ms\tremaining: 3.26s\n",
      "127:\tlearn: 5498415.8047559\ttotal: 476ms\tremaining: 3.25s\n",
      "128:\tlearn: 5492590.4424545\ttotal: 479ms\tremaining: 3.23s\n",
      "129:\tlearn: 5486968.1617414\ttotal: 482ms\tremaining: 3.22s\n",
      "130:\tlearn: 5480169.6304938\ttotal: 484ms\tremaining: 3.21s\n",
      "131:\tlearn: 5476939.7271562\ttotal: 486ms\tremaining: 3.2s\n",
      "132:\tlearn: 5470964.5707745\ttotal: 489ms\tremaining: 3.19s\n",
      "133:\tlearn: 5468091.9489213\ttotal: 491ms\tremaining: 3.18s\n",
      "134:\tlearn: 5461544.8377484\ttotal: 494ms\tremaining: 3.17s\n",
      "135:\tlearn: 5457265.0807839\ttotal: 497ms\tremaining: 3.16s\n",
      "136:\tlearn: 5446240.6050777\ttotal: 499ms\tremaining: 3.15s\n",
      "137:\tlearn: 5440674.4255647\ttotal: 502ms\tremaining: 3.13s\n",
      "138:\tlearn: 5431550.8312608\ttotal: 504ms\tremaining: 3.12s\n",
      "139:\tlearn: 5430043.1072691\ttotal: 507ms\tremaining: 3.11s\n",
      "140:\tlearn: 5423273.0494401\ttotal: 509ms\tremaining: 3.1s\n",
      "141:\tlearn: 5417234.6572247\ttotal: 512ms\tremaining: 3.09s\n",
      "142:\tlearn: 5415139.6217693\ttotal: 515ms\tremaining: 3.08s\n",
      "143:\tlearn: 5412102.2483899\ttotal: 517ms\tremaining: 3.07s\n",
      "144:\tlearn: 5405443.1203103\ttotal: 519ms\tremaining: 3.06s\n",
      "145:\tlearn: 5398552.1793323\ttotal: 522ms\tremaining: 3.05s\n",
      "146:\tlearn: 5389493.5867916\ttotal: 524ms\tremaining: 3.04s\n",
      "147:\tlearn: 5381481.8922037\ttotal: 527ms\tremaining: 3.03s\n",
      "148:\tlearn: 5378539.7854130\ttotal: 529ms\tremaining: 3.02s\n",
      "149:\tlearn: 5375401.8595846\ttotal: 532ms\tremaining: 3.01s\n",
      "150:\tlearn: 5369508.1128834\ttotal: 534ms\tremaining: 3s\n",
      "151:\tlearn: 5366396.1253843\ttotal: 537ms\tremaining: 2.99s\n",
      "152:\tlearn: 5361232.6768832\ttotal: 539ms\tremaining: 2.98s\n",
      "153:\tlearn: 5357328.6625922\ttotal: 542ms\tremaining: 2.97s\n",
      "154:\tlearn: 5353319.4837515\ttotal: 544ms\tremaining: 2.96s\n",
      "155:\tlearn: 5347808.3426650\ttotal: 547ms\tremaining: 2.96s\n",
      "156:\tlearn: 5339466.9120551\ttotal: 549ms\tremaining: 2.95s\n",
      "157:\tlearn: 5334980.0283516\ttotal: 552ms\tremaining: 2.94s\n",
      "158:\tlearn: 5328098.5029274\ttotal: 555ms\tremaining: 2.94s\n",
      "159:\tlearn: 5320281.5285409\ttotal: 558ms\tremaining: 2.93s\n",
      "160:\tlearn: 5315648.1874856\ttotal: 561ms\tremaining: 2.92s\n",
      "161:\tlearn: 5310940.1074873\ttotal: 564ms\tremaining: 2.92s\n",
      "162:\tlearn: 5305373.2968943\ttotal: 567ms\tremaining: 2.91s\n",
      "163:\tlearn: 5298309.5312189\ttotal: 569ms\tremaining: 2.9s\n",
      "164:\tlearn: 5294589.3042423\ttotal: 572ms\tremaining: 2.89s\n",
      "165:\tlearn: 5287727.4768434\ttotal: 574ms\tremaining: 2.88s\n",
      "166:\tlearn: 5276724.5842811\ttotal: 577ms\tremaining: 2.88s\n",
      "167:\tlearn: 5271470.1795909\ttotal: 579ms\tremaining: 2.87s\n",
      "168:\tlearn: 5264347.2240255\ttotal: 582ms\tremaining: 2.86s\n",
      "169:\tlearn: 5260179.9214588\ttotal: 584ms\tremaining: 2.85s\n",
      "170:\tlearn: 5256572.0938597\ttotal: 587ms\tremaining: 2.84s\n",
      "171:\tlearn: 5247759.3980419\ttotal: 589ms\tremaining: 2.84s\n",
      "172:\tlearn: 5246527.1773410\ttotal: 592ms\tremaining: 2.83s\n",
      "173:\tlearn: 5239422.4866132\ttotal: 595ms\tremaining: 2.82s\n",
      "174:\tlearn: 5234112.5376547\ttotal: 597ms\tremaining: 2.81s\n",
      "175:\tlearn: 5228432.4394102\ttotal: 600ms\tremaining: 2.81s\n",
      "176:\tlearn: 5219813.0834188\ttotal: 602ms\tremaining: 2.8s\n",
      "177:\tlearn: 5211833.3124521\ttotal: 604ms\tremaining: 2.79s\n",
      "178:\tlearn: 5206295.2071170\ttotal: 608ms\tremaining: 2.79s\n",
      "179:\tlearn: 5199162.3217848\ttotal: 612ms\tremaining: 2.79s\n",
      "180:\tlearn: 5191028.5296221\ttotal: 616ms\tremaining: 2.79s\n",
      "181:\tlearn: 5186761.8906148\ttotal: 619ms\tremaining: 2.78s\n",
      "182:\tlearn: 5177517.9720378\ttotal: 622ms\tremaining: 2.77s\n",
      "183:\tlearn: 5175226.4283993\ttotal: 624ms\tremaining: 2.77s\n",
      "184:\tlearn: 5171379.1778969\ttotal: 627ms\tremaining: 2.76s\n",
      "185:\tlearn: 5162736.0539485\ttotal: 630ms\tremaining: 2.75s\n",
      "186:\tlearn: 5158226.1149034\ttotal: 632ms\tremaining: 2.75s\n",
      "187:\tlearn: 5154546.8272105\ttotal: 635ms\tremaining: 2.74s\n",
      "188:\tlearn: 5152488.0238712\ttotal: 638ms\tremaining: 2.74s\n",
      "189:\tlearn: 5148275.1996827\ttotal: 641ms\tremaining: 2.73s\n",
      "190:\tlearn: 5145932.8629574\ttotal: 644ms\tremaining: 2.73s\n",
      "191:\tlearn: 5139471.8698471\ttotal: 646ms\tremaining: 2.72s\n",
      "192:\tlearn: 5131462.4610333\ttotal: 649ms\tremaining: 2.71s\n",
      "193:\tlearn: 5124194.9114723\ttotal: 652ms\tremaining: 2.71s\n",
      "194:\tlearn: 5119775.1199978\ttotal: 654ms\tremaining: 2.7s\n",
      "195:\tlearn: 5119323.4551639\ttotal: 657ms\tremaining: 2.7s\n",
      "196:\tlearn: 5114998.8615067\ttotal: 660ms\tremaining: 2.69s\n",
      "197:\tlearn: 5109396.0504543\ttotal: 663ms\tremaining: 2.69s\n",
      "198:\tlearn: 5100741.4550035\ttotal: 666ms\tremaining: 2.68s\n",
      "199:\tlearn: 5094941.2834400\ttotal: 668ms\tremaining: 2.67s\n",
      "200:\tlearn: 5086600.9771362\ttotal: 671ms\tremaining: 2.67s\n",
      "201:\tlearn: 5086069.4186205\ttotal: 673ms\tremaining: 2.66s\n",
      "202:\tlearn: 5079058.2656714\ttotal: 676ms\tremaining: 2.65s\n",
      "203:\tlearn: 5073790.4115700\ttotal: 679ms\tremaining: 2.65s\n",
      "204:\tlearn: 5069441.5538409\ttotal: 681ms\tremaining: 2.64s\n",
      "205:\tlearn: 5068095.3931576\ttotal: 684ms\tremaining: 2.63s\n",
      "206:\tlearn: 5062109.0893428\ttotal: 686ms\tremaining: 2.63s\n",
      "207:\tlearn: 5059854.8563829\ttotal: 689ms\tremaining: 2.62s\n",
      "208:\tlearn: 5056060.0077565\ttotal: 691ms\tremaining: 2.62s\n",
      "209:\tlearn: 5048736.6406786\ttotal: 695ms\tremaining: 2.61s\n",
      "210:\tlearn: 5042700.0657878\ttotal: 697ms\tremaining: 2.61s\n",
      "211:\tlearn: 5036717.0283595\ttotal: 700ms\tremaining: 2.6s\n",
      "212:\tlearn: 5029082.3208246\ttotal: 702ms\tremaining: 2.59s\n",
      "213:\tlearn: 5021885.0262882\ttotal: 705ms\tremaining: 2.59s\n",
      "214:\tlearn: 5021173.0016949\ttotal: 707ms\tremaining: 2.58s\n",
      "215:\tlearn: 5017615.5536819\ttotal: 710ms\tremaining: 2.58s\n",
      "216:\tlearn: 5011146.9423836\ttotal: 712ms\tremaining: 2.57s\n",
      "217:\tlearn: 5004236.9856696\ttotal: 715ms\tremaining: 2.56s\n",
      "218:\tlearn: 4999668.8330998\ttotal: 717ms\tremaining: 2.56s\n",
      "219:\tlearn: 4996403.7516062\ttotal: 720ms\tremaining: 2.55s\n",
      "220:\tlearn: 4990926.2818604\ttotal: 722ms\tremaining: 2.54s\n",
      "221:\tlearn: 4984799.7750065\ttotal: 725ms\tremaining: 2.54s\n",
      "222:\tlearn: 4978562.3810165\ttotal: 728ms\tremaining: 2.54s\n",
      "223:\tlearn: 4977311.5545893\ttotal: 730ms\tremaining: 2.53s\n",
      "224:\tlearn: 4971649.6682341\ttotal: 733ms\tremaining: 2.52s\n",
      "225:\tlearn: 4970267.1467079\ttotal: 735ms\tremaining: 2.52s\n",
      "226:\tlearn: 4969444.0566540\ttotal: 738ms\tremaining: 2.51s\n",
      "227:\tlearn: 4969170.2733445\ttotal: 740ms\tremaining: 2.5s\n",
      "228:\tlearn: 4965000.2950353\ttotal: 742ms\tremaining: 2.5s\n",
      "229:\tlearn: 4963829.5842509\ttotal: 745ms\tremaining: 2.49s\n",
      "230:\tlearn: 4956964.4924790\ttotal: 747ms\tremaining: 2.49s\n",
      "231:\tlearn: 4956369.5342497\ttotal: 749ms\tremaining: 2.48s\n",
      "232:\tlearn: 4956135.2289550\ttotal: 751ms\tremaining: 2.47s\n",
      "233:\tlearn: 4949856.2267519\ttotal: 754ms\tremaining: 2.47s\n",
      "234:\tlearn: 4943883.9082015\ttotal: 757ms\tremaining: 2.46s\n",
      "235:\tlearn: 4942894.5808886\ttotal: 760ms\tremaining: 2.46s\n",
      "236:\tlearn: 4937505.8991289\ttotal: 762ms\tremaining: 2.45s\n",
      "237:\tlearn: 4936738.7915412\ttotal: 764ms\tremaining: 2.45s\n",
      "238:\tlearn: 4931137.2061004\ttotal: 767ms\tremaining: 2.44s\n",
      "239:\tlearn: 4927026.8060829\ttotal: 771ms\tremaining: 2.44s\n",
      "240:\tlearn: 4924361.6429570\ttotal: 774ms\tremaining: 2.44s\n",
      "241:\tlearn: 4920990.3299026\ttotal: 777ms\tremaining: 2.43s\n",
      "242:\tlearn: 4916752.7660312\ttotal: 780ms\tremaining: 2.43s\n",
      "243:\tlearn: 4913460.4409343\ttotal: 783ms\tremaining: 2.43s\n",
      "244:\tlearn: 4907884.7438949\ttotal: 787ms\tremaining: 2.42s\n",
      "245:\tlearn: 4904322.8792458\ttotal: 790ms\tremaining: 2.42s\n",
      "246:\tlearn: 4899819.9160388\ttotal: 793ms\tremaining: 2.42s\n",
      "247:\tlearn: 4894776.0880571\ttotal: 796ms\tremaining: 2.42s\n",
      "248:\tlearn: 4888239.4715173\ttotal: 799ms\tremaining: 2.41s\n",
      "249:\tlearn: 4884924.1403871\ttotal: 802ms\tremaining: 2.41s\n",
      "250:\tlearn: 4880103.8289967\ttotal: 804ms\tremaining: 2.4s\n",
      "251:\tlearn: 4875217.1803003\ttotal: 807ms\tremaining: 2.4s\n",
      "252:\tlearn: 4871665.2522393\ttotal: 810ms\tremaining: 2.39s\n",
      "253:\tlearn: 4871316.2568520\ttotal: 813ms\tremaining: 2.39s\n",
      "254:\tlearn: 4868229.5276861\ttotal: 815ms\tremaining: 2.38s\n",
      "255:\tlearn: 4866417.6452646\ttotal: 818ms\tremaining: 2.38s\n",
      "256:\tlearn: 4862917.1705615\ttotal: 821ms\tremaining: 2.37s\n",
      "257:\tlearn: 4859884.7796942\ttotal: 823ms\tremaining: 2.37s\n",
      "258:\tlearn: 4853964.9394418\ttotal: 826ms\tremaining: 2.36s\n",
      "259:\tlearn: 4851225.3390553\ttotal: 828ms\tremaining: 2.36s\n",
      "260:\tlearn: 4845470.3429306\ttotal: 831ms\tremaining: 2.35s\n",
      "261:\tlearn: 4839746.6973113\ttotal: 834ms\tremaining: 2.35s\n",
      "262:\tlearn: 4834823.8659524\ttotal: 836ms\tremaining: 2.34s\n",
      "263:\tlearn: 4830873.2497507\ttotal: 839ms\tremaining: 2.34s\n",
      "264:\tlearn: 4826658.7208129\ttotal: 841ms\tremaining: 2.33s\n",
      "265:\tlearn: 4822487.6285919\ttotal: 844ms\tremaining: 2.33s\n",
      "266:\tlearn: 4818635.9665894\ttotal: 846ms\tremaining: 2.32s\n",
      "267:\tlearn: 4814920.9880543\ttotal: 849ms\tremaining: 2.32s\n",
      "268:\tlearn: 4811520.6076792\ttotal: 852ms\tremaining: 2.31s\n",
      "269:\tlearn: 4809068.6575818\ttotal: 854ms\tremaining: 2.31s\n",
      "270:\tlearn: 4805353.3361952\ttotal: 857ms\tremaining: 2.31s\n",
      "271:\tlearn: 4804953.2599136\ttotal: 859ms\tremaining: 2.3s\n",
      "272:\tlearn: 4799169.8120805\ttotal: 862ms\tremaining: 2.29s\n",
      "273:\tlearn: 4793950.0940195\ttotal: 864ms\tremaining: 2.29s\n",
      "274:\tlearn: 4791727.2167820\ttotal: 867ms\tremaining: 2.29s\n",
      "275:\tlearn: 4789289.7803406\ttotal: 870ms\tremaining: 2.28s\n",
      "276:\tlearn: 4784665.4362078\ttotal: 873ms\tremaining: 2.28s\n",
      "277:\tlearn: 4780169.8808203\ttotal: 875ms\tremaining: 2.27s\n",
      "278:\tlearn: 4775493.2862136\ttotal: 878ms\tremaining: 2.27s\n",
      "279:\tlearn: 4772570.4556386\ttotal: 880ms\tremaining: 2.26s\n",
      "280:\tlearn: 4771224.8813673\ttotal: 883ms\tremaining: 2.26s\n",
      "281:\tlearn: 4763675.6977047\ttotal: 886ms\tremaining: 2.25s\n",
      "282:\tlearn: 4761462.8526634\ttotal: 888ms\tremaining: 2.25s\n",
      "283:\tlearn: 4758065.6529336\ttotal: 892ms\tremaining: 2.25s\n",
      "284:\tlearn: 4752558.8331297\ttotal: 895ms\tremaining: 2.24s\n",
      "285:\tlearn: 4749288.6127800\ttotal: 898ms\tremaining: 2.24s\n",
      "286:\tlearn: 4745274.0551026\ttotal: 900ms\tremaining: 2.24s\n",
      "287:\tlearn: 4739949.4503467\ttotal: 903ms\tremaining: 2.23s\n",
      "288:\tlearn: 4736489.4068298\ttotal: 906ms\tremaining: 2.23s\n",
      "289:\tlearn: 4731399.2266095\ttotal: 908ms\tremaining: 2.22s\n",
      "290:\tlearn: 4728549.8016869\ttotal: 911ms\tremaining: 2.22s\n",
      "291:\tlearn: 4726441.9932141\ttotal: 915ms\tremaining: 2.22s\n",
      "292:\tlearn: 4722136.4869816\ttotal: 917ms\tremaining: 2.21s\n",
      "293:\tlearn: 4718822.2404098\ttotal: 920ms\tremaining: 2.21s\n",
      "294:\tlearn: 4714610.8377068\ttotal: 922ms\tremaining: 2.2s\n",
      "295:\tlearn: 4709005.4893082\ttotal: 925ms\tremaining: 2.2s\n",
      "296:\tlearn: 4703698.8896662\ttotal: 928ms\tremaining: 2.2s\n",
      "297:\tlearn: 4699404.7324844\ttotal: 931ms\tremaining: 2.19s\n",
      "298:\tlearn: 4694480.5622790\ttotal: 933ms\tremaining: 2.19s\n",
      "299:\tlearn: 4692281.7599608\ttotal: 936ms\tremaining: 2.18s\n",
      "300:\tlearn: 4687915.4313021\ttotal: 938ms\tremaining: 2.18s\n",
      "301:\tlearn: 4683998.4000136\ttotal: 940ms\tremaining: 2.17s\n",
      "302:\tlearn: 4683027.7906842\ttotal: 943ms\tremaining: 2.17s\n",
      "303:\tlearn: 4679775.7115634\ttotal: 945ms\tremaining: 2.16s\n",
      "304:\tlearn: 4676764.5154155\ttotal: 948ms\tremaining: 2.16s\n",
      "305:\tlearn: 4672034.0152675\ttotal: 950ms\tremaining: 2.15s\n",
      "306:\tlearn: 4671257.3573302\ttotal: 953ms\tremaining: 2.15s\n",
      "307:\tlearn: 4669266.5517508\ttotal: 955ms\tremaining: 2.15s\n",
      "308:\tlearn: 4667038.2057552\ttotal: 957ms\tremaining: 2.14s\n",
      "309:\tlearn: 4663372.7607797\ttotal: 960ms\tremaining: 2.14s\n",
      "310:\tlearn: 4659903.1877871\ttotal: 963ms\tremaining: 2.13s\n",
      "311:\tlearn: 4656658.6965189\ttotal: 965ms\tremaining: 2.13s\n",
      "312:\tlearn: 4652280.0245278\ttotal: 968ms\tremaining: 2.12s\n",
      "313:\tlearn: 4648791.7015064\ttotal: 970ms\tremaining: 2.12s\n",
      "314:\tlearn: 4644440.7317834\ttotal: 973ms\tremaining: 2.12s\n",
      "315:\tlearn: 4642993.3729660\ttotal: 975ms\tremaining: 2.11s\n",
      "316:\tlearn: 4642887.0458412\ttotal: 977ms\tremaining: 2.1s\n",
      "317:\tlearn: 4642316.8816081\ttotal: 980ms\tremaining: 2.1s\n",
      "318:\tlearn: 4638595.5185074\ttotal: 982ms\tremaining: 2.1s\n",
      "319:\tlearn: 4636891.6908017\ttotal: 985ms\tremaining: 2.09s\n",
      "320:\tlearn: 4635796.5183843\ttotal: 987ms\tremaining: 2.09s\n",
      "321:\tlearn: 4632303.9341982\ttotal: 990ms\tremaining: 2.08s\n",
      "322:\tlearn: 4628569.6830872\ttotal: 992ms\tremaining: 2.08s\n",
      "323:\tlearn: 4624392.4352770\ttotal: 995ms\tremaining: 2.08s\n",
      "324:\tlearn: 4620662.0499091\ttotal: 997ms\tremaining: 2.07s\n",
      "325:\tlearn: 4615218.8443603\ttotal: 1000ms\tremaining: 2.07s\n",
      "326:\tlearn: 4611228.7844789\ttotal: 1s\tremaining: 2.06s\n",
      "327:\tlearn: 4606013.9540820\ttotal: 1s\tremaining: 2.06s\n",
      "328:\tlearn: 4602903.4520608\ttotal: 1.01s\tremaining: 2.06s\n",
      "329:\tlearn: 4599661.6752420\ttotal: 1.01s\tremaining: 2.05s\n",
      "330:\tlearn: 4595974.6060751\ttotal: 1.01s\tremaining: 2.05s\n",
      "331:\tlearn: 4591362.6282183\ttotal: 1.02s\tremaining: 2.05s\n",
      "332:\tlearn: 4586313.3719551\ttotal: 1.02s\tremaining: 2.04s\n",
      "333:\tlearn: 4581379.6049215\ttotal: 1.02s\tremaining: 2.04s\n",
      "334:\tlearn: 4575515.6174856\ttotal: 1.02s\tremaining: 2.03s\n",
      "335:\tlearn: 4571681.6138769\ttotal: 1.03s\tremaining: 2.03s\n",
      "336:\tlearn: 4566993.2899559\ttotal: 1.03s\tremaining: 2.03s\n",
      "337:\tlearn: 4562218.6947507\ttotal: 1.03s\tremaining: 2.02s\n",
      "338:\tlearn: 4560055.6411643\ttotal: 1.03s\tremaining: 2.02s\n",
      "339:\tlearn: 4557336.0982457\ttotal: 1.04s\tremaining: 2.02s\n",
      "340:\tlearn: 4553383.7666712\ttotal: 1.04s\tremaining: 2.01s\n",
      "341:\tlearn: 4551063.1123728\ttotal: 1.04s\tremaining: 2.01s\n",
      "342:\tlearn: 4545715.8430546\ttotal: 1.04s\tremaining: 2s\n",
      "343:\tlearn: 4544004.7843673\ttotal: 1.05s\tremaining: 2s\n",
      "344:\tlearn: 4541566.8988547\ttotal: 1.05s\tremaining: 2s\n",
      "345:\tlearn: 4537909.2825804\ttotal: 1.05s\tremaining: 1.99s\n",
      "346:\tlearn: 4534479.5911961\ttotal: 1.05s\tremaining: 1.99s\n",
      "347:\tlearn: 4529793.0965539\ttotal: 1.06s\tremaining: 1.98s\n",
      "348:\tlearn: 4526360.9118822\ttotal: 1.06s\tremaining: 1.98s\n",
      "349:\tlearn: 4522964.0845818\ttotal: 1.06s\tremaining: 1.98s\n",
      "350:\tlearn: 4517840.6801890\ttotal: 1.07s\tremaining: 1.97s\n",
      "351:\tlearn: 4514276.8165435\ttotal: 1.07s\tremaining: 1.97s\n",
      "352:\tlearn: 4509718.5293305\ttotal: 1.07s\tremaining: 1.96s\n",
      "353:\tlearn: 4504429.5128699\ttotal: 1.07s\tremaining: 1.96s\n",
      "354:\tlearn: 4502604.4313238\ttotal: 1.08s\tremaining: 1.96s\n",
      "355:\tlearn: 4500524.0396544\ttotal: 1.08s\tremaining: 1.95s\n",
      "356:\tlearn: 4495481.3825154\ttotal: 1.08s\tremaining: 1.95s\n",
      "357:\tlearn: 4493159.6731617\ttotal: 1.08s\tremaining: 1.95s\n",
      "358:\tlearn: 4489571.3157123\ttotal: 1.09s\tremaining: 1.94s\n",
      "359:\tlearn: 4487351.3608480\ttotal: 1.09s\tremaining: 1.94s\n",
      "360:\tlearn: 4484175.8140745\ttotal: 1.09s\tremaining: 1.93s\n",
      "361:\tlearn: 4482485.7669118\ttotal: 1.09s\tremaining: 1.93s\n",
      "362:\tlearn: 4482211.5490556\ttotal: 1.1s\tremaining: 1.92s\n",
      "363:\tlearn: 4477768.4273375\ttotal: 1.1s\tremaining: 1.92s\n",
      "364:\tlearn: 4473789.5378800\ttotal: 1.1s\tremaining: 1.92s\n",
      "365:\tlearn: 4469752.4364293\ttotal: 1.1s\tremaining: 1.91s\n",
      "366:\tlearn: 4466656.6008353\ttotal: 1.11s\tremaining: 1.91s\n",
      "367:\tlearn: 4463647.8710015\ttotal: 1.11s\tremaining: 1.9s\n",
      "368:\tlearn: 4458668.9181144\ttotal: 1.11s\tremaining: 1.9s\n",
      "369:\tlearn: 4455751.4898929\ttotal: 1.11s\tremaining: 1.9s\n",
      "370:\tlearn: 4453080.1598746\ttotal: 1.12s\tremaining: 1.89s\n",
      "371:\tlearn: 4450502.1468794\ttotal: 1.12s\tremaining: 1.89s\n",
      "372:\tlearn: 4444716.5920320\ttotal: 1.12s\tremaining: 1.89s\n",
      "373:\tlearn: 4441543.8316787\ttotal: 1.12s\tremaining: 1.88s\n",
      "374:\tlearn: 4437538.5854563\ttotal: 1.13s\tremaining: 1.88s\n",
      "375:\tlearn: 4435523.5487570\ttotal: 1.13s\tremaining: 1.88s\n",
      "376:\tlearn: 4432818.7309024\ttotal: 1.13s\tremaining: 1.87s\n",
      "377:\tlearn: 4429080.3655177\ttotal: 1.14s\tremaining: 1.87s\n",
      "378:\tlearn: 4426206.8864173\ttotal: 1.14s\tremaining: 1.86s\n",
      "379:\tlearn: 4424061.1904333\ttotal: 1.14s\tremaining: 1.86s\n",
      "380:\tlearn: 4420388.3831647\ttotal: 1.14s\tremaining: 1.86s\n",
      "381:\tlearn: 4417512.6591553\ttotal: 1.15s\tremaining: 1.85s\n",
      "382:\tlearn: 4414396.7889477\ttotal: 1.15s\tremaining: 1.85s\n",
      "383:\tlearn: 4410841.3219363\ttotal: 1.15s\tremaining: 1.84s\n",
      "384:\tlearn: 4408708.2000433\ttotal: 1.15s\tremaining: 1.84s\n",
      "385:\tlearn: 4405313.2660897\ttotal: 1.16s\tremaining: 1.84s\n",
      "386:\tlearn: 4403348.9713631\ttotal: 1.16s\tremaining: 1.83s\n",
      "387:\tlearn: 4400092.2711663\ttotal: 1.16s\tremaining: 1.83s\n",
      "388:\tlearn: 4397937.6721706\ttotal: 1.16s\tremaining: 1.83s\n",
      "389:\tlearn: 4393736.3204309\ttotal: 1.17s\tremaining: 1.82s\n",
      "390:\tlearn: 4391026.4200922\ttotal: 1.17s\tremaining: 1.82s\n",
      "391:\tlearn: 4388002.3331487\ttotal: 1.17s\tremaining: 1.82s\n",
      "392:\tlearn: 4382641.3547825\ttotal: 1.17s\tremaining: 1.81s\n",
      "393:\tlearn: 4378689.7577371\ttotal: 1.18s\tremaining: 1.81s\n",
      "394:\tlearn: 4374843.7491175\ttotal: 1.18s\tremaining: 1.81s\n",
      "395:\tlearn: 4371094.8376327\ttotal: 1.18s\tremaining: 1.8s\n",
      "396:\tlearn: 4368879.2168822\ttotal: 1.18s\tremaining: 1.8s\n",
      "397:\tlearn: 4366002.2546934\ttotal: 1.19s\tremaining: 1.79s\n",
      "398:\tlearn: 4363024.3043984\ttotal: 1.19s\tremaining: 1.79s\n",
      "399:\tlearn: 4359594.2551128\ttotal: 1.19s\tremaining: 1.79s\n",
      "400:\tlearn: 4357112.8617419\ttotal: 1.19s\tremaining: 1.78s\n",
      "401:\tlearn: 4352937.1654948\ttotal: 1.2s\tremaining: 1.78s\n",
      "402:\tlearn: 4350423.7091249\ttotal: 1.2s\tremaining: 1.78s\n",
      "403:\tlearn: 4347587.7183456\ttotal: 1.2s\tremaining: 1.77s\n",
      "404:\tlearn: 4345511.5281849\ttotal: 1.21s\tremaining: 1.77s\n",
      "405:\tlearn: 4341401.2046889\ttotal: 1.21s\tremaining: 1.77s\n",
      "406:\tlearn: 4338319.0065417\ttotal: 1.21s\tremaining: 1.76s\n",
      "407:\tlearn: 4335362.5881301\ttotal: 1.21s\tremaining: 1.76s\n",
      "408:\tlearn: 4332281.2110229\ttotal: 1.22s\tremaining: 1.76s\n",
      "409:\tlearn: 4330249.0710557\ttotal: 1.22s\tremaining: 1.75s\n",
      "410:\tlearn: 4328462.9000187\ttotal: 1.22s\tremaining: 1.75s\n",
      "411:\tlearn: 4324358.2218972\ttotal: 1.22s\tremaining: 1.75s\n",
      "412:\tlearn: 4320969.7981430\ttotal: 1.23s\tremaining: 1.74s\n",
      "413:\tlearn: 4317747.5954468\ttotal: 1.23s\tremaining: 1.74s\n",
      "414:\tlearn: 4315475.4736792\ttotal: 1.23s\tremaining: 1.73s\n",
      "415:\tlearn: 4311760.9125734\ttotal: 1.23s\tremaining: 1.73s\n",
      "416:\tlearn: 4310171.2365300\ttotal: 1.24s\tremaining: 1.73s\n",
      "417:\tlearn: 4308005.2649294\ttotal: 1.24s\tremaining: 1.73s\n",
      "418:\tlearn: 4305982.9116988\ttotal: 1.24s\tremaining: 1.72s\n",
      "419:\tlearn: 4303260.8200156\ttotal: 1.24s\tremaining: 1.72s\n",
      "420:\tlearn: 4299845.3367411\ttotal: 1.25s\tremaining: 1.72s\n",
      "421:\tlearn: 4296735.6416815\ttotal: 1.25s\tremaining: 1.71s\n",
      "422:\tlearn: 4293738.6967510\ttotal: 1.25s\tremaining: 1.71s\n",
      "423:\tlearn: 4291281.1243049\ttotal: 1.25s\tremaining: 1.71s\n",
      "424:\tlearn: 4289377.6567440\ttotal: 1.26s\tremaining: 1.7s\n",
      "425:\tlearn: 4286109.5930805\ttotal: 1.26s\tremaining: 1.7s\n",
      "426:\tlearn: 4284681.2322860\ttotal: 1.26s\tremaining: 1.69s\n",
      "427:\tlearn: 4282075.3296240\ttotal: 1.26s\tremaining: 1.69s\n",
      "428:\tlearn: 4279900.5230869\ttotal: 1.27s\tremaining: 1.69s\n",
      "429:\tlearn: 4277024.7074044\ttotal: 1.27s\tremaining: 1.68s\n",
      "430:\tlearn: 4275080.0020207\ttotal: 1.27s\tremaining: 1.68s\n",
      "431:\tlearn: 4273036.4008161\ttotal: 1.27s\tremaining: 1.68s\n",
      "432:\tlearn: 4270791.4713845\ttotal: 1.28s\tremaining: 1.67s\n",
      "433:\tlearn: 4267564.8909476\ttotal: 1.28s\tremaining: 1.67s\n",
      "434:\tlearn: 4265396.5389852\ttotal: 1.28s\tremaining: 1.67s\n",
      "435:\tlearn: 4262070.8298603\ttotal: 1.29s\tremaining: 1.66s\n",
      "436:\tlearn: 4259815.0457371\ttotal: 1.29s\tremaining: 1.66s\n",
      "437:\tlearn: 4257686.6837635\ttotal: 1.29s\tremaining: 1.66s\n",
      "438:\tlearn: 4255062.1323632\ttotal: 1.29s\tremaining: 1.65s\n",
      "439:\tlearn: 4252023.4916177\ttotal: 1.3s\tremaining: 1.65s\n",
      "440:\tlearn: 4248967.3283952\ttotal: 1.3s\tremaining: 1.65s\n",
      "441:\tlearn: 4245821.6391582\ttotal: 1.3s\tremaining: 1.64s\n",
      "442:\tlearn: 4243505.5543252\ttotal: 1.3s\tremaining: 1.64s\n",
      "443:\tlearn: 4241533.2342871\ttotal: 1.31s\tremaining: 1.64s\n",
      "444:\tlearn: 4238416.5278467\ttotal: 1.31s\tremaining: 1.63s\n",
      "445:\tlearn: 4235909.1394170\ttotal: 1.31s\tremaining: 1.63s\n",
      "446:\tlearn: 4233912.0211507\ttotal: 1.31s\tremaining: 1.63s\n",
      "447:\tlearn: 4231116.8996694\ttotal: 1.32s\tremaining: 1.62s\n",
      "448:\tlearn: 4227513.8214223\ttotal: 1.32s\tremaining: 1.62s\n",
      "449:\tlearn: 4225175.4871676\ttotal: 1.32s\tremaining: 1.61s\n",
      "450:\tlearn: 4223259.9170671\ttotal: 1.32s\tremaining: 1.61s\n",
      "451:\tlearn: 4218853.9977787\ttotal: 1.33s\tremaining: 1.61s\n",
      "452:\tlearn: 4217556.1078368\ttotal: 1.33s\tremaining: 1.6s\n",
      "453:\tlearn: 4214869.0144547\ttotal: 1.33s\tremaining: 1.6s\n",
      "454:\tlearn: 4212270.0377126\ttotal: 1.33s\tremaining: 1.6s\n",
      "455:\tlearn: 4210469.8155585\ttotal: 1.34s\tremaining: 1.59s\n",
      "456:\tlearn: 4207391.9366547\ttotal: 1.34s\tremaining: 1.59s\n",
      "457:\tlearn: 4204613.8859034\ttotal: 1.34s\tremaining: 1.59s\n",
      "458:\tlearn: 4202585.0476461\ttotal: 1.34s\tremaining: 1.58s\n",
      "459:\tlearn: 4200581.8700042\ttotal: 1.35s\tremaining: 1.58s\n",
      "460:\tlearn: 4198808.8766579\ttotal: 1.35s\tremaining: 1.58s\n",
      "461:\tlearn: 4196224.3016176\ttotal: 1.35s\tremaining: 1.57s\n",
      "462:\tlearn: 4193500.3217511\ttotal: 1.35s\tremaining: 1.57s\n",
      "463:\tlearn: 4191869.2727206\ttotal: 1.36s\tremaining: 1.57s\n",
      "464:\tlearn: 4187351.9005773\ttotal: 1.36s\tremaining: 1.56s\n",
      "465:\tlearn: 4184654.4264188\ttotal: 1.36s\tremaining: 1.56s\n",
      "466:\tlearn: 4181348.0813025\ttotal: 1.37s\tremaining: 1.56s\n",
      "467:\tlearn: 4176439.7344885\ttotal: 1.37s\tremaining: 1.55s\n",
      "468:\tlearn: 4174240.2406145\ttotal: 1.37s\tremaining: 1.55s\n",
      "469:\tlearn: 4171344.3583669\ttotal: 1.37s\tremaining: 1.55s\n",
      "470:\tlearn: 4167840.4536180\ttotal: 1.38s\tremaining: 1.54s\n",
      "471:\tlearn: 4164495.6298883\ttotal: 1.38s\tremaining: 1.54s\n",
      "472:\tlearn: 4161986.9236498\ttotal: 1.38s\tremaining: 1.54s\n",
      "473:\tlearn: 4159226.2567865\ttotal: 1.38s\tremaining: 1.53s\n",
      "474:\tlearn: 4157276.1707916\ttotal: 1.39s\tremaining: 1.53s\n",
      "475:\tlearn: 4155264.6052559\ttotal: 1.39s\tremaining: 1.53s\n",
      "476:\tlearn: 4153128.8449836\ttotal: 1.39s\tremaining: 1.53s\n",
      "477:\tlearn: 4150383.7931310\ttotal: 1.4s\tremaining: 1.52s\n",
      "478:\tlearn: 4147875.7257874\ttotal: 1.4s\tremaining: 1.52s\n",
      "479:\tlearn: 4145775.9762562\ttotal: 1.4s\tremaining: 1.52s\n",
      "480:\tlearn: 4141749.1120806\ttotal: 1.4s\tremaining: 1.51s\n",
      "481:\tlearn: 4138768.6678083\ttotal: 1.41s\tremaining: 1.51s\n",
      "482:\tlearn: 4137279.3890321\ttotal: 1.41s\tremaining: 1.51s\n",
      "483:\tlearn: 4134736.7519274\ttotal: 1.41s\tremaining: 1.5s\n",
      "484:\tlearn: 4133311.2137064\ttotal: 1.41s\tremaining: 1.5s\n",
      "485:\tlearn: 4131137.7862793\ttotal: 1.42s\tremaining: 1.5s\n",
      "486:\tlearn: 4129325.0022616\ttotal: 1.42s\tremaining: 1.49s\n",
      "487:\tlearn: 4128101.9952249\ttotal: 1.42s\tremaining: 1.49s\n",
      "488:\tlearn: 4127087.5668946\ttotal: 1.42s\tremaining: 1.49s\n",
      "489:\tlearn: 4125524.0944871\ttotal: 1.43s\tremaining: 1.48s\n",
      "490:\tlearn: 4123813.1981975\ttotal: 1.43s\tremaining: 1.48s\n",
      "491:\tlearn: 4121216.4882464\ttotal: 1.43s\tremaining: 1.48s\n",
      "492:\tlearn: 4119182.2448064\ttotal: 1.43s\tremaining: 1.47s\n",
      "493:\tlearn: 4117637.4546728\ttotal: 1.44s\tremaining: 1.47s\n",
      "494:\tlearn: 4115903.3206355\ttotal: 1.44s\tremaining: 1.47s\n",
      "495:\tlearn: 4112081.2843965\ttotal: 1.44s\tremaining: 1.47s\n",
      "496:\tlearn: 4110031.8436194\ttotal: 1.44s\tremaining: 1.46s\n",
      "497:\tlearn: 4108169.0994679\ttotal: 1.45s\tremaining: 1.46s\n",
      "498:\tlearn: 4105461.7483550\ttotal: 1.45s\tremaining: 1.46s\n",
      "499:\tlearn: 4102538.9304653\ttotal: 1.45s\tremaining: 1.45s\n",
      "500:\tlearn: 4101252.4837149\ttotal: 1.45s\tremaining: 1.45s\n",
      "501:\tlearn: 4099064.2308101\ttotal: 1.46s\tremaining: 1.45s\n",
      "502:\tlearn: 4095896.0202006\ttotal: 1.46s\tremaining: 1.44s\n",
      "503:\tlearn: 4092337.4326099\ttotal: 1.46s\tremaining: 1.44s\n",
      "504:\tlearn: 4090105.6892866\ttotal: 1.47s\tremaining: 1.44s\n",
      "505:\tlearn: 4088363.4709198\ttotal: 1.47s\tremaining: 1.43s\n",
      "506:\tlearn: 4085976.3967685\ttotal: 1.47s\tremaining: 1.43s\n",
      "507:\tlearn: 4083119.5405581\ttotal: 1.47s\tremaining: 1.43s\n",
      "508:\tlearn: 4080977.9717722\ttotal: 1.48s\tremaining: 1.43s\n",
      "509:\tlearn: 4078916.5366378\ttotal: 1.48s\tremaining: 1.42s\n",
      "510:\tlearn: 4074252.4454125\ttotal: 1.48s\tremaining: 1.42s\n",
      "511:\tlearn: 4071481.3852074\ttotal: 1.49s\tremaining: 1.42s\n",
      "512:\tlearn: 4069560.3772566\ttotal: 1.49s\tremaining: 1.41s\n",
      "513:\tlearn: 4068171.7515373\ttotal: 1.49s\tremaining: 1.41s\n",
      "514:\tlearn: 4066726.6626946\ttotal: 1.49s\tremaining: 1.41s\n",
      "515:\tlearn: 4064779.8900852\ttotal: 1.5s\tremaining: 1.4s\n",
      "516:\tlearn: 4061827.5100733\ttotal: 1.5s\tremaining: 1.4s\n",
      "517:\tlearn: 4059876.1605122\ttotal: 1.5s\tremaining: 1.4s\n",
      "518:\tlearn: 4057552.8011927\ttotal: 1.5s\tremaining: 1.39s\n",
      "519:\tlearn: 4055997.0310769\ttotal: 1.51s\tremaining: 1.39s\n",
      "520:\tlearn: 4052743.8044300\ttotal: 1.51s\tremaining: 1.39s\n",
      "521:\tlearn: 4050962.3861901\ttotal: 1.51s\tremaining: 1.38s\n",
      "522:\tlearn: 4048487.0374348\ttotal: 1.51s\tremaining: 1.38s\n",
      "523:\tlearn: 4045940.4572916\ttotal: 1.52s\tremaining: 1.38s\n",
      "524:\tlearn: 4042853.7812210\ttotal: 1.52s\tremaining: 1.37s\n",
      "525:\tlearn: 4041353.1787350\ttotal: 1.52s\tremaining: 1.37s\n",
      "526:\tlearn: 4039116.4684258\ttotal: 1.52s\tremaining: 1.37s\n",
      "527:\tlearn: 4036183.9483650\ttotal: 1.53s\tremaining: 1.36s\n",
      "528:\tlearn: 4033534.2056226\ttotal: 1.53s\tremaining: 1.36s\n",
      "529:\tlearn: 4032276.7071626\ttotal: 1.53s\tremaining: 1.36s\n",
      "530:\tlearn: 4029975.1588359\ttotal: 1.53s\tremaining: 1.35s\n",
      "531:\tlearn: 4028400.6270362\ttotal: 1.54s\tremaining: 1.35s\n",
      "532:\tlearn: 4027055.1250939\ttotal: 1.54s\tremaining: 1.35s\n",
      "533:\tlearn: 4025765.4554208\ttotal: 1.54s\tremaining: 1.34s\n",
      "534:\tlearn: 4023712.8211041\ttotal: 1.54s\tremaining: 1.34s\n",
      "535:\tlearn: 4021589.6528667\ttotal: 1.55s\tremaining: 1.34s\n",
      "536:\tlearn: 4019674.7267717\ttotal: 1.55s\tremaining: 1.33s\n",
      "537:\tlearn: 4016362.0409523\ttotal: 1.55s\tremaining: 1.33s\n",
      "538:\tlearn: 4014530.8666837\ttotal: 1.55s\tremaining: 1.33s\n",
      "539:\tlearn: 4013533.6775545\ttotal: 1.56s\tremaining: 1.33s\n",
      "540:\tlearn: 4012305.7880120\ttotal: 1.56s\tremaining: 1.32s\n",
      "541:\tlearn: 4010583.4675429\ttotal: 1.56s\tremaining: 1.32s\n",
      "542:\tlearn: 4006657.1319747\ttotal: 1.56s\tremaining: 1.32s\n",
      "543:\tlearn: 4003995.9680406\ttotal: 1.57s\tremaining: 1.31s\n",
      "544:\tlearn: 4002116.6960452\ttotal: 1.57s\tremaining: 1.31s\n",
      "545:\tlearn: 3999281.5606186\ttotal: 1.57s\tremaining: 1.31s\n",
      "546:\tlearn: 3996983.3628432\ttotal: 1.57s\tremaining: 1.3s\n",
      "547:\tlearn: 3995435.2195573\ttotal: 1.58s\tremaining: 1.3s\n",
      "548:\tlearn: 3993462.6559734\ttotal: 1.58s\tremaining: 1.3s\n",
      "549:\tlearn: 3991759.2150020\ttotal: 1.58s\tremaining: 1.29s\n",
      "550:\tlearn: 3990722.4626609\ttotal: 1.59s\tremaining: 1.29s\n",
      "551:\tlearn: 3988340.1971378\ttotal: 1.59s\tremaining: 1.29s\n",
      "552:\tlearn: 3987108.0034277\ttotal: 1.59s\tremaining: 1.29s\n",
      "553:\tlearn: 3985411.0772754\ttotal: 1.59s\tremaining: 1.28s\n",
      "554:\tlearn: 3983041.7541519\ttotal: 1.6s\tremaining: 1.28s\n",
      "555:\tlearn: 3981633.3813689\ttotal: 1.6s\tremaining: 1.28s\n",
      "556:\tlearn: 3979363.9900105\ttotal: 1.6s\tremaining: 1.27s\n",
      "557:\tlearn: 3977214.2297281\ttotal: 1.6s\tremaining: 1.27s\n",
      "558:\tlearn: 3974500.5600434\ttotal: 1.61s\tremaining: 1.27s\n",
      "559:\tlearn: 3972817.1247744\ttotal: 1.61s\tremaining: 1.26s\n",
      "560:\tlearn: 3970047.0824566\ttotal: 1.61s\tremaining: 1.26s\n",
      "561:\tlearn: 3968161.2499980\ttotal: 1.61s\tremaining: 1.26s\n",
      "562:\tlearn: 3966549.1829300\ttotal: 1.62s\tremaining: 1.26s\n",
      "563:\tlearn: 3965030.9594337\ttotal: 1.62s\tremaining: 1.25s\n",
      "564:\tlearn: 3963532.9099016\ttotal: 1.62s\tremaining: 1.25s\n",
      "565:\tlearn: 3961713.5268847\ttotal: 1.63s\tremaining: 1.25s\n",
      "566:\tlearn: 3959815.7818242\ttotal: 1.63s\tremaining: 1.24s\n",
      "567:\tlearn: 3957692.8854849\ttotal: 1.63s\tremaining: 1.24s\n",
      "568:\tlearn: 3954859.6499139\ttotal: 1.63s\tremaining: 1.24s\n",
      "569:\tlearn: 3953459.0327442\ttotal: 1.64s\tremaining: 1.23s\n",
      "570:\tlearn: 3952560.4353508\ttotal: 1.64s\tremaining: 1.23s\n",
      "571:\tlearn: 3951344.6453007\ttotal: 1.64s\tremaining: 1.23s\n",
      "572:\tlearn: 3949584.3825749\ttotal: 1.64s\tremaining: 1.23s\n",
      "573:\tlearn: 3947622.2644921\ttotal: 1.65s\tremaining: 1.22s\n",
      "574:\tlearn: 3945903.7290147\ttotal: 1.65s\tremaining: 1.22s\n",
      "575:\tlearn: 3945065.8952773\ttotal: 1.65s\tremaining: 1.22s\n",
      "576:\tlearn: 3943327.6888802\ttotal: 1.65s\tremaining: 1.21s\n",
      "577:\tlearn: 3941669.5538409\ttotal: 1.66s\tremaining: 1.21s\n",
      "578:\tlearn: 3939705.6407332\ttotal: 1.66s\tremaining: 1.21s\n",
      "579:\tlearn: 3937832.2021942\ttotal: 1.66s\tremaining: 1.2s\n",
      "580:\tlearn: 3936271.8881973\ttotal: 1.66s\tremaining: 1.2s\n",
      "581:\tlearn: 3934968.4682787\ttotal: 1.67s\tremaining: 1.2s\n",
      "582:\tlearn: 3932070.5128009\ttotal: 1.67s\tremaining: 1.19s\n",
      "583:\tlearn: 3930109.5001003\ttotal: 1.67s\tremaining: 1.19s\n",
      "584:\tlearn: 3928764.5887173\ttotal: 1.67s\tremaining: 1.19s\n",
      "585:\tlearn: 3926844.8602649\ttotal: 1.68s\tremaining: 1.18s\n",
      "586:\tlearn: 3924918.4173036\ttotal: 1.68s\tremaining: 1.18s\n",
      "587:\tlearn: 3923227.5730547\ttotal: 1.68s\tremaining: 1.18s\n",
      "588:\tlearn: 3921456.2258626\ttotal: 1.69s\tremaining: 1.18s\n",
      "589:\tlearn: 3920141.9544637\ttotal: 1.69s\tremaining: 1.17s\n",
      "590:\tlearn: 3918130.8428780\ttotal: 1.69s\tremaining: 1.17s\n",
      "591:\tlearn: 3916144.5428725\ttotal: 1.69s\tremaining: 1.17s\n",
      "592:\tlearn: 3914452.8528298\ttotal: 1.7s\tremaining: 1.16s\n",
      "593:\tlearn: 3912842.7847223\ttotal: 1.7s\tremaining: 1.16s\n",
      "594:\tlearn: 3911369.4019630\ttotal: 1.7s\tremaining: 1.16s\n",
      "595:\tlearn: 3910180.0214276\ttotal: 1.71s\tremaining: 1.16s\n",
      "596:\tlearn: 3908638.3181735\ttotal: 1.71s\tremaining: 1.15s\n",
      "597:\tlearn: 3905722.7280933\ttotal: 1.71s\tremaining: 1.15s\n",
      "598:\tlearn: 3903930.4911208\ttotal: 1.71s\tremaining: 1.15s\n",
      "599:\tlearn: 3901603.5658376\ttotal: 1.72s\tremaining: 1.14s\n",
      "600:\tlearn: 3899903.0148669\ttotal: 1.72s\tremaining: 1.14s\n",
      "601:\tlearn: 3897854.2810060\ttotal: 1.72s\tremaining: 1.14s\n",
      "602:\tlearn: 3895993.3838751\ttotal: 1.72s\tremaining: 1.14s\n",
      "603:\tlearn: 3893733.9676457\ttotal: 1.73s\tremaining: 1.13s\n",
      "604:\tlearn: 3891953.2242909\ttotal: 1.73s\tremaining: 1.13s\n",
      "605:\tlearn: 3889784.8952305\ttotal: 1.73s\tremaining: 1.13s\n",
      "606:\tlearn: 3887448.9751695\ttotal: 1.74s\tremaining: 1.12s\n",
      "607:\tlearn: 3886553.0765348\ttotal: 1.74s\tremaining: 1.12s\n",
      "608:\tlearn: 3885241.6403537\ttotal: 1.74s\tremaining: 1.12s\n",
      "609:\tlearn: 3883764.7828713\ttotal: 1.74s\tremaining: 1.11s\n",
      "610:\tlearn: 3882038.9141372\ttotal: 1.75s\tremaining: 1.11s\n",
      "611:\tlearn: 3880550.3024921\ttotal: 1.75s\tremaining: 1.11s\n",
      "612:\tlearn: 3878771.1314383\ttotal: 1.75s\tremaining: 1.11s\n",
      "613:\tlearn: 3876538.4157190\ttotal: 1.75s\tremaining: 1.1s\n",
      "614:\tlearn: 3873104.6748307\ttotal: 1.76s\tremaining: 1.1s\n",
      "615:\tlearn: 3871118.6546846\ttotal: 1.76s\tremaining: 1.1s\n",
      "616:\tlearn: 3869127.4249753\ttotal: 1.76s\tremaining: 1.09s\n",
      "617:\tlearn: 3867825.8525141\ttotal: 1.77s\tremaining: 1.09s\n",
      "618:\tlearn: 3866407.7838190\ttotal: 1.77s\tremaining: 1.09s\n",
      "619:\tlearn: 3865004.7240431\ttotal: 1.77s\tremaining: 1.09s\n",
      "620:\tlearn: 3863591.5528982\ttotal: 1.77s\tremaining: 1.08s\n",
      "621:\tlearn: 3861544.4474467\ttotal: 1.78s\tremaining: 1.08s\n",
      "622:\tlearn: 3860461.3041032\ttotal: 1.78s\tremaining: 1.08s\n",
      "623:\tlearn: 3857773.2526177\ttotal: 1.78s\tremaining: 1.07s\n",
      "624:\tlearn: 3855342.2901170\ttotal: 1.79s\tremaining: 1.07s\n",
      "625:\tlearn: 3854037.8232551\ttotal: 1.79s\tremaining: 1.07s\n",
      "626:\tlearn: 3852310.5603654\ttotal: 1.79s\tremaining: 1.06s\n",
      "627:\tlearn: 3851491.6398057\ttotal: 1.79s\tremaining: 1.06s\n",
      "628:\tlearn: 3850026.3383441\ttotal: 1.8s\tremaining: 1.06s\n",
      "629:\tlearn: 3848346.9982977\ttotal: 1.8s\tremaining: 1.06s\n",
      "630:\tlearn: 3847300.3508595\ttotal: 1.8s\tremaining: 1.05s\n",
      "631:\tlearn: 3844257.7844460\ttotal: 1.81s\tremaining: 1.05s\n",
      "632:\tlearn: 3842549.0130103\ttotal: 1.81s\tremaining: 1.05s\n",
      "633:\tlearn: 3840865.0495069\ttotal: 1.81s\tremaining: 1.05s\n",
      "634:\tlearn: 3838701.7365645\ttotal: 1.81s\tremaining: 1.04s\n",
      "635:\tlearn: 3837087.7057367\ttotal: 1.82s\tremaining: 1.04s\n",
      "636:\tlearn: 3835418.8051303\ttotal: 1.82s\tremaining: 1.04s\n",
      "637:\tlearn: 3833863.4545746\ttotal: 1.82s\tremaining: 1.03s\n",
      "638:\tlearn: 3831851.6762451\ttotal: 1.83s\tremaining: 1.03s\n",
      "639:\tlearn: 3830041.9043963\ttotal: 1.83s\tremaining: 1.03s\n",
      "640:\tlearn: 3828043.5977924\ttotal: 1.83s\tremaining: 1.03s\n",
      "641:\tlearn: 3826802.9133556\ttotal: 1.83s\tremaining: 1.02s\n",
      "642:\tlearn: 3822162.9947107\ttotal: 1.84s\tremaining: 1.02s\n",
      "643:\tlearn: 3820846.7709533\ttotal: 1.84s\tremaining: 1.02s\n",
      "644:\tlearn: 3818774.2857431\ttotal: 1.84s\tremaining: 1.01s\n",
      "645:\tlearn: 3816164.9913447\ttotal: 1.84s\tremaining: 1.01s\n",
      "646:\tlearn: 3815032.1940359\ttotal: 1.85s\tremaining: 1.01s\n",
      "647:\tlearn: 3813134.1150784\ttotal: 1.85s\tremaining: 1s\n",
      "648:\tlearn: 3811644.4647331\ttotal: 1.85s\tremaining: 1s\n",
      "649:\tlearn: 3811020.2260028\ttotal: 1.85s\tremaining: 999ms\n",
      "650:\tlearn: 3810329.2416867\ttotal: 1.86s\tremaining: 997ms\n",
      "651:\tlearn: 3807225.2187440\ttotal: 1.86s\tremaining: 994ms\n",
      "652:\tlearn: 3804879.7877344\ttotal: 1.86s\tremaining: 991ms\n",
      "653:\tlearn: 3804317.4354612\ttotal: 1.87s\tremaining: 988ms\n",
      "654:\tlearn: 3802331.2067110\ttotal: 1.87s\tremaining: 985ms\n",
      "655:\tlearn: 3800935.0840075\ttotal: 1.87s\tremaining: 982ms\n",
      "656:\tlearn: 3799038.6672450\ttotal: 1.88s\tremaining: 979ms\n",
      "657:\tlearn: 3797296.0096236\ttotal: 1.88s\tremaining: 976ms\n",
      "658:\tlearn: 3795426.9406355\ttotal: 1.88s\tremaining: 973ms\n",
      "659:\tlearn: 3793711.4996886\ttotal: 1.88s\tremaining: 970ms\n",
      "660:\tlearn: 3792604.9807895\ttotal: 1.89s\tremaining: 967ms\n",
      "661:\tlearn: 3790231.6541389\ttotal: 1.89s\tremaining: 964ms\n",
      "662:\tlearn: 3787977.6531411\ttotal: 1.89s\tremaining: 961ms\n",
      "663:\tlearn: 3785798.2486167\ttotal: 1.89s\tremaining: 958ms\n",
      "664:\tlearn: 3783668.7850327\ttotal: 1.9s\tremaining: 955ms\n",
      "665:\tlearn: 3781082.0459856\ttotal: 1.9s\tremaining: 952ms\n",
      "666:\tlearn: 3778910.0628786\ttotal: 1.9s\tremaining: 949ms\n",
      "667:\tlearn: 3777852.3694626\ttotal: 1.9s\tremaining: 946ms\n",
      "668:\tlearn: 3775517.8216795\ttotal: 1.91s\tremaining: 943ms\n",
      "669:\tlearn: 3774653.7575561\ttotal: 1.91s\tremaining: 940ms\n",
      "670:\tlearn: 3773249.6800619\ttotal: 1.91s\tremaining: 937ms\n",
      "671:\tlearn: 3770783.7504037\ttotal: 1.91s\tremaining: 934ms\n",
      "672:\tlearn: 3768671.6446426\ttotal: 1.92s\tremaining: 931ms\n",
      "673:\tlearn: 3766986.1965598\ttotal: 1.92s\tremaining: 928ms\n",
      "674:\tlearn: 3763413.0922276\ttotal: 1.92s\tremaining: 925ms\n",
      "675:\tlearn: 3760993.0701184\ttotal: 1.92s\tremaining: 922ms\n",
      "676:\tlearn: 3759708.5951202\ttotal: 1.93s\tremaining: 919ms\n",
      "677:\tlearn: 3757951.0831495\ttotal: 1.93s\tremaining: 916ms\n",
      "678:\tlearn: 3756249.0876022\ttotal: 1.93s\tremaining: 913ms\n",
      "679:\tlearn: 3754075.0695802\ttotal: 1.93s\tremaining: 910ms\n",
      "680:\tlearn: 3752538.6942474\ttotal: 1.94s\tremaining: 907ms\n",
      "681:\tlearn: 3749220.5033527\ttotal: 1.94s\tremaining: 905ms\n",
      "682:\tlearn: 3747615.9686133\ttotal: 1.94s\tremaining: 902ms\n",
      "683:\tlearn: 3745519.3828305\ttotal: 1.95s\tremaining: 899ms\n",
      "684:\tlearn: 3743226.5966404\ttotal: 1.95s\tremaining: 896ms\n",
      "685:\tlearn: 3740905.0119241\ttotal: 1.95s\tremaining: 893ms\n",
      "686:\tlearn: 3739122.5303300\ttotal: 1.95s\tremaining: 890ms\n",
      "687:\tlearn: 3736803.8916141\ttotal: 1.96s\tremaining: 887ms\n",
      "688:\tlearn: 3735481.8906623\ttotal: 1.96s\tremaining: 884ms\n",
      "689:\tlearn: 3734828.6233609\ttotal: 1.96s\tremaining: 881ms\n",
      "690:\tlearn: 3733038.7944002\ttotal: 1.96s\tremaining: 878ms\n",
      "691:\tlearn: 3730613.5219681\ttotal: 1.97s\tremaining: 875ms\n",
      "692:\tlearn: 3729092.1891133\ttotal: 1.97s\tremaining: 872ms\n",
      "693:\tlearn: 3726528.6963067\ttotal: 1.97s\tremaining: 869ms\n",
      "694:\tlearn: 3725208.6441467\ttotal: 1.97s\tremaining: 866ms\n",
      "695:\tlearn: 3723908.1766456\ttotal: 1.98s\tremaining: 863ms\n",
      "696:\tlearn: 3722293.5853598\ttotal: 1.98s\tremaining: 861ms\n",
      "697:\tlearn: 3720894.7357993\ttotal: 1.98s\tremaining: 858ms\n",
      "698:\tlearn: 3719747.2190082\ttotal: 1.98s\tremaining: 855ms\n",
      "699:\tlearn: 3718326.9334935\ttotal: 1.99s\tremaining: 852ms\n",
      "700:\tlearn: 3717684.3844975\ttotal: 1.99s\tremaining: 849ms\n",
      "701:\tlearn: 3716583.1473852\ttotal: 1.99s\tremaining: 846ms\n",
      "702:\tlearn: 3715051.9797789\ttotal: 1.99s\tremaining: 843ms\n",
      "703:\tlearn: 3713697.7615481\ttotal: 2s\tremaining: 840ms\n",
      "704:\tlearn: 3712357.0596602\ttotal: 2s\tremaining: 837ms\n",
      "705:\tlearn: 3710480.0457098\ttotal: 2s\tremaining: 834ms\n",
      "706:\tlearn: 3708728.7261562\ttotal: 2s\tremaining: 831ms\n",
      "707:\tlearn: 3707796.3226846\ttotal: 2.01s\tremaining: 828ms\n",
      "708:\tlearn: 3706239.4691904\ttotal: 2.01s\tremaining: 825ms\n",
      "709:\tlearn: 3703885.3767173\ttotal: 2.01s\tremaining: 822ms\n",
      "710:\tlearn: 3701956.4525264\ttotal: 2.02s\tremaining: 819ms\n",
      "711:\tlearn: 3700186.8623540\ttotal: 2.02s\tremaining: 816ms\n",
      "712:\tlearn: 3699297.9616896\ttotal: 2.02s\tremaining: 813ms\n",
      "713:\tlearn: 3697688.7877028\ttotal: 2.02s\tremaining: 810ms\n",
      "714:\tlearn: 3696362.3751374\ttotal: 2.03s\tremaining: 808ms\n",
      "715:\tlearn: 3695359.2139936\ttotal: 2.03s\tremaining: 805ms\n",
      "716:\tlearn: 3693901.4825018\ttotal: 2.03s\tremaining: 802ms\n",
      "717:\tlearn: 3692440.1974373\ttotal: 2.03s\tremaining: 799ms\n",
      "718:\tlearn: 3690575.8343906\ttotal: 2.04s\tremaining: 796ms\n",
      "719:\tlearn: 3689340.3282580\ttotal: 2.04s\tremaining: 793ms\n",
      "720:\tlearn: 3687522.8297762\ttotal: 2.04s\tremaining: 790ms\n",
      "721:\tlearn: 3685996.7038936\ttotal: 2.04s\tremaining: 787ms\n",
      "722:\tlearn: 3684403.1234539\ttotal: 2.05s\tremaining: 784ms\n",
      "723:\tlearn: 3682719.0594521\ttotal: 2.05s\tremaining: 782ms\n",
      "724:\tlearn: 3681522.5462568\ttotal: 2.05s\tremaining: 779ms\n",
      "725:\tlearn: 3679690.6344324\ttotal: 2.06s\tremaining: 776ms\n",
      "726:\tlearn: 3677567.9665121\ttotal: 2.06s\tremaining: 773ms\n",
      "727:\tlearn: 3675394.9043217\ttotal: 2.06s\tremaining: 770ms\n",
      "728:\tlearn: 3674240.9776583\ttotal: 2.06s\tremaining: 767ms\n",
      "729:\tlearn: 3672910.3024372\ttotal: 2.07s\tremaining: 764ms\n",
      "730:\tlearn: 3671520.5466655\ttotal: 2.07s\tremaining: 761ms\n",
      "731:\tlearn: 3670143.1010483\ttotal: 2.07s\tremaining: 758ms\n",
      "732:\tlearn: 3668973.5027527\ttotal: 2.07s\tremaining: 755ms\n",
      "733:\tlearn: 3667568.1713067\ttotal: 2.08s\tremaining: 753ms\n",
      "734:\tlearn: 3666432.0038908\ttotal: 2.08s\tremaining: 750ms\n",
      "735:\tlearn: 3664692.7828346\ttotal: 2.08s\tremaining: 748ms\n",
      "736:\tlearn: 3663474.3240736\ttotal: 2.09s\tremaining: 745ms\n",
      "737:\tlearn: 3662160.5577100\ttotal: 2.09s\tremaining: 742ms\n",
      "738:\tlearn: 3661236.6792881\ttotal: 2.09s\tremaining: 739ms\n",
      "739:\tlearn: 3659683.2982608\ttotal: 2.1s\tremaining: 736ms\n",
      "740:\tlearn: 3658579.8546902\ttotal: 2.1s\tremaining: 734ms\n",
      "741:\tlearn: 3656987.1674705\ttotal: 2.1s\tremaining: 731ms\n",
      "742:\tlearn: 3655428.8703951\ttotal: 2.1s\tremaining: 728ms\n",
      "743:\tlearn: 3653533.7943136\ttotal: 2.11s\tremaining: 725ms\n",
      "744:\tlearn: 3652389.4666456\ttotal: 2.11s\tremaining: 722ms\n",
      "745:\tlearn: 3650926.6828072\ttotal: 2.11s\tremaining: 719ms\n",
      "746:\tlearn: 3649404.2039811\ttotal: 2.12s\tremaining: 716ms\n",
      "747:\tlearn: 3648082.3799588\ttotal: 2.12s\tremaining: 714ms\n",
      "748:\tlearn: 3646660.5593206\ttotal: 2.12s\tremaining: 711ms\n",
      "749:\tlearn: 3644743.7910468\ttotal: 2.12s\tremaining: 708ms\n",
      "750:\tlearn: 3643567.7515795\ttotal: 2.13s\tremaining: 705ms\n",
      "751:\tlearn: 3642398.5986585\ttotal: 2.13s\tremaining: 702ms\n",
      "752:\tlearn: 3640922.3615561\ttotal: 2.13s\tremaining: 699ms\n",
      "753:\tlearn: 3639749.9309868\ttotal: 2.13s\tremaining: 697ms\n",
      "754:\tlearn: 3637777.4341381\ttotal: 2.14s\tremaining: 694ms\n",
      "755:\tlearn: 3635839.9510941\ttotal: 2.14s\tremaining: 691ms\n",
      "756:\tlearn: 3634256.8197459\ttotal: 2.14s\tremaining: 688ms\n",
      "757:\tlearn: 3632819.9925712\ttotal: 2.15s\tremaining: 685ms\n",
      "758:\tlearn: 3631141.3126558\ttotal: 2.15s\tremaining: 682ms\n",
      "759:\tlearn: 3628949.3905093\ttotal: 2.15s\tremaining: 679ms\n",
      "760:\tlearn: 3627926.3505758\ttotal: 2.15s\tremaining: 677ms\n",
      "761:\tlearn: 3626185.8483818\ttotal: 2.16s\tremaining: 674ms\n",
      "762:\tlearn: 3624530.8322630\ttotal: 2.16s\tremaining: 671ms\n",
      "763:\tlearn: 3622479.5937949\ttotal: 2.16s\tremaining: 668ms\n",
      "764:\tlearn: 3619799.7141976\ttotal: 2.16s\tremaining: 665ms\n",
      "765:\tlearn: 3617871.4662490\ttotal: 2.18s\tremaining: 666ms\n",
      "766:\tlearn: 3616731.1758556\ttotal: 2.18s\tremaining: 663ms\n",
      "767:\tlearn: 3615461.1036684\ttotal: 2.19s\tremaining: 660ms\n",
      "768:\tlearn: 3613425.9146290\ttotal: 2.19s\tremaining: 657ms\n",
      "769:\tlearn: 3611865.4294782\ttotal: 2.19s\tremaining: 654ms\n",
      "770:\tlearn: 3610466.2489044\ttotal: 2.19s\tremaining: 652ms\n",
      "771:\tlearn: 3609200.9689041\ttotal: 2.2s\tremaining: 649ms\n",
      "772:\tlearn: 3608363.0176246\ttotal: 2.2s\tremaining: 646ms\n",
      "773:\tlearn: 3607252.3439121\ttotal: 2.2s\tremaining: 643ms\n",
      "774:\tlearn: 3605623.7792205\ttotal: 2.2s\tremaining: 640ms\n",
      "775:\tlearn: 3604224.0799973\ttotal: 2.21s\tremaining: 637ms\n",
      "776:\tlearn: 3602514.6283215\ttotal: 2.21s\tremaining: 635ms\n",
      "777:\tlearn: 3600768.9126738\ttotal: 2.21s\tremaining: 632ms\n",
      "778:\tlearn: 3599035.2347406\ttotal: 2.22s\tremaining: 629ms\n",
      "779:\tlearn: 3597898.1458910\ttotal: 2.22s\tremaining: 626ms\n",
      "780:\tlearn: 3596444.0825975\ttotal: 2.22s\tremaining: 623ms\n",
      "781:\tlearn: 3594928.6931434\ttotal: 2.23s\tremaining: 620ms\n",
      "782:\tlearn: 3593123.0954902\ttotal: 2.23s\tremaining: 617ms\n",
      "783:\tlearn: 3591763.0512941\ttotal: 2.23s\tremaining: 615ms\n",
      "784:\tlearn: 3589912.2345265\ttotal: 2.23s\tremaining: 612ms\n",
      "785:\tlearn: 3588571.7978354\ttotal: 2.24s\tremaining: 609ms\n",
      "786:\tlearn: 3586919.2419287\ttotal: 2.24s\tremaining: 606ms\n",
      "787:\tlearn: 3583950.2392070\ttotal: 2.24s\tremaining: 603ms\n",
      "788:\tlearn: 3582542.3710039\ttotal: 2.24s\tremaining: 600ms\n",
      "789:\tlearn: 3581677.3706336\ttotal: 2.25s\tremaining: 597ms\n",
      "790:\tlearn: 3580329.2012232\ttotal: 2.25s\tremaining: 595ms\n",
      "791:\tlearn: 3579048.3023945\ttotal: 2.25s\tremaining: 592ms\n",
      "792:\tlearn: 3577170.3113725\ttotal: 2.25s\tremaining: 589ms\n",
      "793:\tlearn: 3575796.9988599\ttotal: 2.26s\tremaining: 586ms\n",
      "794:\tlearn: 3574342.4813214\ttotal: 2.26s\tremaining: 583ms\n",
      "795:\tlearn: 3573093.2262870\ttotal: 2.26s\tremaining: 580ms\n",
      "796:\tlearn: 3571997.8290155\ttotal: 2.27s\tremaining: 577ms\n",
      "797:\tlearn: 3570199.5362737\ttotal: 2.27s\tremaining: 574ms\n",
      "798:\tlearn: 3569182.6831284\ttotal: 2.27s\tremaining: 572ms\n",
      "799:\tlearn: 3565836.5541468\ttotal: 2.27s\tremaining: 569ms\n",
      "800:\tlearn: 3564788.3116718\ttotal: 2.28s\tremaining: 566ms\n",
      "801:\tlearn: 3562978.8814523\ttotal: 2.28s\tremaining: 563ms\n",
      "802:\tlearn: 3561802.1078848\ttotal: 2.28s\tremaining: 560ms\n",
      "803:\tlearn: 3560571.3583979\ttotal: 2.29s\tremaining: 557ms\n",
      "804:\tlearn: 3559051.4236100\ttotal: 2.29s\tremaining: 554ms\n",
      "805:\tlearn: 3557591.4263804\ttotal: 2.29s\tremaining: 552ms\n",
      "806:\tlearn: 3555987.8936445\ttotal: 2.29s\tremaining: 549ms\n",
      "807:\tlearn: 3554803.8717846\ttotal: 2.3s\tremaining: 546ms\n",
      "808:\tlearn: 3551718.8818124\ttotal: 2.3s\tremaining: 543ms\n",
      "809:\tlearn: 3550795.0423056\ttotal: 2.3s\tremaining: 540ms\n",
      "810:\tlearn: 3549180.2594198\ttotal: 2.31s\tremaining: 537ms\n",
      "811:\tlearn: 3547516.0472417\ttotal: 2.31s\tremaining: 535ms\n",
      "812:\tlearn: 3545441.2571749\ttotal: 2.31s\tremaining: 532ms\n",
      "813:\tlearn: 3543697.6924810\ttotal: 2.31s\tremaining: 529ms\n",
      "814:\tlearn: 3542173.6960911\ttotal: 2.32s\tremaining: 526ms\n",
      "815:\tlearn: 3541153.9162332\ttotal: 2.32s\tremaining: 523ms\n",
      "816:\tlearn: 3540229.4535949\ttotal: 2.32s\tremaining: 520ms\n",
      "817:\tlearn: 3538706.9310786\ttotal: 2.33s\tremaining: 517ms\n",
      "818:\tlearn: 3537444.4776889\ttotal: 2.33s\tremaining: 515ms\n",
      "819:\tlearn: 3535576.7548616\ttotal: 2.33s\tremaining: 512ms\n",
      "820:\tlearn: 3533906.7936992\ttotal: 2.33s\tremaining: 509ms\n",
      "821:\tlearn: 3533064.6119732\ttotal: 2.34s\tremaining: 506ms\n",
      "822:\tlearn: 3530763.3631086\ttotal: 2.34s\tremaining: 503ms\n",
      "823:\tlearn: 3529659.8323133\ttotal: 2.34s\tremaining: 500ms\n",
      "824:\tlearn: 3528612.2561375\ttotal: 2.35s\tremaining: 497ms\n",
      "825:\tlearn: 3527279.7315851\ttotal: 2.35s\tremaining: 495ms\n",
      "826:\tlearn: 3526421.1774220\ttotal: 2.35s\tremaining: 492ms\n",
      "827:\tlearn: 3524603.0389578\ttotal: 2.35s\tremaining: 489ms\n",
      "828:\tlearn: 3523485.4914081\ttotal: 2.36s\tremaining: 486ms\n",
      "829:\tlearn: 3521469.2557351\ttotal: 2.36s\tremaining: 483ms\n",
      "830:\tlearn: 3519278.9853995\ttotal: 2.36s\tremaining: 480ms\n",
      "831:\tlearn: 3517480.7174825\ttotal: 2.36s\tremaining: 477ms\n",
      "832:\tlearn: 3516519.0206674\ttotal: 2.37s\tremaining: 475ms\n",
      "833:\tlearn: 3514682.9071269\ttotal: 2.37s\tremaining: 472ms\n",
      "834:\tlearn: 3512976.7090981\ttotal: 2.37s\tremaining: 469ms\n",
      "835:\tlearn: 3510740.0993946\ttotal: 2.38s\tremaining: 466ms\n",
      "836:\tlearn: 3507954.7007417\ttotal: 2.38s\tremaining: 463ms\n",
      "837:\tlearn: 3505878.9148978\ttotal: 2.38s\tremaining: 460ms\n",
      "838:\tlearn: 3504511.7612600\ttotal: 2.38s\tremaining: 457ms\n",
      "839:\tlearn: 3502928.8222832\ttotal: 2.38s\tremaining: 454ms\n",
      "840:\tlearn: 3501178.1690643\ttotal: 2.39s\tremaining: 452ms\n",
      "841:\tlearn: 3498210.3348748\ttotal: 2.39s\tremaining: 449ms\n",
      "842:\tlearn: 3496986.5617500\ttotal: 2.39s\tremaining: 446ms\n",
      "843:\tlearn: 3495453.6341535\ttotal: 2.4s\tremaining: 443ms\n",
      "844:\tlearn: 3493327.1544381\ttotal: 2.4s\tremaining: 440ms\n",
      "845:\tlearn: 3491529.9358928\ttotal: 2.4s\tremaining: 437ms\n",
      "846:\tlearn: 3490179.5607197\ttotal: 2.4s\tremaining: 434ms\n",
      "847:\tlearn: 3488052.0886924\ttotal: 2.41s\tremaining: 431ms\n",
      "848:\tlearn: 3486003.8881092\ttotal: 2.41s\tremaining: 429ms\n",
      "849:\tlearn: 3485059.7809526\ttotal: 2.41s\tremaining: 426ms\n",
      "850:\tlearn: 3484375.9627584\ttotal: 2.41s\tremaining: 423ms\n",
      "851:\tlearn: 3482992.7754682\ttotal: 2.42s\tremaining: 420ms\n",
      "852:\tlearn: 3481364.5998311\ttotal: 2.42s\tremaining: 417ms\n",
      "853:\tlearn: 3479669.3665800\ttotal: 2.42s\tremaining: 414ms\n",
      "854:\tlearn: 3476800.2450785\ttotal: 2.42s\tremaining: 411ms\n",
      "855:\tlearn: 3475445.1648477\ttotal: 2.43s\tremaining: 409ms\n",
      "856:\tlearn: 3474455.4878644\ttotal: 2.43s\tremaining: 406ms\n",
      "857:\tlearn: 3473549.2846630\ttotal: 2.43s\tremaining: 403ms\n",
      "858:\tlearn: 3469962.3252995\ttotal: 2.44s\tremaining: 400ms\n",
      "859:\tlearn: 3468698.5035433\ttotal: 2.44s\tremaining: 397ms\n",
      "860:\tlearn: 3466817.9789908\ttotal: 2.44s\tremaining: 394ms\n",
      "861:\tlearn: 3464837.5588135\ttotal: 2.44s\tremaining: 391ms\n",
      "862:\tlearn: 3462712.4601514\ttotal: 2.45s\tremaining: 388ms\n",
      "863:\tlearn: 3460611.4014978\ttotal: 2.45s\tremaining: 386ms\n",
      "864:\tlearn: 3458208.0233619\ttotal: 2.45s\tremaining: 383ms\n",
      "865:\tlearn: 3456800.3244748\ttotal: 2.45s\tremaining: 380ms\n",
      "866:\tlearn: 3454854.9985512\ttotal: 2.46s\tremaining: 377ms\n",
      "867:\tlearn: 3451499.7312796\ttotal: 2.46s\tremaining: 374ms\n",
      "868:\tlearn: 3450652.6546293\ttotal: 2.46s\tremaining: 371ms\n",
      "869:\tlearn: 3449639.1187530\ttotal: 2.46s\tremaining: 368ms\n",
      "870:\tlearn: 3448224.4130954\ttotal: 2.47s\tremaining: 366ms\n",
      "871:\tlearn: 3446959.6229765\ttotal: 2.47s\tremaining: 363ms\n",
      "872:\tlearn: 3445717.4080359\ttotal: 2.47s\tremaining: 360ms\n",
      "873:\tlearn: 3444919.9407670\ttotal: 2.48s\tremaining: 357ms\n",
      "874:\tlearn: 3443561.4122184\ttotal: 2.48s\tremaining: 354ms\n",
      "875:\tlearn: 3442291.9645692\ttotal: 2.48s\tremaining: 351ms\n",
      "876:\tlearn: 3440607.6794417\ttotal: 2.48s\tremaining: 348ms\n",
      "877:\tlearn: 3439396.2562385\ttotal: 2.49s\tremaining: 345ms\n",
      "878:\tlearn: 3438661.5191393\ttotal: 2.49s\tremaining: 343ms\n",
      "879:\tlearn: 3437503.3296196\ttotal: 2.49s\tremaining: 340ms\n",
      "880:\tlearn: 3436568.3118773\ttotal: 2.49s\tremaining: 337ms\n",
      "881:\tlearn: 3435153.8934129\ttotal: 2.5s\tremaining: 334ms\n",
      "882:\tlearn: 3433450.2044490\ttotal: 2.5s\tremaining: 331ms\n",
      "883:\tlearn: 3432088.2445444\ttotal: 2.5s\tremaining: 328ms\n",
      "884:\tlearn: 3431080.1702520\ttotal: 2.5s\tremaining: 325ms\n",
      "885:\tlearn: 3430168.3492345\ttotal: 2.51s\tremaining: 323ms\n",
      "886:\tlearn: 3428315.4793309\ttotal: 2.51s\tremaining: 320ms\n",
      "887:\tlearn: 3427910.8848040\ttotal: 2.51s\tremaining: 317ms\n",
      "888:\tlearn: 3426944.1660376\ttotal: 2.51s\tremaining: 314ms\n",
      "889:\tlearn: 3425896.8406282\ttotal: 2.52s\tremaining: 311ms\n",
      "890:\tlearn: 3424283.5999210\ttotal: 2.52s\tremaining: 308ms\n",
      "891:\tlearn: 3423374.9983372\ttotal: 2.52s\tremaining: 306ms\n",
      "892:\tlearn: 3422601.6707458\ttotal: 2.53s\tremaining: 303ms\n",
      "893:\tlearn: 3421195.6719420\ttotal: 2.53s\tremaining: 300ms\n",
      "894:\tlearn: 3419251.3891710\ttotal: 2.53s\tremaining: 297ms\n",
      "895:\tlearn: 3417015.4295603\ttotal: 2.53s\tremaining: 294ms\n",
      "896:\tlearn: 3416421.1220973\ttotal: 2.54s\tremaining: 291ms\n",
      "897:\tlearn: 3415165.4860580\ttotal: 2.54s\tremaining: 288ms\n",
      "898:\tlearn: 3413857.6503207\ttotal: 2.54s\tremaining: 286ms\n",
      "899:\tlearn: 3412155.8546398\ttotal: 2.54s\tremaining: 283ms\n",
      "900:\tlearn: 3410194.6214987\ttotal: 2.55s\tremaining: 280ms\n",
      "901:\tlearn: 3408147.0810071\ttotal: 2.55s\tremaining: 277ms\n",
      "902:\tlearn: 3406367.6678731\ttotal: 2.55s\tremaining: 274ms\n",
      "903:\tlearn: 3404376.2314993\ttotal: 2.56s\tremaining: 271ms\n",
      "904:\tlearn: 3403013.9090591\ttotal: 2.56s\tremaining: 269ms\n",
      "905:\tlearn: 3401584.2116123\ttotal: 2.56s\tremaining: 266ms\n",
      "906:\tlearn: 3401045.5744079\ttotal: 2.56s\tremaining: 263ms\n",
      "907:\tlearn: 3399885.3549595\ttotal: 2.57s\tremaining: 260ms\n",
      "908:\tlearn: 3398993.9622973\ttotal: 2.57s\tremaining: 257ms\n",
      "909:\tlearn: 3397246.5328391\ttotal: 2.57s\tremaining: 254ms\n",
      "910:\tlearn: 3396064.2974030\ttotal: 2.58s\tremaining: 252ms\n",
      "911:\tlearn: 3395080.5466925\ttotal: 2.58s\tremaining: 249ms\n",
      "912:\tlearn: 3394174.0739183\ttotal: 2.58s\tremaining: 246ms\n",
      "913:\tlearn: 3392985.4220738\ttotal: 2.58s\tremaining: 243ms\n",
      "914:\tlearn: 3390894.8033210\ttotal: 2.59s\tremaining: 240ms\n",
      "915:\tlearn: 3389630.1250648\ttotal: 2.59s\tremaining: 237ms\n",
      "916:\tlearn: 3387381.2291090\ttotal: 2.59s\tremaining: 235ms\n",
      "917:\tlearn: 3385073.6233041\ttotal: 2.59s\tremaining: 232ms\n",
      "918:\tlearn: 3383734.3477664\ttotal: 2.6s\tremaining: 229ms\n",
      "919:\tlearn: 3381704.0527705\ttotal: 2.6s\tremaining: 226ms\n",
      "920:\tlearn: 3381103.7023205\ttotal: 2.6s\tremaining: 223ms\n",
      "921:\tlearn: 3379447.5708568\ttotal: 2.6s\tremaining: 220ms\n",
      "922:\tlearn: 3377684.0338862\ttotal: 2.61s\tremaining: 218ms\n",
      "923:\tlearn: 3376391.2984493\ttotal: 2.61s\tremaining: 215ms\n",
      "924:\tlearn: 3375093.1392932\ttotal: 2.61s\tremaining: 212ms\n",
      "925:\tlearn: 3373361.7735275\ttotal: 2.62s\tremaining: 209ms\n",
      "926:\tlearn: 3371503.6529689\ttotal: 2.62s\tremaining: 206ms\n",
      "927:\tlearn: 3370331.8312689\ttotal: 2.62s\tremaining: 203ms\n",
      "928:\tlearn: 3369304.7222718\ttotal: 2.62s\tremaining: 201ms\n",
      "929:\tlearn: 3368502.1837533\ttotal: 2.63s\tremaining: 198ms\n",
      "930:\tlearn: 3367268.8748642\ttotal: 2.63s\tremaining: 195ms\n",
      "931:\tlearn: 3365598.0785841\ttotal: 2.63s\tremaining: 192ms\n",
      "932:\tlearn: 3364103.1466121\ttotal: 2.63s\tremaining: 189ms\n",
      "933:\tlearn: 3362999.2016359\ttotal: 2.64s\tremaining: 186ms\n",
      "934:\tlearn: 3361874.9926781\ttotal: 2.64s\tremaining: 184ms\n",
      "935:\tlearn: 3359039.6050814\ttotal: 2.64s\tremaining: 181ms\n",
      "936:\tlearn: 3357506.5434433\ttotal: 2.65s\tremaining: 178ms\n",
      "937:\tlearn: 3356794.0825132\ttotal: 2.65s\tremaining: 175ms\n",
      "938:\tlearn: 3355432.6824285\ttotal: 2.65s\tremaining: 172ms\n",
      "939:\tlearn: 3354619.1434726\ttotal: 2.65s\tremaining: 169ms\n",
      "940:\tlearn: 3353558.0527650\ttotal: 2.66s\tremaining: 167ms\n",
      "941:\tlearn: 3351924.2976287\ttotal: 2.66s\tremaining: 164ms\n",
      "942:\tlearn: 3350992.3492335\ttotal: 2.66s\tremaining: 161ms\n",
      "943:\tlearn: 3349362.2525822\ttotal: 2.66s\tremaining: 158ms\n",
      "944:\tlearn: 3348093.0833181\ttotal: 2.67s\tremaining: 155ms\n",
      "945:\tlearn: 3347461.3474226\ttotal: 2.67s\tremaining: 152ms\n",
      "946:\tlearn: 3346544.0079084\ttotal: 2.67s\tremaining: 150ms\n",
      "947:\tlearn: 3345414.7238646\ttotal: 2.67s\tremaining: 147ms\n",
      "948:\tlearn: 3344529.4768433\ttotal: 2.68s\tremaining: 144ms\n",
      "949:\tlearn: 3343295.5392615\ttotal: 2.68s\tremaining: 141ms\n",
      "950:\tlearn: 3342323.3642196\ttotal: 2.68s\tremaining: 138ms\n",
      "951:\tlearn: 3341456.3876829\ttotal: 2.69s\tremaining: 135ms\n",
      "952:\tlearn: 3340097.1407071\ttotal: 2.69s\tremaining: 133ms\n",
      "953:\tlearn: 3338041.8374897\ttotal: 2.69s\tremaining: 130ms\n",
      "954:\tlearn: 3336735.9503701\ttotal: 2.69s\tremaining: 127ms\n",
      "955:\tlearn: 3335469.3033984\ttotal: 2.7s\tremaining: 124ms\n",
      "956:\tlearn: 3334802.9064114\ttotal: 2.7s\tremaining: 121ms\n",
      "957:\tlearn: 3334052.7209931\ttotal: 2.7s\tremaining: 119ms\n",
      "958:\tlearn: 3333139.0336102\ttotal: 2.71s\tremaining: 116ms\n",
      "959:\tlearn: 3332074.3812538\ttotal: 2.71s\tremaining: 113ms\n",
      "960:\tlearn: 3331284.1810286\ttotal: 2.71s\tremaining: 110ms\n",
      "961:\tlearn: 3330397.7480481\ttotal: 2.71s\tremaining: 107ms\n",
      "962:\tlearn: 3329109.0881620\ttotal: 2.72s\tremaining: 104ms\n",
      "963:\tlearn: 3327061.4706238\ttotal: 2.72s\tremaining: 102ms\n",
      "964:\tlearn: 3324461.8346891\ttotal: 2.72s\tremaining: 98.7ms\n",
      "965:\tlearn: 3322894.2129402\ttotal: 2.72s\tremaining: 95.9ms\n",
      "966:\tlearn: 3321295.8305519\ttotal: 2.73s\tremaining: 93.1ms\n",
      "967:\tlearn: 3320376.0994766\ttotal: 2.73s\tremaining: 90.2ms\n",
      "968:\tlearn: 3318907.0870546\ttotal: 2.73s\tremaining: 87.4ms\n",
      "969:\tlearn: 3317775.4013437\ttotal: 2.74s\tremaining: 84.6ms\n",
      "970:\tlearn: 3316540.5981876\ttotal: 2.74s\tremaining: 81.8ms\n",
      "971:\tlearn: 3315366.9538451\ttotal: 2.74s\tremaining: 79ms\n",
      "972:\tlearn: 3313655.9424667\ttotal: 2.75s\tremaining: 76.2ms\n",
      "973:\tlearn: 3312497.6745487\ttotal: 2.75s\tremaining: 73.4ms\n",
      "974:\tlearn: 3311894.8614587\ttotal: 2.75s\tremaining: 70.6ms\n",
      "975:\tlearn: 3309856.0866256\ttotal: 2.76s\tremaining: 67.8ms\n",
      "976:\tlearn: 3308816.7676936\ttotal: 2.76s\tremaining: 64.9ms\n",
      "977:\tlearn: 3308017.6756500\ttotal: 2.76s\tremaining: 62.1ms\n",
      "978:\tlearn: 3304918.8592718\ttotal: 2.76s\tremaining: 59.3ms\n",
      "979:\tlearn: 3304133.0885317\ttotal: 2.77s\tremaining: 56.5ms\n",
      "980:\tlearn: 3302227.9897983\ttotal: 2.77s\tremaining: 53.7ms\n",
      "981:\tlearn: 3300598.4683828\ttotal: 2.77s\tremaining: 50.8ms\n",
      "982:\tlearn: 3299381.5240323\ttotal: 2.77s\tremaining: 48ms\n",
      "983:\tlearn: 3298307.2128729\ttotal: 2.78s\tremaining: 45.2ms\n",
      "984:\tlearn: 3296673.1520901\ttotal: 2.78s\tremaining: 42.4ms\n",
      "985:\tlearn: 3295180.1351496\ttotal: 2.78s\tremaining: 39.5ms\n",
      "986:\tlearn: 3294328.3780223\ttotal: 2.79s\tremaining: 36.7ms\n",
      "987:\tlearn: 3292710.6773810\ttotal: 2.79s\tremaining: 33.9ms\n",
      "988:\tlearn: 3291726.2935233\ttotal: 2.79s\tremaining: 31.1ms\n",
      "989:\tlearn: 3290785.3514559\ttotal: 2.79s\tremaining: 28.2ms\n",
      "990:\tlearn: 3289289.6806491\ttotal: 2.8s\tremaining: 25.4ms\n",
      "991:\tlearn: 3288390.1008259\ttotal: 2.8s\tremaining: 22.6ms\n",
      "992:\tlearn: 3286393.3778680\ttotal: 2.8s\tremaining: 19.8ms\n",
      "993:\tlearn: 3285027.3003850\ttotal: 2.81s\tremaining: 16.9ms\n",
      "994:\tlearn: 3283742.3857986\ttotal: 2.81s\tremaining: 14.1ms\n",
      "995:\tlearn: 3282899.0154448\ttotal: 2.81s\tremaining: 11.3ms\n",
      "996:\tlearn: 3281409.1893394\ttotal: 2.81s\tremaining: 8.47ms\n",
      "997:\tlearn: 3279495.2904038\ttotal: 2.82s\tremaining: 5.64ms\n",
      "998:\tlearn: 3278549.6605340\ttotal: 2.82s\tremaining: 2.82ms\n",
      "999:\tlearn: 3277575.4766675\ttotal: 2.82s\tremaining: 0us\n",
      "[LightGBM] [Info] Auto-choosing col-wise multi-threading, the overhead of testing was 0.000437 seconds.\n",
      "You can set `force_col_wise=true` to remove the overhead.\n",
      "[LightGBM] [Info] Total Bins 1229\n",
      "[LightGBM] [Info] Number of data points in the train set: 10464, number of used features: 12\n",
      "[LightGBM] [Info] Start training from score 8983092.029817\n",
      "\n",
      "====== Models Before Hyper Parameter Tuning ======\n"
     ]
    },
    {
     "data": {
      "text/html": [
       "<div>\n",
       "<style scoped>\n",
       "    .dataframe tbody tr th:only-of-type {\n",
       "        vertical-align: middle;\n",
       "    }\n",
       "\n",
       "    .dataframe tbody tr th {\n",
       "        vertical-align: top;\n",
       "    }\n",
       "\n",
       "    .dataframe thead th {\n",
       "        text-align: right;\n",
       "    }\n",
       "</style>\n",
       "<table border=\"1\" class=\"dataframe\">\n",
       "  <thead>\n",
       "    <tr style=\"text-align: right;\">\n",
       "      <th></th>\n",
       "      <th>Model</th>\n",
       "      <th>MAE</th>\n",
       "      <th>MSE</th>\n",
       "      <th>RMSE</th>\n",
       "      <th>R2 Score</th>\n",
       "    </tr>\n",
       "  </thead>\n",
       "  <tbody>\n",
       "    <tr>\n",
       "      <th>0</th>\n",
       "      <td>CatBoost</td>\n",
       "      <td>3987041.24</td>\n",
       "      <td>70881905900225.12</td>\n",
       "      <td>8419139.26</td>\n",
       "      <td>0.74</td>\n",
       "    </tr>\n",
       "    <tr>\n",
       "      <th>1</th>\n",
       "      <td>LightGBM</td>\n",
       "      <td>4112789.11</td>\n",
       "      <td>75321438186416.45</td>\n",
       "      <td>8678792.44</td>\n",
       "      <td>0.72</td>\n",
       "    </tr>\n",
       "    <tr>\n",
       "      <th>2</th>\n",
       "      <td>XGBoost</td>\n",
       "      <td>4358654.98</td>\n",
       "      <td>83436868567775.28</td>\n",
       "      <td>9134378.39</td>\n",
       "      <td>0.69</td>\n",
       "    </tr>\n",
       "    <tr>\n",
       "      <th>3</th>\n",
       "      <td>Random Forest</td>\n",
       "      <td>4254312.33</td>\n",
       "      <td>86897165765325.34</td>\n",
       "      <td>9321864.93</td>\n",
       "      <td>0.68</td>\n",
       "    </tr>\n",
       "    <tr>\n",
       "      <th>4</th>\n",
       "      <td>Linear Regression</td>\n",
       "      <td>5359661.96</td>\n",
       "      <td>94541045505559.31</td>\n",
       "      <td>9723221.97</td>\n",
       "      <td>0.65</td>\n",
       "    </tr>\n",
       "    <tr>\n",
       "      <th>5</th>\n",
       "      <td>Decision Tree</td>\n",
       "      <td>5493904.11</td>\n",
       "      <td>123876164811643.83</td>\n",
       "      <td>11129966.97</td>\n",
       "      <td>0.54</td>\n",
       "    </tr>\n",
       "  </tbody>\n",
       "</table>\n",
       "</div>"
      ],
      "text/plain": [
       "               Model         MAE                 MSE         RMSE R2 Score\n",
       "0           CatBoost  3987041.24   70881905900225.12   8419139.26     0.74\n",
       "1           LightGBM  4112789.11   75321438186416.45   8678792.44     0.72\n",
       "2            XGBoost  4358654.98   83436868567775.28   9134378.39     0.69\n",
       "3      Random Forest  4254312.33   86897165765325.34   9321864.93     0.68\n",
       "4  Linear Regression  5359661.96   94541045505559.31   9723221.97     0.65\n",
       "5      Decision Tree  5493904.11  123876164811643.83  11129966.97     0.54"
      ]
     },
     "execution_count": 23,
     "metadata": {},
     "output_type": "execute_result"
    }
   ],
   "source": [
    "# Top 3 : CatBoost, LightGBM, XGBoost순으로 R2 Score 높다\n",
    "model_list(models)\n",
    "    "
   ]
  },
  {
   "cell_type": "code",
   "execution_count": 24,
   "metadata": {},
   "outputs": [],
   "source": [
    "# 범주형 변수를 따로 Target Encoding 거치지 않은 데이터셋으로 학습한 CatBoost 확인\n",
    "def model_list2(models):\n",
    "    models_results = []\n",
    "\n",
    "    for model_name, model in models:\n",
    "\n",
    "        if model_name == \"CatBoost\":\n",
    "\n",
    "            cat_features = X_train_no_enc.select_dtypes(exclude=np.number).columns.tolist()\n",
    "\n",
    "            # 모델 생성 및 훈련\n",
    "            model.fit(X_train_no_enc, y_train, cat_features=cat_features)\n",
    "\n",
    "            # Robust Scaling 거치지 않은 train 데이터를 바탕으로 예측\n",
    "            y_train_pred_cat = model.predict(X_train_no_enc)\n",
    "            y_val_pred_cat = model.predict(X_val_no_enc)\n",
    "            y_test_pred_cat = model.predict(X_test_no_enc)\n",
    "\n",
    "            # 모델의 MAE, MSE, RMSE, R2 score 확인\n",
    "            meanAbErr_cat = metrics.mean_absolute_error(y_test, y_test_pred_cat)\n",
    "            meanSqErr_cat = metrics.mean_squared_error(y_test, y_test_pred_cat)\n",
    "            # rootMeanSqErr_cat = np.sqrt(metrics.mean_squared_error(y_test, y_test_pred_cat))\n",
    "            rootMeanSqErr_cat = metrics.mean_squared_error(y_test, y_test_pred_cat, squared=False)\n",
    "\n",
    "\n",
    "            # 결과를 리스트에 저장\n",
    "            models_results.append({\"Model\" : model_name,\n",
    "                                    \"MAE\" : '{:.2f}'.format(meanAbErr_cat),\n",
    "                                    \"MSE\" : '{:.2f}'.format(meanSqErr_cat),\n",
    "                                    \"RMSE\" : '{:.2f}'.format(rootMeanSqErr_cat),\n",
    "                                    \"R2 Score\" : '{:.2f}'.format(model.score(X_test_no_enc, y_test))})\n",
    "        \n",
    "        else:\n",
    "            \n",
    "            # 모델 생성 및 훈련\n",
    "            model.fit(X_train, y_train)\n",
    "\n",
    "            # Robust Scaling 거친 train 데이터를 바탕으로 예측\n",
    "            y_train_pred = model.predict(X_train)\n",
    "            y_val_pred = model.predict(X_val)\n",
    "            y_test_pred = model.predict(X_test)\n",
    "\n",
    "            # 모델의 MAE, MSE, RMSE, R2 score 확인\n",
    "            meanAbErr = metrics.mean_absolute_error(y_test, y_test_pred)\n",
    "            meanSqErr = metrics.mean_squared_error(y_test, y_test_pred)\n",
    "            # rootMeanSqErr = np.sqrt(metrics.mean_squared_error(y_test, y_test_pred))\n",
    "            rootMeanSqErr = metrics.mean_squared_error(y_test, y_test_pred, squared=False)\n",
    "\n",
    "\n",
    "            # 결과를 리스트에 저장\n",
    "            models_results.append({\"Model\" : model_name,\n",
    "                                    \"MAE\" : '{:.2f}'.format(meanAbErr),\n",
    "                                    \"MSE\" : '{:.2f}'.format(meanSqErr),\n",
    "                                    \"RMSE\" : '{:.2f}'.format(rootMeanSqErr),\n",
    "                                    \"R2 Score\" : '{:.2f}'.format(model.score(X_test, y_test))})\n",
    "    \n",
    "    # 결과 리스트를 DataFrame으로 변환\n",
    "    models_df = pd.DataFrame(models_results)\n",
    "\n",
    "    print(f\"\\n====== Models before Hyper Parameter Tuning ======\")\n",
    "    \n",
    "    return models_df.sort_values(by=[\"R2 Score\", \"RMSE\"], ascending=[False, True]).reset_index(drop=True)"
   ]
  },
  {
   "cell_type": "code",
   "execution_count": 25,
   "metadata": {},
   "outputs": [
    {
     "name": "stdout",
     "output_type": "stream",
     "text": [
      "Learning rate set to 0.059332\n",
      "0:\tlearn: 13653696.6051392\ttotal: 71.8ms\tremaining: 1m 11s\n",
      "1:\tlearn: 13289911.9578542\ttotal: 152ms\tremaining: 1m 15s\n",
      "2:\tlearn: 12974497.2540124\ttotal: 230ms\tremaining: 1m 16s\n",
      "3:\tlearn: 12664524.7075041\ttotal: 308ms\tremaining: 1m 16s\n",
      "4:\tlearn: 12381771.8118006\ttotal: 384ms\tremaining: 1m 16s\n",
      "5:\tlearn: 12110808.3301324\ttotal: 461ms\tremaining: 1m 16s\n",
      "6:\tlearn: 11857426.9500235\ttotal: 537ms\tremaining: 1m 16s\n",
      "7:\tlearn: 11614183.0093664\ttotal: 620ms\tremaining: 1m 16s\n",
      "8:\tlearn: 11410700.5592546\ttotal: 704ms\tremaining: 1m 17s\n",
      "9:\tlearn: 11187253.5307023\ttotal: 856ms\tremaining: 1m 24s\n",
      "10:\tlearn: 10977126.3796601\ttotal: 961ms\tremaining: 1m 26s\n",
      "11:\tlearn: 10794053.4259314\ttotal: 1.05s\tremaining: 1m 26s\n",
      "12:\tlearn: 10632607.2516437\ttotal: 1.14s\tremaining: 1m 26s\n",
      "13:\tlearn: 10463427.2507392\ttotal: 1.22s\tremaining: 1m 25s\n",
      "14:\tlearn: 10314079.3497962\ttotal: 1.3s\tremaining: 1m 25s\n",
      "15:\tlearn: 10166125.8591156\ttotal: 1.37s\tremaining: 1m 24s\n",
      "16:\tlearn: 10041279.0114318\ttotal: 1.46s\tremaining: 1m 24s\n",
      "17:\tlearn: 9913880.9363225\ttotal: 1.53s\tremaining: 1m 23s\n",
      "18:\tlearn: 9807153.9831189\ttotal: 1.61s\tremaining: 1m 22s\n",
      "19:\tlearn: 9686940.5559453\ttotal: 1.69s\tremaining: 1m 22s\n",
      "20:\tlearn: 9566429.5967320\ttotal: 1.77s\tremaining: 1m 22s\n",
      "21:\tlearn: 9474636.1701422\ttotal: 1.85s\tremaining: 1m 22s\n",
      "22:\tlearn: 9398267.8959780\ttotal: 1.92s\tremaining: 1m 21s\n",
      "23:\tlearn: 9316464.7605659\ttotal: 2s\tremaining: 1m 21s\n",
      "24:\tlearn: 9233534.7495638\ttotal: 2.09s\tremaining: 1m 21s\n",
      "25:\tlearn: 9136735.8515042\ttotal: 2.17s\tremaining: 1m 21s\n",
      "26:\tlearn: 9054682.5801244\ttotal: 2.25s\tremaining: 1m 21s\n",
      "27:\tlearn: 8991102.7377345\ttotal: 2.33s\tremaining: 1m 20s\n",
      "28:\tlearn: 8947734.3551949\ttotal: 2.4s\tremaining: 1m 20s\n",
      "29:\tlearn: 8889333.9577482\ttotal: 2.49s\tremaining: 1m 20s\n",
      "30:\tlearn: 8824597.8277134\ttotal: 2.57s\tremaining: 1m 20s\n",
      "31:\tlearn: 8774443.5992419\ttotal: 2.64s\tremaining: 1m 19s\n",
      "32:\tlearn: 8727834.9785342\ttotal: 2.72s\tremaining: 1m 19s\n",
      "33:\tlearn: 8683280.2685476\ttotal: 2.8s\tremaining: 1m 19s\n",
      "34:\tlearn: 8644906.6549226\ttotal: 2.88s\tremaining: 1m 19s\n",
      "35:\tlearn: 8608200.3947121\ttotal: 2.96s\tremaining: 1m 19s\n",
      "36:\tlearn: 8567701.2554767\ttotal: 3.09s\tremaining: 1m 20s\n",
      "37:\tlearn: 8537392.5133757\ttotal: 3.21s\tremaining: 1m 21s\n",
      "38:\tlearn: 8500606.1697410\ttotal: 3.33s\tremaining: 1m 21s\n",
      "39:\tlearn: 8472546.7672833\ttotal: 3.4s\tremaining: 1m 21s\n",
      "40:\tlearn: 8444634.2335662\ttotal: 3.48s\tremaining: 1m 21s\n",
      "41:\tlearn: 8408767.0379337\ttotal: 3.56s\tremaining: 1m 21s\n",
      "42:\tlearn: 8384625.2074020\ttotal: 3.63s\tremaining: 1m 20s\n",
      "43:\tlearn: 8365397.1323783\ttotal: 3.72s\tremaining: 1m 20s\n",
      "44:\tlearn: 8342457.4340749\ttotal: 3.8s\tremaining: 1m 20s\n",
      "45:\tlearn: 8319581.9351298\ttotal: 3.87s\tremaining: 1m 20s\n",
      "46:\tlearn: 8296880.3785256\ttotal: 3.96s\tremaining: 1m 20s\n",
      "47:\tlearn: 8271366.2850005\ttotal: 4.04s\tremaining: 1m 20s\n",
      "48:\tlearn: 8253402.9499805\ttotal: 4.12s\tremaining: 1m 19s\n",
      "49:\tlearn: 8226834.1702418\ttotal: 4.2s\tremaining: 1m 19s\n",
      "50:\tlearn: 8203965.0295876\ttotal: 4.27s\tremaining: 1m 19s\n",
      "51:\tlearn: 8185325.5363763\ttotal: 4.35s\tremaining: 1m 19s\n",
      "52:\tlearn: 8155370.4568726\ttotal: 4.42s\tremaining: 1m 19s\n",
      "53:\tlearn: 8137417.9312869\ttotal: 4.5s\tremaining: 1m 18s\n",
      "54:\tlearn: 8109217.4947546\ttotal: 4.57s\tremaining: 1m 18s\n",
      "55:\tlearn: 8091306.8519434\ttotal: 4.65s\tremaining: 1m 18s\n",
      "56:\tlearn: 8066149.5585814\ttotal: 4.73s\tremaining: 1m 18s\n",
      "57:\tlearn: 8040510.3241305\ttotal: 4.8s\tremaining: 1m 17s\n",
      "58:\tlearn: 8017656.4841909\ttotal: 4.88s\tremaining: 1m 17s\n",
      "59:\tlearn: 8001002.6782575\ttotal: 4.95s\tremaining: 1m 17s\n",
      "60:\tlearn: 7985803.6993874\ttotal: 5.03s\tremaining: 1m 17s\n",
      "61:\tlearn: 7957427.1943352\ttotal: 5.12s\tremaining: 1m 17s\n",
      "62:\tlearn: 7940331.6961987\ttotal: 5.19s\tremaining: 1m 17s\n",
      "63:\tlearn: 7905635.6943275\ttotal: 5.27s\tremaining: 1m 17s\n",
      "64:\tlearn: 7888777.7368471\ttotal: 5.37s\tremaining: 1m 17s\n",
      "65:\tlearn: 7875172.9696401\ttotal: 5.49s\tremaining: 1m 17s\n",
      "66:\tlearn: 7863058.1463627\ttotal: 5.6s\tremaining: 1m 17s\n",
      "67:\tlearn: 7853808.6522415\ttotal: 5.67s\tremaining: 1m 17s\n",
      "68:\tlearn: 7827161.8368805\ttotal: 5.75s\tremaining: 1m 17s\n",
      "69:\tlearn: 7809658.5512610\ttotal: 5.83s\tremaining: 1m 17s\n",
      "70:\tlearn: 7797623.0202576\ttotal: 5.9s\tremaining: 1m 17s\n",
      "71:\tlearn: 7785724.8927619\ttotal: 5.99s\tremaining: 1m 17s\n",
      "72:\tlearn: 7765929.8609793\ttotal: 6.08s\tremaining: 1m 17s\n",
      "73:\tlearn: 7755553.8930607\ttotal: 6.17s\tremaining: 1m 17s\n",
      "74:\tlearn: 7748222.5964914\ttotal: 6.25s\tremaining: 1m 17s\n",
      "75:\tlearn: 7744675.3103158\ttotal: 6.29s\tremaining: 1m 16s\n",
      "76:\tlearn: 7733452.9702952\ttotal: 6.36s\tremaining: 1m 16s\n",
      "77:\tlearn: 7716570.6002560\ttotal: 6.44s\tremaining: 1m 16s\n",
      "78:\tlearn: 7708268.4277019\ttotal: 6.51s\tremaining: 1m 15s\n",
      "79:\tlearn: 7692649.5754515\ttotal: 6.59s\tremaining: 1m 15s\n",
      "80:\tlearn: 7664779.1248740\ttotal: 6.67s\tremaining: 1m 15s\n",
      "81:\tlearn: 7650583.9814621\ttotal: 6.74s\tremaining: 1m 15s\n",
      "82:\tlearn: 7642379.9491444\ttotal: 6.82s\tremaining: 1m 15s\n",
      "83:\tlearn: 7632325.0229638\ttotal: 6.89s\tremaining: 1m 15s\n",
      "84:\tlearn: 7626290.6262912\ttotal: 6.97s\tremaining: 1m 15s\n",
      "85:\tlearn: 7619540.1211011\ttotal: 7.04s\tremaining: 1m 14s\n",
      "86:\tlearn: 7606650.1399342\ttotal: 7.13s\tremaining: 1m 14s\n",
      "87:\tlearn: 7590674.8021654\ttotal: 7.21s\tremaining: 1m 14s\n",
      "88:\tlearn: 7581445.3511434\ttotal: 7.3s\tremaining: 1m 14s\n",
      "89:\tlearn: 7569071.2519997\ttotal: 7.38s\tremaining: 1m 14s\n",
      "90:\tlearn: 7564593.7683935\ttotal: 7.46s\tremaining: 1m 14s\n",
      "91:\tlearn: 7554129.9127626\ttotal: 7.54s\tremaining: 1m 14s\n",
      "92:\tlearn: 7545527.0318163\ttotal: 7.63s\tremaining: 1m 14s\n",
      "93:\tlearn: 7527723.6831600\ttotal: 7.77s\tremaining: 1m 14s\n",
      "94:\tlearn: 7516147.6098411\ttotal: 7.89s\tremaining: 1m 15s\n",
      "95:\tlearn: 7500017.3223987\ttotal: 7.98s\tremaining: 1m 15s\n",
      "96:\tlearn: 7490906.3344724\ttotal: 8.06s\tremaining: 1m 15s\n",
      "97:\tlearn: 7484434.5123546\ttotal: 8.15s\tremaining: 1m 14s\n",
      "98:\tlearn: 7470413.1816349\ttotal: 8.22s\tremaining: 1m 14s\n",
      "99:\tlearn: 7460797.9299359\ttotal: 8.3s\tremaining: 1m 14s\n",
      "100:\tlearn: 7458041.8637122\ttotal: 8.37s\tremaining: 1m 14s\n",
      "101:\tlearn: 7448290.0227795\ttotal: 8.46s\tremaining: 1m 14s\n",
      "102:\tlearn: 7438000.5918108\ttotal: 8.54s\tremaining: 1m 14s\n",
      "103:\tlearn: 7427741.2891880\ttotal: 8.61s\tremaining: 1m 14s\n",
      "104:\tlearn: 7417895.4898949\ttotal: 8.69s\tremaining: 1m 14s\n",
      "105:\tlearn: 7401485.0971745\ttotal: 8.78s\tremaining: 1m 14s\n",
      "106:\tlearn: 7393447.5444560\ttotal: 8.86s\tremaining: 1m 13s\n",
      "107:\tlearn: 7389269.3037142\ttotal: 8.94s\tremaining: 1m 13s\n",
      "108:\tlearn: 7385714.1403224\ttotal: 9.01s\tremaining: 1m 13s\n",
      "109:\tlearn: 7382580.4072982\ttotal: 9.1s\tremaining: 1m 13s\n",
      "110:\tlearn: 7372662.7673509\ttotal: 9.17s\tremaining: 1m 13s\n",
      "111:\tlearn: 7366324.2427265\ttotal: 9.25s\tremaining: 1m 13s\n",
      "112:\tlearn: 7361169.4633880\ttotal: 9.32s\tremaining: 1m 13s\n",
      "113:\tlearn: 7352745.7424961\ttotal: 9.4s\tremaining: 1m 13s\n",
      "114:\tlearn: 7338011.1696462\ttotal: 9.48s\tremaining: 1m 12s\n",
      "115:\tlearn: 7330698.2233800\ttotal: 9.56s\tremaining: 1m 12s\n",
      "116:\tlearn: 7325813.1120564\ttotal: 9.63s\tremaining: 1m 12s\n",
      "117:\tlearn: 7321346.2793412\ttotal: 9.71s\tremaining: 1m 12s\n",
      "118:\tlearn: 7313491.7606969\ttotal: 9.79s\tremaining: 1m 12s\n",
      "119:\tlearn: 7311510.7380484\ttotal: 9.9s\tremaining: 1m 12s\n",
      "120:\tlearn: 7301534.8633367\ttotal: 10.1s\tremaining: 1m 13s\n",
      "121:\tlearn: 7298682.0824186\ttotal: 10.2s\tremaining: 1m 13s\n",
      "122:\tlearn: 7298621.4728537\ttotal: 10.2s\tremaining: 1m 12s\n",
      "123:\tlearn: 7293933.8282235\ttotal: 10.4s\tremaining: 1m 13s\n",
      "124:\tlearn: 7287454.3910199\ttotal: 10.4s\tremaining: 1m 12s\n",
      "125:\tlearn: 7279067.8647361\ttotal: 10.5s\tremaining: 1m 12s\n",
      "126:\tlearn: 7276207.8236854\ttotal: 10.6s\tremaining: 1m 12s\n",
      "127:\tlearn: 7274318.7210780\ttotal: 10.7s\tremaining: 1m 12s\n",
      "128:\tlearn: 7267448.0223843\ttotal: 10.7s\tremaining: 1m 12s\n",
      "129:\tlearn: 7260465.9589037\ttotal: 10.8s\tremaining: 1m 12s\n",
      "130:\tlearn: 7244804.2010434\ttotal: 10.9s\tremaining: 1m 12s\n",
      "131:\tlearn: 7233809.4234657\ttotal: 11s\tremaining: 1m 12s\n",
      "132:\tlearn: 7226127.8848855\ttotal: 11.1s\tremaining: 1m 12s\n",
      "133:\tlearn: 7222146.8633599\ttotal: 11.1s\tremaining: 1m 11s\n",
      "134:\tlearn: 7217292.2762790\ttotal: 11.2s\tremaining: 1m 11s\n",
      "135:\tlearn: 7211203.5832098\ttotal: 11.3s\tremaining: 1m 11s\n",
      "136:\tlearn: 7207842.5585036\ttotal: 11.4s\tremaining: 1m 11s\n",
      "137:\tlearn: 7195808.4393303\ttotal: 11.4s\tremaining: 1m 11s\n",
      "138:\tlearn: 7192298.5108631\ttotal: 11.5s\tremaining: 1m 11s\n",
      "139:\tlearn: 7179590.3825172\ttotal: 11.6s\tremaining: 1m 11s\n",
      "140:\tlearn: 7175282.7777987\ttotal: 11.7s\tremaining: 1m 11s\n",
      "141:\tlearn: 7171117.7569248\ttotal: 11.8s\tremaining: 1m 11s\n",
      "142:\tlearn: 7160657.0138333\ttotal: 11.8s\tremaining: 1m 10s\n",
      "143:\tlearn: 7152850.0616048\ttotal: 11.9s\tremaining: 1m 10s\n",
      "144:\tlearn: 7147424.1392148\ttotal: 12s\tremaining: 1m 10s\n",
      "145:\tlearn: 7138545.8626547\ttotal: 12.1s\tremaining: 1m 10s\n",
      "146:\tlearn: 7134641.0737616\ttotal: 12.2s\tremaining: 1m 10s\n",
      "147:\tlearn: 7131090.3120286\ttotal: 12.2s\tremaining: 1m 10s\n",
      "148:\tlearn: 7124885.1078095\ttotal: 12.3s\tremaining: 1m 10s\n",
      "149:\tlearn: 7118564.0556811\ttotal: 12.4s\tremaining: 1m 10s\n",
      "150:\tlearn: 7113810.9728734\ttotal: 12.5s\tremaining: 1m 10s\n",
      "151:\tlearn: 7109240.4033894\ttotal: 12.6s\tremaining: 1m 10s\n",
      "152:\tlearn: 7101182.1644022\ttotal: 12.7s\tremaining: 1m 10s\n",
      "153:\tlearn: 7092241.6696233\ttotal: 12.8s\tremaining: 1m 10s\n",
      "154:\tlearn: 7087141.6798420\ttotal: 12.9s\tremaining: 1m 10s\n",
      "155:\tlearn: 7081346.4469724\ttotal: 13s\tremaining: 1m 10s\n",
      "156:\tlearn: 7069530.2858860\ttotal: 13.1s\tremaining: 1m 10s\n",
      "157:\tlearn: 7063288.4082926\ttotal: 13.1s\tremaining: 1m 10s\n",
      "158:\tlearn: 7053168.7497974\ttotal: 13.2s\tremaining: 1m 9s\n",
      "159:\tlearn: 7048860.9733022\ttotal: 13.3s\tremaining: 1m 9s\n",
      "160:\tlearn: 7047511.4587437\ttotal: 13.4s\tremaining: 1m 9s\n",
      "161:\tlearn: 7042298.3879865\ttotal: 13.4s\tremaining: 1m 9s\n",
      "162:\tlearn: 7036579.5598516\ttotal: 13.5s\tremaining: 1m 9s\n",
      "163:\tlearn: 7027909.0218835\ttotal: 13.6s\tremaining: 1m 9s\n",
      "164:\tlearn: 7024815.4281629\ttotal: 13.7s\tremaining: 1m 9s\n",
      "165:\tlearn: 7018568.5415054\ttotal: 13.8s\tremaining: 1m 9s\n",
      "166:\tlearn: 7014567.9634302\ttotal: 13.8s\tremaining: 1m 9s\n",
      "167:\tlearn: 7011757.9548454\ttotal: 13.9s\tremaining: 1m 8s\n",
      "168:\tlearn: 7005146.7151924\ttotal: 14s\tremaining: 1m 8s\n",
      "169:\tlearn: 7001264.2987392\ttotal: 14.1s\tremaining: 1m 8s\n",
      "170:\tlearn: 6990997.2423689\ttotal: 14.2s\tremaining: 1m 8s\n",
      "171:\tlearn: 6978830.1347326\ttotal: 14.2s\tremaining: 1m 8s\n",
      "172:\tlearn: 6969342.3884157\ttotal: 14.3s\tremaining: 1m 8s\n",
      "173:\tlearn: 6962394.3233024\ttotal: 14.4s\tremaining: 1m 8s\n",
      "174:\tlearn: 6957577.3215200\ttotal: 14.5s\tremaining: 1m 8s\n",
      "175:\tlearn: 6932961.9167215\ttotal: 14.6s\tremaining: 1m 8s\n",
      "176:\tlearn: 6924744.7407993\ttotal: 14.6s\tremaining: 1m 8s\n",
      "177:\tlearn: 6913754.8738067\ttotal: 14.7s\tremaining: 1m 7s\n",
      "178:\tlearn: 6905574.9749076\ttotal: 14.9s\tremaining: 1m 8s\n",
      "179:\tlearn: 6901403.4184127\ttotal: 15s\tremaining: 1m 8s\n",
      "180:\tlearn: 6898637.4255265\ttotal: 15s\tremaining: 1m 8s\n",
      "181:\tlearn: 6895544.6573124\ttotal: 15.1s\tremaining: 1m 8s\n",
      "182:\tlearn: 6888111.3370487\ttotal: 15.2s\tremaining: 1m 7s\n",
      "183:\tlearn: 6881115.2156204\ttotal: 15.3s\tremaining: 1m 7s\n",
      "184:\tlearn: 6880021.5791170\ttotal: 15.4s\tremaining: 1m 7s\n",
      "185:\tlearn: 6872639.7189468\ttotal: 15.4s\tremaining: 1m 7s\n",
      "186:\tlearn: 6865446.3802327\ttotal: 15.5s\tremaining: 1m 7s\n",
      "187:\tlearn: 6861937.3779774\ttotal: 15.6s\tremaining: 1m 7s\n",
      "188:\tlearn: 6857388.2904055\ttotal: 15.7s\tremaining: 1m 7s\n",
      "189:\tlearn: 6854474.9061437\ttotal: 15.8s\tremaining: 1m 7s\n",
      "190:\tlearn: 6849086.4637528\ttotal: 15.8s\tremaining: 1m 7s\n",
      "191:\tlearn: 6838026.5950849\ttotal: 15.9s\tremaining: 1m 6s\n",
      "192:\tlearn: 6836553.4885068\ttotal: 16s\tremaining: 1m 6s\n",
      "193:\tlearn: 6830957.0261207\ttotal: 16.1s\tremaining: 1m 6s\n",
      "194:\tlearn: 6828398.4740237\ttotal: 16.1s\tremaining: 1m 6s\n",
      "195:\tlearn: 6821814.3951375\ttotal: 16.2s\tremaining: 1m 6s\n",
      "196:\tlearn: 6819411.2507742\ttotal: 16.3s\tremaining: 1m 6s\n",
      "197:\tlearn: 6810295.8985253\ttotal: 16.4s\tremaining: 1m 6s\n",
      "198:\tlearn: 6808141.9372357\ttotal: 16.5s\tremaining: 1m 6s\n",
      "199:\tlearn: 6801100.4714539\ttotal: 16.5s\tremaining: 1m 6s\n",
      "200:\tlearn: 6794649.6130114\ttotal: 16.6s\tremaining: 1m 6s\n",
      "201:\tlearn: 6786174.0155929\ttotal: 16.7s\tremaining: 1m 5s\n",
      "202:\tlearn: 6783897.4903688\ttotal: 16.8s\tremaining: 1m 5s\n",
      "203:\tlearn: 6781521.1410792\ttotal: 16.8s\tremaining: 1m 5s\n",
      "204:\tlearn: 6780098.5496759\ttotal: 16.9s\tremaining: 1m 5s\n",
      "205:\tlearn: 6772264.6502191\ttotal: 17s\tremaining: 1m 5s\n",
      "206:\tlearn: 6768320.7913740\ttotal: 17.2s\tremaining: 1m 5s\n",
      "207:\tlearn: 6764707.0843098\ttotal: 17.3s\tremaining: 1m 5s\n",
      "208:\tlearn: 6761578.2333004\ttotal: 17.4s\tremaining: 1m 5s\n",
      "209:\tlearn: 6754714.3292425\ttotal: 17.4s\tremaining: 1m 5s\n",
      "210:\tlearn: 6749442.5682433\ttotal: 17.5s\tremaining: 1m 5s\n",
      "211:\tlearn: 6741799.6133609\ttotal: 17.6s\tremaining: 1m 5s\n",
      "212:\tlearn: 6741250.4994564\ttotal: 17.7s\tremaining: 1m 5s\n",
      "213:\tlearn: 6738195.0480109\ttotal: 17.7s\tremaining: 1m 5s\n",
      "214:\tlearn: 6724652.1630914\ttotal: 17.8s\tremaining: 1m 5s\n",
      "215:\tlearn: 6723363.6513073\ttotal: 17.9s\tremaining: 1m 4s\n",
      "216:\tlearn: 6714408.8926044\ttotal: 18s\tremaining: 1m 4s\n",
      "217:\tlearn: 6709723.1219797\ttotal: 18.1s\tremaining: 1m 4s\n",
      "218:\tlearn: 6707050.1084065\ttotal: 18.2s\tremaining: 1m 4s\n",
      "219:\tlearn: 6704650.8055865\ttotal: 18.2s\tremaining: 1m 4s\n",
      "220:\tlearn: 6701098.0869122\ttotal: 18.3s\tremaining: 1m 4s\n",
      "221:\tlearn: 6681483.3609398\ttotal: 18.4s\tremaining: 1m 4s\n",
      "222:\tlearn: 6669393.0240282\ttotal: 18.5s\tremaining: 1m 4s\n",
      "223:\tlearn: 6668997.8361585\ttotal: 18.5s\tremaining: 1m 4s\n",
      "224:\tlearn: 6668623.0833492\ttotal: 18.5s\tremaining: 1m 3s\n",
      "225:\tlearn: 6652748.2231112\ttotal: 18.6s\tremaining: 1m 3s\n",
      "226:\tlearn: 6651097.3620067\ttotal: 18.7s\tremaining: 1m 3s\n",
      "227:\tlearn: 6645301.5541605\ttotal: 18.8s\tremaining: 1m 3s\n",
      "228:\tlearn: 6643342.8884138\ttotal: 18.9s\tremaining: 1m 3s\n",
      "229:\tlearn: 6641200.7777363\ttotal: 18.9s\tremaining: 1m 3s\n",
      "230:\tlearn: 6639251.0522888\ttotal: 19s\tremaining: 1m 3s\n",
      "231:\tlearn: 6635266.3615562\ttotal: 19.1s\tremaining: 1m 3s\n",
      "232:\tlearn: 6632781.4176749\ttotal: 19.2s\tremaining: 1m 3s\n",
      "233:\tlearn: 6631655.4315076\ttotal: 19.3s\tremaining: 1m 3s\n",
      "234:\tlearn: 6630914.1239002\ttotal: 19.4s\tremaining: 1m 3s\n",
      "235:\tlearn: 6629842.3683812\ttotal: 19.5s\tremaining: 1m 3s\n",
      "236:\tlearn: 6629159.5678578\ttotal: 19.6s\tremaining: 1m 3s\n",
      "237:\tlearn: 6625127.6871432\ttotal: 19.7s\tremaining: 1m 3s\n",
      "238:\tlearn: 6620242.0197559\ttotal: 19.8s\tremaining: 1m 2s\n",
      "239:\tlearn: 6617954.7155186\ttotal: 19.9s\tremaining: 1m 2s\n",
      "240:\tlearn: 6617261.3399798\ttotal: 19.9s\tremaining: 1m 2s\n",
      "241:\tlearn: 6617003.8795734\ttotal: 20s\tremaining: 1m 2s\n",
      "242:\tlearn: 6602992.9170104\ttotal: 20s\tremaining: 1m 2s\n",
      "243:\tlearn: 6600847.0669373\ttotal: 20.1s\tremaining: 1m 2s\n",
      "244:\tlearn: 6595148.6751490\ttotal: 20.2s\tremaining: 1m 2s\n",
      "245:\tlearn: 6589389.0532625\ttotal: 20.3s\tremaining: 1m 2s\n",
      "246:\tlearn: 6588135.7137222\ttotal: 20.4s\tremaining: 1m 2s\n",
      "247:\tlearn: 6587673.2195717\ttotal: 20.4s\tremaining: 1m 2s\n",
      "248:\tlearn: 6583942.4709759\ttotal: 20.5s\tremaining: 1m 1s\n",
      "249:\tlearn: 6580296.6959482\ttotal: 20.6s\tremaining: 1m 1s\n",
      "250:\tlearn: 6567083.1523911\ttotal: 20.7s\tremaining: 1m 1s\n",
      "251:\tlearn: 6558081.1048727\ttotal: 20.8s\tremaining: 1m 1s\n",
      "252:\tlearn: 6557862.8073038\ttotal: 20.8s\tremaining: 1m 1s\n",
      "253:\tlearn: 6550020.2897318\ttotal: 20.9s\tremaining: 1m 1s\n",
      "254:\tlearn: 6545796.4154593\ttotal: 21s\tremaining: 1m 1s\n",
      "255:\tlearn: 6539471.8927352\ttotal: 21.1s\tremaining: 1m 1s\n",
      "256:\tlearn: 6526466.1885446\ttotal: 21.2s\tremaining: 1m 1s\n",
      "257:\tlearn: 6524036.2526826\ttotal: 21.2s\tremaining: 1m 1s\n",
      "258:\tlearn: 6517010.1190733\ttotal: 21.3s\tremaining: 1m\n",
      "259:\tlearn: 6516881.8059791\ttotal: 21.4s\tremaining: 1m\n",
      "260:\tlearn: 6513179.6304707\ttotal: 21.5s\tremaining: 1m\n",
      "261:\tlearn: 6505263.3017217\ttotal: 21.5s\tremaining: 1m\n",
      "262:\tlearn: 6497216.2647273\ttotal: 21.6s\tremaining: 1m\n",
      "263:\tlearn: 6496553.0749326\ttotal: 21.8s\tremaining: 1m\n",
      "264:\tlearn: 6495159.9174022\ttotal: 21.9s\tremaining: 1m\n",
      "265:\tlearn: 6491449.6914099\ttotal: 22s\tremaining: 1m\n",
      "266:\tlearn: 6484628.3861763\ttotal: 22s\tremaining: 1m\n",
      "267:\tlearn: 6479168.8377765\ttotal: 22.1s\tremaining: 1m\n",
      "268:\tlearn: 6475772.6203392\ttotal: 22.2s\tremaining: 1m\n",
      "269:\tlearn: 6475658.3042062\ttotal: 22.3s\tremaining: 1m\n",
      "270:\tlearn: 6475484.8809808\ttotal: 22.4s\tremaining: 1m\n",
      "271:\tlearn: 6473303.1579362\ttotal: 22.4s\tremaining: 1m\n",
      "272:\tlearn: 6468893.5066802\ttotal: 22.5s\tremaining: 59.9s\n",
      "273:\tlearn: 6468019.8670471\ttotal: 22.6s\tremaining: 59.8s\n",
      "274:\tlearn: 6466929.6792861\ttotal: 22.7s\tremaining: 59.7s\n",
      "275:\tlearn: 6462866.7027745\ttotal: 22.7s\tremaining: 59.6s\n",
      "276:\tlearn: 6460343.2669775\ttotal: 22.8s\tremaining: 59.5s\n",
      "277:\tlearn: 6457704.2171313\ttotal: 22.9s\tremaining: 59.4s\n",
      "278:\tlearn: 6455655.0759338\ttotal: 23s\tremaining: 59.3s\n",
      "279:\tlearn: 6451239.7756383\ttotal: 23s\tremaining: 59.3s\n",
      "280:\tlearn: 6447179.9925159\ttotal: 23.1s\tremaining: 59.2s\n",
      "281:\tlearn: 6444360.4767408\ttotal: 23.2s\tremaining: 59.1s\n",
      "282:\tlearn: 6441271.5090796\ttotal: 23.3s\tremaining: 59.1s\n",
      "283:\tlearn: 6440194.8568756\ttotal: 23.4s\tremaining: 59s\n",
      "284:\tlearn: 6436876.5405352\ttotal: 23.5s\tremaining: 58.9s\n",
      "285:\tlearn: 6434546.5840043\ttotal: 23.5s\tremaining: 58.8s\n",
      "286:\tlearn: 6432118.7958916\ttotal: 23.6s\tremaining: 58.7s\n",
      "287:\tlearn: 6427125.7432516\ttotal: 23.7s\tremaining: 58.6s\n",
      "288:\tlearn: 6426061.4530803\ttotal: 23.8s\tremaining: 58.5s\n",
      "289:\tlearn: 6421312.4021308\ttotal: 23.9s\tremaining: 58.4s\n",
      "290:\tlearn: 6418037.1271023\ttotal: 24s\tremaining: 58.4s\n",
      "291:\tlearn: 6412920.7530026\ttotal: 24.1s\tremaining: 58.4s\n",
      "292:\tlearn: 6409838.4296900\ttotal: 24.2s\tremaining: 58.4s\n",
      "293:\tlearn: 6409102.4891646\ttotal: 24.3s\tremaining: 58.3s\n",
      "294:\tlearn: 6404623.6490541\ttotal: 24.4s\tremaining: 58.2s\n",
      "295:\tlearn: 6401827.8211482\ttotal: 24.4s\tremaining: 58.1s\n",
      "296:\tlearn: 6396604.8036528\ttotal: 24.5s\tremaining: 58s\n",
      "297:\tlearn: 6389408.9445974\ttotal: 24.6s\tremaining: 57.9s\n",
      "298:\tlearn: 6385029.7628261\ttotal: 24.7s\tremaining: 57.9s\n",
      "299:\tlearn: 6380884.0440164\ttotal: 24.8s\tremaining: 57.8s\n",
      "300:\tlearn: 6371655.3321545\ttotal: 24.8s\tremaining: 57.7s\n",
      "301:\tlearn: 6370763.9635778\ttotal: 24.9s\tremaining: 57.6s\n",
      "302:\tlearn: 6366420.6344590\ttotal: 25s\tremaining: 57.5s\n",
      "303:\tlearn: 6358177.8276520\ttotal: 25.1s\tremaining: 57.4s\n",
      "304:\tlearn: 6357340.8783767\ttotal: 25.2s\tremaining: 57.3s\n",
      "305:\tlearn: 6357016.6189722\ttotal: 25.2s\tremaining: 57.2s\n",
      "306:\tlearn: 6351367.7530790\ttotal: 25.3s\tremaining: 57.1s\n",
      "307:\tlearn: 6351072.6472038\ttotal: 25.4s\tremaining: 57s\n",
      "308:\tlearn: 6349076.5026250\ttotal: 25.5s\tremaining: 57s\n",
      "309:\tlearn: 6345920.0124136\ttotal: 25.5s\tremaining: 56.9s\n",
      "310:\tlearn: 6340188.1640901\ttotal: 25.6s\tremaining: 56.8s\n",
      "311:\tlearn: 6338206.1423517\ttotal: 25.7s\tremaining: 56.7s\n",
      "312:\tlearn: 6333550.8882939\ttotal: 25.8s\tremaining: 56.6s\n",
      "313:\tlearn: 6326518.6882283\ttotal: 25.9s\tremaining: 56.5s\n",
      "314:\tlearn: 6320676.9944435\ttotal: 25.9s\tremaining: 56.4s\n",
      "315:\tlearn: 6318149.2735357\ttotal: 26s\tremaining: 56.3s\n",
      "316:\tlearn: 6306585.1172846\ttotal: 26.1s\tremaining: 56.2s\n",
      "317:\tlearn: 6293831.2142333\ttotal: 26.2s\tremaining: 56.2s\n",
      "318:\tlearn: 6284185.5914367\ttotal: 26.3s\tremaining: 56.1s\n",
      "319:\tlearn: 6279535.6762556\ttotal: 26.4s\tremaining: 56.1s\n",
      "320:\tlearn: 6272834.1371077\ttotal: 26.5s\tremaining: 56.1s\n",
      "321:\tlearn: 6265733.2524115\ttotal: 26.6s\tremaining: 56s\n",
      "322:\tlearn: 6254953.4565809\ttotal: 26.7s\tremaining: 55.9s\n",
      "323:\tlearn: 6251467.6437361\ttotal: 26.7s\tremaining: 55.8s\n",
      "324:\tlearn: 6247112.9652295\ttotal: 26.9s\tremaining: 55.8s\n",
      "325:\tlearn: 6235808.4007043\ttotal: 26.9s\tremaining: 55.7s\n",
      "326:\tlearn: 6230145.9419338\ttotal: 27s\tremaining: 55.6s\n",
      "327:\tlearn: 6225656.8523555\ttotal: 27.1s\tremaining: 55.5s\n",
      "328:\tlearn: 6224817.0928845\ttotal: 27.2s\tremaining: 55.4s\n",
      "329:\tlearn: 6223162.3460037\ttotal: 27.3s\tremaining: 55.4s\n",
      "330:\tlearn: 6222450.7064952\ttotal: 27.3s\tremaining: 55.3s\n",
      "331:\tlearn: 6216945.0121431\ttotal: 27.4s\tremaining: 55.2s\n",
      "332:\tlearn: 6213838.4360679\ttotal: 27.5s\tremaining: 55.1s\n",
      "333:\tlearn: 6213606.8028768\ttotal: 27.6s\tremaining: 55s\n",
      "334:\tlearn: 6208534.3259026\ttotal: 27.7s\tremaining: 54.9s\n",
      "335:\tlearn: 6207090.7114076\ttotal: 27.8s\tremaining: 54.8s\n",
      "336:\tlearn: 6202438.8691335\ttotal: 27.8s\tremaining: 54.8s\n",
      "337:\tlearn: 6201837.2427054\ttotal: 27.9s\tremaining: 54.7s\n",
      "338:\tlearn: 6198480.3090206\ttotal: 28s\tremaining: 54.6s\n",
      "339:\tlearn: 6195345.7406680\ttotal: 28.1s\tremaining: 54.5s\n",
      "340:\tlearn: 6193571.7320835\ttotal: 28.2s\tremaining: 54.5s\n",
      "341:\tlearn: 6192371.4274306\ttotal: 28.3s\tremaining: 54.4s\n",
      "342:\tlearn: 6186432.7629151\ttotal: 28.3s\tremaining: 54.3s\n",
      "343:\tlearn: 6185235.1887954\ttotal: 28.4s\tremaining: 54.2s\n",
      "344:\tlearn: 6183622.5853004\ttotal: 28.5s\tremaining: 54.1s\n",
      "345:\tlearn: 6182778.6693685\ttotal: 28.6s\tremaining: 54s\n",
      "346:\tlearn: 6177309.8327579\ttotal: 28.7s\tremaining: 54s\n",
      "347:\tlearn: 6176539.1365909\ttotal: 28.8s\tremaining: 54s\n",
      "348:\tlearn: 6173309.4815956\ttotal: 28.9s\tremaining: 53.9s\n",
      "349:\tlearn: 6170483.8438775\ttotal: 29s\tremaining: 53.8s\n",
      "350:\tlearn: 6167094.5407304\ttotal: 29.1s\tremaining: 53.8s\n",
      "351:\tlearn: 6163627.9031323\ttotal: 29.2s\tremaining: 53.7s\n",
      "352:\tlearn: 6160874.7691479\ttotal: 29.3s\tremaining: 53.6s\n",
      "353:\tlearn: 6158825.1042151\ttotal: 29.3s\tremaining: 53.5s\n",
      "354:\tlearn: 6155452.1983405\ttotal: 29.4s\tremaining: 53.5s\n",
      "355:\tlearn: 6154833.2642596\ttotal: 29.5s\tremaining: 53.4s\n",
      "356:\tlearn: 6149267.9402773\ttotal: 29.6s\tremaining: 53.3s\n",
      "357:\tlearn: 6148124.4895850\ttotal: 29.7s\tremaining: 53.2s\n",
      "358:\tlearn: 6146916.3670438\ttotal: 29.7s\tremaining: 53.1s\n",
      "359:\tlearn: 6144821.1994875\ttotal: 29.8s\tremaining: 53s\n",
      "360:\tlearn: 6139550.2744326\ttotal: 29.9s\tremaining: 52.9s\n",
      "361:\tlearn: 6137475.3255015\ttotal: 30s\tremaining: 52.8s\n",
      "362:\tlearn: 6133112.1285719\ttotal: 30s\tremaining: 52.7s\n",
      "363:\tlearn: 6131885.8069568\ttotal: 30.1s\tremaining: 52.6s\n",
      "364:\tlearn: 6129210.1317365\ttotal: 30.2s\tremaining: 52.5s\n",
      "365:\tlearn: 6127701.1402721\ttotal: 30.3s\tremaining: 52.5s\n",
      "366:\tlearn: 6125287.5354394\ttotal: 30.4s\tremaining: 52.4s\n",
      "367:\tlearn: 6119076.7740377\ttotal: 30.4s\tremaining: 52.3s\n",
      "368:\tlearn: 6113756.7259264\ttotal: 30.5s\tremaining: 52.2s\n",
      "369:\tlearn: 6102714.9948245\ttotal: 30.6s\tremaining: 52.1s\n",
      "370:\tlearn: 6102627.5494596\ttotal: 30.7s\tremaining: 52s\n",
      "371:\tlearn: 6099883.0333982\ttotal: 30.8s\tremaining: 51.9s\n",
      "372:\tlearn: 6097693.8164740\ttotal: 30.8s\tremaining: 51.8s\n",
      "373:\tlearn: 6095217.5598363\ttotal: 31s\tremaining: 51.8s\n",
      "374:\tlearn: 6091939.9445255\ttotal: 31.1s\tremaining: 51.8s\n",
      "375:\tlearn: 6090654.8461579\ttotal: 31.2s\tremaining: 51.7s\n",
      "376:\tlearn: 6087485.0178096\ttotal: 31.3s\tremaining: 51.7s\n",
      "377:\tlearn: 6084580.0757083\ttotal: 31.3s\tremaining: 51.6s\n",
      "378:\tlearn: 6080191.8299788\ttotal: 31.4s\tremaining: 51.5s\n",
      "379:\tlearn: 6074797.4386191\ttotal: 31.5s\tremaining: 51.4s\n",
      "380:\tlearn: 6070274.7430402\ttotal: 31.6s\tremaining: 51.3s\n",
      "381:\tlearn: 6062998.1794515\ttotal: 31.7s\tremaining: 51.2s\n",
      "382:\tlearn: 6061583.7240789\ttotal: 31.7s\tremaining: 51.1s\n",
      "383:\tlearn: 6059640.3230455\ttotal: 31.8s\tremaining: 51s\n",
      "384:\tlearn: 6058800.4058453\ttotal: 31.9s\tremaining: 50.9s\n",
      "385:\tlearn: 6055944.5863816\ttotal: 32s\tremaining: 50.9s\n",
      "386:\tlearn: 6053413.6591240\ttotal: 32s\tremaining: 50.8s\n",
      "387:\tlearn: 6050527.5004119\ttotal: 32.1s\tremaining: 50.7s\n",
      "388:\tlearn: 6045444.4178667\ttotal: 32.2s\tremaining: 50.6s\n",
      "389:\tlearn: 6045126.6172819\ttotal: 32.3s\tremaining: 50.5s\n",
      "390:\tlearn: 6043068.0332071\ttotal: 32.4s\tremaining: 50.4s\n",
      "391:\tlearn: 6033871.1251313\ttotal: 32.4s\tremaining: 50.3s\n",
      "392:\tlearn: 6031823.9777408\ttotal: 32.5s\tremaining: 50.2s\n",
      "393:\tlearn: 6026942.4312522\ttotal: 32.6s\tremaining: 50.2s\n",
      "394:\tlearn: 6018337.6757583\ttotal: 32.7s\tremaining: 50.1s\n",
      "395:\tlearn: 6012646.9986923\ttotal: 32.8s\tremaining: 50s\n",
      "396:\tlearn: 6007447.4665682\ttotal: 32.8s\tremaining: 49.9s\n",
      "397:\tlearn: 6005461.9945951\ttotal: 32.9s\tremaining: 49.8s\n",
      "398:\tlearn: 6001580.2969875\ttotal: 33s\tremaining: 49.7s\n",
      "399:\tlearn: 5998752.2222600\ttotal: 33.1s\tremaining: 49.6s\n",
      "400:\tlearn: 5994424.6912865\ttotal: 33.2s\tremaining: 49.5s\n",
      "401:\tlearn: 5988348.5353415\ttotal: 33.3s\tremaining: 49.6s\n",
      "402:\tlearn: 5985610.2121981\ttotal: 33.5s\tremaining: 49.6s\n",
      "403:\tlearn: 5983566.8107119\ttotal: 33.5s\tremaining: 49.5s\n",
      "404:\tlearn: 5981553.6306578\ttotal: 33.6s\tremaining: 49.4s\n",
      "405:\tlearn: 5978322.8368377\ttotal: 33.7s\tremaining: 49.3s\n",
      "406:\tlearn: 5975187.3836109\ttotal: 33.8s\tremaining: 49.3s\n",
      "407:\tlearn: 5974294.5005991\ttotal: 33.9s\tremaining: 49.2s\n",
      "408:\tlearn: 5971446.1611366\ttotal: 34s\tremaining: 49.1s\n",
      "409:\tlearn: 5969647.9354523\ttotal: 34.1s\tremaining: 49s\n",
      "410:\tlearn: 5966910.3515351\ttotal: 34.1s\tremaining: 48.9s\n",
      "411:\tlearn: 5964747.4442095\ttotal: 34.2s\tremaining: 48.8s\n",
      "412:\tlearn: 5961237.7635558\ttotal: 34.3s\tremaining: 48.8s\n",
      "413:\tlearn: 5958944.8742340\ttotal: 34.4s\tremaining: 48.7s\n",
      "414:\tlearn: 5953931.5260137\ttotal: 34.5s\tremaining: 48.6s\n",
      "415:\tlearn: 5953401.6873062\ttotal: 34.5s\tremaining: 48.5s\n",
      "416:\tlearn: 5952112.7432924\ttotal: 34.6s\tremaining: 48.4s\n",
      "417:\tlearn: 5949811.4077030\ttotal: 34.7s\tremaining: 48.3s\n",
      "418:\tlearn: 5946085.1774048\ttotal: 34.8s\tremaining: 48.3s\n",
      "419:\tlearn: 5944679.8309085\ttotal: 34.9s\tremaining: 48.2s\n",
      "420:\tlearn: 5942844.5394934\ttotal: 35s\tremaining: 48.1s\n",
      "421:\tlearn: 5938906.2650023\ttotal: 35s\tremaining: 48s\n",
      "422:\tlearn: 5930829.1077344\ttotal: 35.1s\tremaining: 47.9s\n",
      "423:\tlearn: 5929520.3369603\ttotal: 35.2s\tremaining: 47.8s\n",
      "424:\tlearn: 5925534.8603475\ttotal: 35.3s\tremaining: 47.7s\n",
      "425:\tlearn: 5923950.4606293\ttotal: 35.4s\tremaining: 47.7s\n",
      "426:\tlearn: 5919140.7396965\ttotal: 35.4s\tremaining: 47.6s\n",
      "427:\tlearn: 5915751.8586417\ttotal: 35.6s\tremaining: 47.6s\n",
      "428:\tlearn: 5913129.5329020\ttotal: 35.7s\tremaining: 47.5s\n",
      "429:\tlearn: 5912332.4332432\ttotal: 35.8s\tremaining: 47.5s\n",
      "430:\tlearn: 5910649.6835545\ttotal: 35.9s\tremaining: 47.4s\n",
      "431:\tlearn: 5905388.3001060\ttotal: 36s\tremaining: 47.3s\n",
      "432:\tlearn: 5904016.5781527\ttotal: 36s\tremaining: 47.2s\n",
      "433:\tlearn: 5900507.1464264\ttotal: 36.1s\tremaining: 47.1s\n",
      "434:\tlearn: 5898627.0122312\ttotal: 36.2s\tremaining: 47s\n",
      "435:\tlearn: 5895154.4793253\ttotal: 36.3s\tremaining: 46.9s\n",
      "436:\tlearn: 5891105.4780674\ttotal: 36.4s\tremaining: 46.8s\n",
      "437:\tlearn: 5887267.9725669\ttotal: 36.4s\tremaining: 46.7s\n",
      "438:\tlearn: 5886010.5467582\ttotal: 36.5s\tremaining: 46.7s\n",
      "439:\tlearn: 5882314.5467915\ttotal: 36.6s\tremaining: 46.6s\n",
      "440:\tlearn: 5877438.5983259\ttotal: 36.7s\tremaining: 46.5s\n",
      "441:\tlearn: 5876126.6022109\ttotal: 36.8s\tremaining: 46.4s\n",
      "442:\tlearn: 5872448.3623977\ttotal: 36.9s\tremaining: 46.3s\n",
      "443:\tlearn: 5867069.4954825\ttotal: 36.9s\tremaining: 46.2s\n",
      "444:\tlearn: 5864126.2800875\ttotal: 37s\tremaining: 46.2s\n",
      "445:\tlearn: 5862620.6155592\ttotal: 37.1s\tremaining: 46.1s\n",
      "446:\tlearn: 5861237.1637899\ttotal: 37.2s\tremaining: 46s\n",
      "447:\tlearn: 5856206.4956171\ttotal: 37.3s\tremaining: 45.9s\n",
      "448:\tlearn: 5855185.3184079\ttotal: 37.3s\tremaining: 45.8s\n",
      "449:\tlearn: 5853253.0291547\ttotal: 37.4s\tremaining: 45.7s\n",
      "450:\tlearn: 5851423.3512934\ttotal: 37.5s\tremaining: 45.6s\n",
      "451:\tlearn: 5850962.0690246\ttotal: 37.6s\tremaining: 45.5s\n",
      "452:\tlearn: 5848439.8876845\ttotal: 37.6s\tremaining: 45.5s\n",
      "453:\tlearn: 5846236.0180555\ttotal: 37.7s\tremaining: 45.4s\n",
      "454:\tlearn: 5844243.3710079\ttotal: 37.8s\tremaining: 45.3s\n",
      "455:\tlearn: 5841800.3098916\ttotal: 38s\tremaining: 45.3s\n",
      "456:\tlearn: 5839321.5559201\ttotal: 38.1s\tremaining: 45.2s\n",
      "457:\tlearn: 5838982.2531159\ttotal: 38.1s\tremaining: 45.1s\n",
      "458:\tlearn: 5836132.8482312\ttotal: 38.2s\tremaining: 45s\n",
      "459:\tlearn: 5833888.3451424\ttotal: 38.3s\tremaining: 45s\n",
      "460:\tlearn: 5832026.2501786\ttotal: 38.4s\tremaining: 44.9s\n",
      "461:\tlearn: 5829821.9329509\ttotal: 38.5s\tremaining: 44.8s\n",
      "462:\tlearn: 5828275.4993334\ttotal: 38.5s\tremaining: 44.7s\n",
      "463:\tlearn: 5825734.2248219\ttotal: 38.6s\tremaining: 44.6s\n",
      "464:\tlearn: 5823521.7423459\ttotal: 38.7s\tremaining: 44.5s\n",
      "465:\tlearn: 5821137.6712627\ttotal: 38.8s\tremaining: 44.4s\n",
      "466:\tlearn: 5820048.0493921\ttotal: 38.9s\tremaining: 44.3s\n",
      "467:\tlearn: 5817857.6806054\ttotal: 38.9s\tremaining: 44.3s\n",
      "468:\tlearn: 5816859.0929671\ttotal: 39s\tremaining: 44.2s\n",
      "469:\tlearn: 5814465.6835032\ttotal: 39.1s\tremaining: 44.1s\n",
      "470:\tlearn: 5812485.8327782\ttotal: 39.2s\tremaining: 44s\n",
      "471:\tlearn: 5811146.1862222\ttotal: 39.3s\tremaining: 43.9s\n",
      "472:\tlearn: 5810077.7724754\ttotal: 39.4s\tremaining: 43.8s\n",
      "473:\tlearn: 5807024.2697773\ttotal: 39.4s\tremaining: 43.8s\n",
      "474:\tlearn: 5805819.2895704\ttotal: 39.5s\tremaining: 43.7s\n",
      "475:\tlearn: 5800823.8818346\ttotal: 39.6s\tremaining: 43.6s\n",
      "476:\tlearn: 5795180.0639150\ttotal: 39.7s\tremaining: 43.5s\n",
      "477:\tlearn: 5792784.9655723\ttotal: 39.7s\tremaining: 43.4s\n",
      "478:\tlearn: 5790442.8760700\ttotal: 39.8s\tremaining: 43.3s\n",
      "479:\tlearn: 5789232.4073836\ttotal: 39.9s\tremaining: 43.2s\n",
      "480:\tlearn: 5787715.2578527\ttotal: 40s\tremaining: 43.1s\n",
      "481:\tlearn: 5786453.4015622\ttotal: 40.1s\tremaining: 43.1s\n",
      "482:\tlearn: 5784611.4098925\ttotal: 40.2s\tremaining: 43.1s\n",
      "483:\tlearn: 5783251.2394541\ttotal: 40.3s\tremaining: 43s\n",
      "484:\tlearn: 5782392.9318509\ttotal: 40.4s\tremaining: 42.9s\n",
      "485:\tlearn: 5779901.4060658\ttotal: 40.5s\tremaining: 42.8s\n",
      "486:\tlearn: 5777332.9179117\ttotal: 40.6s\tremaining: 42.8s\n",
      "487:\tlearn: 5775224.3206737\ttotal: 40.7s\tremaining: 42.7s\n",
      "488:\tlearn: 5774253.4300458\ttotal: 40.8s\tremaining: 42.6s\n",
      "489:\tlearn: 5769625.0093914\ttotal: 40.8s\tremaining: 42.5s\n",
      "490:\tlearn: 5767446.6149139\ttotal: 40.9s\tremaining: 42.4s\n",
      "491:\tlearn: 5764105.6256584\ttotal: 41s\tremaining: 42.3s\n",
      "492:\tlearn: 5758441.3837988\ttotal: 41.1s\tremaining: 42.3s\n",
      "493:\tlearn: 5757204.4808257\ttotal: 41.2s\tremaining: 42.2s\n",
      "494:\tlearn: 5754279.8453314\ttotal: 41.2s\tremaining: 42.1s\n",
      "495:\tlearn: 5753831.0626777\ttotal: 41.3s\tremaining: 42s\n",
      "496:\tlearn: 5751812.3228127\ttotal: 41.4s\tremaining: 41.9s\n",
      "497:\tlearn: 5749724.7006983\ttotal: 41.5s\tremaining: 41.8s\n",
      "498:\tlearn: 5746422.4762873\ttotal: 41.6s\tremaining: 41.7s\n",
      "499:\tlearn: 5746004.4260094\ttotal: 41.6s\tremaining: 41.6s\n",
      "500:\tlearn: 5742668.0808829\ttotal: 41.7s\tremaining: 41.6s\n",
      "501:\tlearn: 5740882.5692754\ttotal: 41.8s\tremaining: 41.5s\n",
      "502:\tlearn: 5738175.1345462\ttotal: 41.9s\tremaining: 41.4s\n",
      "503:\tlearn: 5737403.0121628\ttotal: 41.9s\tremaining: 41.3s\n",
      "504:\tlearn: 5736067.8070097\ttotal: 42s\tremaining: 41.2s\n",
      "505:\tlearn: 5735206.3267094\ttotal: 42.1s\tremaining: 41.1s\n",
      "506:\tlearn: 5733185.4548560\ttotal: 42.2s\tremaining: 41s\n",
      "507:\tlearn: 5729760.6742497\ttotal: 42.3s\tremaining: 40.9s\n",
      "508:\tlearn: 5728491.2841427\ttotal: 42.3s\tremaining: 40.9s\n",
      "509:\tlearn: 5727801.9698223\ttotal: 42.5s\tremaining: 40.8s\n",
      "510:\tlearn: 5721603.4183459\ttotal: 42.6s\tremaining: 40.7s\n",
      "511:\tlearn: 5719460.7407714\ttotal: 42.7s\tremaining: 40.7s\n",
      "512:\tlearn: 5718896.8223006\ttotal: 42.7s\tremaining: 40.6s\n",
      "513:\tlearn: 5716815.0663680\ttotal: 42.8s\tremaining: 40.5s\n",
      "514:\tlearn: 5714142.4389783\ttotal: 42.9s\tremaining: 40.4s\n",
      "515:\tlearn: 5713006.0544458\ttotal: 43s\tremaining: 40.3s\n",
      "516:\tlearn: 5710768.2275842\ttotal: 43.1s\tremaining: 40.2s\n",
      "517:\tlearn: 5709788.8161874\ttotal: 43.2s\tremaining: 40.2s\n",
      "518:\tlearn: 5705928.5637973\ttotal: 43.2s\tremaining: 40.1s\n",
      "519:\tlearn: 5703984.7217935\ttotal: 43.3s\tremaining: 40s\n",
      "520:\tlearn: 5697127.2219710\ttotal: 43.4s\tremaining: 39.9s\n",
      "521:\tlearn: 5696751.8601033\ttotal: 43.5s\tremaining: 39.8s\n",
      "522:\tlearn: 5696397.4446059\ttotal: 43.6s\tremaining: 39.7s\n",
      "523:\tlearn: 5694769.2616093\ttotal: 43.6s\tremaining: 39.7s\n",
      "524:\tlearn: 5693344.3758258\ttotal: 43.7s\tremaining: 39.6s\n",
      "525:\tlearn: 5690678.3631939\ttotal: 43.8s\tremaining: 39.5s\n",
      "526:\tlearn: 5687166.0114722\ttotal: 43.9s\tremaining: 39.4s\n",
      "527:\tlearn: 5681791.4698144\ttotal: 44s\tremaining: 39.3s\n",
      "528:\tlearn: 5679904.9965543\ttotal: 44s\tremaining: 39.2s\n",
      "529:\tlearn: 5679228.8201478\ttotal: 44.1s\tremaining: 39.1s\n",
      "530:\tlearn: 5677101.7118943\ttotal: 44.2s\tremaining: 39s\n",
      "531:\tlearn: 5673956.2624851\ttotal: 44.3s\tremaining: 39s\n",
      "532:\tlearn: 5673071.4184840\ttotal: 44.4s\tremaining: 38.9s\n",
      "533:\tlearn: 5670877.8360693\ttotal: 44.4s\tremaining: 38.8s\n",
      "534:\tlearn: 5670289.9519586\ttotal: 44.5s\tremaining: 38.7s\n",
      "535:\tlearn: 5666959.3613798\ttotal: 44.6s\tremaining: 38.6s\n",
      "536:\tlearn: 5663290.9987685\ttotal: 44.7s\tremaining: 38.5s\n",
      "537:\tlearn: 5660791.9539056\ttotal: 44.8s\tremaining: 38.5s\n",
      "538:\tlearn: 5659216.6712141\ttotal: 44.9s\tremaining: 38.4s\n",
      "539:\tlearn: 5656712.5416205\ttotal: 45s\tremaining: 38.3s\n",
      "540:\tlearn: 5652609.4299651\ttotal: 45.1s\tremaining: 38.3s\n",
      "541:\tlearn: 5651298.7569167\ttotal: 45.2s\tremaining: 38.2s\n",
      "542:\tlearn: 5650592.9134292\ttotal: 45.3s\tremaining: 38.1s\n",
      "543:\tlearn: 5648405.7095894\ttotal: 45.3s\tremaining: 38s\n",
      "544:\tlearn: 5646355.4066429\ttotal: 45.4s\tremaining: 37.9s\n",
      "545:\tlearn: 5643028.4274664\ttotal: 45.5s\tremaining: 37.8s\n",
      "546:\tlearn: 5638954.4018276\ttotal: 45.6s\tremaining: 37.7s\n",
      "547:\tlearn: 5638105.7809642\ttotal: 45.7s\tremaining: 37.7s\n",
      "548:\tlearn: 5637314.8746939\ttotal: 45.7s\tremaining: 37.6s\n",
      "549:\tlearn: 5635931.8579105\ttotal: 45.8s\tremaining: 37.5s\n",
      "550:\tlearn: 5633125.9177664\ttotal: 45.9s\tremaining: 37.4s\n",
      "551:\tlearn: 5629592.6085534\ttotal: 46s\tremaining: 37.3s\n",
      "552:\tlearn: 5626339.7982254\ttotal: 46.1s\tremaining: 37.2s\n",
      "553:\tlearn: 5624960.5746186\ttotal: 46.1s\tremaining: 37.1s\n",
      "554:\tlearn: 5622048.1330530\ttotal: 46.2s\tremaining: 37.1s\n",
      "555:\tlearn: 5621867.6953634\ttotal: 46.3s\tremaining: 37s\n",
      "556:\tlearn: 5618511.3354238\ttotal: 46.4s\tremaining: 36.9s\n",
      "557:\tlearn: 5617092.7641916\ttotal: 46.5s\tremaining: 36.8s\n",
      "558:\tlearn: 5616444.9934128\ttotal: 46.5s\tremaining: 36.7s\n",
      "559:\tlearn: 5615289.2570571\ttotal: 46.6s\tremaining: 36.6s\n",
      "560:\tlearn: 5613942.1750420\ttotal: 46.7s\tremaining: 36.5s\n",
      "561:\tlearn: 5612681.8951507\ttotal: 46.8s\tremaining: 36.4s\n",
      "562:\tlearn: 5610233.4186524\ttotal: 46.8s\tremaining: 36.4s\n",
      "563:\tlearn: 5609329.1893415\ttotal: 46.9s\tremaining: 36.3s\n",
      "564:\tlearn: 5608067.2723497\ttotal: 47s\tremaining: 36.2s\n",
      "565:\tlearn: 5606278.5425416\ttotal: 47.2s\tremaining: 36.2s\n",
      "566:\tlearn: 5604692.6690071\ttotal: 47.3s\tremaining: 36.1s\n",
      "567:\tlearn: 5604295.1037582\ttotal: 47.3s\tremaining: 36s\n",
      "568:\tlearn: 5601431.3962520\ttotal: 47.4s\tremaining: 35.9s\n",
      "569:\tlearn: 5601334.1010663\ttotal: 47.5s\tremaining: 35.8s\n",
      "570:\tlearn: 5599082.0194287\ttotal: 47.6s\tremaining: 35.7s\n",
      "571:\tlearn: 5596935.1466006\ttotal: 47.6s\tremaining: 35.6s\n",
      "572:\tlearn: 5595352.5384941\ttotal: 47.7s\tremaining: 35.6s\n",
      "573:\tlearn: 5592076.6056409\ttotal: 47.8s\tremaining: 35.5s\n",
      "574:\tlearn: 5591923.7425518\ttotal: 47.9s\tremaining: 35.4s\n",
      "575:\tlearn: 5589105.5981710\ttotal: 48s\tremaining: 35.3s\n",
      "576:\tlearn: 5588803.4793586\ttotal: 48s\tremaining: 35.2s\n",
      "577:\tlearn: 5585187.2991087\ttotal: 48.1s\tremaining: 35.1s\n",
      "578:\tlearn: 5583436.7816353\ttotal: 48.2s\tremaining: 35s\n",
      "579:\tlearn: 5582029.1736437\ttotal: 48.3s\tremaining: 35s\n",
      "580:\tlearn: 5578618.4757175\ttotal: 48.4s\tremaining: 34.9s\n",
      "581:\tlearn: 5576315.5919782\ttotal: 48.4s\tremaining: 34.8s\n",
      "582:\tlearn: 5575112.6454078\ttotal: 48.5s\tremaining: 34.7s\n",
      "583:\tlearn: 5572647.7399051\ttotal: 48.6s\tremaining: 34.6s\n",
      "584:\tlearn: 5569731.6634858\ttotal: 48.7s\tremaining: 34.5s\n",
      "585:\tlearn: 5567404.0825271\ttotal: 48.8s\tremaining: 34.5s\n",
      "586:\tlearn: 5566448.7859057\ttotal: 48.8s\tremaining: 34.4s\n",
      "587:\tlearn: 5565643.2651483\ttotal: 48.9s\tremaining: 34.3s\n",
      "588:\tlearn: 5563566.6158976\ttotal: 49s\tremaining: 34.2s\n",
      "589:\tlearn: 5562757.8609864\ttotal: 49.1s\tremaining: 34.1s\n",
      "590:\tlearn: 5561714.8471882\ttotal: 49.2s\tremaining: 34s\n",
      "591:\tlearn: 5560190.6438849\ttotal: 49.2s\tremaining: 33.9s\n",
      "592:\tlearn: 5557928.5777994\ttotal: 49.4s\tremaining: 33.9s\n",
      "593:\tlearn: 5557049.5449338\ttotal: 49.4s\tremaining: 33.8s\n",
      "594:\tlearn: 5556904.2820493\ttotal: 49.6s\tremaining: 33.7s\n",
      "595:\tlearn: 5556260.8566745\ttotal: 49.6s\tremaining: 33.6s\n",
      "596:\tlearn: 5555773.1545396\ttotal: 49.7s\tremaining: 33.6s\n",
      "597:\tlearn: 5551859.6844889\ttotal: 49.8s\tremaining: 33.5s\n",
      "598:\tlearn: 5550869.5977201\ttotal: 49.9s\tremaining: 33.4s\n",
      "599:\tlearn: 5549762.2425616\ttotal: 49.9s\tremaining: 33.3s\n",
      "600:\tlearn: 5547964.3376673\ttotal: 50s\tremaining: 33.2s\n",
      "601:\tlearn: 5547218.7606858\ttotal: 50.1s\tremaining: 33.1s\n",
      "602:\tlearn: 5541074.7858120\ttotal: 50.2s\tremaining: 33.1s\n",
      "603:\tlearn: 5538290.1143273\ttotal: 50.4s\tremaining: 33s\n",
      "604:\tlearn: 5532827.8965008\ttotal: 50.5s\tremaining: 33s\n",
      "605:\tlearn: 5528776.6380842\ttotal: 50.6s\tremaining: 32.9s\n",
      "606:\tlearn: 5525779.6955399\ttotal: 50.7s\tremaining: 32.8s\n",
      "607:\tlearn: 5519706.5274253\ttotal: 50.8s\tremaining: 32.7s\n",
      "608:\tlearn: 5517409.3833810\ttotal: 50.9s\tremaining: 32.7s\n",
      "609:\tlearn: 5515461.2440692\ttotal: 50.9s\tremaining: 32.6s\n",
      "610:\tlearn: 5513056.2908466\ttotal: 51.1s\tremaining: 32.6s\n",
      "611:\tlearn: 5510907.8280020\ttotal: 51.2s\tremaining: 32.5s\n",
      "612:\tlearn: 5508198.5882441\ttotal: 51.3s\tremaining: 32.4s\n",
      "613:\tlearn: 5504724.5351423\ttotal: 51.4s\tremaining: 32.3s\n",
      "614:\tlearn: 5504180.4558228\ttotal: 51.5s\tremaining: 32.2s\n",
      "615:\tlearn: 5500870.9048237\ttotal: 51.6s\tremaining: 32.1s\n",
      "616:\tlearn: 5498480.9996652\ttotal: 51.7s\tremaining: 32.1s\n",
      "617:\tlearn: 5498108.8754565\ttotal: 51.8s\tremaining: 32s\n",
      "618:\tlearn: 5497251.7071403\ttotal: 51.9s\tremaining: 32s\n",
      "619:\tlearn: 5495935.8990433\ttotal: 52s\tremaining: 31.9s\n",
      "620:\tlearn: 5494763.7408125\ttotal: 52.1s\tremaining: 31.8s\n",
      "621:\tlearn: 5493963.4057734\ttotal: 52.2s\tremaining: 31.7s\n",
      "622:\tlearn: 5492752.1882061\ttotal: 52.2s\tremaining: 31.6s\n",
      "623:\tlearn: 5487901.0987087\ttotal: 52.3s\tremaining: 31.5s\n",
      "624:\tlearn: 5486285.2060912\ttotal: 52.4s\tremaining: 31.4s\n",
      "625:\tlearn: 5485065.2583450\ttotal: 52.5s\tremaining: 31.4s\n",
      "626:\tlearn: 5484884.0683541\ttotal: 52.6s\tremaining: 31.3s\n",
      "627:\tlearn: 5482118.7653085\ttotal: 52.6s\tremaining: 31.2s\n",
      "628:\tlearn: 5480846.5506994\ttotal: 52.7s\tremaining: 31.1s\n",
      "629:\tlearn: 5480583.5823171\ttotal: 52.8s\tremaining: 31s\n",
      "630:\tlearn: 5480196.1335882\ttotal: 52.9s\tremaining: 30.9s\n",
      "631:\tlearn: 5479079.8422598\ttotal: 52.9s\tremaining: 30.8s\n",
      "632:\tlearn: 5477105.3491950\ttotal: 53s\tremaining: 30.7s\n",
      "633:\tlearn: 5476337.1107359\ttotal: 53.1s\tremaining: 30.7s\n",
      "634:\tlearn: 5475467.1663657\ttotal: 53.2s\tremaining: 30.6s\n",
      "635:\tlearn: 5473881.1354709\ttotal: 53.3s\tremaining: 30.5s\n",
      "636:\tlearn: 5471692.2165287\ttotal: 53.3s\tremaining: 30.4s\n",
      "637:\tlearn: 5469634.9022606\ttotal: 53.4s\tremaining: 30.3s\n",
      "638:\tlearn: 5466579.1728333\ttotal: 53.5s\tremaining: 30.2s\n",
      "639:\tlearn: 5464791.6039405\ttotal: 53.6s\tremaining: 30.1s\n"
     ]
    },
    {
     "name": "stdout",
     "output_type": "stream",
     "text": [
      "640:\tlearn: 5462289.2876184\ttotal: 53.6s\tremaining: 30s\n",
      "641:\tlearn: 5460883.7235335\ttotal: 53.7s\tremaining: 30s\n",
      "642:\tlearn: 5459594.5797665\ttotal: 53.8s\tremaining: 29.9s\n",
      "643:\tlearn: 5457671.9198858\ttotal: 53.9s\tremaining: 29.8s\n",
      "644:\tlearn: 5456289.5426094\ttotal: 54s\tremaining: 29.7s\n",
      "645:\tlearn: 5453995.1002127\ttotal: 54.2s\tremaining: 29.7s\n",
      "646:\tlearn: 5453049.8766742\ttotal: 54.4s\tremaining: 29.7s\n",
      "647:\tlearn: 5450219.1957140\ttotal: 54.5s\tremaining: 29.6s\n",
      "648:\tlearn: 5448725.3366973\ttotal: 54.6s\tremaining: 29.6s\n",
      "649:\tlearn: 5446766.0829778\ttotal: 54.8s\tremaining: 29.5s\n",
      "650:\tlearn: 5445618.0492379\ttotal: 54.9s\tremaining: 29.4s\n",
      "651:\tlearn: 5444140.8266813\ttotal: 55s\tremaining: 29.3s\n",
      "652:\tlearn: 5443770.5356670\ttotal: 55s\tremaining: 29.3s\n",
      "653:\tlearn: 5438433.5272566\ttotal: 55.1s\tremaining: 29.2s\n",
      "654:\tlearn: 5437870.0990354\ttotal: 55.2s\tremaining: 29.1s\n",
      "655:\tlearn: 5434666.5646827\ttotal: 55.3s\tremaining: 29s\n",
      "656:\tlearn: 5434628.1314420\ttotal: 55.4s\tremaining: 28.9s\n",
      "657:\tlearn: 5432320.8704961\ttotal: 55.4s\tremaining: 28.8s\n",
      "658:\tlearn: 5431446.9139782\ttotal: 55.5s\tremaining: 28.7s\n",
      "659:\tlearn: 5429083.9760578\ttotal: 55.6s\tremaining: 28.6s\n",
      "660:\tlearn: 5427761.6096732\ttotal: 55.7s\tremaining: 28.5s\n",
      "661:\tlearn: 5426862.3289325\ttotal: 55.7s\tremaining: 28.5s\n",
      "662:\tlearn: 5425116.9035241\ttotal: 55.8s\tremaining: 28.4s\n",
      "663:\tlearn: 5423022.1228457\ttotal: 55.9s\tremaining: 28.3s\n",
      "664:\tlearn: 5421428.1261014\ttotal: 55.9s\tremaining: 28.2s\n",
      "665:\tlearn: 5419513.2128999\ttotal: 56s\tremaining: 28.1s\n",
      "666:\tlearn: 5419186.8252136\ttotal: 56.1s\tremaining: 28s\n",
      "667:\tlearn: 5417891.9389923\ttotal: 56.2s\tremaining: 27.9s\n",
      "668:\tlearn: 5416074.1700189\ttotal: 56.2s\tremaining: 27.8s\n",
      "669:\tlearn: 5414325.7577504\ttotal: 56.3s\tremaining: 27.7s\n",
      "670:\tlearn: 5411830.1602608\ttotal: 56.4s\tremaining: 27.6s\n",
      "671:\tlearn: 5410952.2401202\ttotal: 56.5s\tremaining: 27.6s\n",
      "672:\tlearn: 5407254.3516303\ttotal: 56.6s\tremaining: 27.5s\n",
      "673:\tlearn: 5404513.6146851\ttotal: 56.7s\tremaining: 27.4s\n",
      "674:\tlearn: 5403602.9428454\ttotal: 56.8s\tremaining: 27.3s\n",
      "675:\tlearn: 5402839.0145021\ttotal: 56.9s\tremaining: 27.3s\n",
      "676:\tlearn: 5401386.1615000\ttotal: 56.9s\tremaining: 27.2s\n",
      "677:\tlearn: 5400058.4667143\ttotal: 57s\tremaining: 27.1s\n",
      "678:\tlearn: 5396729.4931641\ttotal: 57.1s\tremaining: 27s\n",
      "679:\tlearn: 5395705.9737269\ttotal: 57.2s\tremaining: 26.9s\n",
      "680:\tlearn: 5394020.4606440\ttotal: 57.2s\tremaining: 26.8s\n",
      "681:\tlearn: 5393239.9436670\ttotal: 57.3s\tremaining: 26.7s\n",
      "682:\tlearn: 5391141.7233949\ttotal: 57.4s\tremaining: 26.6s\n",
      "683:\tlearn: 5388626.1274908\ttotal: 57.5s\tremaining: 26.5s\n",
      "684:\tlearn: 5388122.4330383\ttotal: 57.5s\tremaining: 26.5s\n",
      "685:\tlearn: 5387261.1617431\ttotal: 57.6s\tremaining: 26.4s\n",
      "686:\tlearn: 5386775.2646727\ttotal: 57.7s\tremaining: 26.3s\n",
      "687:\tlearn: 5385381.4627708\ttotal: 57.7s\tremaining: 26.2s\n",
      "688:\tlearn: 5384633.4807372\ttotal: 57.8s\tremaining: 26.1s\n",
      "689:\tlearn: 5384541.5317221\ttotal: 57.9s\tremaining: 26s\n",
      "690:\tlearn: 5384316.6211554\ttotal: 58s\tremaining: 25.9s\n",
      "691:\tlearn: 5382086.3227258\ttotal: 58s\tremaining: 25.8s\n",
      "692:\tlearn: 5380442.9639895\ttotal: 58.1s\tremaining: 25.7s\n",
      "693:\tlearn: 5379278.3407272\ttotal: 58.2s\tremaining: 25.7s\n",
      "694:\tlearn: 5377722.8352721\ttotal: 58.3s\tremaining: 25.6s\n",
      "695:\tlearn: 5377297.1373866\ttotal: 58.3s\tremaining: 25.5s\n",
      "696:\tlearn: 5374840.1889708\ttotal: 58.4s\tremaining: 25.4s\n",
      "697:\tlearn: 5373968.1410124\ttotal: 58.5s\tremaining: 25.3s\n",
      "698:\tlearn: 5372615.8802564\ttotal: 58.5s\tremaining: 25.2s\n",
      "699:\tlearn: 5371834.1559847\ttotal: 58.6s\tremaining: 25.1s\n",
      "700:\tlearn: 5371408.5601226\ttotal: 58.7s\tremaining: 25s\n",
      "701:\tlearn: 5371319.7752077\ttotal: 58.8s\tremaining: 24.9s\n",
      "702:\tlearn: 5369239.3878984\ttotal: 58.9s\tremaining: 24.9s\n",
      "703:\tlearn: 5366922.0982242\ttotal: 59s\tremaining: 24.8s\n",
      "704:\tlearn: 5364908.8266464\ttotal: 59.1s\tremaining: 24.7s\n",
      "705:\tlearn: 5361704.2210301\ttotal: 59.2s\tremaining: 24.6s\n",
      "706:\tlearn: 5357175.5884930\ttotal: 59.2s\tremaining: 24.6s\n",
      "707:\tlearn: 5353412.0629909\ttotal: 59.3s\tremaining: 24.5s\n",
      "708:\tlearn: 5352325.3776585\ttotal: 59.4s\tremaining: 24.4s\n",
      "709:\tlearn: 5351237.0559437\ttotal: 59.5s\tremaining: 24.3s\n",
      "710:\tlearn: 5349165.4085433\ttotal: 59.6s\tremaining: 24.2s\n",
      "711:\tlearn: 5348148.3308697\ttotal: 59.7s\tremaining: 24.1s\n",
      "712:\tlearn: 5347308.5881409\ttotal: 59.7s\tremaining: 24s\n",
      "713:\tlearn: 5345849.2352530\ttotal: 59.8s\tremaining: 24s\n",
      "714:\tlearn: 5345499.5809426\ttotal: 59.9s\tremaining: 23.9s\n",
      "715:\tlearn: 5344846.6551445\ttotal: 60s\tremaining: 23.8s\n",
      "716:\tlearn: 5343062.6418808\ttotal: 1m\tremaining: 23.7s\n",
      "717:\tlearn: 5341241.6955674\ttotal: 1m\tremaining: 23.6s\n",
      "718:\tlearn: 5339651.8534692\ttotal: 1m\tremaining: 23.5s\n",
      "719:\tlearn: 5338902.4067623\ttotal: 1m\tremaining: 23.4s\n",
      "720:\tlearn: 5338591.4884263\ttotal: 1m\tremaining: 23.4s\n",
      "721:\tlearn: 5337029.7256889\ttotal: 1m\tremaining: 23.3s\n",
      "722:\tlearn: 5335861.4405556\ttotal: 1m\tremaining: 23.2s\n",
      "723:\tlearn: 5333341.9599238\ttotal: 1m\tremaining: 23.1s\n",
      "724:\tlearn: 5331363.7974666\ttotal: 1m\tremaining: 23s\n",
      "725:\tlearn: 5329042.1146089\ttotal: 1m\tremaining: 22.9s\n",
      "726:\tlearn: 5328501.6490655\ttotal: 1m\tremaining: 22.8s\n",
      "727:\tlearn: 5327829.2019148\ttotal: 1m\tremaining: 22.8s\n",
      "728:\tlearn: 5325993.8628631\ttotal: 1m\tremaining: 22.7s\n",
      "729:\tlearn: 5324546.1395458\ttotal: 1m 1s\tremaining: 22.6s\n",
      "730:\tlearn: 5323835.1486700\ttotal: 1m 1s\tremaining: 22.5s\n",
      "731:\tlearn: 5321467.5800847\ttotal: 1m 1s\tremaining: 22.4s\n",
      "732:\tlearn: 5320423.9470723\ttotal: 1m 1s\tremaining: 22.4s\n",
      "733:\tlearn: 5318575.4453348\ttotal: 1m 1s\tremaining: 22.3s\n",
      "734:\tlearn: 5316161.2864077\ttotal: 1m 1s\tremaining: 22.2s\n",
      "735:\tlearn: 5313588.7076282\ttotal: 1m 1s\tremaining: 22.1s\n",
      "736:\tlearn: 5312824.9045985\ttotal: 1m 1s\tremaining: 22s\n",
      "737:\tlearn: 5310285.0189840\ttotal: 1m 1s\tremaining: 21.9s\n",
      "738:\tlearn: 5308070.7376337\ttotal: 1m 1s\tremaining: 21.8s\n",
      "739:\tlearn: 5306103.1811011\ttotal: 1m 1s\tremaining: 21.8s\n",
      "740:\tlearn: 5304075.3489500\ttotal: 1m 1s\tremaining: 21.7s\n",
      "741:\tlearn: 5301739.4645299\ttotal: 1m 2s\tremaining: 21.6s\n",
      "742:\tlearn: 5301123.6908035\ttotal: 1m 2s\tremaining: 21.5s\n",
      "743:\tlearn: 5297796.2846200\ttotal: 1m 2s\tremaining: 21.4s\n",
      "744:\tlearn: 5297110.8129571\ttotal: 1m 2s\tremaining: 21.3s\n",
      "745:\tlearn: 5295889.7103399\ttotal: 1m 2s\tremaining: 21.2s\n",
      "746:\tlearn: 5293959.7126802\ttotal: 1m 2s\tremaining: 21.1s\n",
      "747:\tlearn: 5293764.7438099\ttotal: 1m 2s\tremaining: 21.1s\n",
      "748:\tlearn: 5293317.3945381\ttotal: 1m 2s\tremaining: 21s\n",
      "749:\tlearn: 5291076.2181050\ttotal: 1m 2s\tremaining: 20.9s\n",
      "750:\tlearn: 5289740.2700691\ttotal: 1m 2s\tremaining: 20.8s\n",
      "751:\tlearn: 5288931.6404524\ttotal: 1m 2s\tremaining: 20.7s\n",
      "752:\tlearn: 5288434.6373111\ttotal: 1m 2s\tremaining: 20.6s\n",
      "753:\tlearn: 5285916.0273617\ttotal: 1m 2s\tremaining: 20.5s\n",
      "754:\tlearn: 5283213.3387223\ttotal: 1m 3s\tremaining: 20.4s\n",
      "755:\tlearn: 5281966.9464890\ttotal: 1m 3s\tremaining: 20.4s\n",
      "756:\tlearn: 5278512.9843062\ttotal: 1m 3s\tremaining: 20.3s\n",
      "757:\tlearn: 5276460.7029027\ttotal: 1m 3s\tremaining: 20.2s\n",
      "758:\tlearn: 5275872.9053015\ttotal: 1m 3s\tremaining: 20.1s\n",
      "759:\tlearn: 5273271.3844634\ttotal: 1m 3s\tremaining: 20s\n",
      "760:\tlearn: 5271522.0342709\ttotal: 1m 3s\tremaining: 20s\n",
      "761:\tlearn: 5269634.4419942\ttotal: 1m 3s\tremaining: 19.9s\n",
      "762:\tlearn: 5268832.6849859\ttotal: 1m 3s\tremaining: 19.8s\n",
      "763:\tlearn: 5267537.9766808\ttotal: 1m 3s\tremaining: 19.7s\n",
      "764:\tlearn: 5267155.9265418\ttotal: 1m 3s\tremaining: 19.6s\n",
      "765:\tlearn: 5265473.0332979\ttotal: 1m 3s\tremaining: 19.5s\n",
      "766:\tlearn: 5262187.9448901\ttotal: 1m 4s\tremaining: 19.4s\n",
      "767:\tlearn: 5261108.7403573\ttotal: 1m 4s\tremaining: 19.4s\n",
      "768:\tlearn: 5258943.2239842\ttotal: 1m 4s\tremaining: 19.3s\n",
      "769:\tlearn: 5258153.5005145\ttotal: 1m 4s\tremaining: 19.2s\n",
      "770:\tlearn: 5257037.6826538\ttotal: 1m 4s\tremaining: 19.1s\n",
      "771:\tlearn: 5255675.7427091\ttotal: 1m 4s\tremaining: 19s\n",
      "772:\tlearn: 5254961.1539723\ttotal: 1m 4s\tremaining: 18.9s\n",
      "773:\tlearn: 5253525.0794032\ttotal: 1m 4s\tremaining: 18.9s\n",
      "774:\tlearn: 5251272.0026556\ttotal: 1m 4s\tremaining: 18.8s\n",
      "775:\tlearn: 5250529.4593501\ttotal: 1m 4s\tremaining: 18.7s\n",
      "776:\tlearn: 5248952.9297630\ttotal: 1m 4s\tremaining: 18.6s\n",
      "777:\tlearn: 5247176.7882462\ttotal: 1m 4s\tremaining: 18.5s\n",
      "778:\tlearn: 5245253.9174048\ttotal: 1m 4s\tremaining: 18.4s\n",
      "779:\tlearn: 5243722.9230123\ttotal: 1m 4s\tremaining: 18.3s\n",
      "780:\tlearn: 5243510.0283786\ttotal: 1m 5s\tremaining: 18.2s\n",
      "781:\tlearn: 5238965.8960814\ttotal: 1m 5s\tremaining: 18.2s\n",
      "782:\tlearn: 5236765.9714978\ttotal: 1m 5s\tremaining: 18.1s\n",
      "783:\tlearn: 5236351.9940826\ttotal: 1m 5s\tremaining: 18s\n",
      "784:\tlearn: 5235841.9017503\ttotal: 1m 5s\tremaining: 17.9s\n",
      "785:\tlearn: 5234789.5683935\ttotal: 1m 5s\tremaining: 17.8s\n",
      "786:\tlearn: 5233148.2746399\ttotal: 1m 5s\tremaining: 17.7s\n",
      "787:\tlearn: 5231684.8910874\ttotal: 1m 5s\tremaining: 17.6s\n",
      "788:\tlearn: 5231068.8618857\ttotal: 1m 5s\tremaining: 17.6s\n",
      "789:\tlearn: 5229174.6365907\ttotal: 1m 5s\tremaining: 17.5s\n",
      "790:\tlearn: 5227925.7071222\ttotal: 1m 5s\tremaining: 17.4s\n",
      "791:\tlearn: 5225963.1543077\ttotal: 1m 6s\tremaining: 17.3s\n",
      "792:\tlearn: 5223970.0158665\ttotal: 1m 6s\tremaining: 17.2s\n",
      "793:\tlearn: 5222592.0899332\ttotal: 1m 6s\tremaining: 17.2s\n",
      "794:\tlearn: 5222526.6916475\ttotal: 1m 6s\tremaining: 17.1s\n",
      "795:\tlearn: 5220965.8892328\ttotal: 1m 6s\tremaining: 17s\n",
      "796:\tlearn: 5217341.7007417\ttotal: 1m 6s\tremaining: 16.9s\n",
      "797:\tlearn: 5215989.0799033\ttotal: 1m 6s\tremaining: 16.8s\n",
      "798:\tlearn: 5215916.9637144\ttotal: 1m 6s\tremaining: 16.7s\n",
      "799:\tlearn: 5211700.1244688\ttotal: 1m 6s\tremaining: 16.6s\n",
      "800:\tlearn: 5210208.0306676\ttotal: 1m 6s\tremaining: 16.6s\n",
      "801:\tlearn: 5205255.8042391\ttotal: 1m 6s\tremaining: 16.5s\n",
      "802:\tlearn: 5204713.3825322\ttotal: 1m 6s\tremaining: 16.4s\n",
      "803:\tlearn: 5203423.8577269\ttotal: 1m 6s\tremaining: 16.3s\n",
      "804:\tlearn: 5202888.9333778\ttotal: 1m 6s\tremaining: 16.2s\n",
      "805:\tlearn: 5200645.3856768\ttotal: 1m 7s\tremaining: 16.1s\n",
      "806:\tlearn: 5198938.0019151\ttotal: 1m 7s\tremaining: 16.1s\n",
      "807:\tlearn: 5197690.3735395\ttotal: 1m 7s\tremaining: 16s\n",
      "808:\tlearn: 5195430.9187182\ttotal: 1m 7s\tremaining: 15.9s\n",
      "809:\tlearn: 5194610.8087790\ttotal: 1m 7s\tremaining: 15.8s\n",
      "810:\tlearn: 5192179.8840152\ttotal: 1m 7s\tremaining: 15.7s\n",
      "811:\tlearn: 5190106.3610719\ttotal: 1m 7s\tremaining: 15.6s\n",
      "812:\tlearn: 5187228.9950156\ttotal: 1m 7s\tremaining: 15.5s\n",
      "813:\tlearn: 5186652.5921123\ttotal: 1m 7s\tremaining: 15.5s\n",
      "814:\tlearn: 5185423.4499303\ttotal: 1m 7s\tremaining: 15.4s\n",
      "815:\tlearn: 5183165.3494863\ttotal: 1m 7s\tremaining: 15.3s\n",
      "816:\tlearn: 5182697.1463473\ttotal: 1m 7s\tremaining: 15.2s\n",
      "817:\tlearn: 5179412.9750509\ttotal: 1m 7s\tremaining: 15.1s\n",
      "818:\tlearn: 5178308.0439859\ttotal: 1m 8s\tremaining: 15s\n",
      "819:\tlearn: 5176877.7709912\ttotal: 1m 8s\tremaining: 15s\n",
      "820:\tlearn: 5172363.7819655\ttotal: 1m 8s\tremaining: 14.9s\n",
      "821:\tlearn: 5171403.9576222\ttotal: 1m 8s\tremaining: 14.8s\n",
      "822:\tlearn: 5169501.2822395\ttotal: 1m 8s\tremaining: 14.7s\n",
      "823:\tlearn: 5167529.8646682\ttotal: 1m 8s\tremaining: 14.6s\n",
      "824:\tlearn: 5166838.1592415\ttotal: 1m 8s\tremaining: 14.5s\n",
      "825:\tlearn: 5165114.8549381\ttotal: 1m 8s\tremaining: 14.5s\n",
      "826:\tlearn: 5162546.2291199\ttotal: 1m 8s\tremaining: 14.4s\n",
      "827:\tlearn: 5162400.0980927\ttotal: 1m 8s\tremaining: 14.3s\n",
      "828:\tlearn: 5158720.7841659\ttotal: 1m 8s\tremaining: 14.2s\n",
      "829:\tlearn: 5157555.9127390\ttotal: 1m 8s\tremaining: 14.1s\n",
      "830:\tlearn: 5153921.5139751\ttotal: 1m 9s\tremaining: 14s\n",
      "831:\tlearn: 5150883.0301835\ttotal: 1m 9s\tremaining: 14s\n",
      "832:\tlearn: 5149234.8615077\ttotal: 1m 9s\tremaining: 13.9s\n",
      "833:\tlearn: 5148223.2990459\ttotal: 1m 9s\tremaining: 13.8s\n",
      "834:\tlearn: 5144795.4397755\ttotal: 1m 9s\tremaining: 13.7s\n",
      "835:\tlearn: 5143996.5666088\ttotal: 1m 9s\tremaining: 13.6s\n",
      "836:\tlearn: 5143720.9313898\ttotal: 1m 9s\tremaining: 13.5s\n",
      "837:\tlearn: 5142564.9716193\ttotal: 1m 9s\tremaining: 13.4s\n",
      "838:\tlearn: 5141780.5032342\ttotal: 1m 9s\tremaining: 13.4s\n",
      "839:\tlearn: 5140744.6331873\ttotal: 1m 9s\tremaining: 13.3s\n",
      "840:\tlearn: 5139961.2674333\ttotal: 1m 9s\tremaining: 13.2s\n",
      "841:\tlearn: 5138607.7053574\ttotal: 1m 9s\tremaining: 13.1s\n",
      "842:\tlearn: 5137965.9032171\ttotal: 1m 9s\tremaining: 13s\n",
      "843:\tlearn: 5137017.9102992\ttotal: 1m 9s\tremaining: 12.9s\n",
      "844:\tlearn: 5135830.5859042\ttotal: 1m 10s\tremaining: 12.8s\n",
      "845:\tlearn: 5135783.1358900\ttotal: 1m 10s\tremaining: 12.8s\n",
      "846:\tlearn: 5134023.3953075\ttotal: 1m 10s\tremaining: 12.7s\n",
      "847:\tlearn: 5132196.5634742\ttotal: 1m 10s\tremaining: 12.6s\n",
      "848:\tlearn: 5130411.2238990\ttotal: 1m 10s\tremaining: 12.5s\n",
      "849:\tlearn: 5130141.7549426\ttotal: 1m 10s\tremaining: 12.4s\n",
      "850:\tlearn: 5128581.7000431\ttotal: 1m 10s\tremaining: 12.4s\n",
      "851:\tlearn: 5126794.9288548\ttotal: 1m 10s\tremaining: 12.3s\n",
      "852:\tlearn: 5125475.2342683\ttotal: 1m 10s\tremaining: 12.2s\n",
      "853:\tlearn: 5123406.8121266\ttotal: 1m 10s\tremaining: 12.1s\n",
      "854:\tlearn: 5122640.4862679\ttotal: 1m 10s\tremaining: 12s\n",
      "855:\tlearn: 5120699.2713143\ttotal: 1m 10s\tremaining: 11.9s\n",
      "856:\tlearn: 5118819.8719218\ttotal: 1m 11s\tremaining: 11.9s\n",
      "857:\tlearn: 5117905.6128553\ttotal: 1m 11s\tremaining: 11.8s\n",
      "858:\tlearn: 5117891.5742464\ttotal: 1m 11s\tremaining: 11.7s\n",
      "859:\tlearn: 5117457.6324543\ttotal: 1m 11s\tremaining: 11.6s\n",
      "860:\tlearn: 5115301.5693794\ttotal: 1m 11s\tremaining: 11.5s\n",
      "861:\tlearn: 5112431.8616254\ttotal: 1m 11s\tremaining: 11.4s\n",
      "862:\tlearn: 5110839.1455087\ttotal: 1m 11s\tremaining: 11.4s\n",
      "863:\tlearn: 5109255.9050216\ttotal: 1m 11s\tremaining: 11.3s\n",
      "864:\tlearn: 5108046.6482137\ttotal: 1m 11s\tremaining: 11.2s\n",
      "865:\tlearn: 5106890.0617161\ttotal: 1m 11s\tremaining: 11.1s\n",
      "866:\tlearn: 5103828.9446450\ttotal: 1m 11s\tremaining: 11s\n",
      "867:\tlearn: 5103595.5108993\ttotal: 1m 11s\tremaining: 10.9s\n",
      "868:\tlearn: 5102338.1485041\ttotal: 1m 11s\tremaining: 10.9s\n",
      "869:\tlearn: 5101465.7224167\ttotal: 1m 12s\tremaining: 10.8s\n",
      "870:\tlearn: 5099061.5969889\ttotal: 1m 12s\tremaining: 10.7s\n",
      "871:\tlearn: 5098164.1534220\ttotal: 1m 12s\tremaining: 10.6s\n",
      "872:\tlearn: 5097132.7489884\ttotal: 1m 12s\tremaining: 10.5s\n",
      "873:\tlearn: 5096984.5286169\ttotal: 1m 12s\tremaining: 10.4s\n",
      "874:\tlearn: 5094228.6308920\ttotal: 1m 12s\tremaining: 10.3s\n",
      "875:\tlearn: 5091332.3467068\ttotal: 1m 12s\tremaining: 10.3s\n",
      "876:\tlearn: 5087915.3724365\ttotal: 1m 12s\tremaining: 10.2s\n",
      "877:\tlearn: 5083803.5540340\ttotal: 1m 12s\tremaining: 10.1s\n",
      "878:\tlearn: 5081340.0809244\ttotal: 1m 12s\tremaining: 10s\n",
      "879:\tlearn: 5080205.1500861\ttotal: 1m 12s\tremaining: 9.94s\n",
      "880:\tlearn: 5079429.3437127\ttotal: 1m 12s\tremaining: 9.86s\n",
      "881:\tlearn: 5078346.2060483\ttotal: 1m 13s\tremaining: 9.77s\n",
      "882:\tlearn: 5076200.9251170\ttotal: 1m 13s\tremaining: 9.69s\n",
      "883:\tlearn: 5075552.7171958\ttotal: 1m 13s\tremaining: 9.61s\n",
      "884:\tlearn: 5072144.9469691\ttotal: 1m 13s\tremaining: 9.52s\n",
      "885:\tlearn: 5067954.0456551\ttotal: 1m 13s\tremaining: 9.44s\n",
      "886:\tlearn: 5066706.3446697\ttotal: 1m 13s\tremaining: 9.35s\n",
      "887:\tlearn: 5065373.1318219\ttotal: 1m 13s\tremaining: 9.27s\n",
      "888:\tlearn: 5064864.6032566\ttotal: 1m 13s\tremaining: 9.19s\n",
      "889:\tlearn: 5062682.9729995\ttotal: 1m 13s\tremaining: 9.1s\n",
      "890:\tlearn: 5060619.2491565\ttotal: 1m 13s\tremaining: 9.02s\n",
      "891:\tlearn: 5058670.1078688\ttotal: 1m 13s\tremaining: 8.94s\n",
      "892:\tlearn: 5057947.7131369\ttotal: 1m 13s\tremaining: 8.85s\n",
      "893:\tlearn: 5056121.3989954\ttotal: 1m 13s\tremaining: 8.77s\n",
      "894:\tlearn: 5052478.1629993\ttotal: 1m 14s\tremaining: 8.68s\n",
      "895:\tlearn: 5052166.6142276\ttotal: 1m 14s\tremaining: 8.6s\n",
      "896:\tlearn: 5049149.4150445\ttotal: 1m 14s\tremaining: 8.52s\n",
      "897:\tlearn: 5046312.6974398\ttotal: 1m 14s\tremaining: 8.43s\n",
      "898:\tlearn: 5044743.2584928\ttotal: 1m 14s\tremaining: 8.35s\n",
      "899:\tlearn: 5042303.6941371\ttotal: 1m 14s\tremaining: 8.27s\n",
      "900:\tlearn: 5041380.2387965\ttotal: 1m 14s\tremaining: 8.18s\n",
      "901:\tlearn: 5039316.2568280\ttotal: 1m 14s\tremaining: 8.1s\n",
      "902:\tlearn: 5035975.3261094\ttotal: 1m 14s\tremaining: 8.01s\n",
      "903:\tlearn: 5035786.9420092\ttotal: 1m 14s\tremaining: 7.93s\n",
      "904:\tlearn: 5035288.0596711\ttotal: 1m 14s\tremaining: 7.85s\n",
      "905:\tlearn: 5032040.8569323\ttotal: 1m 14s\tremaining: 7.76s\n",
      "906:\tlearn: 5031241.3857257\ttotal: 1m 14s\tremaining: 7.69s\n",
      "907:\tlearn: 5029767.0211433\ttotal: 1m 15s\tremaining: 7.61s\n",
      "908:\tlearn: 5029034.3543878\ttotal: 1m 15s\tremaining: 7.53s\n",
      "909:\tlearn: 5027257.9597407\ttotal: 1m 15s\tremaining: 7.44s\n",
      "910:\tlearn: 5025684.0322284\ttotal: 1m 15s\tremaining: 7.36s\n",
      "911:\tlearn: 5022188.9330338\ttotal: 1m 15s\tremaining: 7.27s\n",
      "912:\tlearn: 5019078.0343928\ttotal: 1m 15s\tremaining: 7.19s\n",
      "913:\tlearn: 5018458.6613717\ttotal: 1m 15s\tremaining: 7.11s\n",
      "914:\tlearn: 5017379.0791558\ttotal: 1m 15s\tremaining: 7.02s\n",
      "915:\tlearn: 5015359.2026895\ttotal: 1m 15s\tremaining: 6.94s\n",
      "916:\tlearn: 5014798.7430648\ttotal: 1m 15s\tremaining: 6.86s\n",
      "917:\tlearn: 5013099.9453050\ttotal: 1m 15s\tremaining: 6.77s\n",
      "918:\tlearn: 5012804.2576147\ttotal: 1m 15s\tremaining: 6.69s\n",
      "919:\tlearn: 5011729.5056496\ttotal: 1m 15s\tremaining: 6.61s\n",
      "920:\tlearn: 5010539.0102421\ttotal: 1m 16s\tremaining: 6.52s\n",
      "921:\tlearn: 5009446.7984621\ttotal: 1m 16s\tremaining: 6.44s\n",
      "922:\tlearn: 5007331.9283324\ttotal: 1m 16s\tremaining: 6.36s\n",
      "923:\tlearn: 5005816.3490244\ttotal: 1m 16s\tremaining: 6.27s\n",
      "924:\tlearn: 5004421.9005950\ttotal: 1m 16s\tremaining: 6.19s\n",
      "925:\tlearn: 5000962.1512557\ttotal: 1m 16s\tremaining: 6.11s\n",
      "926:\tlearn: 5000258.8610730\ttotal: 1m 16s\tremaining: 6.02s\n",
      "927:\tlearn: 4997436.6875501\ttotal: 1m 16s\tremaining: 5.94s\n",
      "928:\tlearn: 4996543.1872835\ttotal: 1m 16s\tremaining: 5.86s\n",
      "929:\tlearn: 4992507.2779228\ttotal: 1m 16s\tremaining: 5.77s\n",
      "930:\tlearn: 4991000.2394649\ttotal: 1m 16s\tremaining: 5.69s\n",
      "931:\tlearn: 4988482.7228684\ttotal: 1m 16s\tremaining: 5.61s\n",
      "932:\tlearn: 4988158.4960633\ttotal: 1m 16s\tremaining: 5.52s\n",
      "933:\tlearn: 4987410.2087212\ttotal: 1m 16s\tremaining: 5.44s\n",
      "934:\tlearn: 4986480.5264450\ttotal: 1m 17s\tremaining: 5.36s\n",
      "935:\tlearn: 4984643.2008785\ttotal: 1m 17s\tremaining: 5.27s\n",
      "936:\tlearn: 4983677.4799949\ttotal: 1m 17s\tremaining: 5.2s\n",
      "937:\tlearn: 4981908.6086061\ttotal: 1m 17s\tremaining: 5.11s\n",
      "938:\tlearn: 4981672.5583169\ttotal: 1m 17s\tremaining: 5.03s\n",
      "939:\tlearn: 4979392.4195067\ttotal: 1m 17s\tremaining: 4.95s\n",
      "940:\tlearn: 4977666.8011239\ttotal: 1m 17s\tremaining: 4.87s\n",
      "941:\tlearn: 4976547.6443651\ttotal: 1m 17s\tremaining: 4.78s\n",
      "942:\tlearn: 4976075.2232263\ttotal: 1m 17s\tremaining: 4.7s\n",
      "943:\tlearn: 4974155.2978779\ttotal: 1m 17s\tremaining: 4.62s\n",
      "944:\tlearn: 4973575.3689803\ttotal: 1m 17s\tremaining: 4.53s\n",
      "945:\tlearn: 4973421.3274177\ttotal: 1m 17s\tremaining: 4.45s\n",
      "946:\tlearn: 4972439.0463923\ttotal: 1m 18s\tremaining: 4.37s\n",
      "947:\tlearn: 4971162.7180754\ttotal: 1m 18s\tremaining: 4.29s\n",
      "948:\tlearn: 4970393.8108685\ttotal: 1m 18s\tremaining: 4.2s\n",
      "949:\tlearn: 4969251.9994479\ttotal: 1m 18s\tremaining: 4.12s\n",
      "950:\tlearn: 4968212.3415099\ttotal: 1m 18s\tremaining: 4.04s\n",
      "951:\tlearn: 4964968.3087134\ttotal: 1m 18s\tremaining: 3.95s\n",
      "952:\tlearn: 4961569.4623204\ttotal: 1m 18s\tremaining: 3.87s\n",
      "953:\tlearn: 4961091.1689133\ttotal: 1m 18s\tremaining: 3.79s\n",
      "954:\tlearn: 4959957.0357962\ttotal: 1m 18s\tremaining: 3.71s\n",
      "955:\tlearn: 4959047.7135614\ttotal: 1m 18s\tremaining: 3.62s\n",
      "956:\tlearn: 4957614.4538917\ttotal: 1m 18s\tremaining: 3.54s\n",
      "957:\tlearn: 4955026.3185467\ttotal: 1m 18s\tremaining: 3.46s\n",
      "958:\tlearn: 4950329.9751323\ttotal: 1m 18s\tremaining: 3.38s\n",
      "959:\tlearn: 4949436.9813653\ttotal: 1m 19s\tremaining: 3.29s\n",
      "960:\tlearn: 4948544.9871805\ttotal: 1m 19s\tremaining: 3.21s\n",
      "961:\tlearn: 4947430.7056549\ttotal: 1m 19s\tremaining: 3.13s\n",
      "962:\tlearn: 4946978.9596158\ttotal: 1m 19s\tremaining: 3.05s\n",
      "963:\tlearn: 4945602.2133609\ttotal: 1m 19s\tremaining: 2.96s\n",
      "964:\tlearn: 4944240.1887689\ttotal: 1m 19s\tremaining: 2.88s\n",
      "965:\tlearn: 4942940.1247535\ttotal: 1m 19s\tremaining: 2.8s\n",
      "966:\tlearn: 4941880.0430919\ttotal: 1m 19s\tremaining: 2.72s\n",
      "967:\tlearn: 4938776.5287885\ttotal: 1m 19s\tremaining: 2.64s\n",
      "968:\tlearn: 4938100.3284825\ttotal: 1m 19s\tremaining: 2.56s\n",
      "969:\tlearn: 4935337.9408136\ttotal: 1m 19s\tremaining: 2.47s\n",
      "970:\tlearn: 4934310.5174258\ttotal: 1m 20s\tremaining: 2.39s\n",
      "971:\tlearn: 4933450.9496122\ttotal: 1m 20s\tremaining: 2.31s\n",
      "972:\tlearn: 4930772.9705346\ttotal: 1m 20s\tremaining: 2.23s\n",
      "973:\tlearn: 4929406.7656603\ttotal: 1m 20s\tremaining: 2.14s\n",
      "974:\tlearn: 4927913.4718913\ttotal: 1m 20s\tremaining: 2.06s\n",
      "975:\tlearn: 4924957.5417259\ttotal: 1m 20s\tremaining: 1.98s\n",
      "976:\tlearn: 4924511.8585369\ttotal: 1m 20s\tremaining: 1.9s\n",
      "977:\tlearn: 4923084.0947092\ttotal: 1m 20s\tremaining: 1.81s\n",
      "978:\tlearn: 4922147.3137835\ttotal: 1m 20s\tremaining: 1.73s\n",
      "979:\tlearn: 4921196.6389442\ttotal: 1m 20s\tremaining: 1.65s\n",
      "980:\tlearn: 4920658.6693691\ttotal: 1m 20s\tremaining: 1.56s\n",
      "981:\tlearn: 4919787.3746556\ttotal: 1m 20s\tremaining: 1.48s\n",
      "982:\tlearn: 4918447.0086293\ttotal: 1m 20s\tremaining: 1.4s\n",
      "983:\tlearn: 4915706.7713457\ttotal: 1m 21s\tremaining: 1.32s\n",
      "984:\tlearn: 4914342.2730132\ttotal: 1m 21s\tremaining: 1.24s\n",
      "985:\tlearn: 4913714.1510713\ttotal: 1m 21s\tremaining: 1.15s\n",
      "986:\tlearn: 4913089.8534789\ttotal: 1m 21s\tremaining: 1.07s\n",
      "987:\tlearn: 4912632.9293376\ttotal: 1m 21s\tremaining: 988ms\n",
      "988:\tlearn: 4910373.7975703\ttotal: 1m 21s\tremaining: 906ms\n",
      "989:\tlearn: 4908464.6365537\ttotal: 1m 21s\tremaining: 823ms\n",
      "990:\tlearn: 4905732.5803866\ttotal: 1m 21s\tremaining: 741ms\n",
      "991:\tlearn: 4904585.0134127\ttotal: 1m 21s\tremaining: 658ms\n",
      "992:\tlearn: 4903235.9179859\ttotal: 1m 21s\tremaining: 576ms\n",
      "993:\tlearn: 4902297.7197201\ttotal: 1m 21s\tremaining: 494ms\n",
      "994:\tlearn: 4900865.0432795\ttotal: 1m 21s\tremaining: 411ms\n",
      "995:\tlearn: 4900289.7128936\ttotal: 1m 21s\tremaining: 329ms\n",
      "996:\tlearn: 4899890.5748815\ttotal: 1m 22s\tremaining: 247ms\n",
      "997:\tlearn: 4898479.0926170\ttotal: 1m 22s\tremaining: 165ms\n",
      "998:\tlearn: 4898342.3595714\ttotal: 1m 22s\tremaining: 82.3ms\n",
      "999:\tlearn: 4896523.9807561\ttotal: 1m 22s\tremaining: 0us\n",
      "[LightGBM] [Info] Auto-choosing col-wise multi-threading, the overhead of testing was 0.000255 seconds.\n",
      "You can set `force_col_wise=true` to remove the overhead.\n",
      "[LightGBM] [Info] Total Bins 1225\n",
      "[LightGBM] [Info] Number of data points in the train set: 10464, number of used features: 12\n",
      "[LightGBM] [Info] Start training from score 8983092.029817\n",
      "\n",
      "====== Models before Hyper Parameter Tuning ======\n"
     ]
    },
    {
     "data": {
      "text/html": [
       "<div>\n",
       "<style scoped>\n",
       "    .dataframe tbody tr th:only-of-type {\n",
       "        vertical-align: middle;\n",
       "    }\n",
       "\n",
       "    .dataframe tbody tr th {\n",
       "        vertical-align: top;\n",
       "    }\n",
       "\n",
       "    .dataframe thead th {\n",
       "        text-align: right;\n",
       "    }\n",
       "</style>\n",
       "<table border=\"1\" class=\"dataframe\">\n",
       "  <thead>\n",
       "    <tr style=\"text-align: right;\">\n",
       "      <th></th>\n",
       "      <th>Model</th>\n",
       "      <th>MAE</th>\n",
       "      <th>MSE</th>\n",
       "      <th>RMSE</th>\n",
       "      <th>R2 Score</th>\n",
       "    </tr>\n",
       "  </thead>\n",
       "  <tbody>\n",
       "    <tr>\n",
       "      <th>0</th>\n",
       "      <td>LightGBM</td>\n",
       "      <td>4123372.30</td>\n",
       "      <td>77599692789059.31</td>\n",
       "      <td>8809068.78</td>\n",
       "      <td>0.71</td>\n",
       "    </tr>\n",
       "    <tr>\n",
       "      <th>1</th>\n",
       "      <td>XGBoost</td>\n",
       "      <td>4357020.38</td>\n",
       "      <td>84245213491337.78</td>\n",
       "      <td>9178519.13</td>\n",
       "      <td>0.69</td>\n",
       "    </tr>\n",
       "    <tr>\n",
       "      <th>2</th>\n",
       "      <td>CatBoost</td>\n",
       "      <td>4599038.41</td>\n",
       "      <td>85747317567412.42</td>\n",
       "      <td>9259984.75</td>\n",
       "      <td>0.68</td>\n",
       "    </tr>\n",
       "  </tbody>\n",
       "</table>\n",
       "</div>"
      ],
      "text/plain": [
       "      Model         MAE                MSE        RMSE R2 Score\n",
       "0  LightGBM  4123372.30  77599692789059.31  8809068.78     0.71\n",
       "1   XGBoost  4357020.38  84245213491337.78  9178519.13     0.69\n",
       "2  CatBoost  4599038.41  85747317567412.42  9259984.75     0.68"
      ]
     },
     "execution_count": 25,
     "metadata": {},
     "output_type": "execute_result"
    }
   ],
   "source": [
    "model_list2(models[3:])"
   ]
  },
  {
   "cell_type": "markdown",
   "metadata": {},
   "source": [
    "#### `CatBoost` 성능 비교\n",
    "- 별도로 `Target Encoding` 거친 데이터셋으로 진행(`model_list` 함수)한 `CatBoost`가 더 높은 `R2 Score` 기록\n",
    "\n",
    "    - **0.75 vs 0.68** (Target Encoding 실행한 데이터셋으로 진행)"
   ]
  },
  {
   "cell_type": "markdown",
   "metadata": {},
   "source": [
    "### 하이퍼 파라미터 튜닝\n",
    "- R2 Score가 높은 `CatBoost`, `LightGBM`, `XGBoost` 을 갖고 하이퍼 파라미터 튜닝\n",
    "    - Baseline 모델인 `Linear Regression`의 R2 Score보다 높다 (0.65)\n",
    "\n",
    "- `optuna` 활용\n",
    "    - References : https://forecastegy.com/posts/xgboost-hyperparameter-tuning-with-optuna/\n"
   ]
  },
  {
   "cell_type": "markdown",
   "metadata": {},
   "source": [
    "#### `CatBoost`"
   ]
  },
  {
   "cell_type": "code",
   "execution_count": 70,
   "metadata": {},
   "outputs": [],
   "source": [
    "# optuna sampling seed 고정\n",
    "sampler = TPESampler(seed=42)"
   ]
  },
  {
   "cell_type": "code",
   "execution_count": 71,
   "metadata": {},
   "outputs": [],
   "source": [
    "def objective_cat(trial):\n",
    "    params = {\n",
    "        # \"iterations\": 1000,\n",
    "        \"iterations\" : trial.suggest_int('n_estimators', 500, 4000),\n",
    "        \"learning_rate\": trial.suggest_float(\"learning_rate\", 1e-3, 0.1, log=True),\n",
    "        \"depth\": trial.suggest_int(\"depth\", 1, 10),\n",
    "        \"subsample\": trial.suggest_float(\"subsample\", 0.05, 1.0),\n",
    "        \"colsample_bylevel\": trial.suggest_float(\"colsample_bylevel\", 0.05, 1.0),\n",
    "        \"min_data_in_leaf\": trial.suggest_int(\"min_data_in_leaf\", 1, 100),\n",
    "    }\n",
    "\n",
    "    model = CatBoostRegressor(**params, silent=True, random_state=42)\n",
    "    model.fit(X_train_robust, y_train)\n",
    "    # predictions = model.predict(X_val_robust)\n",
    "    # rmse = metrics.mean_squared_error(y_val, predictions, squared=False)\n",
    "    predictions = model.predict(X_test_robust)\n",
    "    rmse = metrics.mean_squared_error(y_test, predictions, squared=False)\n",
    "    return rmse"
   ]
  },
  {
   "cell_type": "code",
   "execution_count": 72,
   "metadata": {},
   "outputs": [
    {
     "name": "stderr",
     "output_type": "stream",
     "text": [
      "[I 2024-04-03 05:07:50,203] A new study created in memory with name: no-name-08e0e394-842a-49e6-8bcc-f0d5aa09ed6d\n",
      "[I 2024-04-03 05:07:56,013] Trial 0 finished with value: 8466041.415240563 and parameters: {'n_estimators': 1811, 'learning_rate': 0.07969454818643935, 'depth': 8, 'subsample': 0.6187255599871848, 'colsample_bylevel': 0.19821770842031466, 'min_data_in_leaf': 16}. Best is trial 0 with value: 8466041.415240563.\n",
      "[I 2024-04-03 05:07:56,953] Trial 1 finished with value: 9171085.49906031 and parameters: {'n_estimators': 703, 'learning_rate': 0.05399484409787434, 'depth': 7, 'subsample': 0.7226689489062432, 'colsample_bylevel': 0.06955526958101232, 'min_data_in_leaf': 97}. Best is trial 0 with value: 8466041.415240563.\n",
      "[I 2024-04-03 05:08:01,342] Trial 2 finished with value: 9573925.105154343 and parameters: {'n_estimators': 3414, 'learning_rate': 0.0026587543983272706, 'depth': 2, 'subsample': 0.22423428436076215, 'colsample_bylevel': 0.3390301308115608, 'min_data_in_leaf': 53}. Best is trial 0 with value: 8466041.415240563.\n",
      "[I 2024-04-03 05:08:07,604] Trial 3 finished with value: 8837183.54582488 and parameters: {'n_estimators': 2012, 'learning_rate': 0.0038234752246751854, 'depth': 7, 'subsample': 0.18251916761943976, 'colsample_bylevel': 0.3275374161084572, 'min_data_in_leaf': 37}. Best is trial 0 with value: 8466041.415240563.\n",
      "[I 2024-04-03 05:08:11,017] Trial 4 finished with value: 8852330.518070744 and parameters: {'n_estimators': 2096, 'learning_rate': 0.037183641805732096, 'depth': 2, 'subsample': 0.538522716492931, 'colsample_bylevel': 0.6127938404189404, 'min_data_in_leaf': 5}. Best is trial 0 with value: 8466041.415240563.\n",
      "[I 2024-04-03 05:08:14,130] Trial 5 finished with value: 10484833.793639204 and parameters: {'n_estimators': 2627, 'learning_rate': 0.002193048555664369, 'depth': 1, 'subsample': 0.9514412603906666, 'colsample_bylevel': 0.9673504314208314, 'min_data_in_leaf': 81}. Best is trial 0 with value: 8466041.415240563.\n",
      "[I 2024-04-03 05:08:17,550] Trial 6 finished with value: 10810167.127846794 and parameters: {'n_estimators': 1566, 'learning_rate': 0.0015679933916723015, 'depth': 7, 'subsample': 0.4681448690526212, 'colsample_bylevel': 0.16593632310253986, 'min_data_in_leaf': 50}. Best is trial 0 with value: 8466041.415240563.\n",
      "[I 2024-04-03 05:08:18,666] Trial 7 finished with value: 8720768.448945848 and parameters: {'n_estimators': 620, 'learning_rate': 0.06586289317583113, 'depth': 3, 'subsample': 0.6793961701362828, 'colsample_bylevel': 0.34612552228494037, 'min_data_in_leaf': 53}. Best is trial 0 with value: 8466041.415240563.\n",
      "[I 2024-04-03 05:08:56,199] Trial 8 finished with value: 9117458.253721265 and parameters: {'n_estimators': 2414, 'learning_rate': 0.0023426581058204046, 'depth': 10, 'subsample': 0.7863761821930588, 'colsample_bylevel': 0.9425239944859797, 'min_data_in_leaf': 90}. Best is trial 0 with value: 8466041.415240563.\n",
      "[I 2024-04-03 05:08:58,805] Trial 9 finished with value: 9733271.919476314 and parameters: {'n_estimators': 2593, 'learning_rate': 0.06978281265126034, 'depth': 1, 'subsample': 0.23618371929818793, 'colsample_bylevel': 0.09296592446501117, 'min_data_in_leaf': 33}. Best is trial 0 with value: 8466041.415240563.\n",
      "[I 2024-04-03 05:09:47,971] Trial 10 finished with value: 8856689.060853822 and parameters: {'n_estimators': 3808, 'learning_rate': 0.013112992007873718, 'depth': 10, 'subsample': 0.41044900201052903, 'colsample_bylevel': 0.6580840773441784, 'min_data_in_leaf': 4}. Best is trial 0 with value: 8466041.415240563.\n",
      "[I 2024-04-03 05:09:49,102] Trial 11 finished with value: 8809837.363927266 and parameters: {'n_estimators': 554, 'learning_rate': 0.02151713307995904, 'depth': 4, 'subsample': 0.6667162050282253, 'colsample_bylevel': 0.36027238461124933, 'min_data_in_leaf': 70}. Best is trial 0 with value: 8466041.415240563.\n",
      "[I 2024-04-03 05:09:51,970] Trial 12 finished with value: 8462939.503017893 and parameters: {'n_estimators': 1219, 'learning_rate': 0.0977366370578351, 'depth': 5, 'subsample': 0.9028446198986546, 'colsample_bylevel': 0.4557566903516652, 'min_data_in_leaf': 22}. Best is trial 12 with value: 8462939.503017893.\n",
      "[I 2024-04-03 05:09:55,310] Trial 13 finished with value: 8463106.199763047 and parameters: {'n_estimators': 1390, 'learning_rate': 0.08818330914416644, 'depth': 5, 'subsample': 0.9968109233883695, 'colsample_bylevel': 0.49526995794345, 'min_data_in_leaf': 28}. Best is trial 12 with value: 8462939.503017893.\n",
      "[I 2024-04-03 05:09:58,116] Trial 14 finished with value: 8777004.76933586 and parameters: {'n_estimators': 1175, 'learning_rate': 0.006694653933471388, 'depth': 5, 'subsample': 0.9962157051600637, 'colsample_bylevel': 0.5385117770145293, 'min_data_in_leaf': 22}. Best is trial 12 with value: 8462939.503017893.\n",
      "[I 2024-04-03 05:10:01,257] Trial 15 finished with value: 8424722.12356658 and parameters: {'n_estimators': 1263, 'learning_rate': 0.028865812936831645, 'depth': 5, 'subsample': 0.8627336536703252, 'colsample_bylevel': 0.8080951256250661, 'min_data_in_leaf': 29}. Best is trial 15 with value: 8424722.12356658.\n",
      "[I 2024-04-03 05:10:03,419] Trial 16 finished with value: 8489853.804719323 and parameters: {'n_estimators': 1051, 'learning_rate': 0.02539491589431945, 'depth': 4, 'subsample': 0.8434282422450237, 'colsample_bylevel': 0.7966954493280252, 'min_data_in_leaf': 43}. Best is trial 15 with value: 8424722.12356658.\n",
      "[I 2024-04-03 05:10:12,234] Trial 17 finished with value: 8404624.624240719 and parameters: {'n_estimators': 2936, 'learning_rate': 0.012022314380868886, 'depth': 6, 'subsample': 0.8645215735088811, 'colsample_bylevel': 0.7972964781814982, 'min_data_in_leaf': 15}. Best is trial 17 with value: 8404624.624240719.\n",
      "[I 2024-04-03 05:10:29,844] Trial 18 finished with value: 8512496.589354668 and parameters: {'n_estimators': 3166, 'learning_rate': 0.009673892276497271, 'depth': 8, 'subsample': 0.8175093211180816, 'colsample_bylevel': 0.8066768106262582, 'min_data_in_leaf': 12}. Best is trial 17 with value: 8404624.624240719.\n",
      "[I 2024-04-03 05:10:38,418] Trial 19 finished with value: 8399566.374508012 and parameters: {'n_estimators': 2979, 'learning_rate': 0.017918957798801986, 'depth': 6, 'subsample': 0.5619064302761614, 'colsample_bylevel': 0.7755600251691103, 'min_data_in_leaf': 70}. Best is trial 19 with value: 8399566.374508012.\n",
      "[I 2024-04-03 05:10:46,633] Trial 20 finished with value: 8411216.693145867 and parameters: {'n_estimators': 3027, 'learning_rate': 0.014787630324217201, 'depth': 6, 'subsample': 0.37853078457782047, 'colsample_bylevel': 0.8770966010943427, 'min_data_in_leaf': 66}. Best is trial 19 with value: 8399566.374508012.\n",
      "[I 2024-04-03 05:10:55,031] Trial 21 finished with value: 8372163.204812194 and parameters: {'n_estimators': 3041, 'learning_rate': 0.015200431190185505, 'depth': 6, 'subsample': 0.35404000069709357, 'colsample_bylevel': 0.7034636176287521, 'min_data_in_leaf': 66}. Best is trial 21 with value: 8372163.204812194.\n",
      "[I 2024-04-03 05:11:02,225] Trial 22 finished with value: 8660894.404722579 and parameters: {'n_estimators': 2841, 'learning_rate': 0.006921622183565349, 'depth': 6, 'subsample': 0.061778509647786084, 'colsample_bylevel': 0.695334917579483, 'min_data_in_leaf': 66}. Best is trial 21 with value: 8372163.204812194.\n",
      "[I 2024-04-03 05:11:19,884] Trial 23 finished with value: 8546277.464278882 and parameters: {'n_estimators': 3477, 'learning_rate': 0.014130741070596392, 'depth': 8, 'subsample': 0.31963509281811514, 'colsample_bylevel': 0.7193606846477363, 'min_data_in_leaf': 77}. Best is trial 21 with value: 8372163.204812194.\n",
      "[I 2024-04-03 05:11:31,128] Trial 24 finished with value: 8416928.521141 and parameters: {'n_estimators': 3970, 'learning_rate': 0.006613592587221237, 'depth': 6, 'subsample': 0.5575097761856649, 'colsample_bylevel': 0.761095735435386, 'min_data_in_leaf': 62}. Best is trial 21 with value: 8372163.204812194.\n",
      "[I 2024-04-03 05:11:37,356] Trial 25 finished with value: 8395075.961953154 and parameters: {'n_estimators': 3363, 'learning_rate': 0.01840400581930888, 'depth': 4, 'subsample': 0.481534739659148, 'colsample_bylevel': 0.8772949592579394, 'min_data_in_leaf': 84}. Best is trial 21 with value: 8372163.204812194.\n",
      "[I 2024-04-03 05:11:43,807] Trial 26 finished with value: 8386827.256643077 and parameters: {'n_estimators': 3497, 'learning_rate': 0.01856249723425063, 'depth': 4, 'subsample': 0.46084343874024014, 'colsample_bylevel': 0.8762236124503068, 'min_data_in_leaf': 83}. Best is trial 21 with value: 8372163.204812194.\n",
      "[I 2024-04-03 05:11:50,504] Trial 27 finished with value: 8413102.393914929 and parameters: {'n_estimators': 3560, 'learning_rate': 0.04179591517420616, 'depth': 4, 'subsample': 0.4757879299955235, 'colsample_bylevel': 0.8644391388193836, 'min_data_in_leaf': 83}. Best is trial 21 with value: 8372163.204812194.\n",
      "[I 2024-04-03 05:11:55,515] Trial 28 finished with value: 8771913.942881292 and parameters: {'n_estimators': 3344, 'learning_rate': 0.008734978590004104, 'depth': 3, 'subsample': 0.3257672565429412, 'colsample_bylevel': 0.898623427094451, 'min_data_in_leaf': 99}. Best is trial 21 with value: 8372163.204812194.\n",
      "[I 2024-04-03 05:12:01,140] Trial 29 finished with value: 8885955.541414086 and parameters: {'n_estimators': 3706, 'learning_rate': 0.004879537942912657, 'depth': 3, 'subsample': 0.45025186514396714, 'colsample_bylevel': 0.9836300219589589, 'min_data_in_leaf': 91}. Best is trial 21 with value: 8372163.204812194.\n"
     ]
    }
   ],
   "source": [
    "study_cat = optuna.create_study(direction='minimize', sampler=sampler)\n",
    "study_cat.optimize(objective_cat, n_trials=30)"
   ]
  },
  {
   "cell_type": "code",
   "execution_count": 73,
   "metadata": {},
   "outputs": [
    {
     "name": "stdout",
     "output_type": "stream",
     "text": [
      "Best hyperparameters:\n",
      "{'n_estimators': 3041, 'learning_rate': 0.015200431190185505, 'depth': 6, 'subsample': 0.35404000069709357, 'colsample_bylevel': 0.7034636176287521, 'min_data_in_leaf': 66}\n",
      "-----------------------------------------------------------------------------------------------------------------\n",
      "Best RMSE:\n",
      "8372163.204812194\n"
     ]
    }
   ],
   "source": [
    "print(\"Best hyperparameters:\", study_cat.best_params, sep=\"\\n\")\n",
    "print(\"-----------------------------------------------------------------------------------------------------------------\")\n",
    "print(\"Best RMSE:\", study_cat.best_value, sep=\"\\n\")"
   ]
  },
  {
   "cell_type": "code",
   "execution_count": 74,
   "metadata": {},
   "outputs": [
    {
     "data": {
      "application/vnd.plotly.v1+json": {
       "config": {
        "plotlyServerURL": "https://plot.ly"
       },
       "data": [
        {
         "cliponaxis": false,
         "hovertemplate": [
          "n_estimators (IntDistribution): 0.017470799741261932<extra></extra>",
          "subsample (FloatDistribution): 0.03388077593060173<extra></extra>",
          "min_data_in_leaf (IntDistribution): 0.03793971045825765<extra></extra>",
          "learning_rate (FloatDistribution): 0.2784429170665627<extra></extra>",
          "depth (IntDistribution): 0.28204784173882225<extra></extra>",
          "colsample_bylevel (FloatDistribution): 0.3502179550644939<extra></extra>"
         ],
         "name": "Objective Value",
         "orientation": "h",
         "text": [
          "0.02",
          "0.03",
          "0.04",
          "0.28",
          "0.28",
          "0.35"
         ],
         "textposition": "outside",
         "type": "bar",
         "x": [
          0.017470799741261932,
          0.03388077593060173,
          0.03793971045825765,
          0.2784429170665627,
          0.28204784173882225,
          0.3502179550644939
         ],
         "y": [
          "n_estimators",
          "subsample",
          "min_data_in_leaf",
          "learning_rate",
          "depth",
          "colsample_bylevel"
         ]
        }
       ],
       "layout": {
        "template": {
         "data": {
          "bar": [
           {
            "error_x": {
             "color": "#2a3f5f"
            },
            "error_y": {
             "color": "#2a3f5f"
            },
            "marker": {
             "line": {
              "color": "#E5ECF6",
              "width": 0.5
             },
             "pattern": {
              "fillmode": "overlay",
              "size": 10,
              "solidity": 0.2
             }
            },
            "type": "bar"
           }
          ],
          "barpolar": [
           {
            "marker": {
             "line": {
              "color": "#E5ECF6",
              "width": 0.5
             },
             "pattern": {
              "fillmode": "overlay",
              "size": 10,
              "solidity": 0.2
             }
            },
            "type": "barpolar"
           }
          ],
          "carpet": [
           {
            "aaxis": {
             "endlinecolor": "#2a3f5f",
             "gridcolor": "white",
             "linecolor": "white",
             "minorgridcolor": "white",
             "startlinecolor": "#2a3f5f"
            },
            "baxis": {
             "endlinecolor": "#2a3f5f",
             "gridcolor": "white",
             "linecolor": "white",
             "minorgridcolor": "white",
             "startlinecolor": "#2a3f5f"
            },
            "type": "carpet"
           }
          ],
          "choropleth": [
           {
            "colorbar": {
             "outlinewidth": 0,
             "ticks": ""
            },
            "type": "choropleth"
           }
          ],
          "contour": [
           {
            "colorbar": {
             "outlinewidth": 0,
             "ticks": ""
            },
            "colorscale": [
             [
              0,
              "#0d0887"
             ],
             [
              0.1111111111111111,
              "#46039f"
             ],
             [
              0.2222222222222222,
              "#7201a8"
             ],
             [
              0.3333333333333333,
              "#9c179e"
             ],
             [
              0.4444444444444444,
              "#bd3786"
             ],
             [
              0.5555555555555556,
              "#d8576b"
             ],
             [
              0.6666666666666666,
              "#ed7953"
             ],
             [
              0.7777777777777778,
              "#fb9f3a"
             ],
             [
              0.8888888888888888,
              "#fdca26"
             ],
             [
              1,
              "#f0f921"
             ]
            ],
            "type": "contour"
           }
          ],
          "contourcarpet": [
           {
            "colorbar": {
             "outlinewidth": 0,
             "ticks": ""
            },
            "type": "contourcarpet"
           }
          ],
          "heatmap": [
           {
            "colorbar": {
             "outlinewidth": 0,
             "ticks": ""
            },
            "colorscale": [
             [
              0,
              "#0d0887"
             ],
             [
              0.1111111111111111,
              "#46039f"
             ],
             [
              0.2222222222222222,
              "#7201a8"
             ],
             [
              0.3333333333333333,
              "#9c179e"
             ],
             [
              0.4444444444444444,
              "#bd3786"
             ],
             [
              0.5555555555555556,
              "#d8576b"
             ],
             [
              0.6666666666666666,
              "#ed7953"
             ],
             [
              0.7777777777777778,
              "#fb9f3a"
             ],
             [
              0.8888888888888888,
              "#fdca26"
             ],
             [
              1,
              "#f0f921"
             ]
            ],
            "type": "heatmap"
           }
          ],
          "heatmapgl": [
           {
            "colorbar": {
             "outlinewidth": 0,
             "ticks": ""
            },
            "colorscale": [
             [
              0,
              "#0d0887"
             ],
             [
              0.1111111111111111,
              "#46039f"
             ],
             [
              0.2222222222222222,
              "#7201a8"
             ],
             [
              0.3333333333333333,
              "#9c179e"
             ],
             [
              0.4444444444444444,
              "#bd3786"
             ],
             [
              0.5555555555555556,
              "#d8576b"
             ],
             [
              0.6666666666666666,
              "#ed7953"
             ],
             [
              0.7777777777777778,
              "#fb9f3a"
             ],
             [
              0.8888888888888888,
              "#fdca26"
             ],
             [
              1,
              "#f0f921"
             ]
            ],
            "type": "heatmapgl"
           }
          ],
          "histogram": [
           {
            "marker": {
             "pattern": {
              "fillmode": "overlay",
              "size": 10,
              "solidity": 0.2
             }
            },
            "type": "histogram"
           }
          ],
          "histogram2d": [
           {
            "colorbar": {
             "outlinewidth": 0,
             "ticks": ""
            },
            "colorscale": [
             [
              0,
              "#0d0887"
             ],
             [
              0.1111111111111111,
              "#46039f"
             ],
             [
              0.2222222222222222,
              "#7201a8"
             ],
             [
              0.3333333333333333,
              "#9c179e"
             ],
             [
              0.4444444444444444,
              "#bd3786"
             ],
             [
              0.5555555555555556,
              "#d8576b"
             ],
             [
              0.6666666666666666,
              "#ed7953"
             ],
             [
              0.7777777777777778,
              "#fb9f3a"
             ],
             [
              0.8888888888888888,
              "#fdca26"
             ],
             [
              1,
              "#f0f921"
             ]
            ],
            "type": "histogram2d"
           }
          ],
          "histogram2dcontour": [
           {
            "colorbar": {
             "outlinewidth": 0,
             "ticks": ""
            },
            "colorscale": [
             [
              0,
              "#0d0887"
             ],
             [
              0.1111111111111111,
              "#46039f"
             ],
             [
              0.2222222222222222,
              "#7201a8"
             ],
             [
              0.3333333333333333,
              "#9c179e"
             ],
             [
              0.4444444444444444,
              "#bd3786"
             ],
             [
              0.5555555555555556,
              "#d8576b"
             ],
             [
              0.6666666666666666,
              "#ed7953"
             ],
             [
              0.7777777777777778,
              "#fb9f3a"
             ],
             [
              0.8888888888888888,
              "#fdca26"
             ],
             [
              1,
              "#f0f921"
             ]
            ],
            "type": "histogram2dcontour"
           }
          ],
          "mesh3d": [
           {
            "colorbar": {
             "outlinewidth": 0,
             "ticks": ""
            },
            "type": "mesh3d"
           }
          ],
          "parcoords": [
           {
            "line": {
             "colorbar": {
              "outlinewidth": 0,
              "ticks": ""
             }
            },
            "type": "parcoords"
           }
          ],
          "pie": [
           {
            "automargin": true,
            "type": "pie"
           }
          ],
          "scatter": [
           {
            "fillpattern": {
             "fillmode": "overlay",
             "size": 10,
             "solidity": 0.2
            },
            "type": "scatter"
           }
          ],
          "scatter3d": [
           {
            "line": {
             "colorbar": {
              "outlinewidth": 0,
              "ticks": ""
             }
            },
            "marker": {
             "colorbar": {
              "outlinewidth": 0,
              "ticks": ""
             }
            },
            "type": "scatter3d"
           }
          ],
          "scattercarpet": [
           {
            "marker": {
             "colorbar": {
              "outlinewidth": 0,
              "ticks": ""
             }
            },
            "type": "scattercarpet"
           }
          ],
          "scattergeo": [
           {
            "marker": {
             "colorbar": {
              "outlinewidth": 0,
              "ticks": ""
             }
            },
            "type": "scattergeo"
           }
          ],
          "scattergl": [
           {
            "marker": {
             "colorbar": {
              "outlinewidth": 0,
              "ticks": ""
             }
            },
            "type": "scattergl"
           }
          ],
          "scattermapbox": [
           {
            "marker": {
             "colorbar": {
              "outlinewidth": 0,
              "ticks": ""
             }
            },
            "type": "scattermapbox"
           }
          ],
          "scatterpolar": [
           {
            "marker": {
             "colorbar": {
              "outlinewidth": 0,
              "ticks": ""
             }
            },
            "type": "scatterpolar"
           }
          ],
          "scatterpolargl": [
           {
            "marker": {
             "colorbar": {
              "outlinewidth": 0,
              "ticks": ""
             }
            },
            "type": "scatterpolargl"
           }
          ],
          "scatterternary": [
           {
            "marker": {
             "colorbar": {
              "outlinewidth": 0,
              "ticks": ""
             }
            },
            "type": "scatterternary"
           }
          ],
          "surface": [
           {
            "colorbar": {
             "outlinewidth": 0,
             "ticks": ""
            },
            "colorscale": [
             [
              0,
              "#0d0887"
             ],
             [
              0.1111111111111111,
              "#46039f"
             ],
             [
              0.2222222222222222,
              "#7201a8"
             ],
             [
              0.3333333333333333,
              "#9c179e"
             ],
             [
              0.4444444444444444,
              "#bd3786"
             ],
             [
              0.5555555555555556,
              "#d8576b"
             ],
             [
              0.6666666666666666,
              "#ed7953"
             ],
             [
              0.7777777777777778,
              "#fb9f3a"
             ],
             [
              0.8888888888888888,
              "#fdca26"
             ],
             [
              1,
              "#f0f921"
             ]
            ],
            "type": "surface"
           }
          ],
          "table": [
           {
            "cells": {
             "fill": {
              "color": "#EBF0F8"
             },
             "line": {
              "color": "white"
             }
            },
            "header": {
             "fill": {
              "color": "#C8D4E3"
             },
             "line": {
              "color": "white"
             }
            },
            "type": "table"
           }
          ]
         },
         "layout": {
          "annotationdefaults": {
           "arrowcolor": "#2a3f5f",
           "arrowhead": 0,
           "arrowwidth": 1
          },
          "autotypenumbers": "strict",
          "coloraxis": {
           "colorbar": {
            "outlinewidth": 0,
            "ticks": ""
           }
          },
          "colorscale": {
           "diverging": [
            [
             0,
             "#8e0152"
            ],
            [
             0.1,
             "#c51b7d"
            ],
            [
             0.2,
             "#de77ae"
            ],
            [
             0.3,
             "#f1b6da"
            ],
            [
             0.4,
             "#fde0ef"
            ],
            [
             0.5,
             "#f7f7f7"
            ],
            [
             0.6,
             "#e6f5d0"
            ],
            [
             0.7,
             "#b8e186"
            ],
            [
             0.8,
             "#7fbc41"
            ],
            [
             0.9,
             "#4d9221"
            ],
            [
             1,
             "#276419"
            ]
           ],
           "sequential": [
            [
             0,
             "#0d0887"
            ],
            [
             0.1111111111111111,
             "#46039f"
            ],
            [
             0.2222222222222222,
             "#7201a8"
            ],
            [
             0.3333333333333333,
             "#9c179e"
            ],
            [
             0.4444444444444444,
             "#bd3786"
            ],
            [
             0.5555555555555556,
             "#d8576b"
            ],
            [
             0.6666666666666666,
             "#ed7953"
            ],
            [
             0.7777777777777778,
             "#fb9f3a"
            ],
            [
             0.8888888888888888,
             "#fdca26"
            ],
            [
             1,
             "#f0f921"
            ]
           ],
           "sequentialminus": [
            [
             0,
             "#0d0887"
            ],
            [
             0.1111111111111111,
             "#46039f"
            ],
            [
             0.2222222222222222,
             "#7201a8"
            ],
            [
             0.3333333333333333,
             "#9c179e"
            ],
            [
             0.4444444444444444,
             "#bd3786"
            ],
            [
             0.5555555555555556,
             "#d8576b"
            ],
            [
             0.6666666666666666,
             "#ed7953"
            ],
            [
             0.7777777777777778,
             "#fb9f3a"
            ],
            [
             0.8888888888888888,
             "#fdca26"
            ],
            [
             1,
             "#f0f921"
            ]
           ]
          },
          "colorway": [
           "#636efa",
           "#EF553B",
           "#00cc96",
           "#ab63fa",
           "#FFA15A",
           "#19d3f3",
           "#FF6692",
           "#B6E880",
           "#FF97FF",
           "#FECB52"
          ],
          "font": {
           "color": "#2a3f5f"
          },
          "geo": {
           "bgcolor": "white",
           "lakecolor": "white",
           "landcolor": "#E5ECF6",
           "showlakes": true,
           "showland": true,
           "subunitcolor": "white"
          },
          "hoverlabel": {
           "align": "left"
          },
          "hovermode": "closest",
          "mapbox": {
           "style": "light"
          },
          "paper_bgcolor": "white",
          "plot_bgcolor": "#E5ECF6",
          "polar": {
           "angularaxis": {
            "gridcolor": "white",
            "linecolor": "white",
            "ticks": ""
           },
           "bgcolor": "#E5ECF6",
           "radialaxis": {
            "gridcolor": "white",
            "linecolor": "white",
            "ticks": ""
           }
          },
          "scene": {
           "xaxis": {
            "backgroundcolor": "#E5ECF6",
            "gridcolor": "white",
            "gridwidth": 2,
            "linecolor": "white",
            "showbackground": true,
            "ticks": "",
            "zerolinecolor": "white"
           },
           "yaxis": {
            "backgroundcolor": "#E5ECF6",
            "gridcolor": "white",
            "gridwidth": 2,
            "linecolor": "white",
            "showbackground": true,
            "ticks": "",
            "zerolinecolor": "white"
           },
           "zaxis": {
            "backgroundcolor": "#E5ECF6",
            "gridcolor": "white",
            "gridwidth": 2,
            "linecolor": "white",
            "showbackground": true,
            "ticks": "",
            "zerolinecolor": "white"
           }
          },
          "shapedefaults": {
           "line": {
            "color": "#2a3f5f"
           }
          },
          "ternary": {
           "aaxis": {
            "gridcolor": "white",
            "linecolor": "white",
            "ticks": ""
           },
           "baxis": {
            "gridcolor": "white",
            "linecolor": "white",
            "ticks": ""
           },
           "bgcolor": "#E5ECF6",
           "caxis": {
            "gridcolor": "white",
            "linecolor": "white",
            "ticks": ""
           }
          },
          "title": {
           "x": 0.05
          },
          "xaxis": {
           "automargin": true,
           "gridcolor": "white",
           "linecolor": "white",
           "ticks": "",
           "title": {
            "standoff": 15
           },
           "zerolinecolor": "white",
           "zerolinewidth": 2
          },
          "yaxis": {
           "automargin": true,
           "gridcolor": "white",
           "linecolor": "white",
           "ticks": "",
           "title": {
            "standoff": 15
           },
           "zerolinecolor": "white",
           "zerolinewidth": 2
          }
         }
        },
        "title": {
         "text": "Hyperparameter Importances"
        },
        "xaxis": {
         "title": {
          "text": "Hyperparameter Importance"
         }
        },
        "yaxis": {
         "title": {
          "text": "Hyperparameter"
         }
        }
       }
      }
     },
     "metadata": {},
     "output_type": "display_data"
    }
   ],
   "source": [
    "# 하이퍼파라미터별 중요도를 확인할 수 있는 그래프\n",
    "optuna.visualization.plot_param_importances(study_cat)"
   ]
  },
  {
   "cell_type": "code",
   "execution_count": 75,
   "metadata": {},
   "outputs": [
    {
     "data": {
      "application/vnd.plotly.v1+json": {
       "config": {
        "plotlyServerURL": "https://plot.ly"
       },
       "data": [
        {
         "mode": "markers",
         "name": "Objective Value",
         "type": "scatter",
         "x": [
          0,
          1,
          2,
          3,
          4,
          5,
          6,
          7,
          8,
          9,
          10,
          11,
          12,
          13,
          14,
          15,
          16,
          17,
          18,
          19,
          20,
          21,
          22,
          23,
          24,
          25,
          26,
          27,
          28,
          29
         ],
         "y": [
          8466041.415240563,
          9171085.49906031,
          9573925.105154343,
          8837183.54582488,
          8852330.518070744,
          10484833.793639204,
          10810167.127846794,
          8720768.448945848,
          9117458.253721265,
          9733271.919476314,
          8856689.060853822,
          8809837.363927266,
          8462939.503017893,
          8463106.199763047,
          8777004.76933586,
          8424722.12356658,
          8489853.804719323,
          8404624.624240719,
          8512496.589354668,
          8399566.374508012,
          8411216.693145867,
          8372163.204812194,
          8660894.404722579,
          8546277.464278882,
          8416928.521141,
          8395075.961953154,
          8386827.256643077,
          8413102.393914929,
          8771913.942881292,
          8885955.541414086
         ]
        },
        {
         "mode": "lines",
         "name": "Best Value",
         "type": "scatter",
         "x": [
          0,
          1,
          2,
          3,
          4,
          5,
          6,
          7,
          8,
          9,
          10,
          11,
          12,
          13,
          14,
          15,
          16,
          17,
          18,
          19,
          20,
          21,
          22,
          23,
          24,
          25,
          26,
          27,
          28,
          29
         ],
         "y": [
          8466041.415240563,
          8466041.415240563,
          8466041.415240563,
          8466041.415240563,
          8466041.415240563,
          8466041.415240563,
          8466041.415240563,
          8466041.415240563,
          8466041.415240563,
          8466041.415240563,
          8466041.415240563,
          8466041.415240563,
          8462939.503017893,
          8462939.503017893,
          8462939.503017893,
          8424722.12356658,
          8424722.12356658,
          8404624.624240719,
          8404624.624240719,
          8399566.374508012,
          8399566.374508012,
          8372163.204812194,
          8372163.204812194,
          8372163.204812194,
          8372163.204812194,
          8372163.204812194,
          8372163.204812194,
          8372163.204812194,
          8372163.204812194,
          8372163.204812194
         ]
        },
        {
         "marker": {
          "color": "#cccccc"
         },
         "mode": "markers",
         "name": "Infeasible Trial",
         "showlegend": false,
         "type": "scatter",
         "x": [],
         "y": []
        }
       ],
       "layout": {
        "template": {
         "data": {
          "bar": [
           {
            "error_x": {
             "color": "#2a3f5f"
            },
            "error_y": {
             "color": "#2a3f5f"
            },
            "marker": {
             "line": {
              "color": "#E5ECF6",
              "width": 0.5
             },
             "pattern": {
              "fillmode": "overlay",
              "size": 10,
              "solidity": 0.2
             }
            },
            "type": "bar"
           }
          ],
          "barpolar": [
           {
            "marker": {
             "line": {
              "color": "#E5ECF6",
              "width": 0.5
             },
             "pattern": {
              "fillmode": "overlay",
              "size": 10,
              "solidity": 0.2
             }
            },
            "type": "barpolar"
           }
          ],
          "carpet": [
           {
            "aaxis": {
             "endlinecolor": "#2a3f5f",
             "gridcolor": "white",
             "linecolor": "white",
             "minorgridcolor": "white",
             "startlinecolor": "#2a3f5f"
            },
            "baxis": {
             "endlinecolor": "#2a3f5f",
             "gridcolor": "white",
             "linecolor": "white",
             "minorgridcolor": "white",
             "startlinecolor": "#2a3f5f"
            },
            "type": "carpet"
           }
          ],
          "choropleth": [
           {
            "colorbar": {
             "outlinewidth": 0,
             "ticks": ""
            },
            "type": "choropleth"
           }
          ],
          "contour": [
           {
            "colorbar": {
             "outlinewidth": 0,
             "ticks": ""
            },
            "colorscale": [
             [
              0,
              "#0d0887"
             ],
             [
              0.1111111111111111,
              "#46039f"
             ],
             [
              0.2222222222222222,
              "#7201a8"
             ],
             [
              0.3333333333333333,
              "#9c179e"
             ],
             [
              0.4444444444444444,
              "#bd3786"
             ],
             [
              0.5555555555555556,
              "#d8576b"
             ],
             [
              0.6666666666666666,
              "#ed7953"
             ],
             [
              0.7777777777777778,
              "#fb9f3a"
             ],
             [
              0.8888888888888888,
              "#fdca26"
             ],
             [
              1,
              "#f0f921"
             ]
            ],
            "type": "contour"
           }
          ],
          "contourcarpet": [
           {
            "colorbar": {
             "outlinewidth": 0,
             "ticks": ""
            },
            "type": "contourcarpet"
           }
          ],
          "heatmap": [
           {
            "colorbar": {
             "outlinewidth": 0,
             "ticks": ""
            },
            "colorscale": [
             [
              0,
              "#0d0887"
             ],
             [
              0.1111111111111111,
              "#46039f"
             ],
             [
              0.2222222222222222,
              "#7201a8"
             ],
             [
              0.3333333333333333,
              "#9c179e"
             ],
             [
              0.4444444444444444,
              "#bd3786"
             ],
             [
              0.5555555555555556,
              "#d8576b"
             ],
             [
              0.6666666666666666,
              "#ed7953"
             ],
             [
              0.7777777777777778,
              "#fb9f3a"
             ],
             [
              0.8888888888888888,
              "#fdca26"
             ],
             [
              1,
              "#f0f921"
             ]
            ],
            "type": "heatmap"
           }
          ],
          "heatmapgl": [
           {
            "colorbar": {
             "outlinewidth": 0,
             "ticks": ""
            },
            "colorscale": [
             [
              0,
              "#0d0887"
             ],
             [
              0.1111111111111111,
              "#46039f"
             ],
             [
              0.2222222222222222,
              "#7201a8"
             ],
             [
              0.3333333333333333,
              "#9c179e"
             ],
             [
              0.4444444444444444,
              "#bd3786"
             ],
             [
              0.5555555555555556,
              "#d8576b"
             ],
             [
              0.6666666666666666,
              "#ed7953"
             ],
             [
              0.7777777777777778,
              "#fb9f3a"
             ],
             [
              0.8888888888888888,
              "#fdca26"
             ],
             [
              1,
              "#f0f921"
             ]
            ],
            "type": "heatmapgl"
           }
          ],
          "histogram": [
           {
            "marker": {
             "pattern": {
              "fillmode": "overlay",
              "size": 10,
              "solidity": 0.2
             }
            },
            "type": "histogram"
           }
          ],
          "histogram2d": [
           {
            "colorbar": {
             "outlinewidth": 0,
             "ticks": ""
            },
            "colorscale": [
             [
              0,
              "#0d0887"
             ],
             [
              0.1111111111111111,
              "#46039f"
             ],
             [
              0.2222222222222222,
              "#7201a8"
             ],
             [
              0.3333333333333333,
              "#9c179e"
             ],
             [
              0.4444444444444444,
              "#bd3786"
             ],
             [
              0.5555555555555556,
              "#d8576b"
             ],
             [
              0.6666666666666666,
              "#ed7953"
             ],
             [
              0.7777777777777778,
              "#fb9f3a"
             ],
             [
              0.8888888888888888,
              "#fdca26"
             ],
             [
              1,
              "#f0f921"
             ]
            ],
            "type": "histogram2d"
           }
          ],
          "histogram2dcontour": [
           {
            "colorbar": {
             "outlinewidth": 0,
             "ticks": ""
            },
            "colorscale": [
             [
              0,
              "#0d0887"
             ],
             [
              0.1111111111111111,
              "#46039f"
             ],
             [
              0.2222222222222222,
              "#7201a8"
             ],
             [
              0.3333333333333333,
              "#9c179e"
             ],
             [
              0.4444444444444444,
              "#bd3786"
             ],
             [
              0.5555555555555556,
              "#d8576b"
             ],
             [
              0.6666666666666666,
              "#ed7953"
             ],
             [
              0.7777777777777778,
              "#fb9f3a"
             ],
             [
              0.8888888888888888,
              "#fdca26"
             ],
             [
              1,
              "#f0f921"
             ]
            ],
            "type": "histogram2dcontour"
           }
          ],
          "mesh3d": [
           {
            "colorbar": {
             "outlinewidth": 0,
             "ticks": ""
            },
            "type": "mesh3d"
           }
          ],
          "parcoords": [
           {
            "line": {
             "colorbar": {
              "outlinewidth": 0,
              "ticks": ""
             }
            },
            "type": "parcoords"
           }
          ],
          "pie": [
           {
            "automargin": true,
            "type": "pie"
           }
          ],
          "scatter": [
           {
            "fillpattern": {
             "fillmode": "overlay",
             "size": 10,
             "solidity": 0.2
            },
            "type": "scatter"
           }
          ],
          "scatter3d": [
           {
            "line": {
             "colorbar": {
              "outlinewidth": 0,
              "ticks": ""
             }
            },
            "marker": {
             "colorbar": {
              "outlinewidth": 0,
              "ticks": ""
             }
            },
            "type": "scatter3d"
           }
          ],
          "scattercarpet": [
           {
            "marker": {
             "colorbar": {
              "outlinewidth": 0,
              "ticks": ""
             }
            },
            "type": "scattercarpet"
           }
          ],
          "scattergeo": [
           {
            "marker": {
             "colorbar": {
              "outlinewidth": 0,
              "ticks": ""
             }
            },
            "type": "scattergeo"
           }
          ],
          "scattergl": [
           {
            "marker": {
             "colorbar": {
              "outlinewidth": 0,
              "ticks": ""
             }
            },
            "type": "scattergl"
           }
          ],
          "scattermapbox": [
           {
            "marker": {
             "colorbar": {
              "outlinewidth": 0,
              "ticks": ""
             }
            },
            "type": "scattermapbox"
           }
          ],
          "scatterpolar": [
           {
            "marker": {
             "colorbar": {
              "outlinewidth": 0,
              "ticks": ""
             }
            },
            "type": "scatterpolar"
           }
          ],
          "scatterpolargl": [
           {
            "marker": {
             "colorbar": {
              "outlinewidth": 0,
              "ticks": ""
             }
            },
            "type": "scatterpolargl"
           }
          ],
          "scatterternary": [
           {
            "marker": {
             "colorbar": {
              "outlinewidth": 0,
              "ticks": ""
             }
            },
            "type": "scatterternary"
           }
          ],
          "surface": [
           {
            "colorbar": {
             "outlinewidth": 0,
             "ticks": ""
            },
            "colorscale": [
             [
              0,
              "#0d0887"
             ],
             [
              0.1111111111111111,
              "#46039f"
             ],
             [
              0.2222222222222222,
              "#7201a8"
             ],
             [
              0.3333333333333333,
              "#9c179e"
             ],
             [
              0.4444444444444444,
              "#bd3786"
             ],
             [
              0.5555555555555556,
              "#d8576b"
             ],
             [
              0.6666666666666666,
              "#ed7953"
             ],
             [
              0.7777777777777778,
              "#fb9f3a"
             ],
             [
              0.8888888888888888,
              "#fdca26"
             ],
             [
              1,
              "#f0f921"
             ]
            ],
            "type": "surface"
           }
          ],
          "table": [
           {
            "cells": {
             "fill": {
              "color": "#EBF0F8"
             },
             "line": {
              "color": "white"
             }
            },
            "header": {
             "fill": {
              "color": "#C8D4E3"
             },
             "line": {
              "color": "white"
             }
            },
            "type": "table"
           }
          ]
         },
         "layout": {
          "annotationdefaults": {
           "arrowcolor": "#2a3f5f",
           "arrowhead": 0,
           "arrowwidth": 1
          },
          "autotypenumbers": "strict",
          "coloraxis": {
           "colorbar": {
            "outlinewidth": 0,
            "ticks": ""
           }
          },
          "colorscale": {
           "diverging": [
            [
             0,
             "#8e0152"
            ],
            [
             0.1,
             "#c51b7d"
            ],
            [
             0.2,
             "#de77ae"
            ],
            [
             0.3,
             "#f1b6da"
            ],
            [
             0.4,
             "#fde0ef"
            ],
            [
             0.5,
             "#f7f7f7"
            ],
            [
             0.6,
             "#e6f5d0"
            ],
            [
             0.7,
             "#b8e186"
            ],
            [
             0.8,
             "#7fbc41"
            ],
            [
             0.9,
             "#4d9221"
            ],
            [
             1,
             "#276419"
            ]
           ],
           "sequential": [
            [
             0,
             "#0d0887"
            ],
            [
             0.1111111111111111,
             "#46039f"
            ],
            [
             0.2222222222222222,
             "#7201a8"
            ],
            [
             0.3333333333333333,
             "#9c179e"
            ],
            [
             0.4444444444444444,
             "#bd3786"
            ],
            [
             0.5555555555555556,
             "#d8576b"
            ],
            [
             0.6666666666666666,
             "#ed7953"
            ],
            [
             0.7777777777777778,
             "#fb9f3a"
            ],
            [
             0.8888888888888888,
             "#fdca26"
            ],
            [
             1,
             "#f0f921"
            ]
           ],
           "sequentialminus": [
            [
             0,
             "#0d0887"
            ],
            [
             0.1111111111111111,
             "#46039f"
            ],
            [
             0.2222222222222222,
             "#7201a8"
            ],
            [
             0.3333333333333333,
             "#9c179e"
            ],
            [
             0.4444444444444444,
             "#bd3786"
            ],
            [
             0.5555555555555556,
             "#d8576b"
            ],
            [
             0.6666666666666666,
             "#ed7953"
            ],
            [
             0.7777777777777778,
             "#fb9f3a"
            ],
            [
             0.8888888888888888,
             "#fdca26"
            ],
            [
             1,
             "#f0f921"
            ]
           ]
          },
          "colorway": [
           "#636efa",
           "#EF553B",
           "#00cc96",
           "#ab63fa",
           "#FFA15A",
           "#19d3f3",
           "#FF6692",
           "#B6E880",
           "#FF97FF",
           "#FECB52"
          ],
          "font": {
           "color": "#2a3f5f"
          },
          "geo": {
           "bgcolor": "white",
           "lakecolor": "white",
           "landcolor": "#E5ECF6",
           "showlakes": true,
           "showland": true,
           "subunitcolor": "white"
          },
          "hoverlabel": {
           "align": "left"
          },
          "hovermode": "closest",
          "mapbox": {
           "style": "light"
          },
          "paper_bgcolor": "white",
          "plot_bgcolor": "#E5ECF6",
          "polar": {
           "angularaxis": {
            "gridcolor": "white",
            "linecolor": "white",
            "ticks": ""
           },
           "bgcolor": "#E5ECF6",
           "radialaxis": {
            "gridcolor": "white",
            "linecolor": "white",
            "ticks": ""
           }
          },
          "scene": {
           "xaxis": {
            "backgroundcolor": "#E5ECF6",
            "gridcolor": "white",
            "gridwidth": 2,
            "linecolor": "white",
            "showbackground": true,
            "ticks": "",
            "zerolinecolor": "white"
           },
           "yaxis": {
            "backgroundcolor": "#E5ECF6",
            "gridcolor": "white",
            "gridwidth": 2,
            "linecolor": "white",
            "showbackground": true,
            "ticks": "",
            "zerolinecolor": "white"
           },
           "zaxis": {
            "backgroundcolor": "#E5ECF6",
            "gridcolor": "white",
            "gridwidth": 2,
            "linecolor": "white",
            "showbackground": true,
            "ticks": "",
            "zerolinecolor": "white"
           }
          },
          "shapedefaults": {
           "line": {
            "color": "#2a3f5f"
           }
          },
          "ternary": {
           "aaxis": {
            "gridcolor": "white",
            "linecolor": "white",
            "ticks": ""
           },
           "baxis": {
            "gridcolor": "white",
            "linecolor": "white",
            "ticks": ""
           },
           "bgcolor": "#E5ECF6",
           "caxis": {
            "gridcolor": "white",
            "linecolor": "white",
            "ticks": ""
           }
          },
          "title": {
           "x": 0.05
          },
          "xaxis": {
           "automargin": true,
           "gridcolor": "white",
           "linecolor": "white",
           "ticks": "",
           "title": {
            "standoff": 15
           },
           "zerolinecolor": "white",
           "zerolinewidth": 2
          },
          "yaxis": {
           "automargin": true,
           "gridcolor": "white",
           "linecolor": "white",
           "ticks": "",
           "title": {
            "standoff": 15
           },
           "zerolinecolor": "white",
           "zerolinewidth": 2
          }
         }
        },
        "title": {
         "text": "Optimization History Plot"
        },
        "xaxis": {
         "title": {
          "text": "Trial"
         }
        },
        "yaxis": {
         "title": {
          "text": "Objective Value"
         }
        }
       }
      }
     },
     "metadata": {},
     "output_type": "display_data"
    }
   ],
   "source": [
    "# 하이퍼파라미터 최적화 과정을 확인\n",
    "optuna.visualization.plot_optimization_history(study_cat)"
   ]
  },
  {
   "cell_type": "code",
   "execution_count": 76,
   "metadata": {},
   "outputs": [
    {
     "name": "stdout",
     "output_type": "stream",
     "text": [
      "0:\tlearn: 13923322.0787040\ttotal: 2.83ms\tremaining: 8.59s\n",
      "1:\tlearn: 13793600.1889087\ttotal: 5.45ms\tremaining: 8.29s\n",
      "2:\tlearn: 13665789.7451257\ttotal: 8.02ms\tremaining: 8.12s\n",
      "3:\tlearn: 13538089.7812332\ttotal: 11.2ms\tremaining: 8.54s\n",
      "4:\tlearn: 13414932.7466457\ttotal: 13.7ms\tremaining: 8.33s\n",
      "5:\tlearn: 13293472.9796848\ttotal: 16.2ms\tremaining: 8.19s\n",
      "6:\tlearn: 13168346.7745076\ttotal: 19ms\tremaining: 8.23s\n",
      "7:\tlearn: 13048206.0402418\ttotal: 21.9ms\tremaining: 8.29s\n",
      "8:\tlearn: 12928463.1931074\ttotal: 24.5ms\tremaining: 8.27s\n",
      "9:\tlearn: 12811513.1841114\ttotal: 27.6ms\tremaining: 8.38s\n",
      "10:\tlearn: 12698289.4181062\ttotal: 30.2ms\tremaining: 8.31s\n",
      "11:\tlearn: 12589527.9613557\ttotal: 32.8ms\tremaining: 8.27s\n",
      "12:\tlearn: 12483832.1088426\ttotal: 35.2ms\tremaining: 8.2s\n",
      "13:\tlearn: 12380266.3224594\ttotal: 37.8ms\tremaining: 8.16s\n",
      "14:\tlearn: 12275807.0277346\ttotal: 40.3ms\tremaining: 8.14s\n",
      "15:\tlearn: 12172785.8627184\ttotal: 43.7ms\tremaining: 8.27s\n",
      "16:\tlearn: 12074007.4966234\ttotal: 46.5ms\tremaining: 8.27s\n",
      "17:\tlearn: 11976994.3587720\ttotal: 49.2ms\tremaining: 8.26s\n",
      "18:\tlearn: 11877784.7377554\ttotal: 52.6ms\tremaining: 8.37s\n",
      "19:\tlearn: 11778780.5239146\ttotal: 55.1ms\tremaining: 8.32s\n",
      "20:\tlearn: 11682375.2551858\ttotal: 58.3ms\tremaining: 8.39s\n",
      "21:\tlearn: 11585210.1416383\ttotal: 61ms\tremaining: 8.37s\n",
      "22:\tlearn: 11494650.8324401\ttotal: 63.7ms\tremaining: 8.35s\n",
      "23:\tlearn: 11404460.9774387\ttotal: 66.2ms\tremaining: 8.32s\n",
      "24:\tlearn: 11312436.6323447\ttotal: 68.8ms\tremaining: 8.29s\n",
      "25:\tlearn: 11229342.8155411\ttotal: 71.2ms\tremaining: 8.25s\n",
      "26:\tlearn: 11148794.2584219\ttotal: 74.3ms\tremaining: 8.29s\n",
      "27:\tlearn: 11067518.1388904\ttotal: 76.9ms\tremaining: 8.27s\n",
      "28:\tlearn: 10982940.7995892\ttotal: 79.3ms\tremaining: 8.23s\n",
      "29:\tlearn: 10899932.0131292\ttotal: 82ms\tremaining: 8.22s\n",
      "30:\tlearn: 10820625.8453338\ttotal: 84.6ms\tremaining: 8.22s\n",
      "31:\tlearn: 10742707.4306075\ttotal: 87.3ms\tremaining: 8.21s\n",
      "32:\tlearn: 10668357.6369691\ttotal: 90.6ms\tremaining: 8.26s\n",
      "33:\tlearn: 10588718.9336334\ttotal: 93.5ms\tremaining: 8.27s\n",
      "34:\tlearn: 10512880.0746115\ttotal: 96.1ms\tremaining: 8.25s\n",
      "35:\tlearn: 10439489.6235665\ttotal: 98.4ms\tremaining: 8.22s\n",
      "36:\tlearn: 10368454.2354187\ttotal: 101ms\tremaining: 8.21s\n",
      "37:\tlearn: 10299454.5791452\ttotal: 104ms\tremaining: 8.21s\n",
      "38:\tlearn: 10236383.0520113\ttotal: 107ms\tremaining: 8.21s\n",
      "39:\tlearn: 10168675.9811610\ttotal: 110ms\tremaining: 8.22s\n",
      "40:\tlearn: 10101594.8140170\ttotal: 112ms\tremaining: 8.21s\n",
      "41:\tlearn: 10029948.4574230\ttotal: 115ms\tremaining: 8.19s\n",
      "42:\tlearn: 9962781.9170362\ttotal: 117ms\tremaining: 8.19s\n",
      "43:\tlearn: 9898564.2559436\ttotal: 120ms\tremaining: 8.17s\n",
      "44:\tlearn: 9836490.0110046\ttotal: 123ms\tremaining: 8.19s\n",
      "45:\tlearn: 9775952.2041520\ttotal: 126ms\tremaining: 8.19s\n",
      "46:\tlearn: 9717811.4420390\ttotal: 128ms\tremaining: 8.18s\n",
      "47:\tlearn: 9660056.7111956\ttotal: 131ms\tremaining: 8.17s\n",
      "48:\tlearn: 9599672.3207836\ttotal: 134ms\tremaining: 8.16s\n",
      "49:\tlearn: 9540192.0031143\ttotal: 136ms\tremaining: 8.15s\n",
      "50:\tlearn: 9484149.6370796\ttotal: 147ms\tremaining: 8.6s\n",
      "51:\tlearn: 9422936.5401092\ttotal: 149ms\tremaining: 8.59s\n",
      "52:\tlearn: 9366788.6534954\ttotal: 152ms\tremaining: 8.57s\n",
      "53:\tlearn: 9312212.7329809\ttotal: 155ms\tremaining: 8.56s\n",
      "54:\tlearn: 9256327.0844894\ttotal: 158ms\tremaining: 8.56s\n",
      "55:\tlearn: 9203283.7333613\ttotal: 161ms\tremaining: 8.56s\n",
      "56:\tlearn: 9152152.5270391\ttotal: 163ms\tremaining: 8.53s\n",
      "57:\tlearn: 9100609.2613686\ttotal: 166ms\tremaining: 8.53s\n",
      "58:\tlearn: 9051805.5882680\ttotal: 168ms\tremaining: 8.5s\n",
      "59:\tlearn: 8998534.2354054\ttotal: 171ms\tremaining: 8.48s\n",
      "60:\tlearn: 8948557.8319397\ttotal: 173ms\tremaining: 8.45s\n",
      "61:\tlearn: 8901331.8493205\ttotal: 175ms\tremaining: 8.41s\n",
      "62:\tlearn: 8859080.4566401\ttotal: 177ms\tremaining: 8.38s\n",
      "63:\tlearn: 8812072.6097866\ttotal: 180ms\tremaining: 8.39s\n",
      "64:\tlearn: 8767138.5668812\ttotal: 183ms\tremaining: 8.38s\n",
      "65:\tlearn: 8720003.7321170\ttotal: 186ms\tremaining: 8.38s\n",
      "66:\tlearn: 8674334.3662063\ttotal: 189ms\tremaining: 8.39s\n",
      "67:\tlearn: 8631154.3866744\ttotal: 192ms\tremaining: 8.38s\n",
      "68:\tlearn: 8583808.9484078\ttotal: 194ms\tremaining: 8.37s\n",
      "69:\tlearn: 8544365.5321986\ttotal: 197ms\tremaining: 8.34s\n",
      "70:\tlearn: 8499321.4395321\ttotal: 199ms\tremaining: 8.34s\n",
      "71:\tlearn: 8455833.1013775\ttotal: 202ms\tremaining: 8.32s\n",
      "72:\tlearn: 8418616.8713463\ttotal: 205ms\tremaining: 8.34s\n",
      "73:\tlearn: 8385000.0003255\ttotal: 208ms\tremaining: 8.34s\n",
      "74:\tlearn: 8347294.8798698\ttotal: 211ms\tremaining: 8.33s\n",
      "75:\tlearn: 8311590.1982993\ttotal: 213ms\tremaining: 8.31s\n",
      "76:\tlearn: 8276736.0271970\ttotal: 216ms\tremaining: 8.3s\n",
      "77:\tlearn: 8241161.1920939\ttotal: 218ms\tremaining: 8.29s\n",
      "78:\tlearn: 8202248.2242736\ttotal: 222ms\tremaining: 8.31s\n",
      "79:\tlearn: 8166695.1447115\ttotal: 224ms\tremaining: 8.31s\n",
      "80:\tlearn: 8132634.8728208\ttotal: 227ms\tremaining: 8.29s\n",
      "81:\tlearn: 8099364.8064208\ttotal: 230ms\tremaining: 8.29s\n",
      "82:\tlearn: 8066070.5377939\ttotal: 232ms\tremaining: 8.28s\n",
      "83:\tlearn: 8036280.3917538\ttotal: 236ms\tremaining: 8.3s\n",
      "84:\tlearn: 8007899.6202814\ttotal: 239ms\tremaining: 8.3s\n",
      "85:\tlearn: 7974621.8549512\ttotal: 241ms\tremaining: 8.29s\n",
      "86:\tlearn: 7946844.0788586\ttotal: 244ms\tremaining: 8.29s\n",
      "87:\tlearn: 7921035.4119250\ttotal: 247ms\tremaining: 8.28s\n",
      "88:\tlearn: 7893883.6657884\ttotal: 249ms\tremaining: 8.27s\n",
      "89:\tlearn: 7864333.9510191\ttotal: 253ms\tremaining: 8.28s\n",
      "90:\tlearn: 7834086.3539136\ttotal: 256ms\tremaining: 8.29s\n",
      "91:\tlearn: 7810821.7311906\ttotal: 259ms\tremaining: 8.29s\n",
      "92:\tlearn: 7782601.8890685\ttotal: 261ms\tremaining: 8.28s\n",
      "93:\tlearn: 7756036.6111069\ttotal: 264ms\tremaining: 8.27s\n",
      "94:\tlearn: 7731417.9917238\ttotal: 267ms\tremaining: 8.27s\n",
      "95:\tlearn: 7706534.6709372\ttotal: 270ms\tremaining: 8.27s\n",
      "96:\tlearn: 7677430.0586720\ttotal: 272ms\tremaining: 8.26s\n",
      "97:\tlearn: 7652631.0429807\ttotal: 275ms\tremaining: 8.24s\n",
      "98:\tlearn: 7629021.5016071\ttotal: 277ms\tremaining: 8.24s\n",
      "99:\tlearn: 7604573.7085750\ttotal: 280ms\tremaining: 8.23s\n",
      "100:\tlearn: 7582575.2788629\ttotal: 283ms\tremaining: 8.24s\n",
      "101:\tlearn: 7556984.8774977\ttotal: 286ms\tremaining: 8.25s\n",
      "102:\tlearn: 7530617.4760363\ttotal: 289ms\tremaining: 8.24s\n",
      "103:\tlearn: 7506408.2638328\ttotal: 292ms\tremaining: 8.25s\n",
      "104:\tlearn: 7486444.4165772\ttotal: 295ms\tremaining: 8.23s\n",
      "105:\tlearn: 7465650.9150855\ttotal: 297ms\tremaining: 8.23s\n",
      "106:\tlearn: 7441015.1065265\ttotal: 309ms\tremaining: 8.47s\n",
      "107:\tlearn: 7418845.0261501\ttotal: 312ms\tremaining: 8.46s\n",
      "108:\tlearn: 7394367.5444754\ttotal: 314ms\tremaining: 8.46s\n",
      "109:\tlearn: 7373754.8136667\ttotal: 317ms\tremaining: 8.45s\n",
      "110:\tlearn: 7356357.7159311\ttotal: 320ms\tremaining: 8.44s\n",
      "111:\tlearn: 7334037.9561489\ttotal: 322ms\tremaining: 8.42s\n",
      "112:\tlearn: 7312935.6741406\ttotal: 325ms\tremaining: 8.41s\n",
      "113:\tlearn: 7294595.6943755\ttotal: 327ms\tremaining: 8.41s\n",
      "114:\tlearn: 7273411.5580990\ttotal: 330ms\tremaining: 8.41s\n",
      "115:\tlearn: 7252902.3115332\ttotal: 333ms\tremaining: 8.39s\n",
      "116:\tlearn: 7236534.5503790\ttotal: 336ms\tremaining: 8.39s\n",
      "117:\tlearn: 7220535.8710782\ttotal: 338ms\tremaining: 8.38s\n",
      "118:\tlearn: 7202063.2914101\ttotal: 341ms\tremaining: 8.37s\n",
      "119:\tlearn: 7183042.7232205\ttotal: 343ms\tremaining: 8.36s\n",
      "120:\tlearn: 7165510.0284251\ttotal: 346ms\tremaining: 8.35s\n",
      "121:\tlearn: 7146955.3434520\ttotal: 349ms\tremaining: 8.35s\n",
      "122:\tlearn: 7129471.4458410\ttotal: 352ms\tremaining: 8.34s\n",
      "123:\tlearn: 7116472.7102287\ttotal: 354ms\tremaining: 8.33s\n",
      "124:\tlearn: 7103486.4239078\ttotal: 356ms\tremaining: 8.31s\n",
      "125:\tlearn: 7088391.5577143\ttotal: 359ms\tremaining: 8.31s\n",
      "126:\tlearn: 7074329.7410653\ttotal: 362ms\tremaining: 8.3s\n",
      "127:\tlearn: 7056750.6752636\ttotal: 365ms\tremaining: 8.3s\n",
      "128:\tlearn: 7039048.6509571\ttotal: 367ms\tremaining: 8.29s\n",
      "129:\tlearn: 7026549.3307667\ttotal: 370ms\tremaining: 8.28s\n",
      "130:\tlearn: 7009930.3379804\ttotal: 373ms\tremaining: 8.27s\n",
      "131:\tlearn: 6996462.1439911\ttotal: 375ms\tremaining: 8.27s\n",
      "132:\tlearn: 6981619.4790652\ttotal: 377ms\tremaining: 8.25s\n",
      "133:\tlearn: 6967522.9795443\ttotal: 380ms\tremaining: 8.25s\n",
      "134:\tlearn: 6954071.2057787\ttotal: 383ms\tremaining: 8.24s\n",
      "135:\tlearn: 6939920.1302835\ttotal: 385ms\tremaining: 8.23s\n",
      "136:\tlearn: 6928208.6286806\ttotal: 388ms\tremaining: 8.22s\n",
      "137:\tlearn: 6915754.5055135\ttotal: 391ms\tremaining: 8.22s\n",
      "138:\tlearn: 6904959.1351215\ttotal: 393ms\tremaining: 8.21s\n",
      "139:\tlearn: 6892778.5642455\ttotal: 397ms\tremaining: 8.23s\n",
      "140:\tlearn: 6880582.9612727\ttotal: 400ms\tremaining: 8.23s\n",
      "141:\tlearn: 6868880.8243635\ttotal: 403ms\tremaining: 8.24s\n",
      "142:\tlearn: 6857373.5417605\ttotal: 407ms\tremaining: 8.25s\n",
      "143:\tlearn: 6845224.6785511\ttotal: 411ms\tremaining: 8.27s\n",
      "144:\tlearn: 6831157.0558421\ttotal: 414ms\tremaining: 8.27s\n",
      "145:\tlearn: 6820200.6925256\ttotal: 417ms\tremaining: 8.27s\n",
      "146:\tlearn: 6809112.3596931\ttotal: 420ms\tremaining: 8.27s\n",
      "147:\tlearn: 6796128.7709134\ttotal: 423ms\tremaining: 8.27s\n",
      "148:\tlearn: 6784664.7336311\ttotal: 426ms\tremaining: 8.26s\n",
      "149:\tlearn: 6774940.6933214\ttotal: 428ms\tremaining: 8.26s\n",
      "150:\tlearn: 6764699.2922550\ttotal: 431ms\tremaining: 8.25s\n",
      "151:\tlearn: 6753711.6632290\ttotal: 433ms\tremaining: 8.24s\n",
      "152:\tlearn: 6743081.4942959\ttotal: 436ms\tremaining: 8.23s\n",
      "153:\tlearn: 6731905.2876551\ttotal: 439ms\tremaining: 8.23s\n",
      "154:\tlearn: 6722413.3145065\ttotal: 442ms\tremaining: 8.23s\n",
      "155:\tlearn: 6711528.3418102\ttotal: 445ms\tremaining: 8.23s\n",
      "156:\tlearn: 6703113.1213700\ttotal: 448ms\tremaining: 8.22s\n",
      "157:\tlearn: 6695270.1489508\ttotal: 450ms\tremaining: 8.21s\n",
      "158:\tlearn: 6685136.8173410\ttotal: 453ms\tremaining: 8.21s\n",
      "159:\tlearn: 6676900.9328200\ttotal: 456ms\tremaining: 8.2s\n",
      "160:\tlearn: 6667705.8229965\ttotal: 458ms\tremaining: 8.19s\n",
      "161:\tlearn: 6659505.0516869\ttotal: 461ms\tremaining: 8.19s\n",
      "162:\tlearn: 6649611.9650063\ttotal: 464ms\tremaining: 8.19s\n",
      "163:\tlearn: 6640405.9938324\ttotal: 467ms\tremaining: 8.19s\n",
      "164:\tlearn: 6631017.8969109\ttotal: 469ms\tremaining: 8.18s\n",
      "165:\tlearn: 6622718.3461625\ttotal: 472ms\tremaining: 8.18s\n",
      "166:\tlearn: 6611951.4858385\ttotal: 475ms\tremaining: 8.17s\n",
      "167:\tlearn: 6603005.0703248\ttotal: 477ms\tremaining: 8.16s\n",
      "168:\tlearn: 6591814.7952767\ttotal: 480ms\tremaining: 8.16s\n",
      "169:\tlearn: 6583575.4754730\ttotal: 483ms\tremaining: 8.16s\n",
      "170:\tlearn: 6577012.3821303\ttotal: 486ms\tremaining: 8.16s\n",
      "171:\tlearn: 6570472.0875851\ttotal: 489ms\tremaining: 8.15s\n",
      "172:\tlearn: 6561130.7177066\ttotal: 493ms\tremaining: 8.17s\n",
      "173:\tlearn: 6553112.0402133\ttotal: 495ms\tremaining: 8.16s\n",
      "174:\tlearn: 6544936.6264304\ttotal: 498ms\tremaining: 8.15s\n",
      "175:\tlearn: 6535425.8483804\ttotal: 501ms\tremaining: 8.15s\n",
      "176:\tlearn: 6527915.7832496\ttotal: 504ms\tremaining: 8.15s\n",
      "177:\tlearn: 6520595.7981569\ttotal: 506ms\tremaining: 8.14s\n",
      "178:\tlearn: 6512972.4120562\ttotal: 509ms\tremaining: 8.13s\n",
      "179:\tlearn: 6505335.5813323\ttotal: 513ms\tremaining: 8.15s\n",
      "180:\tlearn: 6497754.1676676\ttotal: 518ms\tremaining: 8.18s\n",
      "181:\tlearn: 6490754.3561229\ttotal: 520ms\tremaining: 8.18s\n",
      "182:\tlearn: 6482337.4503527\ttotal: 523ms\tremaining: 8.17s\n",
      "183:\tlearn: 6476390.4768267\ttotal: 525ms\tremaining: 8.16s\n",
      "184:\tlearn: 6467563.5591504\ttotal: 527ms\tremaining: 8.14s\n",
      "185:\tlearn: 6461213.5453056\ttotal: 530ms\tremaining: 8.14s\n",
      "186:\tlearn: 6455166.3559667\ttotal: 533ms\tremaining: 8.13s\n",
      "187:\tlearn: 6447810.0725641\ttotal: 535ms\tremaining: 8.12s\n",
      "188:\tlearn: 6438550.3992868\ttotal: 538ms\tremaining: 8.11s\n",
      "189:\tlearn: 6433100.7672081\ttotal: 540ms\tremaining: 8.11s\n",
      "190:\tlearn: 6427817.3436486\ttotal: 543ms\tremaining: 8.1s\n",
      "191:\tlearn: 6421867.3893438\ttotal: 545ms\tremaining: 8.09s\n",
      "192:\tlearn: 6414064.0389422\ttotal: 547ms\tremaining: 8.07s\n",
      "193:\tlearn: 6408454.7626839\ttotal: 550ms\tremaining: 8.07s\n",
      "194:\tlearn: 6402184.9873112\ttotal: 553ms\tremaining: 8.07s\n",
      "195:\tlearn: 6395856.3375670\ttotal: 556ms\tremaining: 8.07s\n",
      "196:\tlearn: 6389285.4780744\ttotal: 558ms\tremaining: 8.06s\n",
      "197:\tlearn: 6383700.0500359\ttotal: 561ms\tremaining: 8.06s\n",
      "198:\tlearn: 6377423.6603734\ttotal: 564ms\tremaining: 8.05s\n",
      "199:\tlearn: 6372189.5094544\ttotal: 566ms\tremaining: 8.05s\n",
      "200:\tlearn: 6365070.2343796\ttotal: 569ms\tremaining: 8.04s\n",
      "201:\tlearn: 6357977.4389447\ttotal: 572ms\tremaining: 8.04s\n",
      "202:\tlearn: 6352314.1867572\ttotal: 575ms\tremaining: 8.04s\n",
      "203:\tlearn: 6347638.7081509\ttotal: 578ms\tremaining: 8.03s\n",
      "204:\tlearn: 6341830.9689610\ttotal: 581ms\tremaining: 8.03s\n",
      "205:\tlearn: 6335069.5353617\ttotal: 583ms\tremaining: 8.03s\n",
      "206:\tlearn: 6330988.9032024\ttotal: 586ms\tremaining: 8.02s\n",
      "207:\tlearn: 6325373.4790853\ttotal: 589ms\tremaining: 8.02s\n",
      "208:\tlearn: 6319828.7301185\ttotal: 591ms\tremaining: 8.01s\n",
      "209:\tlearn: 6313486.6302263\ttotal: 594ms\tremaining: 8.01s\n",
      "210:\tlearn: 6308652.4312516\ttotal: 597ms\tremaining: 8s\n",
      "211:\tlearn: 6303396.6799126\ttotal: 600ms\tremaining: 8s\n",
      "212:\tlearn: 6295959.5677326\ttotal: 602ms\tremaining: 8s\n",
      "213:\tlearn: 6291470.8602898\ttotal: 605ms\tremaining: 8s\n",
      "214:\tlearn: 6286629.8402772\ttotal: 608ms\tremaining: 7.99s\n",
      "215:\tlearn: 6280531.5463399\ttotal: 611ms\tremaining: 7.99s\n",
      "216:\tlearn: 6275546.5621715\ttotal: 614ms\tremaining: 7.99s\n",
      "217:\tlearn: 6271717.7776789\ttotal: 616ms\tremaining: 7.98s\n",
      "218:\tlearn: 6265832.5857798\ttotal: 619ms\tremaining: 7.97s\n",
      "219:\tlearn: 6261013.6060769\ttotal: 621ms\tremaining: 7.97s\n",
      "220:\tlearn: 6255094.7479033\ttotal: 624ms\tremaining: 7.96s\n",
      "221:\tlearn: 6251277.1746150\ttotal: 627ms\tremaining: 7.96s\n",
      "222:\tlearn: 6243998.1369843\ttotal: 629ms\tremaining: 7.95s\n",
      "223:\tlearn: 6237144.7613753\ttotal: 632ms\tremaining: 7.95s\n",
      "224:\tlearn: 6231684.5886843\ttotal: 634ms\tremaining: 7.94s\n",
      "225:\tlearn: 6227733.6804230\ttotal: 637ms\tremaining: 7.94s\n",
      "226:\tlearn: 6221774.1208011\ttotal: 640ms\tremaining: 7.93s\n",
      "227:\tlearn: 6217582.4857778\ttotal: 643ms\tremaining: 7.93s\n",
      "228:\tlearn: 6212041.9748800\ttotal: 646ms\tremaining: 7.93s\n",
      "229:\tlearn: 6208676.0807991\ttotal: 649ms\tremaining: 7.93s\n",
      "230:\tlearn: 6205482.2889491\ttotal: 651ms\tremaining: 7.92s\n",
      "231:\tlearn: 6201744.9536924\ttotal: 654ms\tremaining: 7.92s\n",
      "232:\tlearn: 6198059.5029434\ttotal: 657ms\tremaining: 7.92s\n",
      "233:\tlearn: 6193063.3202777\ttotal: 659ms\tremaining: 7.91s\n",
      "234:\tlearn: 6189360.5438800\ttotal: 662ms\tremaining: 7.9s\n",
      "235:\tlearn: 6185980.8594174\ttotal: 664ms\tremaining: 7.9s\n",
      "236:\tlearn: 6180569.6789991\ttotal: 667ms\tremaining: 7.89s\n",
      "237:\tlearn: 6176003.2544066\ttotal: 670ms\tremaining: 7.89s\n",
      "238:\tlearn: 6172615.4626429\ttotal: 673ms\tremaining: 7.89s\n",
      "239:\tlearn: 6169940.5491692\ttotal: 675ms\tremaining: 7.88s\n",
      "240:\tlearn: 6164934.0377020\ttotal: 678ms\tremaining: 7.88s\n",
      "241:\tlearn: 6161649.1334211\ttotal: 681ms\tremaining: 7.87s\n",
      "242:\tlearn: 6157644.8117481\ttotal: 684ms\tremaining: 7.87s\n",
      "243:\tlearn: 6152660.3347108\ttotal: 687ms\tremaining: 7.87s\n",
      "244:\tlearn: 6149532.3283124\ttotal: 689ms\tremaining: 7.87s\n",
      "245:\tlearn: 6145814.0233264\ttotal: 692ms\tremaining: 7.86s\n",
      "246:\tlearn: 6139280.7170973\ttotal: 695ms\tremaining: 7.86s\n",
      "247:\tlearn: 6135780.4677971\ttotal: 697ms\tremaining: 7.85s\n",
      "248:\tlearn: 6132799.9732603\ttotal: 700ms\tremaining: 7.85s\n",
      "249:\tlearn: 6129512.6431237\ttotal: 703ms\tremaining: 7.85s\n",
      "250:\tlearn: 6124193.1390129\ttotal: 706ms\tremaining: 7.84s\n",
      "251:\tlearn: 6120644.5933218\ttotal: 708ms\tremaining: 7.84s\n",
      "252:\tlearn: 6114101.2858010\ttotal: 710ms\tremaining: 7.83s\n",
      "253:\tlearn: 6111255.5774431\ttotal: 713ms\tremaining: 7.82s\n",
      "254:\tlearn: 6107979.7381937\ttotal: 716ms\tremaining: 7.82s\n",
      "255:\tlearn: 6105010.5328686\ttotal: 719ms\tremaining: 7.82s\n",
      "256:\tlearn: 6101557.9486625\ttotal: 721ms\tremaining: 7.81s\n",
      "257:\tlearn: 6098371.1562638\ttotal: 724ms\tremaining: 7.81s\n",
      "258:\tlearn: 6091946.2987872\ttotal: 727ms\tremaining: 7.8s\n",
      "259:\tlearn: 6088804.2980094\ttotal: 729ms\tremaining: 7.8s\n",
      "260:\tlearn: 6085227.3998032\ttotal: 732ms\tremaining: 7.8s\n",
      "261:\tlearn: 6081386.5403029\ttotal: 735ms\tremaining: 7.8s\n",
      "262:\tlearn: 6078611.7504322\ttotal: 738ms\tremaining: 7.79s\n",
      "263:\tlearn: 6075161.1012559\ttotal: 741ms\tremaining: 7.79s\n",
      "264:\tlearn: 6072244.6282786\ttotal: 744ms\tremaining: 7.79s\n",
      "265:\tlearn: 6067968.8997994\ttotal: 747ms\tremaining: 7.79s\n",
      "266:\tlearn: 6064043.4353768\ttotal: 750ms\tremaining: 7.79s\n",
      "267:\tlearn: 6058463.6144416\ttotal: 752ms\tremaining: 7.79s\n",
      "268:\tlearn: 6053326.8058629\ttotal: 755ms\tremaining: 7.78s\n",
      "269:\tlearn: 6049469.7884796\ttotal: 757ms\tremaining: 7.77s\n",
      "270:\tlearn: 6044904.8166348\ttotal: 760ms\tremaining: 7.77s\n",
      "271:\tlearn: 6040052.1051513\ttotal: 763ms\tremaining: 7.77s\n",
      "272:\tlearn: 6037721.0215129\ttotal: 766ms\tremaining: 7.77s\n",
      "273:\tlearn: 6031592.8243560\ttotal: 769ms\tremaining: 7.77s\n",
      "274:\tlearn: 6027523.1987905\ttotal: 772ms\tremaining: 7.76s\n",
      "275:\tlearn: 6024754.0344418\ttotal: 774ms\tremaining: 7.76s\n",
      "276:\tlearn: 6019762.9901779\ttotal: 777ms\tremaining: 7.75s\n",
      "277:\tlearn: 6016665.7878712\ttotal: 780ms\tremaining: 7.75s\n",
      "278:\tlearn: 6012111.0323396\ttotal: 783ms\tremaining: 7.75s\n",
      "279:\tlearn: 6009632.8832800\ttotal: 785ms\tremaining: 7.74s\n",
      "280:\tlearn: 6005093.0580230\ttotal: 788ms\tremaining: 7.74s\n",
      "281:\tlearn: 6002402.8695240\ttotal: 790ms\tremaining: 7.73s\n",
      "282:\tlearn: 6000145.9961173\ttotal: 793ms\tremaining: 7.73s\n",
      "283:\tlearn: 5999479.4545345\ttotal: 795ms\tremaining: 7.71s\n",
      "284:\tlearn: 5997100.7080569\ttotal: 798ms\tremaining: 7.71s\n",
      "285:\tlearn: 5995117.1861586\ttotal: 800ms\tremaining: 7.71s\n",
      "286:\tlearn: 5992834.6349724\ttotal: 803ms\tremaining: 7.7s\n",
      "287:\tlearn: 5990336.1127218\ttotal: 805ms\tremaining: 7.7s\n",
      "288:\tlearn: 5988274.9367662\ttotal: 808ms\tremaining: 7.69s\n",
      "289:\tlearn: 5985436.4438506\ttotal: 810ms\tremaining: 7.69s\n",
      "290:\tlearn: 5982941.6576061\ttotal: 813ms\tremaining: 7.69s\n",
      "291:\tlearn: 5979039.4625883\ttotal: 816ms\tremaining: 7.68s\n",
      "292:\tlearn: 5977276.1616656\ttotal: 819ms\tremaining: 7.68s\n",
      "293:\tlearn: 5974228.8100549\ttotal: 822ms\tremaining: 7.67s\n",
      "294:\tlearn: 5971836.1254841\ttotal: 824ms\tremaining: 7.67s\n",
      "295:\tlearn: 5968115.8054025\ttotal: 826ms\tremaining: 7.66s\n",
      "296:\tlearn: 5964845.2314485\ttotal: 832ms\tremaining: 7.68s\n",
      "297:\tlearn: 5959354.6445601\ttotal: 834ms\tremaining: 7.68s\n",
      "298:\tlearn: 5956941.3484072\ttotal: 837ms\tremaining: 7.67s\n",
      "299:\tlearn: 5953473.9163133\ttotal: 839ms\tremaining: 7.67s\n",
      "300:\tlearn: 5951032.0068363\ttotal: 842ms\tremaining: 7.66s\n",
      "301:\tlearn: 5948733.2197202\ttotal: 845ms\tremaining: 7.67s\n",
      "302:\tlearn: 5946629.1711453\ttotal: 848ms\tremaining: 7.66s\n",
      "303:\tlearn: 5942216.9702888\ttotal: 851ms\tremaining: 7.66s\n",
      "304:\tlearn: 5939283.6103321\ttotal: 854ms\tremaining: 7.66s\n",
      "305:\tlearn: 5933643.1313371\ttotal: 857ms\tremaining: 7.66s\n",
      "306:\tlearn: 5931032.0360597\ttotal: 860ms\tremaining: 7.66s\n",
      "307:\tlearn: 5929320.2534353\ttotal: 863ms\tremaining: 7.66s\n",
      "308:\tlearn: 5926915.7065484\ttotal: 865ms\tremaining: 7.65s\n",
      "309:\tlearn: 5924952.3009295\ttotal: 868ms\tremaining: 7.65s\n",
      "310:\tlearn: 5921565.8352743\ttotal: 871ms\tremaining: 7.64s\n",
      "311:\tlearn: 5917918.9734960\ttotal: 873ms\tremaining: 7.63s\n",
      "312:\tlearn: 5915443.0313302\ttotal: 877ms\tremaining: 7.64s\n",
      "313:\tlearn: 5913798.3000305\ttotal: 880ms\tremaining: 7.64s\n",
      "314:\tlearn: 5908684.6149311\ttotal: 883ms\tremaining: 7.64s\n",
      "315:\tlearn: 5906382.0796010\ttotal: 886ms\tremaining: 7.64s\n",
      "316:\tlearn: 5904656.5568420\ttotal: 889ms\tremaining: 7.64s\n",
      "317:\tlearn: 5900819.3682927\ttotal: 893ms\tremaining: 7.64s\n",
      "318:\tlearn: 5898268.3069619\ttotal: 896ms\tremaining: 7.65s\n",
      "319:\tlearn: 5893349.0315224\ttotal: 899ms\tremaining: 7.64s\n",
      "320:\tlearn: 5890444.5376692\ttotal: 903ms\tremaining: 7.66s\n",
      "321:\tlearn: 5888463.0121136\ttotal: 907ms\tremaining: 7.65s\n",
      "322:\tlearn: 5883847.2403494\ttotal: 910ms\tremaining: 7.66s\n",
      "323:\tlearn: 5882518.5405823\ttotal: 913ms\tremaining: 7.66s\n",
      "324:\tlearn: 5878778.6859826\ttotal: 916ms\tremaining: 7.65s\n",
      "325:\tlearn: 5877228.1030280\ttotal: 919ms\tremaining: 7.66s\n",
      "326:\tlearn: 5875393.9208409\ttotal: 924ms\tremaining: 7.67s\n",
      "327:\tlearn: 5872479.1345513\ttotal: 927ms\tremaining: 7.67s\n",
      "328:\tlearn: 5870133.6187238\ttotal: 930ms\tremaining: 7.67s\n",
      "329:\tlearn: 5867270.6548419\ttotal: 933ms\tremaining: 7.67s\n",
      "330:\tlearn: 5864357.2304077\ttotal: 936ms\tremaining: 7.67s\n",
      "331:\tlearn: 5862102.0055298\ttotal: 939ms\tremaining: 7.66s\n",
      "332:\tlearn: 5859726.3924638\ttotal: 942ms\tremaining: 7.66s\n",
      "333:\tlearn: 5858324.8630361\ttotal: 946ms\tremaining: 7.67s\n",
      "334:\tlearn: 5855514.7591704\ttotal: 948ms\tremaining: 7.66s\n",
      "335:\tlearn: 5853712.5935909\ttotal: 951ms\tremaining: 7.66s\n",
      "336:\tlearn: 5850153.0971429\ttotal: 954ms\tremaining: 7.65s\n",
      "337:\tlearn: 5846698.3813886\ttotal: 957ms\tremaining: 7.65s\n",
      "338:\tlearn: 5845575.0345741\ttotal: 960ms\tremaining: 7.65s\n",
      "339:\tlearn: 5841988.5284691\ttotal: 963ms\tremaining: 7.65s\n",
      "340:\tlearn: 5840561.4788324\ttotal: 965ms\tremaining: 7.64s\n",
      "341:\tlearn: 5839126.0997399\ttotal: 968ms\tremaining: 7.64s\n",
      "342:\tlearn: 5835384.7487004\ttotal: 971ms\tremaining: 7.64s\n",
      "343:\tlearn: 5831722.3276086\ttotal: 974ms\tremaining: 7.63s\n",
      "344:\tlearn: 5829188.4597010\ttotal: 977ms\tremaining: 7.64s\n",
      "345:\tlearn: 5825555.0966142\ttotal: 980ms\tremaining: 7.63s\n",
      "346:\tlearn: 5821574.8850852\ttotal: 984ms\tremaining: 7.64s\n",
      "347:\tlearn: 5819276.2078703\ttotal: 987ms\tremaining: 7.64s\n",
      "348:\tlearn: 5816062.1310736\ttotal: 990ms\tremaining: 7.64s\n",
      "349:\tlearn: 5814221.5224977\ttotal: 993ms\tremaining: 7.64s\n",
      "350:\tlearn: 5810906.7942893\ttotal: 996ms\tremaining: 7.63s\n",
      "351:\tlearn: 5809183.8565788\ttotal: 999ms\tremaining: 7.63s\n",
      "352:\tlearn: 5804689.9401870\ttotal: 1s\tremaining: 7.63s\n",
      "353:\tlearn: 5802023.3454652\ttotal: 1s\tremaining: 7.63s\n",
      "354:\tlearn: 5799598.6821040\ttotal: 1.01s\tremaining: 7.63s\n",
      "355:\tlearn: 5797880.2198657\ttotal: 1.01s\tremaining: 7.62s\n",
      "356:\tlearn: 5796663.1873202\ttotal: 1.01s\tremaining: 7.61s\n",
      "357:\tlearn: 5795178.4781565\ttotal: 1.01s\tremaining: 7.61s\n",
      "358:\tlearn: 5793717.6728871\ttotal: 1.02s\tremaining: 7.6s\n",
      "359:\tlearn: 5790807.3280825\ttotal: 1.02s\tremaining: 7.61s\n",
      "360:\tlearn: 5786714.7648565\ttotal: 1.02s\tremaining: 7.6s\n",
      "361:\tlearn: 5785412.1260563\ttotal: 1.03s\tremaining: 7.59s\n",
      "362:\tlearn: 5783531.3215980\ttotal: 1.03s\tremaining: 7.59s\n",
      "363:\tlearn: 5781515.4892110\ttotal: 1.03s\tremaining: 7.59s\n",
      "364:\tlearn: 5779179.5770654\ttotal: 1.03s\tremaining: 7.58s\n",
      "365:\tlearn: 5776549.5255055\ttotal: 1.04s\tremaining: 7.58s\n",
      "366:\tlearn: 5774508.0209917\ttotal: 1.04s\tremaining: 7.58s\n",
      "367:\tlearn: 5772858.6644204\ttotal: 1.04s\tremaining: 7.57s\n",
      "368:\tlearn: 5768935.5409538\ttotal: 1.04s\tremaining: 7.57s\n",
      "369:\tlearn: 5767927.7192032\ttotal: 1.05s\tremaining: 7.56s\n",
      "370:\tlearn: 5765001.8016617\ttotal: 1.05s\tremaining: 7.56s\n",
      "371:\tlearn: 5763534.8299482\ttotal: 1.05s\tremaining: 7.56s\n",
      "372:\tlearn: 5761518.1787590\ttotal: 1.06s\tremaining: 7.55s\n",
      "373:\tlearn: 5757916.0458729\ttotal: 1.06s\tremaining: 7.55s\n",
      "374:\tlearn: 5756793.9477065\ttotal: 1.06s\tremaining: 7.54s\n",
      "375:\tlearn: 5755348.9967388\ttotal: 1.06s\tremaining: 7.54s\n",
      "376:\tlearn: 5753695.6594881\ttotal: 1.07s\tremaining: 7.54s\n",
      "377:\tlearn: 5750720.1685882\ttotal: 1.07s\tremaining: 7.54s\n",
      "378:\tlearn: 5747715.3298712\ttotal: 1.07s\tremaining: 7.53s\n",
      "379:\tlearn: 5746865.8754593\ttotal: 1.07s\tremaining: 7.53s\n",
      "380:\tlearn: 5744930.0165054\ttotal: 1.08s\tremaining: 7.53s\n",
      "381:\tlearn: 5741475.8811255\ttotal: 1.08s\tremaining: 7.52s\n",
      "382:\tlearn: 5738887.6779548\ttotal: 1.08s\tremaining: 7.52s\n",
      "383:\tlearn: 5737567.1802118\ttotal: 1.09s\tremaining: 7.52s\n",
      "384:\tlearn: 5735033.9010907\ttotal: 1.09s\tremaining: 7.52s\n",
      "385:\tlearn: 5733062.0087419\ttotal: 1.09s\tremaining: 7.51s\n",
      "386:\tlearn: 5731685.3190546\ttotal: 1.09s\tremaining: 7.51s\n",
      "387:\tlearn: 5730945.4872385\ttotal: 1.1s\tremaining: 7.51s\n",
      "388:\tlearn: 5729403.8582325\ttotal: 1.1s\tremaining: 7.5s\n",
      "389:\tlearn: 5728040.2837323\ttotal: 1.1s\tremaining: 7.5s\n",
      "390:\tlearn: 5724345.6987465\ttotal: 1.1s\tremaining: 7.49s\n",
      "391:\tlearn: 5721177.8771797\ttotal: 1.11s\tremaining: 7.49s\n",
      "392:\tlearn: 5720037.2270356\ttotal: 1.11s\tremaining: 7.49s\n",
      "393:\tlearn: 5716306.6075266\ttotal: 1.11s\tremaining: 7.48s\n",
      "394:\tlearn: 5715247.4535505\ttotal: 1.12s\tremaining: 7.48s\n",
      "395:\tlearn: 5714124.6965042\ttotal: 1.12s\tremaining: 7.48s\n",
      "396:\tlearn: 5711164.2575516\ttotal: 1.12s\tremaining: 7.47s\n",
      "397:\tlearn: 5709659.7705805\ttotal: 1.12s\tremaining: 7.47s\n",
      "398:\tlearn: 5707559.7186538\ttotal: 1.13s\tremaining: 7.47s\n",
      "399:\tlearn: 5705958.1589195\ttotal: 1.13s\tremaining: 7.46s\n",
      "400:\tlearn: 5704521.6495267\ttotal: 1.13s\tremaining: 7.46s\n",
      "401:\tlearn: 5702658.4754997\ttotal: 1.14s\tremaining: 7.46s\n",
      "402:\tlearn: 5700784.2630076\ttotal: 1.14s\tremaining: 7.45s\n",
      "403:\tlearn: 5698937.0227440\ttotal: 1.14s\tremaining: 7.45s\n",
      "404:\tlearn: 5696440.6067790\ttotal: 1.14s\tremaining: 7.44s\n",
      "405:\tlearn: 5694218.4521446\ttotal: 1.15s\tremaining: 7.44s\n",
      "406:\tlearn: 5692676.6826859\ttotal: 1.15s\tremaining: 7.44s\n",
      "407:\tlearn: 5689235.0025517\ttotal: 1.15s\tremaining: 7.43s\n",
      "408:\tlearn: 5687627.5673736\ttotal: 1.15s\tremaining: 7.43s\n",
      "409:\tlearn: 5687254.2927380\ttotal: 1.16s\tremaining: 7.42s\n",
      "410:\tlearn: 5685909.6396948\ttotal: 1.16s\tremaining: 7.42s\n",
      "411:\tlearn: 5684548.8848523\ttotal: 1.16s\tremaining: 7.42s\n",
      "412:\tlearn: 5682390.7305441\ttotal: 1.17s\tremaining: 7.42s\n",
      "413:\tlearn: 5680055.7525018\ttotal: 1.17s\tremaining: 7.41s\n",
      "414:\tlearn: 5678600.4264063\ttotal: 1.17s\tremaining: 7.41s\n",
      "415:\tlearn: 5677122.5493643\ttotal: 1.17s\tremaining: 7.4s\n",
      "416:\tlearn: 5676389.6352484\ttotal: 1.18s\tremaining: 7.4s\n",
      "417:\tlearn: 5673519.0478694\ttotal: 1.18s\tremaining: 7.39s\n",
      "418:\tlearn: 5672076.8200308\ttotal: 1.18s\tremaining: 7.39s\n",
      "419:\tlearn: 5670267.9801706\ttotal: 1.18s\tremaining: 7.39s\n",
      "420:\tlearn: 5668090.6669887\ttotal: 1.19s\tremaining: 7.39s\n",
      "421:\tlearn: 5666146.5751475\ttotal: 1.19s\tremaining: 7.38s\n",
      "422:\tlearn: 5665120.3417492\ttotal: 1.19s\tremaining: 7.38s\n",
      "423:\tlearn: 5662887.1754769\ttotal: 1.2s\tremaining: 7.38s\n",
      "424:\tlearn: 5660692.4525903\ttotal: 1.21s\tremaining: 7.44s\n",
      "425:\tlearn: 5659571.4048712\ttotal: 1.21s\tremaining: 7.43s\n",
      "426:\tlearn: 5658109.4901991\ttotal: 1.21s\tremaining: 7.43s\n",
      "427:\tlearn: 5656969.7885102\ttotal: 1.22s\tremaining: 7.43s\n",
      "428:\tlearn: 5655356.1977060\ttotal: 1.22s\tremaining: 7.43s\n",
      "429:\tlearn: 5653884.8054856\ttotal: 1.22s\tremaining: 7.43s\n",
      "430:\tlearn: 5652354.8548816\ttotal: 1.23s\tremaining: 7.42s\n",
      "431:\tlearn: 5649801.8130628\ttotal: 1.23s\tremaining: 7.42s\n",
      "432:\tlearn: 5647807.0400245\ttotal: 1.23s\tremaining: 7.42s\n",
      "433:\tlearn: 5646480.9849788\ttotal: 1.23s\tremaining: 7.41s\n",
      "434:\tlearn: 5643876.4536162\ttotal: 1.24s\tremaining: 7.41s\n",
      "435:\tlearn: 5639947.3241678\ttotal: 1.24s\tremaining: 7.4s\n",
      "436:\tlearn: 5638645.0551390\ttotal: 1.24s\tremaining: 7.4s\n",
      "437:\tlearn: 5637193.2636349\ttotal: 1.24s\tremaining: 7.39s\n",
      "438:\tlearn: 5634703.0864367\ttotal: 1.25s\tremaining: 7.39s\n",
      "439:\tlearn: 5632637.3357874\ttotal: 1.25s\tremaining: 7.39s\n",
      "440:\tlearn: 5631709.0291201\ttotal: 1.25s\tremaining: 7.38s\n",
      "441:\tlearn: 5630027.1592004\ttotal: 1.25s\tremaining: 7.38s\n",
      "442:\tlearn: 5627379.5512515\ttotal: 1.26s\tremaining: 7.37s\n",
      "443:\tlearn: 5624729.1469256\ttotal: 1.26s\tremaining: 7.37s\n",
      "444:\tlearn: 5623149.2581577\ttotal: 1.26s\tremaining: 7.37s\n",
      "445:\tlearn: 5621205.6000729\ttotal: 1.26s\tremaining: 7.37s\n",
      "446:\tlearn: 5618676.5622741\ttotal: 1.27s\tremaining: 7.36s\n",
      "447:\tlearn: 5617396.9934908\ttotal: 1.27s\tremaining: 7.36s\n",
      "448:\tlearn: 5614468.0000311\ttotal: 1.27s\tremaining: 7.35s\n",
      "449:\tlearn: 5613748.9710429\ttotal: 1.28s\tremaining: 7.35s\n",
      "450:\tlearn: 5611718.7035110\ttotal: 1.28s\tremaining: 7.34s\n",
      "451:\tlearn: 5610369.8999960\ttotal: 1.28s\tremaining: 7.34s\n",
      "452:\tlearn: 5608903.5831792\ttotal: 1.28s\tremaining: 7.33s\n",
      "453:\tlearn: 5607854.3576039\ttotal: 1.29s\tremaining: 7.33s\n",
      "454:\tlearn: 5606503.4067806\ttotal: 1.29s\tremaining: 7.33s\n",
      "455:\tlearn: 5605640.0674505\ttotal: 1.29s\tremaining: 7.32s\n",
      "456:\tlearn: 5603888.0322419\ttotal: 1.29s\tremaining: 7.32s\n",
      "457:\tlearn: 5601820.9034243\ttotal: 1.3s\tremaining: 7.31s\n",
      "458:\tlearn: 5600576.8393785\ttotal: 1.3s\tremaining: 7.31s\n",
      "459:\tlearn: 5597371.2428683\ttotal: 1.3s\tremaining: 7.3s\n",
      "460:\tlearn: 5595684.5229913\ttotal: 1.3s\tremaining: 7.3s\n",
      "461:\tlearn: 5594614.6091927\ttotal: 1.31s\tremaining: 7.3s\n",
      "462:\tlearn: 5593196.8990024\ttotal: 1.31s\tremaining: 7.3s\n",
      "463:\tlearn: 5590016.1952004\ttotal: 1.31s\tremaining: 7.3s\n",
      "464:\tlearn: 5588277.6397244\ttotal: 1.32s\tremaining: 7.3s\n",
      "465:\tlearn: 5587164.9827476\ttotal: 1.32s\tremaining: 7.3s\n",
      "466:\tlearn: 5586001.4702850\ttotal: 1.32s\tremaining: 7.29s\n",
      "467:\tlearn: 5584957.3567791\ttotal: 1.33s\tremaining: 7.29s\n",
      "468:\tlearn: 5584165.0618002\ttotal: 1.33s\tremaining: 7.29s\n",
      "469:\tlearn: 5581807.8500958\ttotal: 1.33s\tremaining: 7.29s\n",
      "470:\tlearn: 5580560.9057258\ttotal: 1.33s\tremaining: 7.28s\n",
      "471:\tlearn: 5579819.8324796\ttotal: 1.34s\tremaining: 7.28s\n",
      "472:\tlearn: 5579114.8164101\ttotal: 1.34s\tremaining: 7.28s\n",
      "473:\tlearn: 5577761.1862245\ttotal: 1.34s\tremaining: 7.28s\n",
      "474:\tlearn: 5576436.4539756\ttotal: 1.35s\tremaining: 7.28s\n",
      "475:\tlearn: 5574735.8623627\ttotal: 1.35s\tremaining: 7.28s\n",
      "476:\tlearn: 5573007.9576599\ttotal: 1.35s\tremaining: 7.27s\n",
      "477:\tlearn: 5571336.0913836\ttotal: 1.36s\tremaining: 7.27s\n",
      "478:\tlearn: 5569660.3278544\ttotal: 1.36s\tremaining: 7.27s\n",
      "479:\tlearn: 5567042.0762865\ttotal: 1.36s\tremaining: 7.27s\n",
      "480:\tlearn: 5565661.8042410\ttotal: 1.36s\tremaining: 7.26s\n",
      "481:\tlearn: 5563761.3473500\ttotal: 1.37s\tremaining: 7.26s\n",
      "482:\tlearn: 5562841.4336439\ttotal: 1.37s\tremaining: 7.26s\n",
      "483:\tlearn: 5561473.8409765\ttotal: 1.37s\tremaining: 7.25s\n",
      "484:\tlearn: 5559935.9418065\ttotal: 1.38s\tremaining: 7.25s\n",
      "485:\tlearn: 5558151.2037527\ttotal: 1.38s\tremaining: 7.24s\n",
      "486:\tlearn: 5557038.8846942\ttotal: 1.38s\tremaining: 7.24s\n",
      "487:\tlearn: 5555915.0780228\ttotal: 1.38s\tremaining: 7.23s\n",
      "488:\tlearn: 5553668.3396424\ttotal: 1.39s\tremaining: 7.23s\n",
      "489:\tlearn: 5553453.9563755\ttotal: 1.39s\tremaining: 7.23s\n",
      "490:\tlearn: 5551302.0751131\ttotal: 1.39s\tremaining: 7.23s\n",
      "491:\tlearn: 5549978.0947613\ttotal: 1.39s\tremaining: 7.23s\n",
      "492:\tlearn: 5549016.2615275\ttotal: 1.4s\tremaining: 7.22s\n",
      "493:\tlearn: 5548333.4634552\ttotal: 1.4s\tremaining: 7.22s\n",
      "494:\tlearn: 5546020.4682249\ttotal: 1.4s\tremaining: 7.22s\n",
      "495:\tlearn: 5544269.5607633\ttotal: 1.41s\tremaining: 7.21s\n",
      "496:\tlearn: 5543693.2458329\ttotal: 1.41s\tremaining: 7.21s\n",
      "497:\tlearn: 5542245.0441218\ttotal: 1.41s\tremaining: 7.21s\n",
      "498:\tlearn: 5540622.7126589\ttotal: 1.41s\tremaining: 7.21s\n",
      "499:\tlearn: 5538401.8011870\ttotal: 1.42s\tremaining: 7.2s\n",
      "500:\tlearn: 5536339.8161204\ttotal: 1.42s\tremaining: 7.2s\n",
      "501:\tlearn: 5535472.8373989\ttotal: 1.42s\tremaining: 7.2s\n",
      "502:\tlearn: 5534357.8751281\ttotal: 1.43s\tremaining: 7.2s\n",
      "503:\tlearn: 5532716.1546093\ttotal: 1.43s\tremaining: 7.2s\n",
      "504:\tlearn: 5529727.7779764\ttotal: 1.43s\tremaining: 7.19s\n",
      "505:\tlearn: 5528191.2863498\ttotal: 1.43s\tremaining: 7.19s\n",
      "506:\tlearn: 5527077.2022932\ttotal: 1.44s\tremaining: 7.18s\n",
      "507:\tlearn: 5525332.5427545\ttotal: 1.44s\tremaining: 7.18s\n",
      "508:\tlearn: 5522484.1397131\ttotal: 1.44s\tremaining: 7.17s\n",
      "509:\tlearn: 5520585.6198499\ttotal: 1.45s\tremaining: 7.17s\n",
      "510:\tlearn: 5518143.2615950\ttotal: 1.45s\tremaining: 7.17s\n",
      "511:\tlearn: 5516085.0120562\ttotal: 1.45s\tremaining: 7.17s\n",
      "512:\tlearn: 5514543.3633081\ttotal: 1.45s\tremaining: 7.16s\n",
      "513:\tlearn: 5513184.1906491\ttotal: 1.46s\tremaining: 7.16s\n",
      "514:\tlearn: 5510966.1748061\ttotal: 1.46s\tremaining: 7.16s\n",
      "515:\tlearn: 5509165.1981642\ttotal: 1.46s\tremaining: 7.15s\n",
      "516:\tlearn: 5507728.0287746\ttotal: 1.46s\tremaining: 7.15s\n",
      "517:\tlearn: 5504895.8554676\ttotal: 1.47s\tremaining: 7.15s\n",
      "518:\tlearn: 5503218.0986323\ttotal: 1.47s\tremaining: 7.15s\n",
      "519:\tlearn: 5501515.0490066\ttotal: 1.47s\tremaining: 7.14s\n",
      "520:\tlearn: 5500086.4087266\ttotal: 1.48s\tremaining: 7.14s\n",
      "521:\tlearn: 5498865.6916612\ttotal: 1.48s\tremaining: 7.14s\n",
      "522:\tlearn: 5497348.4282831\ttotal: 1.48s\tremaining: 7.13s\n",
      "523:\tlearn: 5496635.2153427\ttotal: 1.48s\tremaining: 7.13s\n",
      "524:\tlearn: 5495004.1824309\ttotal: 1.49s\tremaining: 7.14s\n",
      "525:\tlearn: 5492597.3040225\ttotal: 1.49s\tremaining: 7.14s\n",
      "526:\tlearn: 5491161.5501229\ttotal: 1.5s\tremaining: 7.13s\n",
      "527:\tlearn: 5489165.8200204\ttotal: 1.5s\tremaining: 7.13s\n",
      "528:\tlearn: 5488502.4360585\ttotal: 1.5s\tremaining: 7.14s\n",
      "529:\tlearn: 5486613.8964328\ttotal: 1.5s\tremaining: 7.13s\n",
      "530:\tlearn: 5485848.9284578\ttotal: 1.51s\tremaining: 7.13s\n",
      "531:\tlearn: 5484609.3311921\ttotal: 1.51s\tremaining: 7.13s\n",
      "532:\tlearn: 5482501.8221090\ttotal: 1.51s\tremaining: 7.12s\n",
      "533:\tlearn: 5481275.5333614\ttotal: 1.52s\tremaining: 7.12s\n",
      "534:\tlearn: 5480142.4456499\ttotal: 1.52s\tremaining: 7.12s\n",
      "535:\tlearn: 5479159.1100985\ttotal: 1.52s\tremaining: 7.11s\n",
      "536:\tlearn: 5477731.2093099\ttotal: 1.52s\tremaining: 7.11s\n",
      "537:\tlearn: 5475887.4175421\ttotal: 1.53s\tremaining: 7.11s\n",
      "538:\tlearn: 5475200.8174557\ttotal: 1.53s\tremaining: 7.1s\n",
      "539:\tlearn: 5474047.8397340\ttotal: 1.53s\tremaining: 7.1s\n",
      "540:\tlearn: 5472531.8965319\ttotal: 1.53s\tremaining: 7.1s\n",
      "541:\tlearn: 5471455.8105272\ttotal: 1.54s\tremaining: 7.09s\n",
      "542:\tlearn: 5470380.0153253\ttotal: 1.54s\tremaining: 7.09s\n",
      "543:\tlearn: 5469601.4017509\ttotal: 1.54s\tremaining: 7.08s\n",
      "544:\tlearn: 5468921.4480861\ttotal: 1.55s\tremaining: 7.08s\n",
      "545:\tlearn: 5465983.3625115\ttotal: 1.55s\tremaining: 7.08s\n",
      "546:\tlearn: 5464256.8759929\ttotal: 1.55s\tremaining: 7.07s\n",
      "547:\tlearn: 5463233.7577856\ttotal: 1.55s\tremaining: 7.07s\n",
      "548:\tlearn: 5461214.0811373\ttotal: 1.56s\tremaining: 7.06s\n",
      "549:\tlearn: 5459643.9285864\ttotal: 1.56s\tremaining: 7.06s\n",
      "550:\tlearn: 5458281.0819073\ttotal: 1.56s\tremaining: 7.06s\n",
      "551:\tlearn: 5457631.1457192\ttotal: 1.56s\tremaining: 7.05s\n",
      "552:\tlearn: 5455560.9986634\ttotal: 1.57s\tremaining: 7.05s\n",
      "553:\tlearn: 5454824.0727214\ttotal: 1.57s\tremaining: 7.05s\n",
      "554:\tlearn: 5453797.9920627\ttotal: 1.57s\tremaining: 7.05s\n",
      "555:\tlearn: 5450793.9630928\ttotal: 1.57s\tremaining: 7.04s\n",
      "556:\tlearn: 5449134.9176309\ttotal: 1.58s\tremaining: 7.04s\n",
      "557:\tlearn: 5447644.4624734\ttotal: 1.58s\tremaining: 7.04s\n",
      "558:\tlearn: 5445087.0111915\ttotal: 1.58s\tremaining: 7.03s\n",
      "559:\tlearn: 5443679.8785003\ttotal: 1.59s\tremaining: 7.03s\n",
      "560:\tlearn: 5442017.2061980\ttotal: 1.59s\tremaining: 7.03s\n",
      "561:\tlearn: 5438747.5207559\ttotal: 1.59s\tremaining: 7.03s\n",
      "562:\tlearn: 5436796.3883243\ttotal: 1.59s\tremaining: 7.02s\n",
      "563:\tlearn: 5434476.1242764\ttotal: 1.6s\tremaining: 7.01s\n",
      "564:\tlearn: 5432865.9035452\ttotal: 1.6s\tremaining: 7.01s\n",
      "565:\tlearn: 5430860.2233455\ttotal: 1.6s\tremaining: 7.01s\n",
      "566:\tlearn: 5430217.3527968\ttotal: 1.6s\tremaining: 7.01s\n",
      "567:\tlearn: 5427784.5130709\ttotal: 1.61s\tremaining: 7s\n",
      "568:\tlearn: 5425140.9454951\ttotal: 1.61s\tremaining: 7s\n",
      "569:\tlearn: 5424522.8591599\ttotal: 1.61s\tremaining: 7s\n",
      "570:\tlearn: 5422882.7156210\ttotal: 1.62s\tremaining: 6.99s\n",
      "571:\tlearn: 5420711.7667132\ttotal: 1.62s\tremaining: 6.99s\n",
      "572:\tlearn: 5419791.9587183\ttotal: 1.62s\tremaining: 6.99s\n",
      "573:\tlearn: 5417261.7923228\ttotal: 1.62s\tremaining: 6.98s\n",
      "574:\tlearn: 5415985.4861726\ttotal: 1.63s\tremaining: 6.98s\n",
      "575:\tlearn: 5414772.3597538\ttotal: 1.63s\tremaining: 6.97s\n",
      "576:\tlearn: 5413822.7267468\ttotal: 1.63s\tremaining: 6.98s\n",
      "577:\tlearn: 5412693.2618240\ttotal: 1.64s\tremaining: 6.97s\n",
      "578:\tlearn: 5411631.3122971\ttotal: 1.64s\tremaining: 6.97s\n",
      "579:\tlearn: 5409994.9951056\ttotal: 1.64s\tremaining: 6.96s\n",
      "580:\tlearn: 5408693.0066518\ttotal: 1.64s\tremaining: 6.96s\n",
      "581:\tlearn: 5407557.3877395\ttotal: 1.65s\tremaining: 6.96s\n",
      "582:\tlearn: 5405593.7518909\ttotal: 1.65s\tremaining: 6.96s\n",
      "583:\tlearn: 5403372.1453446\ttotal: 1.65s\tremaining: 6.95s\n",
      "584:\tlearn: 5401851.3951697\ttotal: 1.65s\tremaining: 6.95s\n",
      "585:\tlearn: 5400419.8557844\ttotal: 1.66s\tremaining: 6.94s\n",
      "586:\tlearn: 5399578.9510834\ttotal: 1.66s\tremaining: 6.94s\n",
      "587:\tlearn: 5397358.7256027\ttotal: 1.66s\tremaining: 6.94s\n",
      "588:\tlearn: 5395048.6625011\ttotal: 1.67s\tremaining: 6.94s\n",
      "589:\tlearn: 5393269.9840192\ttotal: 1.67s\tremaining: 6.93s\n",
      "590:\tlearn: 5391264.2497611\ttotal: 1.67s\tremaining: 6.93s\n",
      "591:\tlearn: 5389231.0965603\ttotal: 1.67s\tremaining: 6.93s\n",
      "592:\tlearn: 5387937.9549432\ttotal: 1.68s\tremaining: 6.92s\n",
      "593:\tlearn: 5385837.0629015\ttotal: 1.68s\tremaining: 6.92s\n",
      "594:\tlearn: 5385015.0227774\ttotal: 1.68s\tremaining: 6.92s\n",
      "595:\tlearn: 5383711.8215317\ttotal: 1.69s\tremaining: 6.92s\n",
      "596:\tlearn: 5382800.6490082\ttotal: 1.69s\tremaining: 6.92s\n",
      "597:\tlearn: 5381320.6349268\ttotal: 1.69s\tremaining: 6.92s\n",
      "598:\tlearn: 5379665.1979491\ttotal: 1.7s\tremaining: 6.92s\n",
      "599:\tlearn: 5379038.0037033\ttotal: 1.7s\tremaining: 6.91s\n",
      "600:\tlearn: 5377847.5468002\ttotal: 1.7s\tremaining: 6.91s\n",
      "601:\tlearn: 5376870.1179218\ttotal: 1.71s\tremaining: 6.91s\n",
      "602:\tlearn: 5375755.1668593\ttotal: 1.71s\tremaining: 6.91s\n",
      "603:\tlearn: 5374645.6879993\ttotal: 1.71s\tremaining: 6.9s\n",
      "604:\tlearn: 5373492.4368340\ttotal: 1.71s\tremaining: 6.9s\n",
      "605:\tlearn: 5372111.2904402\ttotal: 1.72s\tremaining: 6.9s\n",
      "606:\tlearn: 5370838.7287589\ttotal: 1.72s\tremaining: 6.9s\n",
      "607:\tlearn: 5368253.5082420\ttotal: 1.72s\tremaining: 6.9s\n",
      "608:\tlearn: 5366776.6688953\ttotal: 1.73s\tremaining: 6.89s\n",
      "609:\tlearn: 5364817.9738749\ttotal: 1.73s\tremaining: 6.89s\n",
      "610:\tlearn: 5362646.6920681\ttotal: 1.73s\tremaining: 6.89s\n",
      "611:\tlearn: 5360372.7806654\ttotal: 1.74s\tremaining: 6.89s\n",
      "612:\tlearn: 5357855.3624186\ttotal: 1.74s\tremaining: 6.88s\n",
      "613:\tlearn: 5356815.6564235\ttotal: 1.74s\tremaining: 6.88s\n",
      "614:\tlearn: 5355106.1319059\ttotal: 1.75s\tremaining: 6.88s\n",
      "615:\tlearn: 5353338.0321425\ttotal: 1.75s\tremaining: 6.88s\n",
      "616:\tlearn: 5352015.6054963\ttotal: 1.75s\tremaining: 6.88s\n",
      "617:\tlearn: 5351319.8111253\ttotal: 1.75s\tremaining: 6.88s\n",
      "618:\tlearn: 5349628.5812269\ttotal: 1.76s\tremaining: 6.88s\n",
      "619:\tlearn: 5348029.1677283\ttotal: 1.76s\tremaining: 6.87s\n",
      "620:\tlearn: 5346674.0288760\ttotal: 1.76s\tremaining: 6.87s\n",
      "621:\tlearn: 5345454.5988016\ttotal: 1.77s\tremaining: 6.87s\n",
      "622:\tlearn: 5344371.1276677\ttotal: 1.77s\tremaining: 6.87s\n",
      "623:\tlearn: 5342938.7115469\ttotal: 1.77s\tremaining: 6.86s\n",
      "624:\tlearn: 5341745.0093312\ttotal: 1.77s\tremaining: 6.86s\n",
      "625:\tlearn: 5340476.4876504\ttotal: 1.78s\tremaining: 6.86s\n",
      "626:\tlearn: 5338392.8470796\ttotal: 1.78s\tremaining: 6.86s\n",
      "627:\tlearn: 5336623.7751982\ttotal: 1.78s\tremaining: 6.85s\n",
      "628:\tlearn: 5335521.2060444\ttotal: 1.78s\tremaining: 6.84s\n",
      "629:\tlearn: 5333858.9854836\ttotal: 1.79s\tremaining: 6.86s\n",
      "630:\tlearn: 5332348.7194967\ttotal: 1.79s\tremaining: 6.86s\n",
      "631:\tlearn: 5330845.8449254\ttotal: 1.8s\tremaining: 6.85s\n",
      "632:\tlearn: 5329573.7389259\ttotal: 1.8s\tremaining: 6.85s\n",
      "633:\tlearn: 5327833.5219170\ttotal: 1.8s\tremaining: 6.85s\n",
      "634:\tlearn: 5326598.3484856\ttotal: 1.81s\tremaining: 6.84s\n",
      "635:\tlearn: 5325822.7607232\ttotal: 1.82s\tremaining: 6.89s\n",
      "636:\tlearn: 5324292.0118991\ttotal: 1.83s\tremaining: 6.93s\n",
      "637:\tlearn: 5323936.6485638\ttotal: 1.84s\tremaining: 6.92s\n",
      "638:\tlearn: 5322381.1194549\ttotal: 1.84s\tremaining: 6.93s\n",
      "639:\tlearn: 5321496.9532833\ttotal: 1.84s\tremaining: 6.92s\n",
      "640:\tlearn: 5320189.5272845\ttotal: 1.85s\tremaining: 6.92s\n",
      "641:\tlearn: 5318483.2699100\ttotal: 1.85s\tremaining: 6.92s\n",
      "642:\tlearn: 5316374.2044694\ttotal: 1.85s\tremaining: 6.91s\n",
      "643:\tlearn: 5315314.1482614\ttotal: 1.86s\tremaining: 6.91s\n",
      "644:\tlearn: 5314385.0896814\ttotal: 1.86s\tremaining: 6.91s\n",
      "645:\tlearn: 5312537.7829521\ttotal: 1.86s\tremaining: 6.91s\n",
      "646:\tlearn: 5310956.3779049\ttotal: 1.86s\tremaining: 6.9s\n",
      "647:\tlearn: 5309051.6276789\ttotal: 1.87s\tremaining: 6.9s\n",
      "648:\tlearn: 5306796.7761289\ttotal: 1.87s\tremaining: 6.9s\n",
      "649:\tlearn: 5305694.8267042\ttotal: 1.87s\tremaining: 6.89s\n",
      "650:\tlearn: 5304794.1124696\ttotal: 1.88s\tremaining: 6.89s\n",
      "651:\tlearn: 5303567.1510552\ttotal: 1.88s\tremaining: 6.89s\n",
      "652:\tlearn: 5302248.8853358\ttotal: 1.88s\tremaining: 6.88s\n",
      "653:\tlearn: 5300563.2744332\ttotal: 1.88s\tremaining: 6.88s\n",
      "654:\tlearn: 5299399.6255471\ttotal: 1.89s\tremaining: 6.87s\n",
      "655:\tlearn: 5297301.4483689\ttotal: 1.89s\tremaining: 6.87s\n",
      "656:\tlearn: 5296024.4707604\ttotal: 1.89s\tremaining: 6.87s\n",
      "657:\tlearn: 5294450.7632702\ttotal: 1.9s\tremaining: 6.87s\n",
      "658:\tlearn: 5292712.1034698\ttotal: 1.9s\tremaining: 6.87s\n",
      "659:\tlearn: 5290415.9655980\ttotal: 1.9s\tremaining: 6.86s\n",
      "660:\tlearn: 5288923.0648424\ttotal: 1.91s\tremaining: 6.86s\n",
      "661:\tlearn: 5288405.8835478\ttotal: 1.91s\tremaining: 6.86s\n",
      "662:\tlearn: 5287247.6161493\ttotal: 1.91s\tremaining: 6.86s\n",
      "663:\tlearn: 5285333.2898214\ttotal: 1.91s\tremaining: 6.85s\n",
      "664:\tlearn: 5284350.8846548\ttotal: 1.92s\tremaining: 6.85s\n",
      "665:\tlearn: 5283216.4789082\ttotal: 1.92s\tremaining: 6.85s\n",
      "666:\tlearn: 5282452.4929840\ttotal: 1.92s\tremaining: 6.85s\n",
      "667:\tlearn: 5281223.3196346\ttotal: 1.93s\tremaining: 6.84s\n",
      "668:\tlearn: 5279396.4965888\ttotal: 1.93s\tremaining: 6.84s\n",
      "669:\tlearn: 5277739.0191582\ttotal: 1.93s\tremaining: 6.84s\n",
      "670:\tlearn: 5276694.8967984\ttotal: 1.94s\tremaining: 6.84s\n",
      "671:\tlearn: 5275642.1808145\ttotal: 1.94s\tremaining: 6.84s\n",
      "672:\tlearn: 5273936.4563129\ttotal: 1.94s\tremaining: 6.83s\n",
      "673:\tlearn: 5272376.6690404\ttotal: 1.94s\tremaining: 6.83s\n",
      "674:\tlearn: 5270341.7131347\ttotal: 1.95s\tremaining: 6.83s\n",
      "675:\tlearn: 5268558.0776395\ttotal: 1.95s\tremaining: 6.82s\n",
      "676:\tlearn: 5266919.7347532\ttotal: 1.95s\tremaining: 6.82s\n",
      "677:\tlearn: 5265908.6614746\ttotal: 1.96s\tremaining: 6.82s\n",
      "678:\tlearn: 5264619.2146728\ttotal: 1.96s\tremaining: 6.82s\n",
      "679:\tlearn: 5263464.8095171\ttotal: 1.96s\tremaining: 6.81s\n",
      "680:\tlearn: 5262393.4077904\ttotal: 1.97s\tremaining: 6.81s\n",
      "681:\tlearn: 5260607.9007013\ttotal: 1.97s\tremaining: 6.81s\n",
      "682:\tlearn: 5259014.7444406\ttotal: 1.97s\tremaining: 6.8s\n",
      "683:\tlearn: 5258407.6399713\ttotal: 1.97s\tremaining: 6.8s\n",
      "684:\tlearn: 5256486.5910501\ttotal: 1.98s\tremaining: 6.8s\n",
      "685:\tlearn: 5255629.1191824\ttotal: 1.98s\tremaining: 6.8s\n",
      "686:\tlearn: 5253816.5540116\ttotal: 1.98s\tremaining: 6.8s\n",
      "687:\tlearn: 5252361.0799820\ttotal: 1.99s\tremaining: 6.79s\n",
      "688:\tlearn: 5250666.8794905\ttotal: 1.99s\tremaining: 6.79s\n",
      "689:\tlearn: 5248723.1203178\ttotal: 1.99s\tremaining: 6.79s\n",
      "690:\tlearn: 5247438.0279759\ttotal: 2s\tremaining: 6.79s\n",
      "691:\tlearn: 5246855.8492840\ttotal: 2s\tremaining: 6.78s\n",
      "692:\tlearn: 5245712.5008441\ttotal: 2s\tremaining: 6.78s\n",
      "693:\tlearn: 5244819.3863791\ttotal: 2s\tremaining: 6.78s\n",
      "694:\tlearn: 5242426.6387837\ttotal: 2.01s\tremaining: 6.77s\n",
      "695:\tlearn: 5241274.3687972\ttotal: 2.01s\tremaining: 6.77s\n",
      "696:\tlearn: 5239712.8597027\ttotal: 2.01s\tremaining: 6.77s\n",
      "697:\tlearn: 5238609.4797187\ttotal: 2.01s\tremaining: 6.76s\n",
      "698:\tlearn: 5236465.7781972\ttotal: 2.02s\tremaining: 6.76s\n",
      "699:\tlearn: 5234725.6323374\ttotal: 2.02s\tremaining: 6.76s\n",
      "700:\tlearn: 5232531.3440063\ttotal: 2.02s\tremaining: 6.76s\n",
      "701:\tlearn: 5230932.8840936\ttotal: 2.03s\tremaining: 6.75s\n",
      "702:\tlearn: 5229598.6831222\ttotal: 2.03s\tremaining: 6.75s\n",
      "703:\tlearn: 5228263.9339388\ttotal: 2.03s\tremaining: 6.74s\n",
      "704:\tlearn: 5227224.4948258\ttotal: 2.03s\tremaining: 6.74s\n",
      "705:\tlearn: 5225113.3252389\ttotal: 2.04s\tremaining: 6.74s\n",
      "706:\tlearn: 5223880.8293413\ttotal: 2.04s\tremaining: 6.74s\n",
      "707:\tlearn: 5222687.5888444\ttotal: 2.04s\tremaining: 6.73s\n",
      "708:\tlearn: 5221498.0839440\ttotal: 2.04s\tremaining: 6.73s\n",
      "709:\tlearn: 5220084.4500326\ttotal: 2.05s\tremaining: 6.72s\n",
      "710:\tlearn: 5218324.4781950\ttotal: 2.05s\tremaining: 6.72s\n",
      "711:\tlearn: 5217393.5889590\ttotal: 2.05s\tremaining: 6.72s\n",
      "712:\tlearn: 5216999.1984073\ttotal: 2.06s\tremaining: 6.71s\n",
      "713:\tlearn: 5215848.7913537\ttotal: 2.06s\tremaining: 6.71s\n",
      "714:\tlearn: 5214670.8752467\ttotal: 2.06s\tremaining: 6.71s\n",
      "715:\tlearn: 5214014.7950999\ttotal: 2.06s\tremaining: 6.71s\n",
      "716:\tlearn: 5212509.0775935\ttotal: 2.07s\tremaining: 6.7s\n",
      "717:\tlearn: 5209631.7299403\ttotal: 2.07s\tremaining: 6.7s\n",
      "718:\tlearn: 5208120.8263233\ttotal: 2.07s\tremaining: 6.7s\n",
      "719:\tlearn: 5206056.5560112\ttotal: 2.08s\tremaining: 6.69s\n",
      "720:\tlearn: 5205334.1778080\ttotal: 2.08s\tremaining: 6.69s\n",
      "721:\tlearn: 5203009.8566055\ttotal: 2.08s\tremaining: 6.69s\n",
      "722:\tlearn: 5202341.4911645\ttotal: 2.08s\tremaining: 6.68s\n",
      "723:\tlearn: 5201569.2642021\ttotal: 2.09s\tremaining: 6.68s\n",
      "724:\tlearn: 5200919.2129261\ttotal: 2.09s\tremaining: 6.67s\n",
      "725:\tlearn: 5198300.5153520\ttotal: 2.09s\tremaining: 6.67s\n",
      "726:\tlearn: 5196515.1713420\ttotal: 2.09s\tremaining: 6.67s\n",
      "727:\tlearn: 5194277.1126997\ttotal: 2.1s\tremaining: 6.66s\n",
      "728:\tlearn: 5193240.4093945\ttotal: 2.1s\tremaining: 6.66s\n",
      "729:\tlearn: 5192101.2248609\ttotal: 2.1s\tremaining: 6.66s\n",
      "730:\tlearn: 5190233.1505437\ttotal: 2.1s\tremaining: 6.65s\n",
      "731:\tlearn: 5188953.5185884\ttotal: 2.11s\tremaining: 6.65s\n",
      "732:\tlearn: 5187968.1890165\ttotal: 2.11s\tremaining: 6.65s\n",
      "733:\tlearn: 5187060.4478155\ttotal: 2.11s\tremaining: 6.64s\n",
      "734:\tlearn: 5185246.9599652\ttotal: 2.12s\tremaining: 6.64s\n",
      "735:\tlearn: 5183492.2312683\ttotal: 2.12s\tremaining: 6.64s\n",
      "736:\tlearn: 5182453.3244938\ttotal: 2.12s\tremaining: 6.63s\n",
      "737:\tlearn: 5181398.3406088\ttotal: 2.12s\tremaining: 6.63s\n",
      "738:\tlearn: 5179278.4014417\ttotal: 2.13s\tremaining: 6.63s\n",
      "739:\tlearn: 5178349.7172957\ttotal: 2.13s\tremaining: 6.63s\n",
      "740:\tlearn: 5177013.7294681\ttotal: 2.13s\tremaining: 6.62s\n",
      "741:\tlearn: 5176101.9755916\ttotal: 2.14s\tremaining: 6.62s\n",
      "742:\tlearn: 5174225.1276182\ttotal: 2.14s\tremaining: 6.62s\n",
      "743:\tlearn: 5172556.5172099\ttotal: 2.14s\tremaining: 6.62s\n",
      "744:\tlearn: 5171528.8687516\ttotal: 2.15s\tremaining: 6.61s\n",
      "745:\tlearn: 5170774.3766817\ttotal: 2.15s\tremaining: 6.61s\n",
      "746:\tlearn: 5168797.4172744\ttotal: 2.15s\tremaining: 6.61s\n",
      "747:\tlearn: 5167585.7262751\ttotal: 2.15s\tremaining: 6.6s\n",
      "748:\tlearn: 5166177.6360726\ttotal: 2.16s\tremaining: 6.6s\n",
      "749:\tlearn: 5165026.8983075\ttotal: 2.16s\tremaining: 6.59s\n",
      "750:\tlearn: 5163604.1909522\ttotal: 2.16s\tremaining: 6.59s\n",
      "751:\tlearn: 5161766.3780945\ttotal: 2.16s\tremaining: 6.59s\n",
      "752:\tlearn: 5159916.7896101\ttotal: 2.17s\tremaining: 6.58s\n",
      "753:\tlearn: 5158508.8679096\ttotal: 2.17s\tremaining: 6.58s\n",
      "754:\tlearn: 5157710.9283881\ttotal: 2.17s\tremaining: 6.58s\n",
      "755:\tlearn: 5156973.2589960\ttotal: 2.17s\tremaining: 6.57s\n",
      "756:\tlearn: 5155423.8971816\ttotal: 2.18s\tremaining: 6.57s\n",
      "757:\tlearn: 5154118.3041447\ttotal: 2.18s\tremaining: 6.57s\n",
      "758:\tlearn: 5152841.3670246\ttotal: 2.18s\tremaining: 6.56s\n",
      "759:\tlearn: 5151904.0054811\ttotal: 2.19s\tremaining: 6.56s\n",
      "760:\tlearn: 5150779.3955006\ttotal: 2.19s\tremaining: 6.56s\n",
      "761:\tlearn: 5149080.3046192\ttotal: 2.19s\tremaining: 6.55s\n",
      "762:\tlearn: 5147711.6964228\ttotal: 2.19s\tremaining: 6.55s\n",
      "763:\tlearn: 5145604.5250785\ttotal: 2.2s\tremaining: 6.55s\n",
      "764:\tlearn: 5144274.1567811\ttotal: 2.2s\tremaining: 6.54s\n",
      "765:\tlearn: 5143398.9923927\ttotal: 2.2s\tremaining: 6.54s\n",
      "766:\tlearn: 5141769.0183539\ttotal: 2.2s\tremaining: 6.54s\n",
      "767:\tlearn: 5139729.3597732\ttotal: 2.21s\tremaining: 6.53s\n",
      "768:\tlearn: 5138085.1979558\ttotal: 2.21s\tremaining: 6.53s\n",
      "769:\tlearn: 5136942.3726359\ttotal: 2.21s\tremaining: 6.53s\n",
      "770:\tlearn: 5135222.2130478\ttotal: 2.21s\tremaining: 6.52s\n",
      "771:\tlearn: 5135031.7682713\ttotal: 2.22s\tremaining: 6.52s\n",
      "772:\tlearn: 5133273.0936955\ttotal: 2.22s\tremaining: 6.52s\n",
      "773:\tlearn: 5132141.8745812\ttotal: 2.22s\tremaining: 6.51s\n",
      "774:\tlearn: 5131320.6878382\ttotal: 2.23s\tremaining: 6.51s\n",
      "775:\tlearn: 5130111.7929439\ttotal: 2.23s\tremaining: 6.51s\n",
      "776:\tlearn: 5127820.1630646\ttotal: 2.23s\tremaining: 6.5s\n",
      "777:\tlearn: 5126407.4180559\ttotal: 2.23s\tremaining: 6.5s\n",
      "778:\tlearn: 5125086.4319237\ttotal: 2.24s\tremaining: 6.5s\n",
      "779:\tlearn: 5123576.4033725\ttotal: 2.24s\tremaining: 6.49s\n",
      "780:\tlearn: 5122591.9070577\ttotal: 2.24s\tremaining: 6.49s\n",
      "781:\tlearn: 5121597.8104641\ttotal: 2.25s\tremaining: 6.49s\n",
      "782:\tlearn: 5119440.2348884\ttotal: 2.25s\tremaining: 6.49s\n",
      "783:\tlearn: 5117702.5453916\ttotal: 2.25s\tremaining: 6.49s\n",
      "784:\tlearn: 5116239.6771653\ttotal: 2.26s\tremaining: 6.48s\n",
      "785:\tlearn: 5115953.0286362\ttotal: 2.26s\tremaining: 6.48s\n",
      "786:\tlearn: 5113955.8106027\ttotal: 2.26s\tremaining: 6.48s\n",
      "787:\tlearn: 5112899.2342722\ttotal: 2.26s\tremaining: 6.47s\n",
      "788:\tlearn: 5111749.8956813\ttotal: 2.27s\tremaining: 6.47s\n",
      "789:\tlearn: 5110444.5336694\ttotal: 2.27s\tremaining: 6.47s\n",
      "790:\tlearn: 5108626.7720290\ttotal: 2.27s\tremaining: 6.46s\n",
      "791:\tlearn: 5106974.2226592\ttotal: 2.27s\tremaining: 6.46s\n",
      "792:\tlearn: 5104802.2035814\ttotal: 2.28s\tremaining: 6.46s\n",
      "793:\tlearn: 5103592.9660108\ttotal: 2.28s\tremaining: 6.46s\n",
      "794:\tlearn: 5102251.8492409\ttotal: 2.28s\tremaining: 6.45s\n",
      "795:\tlearn: 5100484.3098762\ttotal: 2.29s\tremaining: 6.45s\n",
      "796:\tlearn: 5099224.2793284\ttotal: 2.29s\tremaining: 6.45s\n",
      "797:\tlearn: 5097954.6855969\ttotal: 2.29s\tremaining: 6.44s\n",
      "798:\tlearn: 5095988.7356671\ttotal: 2.29s\tremaining: 6.44s\n",
      "799:\tlearn: 5094745.7711295\ttotal: 2.3s\tremaining: 6.43s\n",
      "800:\tlearn: 5093049.6085311\ttotal: 2.3s\tremaining: 6.43s\n",
      "801:\tlearn: 5092611.1470589\ttotal: 2.3s\tremaining: 6.43s\n",
      "802:\tlearn: 5091238.9409742\ttotal: 2.31s\tremaining: 6.42s\n",
      "803:\tlearn: 5090142.6929816\ttotal: 2.31s\tremaining: 6.42s\n",
      "804:\tlearn: 5089151.8732628\ttotal: 2.31s\tremaining: 6.42s\n",
      "805:\tlearn: 5087410.2823709\ttotal: 2.31s\tremaining: 6.42s\n",
      "806:\tlearn: 5086104.8340181\ttotal: 2.32s\tremaining: 6.41s\n",
      "807:\tlearn: 5085377.3634934\ttotal: 2.32s\tremaining: 6.41s\n",
      "808:\tlearn: 5084288.4750718\ttotal: 2.32s\tremaining: 6.41s\n",
      "809:\tlearn: 5083352.3465604\ttotal: 2.33s\tremaining: 6.4s\n",
      "810:\tlearn: 5081810.7701198\ttotal: 2.33s\tremaining: 6.4s\n",
      "811:\tlearn: 5079943.8214025\ttotal: 2.33s\tremaining: 6.4s\n",
      "812:\tlearn: 5078545.3942503\ttotal: 2.33s\tremaining: 6.39s\n",
      "813:\tlearn: 5077305.9701974\ttotal: 2.34s\tremaining: 6.39s\n",
      "814:\tlearn: 5075657.6332324\ttotal: 2.34s\tremaining: 6.39s\n",
      "815:\tlearn: 5074915.4307314\ttotal: 2.34s\tremaining: 6.39s\n",
      "816:\tlearn: 5074026.5000450\ttotal: 2.35s\tremaining: 6.39s\n",
      "817:\tlearn: 5072632.4223109\ttotal: 2.35s\tremaining: 6.38s\n",
      "818:\tlearn: 5071371.0676614\ttotal: 2.35s\tremaining: 6.38s\n",
      "819:\tlearn: 5070535.7365544\ttotal: 2.35s\tremaining: 6.38s\n",
      "820:\tlearn: 5070122.3731312\ttotal: 2.36s\tremaining: 6.38s\n",
      "821:\tlearn: 5068597.0146119\ttotal: 2.36s\tremaining: 6.37s\n",
      "822:\tlearn: 5067851.6217058\ttotal: 2.36s\tremaining: 6.37s\n",
      "823:\tlearn: 5066669.8780192\ttotal: 2.37s\tremaining: 6.37s\n",
      "824:\tlearn: 5066205.2401166\ttotal: 2.37s\tremaining: 6.36s\n",
      "825:\tlearn: 5064747.4807105\ttotal: 2.37s\tremaining: 6.36s\n",
      "826:\tlearn: 5063380.0995105\ttotal: 2.37s\tremaining: 6.36s\n",
      "827:\tlearn: 5062234.5456147\ttotal: 2.38s\tremaining: 6.35s\n",
      "828:\tlearn: 5061351.9755860\ttotal: 2.38s\tremaining: 6.35s\n",
      "829:\tlearn: 5059495.6699136\ttotal: 2.38s\tremaining: 6.35s\n",
      "830:\tlearn: 5058513.2213593\ttotal: 2.38s\tremaining: 6.34s\n",
      "831:\tlearn: 5057623.8489063\ttotal: 2.39s\tremaining: 6.34s\n",
      "832:\tlearn: 5056496.6457081\ttotal: 2.39s\tremaining: 6.34s\n",
      "833:\tlearn: 5054693.4082754\ttotal: 2.39s\tremaining: 6.34s\n",
      "834:\tlearn: 5053359.6013138\ttotal: 2.4s\tremaining: 6.33s\n",
      "835:\tlearn: 5052456.3692199\ttotal: 2.4s\tremaining: 6.33s\n",
      "836:\tlearn: 5051354.3221656\ttotal: 2.4s\tremaining: 6.33s\n",
      "837:\tlearn: 5050421.8946794\ttotal: 2.4s\tremaining: 6.32s\n",
      "838:\tlearn: 5048575.9165975\ttotal: 2.41s\tremaining: 6.32s\n",
      "839:\tlearn: 5048011.2711755\ttotal: 2.41s\tremaining: 6.32s\n",
      "840:\tlearn: 5047079.3162220\ttotal: 2.41s\tremaining: 6.31s\n",
      "841:\tlearn: 5045734.0520973\ttotal: 2.42s\tremaining: 6.31s\n",
      "842:\tlearn: 5044658.6722534\ttotal: 2.42s\tremaining: 6.31s\n",
      "843:\tlearn: 5043989.7747912\ttotal: 2.42s\tremaining: 6.31s\n",
      "844:\tlearn: 5042901.7644259\ttotal: 2.42s\tremaining: 6.3s\n",
      "845:\tlearn: 5041286.6615383\ttotal: 2.43s\tremaining: 6.3s\n",
      "846:\tlearn: 5039501.0445144\ttotal: 2.43s\tremaining: 6.3s\n",
      "847:\tlearn: 5038341.4574141\ttotal: 2.43s\tremaining: 6.29s\n",
      "848:\tlearn: 5036970.9536739\ttotal: 2.44s\tremaining: 6.29s\n",
      "849:\tlearn: 5036189.7558095\ttotal: 2.44s\tremaining: 6.29s\n",
      "850:\tlearn: 5034373.8526404\ttotal: 2.44s\tremaining: 6.28s\n",
      "851:\tlearn: 5033358.1069633\ttotal: 2.44s\tremaining: 6.28s\n",
      "852:\tlearn: 5032677.0023132\ttotal: 2.45s\tremaining: 6.28s\n",
      "853:\tlearn: 5031454.1893213\ttotal: 2.45s\tremaining: 6.28s\n",
      "854:\tlearn: 5030883.0963694\ttotal: 2.45s\tremaining: 6.27s\n",
      "855:\tlearn: 5029861.9146608\ttotal: 2.46s\tremaining: 6.27s\n",
      "856:\tlearn: 5028888.3327477\ttotal: 2.46s\tremaining: 6.27s\n",
      "857:\tlearn: 5027848.7103579\ttotal: 2.46s\tremaining: 6.26s\n",
      "858:\tlearn: 5025916.8225125\ttotal: 2.47s\tremaining: 6.26s\n",
      "859:\tlearn: 5024356.8405025\ttotal: 2.47s\tremaining: 6.26s\n",
      "860:\tlearn: 5023125.9813958\ttotal: 2.47s\tremaining: 6.26s\n",
      "861:\tlearn: 5021891.8317254\ttotal: 2.48s\tremaining: 6.26s\n",
      "862:\tlearn: 5020623.4217144\ttotal: 2.48s\tremaining: 6.26s\n",
      "863:\tlearn: 5018532.9301717\ttotal: 2.48s\tremaining: 6.25s\n",
      "864:\tlearn: 5018219.5959022\ttotal: 2.49s\tremaining: 6.25s\n",
      "865:\tlearn: 5017237.3289831\ttotal: 2.49s\tremaining: 6.25s\n",
      "866:\tlearn: 5015986.3375636\ttotal: 2.49s\tremaining: 6.25s\n",
      "867:\tlearn: 5015455.8946832\ttotal: 2.5s\tremaining: 6.25s\n",
      "868:\tlearn: 5013742.5538043\ttotal: 2.5s\tremaining: 6.24s\n",
      "869:\tlearn: 5012376.4498228\ttotal: 2.51s\tremaining: 6.26s\n",
      "870:\tlearn: 5011378.1562938\ttotal: 2.51s\tremaining: 6.25s\n",
      "871:\tlearn: 5010585.2094584\ttotal: 2.51s\tremaining: 6.25s\n",
      "872:\tlearn: 5009121.9609557\ttotal: 2.52s\tremaining: 6.25s\n",
      "873:\tlearn: 5008264.5286648\ttotal: 2.52s\tremaining: 6.25s\n",
      "874:\tlearn: 5007346.2252114\ttotal: 2.52s\tremaining: 6.24s\n",
      "875:\tlearn: 5006565.3619279\ttotal: 2.52s\tremaining: 6.24s\n",
      "876:\tlearn: 5004808.7436007\ttotal: 2.53s\tremaining: 6.24s\n",
      "877:\tlearn: 5003698.9475829\ttotal: 2.53s\tremaining: 6.23s\n",
      "878:\tlearn: 5002249.0291805\ttotal: 2.53s\tremaining: 6.23s\n",
      "879:\tlearn: 5000714.1030590\ttotal: 2.54s\tremaining: 6.23s\n",
      "880:\tlearn: 4999315.0628065\ttotal: 2.54s\tremaining: 6.22s\n",
      "881:\tlearn: 4998759.1256205\ttotal: 2.54s\tremaining: 6.22s\n",
      "882:\tlearn: 4997995.1361877\ttotal: 2.54s\tremaining: 6.22s\n",
      "883:\tlearn: 4996987.0724204\ttotal: 2.55s\tremaining: 6.21s\n",
      "884:\tlearn: 4995039.6757586\ttotal: 2.55s\tremaining: 6.21s\n",
      "885:\tlearn: 4993865.1944128\ttotal: 2.55s\tremaining: 6.21s\n",
      "886:\tlearn: 4992806.2947347\ttotal: 2.55s\tremaining: 6.2s\n",
      "887:\tlearn: 4991473.4845404\ttotal: 2.56s\tremaining: 6.2s\n",
      "888:\tlearn: 4990560.2328252\ttotal: 2.56s\tremaining: 6.2s\n",
      "889:\tlearn: 4990025.3092045\ttotal: 2.56s\tremaining: 6.19s\n",
      "890:\tlearn: 4989004.1675851\ttotal: 2.56s\tremaining: 6.19s\n",
      "891:\tlearn: 4987708.5912777\ttotal: 2.57s\tremaining: 6.18s\n",
      "892:\tlearn: 4986751.8095226\ttotal: 2.57s\tremaining: 6.18s\n",
      "893:\tlearn: 4985736.3152030\ttotal: 2.57s\tremaining: 6.18s\n",
      "894:\tlearn: 4984938.9167222\ttotal: 2.58s\tremaining: 6.17s\n",
      "895:\tlearn: 4983939.3103793\ttotal: 2.58s\tremaining: 6.17s\n",
      "896:\tlearn: 4983294.9284671\ttotal: 2.58s\tremaining: 6.17s\n",
      "897:\tlearn: 4981840.3605773\ttotal: 2.58s\tremaining: 6.16s\n",
      "898:\tlearn: 4980971.0018853\ttotal: 2.58s\tremaining: 6.16s\n",
      "899:\tlearn: 4979826.6805600\ttotal: 2.59s\tremaining: 6.16s\n",
      "900:\tlearn: 4978782.8220625\ttotal: 2.59s\tremaining: 6.16s\n",
      "901:\tlearn: 4977445.3718762\ttotal: 2.59s\tremaining: 6.15s\n",
      "902:\tlearn: 4976645.1159176\ttotal: 2.6s\tremaining: 6.15s\n",
      "903:\tlearn: 4975410.4637628\ttotal: 2.6s\tremaining: 6.15s\n",
      "904:\tlearn: 4973929.1986732\ttotal: 2.6s\tremaining: 6.14s\n",
      "905:\tlearn: 4972911.4780376\ttotal: 2.61s\tremaining: 6.14s\n",
      "906:\tlearn: 4971804.6688522\ttotal: 2.61s\tremaining: 6.14s\n",
      "907:\tlearn: 4970804.1000663\ttotal: 2.61s\tremaining: 6.13s\n",
      "908:\tlearn: 4969446.4268531\ttotal: 2.61s\tremaining: 6.13s\n",
      "909:\tlearn: 4968206.2160372\ttotal: 2.62s\tremaining: 6.13s\n",
      "910:\tlearn: 4967443.6426381\ttotal: 2.62s\tremaining: 6.12s\n",
      "911:\tlearn: 4966214.8686189\ttotal: 2.62s\tremaining: 6.12s\n",
      "912:\tlearn: 4964883.7404918\ttotal: 2.62s\tremaining: 6.12s\n",
      "913:\tlearn: 4964042.3433093\ttotal: 2.63s\tremaining: 6.11s\n",
      "914:\tlearn: 4962986.8718967\ttotal: 2.63s\tremaining: 6.11s\n",
      "915:\tlearn: 4961654.0620498\ttotal: 2.63s\tremaining: 6.11s\n",
      "916:\tlearn: 4960002.8909730\ttotal: 2.63s\tremaining: 6.1s\n",
      "917:\tlearn: 4958513.7049581\ttotal: 2.64s\tremaining: 6.1s\n",
      "918:\tlearn: 4957588.3774825\ttotal: 2.64s\tremaining: 6.1s\n",
      "919:\tlearn: 4956232.5303580\ttotal: 2.64s\tremaining: 6.09s\n",
      "920:\tlearn: 4955520.3424960\ttotal: 2.65s\tremaining: 6.09s\n",
      "921:\tlearn: 4954808.6665369\ttotal: 2.65s\tremaining: 6.09s\n",
      "922:\tlearn: 4953611.9603612\ttotal: 2.65s\tremaining: 6.08s\n",
      "923:\tlearn: 4952463.8879073\ttotal: 2.65s\tremaining: 6.08s\n",
      "924:\tlearn: 4950881.2894386\ttotal: 2.66s\tremaining: 6.08s\n",
      "925:\tlearn: 4949622.0067918\ttotal: 2.66s\tremaining: 6.08s\n",
      "926:\tlearn: 4948933.7682674\ttotal: 2.66s\tremaining: 6.07s\n",
      "927:\tlearn: 4948521.0823027\ttotal: 2.67s\tremaining: 6.07s\n",
      "928:\tlearn: 4947143.5526316\ttotal: 2.67s\tremaining: 6.07s\n",
      "929:\tlearn: 4945713.7761165\ttotal: 2.67s\tremaining: 6.06s\n",
      "930:\tlearn: 4944767.6693350\ttotal: 2.67s\tremaining: 6.06s\n",
      "931:\tlearn: 4943297.6716220\ttotal: 2.68s\tremaining: 6.06s\n",
      "932:\tlearn: 4941961.2404113\ttotal: 2.68s\tremaining: 6.05s\n",
      "933:\tlearn: 4941100.7352611\ttotal: 2.68s\tremaining: 6.05s\n",
      "934:\tlearn: 4940299.7003438\ttotal: 2.68s\tremaining: 6.05s\n",
      "935:\tlearn: 4939550.1070969\ttotal: 2.69s\tremaining: 6.04s\n",
      "936:\tlearn: 4937090.5925153\ttotal: 2.69s\tremaining: 6.04s\n",
      "937:\tlearn: 4936255.3591078\ttotal: 2.69s\tremaining: 6.04s\n",
      "938:\tlearn: 4935186.0383974\ttotal: 2.69s\tremaining: 6.03s\n",
      "939:\tlearn: 4933907.5111197\ttotal: 2.7s\tremaining: 6.03s\n",
      "940:\tlearn: 4932430.5473960\ttotal: 2.7s\tremaining: 6.03s\n",
      "941:\tlearn: 4931023.2966101\ttotal: 2.7s\tremaining: 6.02s\n",
      "942:\tlearn: 4929301.9911485\ttotal: 2.71s\tremaining: 6.02s\n",
      "943:\tlearn: 4928423.0733891\ttotal: 2.71s\tremaining: 6.02s\n",
      "944:\tlearn: 4927503.8828724\ttotal: 2.71s\tremaining: 6.02s\n",
      "945:\tlearn: 4925909.3857372\ttotal: 2.71s\tremaining: 6.01s\n",
      "946:\tlearn: 4925262.8433609\ttotal: 2.72s\tremaining: 6.01s\n",
      "947:\tlearn: 4924118.2966074\ttotal: 2.72s\tremaining: 6.01s\n",
      "948:\tlearn: 4922308.1407258\ttotal: 2.72s\tremaining: 6s\n",
      "949:\tlearn: 4920745.0128213\ttotal: 2.73s\tremaining: 6s\n",
      "950:\tlearn: 4919566.6276410\ttotal: 2.73s\tremaining: 6s\n",
      "951:\tlearn: 4918413.3886686\ttotal: 2.73s\tremaining: 5.99s\n",
      "952:\tlearn: 4916984.9757275\ttotal: 2.73s\tremaining: 5.99s\n",
      "953:\tlearn: 4916300.8568105\ttotal: 2.74s\tremaining: 5.99s\n",
      "954:\tlearn: 4915658.5624087\ttotal: 2.74s\tremaining: 5.98s\n",
      "955:\tlearn: 4914918.8629015\ttotal: 2.74s\tremaining: 5.98s\n",
      "956:\tlearn: 4914145.5017220\ttotal: 2.75s\tremaining: 5.98s\n",
      "957:\tlearn: 4912796.2401051\ttotal: 2.75s\tremaining: 5.97s\n",
      "958:\tlearn: 4911889.0841683\ttotal: 2.75s\tremaining: 5.97s\n",
      "959:\tlearn: 4911216.6416335\ttotal: 2.75s\tremaining: 5.97s\n",
      "960:\tlearn: 4910310.6841095\ttotal: 2.75s\tremaining: 5.96s\n",
      "961:\tlearn: 4909204.7839313\ttotal: 2.76s\tremaining: 5.96s\n",
      "962:\tlearn: 4908204.3829970\ttotal: 2.76s\tremaining: 5.96s\n",
      "963:\tlearn: 4906605.8145784\ttotal: 2.76s\tremaining: 5.96s\n",
      "964:\tlearn: 4905783.4291693\ttotal: 2.77s\tremaining: 5.95s\n",
      "965:\tlearn: 4904383.7862003\ttotal: 2.77s\tremaining: 5.95s\n",
      "966:\tlearn: 4902847.0305351\ttotal: 2.77s\tremaining: 5.95s\n",
      "967:\tlearn: 4902133.8335146\ttotal: 2.78s\tremaining: 5.95s\n",
      "968:\tlearn: 4901170.9138082\ttotal: 2.78s\tremaining: 5.94s\n",
      "969:\tlearn: 4899807.0837699\ttotal: 2.78s\tremaining: 5.94s\n",
      "970:\tlearn: 4898704.3250889\ttotal: 2.78s\tremaining: 5.93s\n",
      "971:\tlearn: 4898020.0591694\ttotal: 2.79s\tremaining: 5.93s\n",
      "972:\tlearn: 4897379.5355657\ttotal: 2.79s\tremaining: 5.93s\n",
      "973:\tlearn: 4896921.6861698\ttotal: 2.79s\tremaining: 5.93s\n",
      "974:\tlearn: 4896372.3129782\ttotal: 2.79s\tremaining: 5.92s\n",
      "975:\tlearn: 4895232.5511874\ttotal: 2.8s\tremaining: 5.92s\n",
      "976:\tlearn: 4894452.4198251\ttotal: 2.8s\tremaining: 5.92s\n",
      "977:\tlearn: 4893963.5897475\ttotal: 2.8s\tremaining: 5.91s\n",
      "978:\tlearn: 4892389.2682898\ttotal: 2.81s\tremaining: 5.91s\n",
      "979:\tlearn: 4891355.4809569\ttotal: 2.81s\tremaining: 5.91s\n",
      "980:\tlearn: 4890693.2008156\ttotal: 2.81s\tremaining: 5.9s\n",
      "981:\tlearn: 4889640.8959286\ttotal: 2.81s\tremaining: 5.9s\n",
      "982:\tlearn: 4887885.0314939\ttotal: 2.82s\tremaining: 5.9s\n",
      "983:\tlearn: 4886575.2178698\ttotal: 2.82s\tremaining: 5.89s\n",
      "984:\tlearn: 4885273.6454820\ttotal: 2.82s\tremaining: 5.89s\n",
      "985:\tlearn: 4884550.0081763\ttotal: 2.83s\tremaining: 5.89s\n",
      "986:\tlearn: 4884063.4343510\ttotal: 2.83s\tremaining: 5.89s\n",
      "987:\tlearn: 4882467.9174034\ttotal: 2.83s\tremaining: 5.88s\n",
      "988:\tlearn: 4881334.2214639\ttotal: 2.83s\tremaining: 5.88s\n",
      "989:\tlearn: 4879842.0800030\ttotal: 2.84s\tremaining: 5.88s\n",
      "990:\tlearn: 4878657.3573543\ttotal: 2.84s\tremaining: 5.87s\n",
      "991:\tlearn: 4878018.2549116\ttotal: 2.84s\tremaining: 5.87s\n",
      "992:\tlearn: 4876707.9359356\ttotal: 2.85s\tremaining: 5.87s\n",
      "993:\tlearn: 4876090.2580451\ttotal: 2.85s\tremaining: 5.87s\n",
      "994:\tlearn: 4875900.0365960\ttotal: 2.85s\tremaining: 5.86s\n",
      "995:\tlearn: 4874780.1963123\ttotal: 2.85s\tremaining: 5.86s\n",
      "996:\tlearn: 4873149.6686946\ttotal: 2.86s\tremaining: 5.86s\n",
      "997:\tlearn: 4872058.6719986\ttotal: 2.86s\tremaining: 5.85s\n",
      "998:\tlearn: 4870566.8717019\ttotal: 2.86s\tremaining: 5.85s\n",
      "999:\tlearn: 4869582.3753624\ttotal: 2.86s\tremaining: 5.85s\n",
      "1000:\tlearn: 4868273.3861275\ttotal: 2.87s\tremaining: 5.84s\n",
      "1001:\tlearn: 4867502.4404578\ttotal: 2.87s\tremaining: 5.84s\n",
      "1002:\tlearn: 4866338.5491240\ttotal: 2.87s\tremaining: 5.84s\n",
      "1003:\tlearn: 4865320.7657990\ttotal: 2.88s\tremaining: 5.83s\n",
      "1004:\tlearn: 4863961.4606286\ttotal: 2.88s\tremaining: 5.83s\n",
      "1005:\tlearn: 4863133.9016111\ttotal: 2.88s\tremaining: 5.83s\n",
      "1006:\tlearn: 4862193.0506020\ttotal: 2.88s\tremaining: 5.82s\n",
      "1007:\tlearn: 4861205.2434965\ttotal: 2.89s\tremaining: 5.82s\n",
      "1008:\tlearn: 4860371.8862950\ttotal: 2.89s\tremaining: 5.82s\n",
      "1009:\tlearn: 4859113.5915181\ttotal: 2.89s\tremaining: 5.81s\n",
      "1010:\tlearn: 4858591.7700206\ttotal: 2.89s\tremaining: 5.81s\n",
      "1011:\tlearn: 4857958.1420526\ttotal: 2.9s\tremaining: 5.81s\n",
      "1012:\tlearn: 4857292.8944360\ttotal: 2.9s\tremaining: 5.8s\n",
      "1013:\tlearn: 4856190.4888619\ttotal: 2.9s\tremaining: 5.8s\n",
      "1014:\tlearn: 4855165.6059806\ttotal: 2.9s\tremaining: 5.8s\n",
      "1015:\tlearn: 4854642.5279253\ttotal: 2.91s\tremaining: 5.79s\n",
      "1016:\tlearn: 4853219.1447563\ttotal: 2.91s\tremaining: 5.79s\n",
      "1017:\tlearn: 4852730.0870344\ttotal: 2.91s\tremaining: 5.79s\n",
      "1018:\tlearn: 4852085.4716984\ttotal: 2.92s\tremaining: 5.78s\n",
      "1019:\tlearn: 4851218.9089342\ttotal: 2.92s\tremaining: 5.78s\n",
      "1020:\tlearn: 4850550.5189472\ttotal: 2.92s\tremaining: 5.78s\n",
      "1021:\tlearn: 4849133.6508549\ttotal: 2.92s\tremaining: 5.78s\n",
      "1022:\tlearn: 4848252.5201663\ttotal: 2.93s\tremaining: 5.77s\n",
      "1023:\tlearn: 4847061.8021561\ttotal: 2.93s\tremaining: 5.77s\n",
      "1024:\tlearn: 4845405.1771190\ttotal: 2.93s\tremaining: 5.77s\n",
      "1025:\tlearn: 4844563.9887316\ttotal: 2.93s\tremaining: 5.76s\n",
      "1026:\tlearn: 4843440.0180878\ttotal: 2.94s\tremaining: 5.76s\n",
      "1027:\tlearn: 4842344.7032994\ttotal: 2.94s\tremaining: 5.76s\n",
      "1028:\tlearn: 4841522.6487853\ttotal: 2.94s\tremaining: 5.75s\n",
      "1029:\tlearn: 4840992.8648084\ttotal: 2.94s\tremaining: 5.75s\n",
      "1030:\tlearn: 4839876.5595155\ttotal: 2.95s\tremaining: 5.75s\n",
      "1031:\tlearn: 4838644.1445603\ttotal: 2.95s\tremaining: 5.74s\n",
      "1032:\tlearn: 4837502.5955848\ttotal: 2.95s\tremaining: 5.74s\n",
      "1033:\tlearn: 4835643.9398090\ttotal: 2.96s\tremaining: 5.74s\n",
      "1034:\tlearn: 4834479.7812681\ttotal: 2.96s\tremaining: 5.74s\n",
      "1035:\tlearn: 4834079.8589732\ttotal: 2.96s\tremaining: 5.73s\n",
      "1036:\tlearn: 4833285.1534331\ttotal: 2.96s\tremaining: 5.73s\n",
      "1037:\tlearn: 4832555.8775265\ttotal: 2.97s\tremaining: 5.72s\n",
      "1038:\tlearn: 4831901.9083688\ttotal: 2.97s\tremaining: 5.72s\n",
      "1039:\tlearn: 4830715.2675960\ttotal: 2.97s\tremaining: 5.72s\n",
      "1040:\tlearn: 4829878.0216822\ttotal: 2.97s\tremaining: 5.71s\n",
      "1041:\tlearn: 4829708.0027681\ttotal: 2.98s\tremaining: 5.71s\n",
      "1042:\tlearn: 4828653.6802753\ttotal: 2.98s\tremaining: 5.71s\n",
      "1043:\tlearn: 4828027.8893763\ttotal: 2.98s\tremaining: 5.71s\n",
      "1044:\tlearn: 4826402.4440403\ttotal: 2.98s\tremaining: 5.7s\n",
      "1045:\tlearn: 4825374.0238369\ttotal: 2.99s\tremaining: 5.7s\n",
      "1046:\tlearn: 4824761.3974506\ttotal: 2.99s\tremaining: 5.7s\n",
      "1047:\tlearn: 4823786.7338559\ttotal: 2.99s\tremaining: 5.69s\n",
      "1048:\tlearn: 4822605.4294330\ttotal: 3s\tremaining: 5.69s\n",
      "1049:\tlearn: 4822540.1919498\ttotal: 3s\tremaining: 5.69s\n",
      "1050:\tlearn: 4821792.1927279\ttotal: 3s\tremaining: 5.68s\n",
      "1051:\tlearn: 4820419.4053060\ttotal: 3s\tremaining: 5.68s\n",
      "1052:\tlearn: 4818956.9912902\ttotal: 3.01s\tremaining: 5.68s\n",
      "1053:\tlearn: 4817242.8705360\ttotal: 3.01s\tremaining: 5.67s\n",
      "1054:\tlearn: 4815906.6019182\ttotal: 3.01s\tremaining: 5.67s\n",
      "1055:\tlearn: 4814854.2805985\ttotal: 3.02s\tremaining: 5.67s\n",
      "1056:\tlearn: 4813932.5671549\ttotal: 3.02s\tremaining: 5.66s\n",
      "1057:\tlearn: 4812479.1347773\ttotal: 3.02s\tremaining: 5.66s\n",
      "1058:\tlearn: 4811432.2734613\ttotal: 3.02s\tremaining: 5.66s\n",
      "1059:\tlearn: 4810936.2211127\ttotal: 3.02s\tremaining: 5.65s\n",
      "1060:\tlearn: 4809845.5456790\ttotal: 3.03s\tremaining: 5.65s\n",
      "1061:\tlearn: 4808853.8352690\ttotal: 3.03s\tremaining: 5.65s\n",
      "1062:\tlearn: 4807981.5431022\ttotal: 3.03s\tremaining: 5.65s\n",
      "1063:\tlearn: 4807285.8906172\ttotal: 3.04s\tremaining: 5.64s\n",
      "1064:\tlearn: 4806640.1519070\ttotal: 3.04s\tremaining: 5.64s\n",
      "1065:\tlearn: 4806356.9771430\ttotal: 3.04s\tremaining: 5.64s\n",
      "1066:\tlearn: 4805816.8037693\ttotal: 3.04s\tremaining: 5.63s\n",
      "1067:\tlearn: 4804323.6032568\ttotal: 3.05s\tremaining: 5.63s\n",
      "1068:\tlearn: 4803029.4914040\ttotal: 3.05s\tremaining: 5.63s\n",
      "1069:\tlearn: 4802442.9364610\ttotal: 3.05s\tremaining: 5.62s\n",
      "1070:\tlearn: 4801686.1509019\ttotal: 3.06s\tremaining: 5.62s\n",
      "1071:\tlearn: 4800921.3848742\ttotal: 3.06s\tremaining: 5.62s\n",
      "1072:\tlearn: 4799884.6409440\ttotal: 3.06s\tremaining: 5.62s\n",
      "1073:\tlearn: 4799106.8496457\ttotal: 3.06s\tremaining: 5.62s\n",
      "1074:\tlearn: 4798618.5437894\ttotal: 3.07s\tremaining: 5.61s\n",
      "1075:\tlearn: 4797848.4229837\ttotal: 3.07s\tremaining: 5.61s\n",
      "1076:\tlearn: 4796531.6866293\ttotal: 3.07s\tremaining: 5.61s\n",
      "1077:\tlearn: 4795311.9511928\ttotal: 3.08s\tremaining: 5.6s\n",
      "1078:\tlearn: 4794593.9807326\ttotal: 3.08s\tremaining: 5.6s\n",
      "1079:\tlearn: 4793569.6094653\ttotal: 3.08s\tremaining: 5.6s\n",
      "1080:\tlearn: 4792279.8268681\ttotal: 3.08s\tremaining: 5.59s\n",
      "1081:\tlearn: 4790279.6227467\ttotal: 3.09s\tremaining: 5.59s\n",
      "1082:\tlearn: 4789936.8432309\ttotal: 3.09s\tremaining: 5.59s\n",
      "1083:\tlearn: 4789120.9235063\ttotal: 3.09s\tremaining: 5.58s\n",
      "1084:\tlearn: 4788156.0336358\ttotal: 3.1s\tremaining: 5.58s\n",
      "1085:\tlearn: 4786952.1220267\ttotal: 3.1s\tremaining: 5.58s\n",
      "1086:\tlearn: 4786118.5802371\ttotal: 3.1s\tremaining: 5.57s\n",
      "1087:\tlearn: 4785265.3738817\ttotal: 3.1s\tremaining: 5.57s\n",
      "1088:\tlearn: 4784445.7676616\ttotal: 3.11s\tremaining: 5.57s\n",
      "1089:\tlearn: 4783645.4385841\ttotal: 3.11s\tremaining: 5.56s\n",
      "1090:\tlearn: 4782922.8743638\ttotal: 3.11s\tremaining: 5.56s\n",
      "1091:\tlearn: 4781856.1582899\ttotal: 3.11s\tremaining: 5.56s\n",
      "1092:\tlearn: 4781036.1612102\ttotal: 3.12s\tremaining: 5.56s\n",
      "1093:\tlearn: 4780070.3843069\ttotal: 3.12s\tremaining: 5.55s\n",
      "1094:\tlearn: 4778818.5440456\ttotal: 3.12s\tremaining: 5.55s\n",
      "1095:\tlearn: 4778306.8730583\ttotal: 3.13s\tremaining: 5.55s\n",
      "1096:\tlearn: 4777167.8605337\ttotal: 3.13s\tremaining: 5.54s\n",
      "1097:\tlearn: 4776710.5875665\ttotal: 3.13s\tremaining: 5.54s\n",
      "1098:\tlearn: 4776017.4112719\ttotal: 3.13s\tremaining: 5.54s\n",
      "1099:\tlearn: 4775059.9125260\ttotal: 3.14s\tremaining: 5.54s\n",
      "1100:\tlearn: 4773889.4855390\ttotal: 3.14s\tremaining: 5.53s\n",
      "1101:\tlearn: 4772684.6103514\ttotal: 3.14s\tremaining: 5.53s\n",
      "1102:\tlearn: 4771679.5384310\ttotal: 3.15s\tremaining: 5.53s\n",
      "1103:\tlearn: 4770582.4813083\ttotal: 3.15s\tremaining: 5.52s\n",
      "1104:\tlearn: 4769092.6890312\ttotal: 3.15s\tremaining: 5.52s\n",
      "1105:\tlearn: 4768222.5811642\ttotal: 3.15s\tremaining: 5.52s\n",
      "1106:\tlearn: 4767092.6242400\ttotal: 3.16s\tremaining: 5.51s\n",
      "1107:\tlearn: 4766367.2648653\ttotal: 3.16s\tremaining: 5.51s\n",
      "1108:\tlearn: 4765873.1524797\ttotal: 3.16s\tremaining: 5.51s\n",
      "1109:\tlearn: 4765631.7680547\ttotal: 3.17s\tremaining: 5.51s\n",
      "1110:\tlearn: 4764822.8613160\ttotal: 3.17s\tremaining: 5.5s\n",
      "1111:\tlearn: 4764261.5338788\ttotal: 3.17s\tremaining: 5.5s\n",
      "1112:\tlearn: 4763499.8118072\ttotal: 3.17s\tremaining: 5.5s\n",
      "1113:\tlearn: 4762136.8348575\ttotal: 3.18s\tremaining: 5.5s\n",
      "1114:\tlearn: 4761412.3234371\ttotal: 3.18s\tremaining: 5.49s\n",
      "1115:\tlearn: 4759851.2531624\ttotal: 3.18s\tremaining: 5.49s\n",
      "1116:\tlearn: 4758915.9966934\ttotal: 3.19s\tremaining: 5.49s\n",
      "1117:\tlearn: 4757887.1598857\ttotal: 3.19s\tremaining: 5.48s\n",
      "1118:\tlearn: 4756734.1423512\ttotal: 3.19s\tremaining: 5.48s\n",
      "1119:\tlearn: 4755474.5447229\ttotal: 3.19s\tremaining: 5.48s\n",
      "1120:\tlearn: 4754458.0631778\ttotal: 3.2s\tremaining: 5.48s\n",
      "1121:\tlearn: 4753804.6720769\ttotal: 3.2s\tremaining: 5.47s\n",
      "1122:\tlearn: 4753558.1663016\ttotal: 3.2s\tremaining: 5.47s\n",
      "1123:\tlearn: 4752880.8228347\ttotal: 3.21s\tremaining: 5.47s\n",
      "1124:\tlearn: 4752072.3670659\ttotal: 3.21s\tremaining: 5.46s\n",
      "1125:\tlearn: 4750938.5151767\ttotal: 3.21s\tremaining: 5.46s\n",
      "1126:\tlearn: 4749718.7524903\ttotal: 3.21s\tremaining: 5.46s\n",
      "1127:\tlearn: 4748714.2725197\ttotal: 3.22s\tremaining: 5.45s\n",
      "1128:\tlearn: 4747043.7928164\ttotal: 3.22s\tremaining: 5.45s\n",
      "1129:\tlearn: 4745833.8571337\ttotal: 3.22s\tremaining: 5.45s\n",
      "1130:\tlearn: 4744862.6720996\ttotal: 3.22s\tremaining: 5.45s\n",
      "1131:\tlearn: 4744594.2986365\ttotal: 3.24s\tremaining: 5.47s\n",
      "1132:\tlearn: 4744068.2909038\ttotal: 3.24s\tremaining: 5.46s\n",
      "1133:\tlearn: 4743242.3343671\ttotal: 3.25s\tremaining: 5.46s\n",
      "1134:\tlearn: 4742502.3923419\ttotal: 3.25s\tremaining: 5.46s\n",
      "1135:\tlearn: 4741933.3478801\ttotal: 3.25s\tremaining: 5.45s\n",
      "1136:\tlearn: 4741182.1245252\ttotal: 3.25s\tremaining: 5.45s\n",
      "1137:\tlearn: 4740825.4942870\ttotal: 3.26s\tremaining: 5.45s\n",
      "1138:\tlearn: 4739684.4794460\ttotal: 3.26s\tremaining: 5.44s\n",
      "1139:\tlearn: 4738662.3953377\ttotal: 3.26s\tremaining: 5.44s\n",
      "1140:\tlearn: 4737658.2084691\ttotal: 3.27s\tremaining: 5.44s\n",
      "1141:\tlearn: 4736392.6689275\ttotal: 3.27s\tremaining: 5.43s\n",
      "1142:\tlearn: 4735155.6095534\ttotal: 3.27s\tremaining: 5.43s\n",
      "1143:\tlearn: 4734693.1225642\ttotal: 3.27s\tremaining: 5.43s\n",
      "1144:\tlearn: 4734125.9081741\ttotal: 3.28s\tremaining: 5.43s\n",
      "1145:\tlearn: 4733371.4888768\ttotal: 3.28s\tremaining: 5.42s\n",
      "1146:\tlearn: 4732770.0305426\ttotal: 3.28s\tremaining: 5.42s\n",
      "1147:\tlearn: 4731942.0969114\ttotal: 3.29s\tremaining: 5.42s\n",
      "1148:\tlearn: 4730341.2751022\ttotal: 3.29s\tremaining: 5.42s\n",
      "1149:\tlearn: 4729865.4772869\ttotal: 3.29s\tremaining: 5.42s\n",
      "1150:\tlearn: 4728703.0798142\ttotal: 3.3s\tremaining: 5.42s\n",
      "1151:\tlearn: 4727704.2824580\ttotal: 3.3s\tremaining: 5.41s\n",
      "1152:\tlearn: 4726854.3634491\ttotal: 3.31s\tremaining: 5.41s\n",
      "1153:\tlearn: 4725981.7867517\ttotal: 3.31s\tremaining: 5.41s\n",
      "1154:\tlearn: 4724450.6525866\ttotal: 3.31s\tremaining: 5.41s\n",
      "1155:\tlearn: 4723788.7184335\ttotal: 3.31s\tremaining: 5.4s\n",
      "1156:\tlearn: 4722904.0478176\ttotal: 3.32s\tremaining: 5.4s\n",
      "1157:\tlearn: 4722355.7109155\ttotal: 3.32s\tremaining: 5.4s\n",
      "1158:\tlearn: 4721022.5597025\ttotal: 3.32s\tremaining: 5.39s\n",
      "1159:\tlearn: 4720355.8161132\ttotal: 3.32s\tremaining: 5.39s\n",
      "1160:\tlearn: 4719662.4609960\ttotal: 3.33s\tremaining: 5.39s\n",
      "1161:\tlearn: 4718902.2929662\ttotal: 3.33s\tremaining: 5.38s\n",
      "1162:\tlearn: 4717956.3627024\ttotal: 3.33s\tremaining: 5.38s\n",
      "1163:\tlearn: 4717456.2877333\ttotal: 3.33s\tremaining: 5.38s\n",
      "1164:\tlearn: 4716978.1032291\ttotal: 3.34s\tremaining: 5.37s\n",
      "1165:\tlearn: 4715957.9352620\ttotal: 3.34s\tremaining: 5.37s\n",
      "1166:\tlearn: 4715376.7897442\ttotal: 3.34s\tremaining: 5.37s\n",
      "1167:\tlearn: 4713419.1291006\ttotal: 3.34s\tremaining: 5.36s\n",
      "1168:\tlearn: 4711969.9600880\ttotal: 3.35s\tremaining: 5.36s\n",
      "1169:\tlearn: 4710889.7435895\ttotal: 3.35s\tremaining: 5.36s\n",
      "1170:\tlearn: 4710163.6288471\ttotal: 3.35s\tremaining: 5.35s\n",
      "1171:\tlearn: 4708941.0798736\ttotal: 3.35s\tremaining: 5.35s\n",
      "1172:\tlearn: 4707993.4914699\ttotal: 3.36s\tremaining: 5.35s\n",
      "1173:\tlearn: 4706888.5741175\ttotal: 3.36s\tremaining: 5.34s\n",
      "1174:\tlearn: 4705702.3348066\ttotal: 3.36s\tremaining: 5.34s\n",
      "1175:\tlearn: 4704904.0359652\ttotal: 3.37s\tremaining: 5.34s\n",
      "1176:\tlearn: 4704037.0856180\ttotal: 3.37s\tremaining: 5.34s\n",
      "1177:\tlearn: 4703572.7947801\ttotal: 3.37s\tremaining: 5.33s\n",
      "1178:\tlearn: 4702789.5139873\ttotal: 3.38s\tremaining: 5.33s\n",
      "1179:\tlearn: 4702218.3229068\ttotal: 3.38s\tremaining: 5.33s\n",
      "1180:\tlearn: 4701492.2234027\ttotal: 3.38s\tremaining: 5.33s\n",
      "1181:\tlearn: 4700081.4739282\ttotal: 3.38s\tremaining: 5.32s\n",
      "1182:\tlearn: 4699073.7943810\ttotal: 3.39s\tremaining: 5.32s\n",
      "1183:\tlearn: 4698664.7266153\ttotal: 3.39s\tremaining: 5.32s\n",
      "1184:\tlearn: 4698173.0866190\ttotal: 3.39s\tremaining: 5.31s\n",
      "1185:\tlearn: 4697030.0872320\ttotal: 3.4s\tremaining: 5.31s\n",
      "1186:\tlearn: 4696180.1998887\ttotal: 3.4s\tremaining: 5.31s\n",
      "1187:\tlearn: 4694876.5409070\ttotal: 3.4s\tremaining: 5.31s\n",
      "1188:\tlearn: 4694096.6378341\ttotal: 3.4s\tremaining: 5.3s\n",
      "1189:\tlearn: 4693114.8203005\ttotal: 3.41s\tremaining: 5.3s\n",
      "1190:\tlearn: 4692341.1701522\ttotal: 3.41s\tremaining: 5.3s\n",
      "1191:\tlearn: 4691549.6307697\ttotal: 3.41s\tremaining: 5.29s\n",
      "1192:\tlearn: 4690708.7211617\ttotal: 3.42s\tremaining: 5.29s\n",
      "1193:\tlearn: 4689759.5312715\ttotal: 3.42s\tremaining: 5.29s\n",
      "1194:\tlearn: 4688616.5865842\ttotal: 3.42s\tremaining: 5.29s\n",
      "1195:\tlearn: 4687542.3512633\ttotal: 3.42s\tremaining: 5.28s\n",
      "1196:\tlearn: 4686684.2793241\ttotal: 3.43s\tremaining: 5.28s\n",
      "1197:\tlearn: 4685544.4934029\ttotal: 3.43s\tremaining: 5.28s\n",
      "1198:\tlearn: 4684978.6333517\ttotal: 3.43s\tremaining: 5.28s\n",
      "1199:\tlearn: 4683927.6144955\ttotal: 3.44s\tremaining: 5.27s\n",
      "1200:\tlearn: 4683093.0640747\ttotal: 3.44s\tremaining: 5.27s\n",
      "1201:\tlearn: 4682267.5450643\ttotal: 3.44s\tremaining: 5.26s\n",
      "1202:\tlearn: 4681097.6849850\ttotal: 3.44s\tremaining: 5.26s\n",
      "1203:\tlearn: 4680463.6360141\ttotal: 3.45s\tremaining: 5.26s\n",
      "1204:\tlearn: 4679320.2723938\ttotal: 3.45s\tremaining: 5.26s\n",
      "1205:\tlearn: 4678853.5515332\ttotal: 3.45s\tremaining: 5.25s\n",
      "1206:\tlearn: 4678386.6501022\ttotal: 3.46s\tremaining: 5.25s\n",
      "1207:\tlearn: 4677276.9862514\ttotal: 3.46s\tremaining: 5.25s\n",
      "1208:\tlearn: 4676670.2884635\ttotal: 3.46s\tremaining: 5.24s\n",
      "1209:\tlearn: 4675480.5111648\ttotal: 3.46s\tremaining: 5.24s\n",
      "1210:\tlearn: 4675396.5336426\ttotal: 3.47s\tremaining: 5.24s\n",
      "1211:\tlearn: 4674632.0616382\ttotal: 3.47s\tremaining: 5.23s\n",
      "1212:\tlearn: 4673906.0468614\ttotal: 3.47s\tremaining: 5.23s\n",
      "1213:\tlearn: 4672816.6068754\ttotal: 3.47s\tremaining: 5.23s\n",
      "1214:\tlearn: 4672307.0537389\ttotal: 3.48s\tremaining: 5.22s\n",
      "1215:\tlearn: 4671701.0449312\ttotal: 3.48s\tremaining: 5.22s\n",
      "1216:\tlearn: 4670942.2049972\ttotal: 3.48s\tremaining: 5.22s\n",
      "1217:\tlearn: 4669788.1820913\ttotal: 3.48s\tremaining: 5.22s\n",
      "1218:\tlearn: 4669117.8342729\ttotal: 3.49s\tremaining: 5.21s\n",
      "1219:\tlearn: 4668459.9465172\ttotal: 3.49s\tremaining: 5.21s\n",
      "1220:\tlearn: 4668159.8648650\ttotal: 3.5s\tremaining: 5.21s\n",
      "1221:\tlearn: 4667344.1621008\ttotal: 3.5s\tremaining: 5.21s\n",
      "1222:\tlearn: 4666033.6845031\ttotal: 3.5s\tremaining: 5.21s\n",
      "1223:\tlearn: 4665185.0433797\ttotal: 3.5s\tremaining: 5.2s\n",
      "1224:\tlearn: 4664207.9694330\ttotal: 3.51s\tremaining: 5.2s\n",
      "1225:\tlearn: 4663282.7830225\ttotal: 3.51s\tremaining: 5.2s\n",
      "1226:\tlearn: 4662538.4742069\ttotal: 3.51s\tremaining: 5.2s\n",
      "1227:\tlearn: 4661670.0841018\ttotal: 3.52s\tremaining: 5.19s\n",
      "1228:\tlearn: 4660833.1399868\ttotal: 3.52s\tremaining: 5.19s\n",
      "1229:\tlearn: 4659905.0149382\ttotal: 3.52s\tremaining: 5.19s\n",
      "1230:\tlearn: 4659130.7335224\ttotal: 3.52s\tremaining: 5.18s\n",
      "1231:\tlearn: 4658377.6279617\ttotal: 3.53s\tremaining: 5.18s\n",
      "1232:\tlearn: 4658340.8705749\ttotal: 3.53s\tremaining: 5.17s\n",
      "1233:\tlearn: 4657909.0108087\ttotal: 3.53s\tremaining: 5.17s\n",
      "1234:\tlearn: 4656404.4637291\ttotal: 3.53s\tremaining: 5.17s\n",
      "1235:\tlearn: 4655090.4798277\ttotal: 3.54s\tremaining: 5.17s\n",
      "1236:\tlearn: 4654577.9514397\ttotal: 3.54s\tremaining: 5.16s\n",
      "1237:\tlearn: 4653814.6909714\ttotal: 3.54s\tremaining: 5.16s\n",
      "1238:\tlearn: 4653006.3622574\ttotal: 3.54s\tremaining: 5.16s\n",
      "1239:\tlearn: 4652210.4383144\ttotal: 3.55s\tremaining: 5.15s\n",
      "1240:\tlearn: 4651414.2948868\ttotal: 3.55s\tremaining: 5.15s\n",
      "1241:\tlearn: 4650015.1506885\ttotal: 3.55s\tremaining: 5.15s\n",
      "1242:\tlearn: 4648885.0145988\ttotal: 3.56s\tremaining: 5.14s\n",
      "1243:\tlearn: 4648351.1619318\ttotal: 3.56s\tremaining: 5.14s\n",
      "1244:\tlearn: 4647549.8523896\ttotal: 3.56s\tremaining: 5.14s\n",
      "1245:\tlearn: 4647512.5469712\ttotal: 3.56s\tremaining: 5.13s\n",
      "1246:\tlearn: 4645889.5377125\ttotal: 3.57s\tremaining: 5.13s\n",
      "1247:\tlearn: 4645093.5612147\ttotal: 3.57s\tremaining: 5.13s\n",
      "1248:\tlearn: 4644632.8543326\ttotal: 3.57s\tremaining: 5.13s\n",
      "1249:\tlearn: 4644111.4766940\ttotal: 3.57s\tremaining: 5.12s\n",
      "1250:\tlearn: 4643651.7138228\ttotal: 3.58s\tremaining: 5.12s\n",
      "1251:\tlearn: 4642464.0817531\ttotal: 3.58s\tremaining: 5.12s\n",
      "1252:\tlearn: 4641938.5157960\ttotal: 3.58s\tremaining: 5.11s\n",
      "1253:\tlearn: 4641850.8110385\ttotal: 3.59s\tremaining: 5.11s\n",
      "1254:\tlearn: 4640708.7961558\ttotal: 3.59s\tremaining: 5.11s\n",
      "1255:\tlearn: 4639508.8867703\ttotal: 3.59s\tremaining: 5.1s\n",
      "1256:\tlearn: 4638541.3663858\ttotal: 3.59s\tremaining: 5.1s\n",
      "1257:\tlearn: 4637778.1897050\ttotal: 3.6s\tremaining: 5.1s\n",
      "1258:\tlearn: 4637436.3487293\ttotal: 3.6s\tremaining: 5.09s\n",
      "1259:\tlearn: 4636446.7491192\ttotal: 3.6s\tremaining: 5.09s\n",
      "1260:\tlearn: 4635653.3712058\ttotal: 3.6s\tremaining: 5.09s\n",
      "1261:\tlearn: 4634784.0013494\ttotal: 3.61s\tremaining: 5.08s\n",
      "1262:\tlearn: 4633867.2649253\ttotal: 3.61s\tremaining: 5.08s\n",
      "1263:\tlearn: 4632570.6361371\ttotal: 3.61s\tremaining: 5.08s\n",
      "1264:\tlearn: 4631921.2724082\ttotal: 3.62s\tremaining: 5.08s\n",
      "1265:\tlearn: 4630603.2589963\ttotal: 3.62s\tremaining: 5.07s\n",
      "1266:\tlearn: 4629302.1414091\ttotal: 3.62s\tremaining: 5.07s\n",
      "1267:\tlearn: 4628381.1618340\ttotal: 3.62s\tremaining: 5.07s\n",
      "1268:\tlearn: 4627909.0738446\ttotal: 3.63s\tremaining: 5.07s\n",
      "1269:\tlearn: 4627485.1354046\ttotal: 3.63s\tremaining: 5.06s\n",
      "1270:\tlearn: 4626567.6004636\ttotal: 3.63s\tremaining: 5.06s\n",
      "1271:\tlearn: 4625842.6796083\ttotal: 3.63s\tremaining: 5.06s\n",
      "1272:\tlearn: 4625301.5464541\ttotal: 3.64s\tremaining: 5.05s\n",
      "1273:\tlearn: 4623908.5389541\ttotal: 3.64s\tremaining: 5.05s\n",
      "1274:\tlearn: 4623351.6415546\ttotal: 3.64s\tremaining: 5.05s\n",
      "1275:\tlearn: 4622688.9422737\ttotal: 3.65s\tremaining: 5.04s\n",
      "1276:\tlearn: 4621822.2903676\ttotal: 3.65s\tremaining: 5.04s\n",
      "1277:\tlearn: 4620722.3860656\ttotal: 3.65s\tremaining: 5.04s\n",
      "1278:\tlearn: 4620326.0637844\ttotal: 3.65s\tremaining: 5.03s\n",
      "1279:\tlearn: 4619813.3192291\ttotal: 3.66s\tremaining: 5.03s\n",
      "1280:\tlearn: 4619188.4320631\ttotal: 3.66s\tremaining: 5.03s\n",
      "1281:\tlearn: 4618205.1851498\ttotal: 3.66s\tremaining: 5.03s\n",
      "1282:\tlearn: 4617343.9342495\ttotal: 3.67s\tremaining: 5.02s\n",
      "1283:\tlearn: 4616756.0687976\ttotal: 3.67s\tremaining: 5.02s\n",
      "1284:\tlearn: 4616135.2702228\ttotal: 3.67s\tremaining: 5.01s\n",
      "1285:\tlearn: 4615365.7166136\ttotal: 3.67s\tremaining: 5.01s\n",
      "1286:\tlearn: 4614188.6377694\ttotal: 3.68s\tremaining: 5.01s\n",
      "1287:\tlearn: 4613165.3195230\ttotal: 3.68s\tremaining: 5.01s\n",
      "1288:\tlearn: 4612505.1187033\ttotal: 3.68s\tremaining: 5s\n",
      "1289:\tlearn: 4612471.5670223\ttotal: 3.68s\tremaining: 5s\n",
      "1290:\tlearn: 4611299.7070643\ttotal: 3.69s\tremaining: 5s\n",
      "1291:\tlearn: 4610405.6775712\ttotal: 3.69s\tremaining: 4.99s\n",
      "1292:\tlearn: 4609625.5626400\ttotal: 3.69s\tremaining: 4.99s\n",
      "1293:\tlearn: 4609031.8072306\ttotal: 3.69s\tremaining: 4.99s\n",
      "1294:\tlearn: 4609006.7285939\ttotal: 3.7s\tremaining: 4.99s\n",
      "1295:\tlearn: 4608021.0228443\ttotal: 3.7s\tremaining: 4.98s\n",
      "1296:\tlearn: 4607225.9800490\ttotal: 3.7s\tremaining: 4.98s\n",
      "1297:\tlearn: 4606344.4702012\ttotal: 3.71s\tremaining: 4.98s\n",
      "1298:\tlearn: 4605677.9010646\ttotal: 3.71s\tremaining: 4.97s\n",
      "1299:\tlearn: 4605125.9556970\ttotal: 3.71s\tremaining: 4.97s\n",
      "1300:\tlearn: 4604478.6375784\ttotal: 3.71s\tremaining: 4.97s\n",
      "1301:\tlearn: 4603292.2366369\ttotal: 3.72s\tremaining: 4.96s\n",
      "1302:\tlearn: 4602562.5097268\ttotal: 3.72s\tremaining: 4.96s\n",
      "1303:\tlearn: 4602140.9095819\ttotal: 3.72s\tremaining: 4.96s\n",
      "1304:\tlearn: 4601552.3386772\ttotal: 3.73s\tremaining: 4.96s\n",
      "1305:\tlearn: 4600987.8118930\ttotal: 3.73s\tremaining: 4.95s\n",
      "1306:\tlearn: 4599802.3115026\ttotal: 3.73s\tremaining: 4.95s\n",
      "1307:\tlearn: 4599001.0938344\ttotal: 3.73s\tremaining: 4.95s\n",
      "1308:\tlearn: 4597481.3640446\ttotal: 3.73s\tremaining: 4.94s\n",
      "1309:\tlearn: 4596657.0992924\ttotal: 3.74s\tremaining: 4.94s\n",
      "1310:\tlearn: 4595533.1054631\ttotal: 3.74s\tremaining: 4.94s\n",
      "1311:\tlearn: 4594516.8389140\ttotal: 3.74s\tremaining: 4.93s\n",
      "1312:\tlearn: 4593931.2109110\ttotal: 3.75s\tremaining: 4.93s\n",
      "1313:\tlearn: 4593194.0315313\ttotal: 3.75s\tremaining: 4.93s\n",
      "1314:\tlearn: 4592443.7016461\ttotal: 3.75s\tremaining: 4.93s\n",
      "1315:\tlearn: 4591602.5289015\ttotal: 3.76s\tremaining: 4.92s\n",
      "1316:\tlearn: 4590352.9903045\ttotal: 3.76s\tremaining: 4.92s\n",
      "1317:\tlearn: 4589570.3611511\ttotal: 3.76s\tremaining: 4.92s\n",
      "1318:\tlearn: 4588967.4343566\ttotal: 3.76s\tremaining: 4.91s\n",
      "1319:\tlearn: 4587976.7015059\ttotal: 3.77s\tremaining: 4.91s\n",
      "1320:\tlearn: 4586787.1100649\ttotal: 3.77s\tremaining: 4.91s\n",
      "1321:\tlearn: 4586138.8407944\ttotal: 3.77s\tremaining: 4.91s\n",
      "1322:\tlearn: 4585615.5843827\ttotal: 3.77s\tremaining: 4.9s\n",
      "1323:\tlearn: 4584665.0257995\ttotal: 3.78s\tremaining: 4.9s\n",
      "1324:\tlearn: 4584631.0480100\ttotal: 3.78s\tremaining: 4.89s\n",
      "1325:\tlearn: 4584106.2822724\ttotal: 3.78s\tremaining: 4.89s\n",
      "1326:\tlearn: 4583461.6648522\ttotal: 3.79s\tremaining: 4.89s\n",
      "1327:\tlearn: 4582685.0808896\ttotal: 3.79s\tremaining: 4.89s\n",
      "1328:\tlearn: 4581642.7524689\ttotal: 3.79s\tremaining: 4.88s\n",
      "1329:\tlearn: 4580786.5773548\ttotal: 3.79s\tremaining: 4.88s\n",
      "1330:\tlearn: 4579958.0848457\ttotal: 3.8s\tremaining: 4.88s\n",
      "1331:\tlearn: 4579015.9726345\ttotal: 3.8s\tremaining: 4.87s\n",
      "1332:\tlearn: 4578030.8512577\ttotal: 3.8s\tremaining: 4.87s\n",
      "1333:\tlearn: 4577214.6856287\ttotal: 3.81s\tremaining: 4.87s\n",
      "1334:\tlearn: 4575992.0226776\ttotal: 3.81s\tremaining: 4.87s\n",
      "1335:\tlearn: 4575069.8319613\ttotal: 3.81s\tremaining: 4.86s\n",
      "1336:\tlearn: 4574649.9171973\ttotal: 3.81s\tremaining: 4.86s\n",
      "1337:\tlearn: 4572963.3053916\ttotal: 3.81s\tremaining: 4.86s\n",
      "1338:\tlearn: 4572212.2642128\ttotal: 3.82s\tremaining: 4.85s\n",
      "1339:\tlearn: 4571435.0671050\ttotal: 3.82s\tremaining: 4.85s\n",
      "1340:\tlearn: 4570662.3284889\ttotal: 3.82s\tremaining: 4.85s\n",
      "1341:\tlearn: 4569955.3205644\ttotal: 3.83s\tremaining: 4.84s\n",
      "1342:\tlearn: 4569449.4433883\ttotal: 3.83s\tremaining: 4.84s\n",
      "1343:\tlearn: 4568704.7118222\ttotal: 3.83s\tremaining: 4.84s\n",
      "1344:\tlearn: 4568252.9080337\ttotal: 3.83s\tremaining: 4.84s\n",
      "1345:\tlearn: 4567357.9280997\ttotal: 3.84s\tremaining: 4.83s\n",
      "1346:\tlearn: 4566238.1786461\ttotal: 3.86s\tremaining: 4.85s\n",
      "1347:\tlearn: 4565606.9228434\ttotal: 3.86s\tremaining: 4.85s\n",
      "1348:\tlearn: 4564819.7621859\ttotal: 3.86s\tremaining: 4.84s\n",
      "1349:\tlearn: 4563635.9058986\ttotal: 3.87s\tremaining: 4.84s\n",
      "1350:\tlearn: 4562595.1830349\ttotal: 3.87s\tremaining: 4.84s\n",
      "1351:\tlearn: 4561959.2491375\ttotal: 3.87s\tremaining: 4.84s\n",
      "1352:\tlearn: 4560167.9467931\ttotal: 3.88s\tremaining: 4.84s\n",
      "1353:\tlearn: 4559050.3878041\ttotal: 3.88s\tremaining: 4.83s\n",
      "1354:\tlearn: 4558673.3811504\ttotal: 3.88s\tremaining: 4.83s\n",
      "1355:\tlearn: 4557447.8842166\ttotal: 3.89s\tremaining: 4.83s\n",
      "1356:\tlearn: 4556781.0881293\ttotal: 3.89s\tremaining: 4.83s\n",
      "1357:\tlearn: 4555450.5232727\ttotal: 3.89s\tremaining: 4.82s\n",
      "1358:\tlearn: 4553780.1992608\ttotal: 3.9s\tremaining: 4.82s\n",
      "1359:\tlearn: 4552425.8261224\ttotal: 3.9s\tremaining: 4.82s\n",
      "1360:\tlearn: 4551393.2373048\ttotal: 3.9s\tremaining: 4.82s\n",
      "1361:\tlearn: 4550354.4736824\ttotal: 3.9s\tremaining: 4.81s\n",
      "1362:\tlearn: 4549462.7638910\ttotal: 3.91s\tremaining: 4.81s\n",
      "1363:\tlearn: 4548662.1433011\ttotal: 3.91s\tremaining: 4.81s\n",
      "1364:\tlearn: 4548142.7415699\ttotal: 3.91s\tremaining: 4.8s\n",
      "1365:\tlearn: 4547461.3747884\ttotal: 3.91s\tremaining: 4.8s\n",
      "1366:\tlearn: 4546534.6984412\ttotal: 3.92s\tremaining: 4.8s\n",
      "1367:\tlearn: 4546056.3172760\ttotal: 3.92s\tremaining: 4.79s\n",
      "1368:\tlearn: 4545552.4748534\ttotal: 3.92s\tremaining: 4.79s\n",
      "1369:\tlearn: 4545066.2766430\ttotal: 3.92s\tremaining: 4.79s\n",
      "1370:\tlearn: 4544340.9264783\ttotal: 3.93s\tremaining: 4.78s\n",
      "1371:\tlearn: 4543595.6577717\ttotal: 3.93s\tremaining: 4.78s\n",
      "1372:\tlearn: 4543069.1572250\ttotal: 3.93s\tremaining: 4.78s\n",
      "1373:\tlearn: 4542753.4705987\ttotal: 3.94s\tremaining: 4.78s\n",
      "1374:\tlearn: 4542380.5581319\ttotal: 3.94s\tremaining: 4.77s\n",
      "1375:\tlearn: 4542193.8920780\ttotal: 3.94s\tremaining: 4.77s\n",
      "1376:\tlearn: 4541375.6747439\ttotal: 3.94s\tremaining: 4.77s\n",
      "1377:\tlearn: 4540490.6194458\ttotal: 3.95s\tremaining: 4.76s\n",
      "1378:\tlearn: 4539513.7002557\ttotal: 3.95s\tremaining: 4.76s\n",
      "1379:\tlearn: 4538653.9582021\ttotal: 3.95s\tremaining: 4.76s\n",
      "1380:\tlearn: 4538408.0069659\ttotal: 3.96s\tremaining: 4.75s\n",
      "1381:\tlearn: 4537545.4914372\ttotal: 3.96s\tremaining: 4.75s\n",
      "1382:\tlearn: 4537196.8602123\ttotal: 3.96s\tremaining: 4.75s\n",
      "1383:\tlearn: 4536199.2893950\ttotal: 3.97s\tremaining: 4.75s\n",
      "1384:\tlearn: 4535505.2061148\ttotal: 3.97s\tremaining: 4.75s\n",
      "1385:\tlearn: 4533991.4184668\ttotal: 3.97s\tremaining: 4.74s\n",
      "1386:\tlearn: 4533325.6048769\ttotal: 3.98s\tremaining: 4.74s\n",
      "1387:\tlearn: 4532922.6930938\ttotal: 3.98s\tremaining: 4.74s\n",
      "1388:\tlearn: 4531384.2429474\ttotal: 3.98s\tremaining: 4.73s\n",
      "1389:\tlearn: 4529833.1172814\ttotal: 3.98s\tremaining: 4.73s\n",
      "1390:\tlearn: 4529273.1580307\ttotal: 3.99s\tremaining: 4.73s\n",
      "1391:\tlearn: 4528515.2928312\ttotal: 3.99s\tremaining: 4.73s\n",
      "1392:\tlearn: 4527506.2629715\ttotal: 3.99s\tremaining: 4.72s\n",
      "1393:\tlearn: 4526545.3673791\ttotal: 4s\tremaining: 4.72s\n",
      "1394:\tlearn: 4526124.3910488\ttotal: 4s\tremaining: 4.72s\n",
      "1395:\tlearn: 4525631.9334115\ttotal: 4s\tremaining: 4.72s\n",
      "1396:\tlearn: 4524604.1916808\ttotal: 4s\tremaining: 4.71s\n",
      "1397:\tlearn: 4523805.1019886\ttotal: 4.01s\tremaining: 4.71s\n",
      "1398:\tlearn: 4522718.4379368\ttotal: 4.01s\tremaining: 4.71s\n",
      "1399:\tlearn: 4522250.7213477\ttotal: 4.01s\tremaining: 4.71s\n",
      "1400:\tlearn: 4521940.9955314\ttotal: 4.02s\tremaining: 4.7s\n",
      "1401:\tlearn: 4520997.0387297\ttotal: 4.02s\tremaining: 4.7s\n",
      "1402:\tlearn: 4520467.1568416\ttotal: 4.02s\tremaining: 4.7s\n",
      "1403:\tlearn: 4519431.8652859\ttotal: 4.03s\tremaining: 4.69s\n",
      "1404:\tlearn: 4519238.1214374\ttotal: 4.03s\tremaining: 4.69s\n",
      "1405:\tlearn: 4518768.5109387\ttotal: 4.03s\tremaining: 4.69s\n",
      "1406:\tlearn: 4517651.6800101\ttotal: 4.04s\tremaining: 4.68s\n",
      "1407:\tlearn: 4516433.5689444\ttotal: 4.04s\tremaining: 4.68s\n",
      "1408:\tlearn: 4515835.5819638\ttotal: 4.04s\tremaining: 4.68s\n",
      "1409:\tlearn: 4515064.6290781\ttotal: 4.04s\tremaining: 4.68s\n",
      "1410:\tlearn: 4514722.3699929\ttotal: 4.05s\tremaining: 4.67s\n",
      "1411:\tlearn: 4514242.1118367\ttotal: 4.05s\tremaining: 4.67s\n",
      "1412:\tlearn: 4513356.6109200\ttotal: 4.05s\tremaining: 4.67s\n",
      "1413:\tlearn: 4512707.2588591\ttotal: 4.06s\tremaining: 4.67s\n",
      "1414:\tlearn: 4512211.2413950\ttotal: 4.06s\tremaining: 4.67s\n",
      "1415:\tlearn: 4511631.7437853\ttotal: 4.06s\tremaining: 4.66s\n",
      "1416:\tlearn: 4510868.4224605\ttotal: 4.07s\tremaining: 4.66s\n",
      "1417:\tlearn: 4510231.8176144\ttotal: 4.07s\tremaining: 4.66s\n",
      "1418:\tlearn: 4509126.3443766\ttotal: 4.07s\tremaining: 4.65s\n",
      "1419:\tlearn: 4508265.5747283\ttotal: 4.07s\tremaining: 4.65s\n",
      "1420:\tlearn: 4507169.7316033\ttotal: 4.08s\tremaining: 4.65s\n",
      "1421:\tlearn: 4506399.3648567\ttotal: 4.08s\tremaining: 4.64s\n",
      "1422:\tlearn: 4505301.7135240\ttotal: 4.08s\tremaining: 4.64s\n",
      "1423:\tlearn: 4504222.7170887\ttotal: 4.09s\tremaining: 4.64s\n",
      "1424:\tlearn: 4503327.9461262\ttotal: 4.09s\tremaining: 4.64s\n",
      "1425:\tlearn: 4502425.4748482\ttotal: 4.09s\tremaining: 4.63s\n",
      "1426:\tlearn: 4501857.9965644\ttotal: 4.1s\tremaining: 4.63s\n",
      "1427:\tlearn: 4501094.1130359\ttotal: 4.1s\tremaining: 4.63s\n",
      "1428:\tlearn: 4499635.5041044\ttotal: 4.1s\tremaining: 4.63s\n",
      "1429:\tlearn: 4498423.4481896\ttotal: 4.11s\tremaining: 4.63s\n",
      "1430:\tlearn: 4498023.1847022\ttotal: 4.11s\tremaining: 4.62s\n",
      "1431:\tlearn: 4497252.3877189\ttotal: 4.11s\tremaining: 4.62s\n",
      "1432:\tlearn: 4496629.1856634\ttotal: 4.11s\tremaining: 4.62s\n",
      "1433:\tlearn: 4495421.8141984\ttotal: 4.12s\tremaining: 4.61s\n",
      "1434:\tlearn: 4494823.9313138\ttotal: 4.12s\tremaining: 4.61s\n",
      "1435:\tlearn: 4494120.2845368\ttotal: 4.12s\tremaining: 4.61s\n",
      "1436:\tlearn: 4493744.3296476\ttotal: 4.13s\tremaining: 4.61s\n",
      "1437:\tlearn: 4492819.2858114\ttotal: 4.13s\tremaining: 4.6s\n",
      "1438:\tlearn: 4492285.7757545\ttotal: 4.13s\tremaining: 4.6s\n",
      "1439:\tlearn: 4491447.0645606\ttotal: 4.13s\tremaining: 4.6s\n",
      "1440:\tlearn: 4490094.5547415\ttotal: 4.14s\tremaining: 4.59s\n",
      "1441:\tlearn: 4489368.2607854\ttotal: 4.14s\tremaining: 4.59s\n",
      "1442:\tlearn: 4488762.3367084\ttotal: 4.14s\tremaining: 4.59s\n",
      "1443:\tlearn: 4487802.2695294\ttotal: 4.15s\tremaining: 4.58s\n",
      "1444:\tlearn: 4487343.3062468\ttotal: 4.15s\tremaining: 4.58s\n",
      "1445:\tlearn: 4486766.2868099\ttotal: 4.15s\tremaining: 4.58s\n",
      "1446:\tlearn: 4486150.2342441\ttotal: 4.16s\tremaining: 4.58s\n",
      "1447:\tlearn: 4485197.3183606\ttotal: 4.16s\tremaining: 4.58s\n",
      "1448:\tlearn: 4484567.1632465\ttotal: 4.16s\tremaining: 4.57s\n",
      "1449:\tlearn: 4483822.2721088\ttotal: 4.17s\tremaining: 4.57s\n",
      "1450:\tlearn: 4482799.9088648\ttotal: 4.17s\tremaining: 4.57s\n",
      "1451:\tlearn: 4481844.8023067\ttotal: 4.17s\tremaining: 4.57s\n",
      "1452:\tlearn: 4480727.5107180\ttotal: 4.17s\tremaining: 4.56s\n",
      "1453:\tlearn: 4480242.0193483\ttotal: 4.18s\tremaining: 4.56s\n",
      "1454:\tlearn: 4478524.1004004\ttotal: 4.18s\tremaining: 4.56s\n",
      "1455:\tlearn: 4478026.3001323\ttotal: 4.18s\tremaining: 4.55s\n",
      "1456:\tlearn: 4477519.7160087\ttotal: 4.19s\tremaining: 4.55s\n",
      "1457:\tlearn: 4477218.7891729\ttotal: 4.19s\tremaining: 4.55s\n",
      "1458:\tlearn: 4476646.5096794\ttotal: 4.19s\tremaining: 4.55s\n",
      "1459:\tlearn: 4475614.7536908\ttotal: 4.2s\tremaining: 4.55s\n",
      "1460:\tlearn: 4474667.8343877\ttotal: 4.2s\tremaining: 4.54s\n",
      "1461:\tlearn: 4473799.6542164\ttotal: 4.21s\tremaining: 4.54s\n",
      "1462:\tlearn: 4473050.5571755\ttotal: 4.21s\tremaining: 4.54s\n",
      "1463:\tlearn: 4472553.8290370\ttotal: 4.21s\tremaining: 4.54s\n",
      "1464:\tlearn: 4472297.6780210\ttotal: 4.22s\tremaining: 4.54s\n",
      "1465:\tlearn: 4471362.0337427\ttotal: 4.22s\tremaining: 4.54s\n",
      "1466:\tlearn: 4470695.9955779\ttotal: 4.23s\tremaining: 4.54s\n",
      "1467:\tlearn: 4469924.3514952\ttotal: 4.23s\tremaining: 4.53s\n",
      "1468:\tlearn: 4468818.7535801\ttotal: 4.24s\tremaining: 4.53s\n",
      "1469:\tlearn: 4468086.9305922\ttotal: 4.24s\tremaining: 4.53s\n",
      "1470:\tlearn: 4466792.7048621\ttotal: 4.24s\tremaining: 4.53s\n",
      "1471:\tlearn: 4466106.9108566\ttotal: 4.25s\tremaining: 4.53s\n",
      "1472:\tlearn: 4465166.2394346\ttotal: 4.25s\tremaining: 4.53s\n",
      "1473:\tlearn: 4464200.1748592\ttotal: 4.25s\tremaining: 4.52s\n",
      "1474:\tlearn: 4463278.0904321\ttotal: 4.26s\tremaining: 4.52s\n",
      "1475:\tlearn: 4462613.3530392\ttotal: 4.26s\tremaining: 4.52s\n",
      "1476:\tlearn: 4462116.0815197\ttotal: 4.27s\tremaining: 4.52s\n",
      "1477:\tlearn: 4461013.9779738\ttotal: 4.27s\tremaining: 4.52s\n",
      "1478:\tlearn: 4460476.2186205\ttotal: 4.27s\tremaining: 4.51s\n",
      "1479:\tlearn: 4459551.9128353\ttotal: 4.28s\tremaining: 4.51s\n",
      "1480:\tlearn: 4459518.3515783\ttotal: 4.28s\tremaining: 4.51s\n",
      "1481:\tlearn: 4458892.4127457\ttotal: 4.29s\tremaining: 4.51s\n",
      "1482:\tlearn: 4458177.3147090\ttotal: 4.29s\tremaining: 4.51s\n",
      "1483:\tlearn: 4457715.9203078\ttotal: 4.29s\tremaining: 4.5s\n",
      "1484:\tlearn: 4456424.4795361\ttotal: 4.3s\tremaining: 4.5s\n",
      "1485:\tlearn: 4455620.4058345\ttotal: 4.3s\tremaining: 4.5s\n",
      "1486:\tlearn: 4455122.8381148\ttotal: 4.3s\tremaining: 4.5s\n",
      "1487:\tlearn: 4454212.9310324\ttotal: 4.31s\tremaining: 4.5s\n",
      "1488:\tlearn: 4453700.3924252\ttotal: 4.31s\tremaining: 4.5s\n",
      "1489:\tlearn: 4453024.7373751\ttotal: 4.32s\tremaining: 4.49s\n",
      "1490:\tlearn: 4452850.9338733\ttotal: 4.32s\tremaining: 4.49s\n",
      "1491:\tlearn: 4452518.1319362\ttotal: 4.32s\tremaining: 4.49s\n",
      "1492:\tlearn: 4451833.0387321\ttotal: 4.33s\tremaining: 4.48s\n",
      "1493:\tlearn: 4451362.7083116\ttotal: 4.34s\tremaining: 4.49s\n",
      "1494:\tlearn: 4450905.0436062\ttotal: 4.34s\tremaining: 4.49s\n",
      "1495:\tlearn: 4449920.0057297\ttotal: 4.34s\tremaining: 4.49s\n",
      "1496:\tlearn: 4449303.7259308\ttotal: 4.35s\tremaining: 4.49s\n",
      "1497:\tlearn: 4448047.9688669\ttotal: 4.35s\tremaining: 4.48s\n",
      "1498:\tlearn: 4447585.1465825\ttotal: 4.35s\tremaining: 4.48s\n",
      "1499:\tlearn: 4446609.5237939\ttotal: 4.36s\tremaining: 4.48s\n",
      "1500:\tlearn: 4446147.6906972\ttotal: 4.36s\tremaining: 4.47s\n",
      "1501:\tlearn: 4444958.5038839\ttotal: 4.36s\tremaining: 4.47s\n",
      "1502:\tlearn: 4443994.3991734\ttotal: 4.37s\tremaining: 4.47s\n",
      "1503:\tlearn: 4443392.9321161\ttotal: 4.37s\tremaining: 4.46s\n",
      "1504:\tlearn: 4443042.4073869\ttotal: 4.37s\tremaining: 4.46s\n",
      "1505:\tlearn: 4442713.0721649\ttotal: 4.37s\tremaining: 4.46s\n",
      "1506:\tlearn: 4442296.5516227\ttotal: 4.38s\tremaining: 4.46s\n",
      "1507:\tlearn: 4441719.6120050\ttotal: 4.38s\tremaining: 4.45s\n",
      "1508:\tlearn: 4441056.6996675\ttotal: 4.38s\tremaining: 4.45s\n",
      "1509:\tlearn: 4440382.2343730\ttotal: 4.38s\tremaining: 4.45s\n",
      "1510:\tlearn: 4439918.1625349\ttotal: 4.39s\tremaining: 4.44s\n",
      "1511:\tlearn: 4438602.9693531\ttotal: 4.39s\tremaining: 4.44s\n",
      "1512:\tlearn: 4437994.5367776\ttotal: 4.39s\tremaining: 4.44s\n",
      "1513:\tlearn: 4437698.6769856\ttotal: 4.4s\tremaining: 4.44s\n",
      "1514:\tlearn: 4436877.4885745\ttotal: 4.4s\tremaining: 4.43s\n",
      "1515:\tlearn: 4436289.2105349\ttotal: 4.4s\tremaining: 4.43s\n",
      "1516:\tlearn: 4435578.9893865\ttotal: 4.41s\tremaining: 4.43s\n",
      "1517:\tlearn: 4434864.3475436\ttotal: 4.41s\tremaining: 4.42s\n",
      "1518:\tlearn: 4433815.9871532\ttotal: 4.41s\tremaining: 4.42s\n",
      "1519:\tlearn: 4432969.3154848\ttotal: 4.42s\tremaining: 4.42s\n",
      "1520:\tlearn: 4432237.4737371\ttotal: 4.42s\tremaining: 4.41s\n",
      "1521:\tlearn: 4430785.2358555\ttotal: 4.42s\tremaining: 4.41s\n",
      "1522:\tlearn: 4430559.2383210\ttotal: 4.42s\tremaining: 4.41s\n",
      "1523:\tlearn: 4429129.3673474\ttotal: 4.42s\tremaining: 4.4s\n",
      "1524:\tlearn: 4428405.1055911\ttotal: 4.43s\tremaining: 4.4s\n",
      "1525:\tlearn: 4427745.7110281\ttotal: 4.43s\tremaining: 4.4s\n",
      "1526:\tlearn: 4427059.6731634\ttotal: 4.43s\tremaining: 4.39s\n",
      "1527:\tlearn: 4426926.4440943\ttotal: 4.43s\tremaining: 4.39s\n",
      "1528:\tlearn: 4426375.1002759\ttotal: 4.44s\tremaining: 4.39s\n",
      "1529:\tlearn: 4426149.2880276\ttotal: 4.44s\tremaining: 4.38s\n",
      "1530:\tlearn: 4425063.1490769\ttotal: 4.44s\tremaining: 4.38s\n",
      "1531:\tlearn: 4423673.5446048\ttotal: 4.45s\tremaining: 4.38s\n",
      "1532:\tlearn: 4422842.2611499\ttotal: 4.45s\tremaining: 4.38s\n",
      "1533:\tlearn: 4421825.0193355\ttotal: 4.45s\tremaining: 4.37s\n",
      "1534:\tlearn: 4421379.0031864\ttotal: 4.45s\tremaining: 4.37s\n",
      "1535:\tlearn: 4420411.5188341\ttotal: 4.46s\tremaining: 4.37s\n",
      "1536:\tlearn: 4419561.4161848\ttotal: 4.46s\tremaining: 4.36s\n",
      "1537:\tlearn: 4419248.5302852\ttotal: 4.46s\tremaining: 4.36s\n",
      "1538:\tlearn: 4418438.7694141\ttotal: 4.46s\tremaining: 4.36s\n",
      "1539:\tlearn: 4417684.0917400\ttotal: 4.47s\tremaining: 4.35s\n",
      "1540:\tlearn: 4416344.5665605\ttotal: 4.47s\tremaining: 4.35s\n",
      "1541:\tlearn: 4415710.3429633\ttotal: 4.47s\tremaining: 4.35s\n",
      "1542:\tlearn: 4414792.1593949\ttotal: 4.47s\tremaining: 4.34s\n",
      "1543:\tlearn: 4414514.8735114\ttotal: 4.48s\tremaining: 4.34s\n",
      "1544:\tlearn: 4413906.5548930\ttotal: 4.48s\tremaining: 4.34s\n",
      "1545:\tlearn: 4413164.7486699\ttotal: 4.48s\tremaining: 4.33s\n",
      "1546:\tlearn: 4412916.6434594\ttotal: 4.49s\tremaining: 4.33s\n",
      "1547:\tlearn: 4412599.2103169\ttotal: 4.49s\tremaining: 4.33s\n",
      "1548:\tlearn: 4411423.7297631\ttotal: 4.49s\tremaining: 4.33s\n",
      "1549:\tlearn: 4410788.5505133\ttotal: 4.5s\tremaining: 4.32s\n",
      "1550:\tlearn: 4409748.0015060\ttotal: 4.5s\tremaining: 4.32s\n",
      "1551:\tlearn: 4408853.5951205\ttotal: 4.5s\tremaining: 4.32s\n",
      "1552:\tlearn: 4408496.5433818\ttotal: 4.5s\tremaining: 4.32s\n",
      "1553:\tlearn: 4408160.9438858\ttotal: 4.51s\tremaining: 4.31s\n",
      "1554:\tlearn: 4408040.0120717\ttotal: 4.51s\tremaining: 4.31s\n",
      "1555:\tlearn: 4406667.0590004\ttotal: 4.51s\tremaining: 4.31s\n",
      "1556:\tlearn: 4406060.4609768\ttotal: 4.51s\tremaining: 4.3s\n",
      "1557:\tlearn: 4405225.3282556\ttotal: 4.52s\tremaining: 4.3s\n",
      "1558:\tlearn: 4403849.0998264\ttotal: 4.52s\tremaining: 4.3s\n",
      "1559:\tlearn: 4403011.8665560\ttotal: 4.52s\tremaining: 4.29s\n",
      "1560:\tlearn: 4402398.8637406\ttotal: 4.53s\tremaining: 4.29s\n",
      "1561:\tlearn: 4401396.6327785\ttotal: 4.53s\tremaining: 4.29s\n",
      "1562:\tlearn: 4401040.8226360\ttotal: 4.53s\tremaining: 4.29s\n",
      "1563:\tlearn: 4400083.1207695\ttotal: 4.53s\tremaining: 4.28s\n",
      "1564:\tlearn: 4398948.4486855\ttotal: 4.54s\tremaining: 4.28s\n",
      "1565:\tlearn: 4398482.1558391\ttotal: 4.54s\tremaining: 4.28s\n",
      "1566:\tlearn: 4397736.4554884\ttotal: 4.54s\tremaining: 4.27s\n",
      "1567:\tlearn: 4397330.1116640\ttotal: 4.55s\tremaining: 4.27s\n",
      "1568:\tlearn: 4396639.2862945\ttotal: 4.55s\tremaining: 4.27s\n",
      "1569:\tlearn: 4396254.6907831\ttotal: 4.55s\tremaining: 4.26s\n",
      "1570:\tlearn: 4395285.5687264\ttotal: 4.55s\tremaining: 4.26s\n",
      "1571:\tlearn: 4393958.2523380\ttotal: 4.56s\tremaining: 4.26s\n",
      "1572:\tlearn: 4393058.2768860\ttotal: 4.56s\tremaining: 4.26s\n",
      "1573:\tlearn: 4392395.3329890\ttotal: 4.56s\tremaining: 4.25s\n",
      "1574:\tlearn: 4391951.1455797\ttotal: 4.57s\tremaining: 4.25s\n",
      "1575:\tlearn: 4391148.5778989\ttotal: 4.57s\tremaining: 4.25s\n",
      "1576:\tlearn: 4390477.1913610\ttotal: 4.57s\tremaining: 4.25s\n",
      "1577:\tlearn: 4389720.6274092\ttotal: 4.58s\tremaining: 4.24s\n",
      "1578:\tlearn: 4388939.2729100\ttotal: 4.58s\tremaining: 4.24s\n",
      "1579:\tlearn: 4388293.8999532\ttotal: 4.58s\tremaining: 4.24s\n",
      "1580:\tlearn: 4387539.6531147\ttotal: 4.58s\tremaining: 4.23s\n",
      "1581:\tlearn: 4386595.3328358\ttotal: 4.59s\tremaining: 4.23s\n",
      "1582:\tlearn: 4385903.2249195\ttotal: 4.59s\tremaining: 4.23s\n",
      "1583:\tlearn: 4384859.5998713\ttotal: 4.59s\tremaining: 4.22s\n",
      "1584:\tlearn: 4384514.1831612\ttotal: 4.59s\tremaining: 4.22s\n",
      "1585:\tlearn: 4383037.1584128\ttotal: 4.6s\tremaining: 4.22s\n",
      "1586:\tlearn: 4382479.1766162\ttotal: 4.6s\tremaining: 4.22s\n",
      "1587:\tlearn: 4382059.0613519\ttotal: 4.6s\tremaining: 4.21s\n",
      "1588:\tlearn: 4381685.7936126\ttotal: 4.61s\tremaining: 4.21s\n",
      "1589:\tlearn: 4381149.6987390\ttotal: 4.61s\tremaining: 4.21s\n",
      "1590:\tlearn: 4380902.8335031\ttotal: 4.61s\tremaining: 4.2s\n",
      "1591:\tlearn: 4380063.1433151\ttotal: 4.62s\tremaining: 4.2s\n",
      "1592:\tlearn: 4379408.5786252\ttotal: 4.62s\tremaining: 4.2s\n",
      "1593:\tlearn: 4378717.7375783\ttotal: 4.62s\tremaining: 4.2s\n",
      "1594:\tlearn: 4377940.5194048\ttotal: 4.62s\tremaining: 4.19s\n",
      "1595:\tlearn: 4377102.2836994\ttotal: 4.63s\tremaining: 4.19s\n",
      "1596:\tlearn: 4376061.3722365\ttotal: 4.63s\tremaining: 4.18s\n",
      "1597:\tlearn: 4375136.1200493\ttotal: 4.63s\tremaining: 4.18s\n",
      "1598:\tlearn: 4374878.6914106\ttotal: 4.63s\tremaining: 4.18s\n",
      "1599:\tlearn: 4374434.9711360\ttotal: 4.64s\tremaining: 4.18s\n",
      "1600:\tlearn: 4373628.6697241\ttotal: 4.64s\tremaining: 4.17s\n",
      "1601:\tlearn: 4373067.1490873\ttotal: 4.64s\tremaining: 4.17s\n",
      "1602:\tlearn: 4372499.6046726\ttotal: 4.65s\tremaining: 4.17s\n",
      "1603:\tlearn: 4371387.0079641\ttotal: 4.65s\tremaining: 4.17s\n",
      "1604:\tlearn: 4370338.0582400\ttotal: 4.65s\tremaining: 4.16s\n",
      "1605:\tlearn: 4368951.8727540\ttotal: 4.66s\tremaining: 4.16s\n",
      "1606:\tlearn: 4367994.3187259\ttotal: 4.66s\tremaining: 4.16s\n",
      "1607:\tlearn: 4367333.6816884\ttotal: 4.67s\tremaining: 4.16s\n",
      "1608:\tlearn: 4366613.6071737\ttotal: 4.67s\tremaining: 4.16s\n",
      "1609:\tlearn: 4365549.9146542\ttotal: 4.67s\tremaining: 4.15s\n",
      "1610:\tlearn: 4364691.6879747\ttotal: 4.68s\tremaining: 4.15s\n",
      "1611:\tlearn: 4364248.3479647\ttotal: 4.68s\tremaining: 4.15s\n",
      "1612:\tlearn: 4363486.1681309\ttotal: 4.68s\tremaining: 4.14s\n",
      "1613:\tlearn: 4363047.9523300\ttotal: 4.68s\tremaining: 4.14s\n",
      "1614:\tlearn: 4362396.7040496\ttotal: 4.69s\tremaining: 4.14s\n",
      "1615:\tlearn: 4361992.9325652\ttotal: 4.69s\tremaining: 4.14s\n",
      "1616:\tlearn: 4360919.3808891\ttotal: 4.69s\tremaining: 4.13s\n",
      "1617:\tlearn: 4360534.5238496\ttotal: 4.7s\tremaining: 4.13s\n",
      "1618:\tlearn: 4359981.2849788\ttotal: 4.7s\tremaining: 4.13s\n",
      "1619:\tlearn: 4359605.0634572\ttotal: 4.7s\tremaining: 4.12s\n",
      "1620:\tlearn: 4358750.8588174\ttotal: 4.7s\tremaining: 4.12s\n",
      "1621:\tlearn: 4358602.7414085\ttotal: 4.71s\tremaining: 4.12s\n",
      "1622:\tlearn: 4358147.9695863\ttotal: 4.71s\tremaining: 4.11s\n",
      "1623:\tlearn: 4357644.0827398\ttotal: 4.71s\tremaining: 4.11s\n",
      "1624:\tlearn: 4357071.4822481\ttotal: 4.71s\tremaining: 4.11s\n",
      "1625:\tlearn: 4356265.9300756\ttotal: 4.72s\tremaining: 4.11s\n",
      "1626:\tlearn: 4355692.0692775\ttotal: 4.72s\tremaining: 4.1s\n",
      "1627:\tlearn: 4355318.7135722\ttotal: 4.72s\tremaining: 4.1s\n",
      "1628:\tlearn: 4355095.3149760\ttotal: 4.72s\tremaining: 4.1s\n",
      "1629:\tlearn: 4354235.9344686\ttotal: 4.73s\tremaining: 4.09s\n",
      "1630:\tlearn: 4353031.9651514\ttotal: 4.73s\tremaining: 4.09s\n",
      "1631:\tlearn: 4352612.8574155\ttotal: 4.73s\tremaining: 4.09s\n",
      "1632:\tlearn: 4352119.2398700\ttotal: 4.74s\tremaining: 4.08s\n",
      "1633:\tlearn: 4351723.7822697\ttotal: 4.74s\tremaining: 4.08s\n",
      "1634:\tlearn: 4351439.9095758\ttotal: 4.74s\tremaining: 4.08s\n",
      "1635:\tlearn: 4350828.5605597\ttotal: 4.74s\tremaining: 4.07s\n",
      "1636:\tlearn: 4350030.0594499\ttotal: 4.75s\tremaining: 4.07s\n",
      "1637:\tlearn: 4349606.0504048\ttotal: 4.75s\tremaining: 4.07s\n",
      "1638:\tlearn: 4348932.1166471\ttotal: 4.75s\tremaining: 4.07s\n",
      "1639:\tlearn: 4347717.8800450\ttotal: 4.75s\tremaining: 4.06s\n",
      "1640:\tlearn: 4347287.2366076\ttotal: 4.76s\tremaining: 4.06s\n",
      "1641:\tlearn: 4346843.0024739\ttotal: 4.76s\tremaining: 4.06s\n",
      "1642:\tlearn: 4346166.1054935\ttotal: 4.76s\tremaining: 4.05s\n",
      "1643:\tlearn: 4345333.6130459\ttotal: 4.77s\tremaining: 4.05s\n",
      "1644:\tlearn: 4345007.5180625\ttotal: 4.77s\tremaining: 4.05s\n",
      "1645:\tlearn: 4344639.7982335\ttotal: 4.77s\tremaining: 4.04s\n",
      "1646:\tlearn: 4343915.0637689\ttotal: 4.78s\tremaining: 4.04s\n",
      "1647:\tlearn: 4343103.0188272\ttotal: 4.78s\tremaining: 4.04s\n",
      "1648:\tlearn: 4342528.8659996\ttotal: 4.78s\tremaining: 4.04s\n",
      "1649:\tlearn: 4342021.5592441\ttotal: 4.78s\tremaining: 4.03s\n",
      "1650:\tlearn: 4341146.7977473\ttotal: 4.79s\tremaining: 4.03s\n",
      "1651:\tlearn: 4340790.4262206\ttotal: 4.79s\tremaining: 4.03s\n",
      "1652:\tlearn: 4340379.8269743\ttotal: 4.79s\tremaining: 4.02s\n",
      "1653:\tlearn: 4339350.7811769\ttotal: 4.79s\tremaining: 4.02s\n",
      "1654:\tlearn: 4338854.7744142\ttotal: 4.8s\tremaining: 4.02s\n",
      "1655:\tlearn: 4338582.1941929\ttotal: 4.8s\tremaining: 4.02s\n",
      "1656:\tlearn: 4338077.6154163\ttotal: 4.8s\tremaining: 4.01s\n",
      "1657:\tlearn: 4337813.9912862\ttotal: 4.81s\tremaining: 4.01s\n",
      "1658:\tlearn: 4337455.3901171\ttotal: 4.81s\tremaining: 4.01s\n",
      "1659:\tlearn: 4336694.9302850\ttotal: 4.81s\tremaining: 4s\n",
      "1660:\tlearn: 4336400.3438267\ttotal: 4.81s\tremaining: 4s\n",
      "1661:\tlearn: 4335705.3199393\ttotal: 4.82s\tremaining: 4s\n",
      "1662:\tlearn: 4335154.5516734\ttotal: 4.82s\tremaining: 3.99s\n",
      "1663:\tlearn: 4334050.3767369\ttotal: 4.82s\tremaining: 3.99s\n",
      "1664:\tlearn: 4333534.9550362\ttotal: 4.83s\tremaining: 3.99s\n",
      "1665:\tlearn: 4333172.0205202\ttotal: 4.83s\tremaining: 3.98s\n",
      "1666:\tlearn: 4332920.6876427\ttotal: 4.83s\tremaining: 3.98s\n",
      "1667:\tlearn: 4331867.5940943\ttotal: 4.83s\tremaining: 3.98s\n",
      "1668:\tlearn: 4330366.9364447\ttotal: 4.84s\tremaining: 3.98s\n",
      "1669:\tlearn: 4330135.7383407\ttotal: 4.84s\tremaining: 3.97s\n",
      "1670:\tlearn: 4329573.1911531\ttotal: 4.84s\tremaining: 3.97s\n",
      "1671:\tlearn: 4329127.4441751\ttotal: 4.85s\tremaining: 3.97s\n",
      "1672:\tlearn: 4328274.3359516\ttotal: 4.85s\tremaining: 3.96s\n",
      "1673:\tlearn: 4327812.6482191\ttotal: 4.85s\tremaining: 3.96s\n",
      "1674:\tlearn: 4326997.4211107\ttotal: 4.85s\tremaining: 3.96s\n",
      "1675:\tlearn: 4326354.8609391\ttotal: 4.86s\tremaining: 3.96s\n",
      "1676:\tlearn: 4325532.4391585\ttotal: 4.86s\tremaining: 3.95s\n",
      "1677:\tlearn: 4324825.2243377\ttotal: 4.86s\tremaining: 3.95s\n",
      "1678:\tlearn: 4324175.2488283\ttotal: 4.87s\tremaining: 3.95s\n",
      "1679:\tlearn: 4323630.9992649\ttotal: 4.87s\tremaining: 3.94s\n",
      "1680:\tlearn: 4322866.9617030\ttotal: 4.87s\tremaining: 3.94s\n",
      "1681:\tlearn: 4321882.8803427\ttotal: 4.88s\tremaining: 3.94s\n",
      "1682:\tlearn: 4321443.1911371\ttotal: 4.88s\tremaining: 3.94s\n",
      "1683:\tlearn: 4320955.5481018\ttotal: 4.88s\tremaining: 3.93s\n",
      "1684:\tlearn: 4320322.3573701\ttotal: 4.88s\tremaining: 3.93s\n",
      "1685:\tlearn: 4319306.6528163\ttotal: 4.89s\tremaining: 3.93s\n",
      "1686:\tlearn: 4318675.8795827\ttotal: 4.89s\tremaining: 3.92s\n",
      "1687:\tlearn: 4318082.7284770\ttotal: 4.89s\tremaining: 3.92s\n",
      "1688:\tlearn: 4317700.5390222\ttotal: 4.9s\tremaining: 3.92s\n",
      "1689:\tlearn: 4317374.1217337\ttotal: 4.9s\tremaining: 3.92s\n",
      "1690:\tlearn: 4316451.1057385\ttotal: 4.9s\tremaining: 3.91s\n",
      "1691:\tlearn: 4315742.6770909\ttotal: 4.91s\tremaining: 3.91s\n",
      "1692:\tlearn: 4315140.6354102\ttotal: 4.91s\tremaining: 3.91s\n",
      "1693:\tlearn: 4314712.7231999\ttotal: 4.91s\tremaining: 3.9s\n",
      "1694:\tlearn: 4314481.6487112\ttotal: 4.91s\tremaining: 3.9s\n",
      "1695:\tlearn: 4313801.2048130\ttotal: 4.92s\tremaining: 3.9s\n",
      "1696:\tlearn: 4312787.5670624\ttotal: 4.92s\tremaining: 3.9s\n",
      "1697:\tlearn: 4311797.8220009\ttotal: 4.92s\tremaining: 3.89s\n",
      "1698:\tlearn: 4311466.9229477\ttotal: 4.92s\tremaining: 3.89s\n",
      "1699:\tlearn: 4310541.7449872\ttotal: 4.93s\tremaining: 3.89s\n",
      "1700:\tlearn: 4309278.7694035\ttotal: 4.93s\tremaining: 3.88s\n",
      "1701:\tlearn: 4308538.2289771\ttotal: 4.93s\tremaining: 3.88s\n",
      "1702:\tlearn: 4307657.6292312\ttotal: 4.94s\tremaining: 3.88s\n",
      "1703:\tlearn: 4307089.4783635\ttotal: 4.94s\tremaining: 3.88s\n",
      "1704:\tlearn: 4306543.9388171\ttotal: 4.95s\tremaining: 3.88s\n",
      "1705:\tlearn: 4306242.9762015\ttotal: 4.95s\tremaining: 3.87s\n",
      "1706:\tlearn: 4305531.7354706\ttotal: 4.95s\tremaining: 3.87s\n",
      "1707:\tlearn: 4304843.5279020\ttotal: 4.95s\tremaining: 3.87s\n",
      "1708:\tlearn: 4304304.9779082\ttotal: 4.96s\tremaining: 3.86s\n",
      "1709:\tlearn: 4303303.2094630\ttotal: 4.96s\tremaining: 3.86s\n",
      "1710:\tlearn: 4302610.2813507\ttotal: 4.96s\tremaining: 3.86s\n",
      "1711:\tlearn: 4302035.1381287\ttotal: 4.96s\tremaining: 3.85s\n",
      "1712:\tlearn: 4301588.5205428\ttotal: 4.97s\tremaining: 3.85s\n",
      "1713:\tlearn: 4301007.4858688\ttotal: 4.97s\tremaining: 3.85s\n",
      "1714:\tlearn: 4300316.9192698\ttotal: 4.97s\tremaining: 3.85s\n",
      "1715:\tlearn: 4299802.0997594\ttotal: 4.98s\tremaining: 3.84s\n",
      "1716:\tlearn: 4299170.4525068\ttotal: 4.98s\tremaining: 3.84s\n",
      "1717:\tlearn: 4298613.8009678\ttotal: 4.98s\tremaining: 3.84s\n",
      "1718:\tlearn: 4297939.6596920\ttotal: 4.99s\tremaining: 3.83s\n",
      "1719:\tlearn: 4297488.9608702\ttotal: 4.99s\tremaining: 3.83s\n",
      "1720:\tlearn: 4297261.0514824\ttotal: 4.99s\tremaining: 3.83s\n",
      "1721:\tlearn: 4296803.8587229\ttotal: 4.99s\tremaining: 3.83s\n",
      "1722:\tlearn: 4296411.3937097\ttotal: 5s\tremaining: 3.82s\n",
      "1723:\tlearn: 4295558.6162759\ttotal: 5s\tremaining: 3.82s\n",
      "1724:\tlearn: 4295041.7002988\ttotal: 5s\tremaining: 3.82s\n",
      "1725:\tlearn: 4294658.9722102\ttotal: 5.01s\tremaining: 3.81s\n",
      "1726:\tlearn: 4294307.4562484\ttotal: 5.01s\tremaining: 3.81s\n",
      "1727:\tlearn: 4293974.3032960\ttotal: 5.01s\tremaining: 3.81s\n",
      "1728:\tlearn: 4293366.0435373\ttotal: 5.01s\tremaining: 3.81s\n",
      "1729:\tlearn: 4292650.6178885\ttotal: 5.02s\tremaining: 3.8s\n",
      "1730:\tlearn: 4292223.1991544\ttotal: 5.02s\tremaining: 3.8s\n",
      "1731:\tlearn: 4291479.0624357\ttotal: 5.03s\tremaining: 3.8s\n",
      "1732:\tlearn: 4291001.1922363\ttotal: 5.03s\tremaining: 3.79s\n",
      "1733:\tlearn: 4290663.9802384\ttotal: 5.03s\tremaining: 3.79s\n",
      "1734:\tlearn: 4290291.7080202\ttotal: 5.03s\tremaining: 3.79s\n",
      "1735:\tlearn: 4289856.1364013\ttotal: 5.04s\tremaining: 3.79s\n",
      "1736:\tlearn: 4289406.5011965\ttotal: 5.04s\tremaining: 3.78s\n",
      "1737:\tlearn: 4288997.0243287\ttotal: 5.04s\tremaining: 3.78s\n",
      "1738:\tlearn: 4288294.9482570\ttotal: 5.05s\tremaining: 3.78s\n",
      "1739:\tlearn: 4288063.1307208\ttotal: 5.05s\tremaining: 3.77s\n",
      "1740:\tlearn: 4287824.0192701\ttotal: 5.05s\tremaining: 3.77s\n",
      "1741:\tlearn: 4286719.9487392\ttotal: 5.05s\tremaining: 3.77s\n",
      "1742:\tlearn: 4285865.5642050\ttotal: 5.06s\tremaining: 3.77s\n",
      "1743:\tlearn: 4285296.7364724\ttotal: 5.06s\tremaining: 3.76s\n",
      "1744:\tlearn: 4284131.5173245\ttotal: 5.06s\tremaining: 3.76s\n",
      "1745:\tlearn: 4283593.1697306\ttotal: 5.07s\tremaining: 3.76s\n",
      "1746:\tlearn: 4282746.7283438\ttotal: 5.07s\tremaining: 3.75s\n",
      "1747:\tlearn: 4282026.9999016\ttotal: 5.07s\tremaining: 3.75s\n",
      "1748:\tlearn: 4281546.3506854\ttotal: 5.07s\tremaining: 3.75s\n",
      "1749:\tlearn: 4281182.0920252\ttotal: 5.08s\tremaining: 3.74s\n",
      "1750:\tlearn: 4280559.6290909\ttotal: 5.08s\tremaining: 3.74s\n",
      "1751:\tlearn: 4280223.4058631\ttotal: 5.08s\tremaining: 3.74s\n",
      "1752:\tlearn: 4279690.0938393\ttotal: 5.08s\tremaining: 3.74s\n",
      "1753:\tlearn: 4279218.5947357\ttotal: 5.09s\tremaining: 3.73s\n",
      "1754:\tlearn: 4278892.0517309\ttotal: 5.09s\tremaining: 3.73s\n",
      "1755:\tlearn: 4278551.7585054\ttotal: 5.09s\tremaining: 3.73s\n",
      "1756:\tlearn: 4277638.5973823\ttotal: 5.09s\tremaining: 3.72s\n",
      "1757:\tlearn: 4276889.3135752\ttotal: 5.1s\tremaining: 3.72s\n",
      "1758:\tlearn: 4276498.8828750\ttotal: 5.1s\tremaining: 3.72s\n",
      "1759:\tlearn: 4275921.8405540\ttotal: 5.1s\tremaining: 3.71s\n",
      "1760:\tlearn: 4275193.2378872\ttotal: 5.11s\tremaining: 3.71s\n",
      "1761:\tlearn: 4274850.3874558\ttotal: 5.11s\tremaining: 3.71s\n",
      "1762:\tlearn: 4274018.2230112\ttotal: 5.11s\tremaining: 3.71s\n",
      "1763:\tlearn: 4273847.9477621\ttotal: 5.12s\tremaining: 3.7s\n",
      "1764:\tlearn: 4273525.5908271\ttotal: 5.12s\tremaining: 3.7s\n",
      "1765:\tlearn: 4273320.4817395\ttotal: 5.12s\tremaining: 3.7s\n",
      "1766:\tlearn: 4273099.8056654\ttotal: 5.12s\tremaining: 3.69s\n",
      "1767:\tlearn: 4272919.7270722\ttotal: 5.13s\tremaining: 3.69s\n",
      "1768:\tlearn: 4272460.6044637\ttotal: 5.13s\tremaining: 3.69s\n",
      "1769:\tlearn: 4272143.3404686\ttotal: 5.13s\tremaining: 3.68s\n",
      "1770:\tlearn: 4271507.9771864\ttotal: 5.13s\tremaining: 3.68s\n",
      "1771:\tlearn: 4271129.1343354\ttotal: 5.14s\tremaining: 3.68s\n",
      "1772:\tlearn: 4270872.4358413\ttotal: 5.14s\tremaining: 3.68s\n",
      "1773:\tlearn: 4270247.9044204\ttotal: 5.14s\tremaining: 3.67s\n",
      "1774:\tlearn: 4269920.6810472\ttotal: 5.15s\tremaining: 3.67s\n",
      "1775:\tlearn: 4269518.7971101\ttotal: 5.15s\tremaining: 3.67s\n",
      "1776:\tlearn: 4269161.1810037\ttotal: 5.15s\tremaining: 3.67s\n",
      "1777:\tlearn: 4268056.8811023\ttotal: 5.16s\tremaining: 3.66s\n",
      "1778:\tlearn: 4267077.0764227\ttotal: 5.16s\tremaining: 3.66s\n",
      "1779:\tlearn: 4266665.2613553\ttotal: 5.16s\tremaining: 3.66s\n",
      "1780:\tlearn: 4266139.6767544\ttotal: 5.16s\tremaining: 3.65s\n",
      "1781:\tlearn: 4265610.6349596\ttotal: 5.17s\tremaining: 3.65s\n",
      "1782:\tlearn: 4264548.9108075\ttotal: 5.17s\tremaining: 3.65s\n",
      "1783:\tlearn: 4264048.9969343\ttotal: 5.17s\tremaining: 3.64s\n",
      "1784:\tlearn: 4263310.8691987\ttotal: 5.17s\tremaining: 3.64s\n",
      "1785:\tlearn: 4262459.2610479\ttotal: 5.18s\tremaining: 3.64s\n",
      "1786:\tlearn: 4262016.4108873\ttotal: 5.18s\tremaining: 3.63s\n",
      "1787:\tlearn: 4261261.2032378\ttotal: 5.18s\tremaining: 3.63s\n",
      "1788:\tlearn: 4260480.5239836\ttotal: 5.18s\tremaining: 3.63s\n",
      "1789:\tlearn: 4259928.0487710\ttotal: 5.19s\tremaining: 3.63s\n",
      "1790:\tlearn: 4259587.7467207\ttotal: 5.19s\tremaining: 3.62s\n",
      "1791:\tlearn: 4259233.9493247\ttotal: 5.19s\tremaining: 3.62s\n",
      "1792:\tlearn: 4258743.1015856\ttotal: 5.2s\tremaining: 3.62s\n",
      "1793:\tlearn: 4257873.5371437\ttotal: 5.2s\tremaining: 3.61s\n",
      "1794:\tlearn: 4257418.9604571\ttotal: 5.2s\tremaining: 3.61s\n",
      "1795:\tlearn: 4256669.8834365\ttotal: 5.21s\tremaining: 3.61s\n",
      "1796:\tlearn: 4255716.4462284\ttotal: 5.21s\tremaining: 3.61s\n",
      "1797:\tlearn: 4255138.9630999\ttotal: 5.21s\tremaining: 3.6s\n",
      "1798:\tlearn: 4254460.1373785\ttotal: 5.21s\tremaining: 3.6s\n",
      "1799:\tlearn: 4253935.4343010\ttotal: 5.22s\tremaining: 3.6s\n",
      "1800:\tlearn: 4253622.3025050\ttotal: 5.22s\tremaining: 3.6s\n",
      "1801:\tlearn: 4252703.1874026\ttotal: 5.22s\tremaining: 3.59s\n",
      "1802:\tlearn: 4252292.5002601\ttotal: 5.23s\tremaining: 3.59s\n",
      "1803:\tlearn: 4251541.5958075\ttotal: 5.23s\tremaining: 3.59s\n",
      "1804:\tlearn: 4250857.5668991\ttotal: 5.23s\tremaining: 3.58s\n",
      "1805:\tlearn: 4250518.3220796\ttotal: 5.24s\tremaining: 3.58s\n",
      "1806:\tlearn: 4250139.4126705\ttotal: 5.24s\tremaining: 3.58s\n",
      "1807:\tlearn: 4249064.9614797\ttotal: 5.24s\tremaining: 3.58s\n",
      "1808:\tlearn: 4248805.6440004\ttotal: 5.25s\tremaining: 3.57s\n",
      "1809:\tlearn: 4248320.8519134\ttotal: 5.25s\tremaining: 3.57s\n",
      "1810:\tlearn: 4248126.8810932\ttotal: 5.25s\tremaining: 3.57s\n",
      "1811:\tlearn: 4247451.5893551\ttotal: 5.26s\tremaining: 3.56s\n",
      "1812:\tlearn: 4246687.2522800\ttotal: 5.26s\tremaining: 3.56s\n",
      "1813:\tlearn: 4246417.3382418\ttotal: 5.26s\tremaining: 3.56s\n",
      "1814:\tlearn: 4245469.9581986\ttotal: 5.26s\tremaining: 3.56s\n",
      "1815:\tlearn: 4244726.6839460\ttotal: 5.27s\tremaining: 3.55s\n",
      "1816:\tlearn: 4244094.4030355\ttotal: 5.27s\tremaining: 3.55s\n",
      "1817:\tlearn: 4242808.6097613\ttotal: 5.27s\tremaining: 3.55s\n",
      "1818:\tlearn: 4242301.4180734\ttotal: 5.28s\tremaining: 3.54s\n",
      "1819:\tlearn: 4241949.9203067\ttotal: 5.28s\tremaining: 3.54s\n",
      "1820:\tlearn: 4241555.9596910\ttotal: 5.28s\tremaining: 3.54s\n",
      "1821:\tlearn: 4240843.1711392\ttotal: 5.29s\tremaining: 3.54s\n",
      "1822:\tlearn: 4240263.3413243\ttotal: 5.29s\tremaining: 3.53s\n",
      "1823:\tlearn: 4239982.4064927\ttotal: 5.29s\tremaining: 3.53s\n",
      "1824:\tlearn: 4239019.4676308\ttotal: 5.29s\tremaining: 3.53s\n",
      "1825:\tlearn: 4238379.3237433\ttotal: 5.3s\tremaining: 3.52s\n",
      "1826:\tlearn: 4238051.3093408\ttotal: 5.3s\tremaining: 3.52s\n",
      "1827:\tlearn: 4237176.4623845\ttotal: 5.3s\tremaining: 3.52s\n",
      "1828:\tlearn: 4236841.6610453\ttotal: 5.31s\tremaining: 3.52s\n",
      "1829:\tlearn: 4236614.7021790\ttotal: 5.31s\tremaining: 3.51s\n",
      "1830:\tlearn: 4235763.4611327\ttotal: 5.31s\tremaining: 3.51s\n",
      "1831:\tlearn: 4235043.7988652\ttotal: 5.32s\tremaining: 3.51s\n",
      "1832:\tlearn: 4234579.5385714\ttotal: 5.32s\tremaining: 3.5s\n",
      "1833:\tlearn: 4234149.0849913\ttotal: 5.32s\tremaining: 3.5s\n",
      "1834:\tlearn: 4233288.4965252\ttotal: 5.33s\tremaining: 3.5s\n",
      "1835:\tlearn: 4233089.5221903\ttotal: 5.33s\tremaining: 3.5s\n",
      "1836:\tlearn: 4231863.4792420\ttotal: 5.33s\tremaining: 3.5s\n",
      "1837:\tlearn: 4230701.3292566\ttotal: 5.33s\tremaining: 3.49s\n",
      "1838:\tlearn: 4230542.1550968\ttotal: 5.34s\tremaining: 3.49s\n",
      "1839:\tlearn: 4229835.0748963\ttotal: 5.34s\tremaining: 3.49s\n",
      "1840:\tlearn: 4229318.8248602\ttotal: 5.35s\tremaining: 3.48s\n",
      "1841:\tlearn: 4228382.2301609\ttotal: 5.35s\tremaining: 3.48s\n",
      "1842:\tlearn: 4227624.6878270\ttotal: 5.35s\tremaining: 3.48s\n",
      "1843:\tlearn: 4227174.9033896\ttotal: 5.36s\tremaining: 3.48s\n",
      "1844:\tlearn: 4226635.6900621\ttotal: 5.36s\tremaining: 3.47s\n",
      "1845:\tlearn: 4226318.6619435\ttotal: 5.36s\tremaining: 3.47s\n",
      "1846:\tlearn: 4225964.7530680\ttotal: 5.37s\tremaining: 3.47s\n",
      "1847:\tlearn: 4225251.9393097\ttotal: 5.37s\tremaining: 3.47s\n",
      "1848:\tlearn: 4224747.2704722\ttotal: 5.37s\tremaining: 3.46s\n",
      "1849:\tlearn: 4224147.0955626\ttotal: 5.38s\tremaining: 3.46s\n",
      "1850:\tlearn: 4223507.5505781\ttotal: 5.38s\tremaining: 3.46s\n",
      "1851:\tlearn: 4222457.0266300\ttotal: 5.38s\tremaining: 3.46s\n",
      "1852:\tlearn: 4221743.6658213\ttotal: 5.39s\tremaining: 3.45s\n",
      "1853:\tlearn: 4221095.3342264\ttotal: 5.39s\tremaining: 3.45s\n",
      "1854:\tlearn: 4220743.0292188\ttotal: 5.39s\tremaining: 3.45s\n",
      "1855:\tlearn: 4220138.4733132\ttotal: 5.4s\tremaining: 3.44s\n",
      "1856:\tlearn: 4219303.7639505\ttotal: 5.4s\tremaining: 3.44s\n",
      "1857:\tlearn: 4218889.2373356\ttotal: 5.4s\tremaining: 3.44s\n",
      "1858:\tlearn: 4218345.8221314\ttotal: 5.41s\tremaining: 3.44s\n",
      "1859:\tlearn: 4218043.5499685\ttotal: 5.41s\tremaining: 3.44s\n",
      "1860:\tlearn: 4217558.3905357\ttotal: 5.41s\tremaining: 3.43s\n",
      "1861:\tlearn: 4216978.4808953\ttotal: 5.42s\tremaining: 3.43s\n",
      "1862:\tlearn: 4216613.1179162\ttotal: 5.42s\tremaining: 3.43s\n",
      "1863:\tlearn: 4216059.9344699\ttotal: 5.42s\tremaining: 3.42s\n",
      "1864:\tlearn: 4215392.2199770\ttotal: 5.42s\tremaining: 3.42s\n",
      "1865:\tlearn: 4214805.8180443\ttotal: 5.43s\tremaining: 3.42s\n",
      "1866:\tlearn: 4214151.5948997\ttotal: 5.43s\tremaining: 3.42s\n",
      "1867:\tlearn: 4213620.8423504\ttotal: 5.43s\tremaining: 3.41s\n",
      "1868:\tlearn: 4212767.6739463\ttotal: 5.44s\tremaining: 3.41s\n",
      "1869:\tlearn: 4211870.0557379\ttotal: 5.44s\tremaining: 3.41s\n",
      "1870:\tlearn: 4211556.5565700\ttotal: 5.44s\tremaining: 3.4s\n",
      "1871:\tlearn: 4210718.9890686\ttotal: 5.45s\tremaining: 3.4s\n",
      "1872:\tlearn: 4210437.5437451\ttotal: 5.45s\tremaining: 3.4s\n",
      "1873:\tlearn: 4209972.1058782\ttotal: 5.45s\tremaining: 3.39s\n",
      "1874:\tlearn: 4209682.3841211\ttotal: 5.45s\tremaining: 3.39s\n",
      "1875:\tlearn: 4208948.2748079\ttotal: 5.46s\tremaining: 3.39s\n",
      "1876:\tlearn: 4208266.7201068\ttotal: 5.46s\tremaining: 3.38s\n",
      "1877:\tlearn: 4207665.9451448\ttotal: 5.46s\tremaining: 3.38s\n",
      "1878:\tlearn: 4207105.8749612\ttotal: 5.46s\tremaining: 3.38s\n",
      "1879:\tlearn: 4206623.4035380\ttotal: 5.47s\tremaining: 3.38s\n",
      "1880:\tlearn: 4206155.7096760\ttotal: 5.47s\tremaining: 3.37s\n",
      "1881:\tlearn: 4204988.2737826\ttotal: 5.47s\tremaining: 3.37s\n",
      "1882:\tlearn: 4204623.0034852\ttotal: 5.48s\tremaining: 3.37s\n",
      "1883:\tlearn: 4204133.7967588\ttotal: 5.48s\tremaining: 3.37s\n",
      "1884:\tlearn: 4203013.8197344\ttotal: 5.48s\tremaining: 3.36s\n",
      "1885:\tlearn: 4202226.6712829\ttotal: 5.49s\tremaining: 3.36s\n",
      "1886:\tlearn: 4201579.0627641\ttotal: 5.49s\tremaining: 3.36s\n",
      "1887:\tlearn: 4201201.0525227\ttotal: 5.49s\tremaining: 3.35s\n",
      "1888:\tlearn: 4200419.6297106\ttotal: 5.49s\tremaining: 3.35s\n",
      "1889:\tlearn: 4199893.8385419\ttotal: 5.5s\tremaining: 3.35s\n",
      "1890:\tlearn: 4199350.2117556\ttotal: 5.5s\tremaining: 3.34s\n",
      "1891:\tlearn: 4198727.2009442\ttotal: 5.5s\tremaining: 3.34s\n",
      "1892:\tlearn: 4198147.5892046\ttotal: 5.5s\tremaining: 3.34s\n",
      "1893:\tlearn: 4197053.3812249\ttotal: 5.51s\tremaining: 3.33s\n",
      "1894:\tlearn: 4196372.7545435\ttotal: 5.51s\tremaining: 3.33s\n",
      "1895:\tlearn: 4196063.7514465\ttotal: 5.51s\tremaining: 3.33s\n",
      "1896:\tlearn: 4195340.6107673\ttotal: 5.51s\tremaining: 3.33s\n",
      "1897:\tlearn: 4194943.1324391\ttotal: 5.52s\tremaining: 3.32s\n",
      "1898:\tlearn: 4193738.2490192\ttotal: 5.52s\tremaining: 3.32s\n",
      "1899:\tlearn: 4193306.4778534\ttotal: 5.52s\tremaining: 3.32s\n",
      "1900:\tlearn: 4192434.2836511\ttotal: 5.53s\tremaining: 3.31s\n",
      "1901:\tlearn: 4191710.6236254\ttotal: 5.53s\tremaining: 3.31s\n",
      "1902:\tlearn: 4191073.0948457\ttotal: 5.53s\tremaining: 3.31s\n",
      "1903:\tlearn: 4190781.1663588\ttotal: 5.53s\tremaining: 3.31s\n",
      "1904:\tlearn: 4189728.4448910\ttotal: 5.54s\tremaining: 3.3s\n",
      "1905:\tlearn: 4189187.6654045\ttotal: 5.54s\tremaining: 3.3s\n",
      "1906:\tlearn: 4188490.6560221\ttotal: 5.54s\tremaining: 3.29s\n",
      "1907:\tlearn: 4188233.6538490\ttotal: 5.54s\tremaining: 3.29s\n",
      "1908:\tlearn: 4187650.2326814\ttotal: 5.55s\tremaining: 3.29s\n",
      "1909:\tlearn: 4187424.9188686\ttotal: 5.55s\tremaining: 3.29s\n",
      "1910:\tlearn: 4187097.1457506\ttotal: 5.55s\tremaining: 3.28s\n",
      "1911:\tlearn: 4186702.1242614\ttotal: 5.56s\tremaining: 3.28s\n",
      "1912:\tlearn: 4186008.2430064\ttotal: 5.56s\tremaining: 3.28s\n",
      "1913:\tlearn: 4185425.5785678\ttotal: 5.56s\tremaining: 3.27s\n",
      "1914:\tlearn: 4185095.9403166\ttotal: 5.56s\tremaining: 3.27s\n",
      "1915:\tlearn: 4184514.9719047\ttotal: 5.57s\tremaining: 3.27s\n",
      "1916:\tlearn: 4184238.3676249\ttotal: 5.57s\tremaining: 3.27s\n",
      "1917:\tlearn: 4183326.9630423\ttotal: 5.57s\tremaining: 3.26s\n",
      "1918:\tlearn: 4182577.9109251\ttotal: 5.58s\tremaining: 3.26s\n",
      "1919:\tlearn: 4182306.0512536\ttotal: 5.58s\tremaining: 3.26s\n",
      "1920:\tlearn: 4181514.9317419\ttotal: 5.58s\tremaining: 3.25s\n",
      "1921:\tlearn: 4181165.7961074\ttotal: 5.58s\tremaining: 3.25s\n",
      "1922:\tlearn: 4180756.9533259\ttotal: 5.59s\tremaining: 3.25s\n",
      "1923:\tlearn: 4180311.0318192\ttotal: 5.59s\tremaining: 3.24s\n",
      "1924:\tlearn: 4179650.6264559\ttotal: 5.59s\tremaining: 3.24s\n",
      "1925:\tlearn: 4178808.6576976\ttotal: 5.59s\tremaining: 3.24s\n",
      "1926:\tlearn: 4178245.1963341\ttotal: 5.61s\tremaining: 3.25s\n",
      "1927:\tlearn: 4177754.8801361\ttotal: 5.62s\tremaining: 3.24s\n",
      "1928:\tlearn: 4176935.0002219\ttotal: 5.62s\tremaining: 3.24s\n",
      "1929:\tlearn: 4176553.3283911\ttotal: 5.62s\tremaining: 3.23s\n",
      "1930:\tlearn: 4175791.3676067\ttotal: 5.62s\tremaining: 3.23s\n",
      "1931:\tlearn: 4174786.3430173\ttotal: 5.63s\tremaining: 3.23s\n",
      "1932:\tlearn: 4174352.7776108\ttotal: 5.63s\tremaining: 3.23s\n",
      "1933:\tlearn: 4173851.8304170\ttotal: 5.63s\tremaining: 3.22s\n",
      "1934:\tlearn: 4172941.3442015\ttotal: 5.63s\tremaining: 3.22s\n",
      "1935:\tlearn: 4171935.9552155\ttotal: 5.64s\tremaining: 3.22s\n",
      "1936:\tlearn: 4171219.1967891\ttotal: 5.64s\tremaining: 3.21s\n",
      "1937:\tlearn: 4171033.8736780\ttotal: 5.64s\tremaining: 3.21s\n",
      "1938:\tlearn: 4170433.0413846\ttotal: 5.64s\tremaining: 3.21s\n",
      "1939:\tlearn: 4169628.8391048\ttotal: 5.65s\tremaining: 3.21s\n",
      "1940:\tlearn: 4169349.8337329\ttotal: 5.65s\tremaining: 3.2s\n",
      "1941:\tlearn: 4168677.2037983\ttotal: 5.65s\tremaining: 3.2s\n",
      "1942:\tlearn: 4168243.1862286\ttotal: 5.66s\tremaining: 3.2s\n",
      "1943:\tlearn: 4168005.3587677\ttotal: 5.66s\tremaining: 3.19s\n",
      "1944:\tlearn: 4167128.3508127\ttotal: 5.66s\tremaining: 3.19s\n",
      "1945:\tlearn: 4166590.4587488\ttotal: 5.67s\tremaining: 3.19s\n",
      "1946:\tlearn: 4166334.0069132\ttotal: 5.67s\tremaining: 3.18s\n",
      "1947:\tlearn: 4165087.2199574\ttotal: 5.67s\tremaining: 3.18s\n",
      "1948:\tlearn: 4164380.3831157\ttotal: 5.67s\tremaining: 3.18s\n",
      "1949:\tlearn: 4163864.8391690\ttotal: 5.68s\tremaining: 3.17s\n",
      "1950:\tlearn: 4163245.2695643\ttotal: 5.68s\tremaining: 3.17s\n",
      "1951:\tlearn: 4162379.0446154\ttotal: 5.68s\tremaining: 3.17s\n",
      "1952:\tlearn: 4161715.8838351\ttotal: 5.68s\tremaining: 3.17s\n",
      "1953:\tlearn: 4161487.4417205\ttotal: 5.69s\tremaining: 3.16s\n",
      "1954:\tlearn: 4161001.0379880\ttotal: 5.69s\tremaining: 3.16s\n",
      "1955:\tlearn: 4160552.4411929\ttotal: 5.69s\tremaining: 3.16s\n",
      "1956:\tlearn: 4159868.4565107\ttotal: 5.7s\tremaining: 3.15s\n",
      "1957:\tlearn: 4159540.4023515\ttotal: 5.7s\tremaining: 3.15s\n",
      "1958:\tlearn: 4159157.2321435\ttotal: 5.7s\tremaining: 3.15s\n",
      "1959:\tlearn: 4158473.6443803\ttotal: 5.71s\tremaining: 3.15s\n",
      "1960:\tlearn: 4158291.7702245\ttotal: 5.71s\tremaining: 3.14s\n",
      "1961:\tlearn: 4157672.8102374\ttotal: 5.71s\tremaining: 3.14s\n",
      "1962:\tlearn: 4157076.6859237\ttotal: 5.71s\tremaining: 3.14s\n",
      "1963:\tlearn: 4156284.1798781\ttotal: 5.72s\tremaining: 3.13s\n",
      "1964:\tlearn: 4155755.8385160\ttotal: 5.73s\tremaining: 3.14s\n",
      "1965:\tlearn: 4154916.9072557\ttotal: 5.73s\tremaining: 3.13s\n",
      "1966:\tlearn: 4154759.3392952\ttotal: 5.73s\tremaining: 3.13s\n",
      "1967:\tlearn: 4154326.1166960\ttotal: 5.74s\tremaining: 3.13s\n",
      "1968:\tlearn: 4153710.1366022\ttotal: 5.74s\tremaining: 3.12s\n",
      "1969:\tlearn: 4153074.9723420\ttotal: 5.74s\tremaining: 3.12s\n",
      "1970:\tlearn: 4152365.4082294\ttotal: 5.75s\tremaining: 3.12s\n",
      "1971:\tlearn: 4151972.2858044\ttotal: 5.75s\tremaining: 3.12s\n",
      "1972:\tlearn: 4151391.4002019\ttotal: 5.75s\tremaining: 3.11s\n",
      "1973:\tlearn: 4150776.9610355\ttotal: 5.75s\tremaining: 3.11s\n",
      "1974:\tlearn: 4150520.4096904\ttotal: 5.76s\tremaining: 3.11s\n",
      "1975:\tlearn: 4150127.4913663\ttotal: 5.76s\tremaining: 3.1s\n",
      "1976:\tlearn: 4149613.7046600\ttotal: 5.76s\tremaining: 3.1s\n",
      "1977:\tlearn: 4148800.2562324\ttotal: 5.77s\tremaining: 3.1s\n",
      "1978:\tlearn: 4147773.1651234\ttotal: 5.77s\tremaining: 3.1s\n",
      "1979:\tlearn: 4146810.4886512\ttotal: 5.77s\tremaining: 3.09s\n",
      "1980:\tlearn: 4145922.5606044\ttotal: 5.78s\tremaining: 3.09s\n",
      "1981:\tlearn: 4145402.8478914\ttotal: 5.78s\tremaining: 3.09s\n",
      "1982:\tlearn: 4144817.3900614\ttotal: 5.78s\tremaining: 3.08s\n",
      "1983:\tlearn: 4143963.7911215\ttotal: 5.78s\tremaining: 3.08s\n",
      "1984:\tlearn: 4143888.5855886\ttotal: 5.79s\tremaining: 3.08s\n",
      "1985:\tlearn: 4143295.0493623\ttotal: 5.79s\tremaining: 3.08s\n",
      "1986:\tlearn: 4142737.6105547\ttotal: 5.79s\tremaining: 3.07s\n",
      "1987:\tlearn: 4142320.7097132\ttotal: 5.79s\tremaining: 3.07s\n",
      "1988:\tlearn: 4141478.1725921\ttotal: 5.8s\tremaining: 3.07s\n",
      "1989:\tlearn: 4140841.5544799\ttotal: 5.8s\tremaining: 3.06s\n",
      "1990:\tlearn: 4140471.3870050\ttotal: 5.8s\tremaining: 3.06s\n",
      "1991:\tlearn: 4140278.6938534\ttotal: 5.81s\tremaining: 3.06s\n",
      "1992:\tlearn: 4140206.9518383\ttotal: 5.81s\tremaining: 3.05s\n",
      "1993:\tlearn: 4139930.3838816\ttotal: 5.81s\tremaining: 3.05s\n",
      "1994:\tlearn: 4139037.4511762\ttotal: 5.81s\tremaining: 3.05s\n",
      "1995:\tlearn: 4138878.3356802\ttotal: 5.82s\tremaining: 3.04s\n",
      "1996:\tlearn: 4138345.5457250\ttotal: 5.82s\tremaining: 3.04s\n",
      "1997:\tlearn: 4137429.6705237\ttotal: 5.82s\tremaining: 3.04s\n",
      "1998:\tlearn: 4136639.5578570\ttotal: 5.83s\tremaining: 3.04s\n",
      "1999:\tlearn: 4136336.6402340\ttotal: 5.83s\tremaining: 3.03s\n",
      "2000:\tlearn: 4136145.6238257\ttotal: 5.83s\tremaining: 3.03s\n",
      "2001:\tlearn: 4135482.8789771\ttotal: 5.84s\tremaining: 3.03s\n",
      "2002:\tlearn: 4135002.3096351\ttotal: 5.84s\tremaining: 3.03s\n",
      "2003:\tlearn: 4133790.5966098\ttotal: 5.84s\tremaining: 3.02s\n",
      "2004:\tlearn: 4133060.2867466\ttotal: 5.85s\tremaining: 3.02s\n",
      "2005:\tlearn: 4132343.6057964\ttotal: 5.85s\tremaining: 3.02s\n",
      "2006:\tlearn: 4131984.0089215\ttotal: 5.86s\tremaining: 3.02s\n",
      "2007:\tlearn: 4131405.6449834\ttotal: 5.86s\tremaining: 3.02s\n",
      "2008:\tlearn: 4131198.8107820\ttotal: 5.87s\tremaining: 3.01s\n",
      "2009:\tlearn: 4130846.4843606\ttotal: 5.87s\tremaining: 3.01s\n",
      "2010:\tlearn: 4130373.0971689\ttotal: 5.87s\tremaining: 3.01s\n",
      "2011:\tlearn: 4129688.2660246\ttotal: 5.88s\tremaining: 3.01s\n",
      "2012:\tlearn: 4129385.5228754\ttotal: 5.88s\tremaining: 3s\n",
      "2013:\tlearn: 4129276.7209505\ttotal: 5.88s\tremaining: 3s\n",
      "2014:\tlearn: 4128450.3994565\ttotal: 5.89s\tremaining: 3s\n",
      "2015:\tlearn: 4127818.6594334\ttotal: 5.89s\tremaining: 3s\n",
      "2016:\tlearn: 4127300.9000820\ttotal: 5.89s\tremaining: 2.99s\n",
      "2017:\tlearn: 4126855.0717490\ttotal: 5.9s\tremaining: 2.99s\n",
      "2018:\tlearn: 4126211.2461906\ttotal: 5.9s\tremaining: 2.99s\n",
      "2019:\tlearn: 4125784.3334630\ttotal: 5.91s\tremaining: 2.98s\n",
      "2020:\tlearn: 4125619.0783089\ttotal: 5.91s\tremaining: 2.98s\n",
      "2021:\tlearn: 4124908.1245620\ttotal: 5.91s\tremaining: 2.98s\n",
      "2022:\tlearn: 4124831.2604168\ttotal: 5.92s\tremaining: 2.98s\n",
      "2023:\tlearn: 4124449.6388307\ttotal: 5.93s\tremaining: 2.98s\n",
      "2024:\tlearn: 4123551.1857691\ttotal: 5.93s\tremaining: 2.98s\n",
      "2025:\tlearn: 4122944.9891824\ttotal: 5.93s\tremaining: 2.97s\n",
      "2026:\tlearn: 4122526.8236294\ttotal: 5.94s\tremaining: 2.97s\n",
      "2027:\tlearn: 4122034.3782453\ttotal: 5.94s\tremaining: 2.97s\n",
      "2028:\tlearn: 4121324.8489140\ttotal: 5.94s\tremaining: 2.96s\n",
      "2029:\tlearn: 4120295.6874742\ttotal: 5.95s\tremaining: 2.96s\n",
      "2030:\tlearn: 4119699.6960986\ttotal: 5.95s\tremaining: 2.96s\n",
      "2031:\tlearn: 4119475.6496178\ttotal: 5.95s\tremaining: 2.96s\n",
      "2032:\tlearn: 4119011.0242969\ttotal: 5.96s\tremaining: 2.95s\n",
      "2033:\tlearn: 4118318.0846991\ttotal: 5.96s\tremaining: 2.95s\n",
      "2034:\tlearn: 4117725.2070743\ttotal: 5.96s\tremaining: 2.95s\n",
      "2035:\tlearn: 4116718.4485920\ttotal: 5.96s\tremaining: 2.94s\n",
      "2036:\tlearn: 4116189.9677004\ttotal: 5.97s\tremaining: 2.94s\n",
      "2037:\tlearn: 4115806.3817938\ttotal: 5.97s\tremaining: 2.94s\n",
      "2038:\tlearn: 4115210.4997916\ttotal: 5.97s\tremaining: 2.94s\n",
      "2039:\tlearn: 4114461.6723794\ttotal: 5.98s\tremaining: 2.93s\n",
      "2040:\tlearn: 4113751.0180887\ttotal: 5.98s\tremaining: 2.93s\n",
      "2041:\tlearn: 4113318.5802677\ttotal: 5.98s\tremaining: 2.93s\n",
      "2042:\tlearn: 4113028.4862388\ttotal: 5.98s\tremaining: 2.92s\n",
      "2043:\tlearn: 4112300.0537039\ttotal: 5.99s\tremaining: 2.92s\n",
      "2044:\tlearn: 4111891.9693177\ttotal: 5.99s\tremaining: 2.92s\n",
      "2045:\tlearn: 4111289.5170801\ttotal: 5.99s\tremaining: 2.91s\n",
      "2046:\tlearn: 4110878.6099412\ttotal: 6s\tremaining: 2.91s\n",
      "2047:\tlearn: 4110477.0056207\ttotal: 6s\tremaining: 2.91s\n",
      "2048:\tlearn: 4109862.6656769\ttotal: 6s\tremaining: 2.91s\n",
      "2049:\tlearn: 4109685.4565390\ttotal: 6.01s\tremaining: 2.9s\n",
      "2050:\tlearn: 4109063.9321445\ttotal: 6.01s\tremaining: 2.9s\n",
      "2051:\tlearn: 4108506.5484546\ttotal: 6.01s\tremaining: 2.9s\n",
      "2052:\tlearn: 4108169.2374180\ttotal: 6.01s\tremaining: 2.89s\n",
      "2053:\tlearn: 4107866.2452007\ttotal: 6.02s\tremaining: 2.89s\n",
      "2054:\tlearn: 4107316.1109118\ttotal: 6.02s\tremaining: 2.89s\n",
      "2055:\tlearn: 4106808.2785988\ttotal: 6.02s\tremaining: 2.89s\n",
      "2056:\tlearn: 4106468.1568610\ttotal: 6.03s\tremaining: 2.88s\n",
      "2057:\tlearn: 4105761.1479193\ttotal: 6.03s\tremaining: 2.88s\n",
      "2058:\tlearn: 4105160.9930515\ttotal: 6.03s\tremaining: 2.88s\n",
      "2059:\tlearn: 4104617.3004023\ttotal: 6.04s\tremaining: 2.87s\n",
      "2060:\tlearn: 4103929.6138419\ttotal: 6.04s\tremaining: 2.87s\n",
      "2061:\tlearn: 4103645.1497354\ttotal: 6.04s\tremaining: 2.87s\n",
      "2062:\tlearn: 4103109.7578617\ttotal: 6.04s\tremaining: 2.87s\n",
      "2063:\tlearn: 4102608.8182015\ttotal: 6.05s\tremaining: 2.86s\n",
      "2064:\tlearn: 4101921.0280881\ttotal: 6.05s\tremaining: 2.86s\n",
      "2065:\tlearn: 4101192.5805068\ttotal: 6.05s\tremaining: 2.86s\n",
      "2066:\tlearn: 4100616.7201027\ttotal: 6.06s\tremaining: 2.85s\n",
      "2067:\tlearn: 4099920.0013825\ttotal: 6.06s\tremaining: 2.85s\n",
      "2068:\tlearn: 4099864.4223986\ttotal: 6.06s\tremaining: 2.85s\n",
      "2069:\tlearn: 4099591.1394482\ttotal: 6.06s\tremaining: 2.84s\n",
      "2070:\tlearn: 4099370.8640644\ttotal: 6.07s\tremaining: 2.84s\n",
      "2071:\tlearn: 4098677.1906150\ttotal: 6.07s\tremaining: 2.84s\n",
      "2072:\tlearn: 4098432.5951516\ttotal: 6.07s\tremaining: 2.83s\n",
      "2073:\tlearn: 4097987.0222758\ttotal: 6.08s\tremaining: 2.83s\n",
      "2074:\tlearn: 4097129.8643663\ttotal: 6.08s\tremaining: 2.83s\n",
      "2075:\tlearn: 4096343.0721786\ttotal: 6.08s\tremaining: 2.83s\n",
      "2076:\tlearn: 4095614.2703359\ttotal: 6.08s\tremaining: 2.82s\n",
      "2077:\tlearn: 4094869.9280283\ttotal: 6.09s\tremaining: 2.82s\n",
      "2078:\tlearn: 4094667.2030922\ttotal: 6.09s\tremaining: 2.82s\n",
      "2079:\tlearn: 4094039.3084139\ttotal: 6.09s\tremaining: 2.81s\n",
      "2080:\tlearn: 4093564.9214050\ttotal: 6.09s\tremaining: 2.81s\n",
      "2081:\tlearn: 4093019.7363180\ttotal: 6.1s\tremaining: 2.81s\n",
      "2082:\tlearn: 4092509.7518800\ttotal: 6.1s\tremaining: 2.81s\n",
      "2083:\tlearn: 4092077.1051603\ttotal: 6.1s\tremaining: 2.8s\n",
      "2084:\tlearn: 4090937.1905892\ttotal: 6.11s\tremaining: 2.8s\n",
      "2085:\tlearn: 4090440.9679969\ttotal: 6.11s\tremaining: 2.8s\n",
      "2086:\tlearn: 4089492.9069674\ttotal: 6.11s\tremaining: 2.79s\n",
      "2087:\tlearn: 4088868.4997362\ttotal: 6.12s\tremaining: 2.79s\n",
      "2088:\tlearn: 4088537.5816827\ttotal: 6.12s\tremaining: 2.79s\n",
      "2089:\tlearn: 4087939.2060078\ttotal: 6.12s\tremaining: 2.79s\n",
      "2090:\tlearn: 4087301.2312503\ttotal: 6.12s\tremaining: 2.78s\n",
      "2091:\tlearn: 4086626.3453218\ttotal: 6.13s\tremaining: 2.78s\n",
      "2092:\tlearn: 4086158.3472590\ttotal: 6.13s\tremaining: 2.78s\n",
      "2093:\tlearn: 4085431.3009908\ttotal: 6.13s\tremaining: 2.77s\n",
      "2094:\tlearn: 4085033.7072543\ttotal: 6.13s\tremaining: 2.77s\n",
      "2095:\tlearn: 4083989.6619693\ttotal: 6.14s\tremaining: 2.77s\n",
      "2096:\tlearn: 4083975.7679522\ttotal: 6.14s\tremaining: 2.76s\n",
      "2097:\tlearn: 4083502.4759538\ttotal: 6.14s\tremaining: 2.76s\n",
      "2098:\tlearn: 4083162.6785825\ttotal: 6.14s\tremaining: 2.76s\n",
      "2099:\tlearn: 4082735.3248772\ttotal: 6.15s\tremaining: 2.75s\n",
      "2100:\tlearn: 4082541.1195116\ttotal: 6.15s\tremaining: 2.75s\n",
      "2101:\tlearn: 4082139.4163626\ttotal: 6.16s\tremaining: 2.75s\n",
      "2102:\tlearn: 4081735.2203683\ttotal: 6.16s\tremaining: 2.75s\n",
      "2103:\tlearn: 4081505.3383122\ttotal: 6.16s\tremaining: 2.74s\n",
      "2104:\tlearn: 4081231.6132023\ttotal: 6.17s\tremaining: 2.74s\n",
      "2105:\tlearn: 4080856.1844392\ttotal: 6.17s\tremaining: 2.74s\n",
      "2106:\tlearn: 4080116.0555309\ttotal: 6.17s\tremaining: 2.73s\n",
      "2107:\tlearn: 4079718.2410700\ttotal: 6.17s\tremaining: 2.73s\n",
      "2108:\tlearn: 4079127.7729349\ttotal: 6.18s\tremaining: 2.73s\n",
      "2109:\tlearn: 4078011.9855588\ttotal: 6.18s\tremaining: 2.73s\n",
      "2110:\tlearn: 4077649.8376549\ttotal: 6.19s\tremaining: 2.73s\n",
      "2111:\tlearn: 4077237.9471598\ttotal: 6.19s\tremaining: 2.72s\n",
      "2112:\tlearn: 4076517.8955631\ttotal: 6.2s\tremaining: 2.72s\n",
      "2113:\tlearn: 4076027.5190674\ttotal: 6.2s\tremaining: 2.72s\n",
      "2114:\tlearn: 4075254.2367924\ttotal: 6.2s\tremaining: 2.71s\n",
      "2115:\tlearn: 4074973.1605969\ttotal: 6.21s\tremaining: 2.71s\n",
      "2116:\tlearn: 4074729.4620860\ttotal: 6.21s\tremaining: 2.71s\n",
      "2117:\tlearn: 4074139.4057746\ttotal: 6.21s\tremaining: 2.71s\n",
      "2118:\tlearn: 4073627.1480201\ttotal: 6.21s\tremaining: 2.7s\n",
      "2119:\tlearn: 4073197.6450594\ttotal: 6.22s\tremaining: 2.7s\n",
      "2120:\tlearn: 4072848.3340096\ttotal: 6.22s\tremaining: 2.7s\n",
      "2121:\tlearn: 4072376.4407012\ttotal: 6.22s\tremaining: 2.69s\n",
      "2122:\tlearn: 4071945.0757694\ttotal: 6.23s\tremaining: 2.69s\n",
      "2123:\tlearn: 4071197.5117092\ttotal: 6.23s\tremaining: 2.69s\n",
      "2124:\tlearn: 4070854.3129475\ttotal: 6.23s\tremaining: 2.69s\n",
      "2125:\tlearn: 4070176.7162597\ttotal: 6.24s\tremaining: 2.68s\n",
      "2126:\tlearn: 4069702.9292074\ttotal: 6.24s\tremaining: 2.68s\n",
      "2127:\tlearn: 4069283.5612525\ttotal: 6.24s\tremaining: 2.68s\n",
      "2128:\tlearn: 4068928.7390432\ttotal: 6.25s\tremaining: 2.67s\n",
      "2129:\tlearn: 4068548.5468955\ttotal: 6.25s\tremaining: 2.67s\n",
      "2130:\tlearn: 4068239.9597449\ttotal: 6.25s\tremaining: 2.67s\n",
      "2131:\tlearn: 4067788.1587398\ttotal: 6.25s\tremaining: 2.67s\n",
      "2132:\tlearn: 4067242.8122663\ttotal: 6.26s\tremaining: 2.66s\n",
      "2133:\tlearn: 4066849.7676225\ttotal: 6.26s\tremaining: 2.66s\n",
      "2134:\tlearn: 4065751.3789846\ttotal: 6.26s\tremaining: 2.66s\n",
      "2135:\tlearn: 4064820.1449331\ttotal: 6.27s\tremaining: 2.66s\n",
      "2136:\tlearn: 4064306.2938030\ttotal: 6.27s\tremaining: 2.65s\n",
      "2137:\tlearn: 4063435.0526532\ttotal: 6.28s\tremaining: 2.65s\n",
      "2138:\tlearn: 4063295.9424046\ttotal: 6.28s\tremaining: 2.65s\n",
      "2139:\tlearn: 4062411.4622660\ttotal: 6.28s\tremaining: 2.65s\n",
      "2140:\tlearn: 4061889.4755288\ttotal: 6.29s\tremaining: 2.64s\n",
      "2141:\tlearn: 4061400.5729786\ttotal: 6.29s\tremaining: 2.64s\n",
      "2142:\tlearn: 4060977.5156261\ttotal: 6.29s\tremaining: 2.64s\n",
      "2143:\tlearn: 4060569.7355823\ttotal: 6.29s\tremaining: 2.63s\n",
      "2144:\tlearn: 4059529.1140808\ttotal: 6.3s\tremaining: 2.63s\n",
      "2145:\tlearn: 4059092.8735869\ttotal: 6.3s\tremaining: 2.63s\n",
      "2146:\tlearn: 4058546.4069787\ttotal: 6.3s\tremaining: 2.62s\n",
      "2147:\tlearn: 4058097.3085444\ttotal: 6.31s\tremaining: 2.62s\n",
      "2148:\tlearn: 4057558.7787812\ttotal: 6.31s\tremaining: 2.62s\n",
      "2149:\tlearn: 4056930.9564507\ttotal: 6.31s\tremaining: 2.62s\n",
      "2150:\tlearn: 4056477.9162094\ttotal: 6.32s\tremaining: 2.61s\n",
      "2151:\tlearn: 4055825.3037971\ttotal: 6.32s\tremaining: 2.61s\n",
      "2152:\tlearn: 4055589.4821771\ttotal: 6.32s\tremaining: 2.61s\n",
      "2153:\tlearn: 4054837.7723243\ttotal: 6.32s\tremaining: 2.6s\n",
      "2154:\tlearn: 4053756.8157987\ttotal: 6.33s\tremaining: 2.6s\n",
      "2155:\tlearn: 4053217.0532767\ttotal: 6.33s\tremaining: 2.6s\n",
      "2156:\tlearn: 4052773.7426051\ttotal: 6.33s\tremaining: 2.6s\n",
      "2157:\tlearn: 4052005.0617570\ttotal: 6.34s\tremaining: 2.59s\n",
      "2158:\tlearn: 4051475.8377535\ttotal: 6.34s\tremaining: 2.59s\n",
      "2159:\tlearn: 4051079.2463194\ttotal: 6.35s\tremaining: 2.59s\n",
      "2160:\tlearn: 4050375.2906705\ttotal: 6.35s\tremaining: 2.58s\n",
      "2161:\tlearn: 4049874.1358757\ttotal: 6.35s\tremaining: 2.58s\n",
      "2162:\tlearn: 4049358.2173370\ttotal: 6.35s\tremaining: 2.58s\n",
      "2163:\tlearn: 4048774.8404738\ttotal: 6.36s\tremaining: 2.58s\n",
      "2164:\tlearn: 4048223.9833895\ttotal: 6.36s\tremaining: 2.57s\n",
      "2165:\tlearn: 4047793.7661206\ttotal: 6.36s\tremaining: 2.57s\n",
      "2166:\tlearn: 4047414.1379062\ttotal: 6.36s\tremaining: 2.57s\n",
      "2167:\tlearn: 4046726.5744878\ttotal: 6.37s\tremaining: 2.56s\n",
      "2168:\tlearn: 4046027.0340553\ttotal: 6.37s\tremaining: 2.56s\n",
      "2169:\tlearn: 4045510.4884224\ttotal: 6.37s\tremaining: 2.56s\n",
      "2170:\tlearn: 4044924.4908030\ttotal: 6.38s\tremaining: 2.56s\n",
      "2171:\tlearn: 4044537.3205193\ttotal: 6.38s\tremaining: 2.55s\n",
      "2172:\tlearn: 4043764.6285774\ttotal: 6.38s\tremaining: 2.55s\n",
      "2173:\tlearn: 4042729.0981165\ttotal: 6.39s\tremaining: 2.55s\n",
      "2174:\tlearn: 4042356.8375068\ttotal: 6.39s\tremaining: 2.54s\n",
      "2175:\tlearn: 4041587.0086037\ttotal: 6.4s\tremaining: 2.54s\n",
      "2176:\tlearn: 4040770.3817328\ttotal: 6.4s\tremaining: 2.54s\n",
      "2177:\tlearn: 4040474.8876727\ttotal: 6.4s\tremaining: 2.54s\n",
      "2178:\tlearn: 4040001.6820355\ttotal: 6.4s\tremaining: 2.53s\n",
      "2179:\tlearn: 4039603.5336558\ttotal: 6.41s\tremaining: 2.53s\n",
      "2180:\tlearn: 4038997.7603510\ttotal: 6.41s\tremaining: 2.53s\n",
      "2181:\tlearn: 4038372.6498288\ttotal: 6.41s\tremaining: 2.52s\n",
      "2182:\tlearn: 4037845.7272794\ttotal: 6.42s\tremaining: 2.52s\n",
      "2183:\tlearn: 4037629.2513165\ttotal: 6.42s\tremaining: 2.52s\n",
      "2184:\tlearn: 4036955.8659665\ttotal: 6.42s\tremaining: 2.52s\n",
      "2185:\tlearn: 4036482.8376356\ttotal: 6.43s\tremaining: 2.51s\n",
      "2186:\tlearn: 4035852.9873328\ttotal: 6.43s\tremaining: 2.51s\n",
      "2187:\tlearn: 4035616.9099701\ttotal: 6.43s\tremaining: 2.51s\n",
      "2188:\tlearn: 4035263.3544995\ttotal: 6.43s\tremaining: 2.5s\n",
      "2189:\tlearn: 4034393.2559375\ttotal: 6.44s\tremaining: 2.5s\n",
      "2190:\tlearn: 4033734.7736667\ttotal: 6.44s\tremaining: 2.5s\n",
      "2191:\tlearn: 4033175.1992768\ttotal: 6.44s\tremaining: 2.5s\n",
      "2192:\tlearn: 4032706.9942414\ttotal: 6.45s\tremaining: 2.49s\n",
      "2193:\tlearn: 4032159.1973526\ttotal: 6.45s\tremaining: 2.49s\n",
      "2194:\tlearn: 4031838.7447834\ttotal: 6.45s\tremaining: 2.49s\n",
      "2195:\tlearn: 4031114.5398636\ttotal: 6.45s\tremaining: 2.48s\n",
      "2196:\tlearn: 4030554.2041661\ttotal: 6.46s\tremaining: 2.48s\n",
      "2197:\tlearn: 4030317.9297950\ttotal: 6.46s\tremaining: 2.48s\n",
      "2198:\tlearn: 4029740.8603783\ttotal: 6.46s\tremaining: 2.47s\n",
      "2199:\tlearn: 4029125.0823457\ttotal: 6.47s\tremaining: 2.47s\n",
      "2200:\tlearn: 4028826.6199036\ttotal: 6.47s\tremaining: 2.47s\n",
      "2201:\tlearn: 4028515.8301860\ttotal: 6.47s\tremaining: 2.47s\n",
      "2202:\tlearn: 4028109.5720537\ttotal: 6.47s\tremaining: 2.46s\n",
      "2203:\tlearn: 4027128.5515831\ttotal: 6.48s\tremaining: 2.46s\n",
      "2204:\tlearn: 4025951.1130967\ttotal: 6.48s\tremaining: 2.46s\n",
      "2205:\tlearn: 4025562.4543115\ttotal: 6.48s\tremaining: 2.45s\n",
      "2206:\tlearn: 4024904.4838214\ttotal: 6.49s\tremaining: 2.45s\n",
      "2207:\tlearn: 4024604.0299492\ttotal: 6.49s\tremaining: 2.45s\n",
      "2208:\tlearn: 4024137.5738379\ttotal: 6.49s\tremaining: 2.44s\n",
      "2209:\tlearn: 4023428.4048032\ttotal: 6.49s\tremaining: 2.44s\n",
      "2210:\tlearn: 4023134.1511266\ttotal: 6.5s\tremaining: 2.44s\n",
      "2211:\tlearn: 4022276.4515580\ttotal: 6.5s\tremaining: 2.44s\n",
      "2212:\tlearn: 4021705.3431620\ttotal: 6.5s\tremaining: 2.43s\n",
      "2213:\tlearn: 4020720.6690291\ttotal: 6.51s\tremaining: 2.43s\n",
      "2214:\tlearn: 4020217.9359948\ttotal: 6.51s\tremaining: 2.43s\n",
      "2215:\tlearn: 4019783.2819792\ttotal: 6.51s\tremaining: 2.42s\n",
      "2216:\tlearn: 4019543.1024352\ttotal: 6.51s\tremaining: 2.42s\n",
      "2217:\tlearn: 4019152.4067010\ttotal: 6.52s\tremaining: 2.42s\n",
      "2218:\tlearn: 4018639.6995765\ttotal: 6.52s\tremaining: 2.42s\n",
      "2219:\tlearn: 4017808.6789865\ttotal: 6.52s\tremaining: 2.41s\n",
      "2220:\tlearn: 4017135.5681740\ttotal: 6.53s\tremaining: 2.41s\n",
      "2221:\tlearn: 4016653.0820069\ttotal: 6.53s\tremaining: 2.41s\n",
      "2222:\tlearn: 4016222.2145054\ttotal: 6.53s\tremaining: 2.4s\n",
      "2223:\tlearn: 4015779.9633795\ttotal: 6.53s\tremaining: 2.4s\n",
      "2224:\tlearn: 4015262.3660315\ttotal: 6.54s\tremaining: 2.4s\n",
      "2225:\tlearn: 4015001.8342929\ttotal: 6.54s\tremaining: 2.39s\n",
      "2226:\tlearn: 4014440.2032879\ttotal: 6.54s\tremaining: 2.39s\n",
      "2227:\tlearn: 4014325.4548105\ttotal: 6.55s\tremaining: 2.39s\n",
      "2228:\tlearn: 4014131.4338691\ttotal: 6.55s\tremaining: 2.39s\n",
      "2229:\tlearn: 4013797.8020134\ttotal: 6.55s\tremaining: 2.38s\n",
      "2230:\tlearn: 4012851.5642895\ttotal: 6.56s\tremaining: 2.38s\n",
      "2231:\tlearn: 4012633.5887437\ttotal: 6.56s\tremaining: 2.38s\n",
      "2232:\tlearn: 4012423.5475036\ttotal: 6.56s\tremaining: 2.37s\n",
      "2233:\tlearn: 4011703.0711061\ttotal: 6.56s\tremaining: 2.37s\n",
      "2234:\tlearn: 4011105.3754993\ttotal: 6.57s\tremaining: 2.37s\n",
      "2235:\tlearn: 4010719.8605547\ttotal: 6.57s\tremaining: 2.37s\n",
      "2236:\tlearn: 4010264.8951348\ttotal: 6.57s\tremaining: 2.36s\n",
      "2237:\tlearn: 4010154.2824688\ttotal: 6.58s\tremaining: 2.36s\n",
      "2238:\tlearn: 4009940.5636952\ttotal: 6.58s\tremaining: 2.36s\n",
      "2239:\tlearn: 4009508.4838439\ttotal: 6.58s\tremaining: 2.35s\n",
      "2240:\tlearn: 4009199.4417523\ttotal: 6.58s\tremaining: 2.35s\n",
      "2241:\tlearn: 4008810.1103558\ttotal: 6.59s\tremaining: 2.35s\n",
      "2242:\tlearn: 4008424.9824783\ttotal: 6.59s\tremaining: 2.34s\n",
      "2243:\tlearn: 4007723.7639671\ttotal: 6.59s\tremaining: 2.34s\n",
      "2244:\tlearn: 4006915.0220672\ttotal: 6.59s\tremaining: 2.34s\n",
      "2245:\tlearn: 4006570.1167941\ttotal: 6.6s\tremaining: 2.33s\n",
      "2246:\tlearn: 4005970.9564433\ttotal: 6.6s\tremaining: 2.33s\n",
      "2247:\tlearn: 4005746.1787764\ttotal: 6.6s\tremaining: 2.33s\n",
      "2248:\tlearn: 4005240.1152773\ttotal: 6.61s\tremaining: 2.33s\n",
      "2249:\tlearn: 4004270.4527479\ttotal: 6.61s\tremaining: 2.32s\n",
      "2250:\tlearn: 4003684.0024810\ttotal: 6.61s\tremaining: 2.32s\n",
      "2251:\tlearn: 4003364.8292126\ttotal: 6.61s\tremaining: 2.32s\n",
      "2252:\tlearn: 4003013.6863527\ttotal: 6.62s\tremaining: 2.31s\n",
      "2253:\tlearn: 4002713.6049948\ttotal: 6.62s\tremaining: 2.31s\n",
      "2254:\tlearn: 4002254.2389735\ttotal: 6.62s\tremaining: 2.31s\n",
      "2255:\tlearn: 4001325.1388261\ttotal: 6.63s\tremaining: 2.31s\n",
      "2256:\tlearn: 4001143.6133955\ttotal: 6.63s\tremaining: 2.3s\n",
      "2257:\tlearn: 4001001.2050002\ttotal: 6.63s\tremaining: 2.3s\n",
      "2258:\tlearn: 4000813.4832356\ttotal: 6.63s\tremaining: 2.3s\n",
      "2259:\tlearn: 4000328.7660925\ttotal: 6.64s\tremaining: 2.29s\n",
      "2260:\tlearn: 3999783.8805599\ttotal: 6.64s\tremaining: 2.29s\n",
      "2261:\tlearn: 3999292.1790779\ttotal: 6.64s\tremaining: 2.29s\n",
      "2262:\tlearn: 3998619.3546209\ttotal: 6.64s\tremaining: 2.28s\n",
      "2263:\tlearn: 3997938.4085848\ttotal: 6.65s\tremaining: 2.28s\n",
      "2264:\tlearn: 3997585.2367088\ttotal: 6.65s\tremaining: 2.28s\n",
      "2265:\tlearn: 3997362.5568298\ttotal: 6.65s\tremaining: 2.27s\n",
      "2266:\tlearn: 3996742.6507491\ttotal: 6.66s\tremaining: 2.27s\n",
      "2267:\tlearn: 3996057.9843832\ttotal: 6.66s\tremaining: 2.27s\n",
      "2268:\tlearn: 3995597.4166461\ttotal: 6.66s\tremaining: 2.27s\n",
      "2269:\tlearn: 3994923.4715032\ttotal: 6.66s\tremaining: 2.26s\n",
      "2270:\tlearn: 3994815.0056754\ttotal: 6.67s\tremaining: 2.26s\n",
      "2271:\tlearn: 3994419.5836267\ttotal: 6.67s\tremaining: 2.26s\n",
      "2272:\tlearn: 3993595.8856468\ttotal: 6.67s\tremaining: 2.25s\n",
      "2273:\tlearn: 3992799.1257642\ttotal: 6.67s\tremaining: 2.25s\n",
      "2274:\tlearn: 3992653.6063983\ttotal: 6.68s\tremaining: 2.25s\n",
      "2275:\tlearn: 3992215.5373504\ttotal: 6.68s\tremaining: 2.25s\n",
      "2276:\tlearn: 3991745.1061128\ttotal: 6.68s\tremaining: 2.24s\n",
      "2277:\tlearn: 3991171.1587635\ttotal: 6.69s\tremaining: 2.24s\n",
      "2278:\tlearn: 3990916.0966488\ttotal: 6.69s\tremaining: 2.24s\n",
      "2279:\tlearn: 3990325.2625985\ttotal: 6.69s\tremaining: 2.23s\n",
      "2280:\tlearn: 3989619.4200207\ttotal: 6.69s\tremaining: 2.23s\n",
      "2281:\tlearn: 3989040.2334035\ttotal: 6.7s\tremaining: 2.23s\n",
      "2282:\tlearn: 3988361.2707608\ttotal: 6.7s\tremaining: 2.23s\n",
      "2283:\tlearn: 3987885.8234338\ttotal: 6.7s\tremaining: 2.22s\n",
      "2284:\tlearn: 3987597.9755930\ttotal: 6.71s\tremaining: 2.22s\n",
      "2285:\tlearn: 3986843.5973147\ttotal: 6.71s\tremaining: 2.22s\n",
      "2286:\tlearn: 3986492.9975187\ttotal: 6.71s\tremaining: 2.21s\n",
      "2287:\tlearn: 3986178.2735985\ttotal: 6.71s\tremaining: 2.21s\n",
      "2288:\tlearn: 3985810.1958781\ttotal: 6.72s\tremaining: 2.21s\n",
      "2289:\tlearn: 3984758.3625917\ttotal: 6.72s\tremaining: 2.2s\n",
      "2290:\tlearn: 3984187.7605921\ttotal: 6.72s\tremaining: 2.2s\n"
     ]
    },
    {
     "name": "stdout",
     "output_type": "stream",
     "text": [
      "2291:\tlearn: 3983809.4081657\ttotal: 6.73s\tremaining: 2.2s\n",
      "2292:\tlearn: 3983450.4060942\ttotal: 6.73s\tremaining: 2.19s\n",
      "2293:\tlearn: 3983090.0738567\ttotal: 6.73s\tremaining: 2.19s\n",
      "2294:\tlearn: 3982750.2751909\ttotal: 6.73s\tremaining: 2.19s\n",
      "2295:\tlearn: 3982407.7901733\ttotal: 6.74s\tremaining: 2.19s\n",
      "2296:\tlearn: 3981816.6338022\ttotal: 6.74s\tremaining: 2.18s\n",
      "2297:\tlearn: 3981604.3847899\ttotal: 6.74s\tremaining: 2.18s\n",
      "2298:\tlearn: 3981117.3989418\ttotal: 6.75s\tremaining: 2.18s\n",
      "2299:\tlearn: 3980769.8971593\ttotal: 6.75s\tremaining: 2.17s\n",
      "2300:\tlearn: 3979881.7087493\ttotal: 6.75s\tremaining: 2.17s\n",
      "2301:\tlearn: 3979499.2250584\ttotal: 6.75s\tremaining: 2.17s\n",
      "2302:\tlearn: 3979173.8017631\ttotal: 6.76s\tremaining: 2.17s\n",
      "2303:\tlearn: 3979030.0927047\ttotal: 6.76s\tremaining: 2.16s\n",
      "2304:\tlearn: 3978547.9964698\ttotal: 6.76s\tremaining: 2.16s\n",
      "2305:\tlearn: 3978223.9947505\ttotal: 6.77s\tremaining: 2.16s\n",
      "2306:\tlearn: 3977991.5539996\ttotal: 6.77s\tremaining: 2.15s\n",
      "2307:\tlearn: 3977386.6329185\ttotal: 6.77s\tremaining: 2.15s\n",
      "2308:\tlearn: 3976389.4372149\ttotal: 6.78s\tremaining: 2.15s\n",
      "2309:\tlearn: 3975821.4462599\ttotal: 6.78s\tremaining: 2.15s\n",
      "2310:\tlearn: 3975470.0747182\ttotal: 6.78s\tremaining: 2.14s\n",
      "2311:\tlearn: 3975075.9587188\ttotal: 6.79s\tremaining: 2.14s\n",
      "2312:\tlearn: 3974787.0856618\ttotal: 6.79s\tremaining: 2.14s\n",
      "2313:\tlearn: 3974119.5851963\ttotal: 6.79s\tremaining: 2.13s\n",
      "2314:\tlearn: 3974031.6207285\ttotal: 6.79s\tremaining: 2.13s\n",
      "2315:\tlearn: 3973549.3021435\ttotal: 6.8s\tremaining: 2.13s\n",
      "2316:\tlearn: 3973183.8080553\ttotal: 6.8s\tremaining: 2.13s\n",
      "2317:\tlearn: 3972808.8435886\ttotal: 6.8s\tremaining: 2.12s\n",
      "2318:\tlearn: 3972467.4946903\ttotal: 6.81s\tremaining: 2.12s\n",
      "2319:\tlearn: 3972265.2010011\ttotal: 6.81s\tremaining: 2.12s\n",
      "2320:\tlearn: 3971915.2603365\ttotal: 6.82s\tremaining: 2.11s\n",
      "2321:\tlearn: 3971710.8516454\ttotal: 6.82s\tremaining: 2.11s\n",
      "2322:\tlearn: 3971216.5141154\ttotal: 6.82s\tremaining: 2.11s\n",
      "2323:\tlearn: 3970713.4585516\ttotal: 6.83s\tremaining: 2.11s\n",
      "2324:\tlearn: 3970515.7868295\ttotal: 6.83s\tremaining: 2.1s\n",
      "2325:\tlearn: 3970008.8170556\ttotal: 6.83s\tremaining: 2.1s\n",
      "2326:\tlearn: 3969665.2982899\ttotal: 6.84s\tremaining: 2.1s\n",
      "2327:\tlearn: 3969204.1314232\ttotal: 6.84s\tremaining: 2.1s\n",
      "2328:\tlearn: 3968905.4399922\ttotal: 6.84s\tremaining: 2.09s\n",
      "2329:\tlearn: 3968513.4024022\ttotal: 6.85s\tremaining: 2.09s\n",
      "2330:\tlearn: 3968152.2770499\ttotal: 6.85s\tremaining: 2.09s\n",
      "2331:\tlearn: 3967799.7477784\ttotal: 6.85s\tremaining: 2.08s\n",
      "2332:\tlearn: 3967185.4465642\ttotal: 6.86s\tremaining: 2.08s\n",
      "2333:\tlearn: 3966564.5238673\ttotal: 6.86s\tremaining: 2.08s\n",
      "2334:\tlearn: 3966323.8630341\ttotal: 6.86s\tremaining: 2.08s\n",
      "2335:\tlearn: 3965997.1424338\ttotal: 6.87s\tremaining: 2.07s\n",
      "2336:\tlearn: 3965738.1826285\ttotal: 6.87s\tremaining: 2.07s\n",
      "2337:\tlearn: 3964949.3876438\ttotal: 6.87s\tremaining: 2.07s\n",
      "2338:\tlearn: 3964259.8438986\ttotal: 6.88s\tremaining: 2.06s\n",
      "2339:\tlearn: 3963948.4913142\ttotal: 6.88s\tremaining: 2.06s\n",
      "2340:\tlearn: 3963549.1932471\ttotal: 6.88s\tremaining: 2.06s\n",
      "2341:\tlearn: 3963221.4257666\ttotal: 6.88s\tremaining: 2.05s\n",
      "2342:\tlearn: 3962610.1502320\ttotal: 6.89s\tremaining: 2.05s\n",
      "2343:\tlearn: 3961941.2649116\ttotal: 6.89s\tremaining: 2.05s\n",
      "2344:\tlearn: 3961409.2560993\ttotal: 6.89s\tremaining: 2.05s\n",
      "2345:\tlearn: 3960862.2259871\ttotal: 6.9s\tremaining: 2.04s\n",
      "2346:\tlearn: 3960632.0768772\ttotal: 6.9s\tremaining: 2.04s\n",
      "2347:\tlearn: 3960299.1269510\ttotal: 6.9s\tremaining: 2.04s\n",
      "2348:\tlearn: 3959652.6836334\ttotal: 6.91s\tremaining: 2.03s\n",
      "2349:\tlearn: 3958974.1922213\ttotal: 6.91s\tremaining: 2.03s\n",
      "2350:\tlearn: 3958787.6900924\ttotal: 6.91s\tremaining: 2.03s\n",
      "2351:\tlearn: 3958199.1053755\ttotal: 6.91s\tremaining: 2.02s\n",
      "2352:\tlearn: 3958098.7342592\ttotal: 6.92s\tremaining: 2.02s\n",
      "2353:\tlearn: 3957691.2414823\ttotal: 6.92s\tremaining: 2.02s\n",
      "2354:\tlearn: 3956851.3943257\ttotal: 6.92s\tremaining: 2.02s\n",
      "2355:\tlearn: 3956311.7297903\ttotal: 6.93s\tremaining: 2.01s\n",
      "2356:\tlearn: 3955721.0411126\ttotal: 6.93s\tremaining: 2.01s\n",
      "2357:\tlearn: 3955173.6892778\ttotal: 6.93s\tremaining: 2.01s\n",
      "2358:\tlearn: 3954488.1821099\ttotal: 6.93s\tremaining: 2s\n",
      "2359:\tlearn: 3953788.1585942\ttotal: 6.94s\tremaining: 2s\n",
      "2360:\tlearn: 3953362.3536885\ttotal: 6.94s\tremaining: 2s\n",
      "2361:\tlearn: 3953226.4860117\ttotal: 6.95s\tremaining: 2s\n",
      "2362:\tlearn: 3952527.0218815\ttotal: 6.95s\tremaining: 1.99s\n",
      "2363:\tlearn: 3952221.1814357\ttotal: 6.96s\tremaining: 1.99s\n",
      "2364:\tlearn: 3951797.5866500\ttotal: 6.96s\tremaining: 1.99s\n",
      "2365:\tlearn: 3951472.1250937\ttotal: 6.96s\tremaining: 1.99s\n",
      "2366:\tlearn: 3950961.9359121\ttotal: 6.96s\tremaining: 1.98s\n",
      "2367:\tlearn: 3950591.9709102\ttotal: 6.97s\tremaining: 1.98s\n",
      "2368:\tlearn: 3949986.0834944\ttotal: 6.97s\tremaining: 1.98s\n",
      "2369:\tlearn: 3949357.0220839\ttotal: 6.97s\tremaining: 1.97s\n",
      "2370:\tlearn: 3948904.5315032\ttotal: 6.98s\tremaining: 1.97s\n",
      "2371:\tlearn: 3948400.7354266\ttotal: 6.98s\tremaining: 1.97s\n",
      "2372:\tlearn: 3947795.9311360\ttotal: 6.98s\tremaining: 1.97s\n",
      "2373:\tlearn: 3947733.0131562\ttotal: 6.98s\tremaining: 1.96s\n",
      "2374:\tlearn: 3947084.2901466\ttotal: 6.99s\tremaining: 1.96s\n",
      "2375:\tlearn: 3946284.9705826\ttotal: 6.99s\tremaining: 1.96s\n",
      "2376:\tlearn: 3945468.2857806\ttotal: 6.99s\tremaining: 1.95s\n",
      "2377:\tlearn: 3944978.3597702\ttotal: 7s\tremaining: 1.95s\n",
      "2378:\tlearn: 3944625.3406373\ttotal: 7s\tremaining: 1.95s\n",
      "2379:\tlearn: 3944132.6284933\ttotal: 7s\tremaining: 1.94s\n",
      "2380:\tlearn: 3943713.6987653\ttotal: 7s\tremaining: 1.94s\n",
      "2381:\tlearn: 3943618.4128630\ttotal: 7.01s\tremaining: 1.94s\n",
      "2382:\tlearn: 3942867.2167754\ttotal: 7.01s\tremaining: 1.94s\n",
      "2383:\tlearn: 3942411.6239744\ttotal: 7.01s\tremaining: 1.93s\n",
      "2384:\tlearn: 3941930.8178393\ttotal: 7.01s\tremaining: 1.93s\n",
      "2385:\tlearn: 3941485.3693142\ttotal: 7.02s\tremaining: 1.93s\n",
      "2386:\tlearn: 3941361.5565062\ttotal: 7.02s\tremaining: 1.92s\n",
      "2387:\tlearn: 3940419.3739993\ttotal: 7.02s\tremaining: 1.92s\n",
      "2388:\tlearn: 3939852.2759988\ttotal: 7.03s\tremaining: 1.92s\n",
      "2389:\tlearn: 3939532.8984650\ttotal: 7.03s\tremaining: 1.91s\n",
      "2390:\tlearn: 3938891.4942214\ttotal: 7.03s\tremaining: 1.91s\n",
      "2391:\tlearn: 3938629.8248463\ttotal: 7.04s\tremaining: 1.91s\n",
      "2392:\tlearn: 3938191.5214075\ttotal: 7.04s\tremaining: 1.91s\n",
      "2393:\tlearn: 3937752.8378905\ttotal: 7.04s\tremaining: 1.9s\n",
      "2394:\tlearn: 3937167.4840495\ttotal: 7.04s\tremaining: 1.9s\n",
      "2395:\tlearn: 3936591.8592152\ttotal: 7.05s\tremaining: 1.9s\n",
      "2396:\tlearn: 3935969.1711352\ttotal: 7.05s\tremaining: 1.89s\n",
      "2397:\tlearn: 3935241.4659673\ttotal: 7.05s\tremaining: 1.89s\n",
      "2398:\tlearn: 3934807.8541118\ttotal: 7.06s\tremaining: 1.89s\n",
      "2399:\tlearn: 3934060.9858814\ttotal: 7.06s\tremaining: 1.89s\n",
      "2400:\tlearn: 3933911.9934687\ttotal: 7.06s\tremaining: 1.88s\n",
      "2401:\tlearn: 3933529.2811883\ttotal: 7.07s\tremaining: 1.88s\n",
      "2402:\tlearn: 3933297.5589542\ttotal: 7.07s\tremaining: 1.88s\n",
      "2403:\tlearn: 3932551.4228883\ttotal: 7.07s\tremaining: 1.87s\n",
      "2404:\tlearn: 3932225.0782571\ttotal: 7.07s\tremaining: 1.87s\n",
      "2405:\tlearn: 3931780.2823463\ttotal: 7.08s\tremaining: 1.87s\n",
      "2406:\tlearn: 3931365.4901238\ttotal: 7.08s\tremaining: 1.86s\n",
      "2407:\tlearn: 3930451.2694069\ttotal: 7.08s\tremaining: 1.86s\n",
      "2408:\tlearn: 3930085.1773002\ttotal: 7.08s\tremaining: 1.86s\n",
      "2409:\tlearn: 3929411.5289773\ttotal: 7.09s\tremaining: 1.85s\n",
      "2410:\tlearn: 3929029.2503684\ttotal: 7.09s\tremaining: 1.85s\n",
      "2411:\tlearn: 3928444.8500088\ttotal: 7.09s\tremaining: 1.85s\n",
      "2412:\tlearn: 3927666.6294368\ttotal: 7.1s\tremaining: 1.85s\n",
      "2413:\tlearn: 3927457.5157956\ttotal: 7.1s\tremaining: 1.84s\n",
      "2414:\tlearn: 3927019.8467402\ttotal: 7.1s\tremaining: 1.84s\n",
      "2415:\tlearn: 3926628.4603090\ttotal: 7.1s\tremaining: 1.84s\n",
      "2416:\tlearn: 3926450.0461955\ttotal: 7.11s\tremaining: 1.83s\n",
      "2417:\tlearn: 3926105.4861201\ttotal: 7.11s\tremaining: 1.83s\n",
      "2418:\tlearn: 3925188.0708237\ttotal: 7.11s\tremaining: 1.83s\n",
      "2419:\tlearn: 3924780.9553687\ttotal: 7.11s\tremaining: 1.82s\n",
      "2420:\tlearn: 3924661.4323668\ttotal: 7.12s\tremaining: 1.82s\n",
      "2421:\tlearn: 3924247.3120495\ttotal: 7.12s\tremaining: 1.82s\n",
      "2422:\tlearn: 3923890.9560327\ttotal: 7.12s\tremaining: 1.82s\n",
      "2423:\tlearn: 3923670.0597690\ttotal: 7.13s\tremaining: 1.81s\n",
      "2424:\tlearn: 3923213.5105412\ttotal: 7.13s\tremaining: 1.81s\n",
      "2425:\tlearn: 3922823.2739714\ttotal: 7.13s\tremaining: 1.81s\n",
      "2426:\tlearn: 3922101.7070964\ttotal: 7.13s\tremaining: 1.8s\n",
      "2427:\tlearn: 3921780.1244265\ttotal: 7.14s\tremaining: 1.8s\n",
      "2428:\tlearn: 3921421.6013841\ttotal: 7.14s\tremaining: 1.8s\n",
      "2429:\tlearn: 3921211.3139278\ttotal: 7.14s\tremaining: 1.8s\n",
      "2430:\tlearn: 3920883.3623155\ttotal: 7.14s\tremaining: 1.79s\n",
      "2431:\tlearn: 3920369.3106057\ttotal: 7.15s\tremaining: 1.79s\n",
      "2432:\tlearn: 3920120.8949209\ttotal: 7.15s\tremaining: 1.79s\n",
      "2433:\tlearn: 3919764.6027037\ttotal: 7.15s\tremaining: 1.78s\n",
      "2434:\tlearn: 3919180.2013308\ttotal: 7.16s\tremaining: 1.78s\n",
      "2435:\tlearn: 3918645.4464992\ttotal: 7.16s\tremaining: 1.78s\n",
      "2436:\tlearn: 3918108.1092700\ttotal: 7.16s\tremaining: 1.77s\n",
      "2437:\tlearn: 3917963.2286624\ttotal: 7.17s\tremaining: 1.77s\n",
      "2438:\tlearn: 3917747.5965324\ttotal: 7.17s\tremaining: 1.77s\n",
      "2439:\tlearn: 3917429.0500016\ttotal: 7.17s\tremaining: 1.77s\n",
      "2440:\tlearn: 3916737.9144594\ttotal: 7.17s\tremaining: 1.76s\n",
      "2441:\tlearn: 3916621.0073180\ttotal: 7.18s\tremaining: 1.76s\n",
      "2442:\tlearn: 3916141.5221367\ttotal: 7.18s\tremaining: 1.76s\n",
      "2443:\tlearn: 3915862.4472360\ttotal: 7.18s\tremaining: 1.75s\n",
      "2444:\tlearn: 3915284.3707414\ttotal: 7.18s\tremaining: 1.75s\n",
      "2445:\tlearn: 3915010.9677510\ttotal: 7.19s\tremaining: 1.75s\n",
      "2446:\tlearn: 3914906.0212250\ttotal: 7.19s\tremaining: 1.75s\n",
      "2447:\tlearn: 3914542.7101557\ttotal: 7.19s\tremaining: 1.74s\n",
      "2448:\tlearn: 3913827.8448286\ttotal: 7.2s\tremaining: 1.74s\n",
      "2449:\tlearn: 3913311.0380093\ttotal: 7.2s\tremaining: 1.74s\n",
      "2450:\tlearn: 3912384.6776637\ttotal: 7.2s\tremaining: 1.73s\n",
      "2451:\tlearn: 3911792.9373798\ttotal: 7.2s\tremaining: 1.73s\n",
      "2452:\tlearn: 3911592.6375646\ttotal: 7.21s\tremaining: 1.73s\n",
      "2453:\tlearn: 3910878.8820043\ttotal: 7.21s\tremaining: 1.72s\n",
      "2454:\tlearn: 3910715.7249129\ttotal: 7.21s\tremaining: 1.72s\n",
      "2455:\tlearn: 3910572.1300472\ttotal: 7.21s\tremaining: 1.72s\n",
      "2456:\tlearn: 3910117.5885491\ttotal: 7.22s\tremaining: 1.72s\n",
      "2457:\tlearn: 3909673.2134171\ttotal: 7.22s\tremaining: 1.71s\n",
      "2458:\tlearn: 3909503.3280867\ttotal: 7.22s\tremaining: 1.71s\n",
      "2459:\tlearn: 3909155.0715973\ttotal: 7.22s\tremaining: 1.71s\n",
      "2460:\tlearn: 3909006.3517586\ttotal: 7.23s\tremaining: 1.7s\n",
      "2461:\tlearn: 3908470.4852353\ttotal: 7.23s\tremaining: 1.7s\n",
      "2462:\tlearn: 3908161.0552747\ttotal: 7.23s\tremaining: 1.7s\n",
      "2463:\tlearn: 3907549.0845053\ttotal: 7.24s\tremaining: 1.69s\n",
      "2464:\tlearn: 3907060.8683516\ttotal: 7.24s\tremaining: 1.69s\n",
      "2465:\tlearn: 3906466.2962322\ttotal: 7.24s\tremaining: 1.69s\n",
      "2466:\tlearn: 3905875.4394803\ttotal: 7.24s\tremaining: 1.69s\n",
      "2467:\tlearn: 3905435.4447661\ttotal: 7.25s\tremaining: 1.68s\n",
      "2468:\tlearn: 3905060.5649699\ttotal: 7.25s\tremaining: 1.68s\n",
      "2469:\tlearn: 3904313.0811620\ttotal: 7.25s\tremaining: 1.68s\n",
      "2470:\tlearn: 3903852.4953336\ttotal: 7.25s\tremaining: 1.67s\n",
      "2471:\tlearn: 3903635.8533078\ttotal: 7.26s\tremaining: 1.67s\n",
      "2472:\tlearn: 3902889.3499974\ttotal: 7.26s\tremaining: 1.67s\n",
      "2473:\tlearn: 3901856.7179339\ttotal: 7.26s\tremaining: 1.66s\n",
      "2474:\tlearn: 3901458.1336493\ttotal: 7.26s\tremaining: 1.66s\n",
      "2475:\tlearn: 3900690.5362302\ttotal: 7.27s\tremaining: 1.66s\n",
      "2476:\tlearn: 3900408.9424375\ttotal: 7.27s\tremaining: 1.66s\n",
      "2477:\tlearn: 3900023.4199623\ttotal: 7.27s\tremaining: 1.65s\n",
      "2478:\tlearn: 3899354.5891557\ttotal: 7.27s\tremaining: 1.65s\n",
      "2479:\tlearn: 3899094.5044326\ttotal: 7.28s\tremaining: 1.65s\n",
      "2480:\tlearn: 3898125.8058946\ttotal: 7.28s\tremaining: 1.64s\n",
      "2481:\tlearn: 3897648.5656056\ttotal: 7.28s\tremaining: 1.64s\n",
      "2482:\tlearn: 3897371.0925337\ttotal: 7.28s\tremaining: 1.64s\n",
      "2483:\tlearn: 3896908.8398263\ttotal: 7.29s\tremaining: 1.63s\n",
      "2484:\tlearn: 3896305.1379198\ttotal: 7.29s\tremaining: 1.63s\n",
      "2485:\tlearn: 3895938.3495442\ttotal: 7.29s\tremaining: 1.63s\n",
      "2486:\tlearn: 3895631.5420064\ttotal: 7.29s\tremaining: 1.63s\n",
      "2487:\tlearn: 3895070.5039669\ttotal: 7.3s\tremaining: 1.62s\n",
      "2488:\tlearn: 3894427.0521808\ttotal: 7.3s\tremaining: 1.62s\n",
      "2489:\tlearn: 3893977.2533423\ttotal: 7.3s\tremaining: 1.62s\n",
      "2490:\tlearn: 3893459.3064345\ttotal: 7.31s\tremaining: 1.61s\n",
      "2491:\tlearn: 3893195.6286624\ttotal: 7.31s\tremaining: 1.61s\n",
      "2492:\tlearn: 3892896.2485088\ttotal: 7.31s\tremaining: 1.61s\n",
      "2493:\tlearn: 3892637.9510647\ttotal: 7.32s\tremaining: 1.6s\n",
      "2494:\tlearn: 3892054.9799256\ttotal: 7.32s\tremaining: 1.6s\n",
      "2495:\tlearn: 3891169.7288262\ttotal: 7.32s\tremaining: 1.6s\n",
      "2496:\tlearn: 3890447.7115514\ttotal: 7.33s\tremaining: 1.6s\n",
      "2497:\tlearn: 3890216.3997576\ttotal: 7.33s\tremaining: 1.59s\n",
      "2498:\tlearn: 3889910.1557354\ttotal: 7.33s\tremaining: 1.59s\n",
      "2499:\tlearn: 3889560.1473677\ttotal: 7.33s\tremaining: 1.59s\n",
      "2500:\tlearn: 3889391.6935264\ttotal: 7.33s\tremaining: 1.58s\n",
      "2501:\tlearn: 3888972.8810973\ttotal: 7.34s\tremaining: 1.58s\n",
      "2502:\tlearn: 3888753.2096348\ttotal: 7.34s\tremaining: 1.58s\n",
      "2503:\tlearn: 3888256.6416360\ttotal: 7.34s\tremaining: 1.57s\n",
      "2504:\tlearn: 3887711.3362629\ttotal: 7.35s\tremaining: 1.57s\n",
      "2505:\tlearn: 3887185.5415799\ttotal: 7.35s\tremaining: 1.57s\n",
      "2506:\tlearn: 3886895.0352955\ttotal: 7.35s\tremaining: 1.56s\n",
      "2507:\tlearn: 3886339.0124399\ttotal: 7.35s\tremaining: 1.56s\n",
      "2508:\tlearn: 3885943.6375668\ttotal: 7.36s\tremaining: 1.56s\n",
      "2509:\tlearn: 3885325.1011146\ttotal: 7.36s\tremaining: 1.56s\n",
      "2510:\tlearn: 3884712.9882764\ttotal: 7.36s\tremaining: 1.55s\n",
      "2511:\tlearn: 3884456.5302248\ttotal: 7.36s\tremaining: 1.55s\n",
      "2512:\tlearn: 3883853.5683159\ttotal: 7.37s\tremaining: 1.55s\n",
      "2513:\tlearn: 3883545.5955119\ttotal: 7.37s\tremaining: 1.54s\n",
      "2514:\tlearn: 3883092.9242829\ttotal: 7.37s\tremaining: 1.54s\n",
      "2515:\tlearn: 3882711.3355563\ttotal: 7.37s\tremaining: 1.54s\n",
      "2516:\tlearn: 3882171.7261199\ttotal: 7.38s\tremaining: 1.53s\n",
      "2517:\tlearn: 3881586.6323289\ttotal: 7.38s\tremaining: 1.53s\n",
      "2518:\tlearn: 3881240.0249614\ttotal: 7.38s\tremaining: 1.53s\n",
      "2519:\tlearn: 3880960.2916562\ttotal: 7.38s\tremaining: 1.53s\n",
      "2520:\tlearn: 3880627.2672765\ttotal: 7.39s\tremaining: 1.52s\n",
      "2521:\tlearn: 3880276.9100206\ttotal: 7.39s\tremaining: 1.52s\n",
      "2522:\tlearn: 3880029.2484836\ttotal: 7.39s\tremaining: 1.52s\n",
      "2523:\tlearn: 3879257.7973099\ttotal: 7.39s\tremaining: 1.51s\n",
      "2524:\tlearn: 3878626.6930749\ttotal: 7.4s\tremaining: 1.51s\n",
      "2525:\tlearn: 3878019.7068616\ttotal: 7.4s\tremaining: 1.51s\n",
      "2526:\tlearn: 3877592.2418866\ttotal: 7.4s\tremaining: 1.5s\n",
      "2527:\tlearn: 3877221.9606595\ttotal: 7.4s\tremaining: 1.5s\n",
      "2528:\tlearn: 3876879.1566949\ttotal: 7.41s\tremaining: 1.5s\n",
      "2529:\tlearn: 3876355.6133425\ttotal: 7.41s\tremaining: 1.5s\n",
      "2530:\tlearn: 3875797.4194555\ttotal: 7.41s\tremaining: 1.49s\n",
      "2531:\tlearn: 3875324.8828708\ttotal: 7.41s\tremaining: 1.49s\n",
      "2532:\tlearn: 3874839.6433412\ttotal: 7.42s\tremaining: 1.49s\n",
      "2533:\tlearn: 3874391.3070364\ttotal: 7.42s\tremaining: 1.48s\n",
      "2534:\tlearn: 3874240.8735173\ttotal: 7.42s\tremaining: 1.48s\n",
      "2535:\tlearn: 3873530.2957648\ttotal: 7.42s\tremaining: 1.48s\n",
      "2536:\tlearn: 3872905.0114718\ttotal: 7.43s\tremaining: 1.48s\n",
      "2537:\tlearn: 3872310.1378762\ttotal: 7.43s\tremaining: 1.47s\n",
      "2538:\tlearn: 3872014.0573863\ttotal: 7.43s\tremaining: 1.47s\n",
      "2539:\tlearn: 3871570.1944094\ttotal: 7.43s\tremaining: 1.47s\n",
      "2540:\tlearn: 3870830.6387833\ttotal: 7.44s\tremaining: 1.46s\n",
      "2541:\tlearn: 3870262.2705049\ttotal: 7.44s\tremaining: 1.46s\n",
      "2542:\tlearn: 3869659.9504447\ttotal: 7.44s\tremaining: 1.46s\n",
      "2543:\tlearn: 3869218.8489649\ttotal: 7.45s\tremaining: 1.45s\n",
      "2544:\tlearn: 3868915.5444748\ttotal: 7.45s\tremaining: 1.45s\n",
      "2545:\tlearn: 3868393.4098773\ttotal: 7.45s\tremaining: 1.45s\n",
      "2546:\tlearn: 3868332.2137328\ttotal: 7.45s\tremaining: 1.45s\n",
      "2547:\tlearn: 3867918.6534854\ttotal: 7.46s\tremaining: 1.44s\n",
      "2548:\tlearn: 3867578.3675226\ttotal: 7.46s\tremaining: 1.44s\n",
      "2549:\tlearn: 3867294.0834872\ttotal: 7.46s\tremaining: 1.44s\n",
      "2550:\tlearn: 3866980.1394735\ttotal: 7.46s\tremaining: 1.43s\n",
      "2551:\tlearn: 3866272.8375590\ttotal: 7.46s\tremaining: 1.43s\n",
      "2552:\tlearn: 3865699.7071901\ttotal: 7.47s\tremaining: 1.43s\n",
      "2553:\tlearn: 3865217.9951284\ttotal: 7.47s\tremaining: 1.42s\n",
      "2554:\tlearn: 3864830.5677118\ttotal: 7.47s\tremaining: 1.42s\n",
      "2555:\tlearn: 3864559.8045399\ttotal: 7.47s\tremaining: 1.42s\n",
      "2556:\tlearn: 3864077.3775891\ttotal: 7.48s\tremaining: 1.42s\n",
      "2557:\tlearn: 3863918.2202396\ttotal: 7.48s\tremaining: 1.41s\n",
      "2558:\tlearn: 3863493.8528662\ttotal: 7.48s\tremaining: 1.41s\n",
      "2559:\tlearn: 3863197.8109336\ttotal: 7.48s\tremaining: 1.41s\n",
      "2560:\tlearn: 3862842.7267538\ttotal: 7.49s\tremaining: 1.4s\n",
      "2561:\tlearn: 3862371.5801392\ttotal: 7.49s\tremaining: 1.4s\n",
      "2562:\tlearn: 3861732.3276862\ttotal: 7.49s\tremaining: 1.4s\n",
      "2563:\tlearn: 3861316.1698226\ttotal: 7.49s\tremaining: 1.39s\n",
      "2564:\tlearn: 3860748.8151331\ttotal: 7.5s\tremaining: 1.39s\n",
      "2565:\tlearn: 3860388.8737983\ttotal: 7.5s\tremaining: 1.39s\n",
      "2566:\tlearn: 3860060.4395065\ttotal: 7.5s\tremaining: 1.39s\n",
      "2567:\tlearn: 3859727.3904951\ttotal: 7.5s\tremaining: 1.38s\n",
      "2568:\tlearn: 3859518.2354897\ttotal: 7.51s\tremaining: 1.38s\n",
      "2569:\tlearn: 3859283.7335672\ttotal: 7.51s\tremaining: 1.38s\n",
      "2570:\tlearn: 3858579.9567901\ttotal: 7.51s\tremaining: 1.37s\n",
      "2571:\tlearn: 3857769.6688339\ttotal: 7.51s\tremaining: 1.37s\n",
      "2572:\tlearn: 3857364.0744509\ttotal: 7.52s\tremaining: 1.37s\n",
      "2573:\tlearn: 3857018.8743864\ttotal: 7.52s\tremaining: 1.36s\n",
      "2574:\tlearn: 3856674.6729727\ttotal: 7.52s\tremaining: 1.36s\n",
      "2575:\tlearn: 3856196.0798062\ttotal: 7.52s\tremaining: 1.36s\n",
      "2576:\tlearn: 3855506.7514839\ttotal: 7.53s\tremaining: 1.35s\n",
      "2577:\tlearn: 3854952.9344156\ttotal: 7.53s\tremaining: 1.35s\n",
      "2578:\tlearn: 3854503.0491290\ttotal: 7.53s\tremaining: 1.35s\n",
      "2579:\tlearn: 3854294.6085946\ttotal: 7.54s\tremaining: 1.35s\n",
      "2580:\tlearn: 3854040.3538553\ttotal: 7.54s\tremaining: 1.34s\n",
      "2581:\tlearn: 3853747.8178375\ttotal: 7.54s\tremaining: 1.34s\n",
      "2582:\tlearn: 3853531.8277977\ttotal: 7.54s\tremaining: 1.34s\n",
      "2583:\tlearn: 3852905.9790639\ttotal: 7.55s\tremaining: 1.33s\n",
      "2584:\tlearn: 3852715.8387045\ttotal: 7.55s\tremaining: 1.33s\n",
      "2585:\tlearn: 3852635.0157405\ttotal: 7.55s\tremaining: 1.33s\n",
      "2586:\tlearn: 3851971.1629277\ttotal: 7.55s\tremaining: 1.32s\n",
      "2587:\tlearn: 3851721.2812202\ttotal: 7.56s\tremaining: 1.32s\n",
      "2588:\tlearn: 3851042.7619229\ttotal: 7.56s\tremaining: 1.32s\n",
      "2589:\tlearn: 3850703.5310407\ttotal: 7.56s\tremaining: 1.32s\n",
      "2590:\tlearn: 3850490.4904648\ttotal: 7.57s\tremaining: 1.31s\n",
      "2591:\tlearn: 3850376.5117100\ttotal: 7.57s\tremaining: 1.31s\n",
      "2592:\tlearn: 3850095.1257717\ttotal: 7.57s\tremaining: 1.31s\n",
      "2593:\tlearn: 3849847.1212438\ttotal: 7.57s\tremaining: 1.3s\n",
      "2594:\tlearn: 3849623.2920425\ttotal: 7.58s\tremaining: 1.3s\n",
      "2595:\tlearn: 3849206.3567422\ttotal: 7.58s\tremaining: 1.3s\n",
      "2596:\tlearn: 3848841.0013103\ttotal: 7.58s\tremaining: 1.29s\n",
      "2597:\tlearn: 3848730.5543294\ttotal: 7.58s\tremaining: 1.29s\n",
      "2598:\tlearn: 3848479.3520899\ttotal: 7.58s\tremaining: 1.29s\n",
      "2599:\tlearn: 3848015.8599201\ttotal: 7.59s\tremaining: 1.29s\n",
      "2600:\tlearn: 3847635.1657015\ttotal: 7.59s\tremaining: 1.28s\n",
      "2601:\tlearn: 3847179.8300558\ttotal: 7.59s\tremaining: 1.28s\n",
      "2602:\tlearn: 3846750.3703145\ttotal: 7.59s\tremaining: 1.28s\n",
      "2603:\tlearn: 3846257.0689373\ttotal: 7.6s\tremaining: 1.27s\n",
      "2604:\tlearn: 3845987.1770870\ttotal: 7.6s\tremaining: 1.27s\n",
      "2605:\tlearn: 3845650.8196625\ttotal: 7.6s\tremaining: 1.27s\n",
      "2606:\tlearn: 3845080.2932303\ttotal: 7.61s\tremaining: 1.27s\n",
      "2607:\tlearn: 3844597.5128836\ttotal: 7.61s\tremaining: 1.26s\n",
      "2608:\tlearn: 3844315.1771549\ttotal: 7.61s\tremaining: 1.26s\n",
      "2609:\tlearn: 3843983.4748142\ttotal: 7.61s\tremaining: 1.26s\n",
      "2610:\tlearn: 3843504.0153459\ttotal: 7.61s\tremaining: 1.25s\n",
      "2611:\tlearn: 3843176.4393684\ttotal: 7.62s\tremaining: 1.25s\n",
      "2612:\tlearn: 3842670.2682848\ttotal: 7.62s\tremaining: 1.25s\n",
      "2613:\tlearn: 3842387.1425722\ttotal: 7.62s\tremaining: 1.25s\n",
      "2614:\tlearn: 3842076.7156987\ttotal: 7.62s\tremaining: 1.24s\n",
      "2615:\tlearn: 3841617.0015120\ttotal: 7.63s\tremaining: 1.24s\n",
      "2616:\tlearn: 3841396.8521507\ttotal: 7.63s\tremaining: 1.24s\n",
      "2617:\tlearn: 3840905.5174017\ttotal: 7.63s\tremaining: 1.23s\n",
      "2618:\tlearn: 3840773.3783427\ttotal: 7.63s\tremaining: 1.23s\n",
      "2619:\tlearn: 3840708.9374421\ttotal: 7.64s\tremaining: 1.23s\n",
      "2620:\tlearn: 3840068.9216382\ttotal: 7.64s\tremaining: 1.22s\n",
      "2621:\tlearn: 3839477.1065992\ttotal: 7.64s\tremaining: 1.22s\n",
      "2622:\tlearn: 3839132.9554716\ttotal: 7.64s\tremaining: 1.22s\n",
      "2623:\tlearn: 3838580.7707591\ttotal: 7.65s\tremaining: 1.22s\n",
      "2624:\tlearn: 3838108.9094504\ttotal: 7.65s\tremaining: 1.21s\n",
      "2625:\tlearn: 3837691.6393803\ttotal: 7.65s\tremaining: 1.21s\n",
      "2626:\tlearn: 3837272.0714173\ttotal: 7.65s\tremaining: 1.21s\n",
      "2627:\tlearn: 3836947.2436468\ttotal: 7.66s\tremaining: 1.2s\n",
      "2628:\tlearn: 3836534.7148911\ttotal: 7.66s\tremaining: 1.2s\n",
      "2629:\tlearn: 3836193.6253981\ttotal: 7.66s\tremaining: 1.2s\n",
      "2630:\tlearn: 3835845.7048324\ttotal: 7.67s\tremaining: 1.19s\n",
      "2631:\tlearn: 3835166.9222052\ttotal: 7.67s\tremaining: 1.19s\n",
      "2632:\tlearn: 3834716.0242001\ttotal: 7.67s\tremaining: 1.19s\n",
      "2633:\tlearn: 3834242.0229582\ttotal: 7.68s\tremaining: 1.19s\n",
      "2634:\tlearn: 3833537.9577232\ttotal: 7.68s\tremaining: 1.18s\n",
      "2635:\tlearn: 3833255.2549662\ttotal: 7.68s\tremaining: 1.18s\n",
      "2636:\tlearn: 3832994.9577713\ttotal: 7.68s\tremaining: 1.18s\n",
      "2637:\tlearn: 3832854.8440105\ttotal: 7.69s\tremaining: 1.17s\n",
      "2638:\tlearn: 3832140.7621004\ttotal: 7.69s\tremaining: 1.17s\n",
      "2639:\tlearn: 3831817.4729900\ttotal: 7.69s\tremaining: 1.17s\n",
      "2640:\tlearn: 3831519.2546664\ttotal: 7.7s\tremaining: 1.17s\n",
      "2641:\tlearn: 3831198.5875298\ttotal: 7.7s\tremaining: 1.16s\n",
      "2642:\tlearn: 3830891.9573190\ttotal: 7.7s\tremaining: 1.16s\n",
      "2643:\tlearn: 3830636.7619852\ttotal: 7.7s\tremaining: 1.16s\n",
      "2644:\tlearn: 3830242.5300070\ttotal: 7.71s\tremaining: 1.15s\n",
      "2645:\tlearn: 3829552.6659063\ttotal: 7.71s\tremaining: 1.15s\n",
      "2646:\tlearn: 3829109.9498234\ttotal: 7.71s\tremaining: 1.15s\n",
      "2647:\tlearn: 3828864.1140970\ttotal: 7.71s\tremaining: 1.14s\n",
      "2648:\tlearn: 3828263.5990244\ttotal: 7.72s\tremaining: 1.14s\n",
      "2649:\tlearn: 3827827.3813568\ttotal: 7.72s\tremaining: 1.14s\n",
      "2650:\tlearn: 3827267.0706296\ttotal: 7.72s\tremaining: 1.14s\n",
      "2651:\tlearn: 3826800.6609409\ttotal: 7.72s\tremaining: 1.13s\n",
      "2652:\tlearn: 3826581.7227047\ttotal: 7.73s\tremaining: 1.13s\n",
      "2653:\tlearn: 3826285.4047760\ttotal: 7.73s\tremaining: 1.13s\n",
      "2654:\tlearn: 3825728.0979978\ttotal: 7.73s\tremaining: 1.12s\n",
      "2655:\tlearn: 3825342.4180825\ttotal: 7.73s\tremaining: 1.12s\n",
      "2656:\tlearn: 3824820.6178256\ttotal: 7.74s\tremaining: 1.12s\n",
      "2657:\tlearn: 3824450.0071023\ttotal: 7.74s\tremaining: 1.11s\n",
      "2658:\tlearn: 3824013.9338478\ttotal: 7.74s\tremaining: 1.11s\n",
      "2659:\tlearn: 3823357.1461959\ttotal: 7.74s\tremaining: 1.11s\n",
      "2660:\tlearn: 3822792.3519518\ttotal: 7.75s\tremaining: 1.11s\n",
      "2661:\tlearn: 3822506.7766509\ttotal: 7.75s\tremaining: 1.1s\n",
      "2662:\tlearn: 3822159.8214403\ttotal: 7.75s\tremaining: 1.1s\n",
      "2663:\tlearn: 3821583.8180749\ttotal: 7.75s\tremaining: 1.1s\n",
      "2664:\tlearn: 3821151.3393032\ttotal: 7.76s\tremaining: 1.09s\n",
      "2665:\tlearn: 3820535.4295904\ttotal: 7.76s\tremaining: 1.09s\n",
      "2666:\tlearn: 3819633.7836041\ttotal: 7.76s\tremaining: 1.09s\n",
      "2667:\tlearn: 3819341.6195725\ttotal: 7.76s\tremaining: 1.08s\n",
      "2668:\tlearn: 3818693.0108703\ttotal: 7.77s\tremaining: 1.08s\n",
      "2669:\tlearn: 3818376.1767156\ttotal: 7.77s\tremaining: 1.08s\n",
      "2670:\tlearn: 3817795.3729995\ttotal: 7.77s\tremaining: 1.08s\n",
      "2671:\tlearn: 3817526.2497643\ttotal: 7.77s\tremaining: 1.07s\n",
      "2672:\tlearn: 3817189.3531107\ttotal: 7.78s\tremaining: 1.07s\n",
      "2673:\tlearn: 3816841.2434999\ttotal: 7.78s\tremaining: 1.07s\n",
      "2674:\tlearn: 3816380.0568062\ttotal: 7.78s\tremaining: 1.06s\n",
      "2675:\tlearn: 3816067.9183067\ttotal: 7.78s\tremaining: 1.06s\n",
      "2676:\tlearn: 3815392.2861959\ttotal: 7.79s\tremaining: 1.06s\n",
      "2677:\tlearn: 3815228.3129154\ttotal: 7.79s\tremaining: 1.05s\n",
      "2678:\tlearn: 3814584.9462737\ttotal: 7.79s\tremaining: 1.05s\n",
      "2679:\tlearn: 3814051.6416072\ttotal: 7.79s\tremaining: 1.05s\n",
      "2680:\tlearn: 3813664.2735310\ttotal: 7.8s\tremaining: 1.05s\n",
      "2681:\tlearn: 3813248.3070779\ttotal: 7.8s\tremaining: 1.04s\n",
      "2682:\tlearn: 3812679.4760224\ttotal: 7.8s\tremaining: 1.04s\n",
      "2683:\tlearn: 3812265.3369531\ttotal: 7.8s\tremaining: 1.04s\n",
      "2684:\tlearn: 3811852.6264244\ttotal: 7.81s\tremaining: 1.03s\n",
      "2685:\tlearn: 3811695.4088716\ttotal: 7.81s\tremaining: 1.03s\n",
      "2686:\tlearn: 3811595.8853484\ttotal: 7.81s\tremaining: 1.03s\n",
      "2687:\tlearn: 3811211.6916353\ttotal: 7.82s\tremaining: 1.03s\n",
      "2688:\tlearn: 3810736.5577539\ttotal: 7.82s\tremaining: 1.02s\n",
      "2689:\tlearn: 3810440.1908743\ttotal: 7.82s\tremaining: 1.02s\n",
      "2690:\tlearn: 3809786.8970276\ttotal: 7.82s\tremaining: 1.02s\n",
      "2691:\tlearn: 3809373.3615050\ttotal: 7.83s\tremaining: 1.01s\n",
      "2692:\tlearn: 3808869.5046660\ttotal: 7.83s\tremaining: 1.01s\n",
      "2693:\tlearn: 3808687.0098045\ttotal: 7.83s\tremaining: 1.01s\n",
      "2694:\tlearn: 3808069.2880626\ttotal: 7.83s\tremaining: 1s\n",
      "2695:\tlearn: 3807570.4851592\ttotal: 7.83s\tremaining: 1s\n",
      "2696:\tlearn: 3807262.6515508\ttotal: 7.84s\tremaining: 1000ms\n",
      "2697:\tlearn: 3807096.0044233\ttotal: 7.84s\tremaining: 997ms\n",
      "2698:\tlearn: 3806639.9527770\ttotal: 7.84s\tremaining: 994ms\n",
      "2699:\tlearn: 3806555.1844551\ttotal: 7.84s\tremaining: 991ms\n",
      "2700:\tlearn: 3806119.8052617\ttotal: 7.85s\tremaining: 988ms\n",
      "2701:\tlearn: 3805846.9005360\ttotal: 7.85s\tremaining: 985ms\n",
      "2702:\tlearn: 3805459.6561769\ttotal: 7.85s\tremaining: 982ms\n",
      "2703:\tlearn: 3805223.4556089\ttotal: 7.85s\tremaining: 979ms\n",
      "2704:\tlearn: 3804771.4541696\ttotal: 7.86s\tremaining: 976ms\n",
      "2705:\tlearn: 3804602.0153240\ttotal: 7.86s\tremaining: 973ms\n",
      "2706:\tlearn: 3803877.0464283\ttotal: 7.86s\tremaining: 970ms\n",
      "2707:\tlearn: 3803694.4252014\ttotal: 7.86s\tremaining: 967ms\n",
      "2708:\tlearn: 3803457.4222471\ttotal: 7.87s\tremaining: 964ms\n",
      "2709:\tlearn: 3803141.4296794\ttotal: 7.87s\tremaining: 961ms\n",
      "2710:\tlearn: 3802984.3920874\ttotal: 7.87s\tremaining: 958ms\n",
      "2711:\tlearn: 3802352.1744162\ttotal: 7.88s\tremaining: 955ms\n",
      "2712:\tlearn: 3801813.0445383\ttotal: 7.88s\tremaining: 953ms\n",
      "2713:\tlearn: 3801602.7109263\ttotal: 7.88s\tremaining: 950ms\n",
      "2714:\tlearn: 3800872.5969723\ttotal: 7.88s\tremaining: 947ms\n",
      "2715:\tlearn: 3800607.6208571\ttotal: 7.89s\tremaining: 944ms\n",
      "2716:\tlearn: 3800216.6194257\ttotal: 7.89s\tremaining: 941ms\n",
      "2717:\tlearn: 3799892.4258503\ttotal: 7.89s\tremaining: 938ms\n",
      "2718:\tlearn: 3799628.9165408\ttotal: 7.89s\tremaining: 935ms\n",
      "2719:\tlearn: 3799072.4422516\ttotal: 7.9s\tremaining: 932ms\n",
      "2720:\tlearn: 3798745.2858528\ttotal: 7.9s\tremaining: 929ms\n",
      "2721:\tlearn: 3798379.7245063\ttotal: 7.9s\tremaining: 926ms\n",
      "2722:\tlearn: 3798247.5311802\ttotal: 7.91s\tremaining: 924ms\n",
      "2723:\tlearn: 3797922.5074736\ttotal: 7.91s\tremaining: 921ms\n",
      "2724:\tlearn: 3797309.9880130\ttotal: 7.91s\tremaining: 918ms\n",
      "2725:\tlearn: 3796859.2107633\ttotal: 7.92s\tremaining: 915ms\n",
      "2726:\tlearn: 3796464.2497411\ttotal: 7.92s\tremaining: 912ms\n",
      "2727:\tlearn: 3795913.3440902\ttotal: 7.92s\tremaining: 909ms\n",
      "2728:\tlearn: 3795618.7378966\ttotal: 7.92s\tremaining: 906ms\n",
      "2729:\tlearn: 3795274.2298452\ttotal: 7.93s\tremaining: 903ms\n",
      "2730:\tlearn: 3795054.8786454\ttotal: 7.93s\tremaining: 900ms\n",
      "2731:\tlearn: 3794651.3467753\ttotal: 7.93s\tremaining: 897ms\n",
      "2732:\tlearn: 3794591.7915927\ttotal: 7.93s\tremaining: 894ms\n",
      "2733:\tlearn: 3794247.3432161\ttotal: 7.94s\tremaining: 891ms\n",
      "2734:\tlearn: 3793778.5283313\ttotal: 7.94s\tremaining: 888ms\n",
      "2735:\tlearn: 3793272.0433395\ttotal: 7.94s\tremaining: 885ms\n",
      "2736:\tlearn: 3792583.3340368\ttotal: 7.94s\tremaining: 882ms\n",
      "2737:\tlearn: 3792274.8366176\ttotal: 7.95s\tremaining: 879ms\n",
      "2738:\tlearn: 3791753.1422374\ttotal: 7.95s\tremaining: 876ms\n",
      "2739:\tlearn: 3791439.4222292\ttotal: 7.95s\tremaining: 874ms\n",
      "2740:\tlearn: 3791182.8940173\ttotal: 7.95s\tremaining: 871ms\n",
      "2741:\tlearn: 3790538.8969336\ttotal: 7.96s\tremaining: 868ms\n",
      "2742:\tlearn: 3790324.8315503\ttotal: 7.96s\tremaining: 865ms\n",
      "2743:\tlearn: 3789701.3616425\ttotal: 7.96s\tremaining: 862ms\n",
      "2744:\tlearn: 3789032.5834229\ttotal: 7.96s\tremaining: 859ms\n",
      "2745:\tlearn: 3788808.9527817\ttotal: 7.97s\tremaining: 856ms\n",
      "2746:\tlearn: 3788506.0012303\ttotal: 7.97s\tremaining: 853ms\n",
      "2747:\tlearn: 3787872.1651641\ttotal: 7.97s\tremaining: 850ms\n",
      "2748:\tlearn: 3787473.8092812\ttotal: 7.97s\tremaining: 847ms\n",
      "2749:\tlearn: 3787091.9179980\ttotal: 7.98s\tremaining: 844ms\n",
      "2750:\tlearn: 3786854.6664133\ttotal: 7.98s\tremaining: 841ms\n",
      "2751:\tlearn: 3786433.6653200\ttotal: 7.98s\tremaining: 838ms\n",
      "2752:\tlearn: 3785950.7246378\ttotal: 7.99s\tremaining: 835ms\n",
      "2753:\tlearn: 3785764.7247800\ttotal: 7.99s\tremaining: 832ms\n",
      "2754:\tlearn: 3785351.3074272\ttotal: 7.99s\tremaining: 830ms\n",
      "2755:\tlearn: 3784949.5583341\ttotal: 7.99s\tremaining: 827ms\n",
      "2756:\tlearn: 3784725.9782724\ttotal: 8s\tremaining: 824ms\n",
      "2757:\tlearn: 3784352.4422268\ttotal: 8s\tremaining: 821ms\n",
      "2758:\tlearn: 3783999.4541037\ttotal: 8s\tremaining: 818ms\n",
      "2759:\tlearn: 3783625.2565314\ttotal: 8.01s\tremaining: 815ms\n",
      "2760:\tlearn: 3783213.9899387\ttotal: 8.01s\tremaining: 812ms\n",
      "2761:\tlearn: 3782975.0952375\ttotal: 8.01s\tremaining: 810ms\n",
      "2762:\tlearn: 3782701.7119259\ttotal: 8.02s\tremaining: 807ms\n",
      "2763:\tlearn: 3782027.5704295\ttotal: 8.02s\tremaining: 804ms\n",
      "2764:\tlearn: 3781934.7763799\ttotal: 8.02s\tremaining: 801ms\n",
      "2765:\tlearn: 3781756.9126310\ttotal: 8.03s\tremaining: 798ms\n",
      "2766:\tlearn: 3781512.1811747\ttotal: 8.03s\tremaining: 795ms\n",
      "2767:\tlearn: 3781256.2760388\ttotal: 8.03s\tremaining: 792ms\n",
      "2768:\tlearn: 3780803.0763840\ttotal: 8.04s\tremaining: 789ms\n",
      "2769:\tlearn: 3780576.3967085\ttotal: 8.04s\tremaining: 787ms\n",
      "2770:\tlearn: 3780455.3724351\ttotal: 8.04s\tremaining: 784ms\n",
      "2771:\tlearn: 3779743.6309076\ttotal: 8.04s\tremaining: 781ms\n",
      "2772:\tlearn: 3779396.3008761\ttotal: 8.05s\tremaining: 778ms\n",
      "2773:\tlearn: 3779220.0815865\ttotal: 8.05s\tremaining: 775ms\n",
      "2774:\tlearn: 3778967.7403822\ttotal: 8.06s\tremaining: 772ms\n",
      "2775:\tlearn: 3778893.7278581\ttotal: 8.06s\tremaining: 769ms\n",
      "2776:\tlearn: 3778224.5919076\ttotal: 8.06s\tremaining: 766ms\n",
      "2777:\tlearn: 3777599.1085295\ttotal: 8.06s\tremaining: 763ms\n",
      "2778:\tlearn: 3777159.3601688\ttotal: 8.07s\tremaining: 761ms\n",
      "2779:\tlearn: 3776809.7790462\ttotal: 8.07s\tremaining: 758ms\n",
      "2780:\tlearn: 3776148.5084257\ttotal: 8.07s\tremaining: 755ms\n",
      "2781:\tlearn: 3776002.8388081\ttotal: 8.07s\tremaining: 752ms\n",
      "2782:\tlearn: 3775741.9430826\ttotal: 8.08s\tremaining: 749ms\n",
      "2783:\tlearn: 3775324.6661381\ttotal: 8.08s\tremaining: 746ms\n",
      "2784:\tlearn: 3775006.5666062\ttotal: 8.08s\tremaining: 743ms\n",
      "2785:\tlearn: 3774382.4762147\ttotal: 8.09s\tremaining: 740ms\n",
      "2786:\tlearn: 3774062.3842480\ttotal: 8.09s\tremaining: 737ms\n",
      "2787:\tlearn: 3773249.5511541\ttotal: 8.09s\tremaining: 734ms\n",
      "2788:\tlearn: 3772632.1430190\ttotal: 8.09s\tremaining: 731ms\n",
      "2789:\tlearn: 3772408.7175434\ttotal: 8.1s\tremaining: 728ms\n",
      "2790:\tlearn: 3772020.9220472\ttotal: 8.1s\tremaining: 725ms\n",
      "2791:\tlearn: 3771431.8614191\ttotal: 8.1s\tremaining: 723ms\n",
      "2792:\tlearn: 3770898.4407319\ttotal: 8.1s\tremaining: 720ms\n",
      "2793:\tlearn: 3770629.8500611\ttotal: 8.11s\tremaining: 717ms\n",
      "2794:\tlearn: 3770449.5013085\ttotal: 8.11s\tremaining: 714ms\n",
      "2795:\tlearn: 3770078.8617220\ttotal: 8.11s\tremaining: 711ms\n",
      "2796:\tlearn: 3769821.6988310\ttotal: 8.12s\tremaining: 708ms\n",
      "2797:\tlearn: 3769605.8888521\ttotal: 8.12s\tremaining: 705ms\n",
      "2798:\tlearn: 3769411.0357866\ttotal: 8.12s\tremaining: 702ms\n",
      "2799:\tlearn: 3768682.6435755\ttotal: 8.12s\tremaining: 699ms\n",
      "2800:\tlearn: 3768119.6271059\ttotal: 8.13s\tremaining: 696ms\n",
      "2801:\tlearn: 3767566.9805219\ttotal: 8.13s\tremaining: 693ms\n",
      "2802:\tlearn: 3767392.8459730\ttotal: 8.13s\tremaining: 691ms\n",
      "2803:\tlearn: 3766699.6908265\ttotal: 8.13s\tremaining: 688ms\n",
      "2804:\tlearn: 3766413.8948008\ttotal: 8.14s\tremaining: 685ms\n",
      "2805:\tlearn: 3765842.8321018\ttotal: 8.14s\tremaining: 682ms\n",
      "2806:\tlearn: 3765602.0782215\ttotal: 8.14s\tremaining: 679ms\n",
      "2807:\tlearn: 3765275.5544244\ttotal: 8.15s\tremaining: 676ms\n",
      "2808:\tlearn: 3764800.3032790\ttotal: 8.15s\tremaining: 673ms\n",
      "2809:\tlearn: 3764410.7158209\ttotal: 8.15s\tremaining: 670ms\n",
      "2810:\tlearn: 3764264.2635866\ttotal: 8.15s\tremaining: 667ms\n",
      "2811:\tlearn: 3764100.7295851\ttotal: 8.16s\tremaining: 664ms\n",
      "2812:\tlearn: 3763808.0322363\ttotal: 8.16s\tremaining: 661ms\n",
      "2813:\tlearn: 3763121.3017386\ttotal: 8.16s\tremaining: 659ms\n",
      "2814:\tlearn: 3762589.4081037\ttotal: 8.17s\tremaining: 656ms\n",
      "2815:\tlearn: 3762195.5800519\ttotal: 8.17s\tremaining: 653ms\n",
      "2816:\tlearn: 3761721.8055213\ttotal: 8.17s\tremaining: 650ms\n",
      "2817:\tlearn: 3761543.4397601\ttotal: 8.18s\tremaining: 647ms\n",
      "2818:\tlearn: 3761419.3790089\ttotal: 8.18s\tremaining: 644ms\n",
      "2819:\tlearn: 3761155.3723111\ttotal: 8.18s\tremaining: 641ms\n",
      "2820:\tlearn: 3760728.3502587\ttotal: 8.18s\tremaining: 638ms\n",
      "2821:\tlearn: 3760587.8683007\ttotal: 8.19s\tremaining: 635ms\n",
      "2822:\tlearn: 3759990.3612829\ttotal: 8.19s\tremaining: 632ms\n",
      "2823:\tlearn: 3759558.7132240\ttotal: 8.19s\tremaining: 629ms\n",
      "2824:\tlearn: 3758896.8195811\ttotal: 8.19s\tremaining: 627ms\n",
      "2825:\tlearn: 3758045.2034482\ttotal: 8.2s\tremaining: 624ms\n",
      "2826:\tlearn: 3757842.7920303\ttotal: 8.2s\tremaining: 621ms\n",
      "2827:\tlearn: 3757623.4971146\ttotal: 8.2s\tremaining: 618ms\n",
      "2828:\tlearn: 3757327.2278086\ttotal: 8.21s\tremaining: 615ms\n",
      "2829:\tlearn: 3756784.2109118\ttotal: 8.21s\tremaining: 612ms\n",
      "2830:\tlearn: 3756583.3946176\ttotal: 8.21s\tremaining: 609ms\n",
      "2831:\tlearn: 3756346.6224669\ttotal: 8.21s\tremaining: 606ms\n",
      "2832:\tlearn: 3756043.3391618\ttotal: 8.22s\tremaining: 603ms\n",
      "2833:\tlearn: 3755444.0849684\ttotal: 8.22s\tremaining: 600ms\n",
      "2834:\tlearn: 3754938.5664513\ttotal: 8.22s\tremaining: 597ms\n",
      "2835:\tlearn: 3754563.6221476\ttotal: 8.22s\tremaining: 595ms\n",
      "2836:\tlearn: 3754187.4889951\ttotal: 8.23s\tremaining: 592ms\n",
      "2837:\tlearn: 3753786.0416765\ttotal: 8.23s\tremaining: 589ms\n",
      "2838:\tlearn: 3753427.1927811\ttotal: 8.23s\tremaining: 586ms\n",
      "2839:\tlearn: 3752892.0111313\ttotal: 8.23s\tremaining: 583ms\n",
      "2840:\tlearn: 3752712.4652220\ttotal: 8.24s\tremaining: 580ms\n",
      "2841:\tlearn: 3751575.2580999\ttotal: 8.24s\tremaining: 577ms\n",
      "2842:\tlearn: 3751183.9738024\ttotal: 8.24s\tremaining: 574ms\n",
      "2843:\tlearn: 3750556.2735578\ttotal: 8.25s\tremaining: 571ms\n",
      "2844:\tlearn: 3750184.3803169\ttotal: 8.25s\tremaining: 568ms\n",
      "2845:\tlearn: 3749799.8271942\ttotal: 8.25s\tremaining: 565ms\n",
      "2846:\tlearn: 3749572.0830501\ttotal: 8.25s\tremaining: 562ms\n",
      "2847:\tlearn: 3749190.1551712\ttotal: 8.26s\tremaining: 560ms\n",
      "2848:\tlearn: 3748525.1526560\ttotal: 8.26s\tremaining: 557ms\n",
      "2849:\tlearn: 3748149.5401590\ttotal: 8.26s\tremaining: 554ms\n",
      "2850:\tlearn: 3747853.2887683\ttotal: 8.27s\tremaining: 551ms\n",
      "2851:\tlearn: 3747443.4773880\ttotal: 8.27s\tremaining: 548ms\n",
      "2852:\tlearn: 3747033.8459659\ttotal: 8.27s\tremaining: 545ms\n",
      "2853:\tlearn: 3746369.0704935\ttotal: 8.27s\tremaining: 542ms\n",
      "2854:\tlearn: 3745756.6108625\ttotal: 8.28s\tremaining: 539ms\n",
      "2855:\tlearn: 3745508.8145926\ttotal: 8.28s\tremaining: 536ms\n",
      "2856:\tlearn: 3745342.0406434\ttotal: 8.28s\tremaining: 533ms\n",
      "2857:\tlearn: 3744833.7801990\ttotal: 8.28s\tremaining: 530ms\n",
      "2858:\tlearn: 3744552.2285148\ttotal: 8.29s\tremaining: 527ms\n",
      "2859:\tlearn: 3744081.4369526\ttotal: 8.29s\tremaining: 525ms\n",
      "2860:\tlearn: 3743339.8647273\ttotal: 8.29s\tremaining: 522ms\n",
      "2861:\tlearn: 3743004.3085360\ttotal: 8.29s\tremaining: 519ms\n",
      "2862:\tlearn: 3742710.9389146\ttotal: 8.3s\tremaining: 516ms\n",
      "2863:\tlearn: 3742111.9577391\ttotal: 8.3s\tremaining: 513ms\n",
      "2864:\tlearn: 3741912.2672723\ttotal: 8.3s\tremaining: 510ms\n",
      "2865:\tlearn: 3741441.7677090\ttotal: 8.3s\tremaining: 507ms\n",
      "2866:\tlearn: 3740924.7133513\ttotal: 8.31s\tremaining: 504ms\n",
      "2867:\tlearn: 3740533.3262332\ttotal: 8.31s\tremaining: 501ms\n",
      "2868:\tlearn: 3740094.0076677\ttotal: 8.31s\tremaining: 498ms\n",
      "2869:\tlearn: 3739780.1910420\ttotal: 8.31s\tremaining: 495ms\n",
      "2870:\tlearn: 3739482.0142182\ttotal: 8.32s\tremaining: 492ms\n",
      "2871:\tlearn: 3739365.1490727\ttotal: 8.32s\tremaining: 490ms\n",
      "2872:\tlearn: 3739036.3985050\ttotal: 8.32s\tremaining: 487ms\n",
      "2873:\tlearn: 3738246.0387314\ttotal: 8.32s\tremaining: 484ms\n",
      "2874:\tlearn: 3737795.3169777\ttotal: 8.33s\tremaining: 481ms\n",
      "2875:\tlearn: 3737467.3973738\ttotal: 8.33s\tremaining: 478ms\n",
      "2876:\tlearn: 3737011.4419688\ttotal: 8.33s\tremaining: 475ms\n",
      "2877:\tlearn: 3736368.5094073\ttotal: 8.33s\tremaining: 472ms\n",
      "2878:\tlearn: 3735827.4908854\ttotal: 8.34s\tremaining: 469ms\n",
      "2879:\tlearn: 3735402.3596197\ttotal: 8.34s\tremaining: 466ms\n",
      "2880:\tlearn: 3734942.2486402\ttotal: 8.34s\tremaining: 463ms\n",
      "2881:\tlearn: 3734469.2120721\ttotal: 8.34s\tremaining: 460ms\n",
      "2882:\tlearn: 3734116.1402938\ttotal: 8.35s\tremaining: 457ms\n",
      "2883:\tlearn: 3733400.4805719\ttotal: 8.35s\tremaining: 455ms\n",
      "2884:\tlearn: 3733080.4141463\ttotal: 8.35s\tremaining: 452ms\n",
      "2885:\tlearn: 3732802.3534478\ttotal: 8.35s\tremaining: 449ms\n",
      "2886:\tlearn: 3731979.4736526\ttotal: 8.36s\tremaining: 446ms\n",
      "2887:\tlearn: 3731743.5083387\ttotal: 8.36s\tremaining: 443ms\n",
      "2888:\tlearn: 3731565.0668657\ttotal: 8.36s\tremaining: 440ms\n",
      "2889:\tlearn: 3731151.4295141\ttotal: 8.37s\tremaining: 437ms\n",
      "2890:\tlearn: 3730913.5977378\ttotal: 8.37s\tremaining: 434ms\n",
      "2891:\tlearn: 3730640.7506149\ttotal: 8.37s\tremaining: 431ms\n",
      "2892:\tlearn: 3730389.8482560\ttotal: 8.37s\tremaining: 428ms\n",
      "2893:\tlearn: 3730026.9049808\ttotal: 8.38s\tremaining: 426ms\n",
      "2894:\tlearn: 3729671.9676427\ttotal: 8.38s\tremaining: 423ms\n",
      "2895:\tlearn: 3729277.7455576\ttotal: 8.38s\tremaining: 420ms\n",
      "2896:\tlearn: 3728845.9416209\ttotal: 8.38s\tremaining: 417ms\n",
      "2897:\tlearn: 3728491.4774946\ttotal: 8.39s\tremaining: 414ms\n",
      "2898:\tlearn: 3728380.2312776\ttotal: 8.39s\tremaining: 411ms\n",
      "2899:\tlearn: 3728085.7691258\ttotal: 8.39s\tremaining: 408ms\n",
      "2900:\tlearn: 3727774.3281688\ttotal: 8.39s\tremaining: 405ms\n",
      "2901:\tlearn: 3727352.4047595\ttotal: 8.4s\tremaining: 402ms\n",
      "2902:\tlearn: 3727200.9337777\ttotal: 8.4s\tremaining: 399ms\n",
      "2903:\tlearn: 3726717.1111319\ttotal: 8.4s\tremaining: 396ms\n",
      "2904:\tlearn: 3726217.5505230\ttotal: 8.4s\tremaining: 393ms\n",
      "2905:\tlearn: 3725739.0449721\ttotal: 8.41s\tremaining: 391ms\n",
      "2906:\tlearn: 3725256.7740600\ttotal: 8.41s\tremaining: 388ms\n",
      "2907:\tlearn: 3724884.6598637\ttotal: 8.41s\tremaining: 385ms\n",
      "2908:\tlearn: 3724572.8469108\ttotal: 8.42s\tremaining: 382ms\n",
      "2909:\tlearn: 3724140.7773666\ttotal: 8.42s\tremaining: 379ms\n",
      "2910:\tlearn: 3723696.6388150\ttotal: 8.42s\tremaining: 376ms\n",
      "2911:\tlearn: 3723560.8654961\ttotal: 8.42s\tremaining: 373ms\n",
      "2912:\tlearn: 3723314.0002031\ttotal: 8.43s\tremaining: 370ms\n",
      "2913:\tlearn: 3722821.4260397\ttotal: 8.43s\tremaining: 367ms\n",
      "2914:\tlearn: 3722236.3885629\ttotal: 8.43s\tremaining: 364ms\n",
      "2915:\tlearn: 3721672.7708241\ttotal: 8.44s\tremaining: 362ms\n",
      "2916:\tlearn: 3721577.8820170\ttotal: 8.44s\tremaining: 359ms\n",
      "2917:\tlearn: 3721045.4959185\ttotal: 8.44s\tremaining: 356ms\n",
      "2918:\tlearn: 3720715.8253757\ttotal: 8.44s\tremaining: 353ms\n",
      "2919:\tlearn: 3720046.8921925\ttotal: 8.45s\tremaining: 350ms\n",
      "2920:\tlearn: 3719577.7144612\ttotal: 8.45s\tremaining: 347ms\n",
      "2921:\tlearn: 3719143.1621478\ttotal: 8.45s\tremaining: 344ms\n",
      "2922:\tlearn: 3718769.5584584\ttotal: 8.45s\tremaining: 341ms\n",
      "2923:\tlearn: 3718315.1211895\ttotal: 8.46s\tremaining: 338ms\n",
      "2924:\tlearn: 3718149.7112736\ttotal: 8.46s\tremaining: 336ms\n",
      "2925:\tlearn: 3717859.5258475\ttotal: 8.46s\tremaining: 333ms\n",
      "2926:\tlearn: 3717246.8676891\ttotal: 8.46s\tremaining: 330ms\n",
      "2927:\tlearn: 3716918.0254584\ttotal: 8.47s\tremaining: 327ms\n",
      "2928:\tlearn: 3716550.9579591\ttotal: 8.47s\tremaining: 324ms\n",
      "2929:\tlearn: 3715836.0088507\ttotal: 8.47s\tremaining: 321ms\n",
      "2930:\tlearn: 3715442.3268117\ttotal: 8.48s\tremaining: 318ms\n",
      "2931:\tlearn: 3715082.1601583\ttotal: 8.48s\tremaining: 315ms\n",
      "2932:\tlearn: 3714743.1724309\ttotal: 8.48s\tremaining: 312ms\n",
      "2933:\tlearn: 3714534.3349274\ttotal: 8.48s\tremaining: 309ms\n",
      "2934:\tlearn: 3714312.3813825\ttotal: 8.49s\tremaining: 307ms\n",
      "2935:\tlearn: 3714040.7559919\ttotal: 8.49s\tremaining: 304ms\n",
      "2936:\tlearn: 3713930.7070615\ttotal: 8.49s\tremaining: 301ms\n",
      "2937:\tlearn: 3713604.5465564\ttotal: 8.5s\tremaining: 298ms\n",
      "2938:\tlearn: 3713441.2423790\ttotal: 8.5s\tremaining: 295ms\n",
      "2939:\tlearn: 3713262.9709566\ttotal: 8.5s\tremaining: 292ms\n",
      "2940:\tlearn: 3713034.7229991\ttotal: 8.51s\tremaining: 289ms\n",
      "2941:\tlearn: 3712901.6547444\ttotal: 8.51s\tremaining: 286ms\n",
      "2942:\tlearn: 3712552.5200981\ttotal: 8.51s\tremaining: 283ms\n",
      "2943:\tlearn: 3712276.1783310\ttotal: 8.52s\tremaining: 281ms\n",
      "2944:\tlearn: 3712112.1720266\ttotal: 8.52s\tremaining: 278ms\n",
      "2945:\tlearn: 3711844.7982125\ttotal: 8.52s\tremaining: 275ms\n",
      "2946:\tlearn: 3711477.5824025\ttotal: 8.53s\tremaining: 272ms\n",
      "2947:\tlearn: 3710941.8234846\ttotal: 8.53s\tremaining: 269ms\n",
      "2948:\tlearn: 3710753.9161095\ttotal: 8.54s\tremaining: 267ms\n",
      "2949:\tlearn: 3710372.8134171\ttotal: 8.54s\tremaining: 264ms\n",
      "2950:\tlearn: 3709978.1677847\ttotal: 8.55s\tremaining: 261ms\n",
      "2951:\tlearn: 3709620.0151176\ttotal: 8.55s\tremaining: 258ms\n",
      "2952:\tlearn: 3709278.1527151\ttotal: 8.56s\tremaining: 255ms\n",
      "2953:\tlearn: 3709001.7420561\ttotal: 8.56s\tremaining: 252ms\n",
      "2954:\tlearn: 3708677.6414107\ttotal: 8.56s\tremaining: 249ms\n",
      "2955:\tlearn: 3708213.1751717\ttotal: 8.56s\tremaining: 246ms\n",
      "2956:\tlearn: 3707767.2298748\ttotal: 8.57s\tremaining: 243ms\n",
      "2957:\tlearn: 3707512.3020808\ttotal: 8.57s\tremaining: 240ms\n",
      "2958:\tlearn: 3706948.5037527\ttotal: 8.57s\tremaining: 238ms\n",
      "2959:\tlearn: 3706552.6502858\ttotal: 8.58s\tremaining: 235ms\n",
      "2960:\tlearn: 3706302.7925156\ttotal: 8.58s\tremaining: 232ms\n",
      "2961:\tlearn: 3706112.2241120\ttotal: 8.58s\tremaining: 229ms\n",
      "2962:\tlearn: 3705721.7940411\ttotal: 8.59s\tremaining: 226ms\n",
      "2963:\tlearn: 3705446.1813500\ttotal: 8.59s\tremaining: 223ms\n",
      "2964:\tlearn: 3704994.7392417\ttotal: 8.59s\tremaining: 220ms\n",
      "2965:\tlearn: 3704309.0298809\ttotal: 8.59s\tremaining: 217ms\n",
      "2966:\tlearn: 3703931.6194440\ttotal: 8.6s\tremaining: 214ms\n",
      "2967:\tlearn: 3703526.4140391\ttotal: 8.6s\tremaining: 212ms\n",
      "2968:\tlearn: 3703311.5204507\ttotal: 8.6s\tremaining: 209ms\n",
      "2969:\tlearn: 3703067.3457814\ttotal: 8.61s\tremaining: 206ms\n",
      "2970:\tlearn: 3702792.4838259\ttotal: 8.61s\tremaining: 203ms\n",
      "2971:\tlearn: 3702465.5036998\ttotal: 8.61s\tremaining: 200ms\n",
      "2972:\tlearn: 3702157.6826511\ttotal: 8.62s\tremaining: 197ms\n",
      "2973:\tlearn: 3701584.0829970\ttotal: 8.62s\tremaining: 194ms\n",
      "2974:\tlearn: 3701468.3563928\ttotal: 8.62s\tremaining: 191ms\n",
      "2975:\tlearn: 3701009.2413860\ttotal: 8.62s\tremaining: 188ms\n",
      "2976:\tlearn: 3700317.1934716\ttotal: 8.63s\tremaining: 185ms\n",
      "2977:\tlearn: 3699915.2423138\ttotal: 8.63s\tremaining: 183ms\n",
      "2978:\tlearn: 3699521.1733742\ttotal: 8.63s\tremaining: 180ms\n",
      "2979:\tlearn: 3699218.4353264\ttotal: 8.63s\tremaining: 177ms\n",
      "2980:\tlearn: 3698615.7062992\ttotal: 8.64s\tremaining: 174ms\n",
      "2981:\tlearn: 3698190.8109110\ttotal: 8.64s\tremaining: 171ms\n",
      "2982:\tlearn: 3697807.8310774\ttotal: 8.64s\tremaining: 168ms\n",
      "2983:\tlearn: 3697669.8988334\ttotal: 8.65s\tremaining: 165ms\n",
      "2984:\tlearn: 3697526.7942491\ttotal: 8.65s\tremaining: 162ms\n",
      "2985:\tlearn: 3696831.5340637\ttotal: 8.65s\tremaining: 159ms\n",
      "2986:\tlearn: 3696700.6901526\ttotal: 8.65s\tremaining: 156ms\n",
      "2987:\tlearn: 3696253.1637267\ttotal: 8.66s\tremaining: 154ms\n",
      "2988:\tlearn: 3696008.2422087\ttotal: 8.66s\tremaining: 151ms\n",
      "2989:\tlearn: 3695624.1114114\ttotal: 8.66s\tremaining: 148ms\n",
      "2990:\tlearn: 3695380.2258600\ttotal: 8.67s\tremaining: 145ms\n",
      "2991:\tlearn: 3695181.2679425\ttotal: 8.67s\tremaining: 142ms\n",
      "2992:\tlearn: 3694892.0355671\ttotal: 8.67s\tremaining: 139ms\n",
      "2993:\tlearn: 3694593.2178634\ttotal: 8.67s\tremaining: 136ms\n",
      "2994:\tlearn: 3694140.5399274\ttotal: 8.68s\tremaining: 133ms\n",
      "2995:\tlearn: 3693914.0164485\ttotal: 8.68s\tremaining: 130ms\n",
      "2996:\tlearn: 3693299.3267645\ttotal: 8.68s\tremaining: 127ms\n",
      "2997:\tlearn: 3693011.6634590\ttotal: 8.68s\tremaining: 125ms\n",
      "2998:\tlearn: 3692670.4123482\ttotal: 8.69s\tremaining: 122ms\n",
      "2999:\tlearn: 3692183.2214864\ttotal: 8.69s\tremaining: 119ms\n",
      "3000:\tlearn: 3691699.5758191\ttotal: 8.69s\tremaining: 116ms\n",
      "3001:\tlearn: 3691338.0190910\ttotal: 8.7s\tremaining: 113ms\n",
      "3002:\tlearn: 3690992.2945954\ttotal: 8.7s\tremaining: 110ms\n",
      "3003:\tlearn: 3690507.8536070\ttotal: 8.7s\tremaining: 107ms\n",
      "3004:\tlearn: 3690025.9716035\ttotal: 8.7s\tremaining: 104ms\n",
      "3005:\tlearn: 3689866.4950534\ttotal: 8.71s\tremaining: 101ms\n",
      "3006:\tlearn: 3689531.6636983\ttotal: 8.71s\tremaining: 98.5ms\n",
      "3007:\tlearn: 3689214.1582772\ttotal: 8.71s\tremaining: 95.6ms\n",
      "3008:\tlearn: 3688900.6732347\ttotal: 8.71s\tremaining: 92.7ms\n",
      "3009:\tlearn: 3688276.7678240\ttotal: 8.72s\tremaining: 89.8ms\n",
      "3010:\tlearn: 3687674.6476030\ttotal: 8.72s\tremaining: 86.9ms\n",
      "3011:\tlearn: 3686956.6148480\ttotal: 8.72s\tremaining: 84ms\n",
      "3012:\tlearn: 3686570.2823550\ttotal: 8.72s\tremaining: 81.1ms\n",
      "3013:\tlearn: 3686398.3027987\ttotal: 8.73s\tremaining: 78.2ms\n",
      "3014:\tlearn: 3686262.0309236\ttotal: 8.73s\tremaining: 75.3ms\n",
      "3015:\tlearn: 3685465.7824083\ttotal: 8.73s\tremaining: 72.4ms\n",
      "3016:\tlearn: 3685092.8274019\ttotal: 8.73s\tremaining: 69.5ms\n",
      "3017:\tlearn: 3684543.9332236\ttotal: 8.74s\tremaining: 66.6ms\n",
      "3018:\tlearn: 3684254.5452724\ttotal: 8.74s\tremaining: 63.7ms\n",
      "3019:\tlearn: 3683782.9574498\ttotal: 8.74s\tremaining: 60.8ms\n",
      "3020:\tlearn: 3683204.7605042\ttotal: 8.74s\tremaining: 57.9ms\n",
      "3021:\tlearn: 3682744.5329380\ttotal: 8.75s\tremaining: 55ms\n",
      "3022:\tlearn: 3682517.1456897\ttotal: 8.75s\tremaining: 52.1ms\n",
      "3023:\tlearn: 3682272.8526775\ttotal: 8.75s\tremaining: 49.2ms\n",
      "3024:\tlearn: 3681900.7005054\ttotal: 8.75s\tremaining: 46.3ms\n",
      "3025:\tlearn: 3681818.7810972\ttotal: 8.76s\tremaining: 43.4ms\n",
      "3026:\tlearn: 3681523.9247314\ttotal: 8.76s\tremaining: 40.5ms\n",
      "3027:\tlearn: 3681192.5074868\ttotal: 8.76s\tremaining: 37.6ms\n",
      "3028:\tlearn: 3680714.4038814\ttotal: 8.76s\tremaining: 34.7ms\n",
      "3029:\tlearn: 3680057.1572575\ttotal: 8.77s\tremaining: 31.8ms\n",
      "3030:\tlearn: 3679836.4200361\ttotal: 8.77s\tremaining: 28.9ms\n",
      "3031:\tlearn: 3679164.7442628\ttotal: 8.77s\tremaining: 26ms\n",
      "3032:\tlearn: 3678454.3600774\ttotal: 8.77s\tremaining: 23.1ms\n",
      "3033:\tlearn: 3678291.7351679\ttotal: 8.78s\tremaining: 20.3ms\n",
      "3034:\tlearn: 3677887.1268026\ttotal: 8.78s\tremaining: 17.4ms\n",
      "3035:\tlearn: 3677708.6593666\ttotal: 8.78s\tremaining: 14.5ms\n",
      "3036:\tlearn: 3677198.5199516\ttotal: 8.78s\tremaining: 11.6ms\n",
      "3037:\tlearn: 3677041.7159829\ttotal: 8.79s\tremaining: 8.68ms\n",
      "3038:\tlearn: 3676520.0728427\ttotal: 8.79s\tremaining: 5.78ms\n",
      "3039:\tlearn: 3676152.8528734\ttotal: 8.79s\tremaining: 2.89ms\n",
      "3040:\tlearn: 3675953.2304818\ttotal: 8.79s\tremaining: 0us\n",
      "\n",
      "====== Models Before Hyper Parameter Tuning ======\n"
     ]
    },
    {
     "data": {
      "text/html": [
       "<div>\n",
       "<style scoped>\n",
       "    .dataframe tbody tr th:only-of-type {\n",
       "        vertical-align: middle;\n",
       "    }\n",
       "\n",
       "    .dataframe tbody tr th {\n",
       "        vertical-align: top;\n",
       "    }\n",
       "\n",
       "    .dataframe thead th {\n",
       "        text-align: right;\n",
       "    }\n",
       "</style>\n",
       "<table border=\"1\" class=\"dataframe\">\n",
       "  <thead>\n",
       "    <tr style=\"text-align: right;\">\n",
       "      <th></th>\n",
       "      <th>Model</th>\n",
       "      <th>MAE</th>\n",
       "      <th>MSE</th>\n",
       "      <th>RMSE</th>\n",
       "      <th>R2 Score</th>\n",
       "    </tr>\n",
       "  </thead>\n",
       "  <tbody>\n",
       "    <tr>\n",
       "      <th>0</th>\n",
       "      <td>CatBoost</td>\n",
       "      <td>3997552.30</td>\n",
       "      <td>70846232863322.12</td>\n",
       "      <td>8417020.43</td>\n",
       "      <td>0.74</td>\n",
       "    </tr>\n",
       "  </tbody>\n",
       "</table>\n",
       "</div>"
      ],
      "text/plain": [
       "      Model         MAE                MSE        RMSE R2 Score\n",
       "0  CatBoost  3997552.30  70846232863322.12  8417020.43     0.74"
      ]
     },
     "execution_count": 76,
     "metadata": {},
     "output_type": "execute_result"
    }
   ],
   "source": [
    "cat_optuna = CatBoostRegressor(**study_cat.best_params)\n",
    "model_list([(\"CatBoost\", cat_optuna)])"
   ]
  },
  {
   "cell_type": "markdown",
   "metadata": {},
   "source": [
    "#### `XGBoost`"
   ]
  },
  {
   "cell_type": "code",
   "execution_count": 77,
   "metadata": {},
   "outputs": [],
   "source": [
    "def objective_xgb(trial):\n",
    "    params = {\n",
    "        \"objective\": \"reg:squarederror\",\n",
    "        \"n_estimators\" : trial.suggest_int('n_estimators', 500, 4000),\n",
    "        # \"n_estimators\": 1000,\n",
    "        \"verbosity\": 0,\n",
    "        \"learning_rate\": trial.suggest_float(\"learning_rate\", 1e-3, 0.1, log=True),\n",
    "        \"max_depth\": trial.suggest_int(\"max_depth\", 1, 10),\n",
    "        # \"max_depth\": trial.suggest_int(\"max_depth\", 8, 16),\n",
    "        \"subsample\": trial.suggest_float(\"subsample\", 0.05, 1.0),\n",
    "        \"colsample_bytree\": trial.suggest_float(\"colsample_bytree\", 0.05, 1.0),\n",
    "        \"min_child_weight\": trial.suggest_int(\"min_child_weight\", 1, 20),\n",
    "    }\n",
    "\n",
    "    model = XGBRegressor(**params, random_state=42)\n",
    "    model.fit(X_train_robust, y_train, verbose=False)\n",
    "    # predictions = model.predict(X_val_robust)\n",
    "    # rmse = metrics.mean_squared_error(y_val, predictions, squared=False)\n",
    "    predictions = model.predict(X_test_robust)\n",
    "    rmse = metrics.mean_squared_error(y_test, predictions, squared=False)\n",
    "    return rmse"
   ]
  },
  {
   "cell_type": "code",
   "execution_count": 78,
   "metadata": {},
   "outputs": [
    {
     "name": "stderr",
     "output_type": "stream",
     "text": [
      "[I 2024-04-03 05:12:10,858] A new study created in memory with name: no-name-93bf3208-1e13-45aa-aa7f-ca171421d586\n",
      "[I 2024-04-03 05:12:18,059] Trial 0 finished with value: 9513020.31185423 and parameters: {'n_estimators': 1860, 'learning_rate': 0.003488976654890368, 'max_depth': 9, 'subsample': 0.3889156603589098, 'colsample_bytree': 0.3168877842030117, 'min_child_weight': 11}. Best is trial 0 with value: 9513020.31185423.\n",
      "[I 2024-04-03 05:12:18,796] Trial 1 finished with value: 9732039.305230327 and parameters: {'n_estimators': 993, 'learning_rate': 0.040215545266902894, 'max_depth': 1, 'subsample': 0.9875425897704915, 'colsample_bytree': 0.7836325308318246, 'min_child_weight': 4}. Best is trial 0 with value: 9513020.31185423.\n",
      "[I 2024-04-03 05:12:20,974] Trial 2 finished with value: 8866455.431046542 and parameters: {'n_estimators': 519, 'learning_rate': 0.04274869455295218, 'max_depth': 8, 'subsample': 0.742556809638938, 'colsample_bytree': 0.7827068293516485, 'min_child_weight': 2}. Best is trial 2 with value: 8866455.431046542.\n",
      "[I 2024-04-03 05:12:28,167] Trial 3 finished with value: 10300990.832582857 and parameters: {'n_estimators': 1754, 'learning_rate': 0.0017050539260269294, 'max_depth': 9, 'subsample': 0.64213322048618, 'colsample_bytree': 0.3643531236100167, 'min_child_weight': 2}. Best is trial 2 with value: 8866455.431046542.\n",
      "[I 2024-04-03 05:12:34,307] Trial 4 finished with value: 8905690.76226343 and parameters: {'n_estimators': 1588, 'learning_rate': 0.004470608546778492, 'max_depth': 8, 'subsample': 0.6556795977874524, 'colsample_bytree': 0.8928521054475103, 'min_child_weight': 10}. Best is trial 2 with value: 8866455.431046542.\n",
      "[I 2024-04-03 05:12:37,835] Trial 5 finished with value: 8822926.728263602 and parameters: {'n_estimators': 918, 'learning_rate': 0.026698666742744605, 'max_depth': 8, 'subsample': 0.5832133376910215, 'colsample_bytree': 0.7824188209568329, 'min_child_weight': 10}. Best is trial 5 with value: 8822926.728263602.\n",
      "[I 2024-04-03 05:12:39,456] Trial 6 finished with value: 10213055.609940384 and parameters: {'n_estimators': 2330, 'learning_rate': 0.007162786999897343, 'max_depth': 1, 'subsample': 0.15249685564363924, 'colsample_bytree': 0.07985772640239754, 'min_child_weight': 13}. Best is trial 5 with value: 8822926.728263602.\n",
      "[I 2024-04-03 05:12:44,783] Trial 7 finished with value: 9009313.290806023 and parameters: {'n_estimators': 1600, 'learning_rate': 0.010402587615883844, 'max_depth': 10, 'subsample': 0.28682761769143117, 'colsample_bytree': 0.4398637768838482, 'min_child_weight': 16}. Best is trial 5 with value: 8822926.728263602.\n",
      "[I 2024-04-03 05:12:46,699] Trial 8 finished with value: 11026145.60633442 and parameters: {'n_estimators': 1301, 'learning_rate': 0.0014254757044027432, 'max_depth': 3, 'subsample': 0.2031602228913042, 'colsample_bytree': 0.9332127697254444, 'min_child_weight': 17}. Best is trial 5 with value: 8822926.728263602.\n",
      "[I 2024-04-03 05:12:56,182] Trial 9 finished with value: 9084151.69846675 and parameters: {'n_estimators': 2717, 'learning_rate': 0.05532496914298508, 'max_depth': 9, 'subsample': 0.22724155594173406, 'colsample_bytree': 0.8979310485654789, 'min_child_weight': 11}. Best is trial 5 with value: 8822926.728263602.\n",
      "[I 2024-04-03 05:13:07,119] Trial 10 finished with value: 8740706.237843223 and parameters: {'n_estimators': 3998, 'learning_rate': 0.019236633957803232, 'max_depth': 6, 'subsample': 0.4872407333200207, 'colsample_bytree': 0.5941730402392412, 'min_child_weight': 7}. Best is trial 10 with value: 8740706.237843223.\n",
      "[I 2024-04-03 05:13:17,673] Trial 11 finished with value: 8718846.803899778 and parameters: {'n_estimators': 3928, 'learning_rate': 0.01586825791629251, 'max_depth': 6, 'subsample': 0.4980957403249248, 'colsample_bytree': 0.6197255411938335, 'min_child_weight': 7}. Best is trial 11 with value: 8718846.803899778.\n",
      "[I 2024-04-03 05:13:26,714] Trial 12 finished with value: 8639570.636156049 and parameters: {'n_estimators': 3879, 'learning_rate': 0.017599070570553453, 'max_depth': 5, 'subsample': 0.5065730709099857, 'colsample_bytree': 0.618288645432546, 'min_child_weight': 6}. Best is trial 12 with value: 8639570.636156049.\n",
      "[I 2024-04-03 05:13:35,243] Trial 13 finished with value: 8754630.220229441 and parameters: {'n_estimators': 3835, 'learning_rate': 0.014476219292470257, 'max_depth': 5, 'subsample': 0.43228006122840656, 'colsample_bytree': 0.6613483150067818, 'min_child_weight': 6}. Best is trial 12 with value: 8639570.636156049.\n",
      "[I 2024-04-03 05:13:42,438] Trial 14 finished with value: 9032731.636184247 and parameters: {'n_estimators': 3307, 'learning_rate': 0.0769259000533978, 'max_depth': 5, 'subsample': 0.8219477201136343, 'colsample_bytree': 0.5126370344467236, 'min_child_weight': 7}. Best is trial 12 with value: 8639570.636156049.\n",
      "[I 2024-04-03 05:13:49,354] Trial 15 finished with value: 9373296.56401222 and parameters: {'n_estimators': 3344, 'learning_rate': 0.0073427395690753815, 'max_depth': 6, 'subsample': 0.38224983605326457, 'colsample_bytree': 0.17149563079753305, 'min_child_weight': 5}. Best is trial 12 with value: 8639570.636156049.\n",
      "[I 2024-04-03 05:13:54,295] Trial 16 finished with value: 8751623.364516713 and parameters: {'n_estimators': 3415, 'learning_rate': 0.02379660133219386, 'max_depth': 3, 'subsample': 0.5248856117498301, 'colsample_bytree': 0.6349595475821552, 'min_child_weight': 8}. Best is trial 12 with value: 8639570.636156049.\n",
      "[I 2024-04-03 05:13:58,796] Trial 17 finished with value: 8871852.765219305 and parameters: {'n_estimators': 2725, 'learning_rate': 0.013035826426326332, 'max_depth': 4, 'subsample': 0.3181130801146004, 'colsample_bytree': 0.5276169757427056, 'min_child_weight': 14}. Best is trial 12 with value: 8639570.636156049.\n",
      "[I 2024-04-03 05:14:07,234] Trial 18 finished with value: 8867020.162549727 and parameters: {'n_estimators': 3616, 'learning_rate': 0.005988999203275798, 'max_depth': 7, 'subsample': 0.08358085661118514, 'colsample_bytree': 0.7151722896500294, 'min_child_weight': 1}. Best is trial 12 with value: 8639570.636156049.\n",
      "[I 2024-04-03 05:14:12,034] Trial 19 finished with value: 9185071.65676586 and parameters: {'n_estimators': 3118, 'learning_rate': 0.0031015739590953355, 'max_depth': 4, 'subsample': 0.7977972146286736, 'colsample_bytree': 0.2756265407251648, 'min_child_weight': 19}. Best is trial 12 with value: 8639570.636156049.\n",
      "[I 2024-04-03 05:14:20,299] Trial 20 finished with value: 8811333.050807007 and parameters: {'n_estimators': 2874, 'learning_rate': 0.031783265587837166, 'max_depth': 7, 'subsample': 0.969103467565645, 'colsample_bytree': 0.42741260320546504, 'min_child_weight': 4}. Best is trial 12 with value: 8639570.636156049.\n",
      "[I 2024-04-03 05:14:29,830] Trial 21 finished with value: 8744484.223349111 and parameters: {'n_estimators': 3694, 'learning_rate': 0.018374812641590223, 'max_depth': 6, 'subsample': 0.48904454676916864, 'colsample_bytree': 0.5728311485947871, 'min_child_weight': 8}. Best is trial 12 with value: 8639570.636156049.\n",
      "[I 2024-04-03 05:14:40,265] Trial 22 finished with value: 8783317.584608044 and parameters: {'n_estimators': 3823, 'learning_rate': 0.018664635859108464, 'max_depth': 6, 'subsample': 0.48148636468824196, 'colsample_bytree': 0.5906179023680612, 'min_child_weight': 8}. Best is trial 12 with value: 8639570.636156049.\n",
      "[I 2024-04-03 05:14:47,424] Trial 23 finished with value: 8617940.798206067 and parameters: {'n_estimators': 3990, 'learning_rate': 0.0107774259818325, 'max_depth': 4, 'subsample': 0.6901134737041833, 'colsample_bytree': 0.7014695035823206, 'min_child_weight': 6}. Best is trial 23 with value: 8617940.798206067.\n",
      "[I 2024-04-03 05:14:53,574] Trial 24 finished with value: 8747188.582680147 and parameters: {'n_estimators': 3997, 'learning_rate': 0.01248639935876595, 'max_depth': 3, 'subsample': 0.6096363339918209, 'colsample_bytree': 0.7251993101379959, 'min_child_weight': 4}. Best is trial 23 with value: 8617940.798206067.\n",
      "[I 2024-04-03 05:14:59,344] Trial 25 finished with value: 8611095.627320565 and parameters: {'n_estimators': 3028, 'learning_rate': 0.008793590048053681, 'max_depth': 4, 'subsample': 0.6913724938472428, 'colsample_bytree': 0.9929722196907147, 'min_child_weight': 6}. Best is trial 25 with value: 8611095.627320565.\n",
      "[I 2024-04-03 05:15:02,114] Trial 26 finished with value: 9189808.397111123 and parameters: {'n_estimators': 2259, 'learning_rate': 0.008992655262871362, 'max_depth': 2, 'subsample': 0.7300681208761681, 'colsample_bytree': 0.8376430901957691, 'min_child_weight': 5}. Best is trial 25 with value: 8611095.627320565.\n",
      "[I 2024-04-03 05:15:07,886] Trial 27 finished with value: 8659761.135661902 and parameters: {'n_estimators': 3053, 'learning_rate': 0.005163812114168821, 'max_depth': 4, 'subsample': 0.8892964341680245, 'colsample_bytree': 0.9747565864036639, 'min_child_weight': 3}. Best is trial 25 with value: 8611095.627320565.\n",
      "[I 2024-04-03 05:15:11,961] Trial 28 finished with value: 9497814.150635442 and parameters: {'n_estimators': 3521, 'learning_rate': 0.001942878826238877, 'max_depth': 2, 'subsample': 0.7022676686190372, 'colsample_bytree': 0.9771934832548648, 'min_child_weight': 9}. Best is trial 25 with value: 8611095.627320565.\n",
      "[I 2024-04-03 05:15:18,058] Trial 29 finished with value: 8874779.119589612 and parameters: {'n_estimators': 2489, 'learning_rate': 0.00373524985150421, 'max_depth': 5, 'subsample': 0.5613136566177428, 'colsample_bytree': 0.8543106773072773, 'min_child_weight': 12}. Best is trial 25 with value: 8611095.627320565.\n"
     ]
    }
   ],
   "source": [
    "study_xgb = optuna.create_study(direction='minimize', sampler=sampler)\n",
    "study_xgb.optimize(objective_xgb, n_trials=30)"
   ]
  },
  {
   "cell_type": "code",
   "execution_count": 79,
   "metadata": {},
   "outputs": [
    {
     "name": "stdout",
     "output_type": "stream",
     "text": [
      "Best hyperparameters:\n",
      "{'n_estimators': 3028, 'learning_rate': 0.008793590048053681, 'max_depth': 4, 'subsample': 0.6913724938472428, 'colsample_bytree': 0.9929722196907147, 'min_child_weight': 6}\n",
      "-----------------------------------------------------------------------------------------------------------------\n",
      "Best RMSE:\n",
      "8611095.627320565\n"
     ]
    }
   ],
   "source": [
    "print(\"Best hyperparameters:\", study_xgb.best_params, sep=\"\\n\")\n",
    "print(\"-----------------------------------------------------------------------------------------------------------------\")\n",
    "print(\"Best RMSE:\", study_xgb.best_value, sep=\"\\n\")"
   ]
  },
  {
   "cell_type": "code",
   "execution_count": 80,
   "metadata": {},
   "outputs": [
    {
     "data": {
      "application/vnd.plotly.v1+json": {
       "config": {
        "plotlyServerURL": "https://plot.ly"
       },
       "data": [
        {
         "cliponaxis": false,
         "hovertemplate": [
          "min_child_weight (IntDistribution): 0.02476608403518365<extra></extra>",
          "n_estimators (IntDistribution): 0.09402850083077648<extra></extra>",
          "subsample (FloatDistribution): 0.1132830895021647<extra></extra>",
          "learning_rate (FloatDistribution): 0.20051703494929812<extra></extra>",
          "max_depth (IntDistribution): 0.2265705773583874<extra></extra>",
          "colsample_bytree (FloatDistribution): 0.34083471332418963<extra></extra>"
         ],
         "name": "Objective Value",
         "orientation": "h",
         "text": [
          "0.02",
          "0.09",
          "0.11",
          "0.20",
          "0.23",
          "0.34"
         ],
         "textposition": "outside",
         "type": "bar",
         "x": [
          0.02476608403518365,
          0.09402850083077648,
          0.1132830895021647,
          0.20051703494929812,
          0.2265705773583874,
          0.34083471332418963
         ],
         "y": [
          "min_child_weight",
          "n_estimators",
          "subsample",
          "learning_rate",
          "max_depth",
          "colsample_bytree"
         ]
        }
       ],
       "layout": {
        "template": {
         "data": {
          "bar": [
           {
            "error_x": {
             "color": "#2a3f5f"
            },
            "error_y": {
             "color": "#2a3f5f"
            },
            "marker": {
             "line": {
              "color": "#E5ECF6",
              "width": 0.5
             },
             "pattern": {
              "fillmode": "overlay",
              "size": 10,
              "solidity": 0.2
             }
            },
            "type": "bar"
           }
          ],
          "barpolar": [
           {
            "marker": {
             "line": {
              "color": "#E5ECF6",
              "width": 0.5
             },
             "pattern": {
              "fillmode": "overlay",
              "size": 10,
              "solidity": 0.2
             }
            },
            "type": "barpolar"
           }
          ],
          "carpet": [
           {
            "aaxis": {
             "endlinecolor": "#2a3f5f",
             "gridcolor": "white",
             "linecolor": "white",
             "minorgridcolor": "white",
             "startlinecolor": "#2a3f5f"
            },
            "baxis": {
             "endlinecolor": "#2a3f5f",
             "gridcolor": "white",
             "linecolor": "white",
             "minorgridcolor": "white",
             "startlinecolor": "#2a3f5f"
            },
            "type": "carpet"
           }
          ],
          "choropleth": [
           {
            "colorbar": {
             "outlinewidth": 0,
             "ticks": ""
            },
            "type": "choropleth"
           }
          ],
          "contour": [
           {
            "colorbar": {
             "outlinewidth": 0,
             "ticks": ""
            },
            "colorscale": [
             [
              0,
              "#0d0887"
             ],
             [
              0.1111111111111111,
              "#46039f"
             ],
             [
              0.2222222222222222,
              "#7201a8"
             ],
             [
              0.3333333333333333,
              "#9c179e"
             ],
             [
              0.4444444444444444,
              "#bd3786"
             ],
             [
              0.5555555555555556,
              "#d8576b"
             ],
             [
              0.6666666666666666,
              "#ed7953"
             ],
             [
              0.7777777777777778,
              "#fb9f3a"
             ],
             [
              0.8888888888888888,
              "#fdca26"
             ],
             [
              1,
              "#f0f921"
             ]
            ],
            "type": "contour"
           }
          ],
          "contourcarpet": [
           {
            "colorbar": {
             "outlinewidth": 0,
             "ticks": ""
            },
            "type": "contourcarpet"
           }
          ],
          "heatmap": [
           {
            "colorbar": {
             "outlinewidth": 0,
             "ticks": ""
            },
            "colorscale": [
             [
              0,
              "#0d0887"
             ],
             [
              0.1111111111111111,
              "#46039f"
             ],
             [
              0.2222222222222222,
              "#7201a8"
             ],
             [
              0.3333333333333333,
              "#9c179e"
             ],
             [
              0.4444444444444444,
              "#bd3786"
             ],
             [
              0.5555555555555556,
              "#d8576b"
             ],
             [
              0.6666666666666666,
              "#ed7953"
             ],
             [
              0.7777777777777778,
              "#fb9f3a"
             ],
             [
              0.8888888888888888,
              "#fdca26"
             ],
             [
              1,
              "#f0f921"
             ]
            ],
            "type": "heatmap"
           }
          ],
          "heatmapgl": [
           {
            "colorbar": {
             "outlinewidth": 0,
             "ticks": ""
            },
            "colorscale": [
             [
              0,
              "#0d0887"
             ],
             [
              0.1111111111111111,
              "#46039f"
             ],
             [
              0.2222222222222222,
              "#7201a8"
             ],
             [
              0.3333333333333333,
              "#9c179e"
             ],
             [
              0.4444444444444444,
              "#bd3786"
             ],
             [
              0.5555555555555556,
              "#d8576b"
             ],
             [
              0.6666666666666666,
              "#ed7953"
             ],
             [
              0.7777777777777778,
              "#fb9f3a"
             ],
             [
              0.8888888888888888,
              "#fdca26"
             ],
             [
              1,
              "#f0f921"
             ]
            ],
            "type": "heatmapgl"
           }
          ],
          "histogram": [
           {
            "marker": {
             "pattern": {
              "fillmode": "overlay",
              "size": 10,
              "solidity": 0.2
             }
            },
            "type": "histogram"
           }
          ],
          "histogram2d": [
           {
            "colorbar": {
             "outlinewidth": 0,
             "ticks": ""
            },
            "colorscale": [
             [
              0,
              "#0d0887"
             ],
             [
              0.1111111111111111,
              "#46039f"
             ],
             [
              0.2222222222222222,
              "#7201a8"
             ],
             [
              0.3333333333333333,
              "#9c179e"
             ],
             [
              0.4444444444444444,
              "#bd3786"
             ],
             [
              0.5555555555555556,
              "#d8576b"
             ],
             [
              0.6666666666666666,
              "#ed7953"
             ],
             [
              0.7777777777777778,
              "#fb9f3a"
             ],
             [
              0.8888888888888888,
              "#fdca26"
             ],
             [
              1,
              "#f0f921"
             ]
            ],
            "type": "histogram2d"
           }
          ],
          "histogram2dcontour": [
           {
            "colorbar": {
             "outlinewidth": 0,
             "ticks": ""
            },
            "colorscale": [
             [
              0,
              "#0d0887"
             ],
             [
              0.1111111111111111,
              "#46039f"
             ],
             [
              0.2222222222222222,
              "#7201a8"
             ],
             [
              0.3333333333333333,
              "#9c179e"
             ],
             [
              0.4444444444444444,
              "#bd3786"
             ],
             [
              0.5555555555555556,
              "#d8576b"
             ],
             [
              0.6666666666666666,
              "#ed7953"
             ],
             [
              0.7777777777777778,
              "#fb9f3a"
             ],
             [
              0.8888888888888888,
              "#fdca26"
             ],
             [
              1,
              "#f0f921"
             ]
            ],
            "type": "histogram2dcontour"
           }
          ],
          "mesh3d": [
           {
            "colorbar": {
             "outlinewidth": 0,
             "ticks": ""
            },
            "type": "mesh3d"
           }
          ],
          "parcoords": [
           {
            "line": {
             "colorbar": {
              "outlinewidth": 0,
              "ticks": ""
             }
            },
            "type": "parcoords"
           }
          ],
          "pie": [
           {
            "automargin": true,
            "type": "pie"
           }
          ],
          "scatter": [
           {
            "fillpattern": {
             "fillmode": "overlay",
             "size": 10,
             "solidity": 0.2
            },
            "type": "scatter"
           }
          ],
          "scatter3d": [
           {
            "line": {
             "colorbar": {
              "outlinewidth": 0,
              "ticks": ""
             }
            },
            "marker": {
             "colorbar": {
              "outlinewidth": 0,
              "ticks": ""
             }
            },
            "type": "scatter3d"
           }
          ],
          "scattercarpet": [
           {
            "marker": {
             "colorbar": {
              "outlinewidth": 0,
              "ticks": ""
             }
            },
            "type": "scattercarpet"
           }
          ],
          "scattergeo": [
           {
            "marker": {
             "colorbar": {
              "outlinewidth": 0,
              "ticks": ""
             }
            },
            "type": "scattergeo"
           }
          ],
          "scattergl": [
           {
            "marker": {
             "colorbar": {
              "outlinewidth": 0,
              "ticks": ""
             }
            },
            "type": "scattergl"
           }
          ],
          "scattermapbox": [
           {
            "marker": {
             "colorbar": {
              "outlinewidth": 0,
              "ticks": ""
             }
            },
            "type": "scattermapbox"
           }
          ],
          "scatterpolar": [
           {
            "marker": {
             "colorbar": {
              "outlinewidth": 0,
              "ticks": ""
             }
            },
            "type": "scatterpolar"
           }
          ],
          "scatterpolargl": [
           {
            "marker": {
             "colorbar": {
              "outlinewidth": 0,
              "ticks": ""
             }
            },
            "type": "scatterpolargl"
           }
          ],
          "scatterternary": [
           {
            "marker": {
             "colorbar": {
              "outlinewidth": 0,
              "ticks": ""
             }
            },
            "type": "scatterternary"
           }
          ],
          "surface": [
           {
            "colorbar": {
             "outlinewidth": 0,
             "ticks": ""
            },
            "colorscale": [
             [
              0,
              "#0d0887"
             ],
             [
              0.1111111111111111,
              "#46039f"
             ],
             [
              0.2222222222222222,
              "#7201a8"
             ],
             [
              0.3333333333333333,
              "#9c179e"
             ],
             [
              0.4444444444444444,
              "#bd3786"
             ],
             [
              0.5555555555555556,
              "#d8576b"
             ],
             [
              0.6666666666666666,
              "#ed7953"
             ],
             [
              0.7777777777777778,
              "#fb9f3a"
             ],
             [
              0.8888888888888888,
              "#fdca26"
             ],
             [
              1,
              "#f0f921"
             ]
            ],
            "type": "surface"
           }
          ],
          "table": [
           {
            "cells": {
             "fill": {
              "color": "#EBF0F8"
             },
             "line": {
              "color": "white"
             }
            },
            "header": {
             "fill": {
              "color": "#C8D4E3"
             },
             "line": {
              "color": "white"
             }
            },
            "type": "table"
           }
          ]
         },
         "layout": {
          "annotationdefaults": {
           "arrowcolor": "#2a3f5f",
           "arrowhead": 0,
           "arrowwidth": 1
          },
          "autotypenumbers": "strict",
          "coloraxis": {
           "colorbar": {
            "outlinewidth": 0,
            "ticks": ""
           }
          },
          "colorscale": {
           "diverging": [
            [
             0,
             "#8e0152"
            ],
            [
             0.1,
             "#c51b7d"
            ],
            [
             0.2,
             "#de77ae"
            ],
            [
             0.3,
             "#f1b6da"
            ],
            [
             0.4,
             "#fde0ef"
            ],
            [
             0.5,
             "#f7f7f7"
            ],
            [
             0.6,
             "#e6f5d0"
            ],
            [
             0.7,
             "#b8e186"
            ],
            [
             0.8,
             "#7fbc41"
            ],
            [
             0.9,
             "#4d9221"
            ],
            [
             1,
             "#276419"
            ]
           ],
           "sequential": [
            [
             0,
             "#0d0887"
            ],
            [
             0.1111111111111111,
             "#46039f"
            ],
            [
             0.2222222222222222,
             "#7201a8"
            ],
            [
             0.3333333333333333,
             "#9c179e"
            ],
            [
             0.4444444444444444,
             "#bd3786"
            ],
            [
             0.5555555555555556,
             "#d8576b"
            ],
            [
             0.6666666666666666,
             "#ed7953"
            ],
            [
             0.7777777777777778,
             "#fb9f3a"
            ],
            [
             0.8888888888888888,
             "#fdca26"
            ],
            [
             1,
             "#f0f921"
            ]
           ],
           "sequentialminus": [
            [
             0,
             "#0d0887"
            ],
            [
             0.1111111111111111,
             "#46039f"
            ],
            [
             0.2222222222222222,
             "#7201a8"
            ],
            [
             0.3333333333333333,
             "#9c179e"
            ],
            [
             0.4444444444444444,
             "#bd3786"
            ],
            [
             0.5555555555555556,
             "#d8576b"
            ],
            [
             0.6666666666666666,
             "#ed7953"
            ],
            [
             0.7777777777777778,
             "#fb9f3a"
            ],
            [
             0.8888888888888888,
             "#fdca26"
            ],
            [
             1,
             "#f0f921"
            ]
           ]
          },
          "colorway": [
           "#636efa",
           "#EF553B",
           "#00cc96",
           "#ab63fa",
           "#FFA15A",
           "#19d3f3",
           "#FF6692",
           "#B6E880",
           "#FF97FF",
           "#FECB52"
          ],
          "font": {
           "color": "#2a3f5f"
          },
          "geo": {
           "bgcolor": "white",
           "lakecolor": "white",
           "landcolor": "#E5ECF6",
           "showlakes": true,
           "showland": true,
           "subunitcolor": "white"
          },
          "hoverlabel": {
           "align": "left"
          },
          "hovermode": "closest",
          "mapbox": {
           "style": "light"
          },
          "paper_bgcolor": "white",
          "plot_bgcolor": "#E5ECF6",
          "polar": {
           "angularaxis": {
            "gridcolor": "white",
            "linecolor": "white",
            "ticks": ""
           },
           "bgcolor": "#E5ECF6",
           "radialaxis": {
            "gridcolor": "white",
            "linecolor": "white",
            "ticks": ""
           }
          },
          "scene": {
           "xaxis": {
            "backgroundcolor": "#E5ECF6",
            "gridcolor": "white",
            "gridwidth": 2,
            "linecolor": "white",
            "showbackground": true,
            "ticks": "",
            "zerolinecolor": "white"
           },
           "yaxis": {
            "backgroundcolor": "#E5ECF6",
            "gridcolor": "white",
            "gridwidth": 2,
            "linecolor": "white",
            "showbackground": true,
            "ticks": "",
            "zerolinecolor": "white"
           },
           "zaxis": {
            "backgroundcolor": "#E5ECF6",
            "gridcolor": "white",
            "gridwidth": 2,
            "linecolor": "white",
            "showbackground": true,
            "ticks": "",
            "zerolinecolor": "white"
           }
          },
          "shapedefaults": {
           "line": {
            "color": "#2a3f5f"
           }
          },
          "ternary": {
           "aaxis": {
            "gridcolor": "white",
            "linecolor": "white",
            "ticks": ""
           },
           "baxis": {
            "gridcolor": "white",
            "linecolor": "white",
            "ticks": ""
           },
           "bgcolor": "#E5ECF6",
           "caxis": {
            "gridcolor": "white",
            "linecolor": "white",
            "ticks": ""
           }
          },
          "title": {
           "x": 0.05
          },
          "xaxis": {
           "automargin": true,
           "gridcolor": "white",
           "linecolor": "white",
           "ticks": "",
           "title": {
            "standoff": 15
           },
           "zerolinecolor": "white",
           "zerolinewidth": 2
          },
          "yaxis": {
           "automargin": true,
           "gridcolor": "white",
           "linecolor": "white",
           "ticks": "",
           "title": {
            "standoff": 15
           },
           "zerolinecolor": "white",
           "zerolinewidth": 2
          }
         }
        },
        "title": {
         "text": "Hyperparameter Importances"
        },
        "xaxis": {
         "title": {
          "text": "Hyperparameter Importance"
         }
        },
        "yaxis": {
         "title": {
          "text": "Hyperparameter"
         }
        }
       }
      }
     },
     "metadata": {},
     "output_type": "display_data"
    }
   ],
   "source": [
    "# 하이퍼파라미터별 중요도를 확인할 수 있는 그래프\n",
    "optuna.visualization.plot_param_importances(study_xgb)"
   ]
  },
  {
   "cell_type": "code",
   "execution_count": 81,
   "metadata": {},
   "outputs": [
    {
     "data": {
      "application/vnd.plotly.v1+json": {
       "config": {
        "plotlyServerURL": "https://plot.ly"
       },
       "data": [
        {
         "mode": "markers",
         "name": "Objective Value",
         "type": "scatter",
         "x": [
          0,
          1,
          2,
          3,
          4,
          5,
          6,
          7,
          8,
          9,
          10,
          11,
          12,
          13,
          14,
          15,
          16,
          17,
          18,
          19,
          20,
          21,
          22,
          23,
          24,
          25,
          26,
          27,
          28,
          29
         ],
         "y": [
          9513020.31185423,
          9732039.305230327,
          8866455.431046542,
          10300990.832582857,
          8905690.76226343,
          8822926.728263602,
          10213055.609940384,
          9009313.290806023,
          11026145.60633442,
          9084151.69846675,
          8740706.237843223,
          8718846.803899778,
          8639570.636156049,
          8754630.220229441,
          9032731.636184247,
          9373296.56401222,
          8751623.364516713,
          8871852.765219305,
          8867020.162549727,
          9185071.65676586,
          8811333.050807007,
          8744484.223349111,
          8783317.584608044,
          8617940.798206067,
          8747188.582680147,
          8611095.627320565,
          9189808.397111123,
          8659761.135661902,
          9497814.150635442,
          8874779.119589612
         ]
        },
        {
         "mode": "lines",
         "name": "Best Value",
         "type": "scatter",
         "x": [
          0,
          1,
          2,
          3,
          4,
          5,
          6,
          7,
          8,
          9,
          10,
          11,
          12,
          13,
          14,
          15,
          16,
          17,
          18,
          19,
          20,
          21,
          22,
          23,
          24,
          25,
          26,
          27,
          28,
          29
         ],
         "y": [
          9513020.31185423,
          9513020.31185423,
          8866455.431046542,
          8866455.431046542,
          8866455.431046542,
          8822926.728263602,
          8822926.728263602,
          8822926.728263602,
          8822926.728263602,
          8822926.728263602,
          8740706.237843223,
          8718846.803899778,
          8639570.636156049,
          8639570.636156049,
          8639570.636156049,
          8639570.636156049,
          8639570.636156049,
          8639570.636156049,
          8639570.636156049,
          8639570.636156049,
          8639570.636156049,
          8639570.636156049,
          8639570.636156049,
          8617940.798206067,
          8617940.798206067,
          8611095.627320565,
          8611095.627320565,
          8611095.627320565,
          8611095.627320565,
          8611095.627320565
         ]
        },
        {
         "marker": {
          "color": "#cccccc"
         },
         "mode": "markers",
         "name": "Infeasible Trial",
         "showlegend": false,
         "type": "scatter",
         "x": [],
         "y": []
        }
       ],
       "layout": {
        "template": {
         "data": {
          "bar": [
           {
            "error_x": {
             "color": "#2a3f5f"
            },
            "error_y": {
             "color": "#2a3f5f"
            },
            "marker": {
             "line": {
              "color": "#E5ECF6",
              "width": 0.5
             },
             "pattern": {
              "fillmode": "overlay",
              "size": 10,
              "solidity": 0.2
             }
            },
            "type": "bar"
           }
          ],
          "barpolar": [
           {
            "marker": {
             "line": {
              "color": "#E5ECF6",
              "width": 0.5
             },
             "pattern": {
              "fillmode": "overlay",
              "size": 10,
              "solidity": 0.2
             }
            },
            "type": "barpolar"
           }
          ],
          "carpet": [
           {
            "aaxis": {
             "endlinecolor": "#2a3f5f",
             "gridcolor": "white",
             "linecolor": "white",
             "minorgridcolor": "white",
             "startlinecolor": "#2a3f5f"
            },
            "baxis": {
             "endlinecolor": "#2a3f5f",
             "gridcolor": "white",
             "linecolor": "white",
             "minorgridcolor": "white",
             "startlinecolor": "#2a3f5f"
            },
            "type": "carpet"
           }
          ],
          "choropleth": [
           {
            "colorbar": {
             "outlinewidth": 0,
             "ticks": ""
            },
            "type": "choropleth"
           }
          ],
          "contour": [
           {
            "colorbar": {
             "outlinewidth": 0,
             "ticks": ""
            },
            "colorscale": [
             [
              0,
              "#0d0887"
             ],
             [
              0.1111111111111111,
              "#46039f"
             ],
             [
              0.2222222222222222,
              "#7201a8"
             ],
             [
              0.3333333333333333,
              "#9c179e"
             ],
             [
              0.4444444444444444,
              "#bd3786"
             ],
             [
              0.5555555555555556,
              "#d8576b"
             ],
             [
              0.6666666666666666,
              "#ed7953"
             ],
             [
              0.7777777777777778,
              "#fb9f3a"
             ],
             [
              0.8888888888888888,
              "#fdca26"
             ],
             [
              1,
              "#f0f921"
             ]
            ],
            "type": "contour"
           }
          ],
          "contourcarpet": [
           {
            "colorbar": {
             "outlinewidth": 0,
             "ticks": ""
            },
            "type": "contourcarpet"
           }
          ],
          "heatmap": [
           {
            "colorbar": {
             "outlinewidth": 0,
             "ticks": ""
            },
            "colorscale": [
             [
              0,
              "#0d0887"
             ],
             [
              0.1111111111111111,
              "#46039f"
             ],
             [
              0.2222222222222222,
              "#7201a8"
             ],
             [
              0.3333333333333333,
              "#9c179e"
             ],
             [
              0.4444444444444444,
              "#bd3786"
             ],
             [
              0.5555555555555556,
              "#d8576b"
             ],
             [
              0.6666666666666666,
              "#ed7953"
             ],
             [
              0.7777777777777778,
              "#fb9f3a"
             ],
             [
              0.8888888888888888,
              "#fdca26"
             ],
             [
              1,
              "#f0f921"
             ]
            ],
            "type": "heatmap"
           }
          ],
          "heatmapgl": [
           {
            "colorbar": {
             "outlinewidth": 0,
             "ticks": ""
            },
            "colorscale": [
             [
              0,
              "#0d0887"
             ],
             [
              0.1111111111111111,
              "#46039f"
             ],
             [
              0.2222222222222222,
              "#7201a8"
             ],
             [
              0.3333333333333333,
              "#9c179e"
             ],
             [
              0.4444444444444444,
              "#bd3786"
             ],
             [
              0.5555555555555556,
              "#d8576b"
             ],
             [
              0.6666666666666666,
              "#ed7953"
             ],
             [
              0.7777777777777778,
              "#fb9f3a"
             ],
             [
              0.8888888888888888,
              "#fdca26"
             ],
             [
              1,
              "#f0f921"
             ]
            ],
            "type": "heatmapgl"
           }
          ],
          "histogram": [
           {
            "marker": {
             "pattern": {
              "fillmode": "overlay",
              "size": 10,
              "solidity": 0.2
             }
            },
            "type": "histogram"
           }
          ],
          "histogram2d": [
           {
            "colorbar": {
             "outlinewidth": 0,
             "ticks": ""
            },
            "colorscale": [
             [
              0,
              "#0d0887"
             ],
             [
              0.1111111111111111,
              "#46039f"
             ],
             [
              0.2222222222222222,
              "#7201a8"
             ],
             [
              0.3333333333333333,
              "#9c179e"
             ],
             [
              0.4444444444444444,
              "#bd3786"
             ],
             [
              0.5555555555555556,
              "#d8576b"
             ],
             [
              0.6666666666666666,
              "#ed7953"
             ],
             [
              0.7777777777777778,
              "#fb9f3a"
             ],
             [
              0.8888888888888888,
              "#fdca26"
             ],
             [
              1,
              "#f0f921"
             ]
            ],
            "type": "histogram2d"
           }
          ],
          "histogram2dcontour": [
           {
            "colorbar": {
             "outlinewidth": 0,
             "ticks": ""
            },
            "colorscale": [
             [
              0,
              "#0d0887"
             ],
             [
              0.1111111111111111,
              "#46039f"
             ],
             [
              0.2222222222222222,
              "#7201a8"
             ],
             [
              0.3333333333333333,
              "#9c179e"
             ],
             [
              0.4444444444444444,
              "#bd3786"
             ],
             [
              0.5555555555555556,
              "#d8576b"
             ],
             [
              0.6666666666666666,
              "#ed7953"
             ],
             [
              0.7777777777777778,
              "#fb9f3a"
             ],
             [
              0.8888888888888888,
              "#fdca26"
             ],
             [
              1,
              "#f0f921"
             ]
            ],
            "type": "histogram2dcontour"
           }
          ],
          "mesh3d": [
           {
            "colorbar": {
             "outlinewidth": 0,
             "ticks": ""
            },
            "type": "mesh3d"
           }
          ],
          "parcoords": [
           {
            "line": {
             "colorbar": {
              "outlinewidth": 0,
              "ticks": ""
             }
            },
            "type": "parcoords"
           }
          ],
          "pie": [
           {
            "automargin": true,
            "type": "pie"
           }
          ],
          "scatter": [
           {
            "fillpattern": {
             "fillmode": "overlay",
             "size": 10,
             "solidity": 0.2
            },
            "type": "scatter"
           }
          ],
          "scatter3d": [
           {
            "line": {
             "colorbar": {
              "outlinewidth": 0,
              "ticks": ""
             }
            },
            "marker": {
             "colorbar": {
              "outlinewidth": 0,
              "ticks": ""
             }
            },
            "type": "scatter3d"
           }
          ],
          "scattercarpet": [
           {
            "marker": {
             "colorbar": {
              "outlinewidth": 0,
              "ticks": ""
             }
            },
            "type": "scattercarpet"
           }
          ],
          "scattergeo": [
           {
            "marker": {
             "colorbar": {
              "outlinewidth": 0,
              "ticks": ""
             }
            },
            "type": "scattergeo"
           }
          ],
          "scattergl": [
           {
            "marker": {
             "colorbar": {
              "outlinewidth": 0,
              "ticks": ""
             }
            },
            "type": "scattergl"
           }
          ],
          "scattermapbox": [
           {
            "marker": {
             "colorbar": {
              "outlinewidth": 0,
              "ticks": ""
             }
            },
            "type": "scattermapbox"
           }
          ],
          "scatterpolar": [
           {
            "marker": {
             "colorbar": {
              "outlinewidth": 0,
              "ticks": ""
             }
            },
            "type": "scatterpolar"
           }
          ],
          "scatterpolargl": [
           {
            "marker": {
             "colorbar": {
              "outlinewidth": 0,
              "ticks": ""
             }
            },
            "type": "scatterpolargl"
           }
          ],
          "scatterternary": [
           {
            "marker": {
             "colorbar": {
              "outlinewidth": 0,
              "ticks": ""
             }
            },
            "type": "scatterternary"
           }
          ],
          "surface": [
           {
            "colorbar": {
             "outlinewidth": 0,
             "ticks": ""
            },
            "colorscale": [
             [
              0,
              "#0d0887"
             ],
             [
              0.1111111111111111,
              "#46039f"
             ],
             [
              0.2222222222222222,
              "#7201a8"
             ],
             [
              0.3333333333333333,
              "#9c179e"
             ],
             [
              0.4444444444444444,
              "#bd3786"
             ],
             [
              0.5555555555555556,
              "#d8576b"
             ],
             [
              0.6666666666666666,
              "#ed7953"
             ],
             [
              0.7777777777777778,
              "#fb9f3a"
             ],
             [
              0.8888888888888888,
              "#fdca26"
             ],
             [
              1,
              "#f0f921"
             ]
            ],
            "type": "surface"
           }
          ],
          "table": [
           {
            "cells": {
             "fill": {
              "color": "#EBF0F8"
             },
             "line": {
              "color": "white"
             }
            },
            "header": {
             "fill": {
              "color": "#C8D4E3"
             },
             "line": {
              "color": "white"
             }
            },
            "type": "table"
           }
          ]
         },
         "layout": {
          "annotationdefaults": {
           "arrowcolor": "#2a3f5f",
           "arrowhead": 0,
           "arrowwidth": 1
          },
          "autotypenumbers": "strict",
          "coloraxis": {
           "colorbar": {
            "outlinewidth": 0,
            "ticks": ""
           }
          },
          "colorscale": {
           "diverging": [
            [
             0,
             "#8e0152"
            ],
            [
             0.1,
             "#c51b7d"
            ],
            [
             0.2,
             "#de77ae"
            ],
            [
             0.3,
             "#f1b6da"
            ],
            [
             0.4,
             "#fde0ef"
            ],
            [
             0.5,
             "#f7f7f7"
            ],
            [
             0.6,
             "#e6f5d0"
            ],
            [
             0.7,
             "#b8e186"
            ],
            [
             0.8,
             "#7fbc41"
            ],
            [
             0.9,
             "#4d9221"
            ],
            [
             1,
             "#276419"
            ]
           ],
           "sequential": [
            [
             0,
             "#0d0887"
            ],
            [
             0.1111111111111111,
             "#46039f"
            ],
            [
             0.2222222222222222,
             "#7201a8"
            ],
            [
             0.3333333333333333,
             "#9c179e"
            ],
            [
             0.4444444444444444,
             "#bd3786"
            ],
            [
             0.5555555555555556,
             "#d8576b"
            ],
            [
             0.6666666666666666,
             "#ed7953"
            ],
            [
             0.7777777777777778,
             "#fb9f3a"
            ],
            [
             0.8888888888888888,
             "#fdca26"
            ],
            [
             1,
             "#f0f921"
            ]
           ],
           "sequentialminus": [
            [
             0,
             "#0d0887"
            ],
            [
             0.1111111111111111,
             "#46039f"
            ],
            [
             0.2222222222222222,
             "#7201a8"
            ],
            [
             0.3333333333333333,
             "#9c179e"
            ],
            [
             0.4444444444444444,
             "#bd3786"
            ],
            [
             0.5555555555555556,
             "#d8576b"
            ],
            [
             0.6666666666666666,
             "#ed7953"
            ],
            [
             0.7777777777777778,
             "#fb9f3a"
            ],
            [
             0.8888888888888888,
             "#fdca26"
            ],
            [
             1,
             "#f0f921"
            ]
           ]
          },
          "colorway": [
           "#636efa",
           "#EF553B",
           "#00cc96",
           "#ab63fa",
           "#FFA15A",
           "#19d3f3",
           "#FF6692",
           "#B6E880",
           "#FF97FF",
           "#FECB52"
          ],
          "font": {
           "color": "#2a3f5f"
          },
          "geo": {
           "bgcolor": "white",
           "lakecolor": "white",
           "landcolor": "#E5ECF6",
           "showlakes": true,
           "showland": true,
           "subunitcolor": "white"
          },
          "hoverlabel": {
           "align": "left"
          },
          "hovermode": "closest",
          "mapbox": {
           "style": "light"
          },
          "paper_bgcolor": "white",
          "plot_bgcolor": "#E5ECF6",
          "polar": {
           "angularaxis": {
            "gridcolor": "white",
            "linecolor": "white",
            "ticks": ""
           },
           "bgcolor": "#E5ECF6",
           "radialaxis": {
            "gridcolor": "white",
            "linecolor": "white",
            "ticks": ""
           }
          },
          "scene": {
           "xaxis": {
            "backgroundcolor": "#E5ECF6",
            "gridcolor": "white",
            "gridwidth": 2,
            "linecolor": "white",
            "showbackground": true,
            "ticks": "",
            "zerolinecolor": "white"
           },
           "yaxis": {
            "backgroundcolor": "#E5ECF6",
            "gridcolor": "white",
            "gridwidth": 2,
            "linecolor": "white",
            "showbackground": true,
            "ticks": "",
            "zerolinecolor": "white"
           },
           "zaxis": {
            "backgroundcolor": "#E5ECF6",
            "gridcolor": "white",
            "gridwidth": 2,
            "linecolor": "white",
            "showbackground": true,
            "ticks": "",
            "zerolinecolor": "white"
           }
          },
          "shapedefaults": {
           "line": {
            "color": "#2a3f5f"
           }
          },
          "ternary": {
           "aaxis": {
            "gridcolor": "white",
            "linecolor": "white",
            "ticks": ""
           },
           "baxis": {
            "gridcolor": "white",
            "linecolor": "white",
            "ticks": ""
           },
           "bgcolor": "#E5ECF6",
           "caxis": {
            "gridcolor": "white",
            "linecolor": "white",
            "ticks": ""
           }
          },
          "title": {
           "x": 0.05
          },
          "xaxis": {
           "automargin": true,
           "gridcolor": "white",
           "linecolor": "white",
           "ticks": "",
           "title": {
            "standoff": 15
           },
           "zerolinecolor": "white",
           "zerolinewidth": 2
          },
          "yaxis": {
           "automargin": true,
           "gridcolor": "white",
           "linecolor": "white",
           "ticks": "",
           "title": {
            "standoff": 15
           },
           "zerolinecolor": "white",
           "zerolinewidth": 2
          }
         }
        },
        "title": {
         "text": "Optimization History Plot"
        },
        "xaxis": {
         "title": {
          "text": "Trial"
         }
        },
        "yaxis": {
         "title": {
          "text": "Objective Value"
         }
        }
       }
      }
     },
     "metadata": {},
     "output_type": "display_data"
    }
   ],
   "source": [
    "# 하이퍼파라미터 최적화 과정을 확인\n",
    "optuna.visualization.plot_optimization_history(study_xgb)"
   ]
  },
  {
   "cell_type": "code",
   "execution_count": 82,
   "metadata": {},
   "outputs": [
    {
     "name": "stdout",
     "output_type": "stream",
     "text": [
      "\n",
      "====== Models Before Hyper Parameter Tuning ======\n"
     ]
    },
    {
     "data": {
      "text/html": [
       "<div>\n",
       "<style scoped>\n",
       "    .dataframe tbody tr th:only-of-type {\n",
       "        vertical-align: middle;\n",
       "    }\n",
       "\n",
       "    .dataframe tbody tr th {\n",
       "        vertical-align: top;\n",
       "    }\n",
       "\n",
       "    .dataframe thead th {\n",
       "        text-align: right;\n",
       "    }\n",
       "</style>\n",
       "<table border=\"1\" class=\"dataframe\">\n",
       "  <thead>\n",
       "    <tr style=\"text-align: right;\">\n",
       "      <th></th>\n",
       "      <th>Model</th>\n",
       "      <th>MAE</th>\n",
       "      <th>MSE</th>\n",
       "      <th>RMSE</th>\n",
       "      <th>R2 Score</th>\n",
       "    </tr>\n",
       "  </thead>\n",
       "  <tbody>\n",
       "    <tr>\n",
       "      <th>0</th>\n",
       "      <td>XGBoost</td>\n",
       "      <td>4121875.50</td>\n",
       "      <td>73843698069640.23</td>\n",
       "      <td>8593235.60</td>\n",
       "      <td>0.73</td>\n",
       "    </tr>\n",
       "  </tbody>\n",
       "</table>\n",
       "</div>"
      ],
      "text/plain": [
       "     Model         MAE                MSE        RMSE R2 Score\n",
       "0  XGBoost  4121875.50  73843698069640.23  8593235.60     0.73"
      ]
     },
     "execution_count": 82,
     "metadata": {},
     "output_type": "execute_result"
    }
   ],
   "source": [
    "xgb_optuna = XGBRegressor(**study_xgb.best_params)\n",
    "model_list([(\"XGBoost\", xgb_optuna)])"
   ]
  },
  {
   "cell_type": "markdown",
   "metadata": {},
   "source": [
    "#### `LightGBM`"
   ]
  },
  {
   "cell_type": "code",
   "execution_count": 83,
   "metadata": {},
   "outputs": [],
   "source": [
    "def objective_lgbm(trial):\n",
    "    params = {\n",
    "        \"objective\": \"regression\",\n",
    "        \"metric\": \"rmse\",\n",
    "        # \"n_estimators\": 1000,\n",
    "        \"n_estimators\": trial.suggest_int('n_estimators', 500, 4000),\n",
    "        \"verbosity\": -1,\n",
    "        \"bagging_freq\": 1,\n",
    "        \"learning_rate\": trial.suggest_float(\"learning_rate\", 1e-3, 0.1, log=True),\n",
    "        \"num_leaves\": trial.suggest_int(\"num_leaves\", 2, 2**10),\n",
    "        \"subsample\": trial.suggest_float(\"subsample\", 0.05, 1.0),\n",
    "        \"colsample_bytree\": trial.suggest_float(\"colsample_bytree\", 0.05, 1.0),\n",
    "        \"min_data_in_leaf\": trial.suggest_int(\"min_data_in_leaf\", 1, 100),\n",
    "    }\n",
    "\n",
    "    model = LGBMRegressor(**params, random_state=42)\n",
    "    model.fit(X_train_robust, y_train)\n",
    "    # predictions = model.predict(X_val_robust)\n",
    "    # rmse = metrics.mean_squared_error(y_val, predictions, squared=False)\n",
    "    predictions = model.predict(X_test_robust)\n",
    "    rmse = metrics.mean_squared_error(y_test, predictions, squared=False)\n",
    "    return rmse"
   ]
  },
  {
   "cell_type": "code",
   "execution_count": 84,
   "metadata": {},
   "outputs": [
    {
     "name": "stderr",
     "output_type": "stream",
     "text": [
      "[I 2024-04-03 05:15:26,322] A new study created in memory with name: no-name-3a262f80-ebf9-411e-807b-b3956fd17825\n",
      "[I 2024-04-03 05:15:29,403] Trial 0 finished with value: 9599177.852793254 and parameters: {'n_estimators': 3326, 'learning_rate': 0.06197015748809146, 'num_leaves': 327, 'subsample': 0.15454932830129292, 'colsample_bytree': 0.2665384044148446, 'min_data_in_leaf': 43}. Best is trial 0 with value: 9599177.852793254.\n",
      "[I 2024-04-03 05:15:31,175] Trial 1 finished with value: 8803219.63505406 and parameters: {'n_estimators': 3363, 'learning_rate': 0.05265761277157429, 'num_leaves': 9, 'subsample': 0.5352099374486874, 'colsample_bytree': 0.44654045299134, 'min_data_in_leaf': 23}. Best is trial 1 with value: 8803219.63505406.\n",
      "[I 2024-04-03 05:15:32,493] Trial 2 finished with value: 9505215.77459318 and parameters: {'n_estimators': 919, 'learning_rate': 0.0047340227734041914, 'num_leaves': 966, 'subsample': 0.35704278541971746, 'colsample_bytree': 0.5428510906561977, 'min_data_in_leaf': 71}. Best is trial 1 with value: 8803219.63505406.\n",
      "[I 2024-04-03 05:15:36,175] Trial 3 finished with value: 9041202.195171164 and parameters: {'n_estimators': 1773, 'learning_rate': 0.08781408196485979, 'num_leaves': 986, 'subsample': 0.2891931810340959, 'colsample_bytree': 0.5223860805977661, 'min_data_in_leaf': 31}. Best is trial 1 with value: 8803219.63505406.\n",
      "[I 2024-04-03 05:15:38,077] Trial 4 finished with value: 14056317.982877865 and parameters: {'n_estimators': 1497, 'learning_rate': 0.0011851515660043109, 'num_leaves': 625, 'subsample': 0.5275450720674184, 'colsample_bytree': 0.09890481368748988, 'min_data_in_leaf': 28}. Best is trial 1 with value: 8803219.63505406.\n",
      "[I 2024-04-03 05:15:48,935] Trial 5 finished with value: 8849660.110430872 and parameters: {'n_estimators': 3679, 'learning_rate': 0.003013864904679803, 'num_leaves': 150, 'subsample': 0.5149801222636848, 'colsample_bytree': 0.9863679314050706, 'min_data_in_leaf': 25}. Best is trial 1 with value: 8803219.63505406.\n",
      "[I 2024-04-03 05:15:55,061] Trial 6 finished with value: 9094708.814267179 and parameters: {'n_estimators': 2853, 'learning_rate': 0.03336101309469785, 'num_leaves': 245, 'subsample': 0.7418055311812666, 'colsample_bytree': 0.3993939760832905, 'min_data_in_leaf': 64}. Best is trial 1 with value: 8803219.63505406.\n",
      "[I 2024-04-03 05:15:59,879] Trial 7 finished with value: 9031257.248243518 and parameters: {'n_estimators': 2717, 'learning_rate': 0.011790965486776316, 'num_leaves': 94, 'subsample': 0.8435373708097761, 'colsample_bytree': 0.354741061723149, 'min_data_in_leaf': 19}. Best is trial 1 with value: 8803219.63505406.\n",
      "[I 2024-04-03 05:16:00,382] Trial 8 finished with value: 9607018.786062093 and parameters: {'n_estimators': 642, 'learning_rate': 0.01519798062003422, 'num_leaves': 695, 'subsample': 0.06575843748146334, 'colsample_bytree': 0.536488405384317, 'min_data_in_leaf': 23}. Best is trial 1 with value: 8803219.63505406.\n",
      "[I 2024-04-03 05:16:14,018] Trial 9 finished with value: 8853817.281622296 and parameters: {'n_estimators': 2758, 'learning_rate': 0.0022321987366901576, 'num_leaves': 708, 'subsample': 0.4173985789855105, 'colsample_bytree': 0.9398934892998978, 'min_data_in_leaf': 14}. Best is trial 1 with value: 8803219.63505406.\n",
      "[I 2024-04-03 05:16:15,872] Trial 10 finished with value: 8939930.697565276 and parameters: {'n_estimators': 3873, 'learning_rate': 0.026420198714798015, 'num_leaves': 12, 'subsample': 0.9935042586670317, 'colsample_bytree': 0.7391641982320556, 'min_data_in_leaf': 100}. Best is trial 1 with value: 8803219.63505406.\n",
      "[I 2024-04-03 05:16:37,660] Trial 11 finished with value: 8970545.05884505 and parameters: {'n_estimators': 3940, 'learning_rate': 0.004849898776063864, 'num_leaves': 254, 'subsample': 0.6065030341133734, 'colsample_bytree': 0.9827613599890623, 'min_data_in_leaf': 3}. Best is trial 1 with value: 8803219.63505406.\n",
      "[I 2024-04-03 05:16:46,191] Trial 12 finished with value: 8816338.360066546 and parameters: {'n_estimators': 3427, 'learning_rate': 0.004897556133941508, 'num_leaves': 437, 'subsample': 0.6791383735735037, 'colsample_bytree': 0.7567537750975534, 'min_data_in_leaf': 45}. Best is trial 1 with value: 8803219.63505406.\n",
      "[I 2024-04-03 05:16:54,551] Trial 13 finished with value: 8821557.086757485 and parameters: {'n_estimators': 3264, 'learning_rate': 0.006042270642724734, 'num_leaves': 448, 'subsample': 0.7005477226564261, 'colsample_bytree': 0.7415242799659385, 'min_data_in_leaf': 47}. Best is trial 1 with value: 8803219.63505406.\n",
      "[I 2024-04-03 05:17:01,220] Trial 14 finished with value: 8922423.893641127 and parameters: {'n_estimators': 2260, 'learning_rate': 0.021360867377478502, 'num_leaves': 459, 'subsample': 0.8542741998825631, 'colsample_bytree': 0.7382212947865947, 'min_data_in_leaf': 62}. Best is trial 1 with value: 8803219.63505406.\n",
      "[I 2024-04-03 05:17:11,334] Trial 15 finished with value: 8828116.648595199 and parameters: {'n_estimators': 3455, 'learning_rate': 0.04612912035679684, 'num_leaves': 870, 'subsample': 0.628662400412846, 'colsample_bytree': 0.8317736217203759, 'min_data_in_leaf': 40}. Best is trial 1 with value: 8803219.63505406.\n",
      "[I 2024-04-03 05:17:14,380] Trial 16 finished with value: 9063179.867489899 and parameters: {'n_estimators': 2263, 'learning_rate': 0.008522312334880981, 'num_leaves': 377, 'subsample': 0.47132916253009294, 'colsample_bytree': 0.6316486499858157, 'min_data_in_leaf': 80}. Best is trial 1 with value: 8803219.63505406.\n",
      "[I 2024-04-03 05:17:38,710] Trial 17 finished with value: 10628281.463304175 and parameters: {'n_estimators': 3023, 'learning_rate': 0.0011200821373981212, 'num_leaves': 565, 'subsample': 0.23262885406911815, 'colsample_bytree': 0.14234597936353593, 'min_data_in_leaf': 1}. Best is trial 1 with value: 8803219.63505406.\n",
      "[I 2024-04-03 05:17:44,570] Trial 18 finished with value: 9231412.98734725 and parameters: {'n_estimators': 2378, 'learning_rate': 0.0024152859688671554, 'num_leaves': 835, 'subsample': 0.7744888784554091, 'colsample_bytree': 0.40142904657974793, 'min_data_in_leaf': 54}. Best is trial 1 with value: 8803219.63505406.\n",
      "[I 2024-04-03 05:17:51,908] Trial 19 finished with value: 9199367.490328714 and parameters: {'n_estimators': 3487, 'learning_rate': 0.01813198603482265, 'num_leaves': 119, 'subsample': 0.6263008122628688, 'colsample_bytree': 0.23451696512808945, 'min_data_in_leaf': 34}. Best is trial 1 with value: 8803219.63505406.\n",
      "[I 2024-04-03 05:18:01,659] Trial 20 finished with value: 8982524.948702462 and parameters: {'n_estimators': 1756, 'learning_rate': 0.0875989460712801, 'num_leaves': 229, 'subsample': 0.9945868303663462, 'colsample_bytree': 0.6415350335704294, 'min_data_in_leaf': 12}. Best is trial 1 with value: 8803219.63505406.\n",
      "[I 2024-04-03 05:18:09,664] Trial 21 finished with value: 8812315.374915306 and parameters: {'n_estimators': 3125, 'learning_rate': 0.008332032482159213, 'num_leaves': 444, 'subsample': 0.726465664108452, 'colsample_bytree': 0.8266815076205308, 'min_data_in_leaf': 51}. Best is trial 1 with value: 8803219.63505406.\n",
      "[I 2024-04-03 05:18:18,219] Trial 22 finished with value: 8819568.91368408 and parameters: {'n_estimators': 3068, 'learning_rate': 0.00787826886529556, 'num_leaves': 524, 'subsample': 0.8473784220471166, 'colsample_bytree': 0.8874866715161138, 'min_data_in_leaf': 53}. Best is trial 1 with value: 8803219.63505406.\n",
      "[I 2024-04-03 05:18:25,381] Trial 23 finished with value: 8849898.75131156 and parameters: {'n_estimators': 2599, 'learning_rate': 0.011564360154840084, 'num_leaves': 378, 'subsample': 0.6842242397181915, 'colsample_bytree': 0.8281252438956234, 'min_data_in_leaf': 40}. Best is trial 1 with value: 8803219.63505406.\n",
      "[I 2024-04-03 05:18:26,516] Trial 24 finished with value: 9467409.776701137 and parameters: {'n_estimators': 3661, 'learning_rate': 0.003170208626661956, 'num_leaves': 3, 'subsample': 0.5377003740235279, 'colsample_bytree': 0.6600985426148241, 'min_data_in_leaf': 79}. Best is trial 1 with value: 8803219.63505406.\n",
      "[I 2024-04-03 05:18:34,255] Trial 25 finished with value: 8885585.742637165 and parameters: {'n_estimators': 3142, 'learning_rate': 0.006605927381930818, 'num_leaves': 616, 'subsample': 0.7967183632979805, 'colsample_bytree': 0.4652363665516948, 'min_data_in_leaf': 55}. Best is trial 1 with value: 8803219.63505406.\n",
      "[I 2024-04-03 05:18:48,442] Trial 26 finished with value: 8788424.530179625 and parameters: {'n_estimators': 3696, 'learning_rate': 0.004267071548445087, 'num_leaves': 341, 'subsample': 0.9156366183885751, 'colsample_bytree': 0.844107886050275, 'min_data_in_leaf': 37}. Best is trial 26 with value: 8788424.530179625.\n",
      "[I 2024-04-03 05:19:05,625] Trial 27 finished with value: 8892175.770527653 and parameters: {'n_estimators': 3986, 'learning_rate': 0.0016808780191407203, 'num_leaves': 315, 'subsample': 0.9350674072587808, 'colsample_bytree': 0.896017869668396, 'min_data_in_leaf': 33}. Best is trial 26 with value: 8788424.530179625.\n",
      "[I 2024-04-03 05:19:11,389] Trial 28 finished with value: 8785576.549032936 and parameters: {'n_estimators': 3655, 'learning_rate': 0.038372002420737066, 'num_leaves': 83, 'subsample': 0.9026763541482938, 'colsample_bytree': 0.8451214304452654, 'min_data_in_leaf': 11}. Best is trial 28 with value: 8785576.549032936.\n",
      "[I 2024-04-03 05:19:22,973] Trial 29 finished with value: 9046232.45814016 and parameters: {'n_estimators': 3679, 'learning_rate': 0.05306249056607065, 'num_leaves': 177, 'subsample': 0.9077101075807186, 'colsample_bytree': 0.6102011474126401, 'min_data_in_leaf': 12}. Best is trial 28 with value: 8785576.549032936.\n"
     ]
    }
   ],
   "source": [
    "study_lgbm = optuna.create_study(direction='minimize', sampler=sampler)\n",
    "study_lgbm.optimize(objective_lgbm, n_trials=30)"
   ]
  },
  {
   "cell_type": "code",
   "execution_count": 85,
   "metadata": {},
   "outputs": [
    {
     "name": "stdout",
     "output_type": "stream",
     "text": [
      "Best hyperparameters:\n",
      "{'n_estimators': 3655, 'learning_rate': 0.038372002420737066, 'num_leaves': 83, 'subsample': 0.9026763541482938, 'colsample_bytree': 0.8451214304452654, 'min_data_in_leaf': 11}\n",
      "-----------------------------------------------------------------------------------------------------------------\n",
      "Best RMSE:\n",
      "8785576.549032936\n"
     ]
    }
   ],
   "source": [
    "print(\"Best hyperparameters:\", study_lgbm.best_params, sep=\"\\n\")\n",
    "print(\"-----------------------------------------------------------------------------------------------------------------\")\n",
    "print(\"Best RMSE:\", study_lgbm.best_value, sep=\"\\n\")"
   ]
  },
  {
   "cell_type": "code",
   "execution_count": 86,
   "metadata": {},
   "outputs": [
    {
     "data": {
      "application/vnd.plotly.v1+json": {
       "config": {
        "plotlyServerURL": "https://plot.ly"
       },
       "data": [
        {
         "cliponaxis": false,
         "hovertemplate": [
          "num_leaves (IntDistribution): 0.002745638713353706<extra></extra>",
          "min_data_in_leaf (IntDistribution): 0.021719464024738393<extra></extra>",
          "n_estimators (IntDistribution): 0.08018526661930396<extra></extra>",
          "learning_rate (FloatDistribution): 0.14574066028110677<extra></extra>",
          "subsample (FloatDistribution): 0.21285972724066815<extra></extra>",
          "colsample_bytree (FloatDistribution): 0.5367492431208291<extra></extra>"
         ],
         "name": "Objective Value",
         "orientation": "h",
         "text": [
          "<0.01",
          "0.02",
          "0.08",
          "0.15",
          "0.21",
          "0.54"
         ],
         "textposition": "outside",
         "type": "bar",
         "x": [
          0.002745638713353706,
          0.021719464024738393,
          0.08018526661930396,
          0.14574066028110677,
          0.21285972724066815,
          0.5367492431208291
         ],
         "y": [
          "num_leaves",
          "min_data_in_leaf",
          "n_estimators",
          "learning_rate",
          "subsample",
          "colsample_bytree"
         ]
        }
       ],
       "layout": {
        "template": {
         "data": {
          "bar": [
           {
            "error_x": {
             "color": "#2a3f5f"
            },
            "error_y": {
             "color": "#2a3f5f"
            },
            "marker": {
             "line": {
              "color": "#E5ECF6",
              "width": 0.5
             },
             "pattern": {
              "fillmode": "overlay",
              "size": 10,
              "solidity": 0.2
             }
            },
            "type": "bar"
           }
          ],
          "barpolar": [
           {
            "marker": {
             "line": {
              "color": "#E5ECF6",
              "width": 0.5
             },
             "pattern": {
              "fillmode": "overlay",
              "size": 10,
              "solidity": 0.2
             }
            },
            "type": "barpolar"
           }
          ],
          "carpet": [
           {
            "aaxis": {
             "endlinecolor": "#2a3f5f",
             "gridcolor": "white",
             "linecolor": "white",
             "minorgridcolor": "white",
             "startlinecolor": "#2a3f5f"
            },
            "baxis": {
             "endlinecolor": "#2a3f5f",
             "gridcolor": "white",
             "linecolor": "white",
             "minorgridcolor": "white",
             "startlinecolor": "#2a3f5f"
            },
            "type": "carpet"
           }
          ],
          "choropleth": [
           {
            "colorbar": {
             "outlinewidth": 0,
             "ticks": ""
            },
            "type": "choropleth"
           }
          ],
          "contour": [
           {
            "colorbar": {
             "outlinewidth": 0,
             "ticks": ""
            },
            "colorscale": [
             [
              0,
              "#0d0887"
             ],
             [
              0.1111111111111111,
              "#46039f"
             ],
             [
              0.2222222222222222,
              "#7201a8"
             ],
             [
              0.3333333333333333,
              "#9c179e"
             ],
             [
              0.4444444444444444,
              "#bd3786"
             ],
             [
              0.5555555555555556,
              "#d8576b"
             ],
             [
              0.6666666666666666,
              "#ed7953"
             ],
             [
              0.7777777777777778,
              "#fb9f3a"
             ],
             [
              0.8888888888888888,
              "#fdca26"
             ],
             [
              1,
              "#f0f921"
             ]
            ],
            "type": "contour"
           }
          ],
          "contourcarpet": [
           {
            "colorbar": {
             "outlinewidth": 0,
             "ticks": ""
            },
            "type": "contourcarpet"
           }
          ],
          "heatmap": [
           {
            "colorbar": {
             "outlinewidth": 0,
             "ticks": ""
            },
            "colorscale": [
             [
              0,
              "#0d0887"
             ],
             [
              0.1111111111111111,
              "#46039f"
             ],
             [
              0.2222222222222222,
              "#7201a8"
             ],
             [
              0.3333333333333333,
              "#9c179e"
             ],
             [
              0.4444444444444444,
              "#bd3786"
             ],
             [
              0.5555555555555556,
              "#d8576b"
             ],
             [
              0.6666666666666666,
              "#ed7953"
             ],
             [
              0.7777777777777778,
              "#fb9f3a"
             ],
             [
              0.8888888888888888,
              "#fdca26"
             ],
             [
              1,
              "#f0f921"
             ]
            ],
            "type": "heatmap"
           }
          ],
          "heatmapgl": [
           {
            "colorbar": {
             "outlinewidth": 0,
             "ticks": ""
            },
            "colorscale": [
             [
              0,
              "#0d0887"
             ],
             [
              0.1111111111111111,
              "#46039f"
             ],
             [
              0.2222222222222222,
              "#7201a8"
             ],
             [
              0.3333333333333333,
              "#9c179e"
             ],
             [
              0.4444444444444444,
              "#bd3786"
             ],
             [
              0.5555555555555556,
              "#d8576b"
             ],
             [
              0.6666666666666666,
              "#ed7953"
             ],
             [
              0.7777777777777778,
              "#fb9f3a"
             ],
             [
              0.8888888888888888,
              "#fdca26"
             ],
             [
              1,
              "#f0f921"
             ]
            ],
            "type": "heatmapgl"
           }
          ],
          "histogram": [
           {
            "marker": {
             "pattern": {
              "fillmode": "overlay",
              "size": 10,
              "solidity": 0.2
             }
            },
            "type": "histogram"
           }
          ],
          "histogram2d": [
           {
            "colorbar": {
             "outlinewidth": 0,
             "ticks": ""
            },
            "colorscale": [
             [
              0,
              "#0d0887"
             ],
             [
              0.1111111111111111,
              "#46039f"
             ],
             [
              0.2222222222222222,
              "#7201a8"
             ],
             [
              0.3333333333333333,
              "#9c179e"
             ],
             [
              0.4444444444444444,
              "#bd3786"
             ],
             [
              0.5555555555555556,
              "#d8576b"
             ],
             [
              0.6666666666666666,
              "#ed7953"
             ],
             [
              0.7777777777777778,
              "#fb9f3a"
             ],
             [
              0.8888888888888888,
              "#fdca26"
             ],
             [
              1,
              "#f0f921"
             ]
            ],
            "type": "histogram2d"
           }
          ],
          "histogram2dcontour": [
           {
            "colorbar": {
             "outlinewidth": 0,
             "ticks": ""
            },
            "colorscale": [
             [
              0,
              "#0d0887"
             ],
             [
              0.1111111111111111,
              "#46039f"
             ],
             [
              0.2222222222222222,
              "#7201a8"
             ],
             [
              0.3333333333333333,
              "#9c179e"
             ],
             [
              0.4444444444444444,
              "#bd3786"
             ],
             [
              0.5555555555555556,
              "#d8576b"
             ],
             [
              0.6666666666666666,
              "#ed7953"
             ],
             [
              0.7777777777777778,
              "#fb9f3a"
             ],
             [
              0.8888888888888888,
              "#fdca26"
             ],
             [
              1,
              "#f0f921"
             ]
            ],
            "type": "histogram2dcontour"
           }
          ],
          "mesh3d": [
           {
            "colorbar": {
             "outlinewidth": 0,
             "ticks": ""
            },
            "type": "mesh3d"
           }
          ],
          "parcoords": [
           {
            "line": {
             "colorbar": {
              "outlinewidth": 0,
              "ticks": ""
             }
            },
            "type": "parcoords"
           }
          ],
          "pie": [
           {
            "automargin": true,
            "type": "pie"
           }
          ],
          "scatter": [
           {
            "fillpattern": {
             "fillmode": "overlay",
             "size": 10,
             "solidity": 0.2
            },
            "type": "scatter"
           }
          ],
          "scatter3d": [
           {
            "line": {
             "colorbar": {
              "outlinewidth": 0,
              "ticks": ""
             }
            },
            "marker": {
             "colorbar": {
              "outlinewidth": 0,
              "ticks": ""
             }
            },
            "type": "scatter3d"
           }
          ],
          "scattercarpet": [
           {
            "marker": {
             "colorbar": {
              "outlinewidth": 0,
              "ticks": ""
             }
            },
            "type": "scattercarpet"
           }
          ],
          "scattergeo": [
           {
            "marker": {
             "colorbar": {
              "outlinewidth": 0,
              "ticks": ""
             }
            },
            "type": "scattergeo"
           }
          ],
          "scattergl": [
           {
            "marker": {
             "colorbar": {
              "outlinewidth": 0,
              "ticks": ""
             }
            },
            "type": "scattergl"
           }
          ],
          "scattermapbox": [
           {
            "marker": {
             "colorbar": {
              "outlinewidth": 0,
              "ticks": ""
             }
            },
            "type": "scattermapbox"
           }
          ],
          "scatterpolar": [
           {
            "marker": {
             "colorbar": {
              "outlinewidth": 0,
              "ticks": ""
             }
            },
            "type": "scatterpolar"
           }
          ],
          "scatterpolargl": [
           {
            "marker": {
             "colorbar": {
              "outlinewidth": 0,
              "ticks": ""
             }
            },
            "type": "scatterpolargl"
           }
          ],
          "scatterternary": [
           {
            "marker": {
             "colorbar": {
              "outlinewidth": 0,
              "ticks": ""
             }
            },
            "type": "scatterternary"
           }
          ],
          "surface": [
           {
            "colorbar": {
             "outlinewidth": 0,
             "ticks": ""
            },
            "colorscale": [
             [
              0,
              "#0d0887"
             ],
             [
              0.1111111111111111,
              "#46039f"
             ],
             [
              0.2222222222222222,
              "#7201a8"
             ],
             [
              0.3333333333333333,
              "#9c179e"
             ],
             [
              0.4444444444444444,
              "#bd3786"
             ],
             [
              0.5555555555555556,
              "#d8576b"
             ],
             [
              0.6666666666666666,
              "#ed7953"
             ],
             [
              0.7777777777777778,
              "#fb9f3a"
             ],
             [
              0.8888888888888888,
              "#fdca26"
             ],
             [
              1,
              "#f0f921"
             ]
            ],
            "type": "surface"
           }
          ],
          "table": [
           {
            "cells": {
             "fill": {
              "color": "#EBF0F8"
             },
             "line": {
              "color": "white"
             }
            },
            "header": {
             "fill": {
              "color": "#C8D4E3"
             },
             "line": {
              "color": "white"
             }
            },
            "type": "table"
           }
          ]
         },
         "layout": {
          "annotationdefaults": {
           "arrowcolor": "#2a3f5f",
           "arrowhead": 0,
           "arrowwidth": 1
          },
          "autotypenumbers": "strict",
          "coloraxis": {
           "colorbar": {
            "outlinewidth": 0,
            "ticks": ""
           }
          },
          "colorscale": {
           "diverging": [
            [
             0,
             "#8e0152"
            ],
            [
             0.1,
             "#c51b7d"
            ],
            [
             0.2,
             "#de77ae"
            ],
            [
             0.3,
             "#f1b6da"
            ],
            [
             0.4,
             "#fde0ef"
            ],
            [
             0.5,
             "#f7f7f7"
            ],
            [
             0.6,
             "#e6f5d0"
            ],
            [
             0.7,
             "#b8e186"
            ],
            [
             0.8,
             "#7fbc41"
            ],
            [
             0.9,
             "#4d9221"
            ],
            [
             1,
             "#276419"
            ]
           ],
           "sequential": [
            [
             0,
             "#0d0887"
            ],
            [
             0.1111111111111111,
             "#46039f"
            ],
            [
             0.2222222222222222,
             "#7201a8"
            ],
            [
             0.3333333333333333,
             "#9c179e"
            ],
            [
             0.4444444444444444,
             "#bd3786"
            ],
            [
             0.5555555555555556,
             "#d8576b"
            ],
            [
             0.6666666666666666,
             "#ed7953"
            ],
            [
             0.7777777777777778,
             "#fb9f3a"
            ],
            [
             0.8888888888888888,
             "#fdca26"
            ],
            [
             1,
             "#f0f921"
            ]
           ],
           "sequentialminus": [
            [
             0,
             "#0d0887"
            ],
            [
             0.1111111111111111,
             "#46039f"
            ],
            [
             0.2222222222222222,
             "#7201a8"
            ],
            [
             0.3333333333333333,
             "#9c179e"
            ],
            [
             0.4444444444444444,
             "#bd3786"
            ],
            [
             0.5555555555555556,
             "#d8576b"
            ],
            [
             0.6666666666666666,
             "#ed7953"
            ],
            [
             0.7777777777777778,
             "#fb9f3a"
            ],
            [
             0.8888888888888888,
             "#fdca26"
            ],
            [
             1,
             "#f0f921"
            ]
           ]
          },
          "colorway": [
           "#636efa",
           "#EF553B",
           "#00cc96",
           "#ab63fa",
           "#FFA15A",
           "#19d3f3",
           "#FF6692",
           "#B6E880",
           "#FF97FF",
           "#FECB52"
          ],
          "font": {
           "color": "#2a3f5f"
          },
          "geo": {
           "bgcolor": "white",
           "lakecolor": "white",
           "landcolor": "#E5ECF6",
           "showlakes": true,
           "showland": true,
           "subunitcolor": "white"
          },
          "hoverlabel": {
           "align": "left"
          },
          "hovermode": "closest",
          "mapbox": {
           "style": "light"
          },
          "paper_bgcolor": "white",
          "plot_bgcolor": "#E5ECF6",
          "polar": {
           "angularaxis": {
            "gridcolor": "white",
            "linecolor": "white",
            "ticks": ""
           },
           "bgcolor": "#E5ECF6",
           "radialaxis": {
            "gridcolor": "white",
            "linecolor": "white",
            "ticks": ""
           }
          },
          "scene": {
           "xaxis": {
            "backgroundcolor": "#E5ECF6",
            "gridcolor": "white",
            "gridwidth": 2,
            "linecolor": "white",
            "showbackground": true,
            "ticks": "",
            "zerolinecolor": "white"
           },
           "yaxis": {
            "backgroundcolor": "#E5ECF6",
            "gridcolor": "white",
            "gridwidth": 2,
            "linecolor": "white",
            "showbackground": true,
            "ticks": "",
            "zerolinecolor": "white"
           },
           "zaxis": {
            "backgroundcolor": "#E5ECF6",
            "gridcolor": "white",
            "gridwidth": 2,
            "linecolor": "white",
            "showbackground": true,
            "ticks": "",
            "zerolinecolor": "white"
           }
          },
          "shapedefaults": {
           "line": {
            "color": "#2a3f5f"
           }
          },
          "ternary": {
           "aaxis": {
            "gridcolor": "white",
            "linecolor": "white",
            "ticks": ""
           },
           "baxis": {
            "gridcolor": "white",
            "linecolor": "white",
            "ticks": ""
           },
           "bgcolor": "#E5ECF6",
           "caxis": {
            "gridcolor": "white",
            "linecolor": "white",
            "ticks": ""
           }
          },
          "title": {
           "x": 0.05
          },
          "xaxis": {
           "automargin": true,
           "gridcolor": "white",
           "linecolor": "white",
           "ticks": "",
           "title": {
            "standoff": 15
           },
           "zerolinecolor": "white",
           "zerolinewidth": 2
          },
          "yaxis": {
           "automargin": true,
           "gridcolor": "white",
           "linecolor": "white",
           "ticks": "",
           "title": {
            "standoff": 15
           },
           "zerolinecolor": "white",
           "zerolinewidth": 2
          }
         }
        },
        "title": {
         "text": "Hyperparameter Importances"
        },
        "xaxis": {
         "title": {
          "text": "Hyperparameter Importance"
         }
        },
        "yaxis": {
         "title": {
          "text": "Hyperparameter"
         }
        }
       }
      }
     },
     "metadata": {},
     "output_type": "display_data"
    }
   ],
   "source": [
    "# 하이퍼파라미터별 중요도를 확인할 수 있는 그래프\n",
    "optuna.visualization.plot_param_importances(study_lgbm)"
   ]
  },
  {
   "cell_type": "code",
   "execution_count": 87,
   "metadata": {},
   "outputs": [
    {
     "data": {
      "application/vnd.plotly.v1+json": {
       "config": {
        "plotlyServerURL": "https://plot.ly"
       },
       "data": [
        {
         "mode": "markers",
         "name": "Objective Value",
         "type": "scatter",
         "x": [
          0,
          1,
          2,
          3,
          4,
          5,
          6,
          7,
          8,
          9,
          10,
          11,
          12,
          13,
          14,
          15,
          16,
          17,
          18,
          19,
          20,
          21,
          22,
          23,
          24,
          25,
          26,
          27,
          28,
          29
         ],
         "y": [
          9599177.852793254,
          8803219.63505406,
          9505215.77459318,
          9041202.195171164,
          14056317.982877865,
          8849660.110430872,
          9094708.814267179,
          9031257.248243518,
          9607018.786062093,
          8853817.281622296,
          8939930.697565276,
          8970545.05884505,
          8816338.360066546,
          8821557.086757485,
          8922423.893641127,
          8828116.648595199,
          9063179.867489899,
          10628281.463304175,
          9231412.98734725,
          9199367.490328714,
          8982524.948702462,
          8812315.374915306,
          8819568.91368408,
          8849898.75131156,
          9467409.776701137,
          8885585.742637165,
          8788424.530179625,
          8892175.770527653,
          8785576.549032936,
          9046232.45814016
         ]
        },
        {
         "mode": "lines",
         "name": "Best Value",
         "type": "scatter",
         "x": [
          0,
          1,
          2,
          3,
          4,
          5,
          6,
          7,
          8,
          9,
          10,
          11,
          12,
          13,
          14,
          15,
          16,
          17,
          18,
          19,
          20,
          21,
          22,
          23,
          24,
          25,
          26,
          27,
          28,
          29
         ],
         "y": [
          9599177.852793254,
          8803219.63505406,
          8803219.63505406,
          8803219.63505406,
          8803219.63505406,
          8803219.63505406,
          8803219.63505406,
          8803219.63505406,
          8803219.63505406,
          8803219.63505406,
          8803219.63505406,
          8803219.63505406,
          8803219.63505406,
          8803219.63505406,
          8803219.63505406,
          8803219.63505406,
          8803219.63505406,
          8803219.63505406,
          8803219.63505406,
          8803219.63505406,
          8803219.63505406,
          8803219.63505406,
          8803219.63505406,
          8803219.63505406,
          8803219.63505406,
          8803219.63505406,
          8788424.530179625,
          8788424.530179625,
          8785576.549032936,
          8785576.549032936
         ]
        },
        {
         "marker": {
          "color": "#cccccc"
         },
         "mode": "markers",
         "name": "Infeasible Trial",
         "showlegend": false,
         "type": "scatter",
         "x": [],
         "y": []
        }
       ],
       "layout": {
        "template": {
         "data": {
          "bar": [
           {
            "error_x": {
             "color": "#2a3f5f"
            },
            "error_y": {
             "color": "#2a3f5f"
            },
            "marker": {
             "line": {
              "color": "#E5ECF6",
              "width": 0.5
             },
             "pattern": {
              "fillmode": "overlay",
              "size": 10,
              "solidity": 0.2
             }
            },
            "type": "bar"
           }
          ],
          "barpolar": [
           {
            "marker": {
             "line": {
              "color": "#E5ECF6",
              "width": 0.5
             },
             "pattern": {
              "fillmode": "overlay",
              "size": 10,
              "solidity": 0.2
             }
            },
            "type": "barpolar"
           }
          ],
          "carpet": [
           {
            "aaxis": {
             "endlinecolor": "#2a3f5f",
             "gridcolor": "white",
             "linecolor": "white",
             "minorgridcolor": "white",
             "startlinecolor": "#2a3f5f"
            },
            "baxis": {
             "endlinecolor": "#2a3f5f",
             "gridcolor": "white",
             "linecolor": "white",
             "minorgridcolor": "white",
             "startlinecolor": "#2a3f5f"
            },
            "type": "carpet"
           }
          ],
          "choropleth": [
           {
            "colorbar": {
             "outlinewidth": 0,
             "ticks": ""
            },
            "type": "choropleth"
           }
          ],
          "contour": [
           {
            "colorbar": {
             "outlinewidth": 0,
             "ticks": ""
            },
            "colorscale": [
             [
              0,
              "#0d0887"
             ],
             [
              0.1111111111111111,
              "#46039f"
             ],
             [
              0.2222222222222222,
              "#7201a8"
             ],
             [
              0.3333333333333333,
              "#9c179e"
             ],
             [
              0.4444444444444444,
              "#bd3786"
             ],
             [
              0.5555555555555556,
              "#d8576b"
             ],
             [
              0.6666666666666666,
              "#ed7953"
             ],
             [
              0.7777777777777778,
              "#fb9f3a"
             ],
             [
              0.8888888888888888,
              "#fdca26"
             ],
             [
              1,
              "#f0f921"
             ]
            ],
            "type": "contour"
           }
          ],
          "contourcarpet": [
           {
            "colorbar": {
             "outlinewidth": 0,
             "ticks": ""
            },
            "type": "contourcarpet"
           }
          ],
          "heatmap": [
           {
            "colorbar": {
             "outlinewidth": 0,
             "ticks": ""
            },
            "colorscale": [
             [
              0,
              "#0d0887"
             ],
             [
              0.1111111111111111,
              "#46039f"
             ],
             [
              0.2222222222222222,
              "#7201a8"
             ],
             [
              0.3333333333333333,
              "#9c179e"
             ],
             [
              0.4444444444444444,
              "#bd3786"
             ],
             [
              0.5555555555555556,
              "#d8576b"
             ],
             [
              0.6666666666666666,
              "#ed7953"
             ],
             [
              0.7777777777777778,
              "#fb9f3a"
             ],
             [
              0.8888888888888888,
              "#fdca26"
             ],
             [
              1,
              "#f0f921"
             ]
            ],
            "type": "heatmap"
           }
          ],
          "heatmapgl": [
           {
            "colorbar": {
             "outlinewidth": 0,
             "ticks": ""
            },
            "colorscale": [
             [
              0,
              "#0d0887"
             ],
             [
              0.1111111111111111,
              "#46039f"
             ],
             [
              0.2222222222222222,
              "#7201a8"
             ],
             [
              0.3333333333333333,
              "#9c179e"
             ],
             [
              0.4444444444444444,
              "#bd3786"
             ],
             [
              0.5555555555555556,
              "#d8576b"
             ],
             [
              0.6666666666666666,
              "#ed7953"
             ],
             [
              0.7777777777777778,
              "#fb9f3a"
             ],
             [
              0.8888888888888888,
              "#fdca26"
             ],
             [
              1,
              "#f0f921"
             ]
            ],
            "type": "heatmapgl"
           }
          ],
          "histogram": [
           {
            "marker": {
             "pattern": {
              "fillmode": "overlay",
              "size": 10,
              "solidity": 0.2
             }
            },
            "type": "histogram"
           }
          ],
          "histogram2d": [
           {
            "colorbar": {
             "outlinewidth": 0,
             "ticks": ""
            },
            "colorscale": [
             [
              0,
              "#0d0887"
             ],
             [
              0.1111111111111111,
              "#46039f"
             ],
             [
              0.2222222222222222,
              "#7201a8"
             ],
             [
              0.3333333333333333,
              "#9c179e"
             ],
             [
              0.4444444444444444,
              "#bd3786"
             ],
             [
              0.5555555555555556,
              "#d8576b"
             ],
             [
              0.6666666666666666,
              "#ed7953"
             ],
             [
              0.7777777777777778,
              "#fb9f3a"
             ],
             [
              0.8888888888888888,
              "#fdca26"
             ],
             [
              1,
              "#f0f921"
             ]
            ],
            "type": "histogram2d"
           }
          ],
          "histogram2dcontour": [
           {
            "colorbar": {
             "outlinewidth": 0,
             "ticks": ""
            },
            "colorscale": [
             [
              0,
              "#0d0887"
             ],
             [
              0.1111111111111111,
              "#46039f"
             ],
             [
              0.2222222222222222,
              "#7201a8"
             ],
             [
              0.3333333333333333,
              "#9c179e"
             ],
             [
              0.4444444444444444,
              "#bd3786"
             ],
             [
              0.5555555555555556,
              "#d8576b"
             ],
             [
              0.6666666666666666,
              "#ed7953"
             ],
             [
              0.7777777777777778,
              "#fb9f3a"
             ],
             [
              0.8888888888888888,
              "#fdca26"
             ],
             [
              1,
              "#f0f921"
             ]
            ],
            "type": "histogram2dcontour"
           }
          ],
          "mesh3d": [
           {
            "colorbar": {
             "outlinewidth": 0,
             "ticks": ""
            },
            "type": "mesh3d"
           }
          ],
          "parcoords": [
           {
            "line": {
             "colorbar": {
              "outlinewidth": 0,
              "ticks": ""
             }
            },
            "type": "parcoords"
           }
          ],
          "pie": [
           {
            "automargin": true,
            "type": "pie"
           }
          ],
          "scatter": [
           {
            "fillpattern": {
             "fillmode": "overlay",
             "size": 10,
             "solidity": 0.2
            },
            "type": "scatter"
           }
          ],
          "scatter3d": [
           {
            "line": {
             "colorbar": {
              "outlinewidth": 0,
              "ticks": ""
             }
            },
            "marker": {
             "colorbar": {
              "outlinewidth": 0,
              "ticks": ""
             }
            },
            "type": "scatter3d"
           }
          ],
          "scattercarpet": [
           {
            "marker": {
             "colorbar": {
              "outlinewidth": 0,
              "ticks": ""
             }
            },
            "type": "scattercarpet"
           }
          ],
          "scattergeo": [
           {
            "marker": {
             "colorbar": {
              "outlinewidth": 0,
              "ticks": ""
             }
            },
            "type": "scattergeo"
           }
          ],
          "scattergl": [
           {
            "marker": {
             "colorbar": {
              "outlinewidth": 0,
              "ticks": ""
             }
            },
            "type": "scattergl"
           }
          ],
          "scattermapbox": [
           {
            "marker": {
             "colorbar": {
              "outlinewidth": 0,
              "ticks": ""
             }
            },
            "type": "scattermapbox"
           }
          ],
          "scatterpolar": [
           {
            "marker": {
             "colorbar": {
              "outlinewidth": 0,
              "ticks": ""
             }
            },
            "type": "scatterpolar"
           }
          ],
          "scatterpolargl": [
           {
            "marker": {
             "colorbar": {
              "outlinewidth": 0,
              "ticks": ""
             }
            },
            "type": "scatterpolargl"
           }
          ],
          "scatterternary": [
           {
            "marker": {
             "colorbar": {
              "outlinewidth": 0,
              "ticks": ""
             }
            },
            "type": "scatterternary"
           }
          ],
          "surface": [
           {
            "colorbar": {
             "outlinewidth": 0,
             "ticks": ""
            },
            "colorscale": [
             [
              0,
              "#0d0887"
             ],
             [
              0.1111111111111111,
              "#46039f"
             ],
             [
              0.2222222222222222,
              "#7201a8"
             ],
             [
              0.3333333333333333,
              "#9c179e"
             ],
             [
              0.4444444444444444,
              "#bd3786"
             ],
             [
              0.5555555555555556,
              "#d8576b"
             ],
             [
              0.6666666666666666,
              "#ed7953"
             ],
             [
              0.7777777777777778,
              "#fb9f3a"
             ],
             [
              0.8888888888888888,
              "#fdca26"
             ],
             [
              1,
              "#f0f921"
             ]
            ],
            "type": "surface"
           }
          ],
          "table": [
           {
            "cells": {
             "fill": {
              "color": "#EBF0F8"
             },
             "line": {
              "color": "white"
             }
            },
            "header": {
             "fill": {
              "color": "#C8D4E3"
             },
             "line": {
              "color": "white"
             }
            },
            "type": "table"
           }
          ]
         },
         "layout": {
          "annotationdefaults": {
           "arrowcolor": "#2a3f5f",
           "arrowhead": 0,
           "arrowwidth": 1
          },
          "autotypenumbers": "strict",
          "coloraxis": {
           "colorbar": {
            "outlinewidth": 0,
            "ticks": ""
           }
          },
          "colorscale": {
           "diverging": [
            [
             0,
             "#8e0152"
            ],
            [
             0.1,
             "#c51b7d"
            ],
            [
             0.2,
             "#de77ae"
            ],
            [
             0.3,
             "#f1b6da"
            ],
            [
             0.4,
             "#fde0ef"
            ],
            [
             0.5,
             "#f7f7f7"
            ],
            [
             0.6,
             "#e6f5d0"
            ],
            [
             0.7,
             "#b8e186"
            ],
            [
             0.8,
             "#7fbc41"
            ],
            [
             0.9,
             "#4d9221"
            ],
            [
             1,
             "#276419"
            ]
           ],
           "sequential": [
            [
             0,
             "#0d0887"
            ],
            [
             0.1111111111111111,
             "#46039f"
            ],
            [
             0.2222222222222222,
             "#7201a8"
            ],
            [
             0.3333333333333333,
             "#9c179e"
            ],
            [
             0.4444444444444444,
             "#bd3786"
            ],
            [
             0.5555555555555556,
             "#d8576b"
            ],
            [
             0.6666666666666666,
             "#ed7953"
            ],
            [
             0.7777777777777778,
             "#fb9f3a"
            ],
            [
             0.8888888888888888,
             "#fdca26"
            ],
            [
             1,
             "#f0f921"
            ]
           ],
           "sequentialminus": [
            [
             0,
             "#0d0887"
            ],
            [
             0.1111111111111111,
             "#46039f"
            ],
            [
             0.2222222222222222,
             "#7201a8"
            ],
            [
             0.3333333333333333,
             "#9c179e"
            ],
            [
             0.4444444444444444,
             "#bd3786"
            ],
            [
             0.5555555555555556,
             "#d8576b"
            ],
            [
             0.6666666666666666,
             "#ed7953"
            ],
            [
             0.7777777777777778,
             "#fb9f3a"
            ],
            [
             0.8888888888888888,
             "#fdca26"
            ],
            [
             1,
             "#f0f921"
            ]
           ]
          },
          "colorway": [
           "#636efa",
           "#EF553B",
           "#00cc96",
           "#ab63fa",
           "#FFA15A",
           "#19d3f3",
           "#FF6692",
           "#B6E880",
           "#FF97FF",
           "#FECB52"
          ],
          "font": {
           "color": "#2a3f5f"
          },
          "geo": {
           "bgcolor": "white",
           "lakecolor": "white",
           "landcolor": "#E5ECF6",
           "showlakes": true,
           "showland": true,
           "subunitcolor": "white"
          },
          "hoverlabel": {
           "align": "left"
          },
          "hovermode": "closest",
          "mapbox": {
           "style": "light"
          },
          "paper_bgcolor": "white",
          "plot_bgcolor": "#E5ECF6",
          "polar": {
           "angularaxis": {
            "gridcolor": "white",
            "linecolor": "white",
            "ticks": ""
           },
           "bgcolor": "#E5ECF6",
           "radialaxis": {
            "gridcolor": "white",
            "linecolor": "white",
            "ticks": ""
           }
          },
          "scene": {
           "xaxis": {
            "backgroundcolor": "#E5ECF6",
            "gridcolor": "white",
            "gridwidth": 2,
            "linecolor": "white",
            "showbackground": true,
            "ticks": "",
            "zerolinecolor": "white"
           },
           "yaxis": {
            "backgroundcolor": "#E5ECF6",
            "gridcolor": "white",
            "gridwidth": 2,
            "linecolor": "white",
            "showbackground": true,
            "ticks": "",
            "zerolinecolor": "white"
           },
           "zaxis": {
            "backgroundcolor": "#E5ECF6",
            "gridcolor": "white",
            "gridwidth": 2,
            "linecolor": "white",
            "showbackground": true,
            "ticks": "",
            "zerolinecolor": "white"
           }
          },
          "shapedefaults": {
           "line": {
            "color": "#2a3f5f"
           }
          },
          "ternary": {
           "aaxis": {
            "gridcolor": "white",
            "linecolor": "white",
            "ticks": ""
           },
           "baxis": {
            "gridcolor": "white",
            "linecolor": "white",
            "ticks": ""
           },
           "bgcolor": "#E5ECF6",
           "caxis": {
            "gridcolor": "white",
            "linecolor": "white",
            "ticks": ""
           }
          },
          "title": {
           "x": 0.05
          },
          "xaxis": {
           "automargin": true,
           "gridcolor": "white",
           "linecolor": "white",
           "ticks": "",
           "title": {
            "standoff": 15
           },
           "zerolinecolor": "white",
           "zerolinewidth": 2
          },
          "yaxis": {
           "automargin": true,
           "gridcolor": "white",
           "linecolor": "white",
           "ticks": "",
           "title": {
            "standoff": 15
           },
           "zerolinecolor": "white",
           "zerolinewidth": 2
          }
         }
        },
        "title": {
         "text": "Optimization History Plot"
        },
        "xaxis": {
         "title": {
          "text": "Trial"
         }
        },
        "yaxis": {
         "title": {
          "text": "Objective Value"
         }
        }
       }
      }
     },
     "metadata": {},
     "output_type": "display_data"
    }
   ],
   "source": [
    "# 하이퍼파라미터 최적화 과정을 확인\n",
    "optuna.visualization.plot_optimization_history(study_lgbm)"
   ]
  },
  {
   "cell_type": "code",
   "execution_count": 88,
   "metadata": {},
   "outputs": [
    {
     "name": "stdout",
     "output_type": "stream",
     "text": [
      "[LightGBM] [Warning] min_data_in_leaf is set=11, min_child_samples=20 will be ignored. Current value: min_data_in_leaf=11\n",
      "[LightGBM] [Warning] min_data_in_leaf is set=11, min_child_samples=20 will be ignored. Current value: min_data_in_leaf=11\n",
      "[LightGBM] [Info] Auto-choosing col-wise multi-threading, the overhead of testing was 0.000484 seconds.\n",
      "You can set `force_col_wise=true` to remove the overhead.\n",
      "[LightGBM] [Info] Total Bins 1229\n",
      "[LightGBM] [Info] Number of data points in the train set: 10464, number of used features: 12\n",
      "[LightGBM] [Info] Start training from score 8983092.029817\n"
     ]
    },
    {
     "name": "stdout",
     "output_type": "stream",
     "text": [
      "[LightGBM] [Warning] min_data_in_leaf is set=11, min_child_samples=20 will be ignored. Current value: min_data_in_leaf=11\n",
      "[LightGBM] [Warning] min_data_in_leaf is set=11, min_child_samples=20 will be ignored. Current value: min_data_in_leaf=11\n",
      "[LightGBM] [Warning] min_data_in_leaf is set=11, min_child_samples=20 will be ignored. Current value: min_data_in_leaf=11\n",
      "[LightGBM] [Warning] min_data_in_leaf is set=11, min_child_samples=20 will be ignored. Current value: min_data_in_leaf=11\n",
      "\n",
      "====== Models Before Hyper Parameter Tuning ======\n"
     ]
    },
    {
     "data": {
      "text/html": [
       "<div>\n",
       "<style scoped>\n",
       "    .dataframe tbody tr th:only-of-type {\n",
       "        vertical-align: middle;\n",
       "    }\n",
       "\n",
       "    .dataframe tbody tr th {\n",
       "        vertical-align: top;\n",
       "    }\n",
       "\n",
       "    .dataframe thead th {\n",
       "        text-align: right;\n",
       "    }\n",
       "</style>\n",
       "<table border=\"1\" class=\"dataframe\">\n",
       "  <thead>\n",
       "    <tr style=\"text-align: right;\">\n",
       "      <th></th>\n",
       "      <th>Model</th>\n",
       "      <th>MAE</th>\n",
       "      <th>MSE</th>\n",
       "      <th>RMSE</th>\n",
       "      <th>R2 Score</th>\n",
       "    </tr>\n",
       "  </thead>\n",
       "  <tbody>\n",
       "    <tr>\n",
       "      <th>0</th>\n",
       "      <td>LightGBM</td>\n",
       "      <td>4096442.64</td>\n",
       "      <td>77616554558983.50</td>\n",
       "      <td>8810025.80</td>\n",
       "      <td>0.71</td>\n",
       "    </tr>\n",
       "  </tbody>\n",
       "</table>\n",
       "</div>"
      ],
      "text/plain": [
       "      Model         MAE                MSE        RMSE R2 Score\n",
       "0  LightGBM  4096442.64  77616554558983.50  8810025.80     0.71"
      ]
     },
     "execution_count": 88,
     "metadata": {},
     "output_type": "execute_result"
    }
   ],
   "source": [
    "lgbm_optuna = LGBMRegressor(**study_lgbm.best_params)\n",
    "model_list([(\"LightGBM\", lgbm_optuna)])"
   ]
  },
  {
   "cell_type": "markdown",
   "metadata": {},
   "source": [
    "#### 튜닝한 모델들 비교"
   ]
  },
  {
   "cell_type": "code",
   "execution_count": 89,
   "metadata": {},
   "outputs": [],
   "source": [
    "models_tuned = models = [\n",
    "    (\"CatBoost\", cat_optuna),\n",
    "    (\"LightGBM\", lgbm_optuna),\n",
    "    (\"XGBoost\", xgb_optuna)\n",
    "]"
   ]
  },
  {
   "cell_type": "code",
   "execution_count": 90,
   "metadata": {},
   "outputs": [
    {
     "name": "stdout",
     "output_type": "stream",
     "text": [
      "0:\tlearn: 13923322.0787040\ttotal: 2.38ms\tremaining: 7.22s\n",
      "1:\tlearn: 13793600.1889087\ttotal: 4.67ms\tremaining: 7.09s\n",
      "2:\tlearn: 13665789.7451257\ttotal: 7.26ms\tremaining: 7.35s\n",
      "3:\tlearn: 13538089.7812332\ttotal: 9.64ms\tremaining: 7.32s\n",
      "4:\tlearn: 13414932.7466457\ttotal: 12ms\tremaining: 7.26s\n",
      "5:\tlearn: 13293472.9796848\ttotal: 14.5ms\tremaining: 7.33s\n",
      "6:\tlearn: 13168346.7745076\ttotal: 17.2ms\tremaining: 7.44s\n",
      "7:\tlearn: 13048206.0402418\ttotal: 19.7ms\tremaining: 7.49s\n",
      "8:\tlearn: 12928463.1931074\ttotal: 22.2ms\tremaining: 7.48s\n",
      "9:\tlearn: 12811513.1841114\ttotal: 25.1ms\tremaining: 7.61s\n",
      "10:\tlearn: 12698289.4181062\ttotal: 28.2ms\tremaining: 7.77s\n",
      "11:\tlearn: 12589527.9613557\ttotal: 31ms\tremaining: 7.83s\n",
      "12:\tlearn: 12483832.1088426\ttotal: 33.6ms\tremaining: 7.82s\n",
      "13:\tlearn: 12380266.3224594\ttotal: 36.4ms\tremaining: 7.86s\n",
      "14:\tlearn: 12275807.0277346\ttotal: 39.1ms\tremaining: 7.88s\n",
      "15:\tlearn: 12172785.8627184\ttotal: 41.6ms\tremaining: 7.86s\n",
      "16:\tlearn: 12074007.4966234\ttotal: 44.7ms\tremaining: 7.95s\n",
      "17:\tlearn: 11976994.3587720\ttotal: 47.1ms\tremaining: 7.92s\n",
      "18:\tlearn: 11877784.7377554\ttotal: 49.8ms\tremaining: 7.92s\n",
      "19:\tlearn: 11778780.5239146\ttotal: 52.3ms\tremaining: 7.89s\n",
      "20:\tlearn: 11682375.2551858\ttotal: 55ms\tremaining: 7.91s\n",
      "21:\tlearn: 11585210.1416383\ttotal: 57.5ms\tremaining: 7.89s\n",
      "22:\tlearn: 11494650.8324401\ttotal: 60.8ms\tremaining: 7.98s\n",
      "23:\tlearn: 11404460.9774387\ttotal: 63.6ms\tremaining: 7.99s\n",
      "24:\tlearn: 11312436.6323447\ttotal: 66.4ms\tremaining: 8.01s\n",
      "25:\tlearn: 11229342.8155411\ttotal: 68.9ms\tremaining: 7.99s\n",
      "26:\tlearn: 11148794.2584219\ttotal: 71.6ms\tremaining: 7.99s\n",
      "27:\tlearn: 11067518.1388904\ttotal: 74.6ms\tremaining: 8.03s\n",
      "28:\tlearn: 10982940.7995892\ttotal: 77.2ms\tremaining: 8.01s\n",
      "29:\tlearn: 10899932.0131292\ttotal: 80ms\tremaining: 8.03s\n",
      "30:\tlearn: 10820625.8453338\ttotal: 82.5ms\tremaining: 8.02s\n",
      "31:\tlearn: 10742707.4306075\ttotal: 85.1ms\tremaining: 8.01s\n",
      "32:\tlearn: 10668357.6369691\ttotal: 87.8ms\tremaining: 8s\n",
      "33:\tlearn: 10588718.9336334\ttotal: 91.2ms\tremaining: 8.06s\n",
      "34:\tlearn: 10512880.0746115\ttotal: 93.9ms\tremaining: 8.07s\n",
      "35:\tlearn: 10439489.6235665\ttotal: 96.5ms\tremaining: 8.05s\n",
      "36:\tlearn: 10368454.2354187\ttotal: 99.3ms\tremaining: 8.06s\n",
      "37:\tlearn: 10299454.5791452\ttotal: 102ms\tremaining: 8.06s\n",
      "38:\tlearn: 10236383.0520113\ttotal: 105ms\tremaining: 8.05s\n",
      "39:\tlearn: 10168675.9811610\ttotal: 108ms\tremaining: 8.1s\n",
      "40:\tlearn: 10101594.8140170\ttotal: 111ms\tremaining: 8.11s\n",
      "41:\tlearn: 10029948.4574230\ttotal: 113ms\tremaining: 8.1s\n",
      "42:\tlearn: 9962781.9170362\ttotal: 116ms\tremaining: 8.08s\n",
      "43:\tlearn: 9898564.2559436\ttotal: 119ms\tremaining: 8.08s\n",
      "44:\tlearn: 9836490.0110046\ttotal: 122ms\tremaining: 8.1s\n",
      "45:\tlearn: 9775952.2041520\ttotal: 125ms\tremaining: 8.14s\n",
      "46:\tlearn: 9717811.4420390\ttotal: 128ms\tremaining: 8.16s\n",
      "47:\tlearn: 9660056.7111956\ttotal: 131ms\tremaining: 8.18s\n",
      "48:\tlearn: 9599672.3207836\ttotal: 134ms\tremaining: 8.19s\n",
      "49:\tlearn: 9540192.0031143\ttotal: 137ms\tremaining: 8.21s\n",
      "50:\tlearn: 9484149.6370796\ttotal: 141ms\tremaining: 8.24s\n",
      "51:\tlearn: 9422936.5401092\ttotal: 143ms\tremaining: 8.21s\n",
      "52:\tlearn: 9366788.6534954\ttotal: 145ms\tremaining: 8.2s\n",
      "53:\tlearn: 9312212.7329809\ttotal: 148ms\tremaining: 8.17s\n",
      "54:\tlearn: 9256327.0844894\ttotal: 150ms\tremaining: 8.16s\n",
      "55:\tlearn: 9203283.7333613\ttotal: 153ms\tremaining: 8.16s\n",
      "56:\tlearn: 9152152.5270391\ttotal: 156ms\tremaining: 8.18s\n",
      "57:\tlearn: 9100609.2613686\ttotal: 159ms\tremaining: 8.18s\n",
      "58:\tlearn: 9051805.5882680\ttotal: 162ms\tremaining: 8.17s\n",
      "59:\tlearn: 8998534.2354054\ttotal: 164ms\tremaining: 8.16s\n",
      "60:\tlearn: 8948557.8319397\ttotal: 167ms\tremaining: 8.14s\n",
      "61:\tlearn: 8901331.8493205\ttotal: 169ms\tremaining: 8.1s\n",
      "62:\tlearn: 8859080.4566401\ttotal: 172ms\tremaining: 8.11s\n",
      "63:\tlearn: 8812072.6097866\ttotal: 174ms\tremaining: 8.1s\n",
      "64:\tlearn: 8767138.5668812\ttotal: 176ms\tremaining: 8.08s\n",
      "65:\tlearn: 8720003.7321170\ttotal: 179ms\tremaining: 8.07s\n",
      "66:\tlearn: 8674334.3662063\ttotal: 182ms\tremaining: 8.06s\n",
      "67:\tlearn: 8631154.3866744\ttotal: 184ms\tremaining: 8.04s\n",
      "68:\tlearn: 8583808.9484078\ttotal: 187ms\tremaining: 8.04s\n",
      "69:\tlearn: 8544365.5321986\ttotal: 189ms\tremaining: 8.03s\n",
      "70:\tlearn: 8499321.4395321\ttotal: 192ms\tremaining: 8.03s\n",
      "71:\tlearn: 8455833.1013775\ttotal: 195ms\tremaining: 8.02s\n",
      "72:\tlearn: 8418616.8713463\ttotal: 197ms\tremaining: 8.01s\n",
      "73:\tlearn: 8385000.0003255\ttotal: 200ms\tremaining: 8s\n",
      "74:\tlearn: 8347294.8798698\ttotal: 202ms\tremaining: 8s\n",
      "75:\tlearn: 8311590.1982993\ttotal: 205ms\tremaining: 7.99s\n",
      "76:\tlearn: 8276736.0271970\ttotal: 208ms\tremaining: 7.99s\n",
      "77:\tlearn: 8241161.1920939\ttotal: 210ms\tremaining: 7.99s\n",
      "78:\tlearn: 8202248.2242736\ttotal: 213ms\tremaining: 7.98s\n",
      "79:\tlearn: 8166695.1447115\ttotal: 215ms\tremaining: 7.97s\n",
      "80:\tlearn: 8132634.8728208\ttotal: 218ms\tremaining: 7.95s\n",
      "81:\tlearn: 8099364.8064208\ttotal: 221ms\tremaining: 7.96s\n",
      "82:\tlearn: 8066070.5377939\ttotal: 224ms\tremaining: 8s\n",
      "83:\tlearn: 8036280.3917538\ttotal: 227ms\tremaining: 7.99s\n",
      "84:\tlearn: 8007899.6202814\ttotal: 230ms\tremaining: 7.98s\n",
      "85:\tlearn: 7974621.8549512\ttotal: 232ms\tremaining: 7.97s\n",
      "86:\tlearn: 7946844.0788586\ttotal: 234ms\tremaining: 7.96s\n",
      "87:\tlearn: 7921035.4119250\ttotal: 238ms\tremaining: 7.97s\n",
      "88:\tlearn: 7893883.6657884\ttotal: 241ms\tremaining: 7.98s\n",
      "89:\tlearn: 7864333.9510191\ttotal: 243ms\tremaining: 7.98s\n",
      "90:\tlearn: 7834086.3539136\ttotal: 246ms\tremaining: 7.96s\n",
      "91:\tlearn: 7810821.7311906\ttotal: 248ms\tremaining: 7.96s\n",
      "92:\tlearn: 7782601.8890685\ttotal: 251ms\tremaining: 7.96s\n",
      "93:\tlearn: 7756036.6111069\ttotal: 254ms\tremaining: 7.97s\n",
      "94:\tlearn: 7731417.9917238\ttotal: 257ms\tremaining: 7.96s\n",
      "95:\tlearn: 7706534.6709372\ttotal: 259ms\tremaining: 7.96s\n",
      "96:\tlearn: 7677430.0586720\ttotal: 262ms\tremaining: 7.95s\n",
      "97:\tlearn: 7652631.0429807\ttotal: 265ms\tremaining: 7.94s\n",
      "98:\tlearn: 7629021.5016071\ttotal: 268ms\tremaining: 7.96s\n",
      "99:\tlearn: 7604573.7085750\ttotal: 270ms\tremaining: 7.94s\n",
      "100:\tlearn: 7582575.2788629\ttotal: 273ms\tremaining: 7.94s\n",
      "101:\tlearn: 7556984.8774977\ttotal: 275ms\tremaining: 7.93s\n",
      "102:\tlearn: 7530617.4760363\ttotal: 278ms\tremaining: 7.93s\n",
      "103:\tlearn: 7506408.2638328\ttotal: 280ms\tremaining: 7.92s\n",
      "104:\tlearn: 7486444.4165772\ttotal: 284ms\tremaining: 7.93s\n",
      "105:\tlearn: 7465650.9150855\ttotal: 286ms\tremaining: 7.93s\n",
      "106:\tlearn: 7441015.1065265\ttotal: 289ms\tremaining: 7.92s\n",
      "107:\tlearn: 7418845.0261501\ttotal: 292ms\tremaining: 7.92s\n",
      "108:\tlearn: 7394367.5444754\ttotal: 294ms\tremaining: 7.91s\n",
      "109:\tlearn: 7373754.8136667\ttotal: 297ms\tremaining: 7.91s\n",
      "110:\tlearn: 7356357.7159311\ttotal: 301ms\tremaining: 7.93s\n",
      "111:\tlearn: 7334037.9561489\ttotal: 303ms\tremaining: 7.92s\n",
      "112:\tlearn: 7312935.6741406\ttotal: 306ms\tremaining: 7.92s\n",
      "113:\tlearn: 7294595.6943755\ttotal: 308ms\tremaining: 7.92s\n",
      "114:\tlearn: 7273411.5580990\ttotal: 311ms\tremaining: 7.91s\n",
      "115:\tlearn: 7252902.3115332\ttotal: 313ms\tremaining: 7.9s\n",
      "116:\tlearn: 7236534.5503790\ttotal: 317ms\tremaining: 7.91s\n",
      "117:\tlearn: 7220535.8710782\ttotal: 319ms\tremaining: 7.91s\n",
      "118:\tlearn: 7202063.2914101\ttotal: 322ms\tremaining: 7.9s\n",
      "119:\tlearn: 7183042.7232205\ttotal: 324ms\tremaining: 7.89s\n",
      "120:\tlearn: 7165510.0284251\ttotal: 327ms\tremaining: 7.89s\n",
      "121:\tlearn: 7146955.3434520\ttotal: 329ms\tremaining: 7.88s\n",
      "122:\tlearn: 7129471.4458410\ttotal: 332ms\tremaining: 7.88s\n",
      "123:\tlearn: 7116472.7102287\ttotal: 335ms\tremaining: 7.88s\n",
      "124:\tlearn: 7103486.4239078\ttotal: 337ms\tremaining: 7.87s\n",
      "125:\tlearn: 7088391.5577143\ttotal: 340ms\tremaining: 7.86s\n",
      "126:\tlearn: 7074329.7410653\ttotal: 343ms\tremaining: 7.86s\n",
      "127:\tlearn: 7056750.6752636\ttotal: 345ms\tremaining: 7.86s\n",
      "128:\tlearn: 7039048.6509571\ttotal: 349ms\tremaining: 7.87s\n",
      "129:\tlearn: 7026549.3307667\ttotal: 352ms\tremaining: 7.88s\n",
      "130:\tlearn: 7009930.3379804\ttotal: 354ms\tremaining: 7.87s\n",
      "131:\tlearn: 6996462.1439911\ttotal: 357ms\tremaining: 7.88s\n",
      "132:\tlearn: 6981619.4790652\ttotal: 360ms\tremaining: 7.87s\n",
      "133:\tlearn: 6967522.9795443\ttotal: 362ms\tremaining: 7.86s\n",
      "134:\tlearn: 6954071.2057787\ttotal: 365ms\tremaining: 7.86s\n",
      "135:\tlearn: 6939920.1302835\ttotal: 368ms\tremaining: 7.86s\n",
      "136:\tlearn: 6928208.6286806\ttotal: 370ms\tremaining: 7.85s\n",
      "137:\tlearn: 6915754.5055135\ttotal: 373ms\tremaining: 7.85s\n",
      "138:\tlearn: 6904959.1351215\ttotal: 376ms\tremaining: 7.84s\n",
      "139:\tlearn: 6892778.5642455\ttotal: 378ms\tremaining: 7.84s\n",
      "140:\tlearn: 6880582.9612727\ttotal: 382ms\tremaining: 7.85s\n",
      "141:\tlearn: 6868880.8243635\ttotal: 384ms\tremaining: 7.84s\n",
      "142:\tlearn: 6857373.5417605\ttotal: 387ms\tremaining: 7.84s\n",
      "143:\tlearn: 6845224.6785511\ttotal: 389ms\tremaining: 7.83s\n",
      "144:\tlearn: 6831157.0558421\ttotal: 392ms\tremaining: 7.83s\n",
      "145:\tlearn: 6820200.6925256\ttotal: 394ms\tremaining: 7.82s\n",
      "146:\tlearn: 6809112.3596931\ttotal: 397ms\tremaining: 7.82s\n",
      "147:\tlearn: 6796128.7709134\ttotal: 400ms\tremaining: 7.82s\n",
      "148:\tlearn: 6784664.7336311\ttotal: 402ms\tremaining: 7.81s\n",
      "149:\tlearn: 6774940.6933214\ttotal: 405ms\tremaining: 7.81s\n",
      "150:\tlearn: 6764699.2922550\ttotal: 408ms\tremaining: 7.8s\n",
      "151:\tlearn: 6753711.6632290\ttotal: 410ms\tremaining: 7.8s\n",
      "152:\tlearn: 6743081.4942959\ttotal: 413ms\tremaining: 7.8s\n",
      "153:\tlearn: 6731905.2876551\ttotal: 416ms\tremaining: 7.8s\n",
      "154:\tlearn: 6722413.3145065\ttotal: 419ms\tremaining: 7.8s\n",
      "155:\tlearn: 6711528.3418102\ttotal: 421ms\tremaining: 7.79s\n",
      "156:\tlearn: 6703113.1213700\ttotal: 424ms\tremaining: 7.79s\n",
      "157:\tlearn: 6695270.1489508\ttotal: 426ms\tremaining: 7.78s\n",
      "158:\tlearn: 6685136.8173410\ttotal: 431ms\tremaining: 7.82s\n",
      "159:\tlearn: 6676900.9328200\ttotal: 435ms\tremaining: 7.83s\n",
      "160:\tlearn: 6667705.8229965\ttotal: 437ms\tremaining: 7.81s\n",
      "161:\tlearn: 6659505.0516869\ttotal: 439ms\tremaining: 7.81s\n",
      "162:\tlearn: 6649611.9650063\ttotal: 442ms\tremaining: 7.8s\n",
      "163:\tlearn: 6640405.9938324\ttotal: 446ms\tremaining: 7.82s\n",
      "164:\tlearn: 6631017.8969109\ttotal: 448ms\tremaining: 7.82s\n",
      "165:\tlearn: 6622718.3461625\ttotal: 451ms\tremaining: 7.82s\n",
      "166:\tlearn: 6611951.4858385\ttotal: 454ms\tremaining: 7.81s\n",
      "167:\tlearn: 6603005.0703248\ttotal: 456ms\tremaining: 7.81s\n",
      "168:\tlearn: 6591814.7952767\ttotal: 460ms\tremaining: 7.81s\n",
      "169:\tlearn: 6583575.4754730\ttotal: 463ms\tremaining: 7.81s\n",
      "170:\tlearn: 6577012.3821303\ttotal: 466ms\tremaining: 7.82s\n",
      "171:\tlearn: 6570472.0875851\ttotal: 469ms\tremaining: 7.82s\n",
      "172:\tlearn: 6561130.7177066\ttotal: 472ms\tremaining: 7.82s\n",
      "173:\tlearn: 6553112.0402133\ttotal: 475ms\tremaining: 7.82s\n",
      "174:\tlearn: 6544936.6264304\ttotal: 478ms\tremaining: 7.82s\n",
      "175:\tlearn: 6535425.8483804\ttotal: 480ms\tremaining: 7.82s\n",
      "176:\tlearn: 6527915.7832496\ttotal: 483ms\tremaining: 7.81s\n",
      "177:\tlearn: 6520595.7981569\ttotal: 485ms\tremaining: 7.8s\n",
      "178:\tlearn: 6512972.4120562\ttotal: 488ms\tremaining: 7.8s\n",
      "179:\tlearn: 6505335.5813323\ttotal: 490ms\tremaining: 7.79s\n",
      "180:\tlearn: 6497754.1676676\ttotal: 494ms\tremaining: 7.8s\n",
      "181:\tlearn: 6490754.3561229\ttotal: 496ms\tremaining: 7.79s\n",
      "182:\tlearn: 6482337.4503527\ttotal: 499ms\tremaining: 7.79s\n",
      "183:\tlearn: 6476390.4768267\ttotal: 501ms\tremaining: 7.78s\n",
      "184:\tlearn: 6467563.5591504\ttotal: 504ms\tremaining: 7.78s\n",
      "185:\tlearn: 6461213.5453056\ttotal: 506ms\tremaining: 7.77s\n",
      "186:\tlearn: 6455166.3559667\ttotal: 510ms\tremaining: 7.78s\n",
      "187:\tlearn: 6447810.0725641\ttotal: 512ms\tremaining: 7.77s\n",
      "188:\tlearn: 6438550.3992868\ttotal: 515ms\tremaining: 7.77s\n",
      "189:\tlearn: 6433100.7672081\ttotal: 517ms\tremaining: 7.76s\n",
      "190:\tlearn: 6427817.3436486\ttotal: 520ms\tremaining: 7.76s\n",
      "191:\tlearn: 6421867.3893438\ttotal: 522ms\tremaining: 7.75s\n",
      "192:\tlearn: 6414064.0389422\ttotal: 525ms\tremaining: 7.75s\n",
      "193:\tlearn: 6408454.7626839\ttotal: 528ms\tremaining: 7.75s\n",
      "194:\tlearn: 6402184.9873112\ttotal: 531ms\tremaining: 7.74s\n",
      "195:\tlearn: 6395856.3375670\ttotal: 533ms\tremaining: 7.74s\n",
      "196:\tlearn: 6389285.4780744\ttotal: 536ms\tremaining: 7.74s\n",
      "197:\tlearn: 6383700.0500359\ttotal: 539ms\tremaining: 7.74s\n",
      "198:\tlearn: 6377423.6603734\ttotal: 542ms\tremaining: 7.74s\n",
      "199:\tlearn: 6372189.5094544\ttotal: 544ms\tremaining: 7.73s\n",
      "200:\tlearn: 6365070.2343796\ttotal: 547ms\tremaining: 7.73s\n",
      "201:\tlearn: 6357977.4389447\ttotal: 550ms\tremaining: 7.72s\n",
      "202:\tlearn: 6352314.1867572\ttotal: 552ms\tremaining: 7.72s\n",
      "203:\tlearn: 6347638.7081509\ttotal: 555ms\tremaining: 7.71s\n",
      "204:\tlearn: 6341830.9689610\ttotal: 558ms\tremaining: 7.72s\n",
      "205:\tlearn: 6335069.5353617\ttotal: 561ms\tremaining: 7.71s\n",
      "206:\tlearn: 6330988.9032024\ttotal: 563ms\tremaining: 7.71s\n",
      "207:\tlearn: 6325373.4790853\ttotal: 566ms\tremaining: 7.71s\n",
      "208:\tlearn: 6319828.7301185\ttotal: 568ms\tremaining: 7.7s\n",
      "209:\tlearn: 6313486.6302263\ttotal: 571ms\tremaining: 7.69s\n",
      "210:\tlearn: 6308652.4312516\ttotal: 574ms\tremaining: 7.69s\n",
      "211:\tlearn: 6303396.6799126\ttotal: 576ms\tremaining: 7.69s\n",
      "212:\tlearn: 6295959.5677326\ttotal: 579ms\tremaining: 7.69s\n",
      "213:\tlearn: 6291470.8602898\ttotal: 582ms\tremaining: 7.69s\n",
      "214:\tlearn: 6286629.8402772\ttotal: 585ms\tremaining: 7.69s\n",
      "215:\tlearn: 6280531.5463399\ttotal: 589ms\tremaining: 7.7s\n",
      "216:\tlearn: 6275546.5621715\ttotal: 592ms\tremaining: 7.7s\n",
      "217:\tlearn: 6271717.7776789\ttotal: 594ms\tremaining: 7.7s\n",
      "218:\tlearn: 6265832.5857798\ttotal: 597ms\tremaining: 7.69s\n",
      "219:\tlearn: 6261013.6060769\ttotal: 599ms\tremaining: 7.68s\n",
      "220:\tlearn: 6255094.7479033\ttotal: 602ms\tremaining: 7.68s\n",
      "221:\tlearn: 6251277.1746150\ttotal: 605ms\tremaining: 7.68s\n",
      "222:\tlearn: 6243998.1369843\ttotal: 608ms\tremaining: 7.68s\n",
      "223:\tlearn: 6237144.7613753\ttotal: 610ms\tremaining: 7.68s\n",
      "224:\tlearn: 6231684.5886843\ttotal: 613ms\tremaining: 7.67s\n",
      "225:\tlearn: 6227733.6804230\ttotal: 615ms\tremaining: 7.66s\n",
      "226:\tlearn: 6221774.1208011\ttotal: 618ms\tremaining: 7.66s\n",
      "227:\tlearn: 6217582.4857778\ttotal: 621ms\tremaining: 7.66s\n",
      "228:\tlearn: 6212041.9748800\ttotal: 624ms\tremaining: 7.66s\n",
      "229:\tlearn: 6208676.0807991\ttotal: 627ms\tremaining: 7.66s\n",
      "230:\tlearn: 6205482.2889491\ttotal: 629ms\tremaining: 7.65s\n",
      "231:\tlearn: 6201744.9536924\ttotal: 632ms\tremaining: 7.65s\n",
      "232:\tlearn: 6198059.5029434\ttotal: 635ms\tremaining: 7.65s\n",
      "233:\tlearn: 6193063.3202777\ttotal: 638ms\tremaining: 7.65s\n",
      "234:\tlearn: 6189360.5438800\ttotal: 641ms\tremaining: 7.65s\n",
      "235:\tlearn: 6185980.8594174\ttotal: 644ms\tremaining: 7.65s\n",
      "236:\tlearn: 6180569.6789991\ttotal: 646ms\tremaining: 7.65s\n",
      "237:\tlearn: 6176003.2544066\ttotal: 649ms\tremaining: 7.64s\n",
      "238:\tlearn: 6172615.4626429\ttotal: 652ms\tremaining: 7.65s\n",
      "239:\tlearn: 6169940.5491692\ttotal: 655ms\tremaining: 7.64s\n",
      "240:\tlearn: 6164934.0377020\ttotal: 658ms\tremaining: 7.64s\n",
      "241:\tlearn: 6161649.1334211\ttotal: 660ms\tremaining: 7.63s\n",
      "242:\tlearn: 6157644.8117481\ttotal: 662ms\tremaining: 7.63s\n",
      "243:\tlearn: 6152660.3347108\ttotal: 665ms\tremaining: 7.62s\n",
      "244:\tlearn: 6149532.3283124\ttotal: 667ms\tremaining: 7.62s\n",
      "245:\tlearn: 6145814.0233264\ttotal: 670ms\tremaining: 7.61s\n",
      "246:\tlearn: 6139280.7170973\ttotal: 673ms\tremaining: 7.61s\n",
      "247:\tlearn: 6135780.4677971\ttotal: 675ms\tremaining: 7.6s\n",
      "248:\tlearn: 6132799.9732603\ttotal: 677ms\tremaining: 7.59s\n",
      "249:\tlearn: 6129512.6431237\ttotal: 680ms\tremaining: 7.59s\n",
      "250:\tlearn: 6124193.1390129\ttotal: 683ms\tremaining: 7.59s\n",
      "251:\tlearn: 6120644.5933218\ttotal: 686ms\tremaining: 7.59s\n",
      "252:\tlearn: 6114101.2858010\ttotal: 688ms\tremaining: 7.58s\n",
      "253:\tlearn: 6111255.5774431\ttotal: 691ms\tremaining: 7.58s\n",
      "254:\tlearn: 6107979.7381937\ttotal: 693ms\tremaining: 7.58s\n",
      "255:\tlearn: 6105010.5328686\ttotal: 696ms\tremaining: 7.57s\n",
      "256:\tlearn: 6101557.9486625\ttotal: 699ms\tremaining: 7.57s\n",
      "257:\tlearn: 6098371.1562638\ttotal: 702ms\tremaining: 7.58s\n",
      "258:\tlearn: 6091946.2987872\ttotal: 706ms\tremaining: 7.58s\n",
      "259:\tlearn: 6088804.2980094\ttotal: 710ms\tremaining: 7.59s\n",
      "260:\tlearn: 6085227.3998032\ttotal: 712ms\tremaining: 7.59s\n",
      "261:\tlearn: 6081386.5403029\ttotal: 715ms\tremaining: 7.59s\n",
      "262:\tlearn: 6078611.7504322\ttotal: 718ms\tremaining: 7.59s\n",
      "263:\tlearn: 6075161.1012559\ttotal: 721ms\tremaining: 7.59s\n",
      "264:\tlearn: 6072244.6282786\ttotal: 724ms\tremaining: 7.58s\n",
      "265:\tlearn: 6067968.8997994\ttotal: 727ms\tremaining: 7.58s\n",
      "266:\tlearn: 6064043.4353768\ttotal: 729ms\tremaining: 7.58s\n",
      "267:\tlearn: 6058463.6144416\ttotal: 731ms\tremaining: 7.57s\n",
      "268:\tlearn: 6053326.8058629\ttotal: 735ms\tremaining: 7.57s\n",
      "269:\tlearn: 6049469.7884796\ttotal: 738ms\tremaining: 7.57s\n",
      "270:\tlearn: 6044904.8166348\ttotal: 740ms\tremaining: 7.57s\n",
      "271:\tlearn: 6040052.1051513\ttotal: 743ms\tremaining: 7.56s\n",
      "272:\tlearn: 6037721.0215129\ttotal: 746ms\tremaining: 7.56s\n",
      "273:\tlearn: 6031592.8243560\ttotal: 749ms\tremaining: 7.56s\n",
      "274:\tlearn: 6027523.1987905\ttotal: 752ms\tremaining: 7.56s\n",
      "275:\tlearn: 6024754.0344418\ttotal: 754ms\tremaining: 7.55s\n",
      "276:\tlearn: 6019762.9901779\ttotal: 757ms\tremaining: 7.55s\n",
      "277:\tlearn: 6016665.7878712\ttotal: 759ms\tremaining: 7.55s\n",
      "278:\tlearn: 6012111.0323396\ttotal: 762ms\tremaining: 7.54s\n",
      "279:\tlearn: 6009632.8832800\ttotal: 765ms\tremaining: 7.55s\n",
      "280:\tlearn: 6005093.0580230\ttotal: 768ms\tremaining: 7.54s\n",
      "281:\tlearn: 6002402.8695240\ttotal: 771ms\tremaining: 7.54s\n",
      "282:\tlearn: 6000145.9961173\ttotal: 773ms\tremaining: 7.54s\n",
      "283:\tlearn: 5999479.4545345\ttotal: 775ms\tremaining: 7.52s\n",
      "284:\tlearn: 5997100.7080569\ttotal: 777ms\tremaining: 7.52s\n",
      "285:\tlearn: 5995117.1861586\ttotal: 780ms\tremaining: 7.51s\n",
      "286:\tlearn: 5992834.6349724\ttotal: 783ms\tremaining: 7.51s\n",
      "287:\tlearn: 5990336.1127218\ttotal: 785ms\tremaining: 7.51s\n",
      "288:\tlearn: 5988274.9367662\ttotal: 788ms\tremaining: 7.5s\n",
      "289:\tlearn: 5985436.4438506\ttotal: 790ms\tremaining: 7.5s\n",
      "290:\tlearn: 5982941.6576061\ttotal: 793ms\tremaining: 7.49s\n",
      "291:\tlearn: 5979039.4625883\ttotal: 796ms\tremaining: 7.49s\n",
      "292:\tlearn: 5977276.1616656\ttotal: 799ms\tremaining: 7.49s\n",
      "293:\tlearn: 5974228.8100549\ttotal: 801ms\tremaining: 7.49s\n",
      "294:\tlearn: 5971836.1254841\ttotal: 804ms\tremaining: 7.48s\n",
      "295:\tlearn: 5968115.8054025\ttotal: 806ms\tremaining: 7.48s\n",
      "296:\tlearn: 5964845.2314485\ttotal: 809ms\tremaining: 7.48s\n",
      "297:\tlearn: 5959354.6445601\ttotal: 812ms\tremaining: 7.47s\n",
      "298:\tlearn: 5956941.3484072\ttotal: 815ms\tremaining: 7.48s\n",
      "299:\tlearn: 5953473.9163133\ttotal: 819ms\tremaining: 7.48s\n",
      "300:\tlearn: 5951032.0068363\ttotal: 821ms\tremaining: 7.48s\n",
      "301:\tlearn: 5948733.2197202\ttotal: 825ms\tremaining: 7.48s\n",
      "302:\tlearn: 5946629.1711453\ttotal: 828ms\tremaining: 7.48s\n",
      "303:\tlearn: 5942216.9702888\ttotal: 831ms\tremaining: 7.48s\n",
      "304:\tlearn: 5939283.6103321\ttotal: 833ms\tremaining: 7.48s\n",
      "305:\tlearn: 5933643.1313371\ttotal: 836ms\tremaining: 7.47s\n",
      "306:\tlearn: 5931032.0360597\ttotal: 839ms\tremaining: 7.47s\n",
      "307:\tlearn: 5929320.2534353\ttotal: 841ms\tremaining: 7.47s\n",
      "308:\tlearn: 5926915.7065484\ttotal: 845ms\tremaining: 7.47s\n",
      "309:\tlearn: 5924952.3009295\ttotal: 847ms\tremaining: 7.46s\n",
      "310:\tlearn: 5921565.8352743\ttotal: 850ms\tremaining: 7.46s\n",
      "311:\tlearn: 5917918.9734960\ttotal: 853ms\tremaining: 7.46s\n",
      "312:\tlearn: 5915443.0313302\ttotal: 855ms\tremaining: 7.45s\n",
      "313:\tlearn: 5913798.3000305\ttotal: 858ms\tremaining: 7.45s\n",
      "314:\tlearn: 5908684.6149311\ttotal: 861ms\tremaining: 7.45s\n",
      "315:\tlearn: 5906382.0796010\ttotal: 864ms\tremaining: 7.45s\n",
      "316:\tlearn: 5904656.5568420\ttotal: 866ms\tremaining: 7.44s\n",
      "317:\tlearn: 5900819.3682927\ttotal: 869ms\tremaining: 7.44s\n",
      "318:\tlearn: 5898268.3069619\ttotal: 871ms\tremaining: 7.43s\n",
      "319:\tlearn: 5893349.0315224\ttotal: 874ms\tremaining: 7.43s\n",
      "320:\tlearn: 5890444.5376692\ttotal: 877ms\tremaining: 7.43s\n",
      "321:\tlearn: 5888463.0121136\ttotal: 880ms\tremaining: 7.43s\n",
      "322:\tlearn: 5883847.2403494\ttotal: 882ms\tremaining: 7.42s\n",
      "323:\tlearn: 5882518.5405823\ttotal: 885ms\tremaining: 7.42s\n",
      "324:\tlearn: 5878778.6859826\ttotal: 887ms\tremaining: 7.42s\n",
      "325:\tlearn: 5877228.1030280\ttotal: 890ms\tremaining: 7.42s\n",
      "326:\tlearn: 5875393.9208409\ttotal: 894ms\tremaining: 7.42s\n",
      "327:\tlearn: 5872479.1345513\ttotal: 897ms\tremaining: 7.42s\n",
      "328:\tlearn: 5870133.6187238\ttotal: 899ms\tremaining: 7.41s\n",
      "329:\tlearn: 5867270.6548419\ttotal: 902ms\tremaining: 7.41s\n",
      "330:\tlearn: 5864357.2304077\ttotal: 905ms\tremaining: 7.41s\n",
      "331:\tlearn: 5862102.0055298\ttotal: 907ms\tremaining: 7.4s\n",
      "332:\tlearn: 5859726.3924638\ttotal: 910ms\tremaining: 7.4s\n",
      "333:\tlearn: 5858324.8630361\ttotal: 913ms\tremaining: 7.4s\n",
      "334:\tlearn: 5855514.7591704\ttotal: 915ms\tremaining: 7.39s\n",
      "335:\tlearn: 5853712.5935909\ttotal: 918ms\tremaining: 7.39s\n",
      "336:\tlearn: 5850153.0971429\ttotal: 921ms\tremaining: 7.39s\n",
      "337:\tlearn: 5846698.3813886\ttotal: 923ms\tremaining: 7.38s\n",
      "338:\tlearn: 5845575.0345741\ttotal: 926ms\tremaining: 7.38s\n",
      "339:\tlearn: 5841988.5284691\ttotal: 929ms\tremaining: 7.38s\n",
      "340:\tlearn: 5840561.4788324\ttotal: 932ms\tremaining: 7.38s\n",
      "341:\tlearn: 5839126.0997399\ttotal: 935ms\tremaining: 7.38s\n",
      "342:\tlearn: 5835384.7487004\ttotal: 937ms\tremaining: 7.37s\n",
      "343:\tlearn: 5831722.3276086\ttotal: 940ms\tremaining: 7.37s\n",
      "344:\tlearn: 5829188.4597010\ttotal: 943ms\tremaining: 7.37s\n",
      "345:\tlearn: 5825555.0966142\ttotal: 946ms\tremaining: 7.37s\n",
      "346:\tlearn: 5821574.8850852\ttotal: 949ms\tremaining: 7.37s\n",
      "347:\tlearn: 5819276.2078703\ttotal: 952ms\tremaining: 7.36s\n",
      "348:\tlearn: 5816062.1310736\ttotal: 954ms\tremaining: 7.36s\n",
      "349:\tlearn: 5814221.5224977\ttotal: 957ms\tremaining: 7.36s\n",
      "350:\tlearn: 5810906.7942893\ttotal: 960ms\tremaining: 7.36s\n",
      "351:\tlearn: 5809183.8565788\ttotal: 963ms\tremaining: 7.36s\n",
      "352:\tlearn: 5804689.9401870\ttotal: 966ms\tremaining: 7.35s\n",
      "353:\tlearn: 5802023.3454652\ttotal: 968ms\tremaining: 7.35s\n",
      "354:\tlearn: 5799598.6821040\ttotal: 971ms\tremaining: 7.34s\n",
      "355:\tlearn: 5797880.2198657\ttotal: 974ms\tremaining: 7.34s\n",
      "356:\tlearn: 5796663.1873202\ttotal: 976ms\tremaining: 7.34s\n",
      "357:\tlearn: 5795178.4781565\ttotal: 979ms\tremaining: 7.34s\n",
      "358:\tlearn: 5793717.6728871\ttotal: 982ms\tremaining: 7.33s\n",
      "359:\tlearn: 5790807.3280825\ttotal: 984ms\tremaining: 7.33s\n",
      "360:\tlearn: 5786714.7648565\ttotal: 987ms\tremaining: 7.33s\n",
      "361:\tlearn: 5785412.1260563\ttotal: 990ms\tremaining: 7.33s\n",
      "362:\tlearn: 5783531.3215980\ttotal: 993ms\tremaining: 7.33s\n",
      "363:\tlearn: 5781515.4892110\ttotal: 996ms\tremaining: 7.32s\n",
      "364:\tlearn: 5779179.5770654\ttotal: 999ms\tremaining: 7.32s\n",
      "365:\tlearn: 5776549.5255055\ttotal: 1s\tremaining: 7.32s\n",
      "366:\tlearn: 5774508.0209917\ttotal: 1s\tremaining: 7.32s\n",
      "367:\tlearn: 5772858.6644204\ttotal: 1.01s\tremaining: 7.32s\n",
      "368:\tlearn: 5768935.5409538\ttotal: 1.01s\tremaining: 7.32s\n",
      "369:\tlearn: 5767927.7192032\ttotal: 1.01s\tremaining: 7.31s\n",
      "370:\tlearn: 5765001.8016617\ttotal: 1.02s\tremaining: 7.31s\n",
      "371:\tlearn: 5763534.8299482\ttotal: 1.02s\tremaining: 7.31s\n",
      "372:\tlearn: 5761518.1787590\ttotal: 1.02s\tremaining: 7.3s\n",
      "373:\tlearn: 5757916.0458729\ttotal: 1.02s\tremaining: 7.3s\n",
      "374:\tlearn: 5756793.9477065\ttotal: 1.03s\tremaining: 7.3s\n",
      "375:\tlearn: 5755348.9967388\ttotal: 1.03s\tremaining: 7.3s\n",
      "376:\tlearn: 5753695.6594881\ttotal: 1.03s\tremaining: 7.3s\n",
      "377:\tlearn: 5750720.1685882\ttotal: 1.03s\tremaining: 7.29s\n",
      "378:\tlearn: 5747715.3298712\ttotal: 1.04s\tremaining: 7.29s\n",
      "379:\tlearn: 5746865.8754593\ttotal: 1.04s\tremaining: 7.29s\n",
      "380:\tlearn: 5744930.0165054\ttotal: 1.04s\tremaining: 7.29s\n",
      "381:\tlearn: 5741475.8811255\ttotal: 1.05s\tremaining: 7.29s\n",
      "382:\tlearn: 5738887.6779548\ttotal: 1.05s\tremaining: 7.29s\n",
      "383:\tlearn: 5737567.1802118\ttotal: 1.05s\tremaining: 7.29s\n",
      "384:\tlearn: 5735033.9010907\ttotal: 1.06s\tremaining: 7.29s\n",
      "385:\tlearn: 5733062.0087419\ttotal: 1.06s\tremaining: 7.28s\n",
      "386:\tlearn: 5731685.3190546\ttotal: 1.06s\tremaining: 7.28s\n",
      "387:\tlearn: 5730945.4872385\ttotal: 1.06s\tremaining: 7.28s\n",
      "388:\tlearn: 5729403.8582325\ttotal: 1.07s\tremaining: 7.27s\n",
      "389:\tlearn: 5728040.2837323\ttotal: 1.07s\tremaining: 7.27s\n",
      "390:\tlearn: 5724345.6987465\ttotal: 1.07s\tremaining: 7.27s\n",
      "391:\tlearn: 5721177.8771797\ttotal: 1.07s\tremaining: 7.26s\n",
      "392:\tlearn: 5720037.2270356\ttotal: 1.08s\tremaining: 7.26s\n",
      "393:\tlearn: 5716306.6075266\ttotal: 1.08s\tremaining: 7.26s\n",
      "394:\tlearn: 5715247.4535505\ttotal: 1.08s\tremaining: 7.25s\n",
      "395:\tlearn: 5714124.6965042\ttotal: 1.08s\tremaining: 7.25s\n",
      "396:\tlearn: 5711164.2575516\ttotal: 1.09s\tremaining: 7.25s\n",
      "397:\tlearn: 5709659.7705805\ttotal: 1.09s\tremaining: 7.24s\n",
      "398:\tlearn: 5707559.7186538\ttotal: 1.09s\tremaining: 7.24s\n",
      "399:\tlearn: 5705958.1589195\ttotal: 1.09s\tremaining: 7.24s\n",
      "400:\tlearn: 5704521.6495267\ttotal: 1.1s\tremaining: 7.23s\n",
      "401:\tlearn: 5702658.4754997\ttotal: 1.1s\tremaining: 7.23s\n",
      "402:\tlearn: 5700784.2630076\ttotal: 1.1s\tremaining: 7.23s\n",
      "403:\tlearn: 5698937.0227440\ttotal: 1.11s\tremaining: 7.22s\n",
      "404:\tlearn: 5696440.6067790\ttotal: 1.11s\tremaining: 7.22s\n",
      "405:\tlearn: 5694218.4521446\ttotal: 1.11s\tremaining: 7.22s\n",
      "406:\tlearn: 5692676.6826859\ttotal: 1.11s\tremaining: 7.21s\n",
      "407:\tlearn: 5689235.0025517\ttotal: 1.12s\tremaining: 7.21s\n",
      "408:\tlearn: 5687627.5673736\ttotal: 1.12s\tremaining: 7.21s\n",
      "409:\tlearn: 5687254.2927380\ttotal: 1.12s\tremaining: 7.21s\n",
      "410:\tlearn: 5685909.6396948\ttotal: 1.13s\tremaining: 7.2s\n",
      "411:\tlearn: 5684548.8848523\ttotal: 1.13s\tremaining: 7.2s\n",
      "412:\tlearn: 5682390.7305441\ttotal: 1.13s\tremaining: 7.2s\n",
      "413:\tlearn: 5680055.7525018\ttotal: 1.13s\tremaining: 7.2s\n",
      "414:\tlearn: 5678600.4264063\ttotal: 1.14s\tremaining: 7.19s\n",
      "415:\tlearn: 5677122.5493643\ttotal: 1.14s\tremaining: 7.19s\n",
      "416:\tlearn: 5676389.6352484\ttotal: 1.14s\tremaining: 7.18s\n",
      "417:\tlearn: 5673519.0478694\ttotal: 1.14s\tremaining: 7.18s\n",
      "418:\tlearn: 5672076.8200308\ttotal: 1.15s\tremaining: 7.18s\n",
      "419:\tlearn: 5670267.9801706\ttotal: 1.15s\tremaining: 7.18s\n",
      "420:\tlearn: 5668090.6669887\ttotal: 1.15s\tremaining: 7.17s\n",
      "421:\tlearn: 5666146.5751475\ttotal: 1.16s\tremaining: 7.17s\n",
      "422:\tlearn: 5665120.3417492\ttotal: 1.16s\tremaining: 7.17s\n",
      "423:\tlearn: 5662887.1754769\ttotal: 1.16s\tremaining: 7.16s\n",
      "424:\tlearn: 5660692.4525903\ttotal: 1.16s\tremaining: 7.16s\n",
      "425:\tlearn: 5659571.4048712\ttotal: 1.17s\tremaining: 7.16s\n",
      "426:\tlearn: 5658109.4901991\ttotal: 1.17s\tremaining: 7.16s\n",
      "427:\tlearn: 5656969.7885102\ttotal: 1.17s\tremaining: 7.16s\n",
      "428:\tlearn: 5655356.1977060\ttotal: 1.18s\tremaining: 7.16s\n",
      "429:\tlearn: 5653884.8054856\ttotal: 1.18s\tremaining: 7.15s\n",
      "430:\tlearn: 5652354.8548816\ttotal: 1.18s\tremaining: 7.15s\n",
      "431:\tlearn: 5649801.8130628\ttotal: 1.18s\tremaining: 7.14s\n",
      "432:\tlearn: 5647807.0400245\ttotal: 1.19s\tremaining: 7.14s\n",
      "433:\tlearn: 5646480.9849788\ttotal: 1.19s\tremaining: 7.14s\n",
      "434:\tlearn: 5643876.4536162\ttotal: 1.19s\tremaining: 7.13s\n",
      "435:\tlearn: 5639947.3241678\ttotal: 1.19s\tremaining: 7.13s\n",
      "436:\tlearn: 5638645.0551390\ttotal: 1.2s\tremaining: 7.13s\n",
      "437:\tlearn: 5637193.2636349\ttotal: 1.2s\tremaining: 7.13s\n",
      "438:\tlearn: 5634703.0864367\ttotal: 1.2s\tremaining: 7.13s\n",
      "439:\tlearn: 5632637.3357874\ttotal: 1.21s\tremaining: 7.12s\n",
      "440:\tlearn: 5631709.0291201\ttotal: 1.21s\tremaining: 7.12s\n",
      "441:\tlearn: 5630027.1592004\ttotal: 1.21s\tremaining: 7.12s\n",
      "442:\tlearn: 5627379.5512515\ttotal: 1.21s\tremaining: 7.11s\n",
      "443:\tlearn: 5624729.1469256\ttotal: 1.22s\tremaining: 7.11s\n",
      "444:\tlearn: 5623149.2581577\ttotal: 1.22s\tremaining: 7.11s\n",
      "445:\tlearn: 5621205.6000729\ttotal: 1.22s\tremaining: 7.11s\n",
      "446:\tlearn: 5618676.5622741\ttotal: 1.22s\tremaining: 7.11s\n",
      "447:\tlearn: 5617396.9934908\ttotal: 1.23s\tremaining: 7.1s\n",
      "448:\tlearn: 5614468.0000311\ttotal: 1.23s\tremaining: 7.1s\n",
      "449:\tlearn: 5613748.9710429\ttotal: 1.23s\tremaining: 7.1s\n",
      "450:\tlearn: 5611718.7035110\ttotal: 1.24s\tremaining: 7.1s\n",
      "451:\tlearn: 5610369.8999960\ttotal: 1.24s\tremaining: 7.1s\n",
      "452:\tlearn: 5608903.5831792\ttotal: 1.24s\tremaining: 7.09s\n",
      "453:\tlearn: 5607854.3576039\ttotal: 1.24s\tremaining: 7.09s\n",
      "454:\tlearn: 5606503.4067806\ttotal: 1.25s\tremaining: 7.09s\n",
      "455:\tlearn: 5605640.0674505\ttotal: 1.25s\tremaining: 7.09s\n",
      "456:\tlearn: 5603888.0322419\ttotal: 1.25s\tremaining: 7.08s\n",
      "457:\tlearn: 5601820.9034243\ttotal: 1.25s\tremaining: 7.08s\n",
      "458:\tlearn: 5600576.8393785\ttotal: 1.26s\tremaining: 7.08s\n",
      "459:\tlearn: 5597371.2428683\ttotal: 1.26s\tremaining: 7.08s\n",
      "460:\tlearn: 5595684.5229913\ttotal: 1.26s\tremaining: 7.08s\n",
      "461:\tlearn: 5594614.6091927\ttotal: 1.27s\tremaining: 7.08s\n",
      "462:\tlearn: 5593196.8990024\ttotal: 1.27s\tremaining: 7.08s\n",
      "463:\tlearn: 5590016.1952004\ttotal: 1.28s\tremaining: 7.09s\n",
      "464:\tlearn: 5588277.6397244\ttotal: 1.28s\tremaining: 7.1s\n",
      "465:\tlearn: 5587164.9827476\ttotal: 1.28s\tremaining: 7.09s\n",
      "466:\tlearn: 5586001.4702850\ttotal: 1.29s\tremaining: 7.09s\n",
      "467:\tlearn: 5584957.3567791\ttotal: 1.29s\tremaining: 7.09s\n",
      "468:\tlearn: 5584165.0618002\ttotal: 1.29s\tremaining: 7.08s\n",
      "469:\tlearn: 5581807.8500958\ttotal: 1.29s\tremaining: 7.08s\n",
      "470:\tlearn: 5580560.9057258\ttotal: 1.3s\tremaining: 7.08s\n",
      "471:\tlearn: 5579819.8324796\ttotal: 1.3s\tremaining: 7.09s\n",
      "472:\tlearn: 5579114.8164101\ttotal: 1.31s\tremaining: 7.1s\n",
      "473:\tlearn: 5577761.1862245\ttotal: 1.31s\tremaining: 7.11s\n",
      "474:\tlearn: 5576436.4539756\ttotal: 1.32s\tremaining: 7.11s\n",
      "475:\tlearn: 5574735.8623627\ttotal: 1.32s\tremaining: 7.11s\n",
      "476:\tlearn: 5573007.9576599\ttotal: 1.32s\tremaining: 7.11s\n",
      "477:\tlearn: 5571336.0913836\ttotal: 1.32s\tremaining: 7.11s\n",
      "478:\tlearn: 5569660.3278544\ttotal: 1.33s\tremaining: 7.1s\n",
      "479:\tlearn: 5567042.0762865\ttotal: 1.33s\tremaining: 7.1s\n",
      "480:\tlearn: 5565661.8042410\ttotal: 1.33s\tremaining: 7.1s\n",
      "481:\tlearn: 5563761.3473500\ttotal: 1.34s\tremaining: 7.1s\n",
      "482:\tlearn: 5562841.4336439\ttotal: 1.34s\tremaining: 7.1s\n",
      "483:\tlearn: 5561473.8409765\ttotal: 1.34s\tremaining: 7.1s\n",
      "484:\tlearn: 5559935.9418065\ttotal: 1.35s\tremaining: 7.1s\n",
      "485:\tlearn: 5558151.2037527\ttotal: 1.35s\tremaining: 7.1s\n",
      "486:\tlearn: 5557038.8846942\ttotal: 1.35s\tremaining: 7.09s\n",
      "487:\tlearn: 5555915.0780228\ttotal: 1.35s\tremaining: 7.09s\n",
      "488:\tlearn: 5553668.3396424\ttotal: 1.36s\tremaining: 7.09s\n",
      "489:\tlearn: 5553453.9563755\ttotal: 1.36s\tremaining: 7.09s\n",
      "490:\tlearn: 5551302.0751131\ttotal: 1.36s\tremaining: 7.09s\n",
      "491:\tlearn: 5549978.0947613\ttotal: 1.37s\tremaining: 7.09s\n",
      "492:\tlearn: 5549016.2615275\ttotal: 1.37s\tremaining: 7.09s\n",
      "493:\tlearn: 5548333.4634552\ttotal: 1.37s\tremaining: 7.08s\n",
      "494:\tlearn: 5546020.4682249\ttotal: 1.38s\tremaining: 7.08s\n",
      "495:\tlearn: 5544269.5607633\ttotal: 1.38s\tremaining: 7.08s\n",
      "496:\tlearn: 5543693.2458329\ttotal: 1.38s\tremaining: 7.07s\n",
      "497:\tlearn: 5542245.0441218\ttotal: 1.39s\tremaining: 7.07s\n",
      "498:\tlearn: 5540622.7126589\ttotal: 1.39s\tremaining: 7.07s\n",
      "499:\tlearn: 5538401.8011870\ttotal: 1.39s\tremaining: 7.07s\n",
      "500:\tlearn: 5536339.8161204\ttotal: 1.39s\tremaining: 7.07s\n",
      "501:\tlearn: 5535472.8373989\ttotal: 1.4s\tremaining: 7.07s\n",
      "502:\tlearn: 5534357.8751281\ttotal: 1.4s\tremaining: 7.06s\n",
      "503:\tlearn: 5532716.1546093\ttotal: 1.4s\tremaining: 7.06s\n",
      "504:\tlearn: 5529727.7779764\ttotal: 1.41s\tremaining: 7.07s\n",
      "505:\tlearn: 5528191.2863498\ttotal: 1.41s\tremaining: 7.06s\n",
      "506:\tlearn: 5527077.2022932\ttotal: 1.41s\tremaining: 7.06s\n",
      "507:\tlearn: 5525332.5427545\ttotal: 1.42s\tremaining: 7.06s\n",
      "508:\tlearn: 5522484.1397131\ttotal: 1.42s\tremaining: 7.06s\n",
      "509:\tlearn: 5520585.6198499\ttotal: 1.42s\tremaining: 7.06s\n",
      "510:\tlearn: 5518143.2615950\ttotal: 1.42s\tremaining: 7.05s\n",
      "511:\tlearn: 5516085.0120562\ttotal: 1.43s\tremaining: 7.05s\n",
      "512:\tlearn: 5514543.3633081\ttotal: 1.43s\tremaining: 7.04s\n",
      "513:\tlearn: 5513184.1906491\ttotal: 1.43s\tremaining: 7.04s\n",
      "514:\tlearn: 5510966.1748061\ttotal: 1.43s\tremaining: 7.04s\n",
      "515:\tlearn: 5509165.1981642\ttotal: 1.44s\tremaining: 7.03s\n",
      "516:\tlearn: 5507728.0287746\ttotal: 1.44s\tremaining: 7.03s\n",
      "517:\tlearn: 5504895.8554676\ttotal: 1.44s\tremaining: 7.03s\n",
      "518:\tlearn: 5503218.0986323\ttotal: 1.45s\tremaining: 7.03s\n",
      "519:\tlearn: 5501515.0490066\ttotal: 1.45s\tremaining: 7.02s\n",
      "520:\tlearn: 5500086.4087266\ttotal: 1.45s\tremaining: 7.02s\n",
      "521:\tlearn: 5498865.6916612\ttotal: 1.45s\tremaining: 7.01s\n",
      "522:\tlearn: 5497348.4282831\ttotal: 1.46s\tremaining: 7.01s\n",
      "523:\tlearn: 5496635.2153427\ttotal: 1.46s\tremaining: 7.01s\n",
      "524:\tlearn: 5495004.1824309\ttotal: 1.46s\tremaining: 7s\n",
      "525:\tlearn: 5492597.3040225\ttotal: 1.46s\tremaining: 7s\n",
      "526:\tlearn: 5491161.5501229\ttotal: 1.47s\tremaining: 7s\n",
      "527:\tlearn: 5489165.8200204\ttotal: 1.47s\tremaining: 6.99s\n",
      "528:\tlearn: 5488502.4360585\ttotal: 1.47s\tremaining: 6.99s\n",
      "529:\tlearn: 5486613.8964328\ttotal: 1.47s\tremaining: 6.99s\n",
      "530:\tlearn: 5485848.9284578\ttotal: 1.48s\tremaining: 6.98s\n",
      "531:\tlearn: 5484609.3311921\ttotal: 1.48s\tremaining: 6.98s\n",
      "532:\tlearn: 5482501.8221090\ttotal: 1.48s\tremaining: 6.98s\n",
      "533:\tlearn: 5481275.5333614\ttotal: 1.49s\tremaining: 6.98s\n",
      "534:\tlearn: 5480142.4456499\ttotal: 1.49s\tremaining: 6.98s\n",
      "535:\tlearn: 5479159.1100985\ttotal: 1.49s\tremaining: 6.97s\n",
      "536:\tlearn: 5477731.2093099\ttotal: 1.49s\tremaining: 6.97s\n",
      "537:\tlearn: 5475887.4175421\ttotal: 1.5s\tremaining: 6.96s\n",
      "538:\tlearn: 5475200.8174557\ttotal: 1.5s\tremaining: 6.96s\n",
      "539:\tlearn: 5474047.8397340\ttotal: 1.5s\tremaining: 6.96s\n",
      "540:\tlearn: 5472531.8965319\ttotal: 1.5s\tremaining: 6.95s\n",
      "541:\tlearn: 5471455.8105272\ttotal: 1.51s\tremaining: 6.95s\n",
      "542:\tlearn: 5470380.0153253\ttotal: 1.51s\tremaining: 6.95s\n",
      "543:\tlearn: 5469601.4017509\ttotal: 1.51s\tremaining: 6.95s\n",
      "544:\tlearn: 5468921.4480861\ttotal: 1.52s\tremaining: 6.95s\n",
      "545:\tlearn: 5465983.3625115\ttotal: 1.52s\tremaining: 6.94s\n",
      "546:\tlearn: 5464256.8759929\ttotal: 1.52s\tremaining: 6.94s\n",
      "547:\tlearn: 5463233.7577856\ttotal: 1.52s\tremaining: 6.94s\n",
      "548:\tlearn: 5461214.0811373\ttotal: 1.53s\tremaining: 6.93s\n",
      "549:\tlearn: 5459643.9285864\ttotal: 1.53s\tremaining: 6.93s\n",
      "550:\tlearn: 5458281.0819073\ttotal: 1.53s\tremaining: 6.93s\n",
      "551:\tlearn: 5457631.1457192\ttotal: 1.53s\tremaining: 6.92s\n",
      "552:\tlearn: 5455560.9986634\ttotal: 1.54s\tremaining: 6.92s\n",
      "553:\tlearn: 5454824.0727214\ttotal: 1.54s\tremaining: 6.92s\n",
      "554:\tlearn: 5453797.9920627\ttotal: 1.54s\tremaining: 6.92s\n",
      "555:\tlearn: 5450793.9630928\ttotal: 1.55s\tremaining: 6.91s\n",
      "556:\tlearn: 5449134.9176309\ttotal: 1.55s\tremaining: 6.91s\n",
      "557:\tlearn: 5447644.4624734\ttotal: 1.55s\tremaining: 6.91s\n",
      "558:\tlearn: 5445087.0111915\ttotal: 1.55s\tremaining: 6.91s\n",
      "559:\tlearn: 5443679.8785003\ttotal: 1.56s\tremaining: 6.9s\n",
      "560:\tlearn: 5442017.2061980\ttotal: 1.56s\tremaining: 6.9s\n",
      "561:\tlearn: 5438747.5207559\ttotal: 1.56s\tremaining: 6.9s\n",
      "562:\tlearn: 5436796.3883243\ttotal: 1.57s\tremaining: 6.89s\n",
      "563:\tlearn: 5434476.1242764\ttotal: 1.57s\tremaining: 6.89s\n",
      "564:\tlearn: 5432865.9035452\ttotal: 1.57s\tremaining: 6.89s\n",
      "565:\tlearn: 5430860.2233455\ttotal: 1.57s\tremaining: 6.88s\n",
      "566:\tlearn: 5430217.3527968\ttotal: 1.58s\tremaining: 6.88s\n",
      "567:\tlearn: 5427784.5130709\ttotal: 1.58s\tremaining: 6.88s\n",
      "568:\tlearn: 5425140.9454951\ttotal: 1.58s\tremaining: 6.87s\n",
      "569:\tlearn: 5424522.8591599\ttotal: 1.58s\tremaining: 6.87s\n",
      "570:\tlearn: 5422882.7156210\ttotal: 1.59s\tremaining: 6.87s\n",
      "571:\tlearn: 5420711.7667132\ttotal: 1.59s\tremaining: 6.86s\n",
      "572:\tlearn: 5419791.9587183\ttotal: 1.59s\tremaining: 6.86s\n",
      "573:\tlearn: 5417261.7923228\ttotal: 1.59s\tremaining: 6.86s\n",
      "574:\tlearn: 5415985.4861726\ttotal: 1.6s\tremaining: 6.85s\n",
      "575:\tlearn: 5414772.3597538\ttotal: 1.6s\tremaining: 6.85s\n",
      "576:\tlearn: 5413822.7267468\ttotal: 1.6s\tremaining: 6.85s\n",
      "577:\tlearn: 5412693.2618240\ttotal: 1.6s\tremaining: 6.84s\n",
      "578:\tlearn: 5411631.3122971\ttotal: 1.61s\tremaining: 6.84s\n",
      "579:\tlearn: 5409994.9951056\ttotal: 1.61s\tremaining: 6.83s\n",
      "580:\tlearn: 5408693.0066518\ttotal: 1.61s\tremaining: 6.83s\n",
      "581:\tlearn: 5407557.3877395\ttotal: 1.62s\tremaining: 6.83s\n",
      "582:\tlearn: 5405593.7518909\ttotal: 1.62s\tremaining: 6.83s\n",
      "583:\tlearn: 5403372.1453446\ttotal: 1.62s\tremaining: 6.83s\n",
      "584:\tlearn: 5401851.3951697\ttotal: 1.63s\tremaining: 6.83s\n",
      "585:\tlearn: 5400419.8557844\ttotal: 1.63s\tremaining: 6.83s\n",
      "586:\tlearn: 5399578.9510834\ttotal: 1.64s\tremaining: 6.83s\n",
      "587:\tlearn: 5397358.7256027\ttotal: 1.64s\tremaining: 6.83s\n",
      "588:\tlearn: 5395048.6625011\ttotal: 1.64s\tremaining: 6.83s\n",
      "589:\tlearn: 5393269.9840192\ttotal: 1.64s\tremaining: 6.83s\n",
      "590:\tlearn: 5391264.2497611\ttotal: 1.65s\tremaining: 6.82s\n",
      "591:\tlearn: 5389231.0965603\ttotal: 1.65s\tremaining: 6.82s\n",
      "592:\tlearn: 5387937.9549432\ttotal: 1.65s\tremaining: 6.82s\n",
      "593:\tlearn: 5385837.0629015\ttotal: 1.65s\tremaining: 6.81s\n",
      "594:\tlearn: 5385015.0227774\ttotal: 1.66s\tremaining: 6.81s\n",
      "595:\tlearn: 5383711.8215317\ttotal: 1.66s\tremaining: 6.81s\n",
      "596:\tlearn: 5382800.6490082\ttotal: 1.66s\tremaining: 6.8s\n",
      "597:\tlearn: 5381320.6349268\ttotal: 1.67s\tremaining: 6.8s\n",
      "598:\tlearn: 5379665.1979491\ttotal: 1.67s\tremaining: 6.8s\n",
      "599:\tlearn: 5379038.0037033\ttotal: 1.67s\tremaining: 6.79s\n",
      "600:\tlearn: 5377847.5468002\ttotal: 1.67s\tremaining: 6.79s\n",
      "601:\tlearn: 5376870.1179218\ttotal: 1.67s\tremaining: 6.79s\n",
      "602:\tlearn: 5375755.1668593\ttotal: 1.68s\tremaining: 6.78s\n",
      "603:\tlearn: 5374645.6879993\ttotal: 1.68s\tremaining: 6.78s\n",
      "604:\tlearn: 5373492.4368340\ttotal: 1.68s\tremaining: 6.78s\n",
      "605:\tlearn: 5372111.2904402\ttotal: 1.69s\tremaining: 6.78s\n",
      "606:\tlearn: 5370838.7287589\ttotal: 1.69s\tremaining: 6.77s\n",
      "607:\tlearn: 5368253.5082420\ttotal: 1.69s\tremaining: 6.77s\n",
      "608:\tlearn: 5366776.6688953\ttotal: 1.69s\tremaining: 6.77s\n",
      "609:\tlearn: 5364817.9738749\ttotal: 1.7s\tremaining: 6.76s\n",
      "610:\tlearn: 5362646.6920681\ttotal: 1.7s\tremaining: 6.76s\n",
      "611:\tlearn: 5360372.7806654\ttotal: 1.7s\tremaining: 6.76s\n",
      "612:\tlearn: 5357855.3624186\ttotal: 1.71s\tremaining: 6.76s\n",
      "613:\tlearn: 5356815.6564235\ttotal: 1.71s\tremaining: 6.75s\n",
      "614:\tlearn: 5355106.1319059\ttotal: 1.71s\tremaining: 6.75s\n",
      "615:\tlearn: 5353338.0321425\ttotal: 1.71s\tremaining: 6.75s\n",
      "616:\tlearn: 5352015.6054963\ttotal: 1.72s\tremaining: 6.75s\n",
      "617:\tlearn: 5351319.8111253\ttotal: 1.72s\tremaining: 6.74s\n",
      "618:\tlearn: 5349628.5812269\ttotal: 1.72s\tremaining: 6.74s\n",
      "619:\tlearn: 5348029.1677283\ttotal: 1.73s\tremaining: 6.74s\n",
      "620:\tlearn: 5346674.0288760\ttotal: 1.73s\tremaining: 6.73s\n",
      "621:\tlearn: 5345454.5988016\ttotal: 1.74s\tremaining: 6.75s\n",
      "622:\tlearn: 5344371.1276677\ttotal: 1.74s\tremaining: 6.75s\n",
      "623:\tlearn: 5342938.7115469\ttotal: 1.74s\tremaining: 6.75s\n",
      "624:\tlearn: 5341745.0093312\ttotal: 1.75s\tremaining: 6.75s\n",
      "625:\tlearn: 5340476.4876504\ttotal: 1.75s\tremaining: 6.75s\n",
      "626:\tlearn: 5338392.8470796\ttotal: 1.75s\tremaining: 6.74s\n",
      "627:\tlearn: 5336623.7751982\ttotal: 1.75s\tremaining: 6.74s\n",
      "628:\tlearn: 5335521.2060444\ttotal: 1.76s\tremaining: 6.74s\n",
      "629:\tlearn: 5333858.9854836\ttotal: 1.76s\tremaining: 6.73s\n",
      "630:\tlearn: 5332348.7194967\ttotal: 1.76s\tremaining: 6.73s\n",
      "631:\tlearn: 5330845.8449254\ttotal: 1.76s\tremaining: 6.73s\n",
      "632:\tlearn: 5329573.7389259\ttotal: 1.77s\tremaining: 6.72s\n",
      "633:\tlearn: 5327833.5219170\ttotal: 1.77s\tremaining: 6.72s\n",
      "634:\tlearn: 5326598.3484856\ttotal: 1.77s\tremaining: 6.72s\n",
      "635:\tlearn: 5325822.7607232\ttotal: 1.77s\tremaining: 6.71s\n",
      "636:\tlearn: 5324292.0118991\ttotal: 1.78s\tremaining: 6.71s\n",
      "637:\tlearn: 5323936.6485638\ttotal: 1.78s\tremaining: 6.71s\n",
      "638:\tlearn: 5322381.1194549\ttotal: 1.78s\tremaining: 6.71s\n",
      "639:\tlearn: 5321496.9532833\ttotal: 1.79s\tremaining: 6.71s\n",
      "640:\tlearn: 5320189.5272845\ttotal: 1.79s\tremaining: 6.7s\n",
      "641:\tlearn: 5318483.2699100\ttotal: 1.79s\tremaining: 6.7s\n",
      "642:\tlearn: 5316374.2044694\ttotal: 1.8s\tremaining: 6.7s\n",
      "643:\tlearn: 5315314.1482614\ttotal: 1.8s\tremaining: 6.7s\n",
      "644:\tlearn: 5314385.0896814\ttotal: 1.8s\tremaining: 6.69s\n",
      "645:\tlearn: 5312537.7829521\ttotal: 1.8s\tremaining: 6.69s\n",
      "646:\tlearn: 5310956.3779049\ttotal: 1.81s\tremaining: 6.68s\n",
      "647:\tlearn: 5309051.6276789\ttotal: 1.81s\tremaining: 6.68s\n",
      "648:\tlearn: 5306796.7761289\ttotal: 1.81s\tremaining: 6.68s\n",
      "649:\tlearn: 5305694.8267042\ttotal: 1.81s\tremaining: 6.68s\n",
      "650:\tlearn: 5304794.1124696\ttotal: 1.82s\tremaining: 6.68s\n",
      "651:\tlearn: 5303567.1510552\ttotal: 1.82s\tremaining: 6.67s\n",
      "652:\tlearn: 5302248.8853358\ttotal: 1.82s\tremaining: 6.67s\n",
      "653:\tlearn: 5300563.2744332\ttotal: 1.83s\tremaining: 6.67s\n",
      "654:\tlearn: 5299399.6255471\ttotal: 1.83s\tremaining: 6.66s\n",
      "655:\tlearn: 5297301.4483689\ttotal: 1.83s\tremaining: 6.66s\n",
      "656:\tlearn: 5296024.4707604\ttotal: 1.83s\tremaining: 6.66s\n",
      "657:\tlearn: 5294450.7632702\ttotal: 1.84s\tremaining: 6.65s\n",
      "658:\tlearn: 5292712.1034698\ttotal: 1.84s\tremaining: 6.65s\n",
      "659:\tlearn: 5290415.9655980\ttotal: 1.84s\tremaining: 6.65s\n",
      "660:\tlearn: 5288923.0648424\ttotal: 1.84s\tremaining: 6.65s\n",
      "661:\tlearn: 5288405.8835478\ttotal: 1.85s\tremaining: 6.64s\n",
      "662:\tlearn: 5287247.6161493\ttotal: 1.85s\tremaining: 6.64s\n",
      "663:\tlearn: 5285333.2898214\ttotal: 1.85s\tremaining: 6.64s\n",
      "664:\tlearn: 5284350.8846548\ttotal: 1.86s\tremaining: 6.64s\n",
      "665:\tlearn: 5283216.4789082\ttotal: 1.86s\tremaining: 6.64s\n",
      "666:\tlearn: 5282452.4929840\ttotal: 1.86s\tremaining: 6.63s\n",
      "667:\tlearn: 5281223.3196346\ttotal: 1.87s\tremaining: 6.63s\n",
      "668:\tlearn: 5279396.4965888\ttotal: 1.87s\tremaining: 6.63s\n",
      "669:\tlearn: 5277739.0191582\ttotal: 1.87s\tremaining: 6.63s\n",
      "670:\tlearn: 5276694.8967984\ttotal: 1.88s\tremaining: 6.62s\n",
      "671:\tlearn: 5275642.1808145\ttotal: 1.88s\tremaining: 6.62s\n",
      "672:\tlearn: 5273936.4563129\ttotal: 1.88s\tremaining: 6.62s\n",
      "673:\tlearn: 5272376.6690404\ttotal: 1.88s\tremaining: 6.62s\n",
      "674:\tlearn: 5270341.7131347\ttotal: 1.89s\tremaining: 6.61s\n",
      "675:\tlearn: 5268558.0776395\ttotal: 1.89s\tremaining: 6.61s\n",
      "676:\tlearn: 5266919.7347532\ttotal: 1.89s\tremaining: 6.61s\n",
      "677:\tlearn: 5265908.6614746\ttotal: 1.89s\tremaining: 6.6s\n",
      "678:\tlearn: 5264619.2146728\ttotal: 1.9s\tremaining: 6.6s\n",
      "679:\tlearn: 5263464.8095171\ttotal: 1.9s\tremaining: 6.6s\n",
      "680:\tlearn: 5262393.4077904\ttotal: 1.9s\tremaining: 6.6s\n",
      "681:\tlearn: 5260607.9007013\ttotal: 1.91s\tremaining: 6.59s\n",
      "682:\tlearn: 5259014.7444406\ttotal: 1.91s\tremaining: 6.59s\n",
      "683:\tlearn: 5258407.6399713\ttotal: 1.91s\tremaining: 6.59s\n",
      "684:\tlearn: 5256486.5910501\ttotal: 1.92s\tremaining: 6.59s\n",
      "685:\tlearn: 5255629.1191824\ttotal: 1.92s\tremaining: 6.59s\n",
      "686:\tlearn: 5253816.5540116\ttotal: 1.92s\tremaining: 6.59s\n",
      "687:\tlearn: 5252361.0799820\ttotal: 1.93s\tremaining: 6.58s\n",
      "688:\tlearn: 5250666.8794905\ttotal: 1.93s\tremaining: 6.59s\n",
      "689:\tlearn: 5248723.1203178\ttotal: 1.93s\tremaining: 6.58s\n",
      "690:\tlearn: 5247438.0279759\ttotal: 1.94s\tremaining: 6.58s\n",
      "691:\tlearn: 5246855.8492840\ttotal: 1.94s\tremaining: 6.58s\n",
      "692:\tlearn: 5245712.5008441\ttotal: 1.94s\tremaining: 6.58s\n",
      "693:\tlearn: 5244819.3863791\ttotal: 1.94s\tremaining: 6.57s\n",
      "694:\tlearn: 5242426.6387837\ttotal: 1.95s\tremaining: 6.57s\n",
      "695:\tlearn: 5241274.3687972\ttotal: 1.95s\tremaining: 6.57s\n",
      "696:\tlearn: 5239712.8597027\ttotal: 1.95s\tremaining: 6.57s\n",
      "697:\tlearn: 5238609.4797187\ttotal: 1.96s\tremaining: 6.57s\n",
      "698:\tlearn: 5236465.7781972\ttotal: 1.96s\tremaining: 6.56s\n",
      "699:\tlearn: 5234725.6323374\ttotal: 1.96s\tremaining: 6.57s\n",
      "700:\tlearn: 5232531.3440063\ttotal: 1.97s\tremaining: 6.57s\n",
      "701:\tlearn: 5230932.8840936\ttotal: 1.97s\tremaining: 6.57s\n",
      "702:\tlearn: 5229598.6831222\ttotal: 1.97s\tremaining: 6.56s\n",
      "703:\tlearn: 5228263.9339388\ttotal: 1.98s\tremaining: 6.56s\n",
      "704:\tlearn: 5227224.4948258\ttotal: 1.98s\tremaining: 6.56s\n",
      "705:\tlearn: 5225113.3252389\ttotal: 1.98s\tremaining: 6.56s\n",
      "706:\tlearn: 5223880.8293413\ttotal: 1.99s\tremaining: 6.55s\n",
      "707:\tlearn: 5222687.5888444\ttotal: 1.99s\tremaining: 6.55s\n",
      "708:\tlearn: 5221498.0839440\ttotal: 1.99s\tremaining: 6.55s\n",
      "709:\tlearn: 5220084.4500326\ttotal: 1.99s\tremaining: 6.55s\n",
      "710:\tlearn: 5218324.4781950\ttotal: 2s\tremaining: 6.54s\n",
      "711:\tlearn: 5217393.5889590\ttotal: 2s\tremaining: 6.54s\n",
      "712:\tlearn: 5216999.1984073\ttotal: 2s\tremaining: 6.54s\n",
      "713:\tlearn: 5215848.7913537\ttotal: 2s\tremaining: 6.54s\n",
      "714:\tlearn: 5214670.8752467\ttotal: 2.01s\tremaining: 6.54s\n",
      "715:\tlearn: 5214014.7950999\ttotal: 2.01s\tremaining: 6.53s\n",
      "716:\tlearn: 5212509.0775935\ttotal: 2.01s\tremaining: 6.53s\n",
      "717:\tlearn: 5209631.7299403\ttotal: 2.02s\tremaining: 6.53s\n",
      "718:\tlearn: 5208120.8263233\ttotal: 2.02s\tremaining: 6.52s\n",
      "719:\tlearn: 5206056.5560112\ttotal: 2.02s\tremaining: 6.52s\n",
      "720:\tlearn: 5205334.1778080\ttotal: 2.03s\tremaining: 6.52s\n",
      "721:\tlearn: 5203009.8566055\ttotal: 2.03s\tremaining: 6.52s\n",
      "722:\tlearn: 5202341.4911645\ttotal: 2.03s\tremaining: 6.51s\n",
      "723:\tlearn: 5201569.2642021\ttotal: 2.03s\tremaining: 6.51s\n",
      "724:\tlearn: 5200919.2129261\ttotal: 2.04s\tremaining: 6.51s\n",
      "725:\tlearn: 5198300.5153520\ttotal: 2.04s\tremaining: 6.51s\n",
      "726:\tlearn: 5196515.1713420\ttotal: 2.04s\tremaining: 6.5s\n",
      "727:\tlearn: 5194277.1126997\ttotal: 2.05s\tremaining: 6.5s\n",
      "728:\tlearn: 5193240.4093945\ttotal: 2.05s\tremaining: 6.5s\n",
      "729:\tlearn: 5192101.2248609\ttotal: 2.05s\tremaining: 6.5s\n",
      "730:\tlearn: 5190233.1505437\ttotal: 2.06s\tremaining: 6.5s\n",
      "731:\tlearn: 5188953.5185884\ttotal: 2.06s\tremaining: 6.5s\n",
      "732:\tlearn: 5187968.1890165\ttotal: 2.06s\tremaining: 6.5s\n",
      "733:\tlearn: 5187060.4478155\ttotal: 2.06s\tremaining: 6.49s\n",
      "734:\tlearn: 5185246.9599652\ttotal: 2.07s\tremaining: 6.49s\n",
      "735:\tlearn: 5183492.2312683\ttotal: 2.07s\tremaining: 6.49s\n",
      "736:\tlearn: 5182453.3244938\ttotal: 2.08s\tremaining: 6.49s\n",
      "737:\tlearn: 5181398.3406088\ttotal: 2.08s\tremaining: 6.49s\n",
      "738:\tlearn: 5179278.4014417\ttotal: 2.08s\tremaining: 6.49s\n",
      "739:\tlearn: 5178349.7172957\ttotal: 2.08s\tremaining: 6.48s\n",
      "740:\tlearn: 5177013.7294681\ttotal: 2.09s\tremaining: 6.49s\n",
      "741:\tlearn: 5176101.9755916\ttotal: 2.09s\tremaining: 6.48s\n",
      "742:\tlearn: 5174225.1276182\ttotal: 2.1s\tremaining: 6.48s\n",
      "743:\tlearn: 5172556.5172099\ttotal: 2.1s\tremaining: 6.48s\n",
      "744:\tlearn: 5171528.8687516\ttotal: 2.1s\tremaining: 6.47s\n",
      "745:\tlearn: 5170774.3766817\ttotal: 2.1s\tremaining: 6.47s\n",
      "746:\tlearn: 5168797.4172744\ttotal: 2.11s\tremaining: 6.47s\n",
      "747:\tlearn: 5167585.7262751\ttotal: 2.11s\tremaining: 6.47s\n",
      "748:\tlearn: 5166177.6360726\ttotal: 2.11s\tremaining: 6.47s\n",
      "749:\tlearn: 5165026.8983075\ttotal: 2.12s\tremaining: 6.46s\n",
      "750:\tlearn: 5163604.1909522\ttotal: 2.12s\tremaining: 6.46s\n",
      "751:\tlearn: 5161766.3780945\ttotal: 2.12s\tremaining: 6.46s\n",
      "752:\tlearn: 5159916.7896101\ttotal: 2.13s\tremaining: 6.46s\n",
      "753:\tlearn: 5158508.8679096\ttotal: 2.13s\tremaining: 6.46s\n",
      "754:\tlearn: 5157710.9283881\ttotal: 2.13s\tremaining: 6.45s\n",
      "755:\tlearn: 5156973.2589960\ttotal: 2.13s\tremaining: 6.45s\n",
      "756:\tlearn: 5155423.8971816\ttotal: 2.14s\tremaining: 6.45s\n",
      "757:\tlearn: 5154118.3041447\ttotal: 2.14s\tremaining: 6.45s\n",
      "758:\tlearn: 5152841.3670246\ttotal: 2.14s\tremaining: 6.44s\n",
      "759:\tlearn: 5151904.0054811\ttotal: 2.15s\tremaining: 6.44s\n",
      "760:\tlearn: 5150779.3955006\ttotal: 2.15s\tremaining: 6.44s\n",
      "761:\tlearn: 5149080.3046192\ttotal: 2.15s\tremaining: 6.44s\n",
      "762:\tlearn: 5147711.6964228\ttotal: 2.15s\tremaining: 6.44s\n",
      "763:\tlearn: 5145604.5250785\ttotal: 2.16s\tremaining: 6.43s\n",
      "764:\tlearn: 5144274.1567811\ttotal: 2.16s\tremaining: 6.43s\n",
      "765:\tlearn: 5143398.9923927\ttotal: 2.16s\tremaining: 6.43s\n",
      "766:\tlearn: 5141769.0183539\ttotal: 2.17s\tremaining: 6.43s\n",
      "767:\tlearn: 5139729.3597732\ttotal: 2.17s\tremaining: 6.42s\n",
      "768:\tlearn: 5138085.1979558\ttotal: 2.17s\tremaining: 6.42s\n",
      "769:\tlearn: 5136942.3726359\ttotal: 2.17s\tremaining: 6.42s\n",
      "770:\tlearn: 5135222.2130478\ttotal: 2.18s\tremaining: 6.41s\n",
      "771:\tlearn: 5135031.7682713\ttotal: 2.18s\tremaining: 6.41s\n",
      "772:\tlearn: 5133273.0936955\ttotal: 2.19s\tremaining: 6.41s\n",
      "773:\tlearn: 5132141.8745812\ttotal: 2.19s\tremaining: 6.41s\n",
      "774:\tlearn: 5131320.6878382\ttotal: 2.19s\tremaining: 6.41s\n",
      "775:\tlearn: 5130111.7929439\ttotal: 2.19s\tremaining: 6.41s\n",
      "776:\tlearn: 5127820.1630646\ttotal: 2.2s\tremaining: 6.4s\n",
      "777:\tlearn: 5126407.4180559\ttotal: 2.2s\tremaining: 6.4s\n",
      "778:\tlearn: 5125086.4319237\ttotal: 2.2s\tremaining: 6.4s\n",
      "779:\tlearn: 5123576.4033725\ttotal: 2.21s\tremaining: 6.39s\n",
      "780:\tlearn: 5122591.9070577\ttotal: 2.21s\tremaining: 6.39s\n",
      "781:\tlearn: 5121597.8104641\ttotal: 2.21s\tremaining: 6.39s\n",
      "782:\tlearn: 5119440.2348884\ttotal: 2.21s\tremaining: 6.38s\n",
      "783:\tlearn: 5117702.5453916\ttotal: 2.22s\tremaining: 6.38s\n",
      "784:\tlearn: 5116239.6771653\ttotal: 2.22s\tremaining: 6.38s\n",
      "785:\tlearn: 5115953.0286362\ttotal: 2.22s\tremaining: 6.38s\n",
      "786:\tlearn: 5113955.8106027\ttotal: 2.22s\tremaining: 6.37s\n",
      "787:\tlearn: 5112899.2342722\ttotal: 2.23s\tremaining: 6.37s\n",
      "788:\tlearn: 5111749.8956813\ttotal: 2.23s\tremaining: 6.37s\n",
      "789:\tlearn: 5110444.5336694\ttotal: 2.23s\tremaining: 6.36s\n",
      "790:\tlearn: 5108626.7720290\ttotal: 2.24s\tremaining: 6.36s\n",
      "791:\tlearn: 5106974.2226592\ttotal: 2.24s\tremaining: 6.36s\n",
      "792:\tlearn: 5104802.2035814\ttotal: 2.24s\tremaining: 6.36s\n",
      "793:\tlearn: 5103592.9660108\ttotal: 2.25s\tremaining: 6.35s\n",
      "794:\tlearn: 5102251.8492409\ttotal: 2.25s\tremaining: 6.35s\n",
      "795:\tlearn: 5100484.3098762\ttotal: 2.25s\tremaining: 6.35s\n",
      "796:\tlearn: 5099224.2793284\ttotal: 2.25s\tremaining: 6.34s\n",
      "797:\tlearn: 5097954.6855969\ttotal: 2.26s\tremaining: 6.34s\n",
      "798:\tlearn: 5095988.7356671\ttotal: 2.26s\tremaining: 6.34s\n",
      "799:\tlearn: 5094745.7711295\ttotal: 2.26s\tremaining: 6.33s\n",
      "800:\tlearn: 5093049.6085311\ttotal: 2.26s\tremaining: 6.33s\n",
      "801:\tlearn: 5092611.1470589\ttotal: 2.27s\tremaining: 6.33s\n",
      "802:\tlearn: 5091238.9409742\ttotal: 2.27s\tremaining: 6.33s\n",
      "803:\tlearn: 5090142.6929816\ttotal: 2.27s\tremaining: 6.33s\n",
      "804:\tlearn: 5089151.8732628\ttotal: 2.27s\tremaining: 6.32s\n",
      "805:\tlearn: 5087410.2823709\ttotal: 2.28s\tremaining: 6.32s\n",
      "806:\tlearn: 5086104.8340181\ttotal: 2.28s\tremaining: 6.31s\n",
      "807:\tlearn: 5085377.3634934\ttotal: 2.28s\tremaining: 6.31s\n",
      "808:\tlearn: 5084288.4750718\ttotal: 2.29s\tremaining: 6.31s\n",
      "809:\tlearn: 5083352.3465604\ttotal: 2.29s\tremaining: 6.31s\n",
      "810:\tlearn: 5081810.7701198\ttotal: 2.29s\tremaining: 6.3s\n",
      "811:\tlearn: 5079943.8214025\ttotal: 2.29s\tremaining: 6.3s\n",
      "812:\tlearn: 5078545.3942503\ttotal: 2.3s\tremaining: 6.3s\n",
      "813:\tlearn: 5077305.9701974\ttotal: 2.3s\tremaining: 6.29s\n",
      "814:\tlearn: 5075657.6332324\ttotal: 2.3s\tremaining: 6.29s\n",
      "815:\tlearn: 5074915.4307314\ttotal: 2.31s\tremaining: 6.29s\n",
      "816:\tlearn: 5074026.5000450\ttotal: 2.31s\tremaining: 6.29s\n",
      "817:\tlearn: 5072632.4223109\ttotal: 2.31s\tremaining: 6.29s\n",
      "818:\tlearn: 5071371.0676614\ttotal: 2.31s\tremaining: 6.28s\n",
      "819:\tlearn: 5070535.7365544\ttotal: 2.32s\tremaining: 6.28s\n",
      "820:\tlearn: 5070122.3731312\ttotal: 2.32s\tremaining: 6.28s\n",
      "821:\tlearn: 5068597.0146119\ttotal: 2.32s\tremaining: 6.27s\n",
      "822:\tlearn: 5067851.6217058\ttotal: 2.33s\tremaining: 6.27s\n",
      "823:\tlearn: 5066669.8780192\ttotal: 2.33s\tremaining: 6.27s\n",
      "824:\tlearn: 5066205.2401166\ttotal: 2.33s\tremaining: 6.26s\n",
      "825:\tlearn: 5064747.4807105\ttotal: 2.33s\tremaining: 6.26s\n",
      "826:\tlearn: 5063380.0995105\ttotal: 2.34s\tremaining: 6.26s\n",
      "827:\tlearn: 5062234.5456147\ttotal: 2.34s\tremaining: 6.25s\n",
      "828:\tlearn: 5061351.9755860\ttotal: 2.34s\tremaining: 6.25s\n",
      "829:\tlearn: 5059495.6699136\ttotal: 2.35s\tremaining: 6.25s\n",
      "830:\tlearn: 5058513.2213593\ttotal: 2.35s\tremaining: 6.25s\n",
      "831:\tlearn: 5057623.8489063\ttotal: 2.35s\tremaining: 6.24s\n",
      "832:\tlearn: 5056496.6457081\ttotal: 2.35s\tremaining: 6.24s\n",
      "833:\tlearn: 5054693.4082754\ttotal: 2.36s\tremaining: 6.24s\n",
      "834:\tlearn: 5053359.6013138\ttotal: 2.36s\tremaining: 6.23s\n",
      "835:\tlearn: 5052456.3692199\ttotal: 2.36s\tremaining: 6.23s\n",
      "836:\tlearn: 5051354.3221656\ttotal: 2.37s\tremaining: 6.23s\n",
      "837:\tlearn: 5050421.8946794\ttotal: 2.37s\tremaining: 6.23s\n",
      "838:\tlearn: 5048575.9165975\ttotal: 2.37s\tremaining: 6.22s\n",
      "839:\tlearn: 5048011.2711755\ttotal: 2.37s\tremaining: 6.22s\n",
      "840:\tlearn: 5047079.3162220\ttotal: 2.38s\tremaining: 6.22s\n",
      "841:\tlearn: 5045734.0520973\ttotal: 2.38s\tremaining: 6.22s\n",
      "842:\tlearn: 5044658.6722534\ttotal: 2.38s\tremaining: 6.21s\n",
      "843:\tlearn: 5043989.7747912\ttotal: 2.39s\tremaining: 6.21s\n",
      "844:\tlearn: 5042901.7644259\ttotal: 2.39s\tremaining: 6.21s\n",
      "845:\tlearn: 5041286.6615383\ttotal: 2.39s\tremaining: 6.21s\n",
      "846:\tlearn: 5039501.0445144\ttotal: 2.4s\tremaining: 6.2s\n",
      "847:\tlearn: 5038341.4574141\ttotal: 2.4s\tremaining: 6.2s\n",
      "848:\tlearn: 5036970.9536739\ttotal: 2.4s\tremaining: 6.2s\n",
      "849:\tlearn: 5036189.7558095\ttotal: 2.4s\tremaining: 6.2s\n",
      "850:\tlearn: 5034373.8526404\ttotal: 2.41s\tremaining: 6.19s\n",
      "851:\tlearn: 5033358.1069633\ttotal: 2.41s\tremaining: 6.19s\n",
      "852:\tlearn: 5032677.0023132\ttotal: 2.41s\tremaining: 6.19s\n",
      "853:\tlearn: 5031454.1893213\ttotal: 2.41s\tremaining: 6.18s\n",
      "854:\tlearn: 5030883.0963694\ttotal: 2.42s\tremaining: 6.18s\n",
      "855:\tlearn: 5029861.9146608\ttotal: 2.42s\tremaining: 6.18s\n",
      "856:\tlearn: 5028888.3327477\ttotal: 2.42s\tremaining: 6.18s\n",
      "857:\tlearn: 5027848.7103579\ttotal: 2.43s\tremaining: 6.17s\n",
      "858:\tlearn: 5025916.8225125\ttotal: 2.43s\tremaining: 6.17s\n",
      "859:\tlearn: 5024356.8405025\ttotal: 2.43s\tremaining: 6.17s\n",
      "860:\tlearn: 5023125.9813958\ttotal: 2.44s\tremaining: 6.17s\n",
      "861:\tlearn: 5021891.8317254\ttotal: 2.44s\tremaining: 6.16s\n",
      "862:\tlearn: 5020623.4217144\ttotal: 2.44s\tremaining: 6.16s\n",
      "863:\tlearn: 5018532.9301717\ttotal: 2.44s\tremaining: 6.16s\n",
      "864:\tlearn: 5018219.5959022\ttotal: 2.45s\tremaining: 6.15s\n",
      "865:\tlearn: 5017237.3289831\ttotal: 2.45s\tremaining: 6.15s\n",
      "866:\tlearn: 5015986.3375636\ttotal: 2.45s\tremaining: 6.15s\n",
      "867:\tlearn: 5015455.8946832\ttotal: 2.45s\tremaining: 6.14s\n",
      "868:\tlearn: 5013742.5538043\ttotal: 2.46s\tremaining: 6.14s\n",
      "869:\tlearn: 5012376.4498228\ttotal: 2.46s\tremaining: 6.14s\n",
      "870:\tlearn: 5011378.1562938\ttotal: 2.46s\tremaining: 6.14s\n",
      "871:\tlearn: 5010585.2094584\ttotal: 2.47s\tremaining: 6.13s\n",
      "872:\tlearn: 5009121.9609557\ttotal: 2.47s\tremaining: 6.13s\n",
      "873:\tlearn: 5008264.5286648\ttotal: 2.47s\tremaining: 6.13s\n",
      "874:\tlearn: 5007346.2252114\ttotal: 2.47s\tremaining: 6.12s\n",
      "875:\tlearn: 5006565.3619279\ttotal: 2.48s\tremaining: 6.12s\n",
      "876:\tlearn: 5004808.7436007\ttotal: 2.48s\tremaining: 6.12s\n",
      "877:\tlearn: 5003698.9475829\ttotal: 2.48s\tremaining: 6.11s\n",
      "878:\tlearn: 5002249.0291805\ttotal: 2.48s\tremaining: 6.11s\n",
      "879:\tlearn: 5000714.1030590\ttotal: 2.49s\tremaining: 6.11s\n",
      "880:\tlearn: 4999315.0628065\ttotal: 2.49s\tremaining: 6.11s\n",
      "881:\tlearn: 4998759.1256205\ttotal: 2.49s\tremaining: 6.1s\n",
      "882:\tlearn: 4997995.1361877\ttotal: 2.5s\tremaining: 6.1s\n",
      "883:\tlearn: 4996987.0724204\ttotal: 2.5s\tremaining: 6.09s\n",
      "884:\tlearn: 4995039.6757586\ttotal: 2.5s\tremaining: 6.09s\n",
      "885:\tlearn: 4993865.1944128\ttotal: 2.5s\tremaining: 6.09s\n",
      "886:\tlearn: 4992806.2947347\ttotal: 2.51s\tremaining: 6.09s\n",
      "887:\tlearn: 4991473.4845404\ttotal: 2.51s\tremaining: 6.08s\n",
      "888:\tlearn: 4990560.2328252\ttotal: 2.51s\tremaining: 6.08s\n",
      "889:\tlearn: 4990025.3092045\ttotal: 2.51s\tremaining: 6.08s\n",
      "890:\tlearn: 4989004.1675851\ttotal: 2.52s\tremaining: 6.07s\n",
      "891:\tlearn: 4987708.5912777\ttotal: 2.52s\tremaining: 6.07s\n",
      "892:\tlearn: 4986751.8095226\ttotal: 2.52s\tremaining: 6.07s\n",
      "893:\tlearn: 4985736.3152030\ttotal: 2.52s\tremaining: 6.06s\n",
      "894:\tlearn: 4984938.9167222\ttotal: 2.53s\tremaining: 6.06s\n",
      "895:\tlearn: 4983939.3103793\ttotal: 2.53s\tremaining: 6.06s\n",
      "896:\tlearn: 4983294.9284671\ttotal: 2.53s\tremaining: 6.05s\n",
      "897:\tlearn: 4981840.3605773\ttotal: 2.54s\tremaining: 6.05s\n",
      "898:\tlearn: 4980971.0018853\ttotal: 2.54s\tremaining: 6.05s\n",
      "899:\tlearn: 4979826.6805600\ttotal: 2.54s\tremaining: 6.05s\n",
      "900:\tlearn: 4978782.8220625\ttotal: 2.54s\tremaining: 6.04s\n",
      "901:\tlearn: 4977445.3718762\ttotal: 2.55s\tremaining: 6.04s\n",
      "902:\tlearn: 4976645.1159176\ttotal: 2.55s\tremaining: 6.04s\n",
      "903:\tlearn: 4975410.4637628\ttotal: 2.55s\tremaining: 6.03s\n",
      "904:\tlearn: 4973929.1986732\ttotal: 2.56s\tremaining: 6.03s\n",
      "905:\tlearn: 4972911.4780376\ttotal: 2.56s\tremaining: 6.03s\n",
      "906:\tlearn: 4971804.6688522\ttotal: 2.56s\tremaining: 6.03s\n",
      "907:\tlearn: 4970804.1000663\ttotal: 2.56s\tremaining: 6.02s\n",
      "908:\tlearn: 4969446.4268531\ttotal: 2.57s\tremaining: 6.02s\n",
      "909:\tlearn: 4968206.2160372\ttotal: 2.57s\tremaining: 6.01s\n",
      "910:\tlearn: 4967443.6426381\ttotal: 2.57s\tremaining: 6.01s\n",
      "911:\tlearn: 4966214.8686189\ttotal: 2.57s\tremaining: 6.01s\n",
      "912:\tlearn: 4964883.7404918\ttotal: 2.58s\tremaining: 6.01s\n",
      "913:\tlearn: 4964042.3433093\ttotal: 2.58s\tremaining: 6s\n",
      "914:\tlearn: 4962986.8718967\ttotal: 2.58s\tremaining: 6s\n",
      "915:\tlearn: 4961654.0620498\ttotal: 2.58s\tremaining: 6s\n",
      "916:\tlearn: 4960002.8909730\ttotal: 2.59s\tremaining: 5.99s\n",
      "917:\tlearn: 4958513.7049581\ttotal: 2.59s\tremaining: 5.99s\n",
      "918:\tlearn: 4957588.3774825\ttotal: 2.59s\tremaining: 5.99s\n",
      "919:\tlearn: 4956232.5303580\ttotal: 2.6s\tremaining: 5.99s\n",
      "920:\tlearn: 4955520.3424960\ttotal: 2.6s\tremaining: 5.98s\n",
      "921:\tlearn: 4954808.6665369\ttotal: 2.6s\tremaining: 5.98s\n",
      "922:\tlearn: 4953611.9603612\ttotal: 2.6s\tremaining: 5.98s\n",
      "923:\tlearn: 4952463.8879073\ttotal: 2.61s\tremaining: 5.97s\n",
      "924:\tlearn: 4950881.2894386\ttotal: 2.61s\tremaining: 5.97s\n",
      "925:\tlearn: 4949622.0067918\ttotal: 2.61s\tremaining: 5.97s\n",
      "926:\tlearn: 4948933.7682674\ttotal: 2.62s\tremaining: 5.97s\n",
      "927:\tlearn: 4948521.0823027\ttotal: 2.62s\tremaining: 5.96s\n",
      "928:\tlearn: 4947143.5526316\ttotal: 2.62s\tremaining: 5.96s\n",
      "929:\tlearn: 4945713.7761165\ttotal: 2.62s\tremaining: 5.96s\n",
      "930:\tlearn: 4944767.6693350\ttotal: 2.63s\tremaining: 5.95s\n",
      "931:\tlearn: 4943297.6716220\ttotal: 2.63s\tremaining: 5.95s\n",
      "932:\tlearn: 4941961.2404113\ttotal: 2.63s\tremaining: 5.95s\n",
      "933:\tlearn: 4941100.7352611\ttotal: 2.63s\tremaining: 5.94s\n",
      "934:\tlearn: 4940299.7003438\ttotal: 2.64s\tremaining: 5.94s\n",
      "935:\tlearn: 4939550.1070969\ttotal: 2.64s\tremaining: 5.94s\n",
      "936:\tlearn: 4937090.5925153\ttotal: 2.64s\tremaining: 5.93s\n",
      "937:\tlearn: 4936255.3591078\ttotal: 2.65s\tremaining: 5.93s\n",
      "938:\tlearn: 4935186.0383974\ttotal: 2.65s\tremaining: 5.93s\n",
      "939:\tlearn: 4933907.5111197\ttotal: 2.65s\tremaining: 5.93s\n",
      "940:\tlearn: 4932430.5473960\ttotal: 2.65s\tremaining: 5.92s\n",
      "941:\tlearn: 4931023.2966101\ttotal: 2.66s\tremaining: 5.92s\n",
      "942:\tlearn: 4929301.9911485\ttotal: 2.66s\tremaining: 5.92s\n",
      "943:\tlearn: 4928423.0733891\ttotal: 2.66s\tremaining: 5.92s\n",
      "944:\tlearn: 4927503.8828724\ttotal: 2.67s\tremaining: 5.91s\n",
      "945:\tlearn: 4925909.3857372\ttotal: 2.67s\tremaining: 5.91s\n",
      "946:\tlearn: 4925262.8433609\ttotal: 2.67s\tremaining: 5.91s\n",
      "947:\tlearn: 4924118.2966074\ttotal: 2.67s\tremaining: 5.9s\n",
      "948:\tlearn: 4922308.1407258\ttotal: 2.68s\tremaining: 5.9s\n",
      "949:\tlearn: 4920745.0128213\ttotal: 2.68s\tremaining: 5.9s\n",
      "950:\tlearn: 4919566.6276410\ttotal: 2.68s\tremaining: 5.89s\n",
      "951:\tlearn: 4918413.3886686\ttotal: 2.68s\tremaining: 5.89s\n",
      "952:\tlearn: 4916984.9757275\ttotal: 2.69s\tremaining: 5.89s\n",
      "953:\tlearn: 4916300.8568105\ttotal: 2.69s\tremaining: 5.88s\n",
      "954:\tlearn: 4915658.5624087\ttotal: 2.69s\tremaining: 5.88s\n",
      "955:\tlearn: 4914918.8629015\ttotal: 2.69s\tremaining: 5.88s\n",
      "956:\tlearn: 4914145.5017220\ttotal: 2.7s\tremaining: 5.88s\n",
      "957:\tlearn: 4912796.2401051\ttotal: 2.7s\tremaining: 5.87s\n",
      "958:\tlearn: 4911889.0841683\ttotal: 2.7s\tremaining: 5.87s\n",
      "959:\tlearn: 4911216.6416335\ttotal: 2.71s\tremaining: 5.87s\n",
      "960:\tlearn: 4910310.6841095\ttotal: 2.71s\tremaining: 5.86s\n",
      "961:\tlearn: 4909204.7839313\ttotal: 2.71s\tremaining: 5.86s\n",
      "962:\tlearn: 4908204.3829970\ttotal: 2.71s\tremaining: 5.86s\n",
      "963:\tlearn: 4906605.8145784\ttotal: 2.72s\tremaining: 5.85s\n",
      "964:\tlearn: 4905783.4291693\ttotal: 2.72s\tremaining: 5.85s\n",
      "965:\tlearn: 4904383.7862003\ttotal: 2.72s\tremaining: 5.85s\n",
      "966:\tlearn: 4902847.0305351\ttotal: 2.73s\tremaining: 5.84s\n",
      "967:\tlearn: 4902133.8335146\ttotal: 2.73s\tremaining: 5.84s\n",
      "968:\tlearn: 4901170.9138082\ttotal: 2.73s\tremaining: 5.84s\n",
      "969:\tlearn: 4899807.0837699\ttotal: 2.73s\tremaining: 5.83s\n",
      "970:\tlearn: 4898704.3250889\ttotal: 2.74s\tremaining: 5.83s\n",
      "971:\tlearn: 4898020.0591694\ttotal: 2.74s\tremaining: 5.83s\n",
      "972:\tlearn: 4897379.5355657\ttotal: 2.74s\tremaining: 5.83s\n",
      "973:\tlearn: 4896921.6861698\ttotal: 2.74s\tremaining: 5.82s\n",
      "974:\tlearn: 4896372.3129782\ttotal: 2.75s\tremaining: 5.82s\n",
      "975:\tlearn: 4895232.5511874\ttotal: 2.75s\tremaining: 5.82s\n",
      "976:\tlearn: 4894452.4198251\ttotal: 2.75s\tremaining: 5.81s\n",
      "977:\tlearn: 4893963.5897475\ttotal: 2.75s\tremaining: 5.81s\n",
      "978:\tlearn: 4892389.2682898\ttotal: 2.76s\tremaining: 5.81s\n",
      "979:\tlearn: 4891355.4809569\ttotal: 2.76s\tremaining: 5.8s\n",
      "980:\tlearn: 4890693.2008156\ttotal: 2.76s\tremaining: 5.8s\n",
      "981:\tlearn: 4889640.8959286\ttotal: 2.77s\tremaining: 5.8s\n",
      "982:\tlearn: 4887885.0314939\ttotal: 2.77s\tremaining: 5.8s\n",
      "983:\tlearn: 4886575.2178698\ttotal: 2.77s\tremaining: 5.79s\n",
      "984:\tlearn: 4885273.6454820\ttotal: 2.77s\tremaining: 5.79s\n",
      "985:\tlearn: 4884550.0081763\ttotal: 2.78s\tremaining: 5.79s\n",
      "986:\tlearn: 4884063.4343510\ttotal: 2.78s\tremaining: 5.79s\n",
      "987:\tlearn: 4882467.9174034\ttotal: 2.79s\tremaining: 5.79s\n",
      "988:\tlearn: 4881334.2214639\ttotal: 2.79s\tremaining: 5.78s\n",
      "989:\tlearn: 4879842.0800030\ttotal: 2.79s\tremaining: 5.78s\n",
      "990:\tlearn: 4878657.3573543\ttotal: 2.79s\tremaining: 5.78s\n",
      "991:\tlearn: 4878018.2549116\ttotal: 2.8s\tremaining: 5.78s\n",
      "992:\tlearn: 4876707.9359356\ttotal: 2.8s\tremaining: 5.77s\n",
      "993:\tlearn: 4876090.2580451\ttotal: 2.8s\tremaining: 5.77s\n",
      "994:\tlearn: 4875900.0365960\ttotal: 2.8s\tremaining: 5.77s\n",
      "995:\tlearn: 4874780.1963123\ttotal: 2.81s\tremaining: 5.76s\n",
      "996:\tlearn: 4873149.6686946\ttotal: 2.81s\tremaining: 5.76s\n",
      "997:\tlearn: 4872058.6719986\ttotal: 2.81s\tremaining: 5.76s\n",
      "998:\tlearn: 4870566.8717019\ttotal: 2.82s\tremaining: 5.76s\n",
      "999:\tlearn: 4869582.3753624\ttotal: 2.82s\tremaining: 5.75s\n",
      "1000:\tlearn: 4868273.3861275\ttotal: 2.82s\tremaining: 5.75s\n",
      "1001:\tlearn: 4867502.4404578\ttotal: 2.83s\tremaining: 5.75s\n",
      "1002:\tlearn: 4866338.5491240\ttotal: 2.84s\tremaining: 5.77s\n",
      "1003:\tlearn: 4865320.7657990\ttotal: 2.84s\tremaining: 5.76s\n",
      "1004:\tlearn: 4863961.4606286\ttotal: 2.84s\tremaining: 5.76s\n",
      "1005:\tlearn: 4863133.9016111\ttotal: 2.85s\tremaining: 5.76s\n",
      "1006:\tlearn: 4862193.0506020\ttotal: 2.85s\tremaining: 5.75s\n",
      "1007:\tlearn: 4861205.2434965\ttotal: 2.85s\tremaining: 5.75s\n",
      "1008:\tlearn: 4860371.8862950\ttotal: 2.85s\tremaining: 5.75s\n",
      "1009:\tlearn: 4859113.5915181\ttotal: 2.86s\tremaining: 5.75s\n",
      "1010:\tlearn: 4858591.7700206\ttotal: 2.86s\tremaining: 5.74s\n",
      "1011:\tlearn: 4857958.1420526\ttotal: 2.86s\tremaining: 5.74s\n",
      "1012:\tlearn: 4857292.8944360\ttotal: 2.86s\tremaining: 5.74s\n",
      "1013:\tlearn: 4856190.4888619\ttotal: 2.87s\tremaining: 5.73s\n",
      "1014:\tlearn: 4855165.6059806\ttotal: 2.87s\tremaining: 5.73s\n",
      "1015:\tlearn: 4854642.5279253\ttotal: 2.87s\tremaining: 5.72s\n",
      "1016:\tlearn: 4853219.1447563\ttotal: 2.88s\tremaining: 5.72s\n",
      "1017:\tlearn: 4852730.0870344\ttotal: 2.88s\tremaining: 5.72s\n",
      "1018:\tlearn: 4852085.4716984\ttotal: 2.88s\tremaining: 5.72s\n",
      "1019:\tlearn: 4851218.9089342\ttotal: 2.88s\tremaining: 5.71s\n",
      "1020:\tlearn: 4850550.5189472\ttotal: 2.89s\tremaining: 5.71s\n",
      "1021:\tlearn: 4849133.6508549\ttotal: 2.89s\tremaining: 5.71s\n",
      "1022:\tlearn: 4848252.5201663\ttotal: 2.89s\tremaining: 5.71s\n",
      "1023:\tlearn: 4847061.8021561\ttotal: 2.9s\tremaining: 5.7s\n",
      "1024:\tlearn: 4845405.1771190\ttotal: 2.9s\tremaining: 5.7s\n",
      "1025:\tlearn: 4844563.9887316\ttotal: 2.9s\tremaining: 5.7s\n",
      "1026:\tlearn: 4843440.0180878\ttotal: 2.9s\tremaining: 5.7s\n",
      "1027:\tlearn: 4842344.7032994\ttotal: 2.91s\tremaining: 5.69s\n",
      "1028:\tlearn: 4841522.6487853\ttotal: 2.91s\tremaining: 5.69s\n",
      "1029:\tlearn: 4840992.8648084\ttotal: 2.91s\tremaining: 5.68s\n",
      "1030:\tlearn: 4839876.5595155\ttotal: 2.91s\tremaining: 5.68s\n",
      "1031:\tlearn: 4838644.1445603\ttotal: 2.92s\tremaining: 5.68s\n",
      "1032:\tlearn: 4837502.5955848\ttotal: 2.92s\tremaining: 5.67s\n",
      "1033:\tlearn: 4835643.9398090\ttotal: 2.92s\tremaining: 5.67s\n",
      "1034:\tlearn: 4834479.7812681\ttotal: 2.92s\tremaining: 5.67s\n",
      "1035:\tlearn: 4834079.8589732\ttotal: 2.94s\tremaining: 5.69s\n",
      "1036:\tlearn: 4833285.1534331\ttotal: 2.94s\tremaining: 5.68s\n",
      "1037:\tlearn: 4832555.8775265\ttotal: 2.94s\tremaining: 5.68s\n",
      "1038:\tlearn: 4831901.9083688\ttotal: 2.95s\tremaining: 5.68s\n",
      "1039:\tlearn: 4830715.2675960\ttotal: 2.95s\tremaining: 5.67s\n",
      "1040:\tlearn: 4829878.0216822\ttotal: 2.95s\tremaining: 5.67s\n",
      "1041:\tlearn: 4829708.0027681\ttotal: 2.95s\tremaining: 5.67s\n",
      "1042:\tlearn: 4828653.6802753\ttotal: 2.96s\tremaining: 5.66s\n",
      "1043:\tlearn: 4828027.8893763\ttotal: 2.96s\tremaining: 5.66s\n",
      "1044:\tlearn: 4826402.4440403\ttotal: 2.96s\tremaining: 5.66s\n",
      "1045:\tlearn: 4825374.0238369\ttotal: 2.96s\tremaining: 5.65s\n",
      "1046:\tlearn: 4824761.3974506\ttotal: 2.97s\tremaining: 5.65s\n",
      "1047:\tlearn: 4823786.7338559\ttotal: 2.97s\tremaining: 5.65s\n",
      "1048:\tlearn: 4822605.4294330\ttotal: 2.97s\tremaining: 5.64s\n",
      "1049:\tlearn: 4822540.1919498\ttotal: 2.98s\tremaining: 5.64s\n",
      "1050:\tlearn: 4821792.1927279\ttotal: 2.98s\tremaining: 5.64s\n",
      "1051:\tlearn: 4820419.4053060\ttotal: 2.98s\tremaining: 5.63s\n",
      "1052:\tlearn: 4818956.9912902\ttotal: 2.98s\tremaining: 5.63s\n",
      "1053:\tlearn: 4817242.8705360\ttotal: 2.98s\tremaining: 5.63s\n",
      "1054:\tlearn: 4815906.6019182\ttotal: 2.99s\tremaining: 5.63s\n",
      "1055:\tlearn: 4814854.2805985\ttotal: 2.99s\tremaining: 5.62s\n",
      "1056:\tlearn: 4813932.5671549\ttotal: 2.99s\tremaining: 5.62s\n",
      "1057:\tlearn: 4812479.1347773\ttotal: 3s\tremaining: 5.62s\n",
      "1058:\tlearn: 4811432.2734613\ttotal: 3s\tremaining: 5.61s\n",
      "1059:\tlearn: 4810936.2211127\ttotal: 3s\tremaining: 5.61s\n",
      "1060:\tlearn: 4809845.5456790\ttotal: 3s\tremaining: 5.61s\n",
      "1061:\tlearn: 4808853.8352690\ttotal: 3.01s\tremaining: 5.61s\n",
      "1062:\tlearn: 4807981.5431022\ttotal: 3.01s\tremaining: 5.6s\n",
      "1063:\tlearn: 4807285.8906172\ttotal: 3.01s\tremaining: 5.6s\n",
      "1064:\tlearn: 4806640.1519070\ttotal: 3.02s\tremaining: 5.6s\n",
      "1065:\tlearn: 4806356.9771430\ttotal: 3.02s\tremaining: 5.59s\n",
      "1066:\tlearn: 4805816.8037693\ttotal: 3.02s\tremaining: 5.59s\n",
      "1067:\tlearn: 4804323.6032568\ttotal: 3.03s\tremaining: 5.59s\n",
      "1068:\tlearn: 4803029.4914040\ttotal: 3.03s\tremaining: 5.59s\n",
      "1069:\tlearn: 4802442.9364610\ttotal: 3.03s\tremaining: 5.58s\n",
      "1070:\tlearn: 4801686.1509019\ttotal: 3.03s\tremaining: 5.58s\n",
      "1071:\tlearn: 4800921.3848742\ttotal: 3.04s\tremaining: 5.58s\n",
      "1072:\tlearn: 4799884.6409440\ttotal: 3.04s\tremaining: 5.57s\n",
      "1073:\tlearn: 4799106.8496457\ttotal: 3.04s\tremaining: 5.57s\n",
      "1074:\tlearn: 4798618.5437894\ttotal: 3.04s\tremaining: 5.57s\n",
      "1075:\tlearn: 4797848.4229837\ttotal: 3.05s\tremaining: 5.56s\n",
      "1076:\tlearn: 4796531.6866293\ttotal: 3.05s\tremaining: 5.56s\n",
      "1077:\tlearn: 4795311.9511928\ttotal: 3.05s\tremaining: 5.56s\n",
      "1078:\tlearn: 4794593.9807326\ttotal: 3.05s\tremaining: 5.55s\n",
      "1079:\tlearn: 4793569.6094653\ttotal: 3.06s\tremaining: 5.55s\n",
      "1080:\tlearn: 4792279.8268681\ttotal: 3.06s\tremaining: 5.55s\n",
      "1081:\tlearn: 4790279.6227467\ttotal: 3.06s\tremaining: 5.54s\n",
      "1082:\tlearn: 4789936.8432309\ttotal: 3.06s\tremaining: 5.54s\n",
      "1083:\tlearn: 4789120.9235063\ttotal: 3.07s\tremaining: 5.54s\n",
      "1084:\tlearn: 4788156.0336358\ttotal: 3.07s\tremaining: 5.54s\n",
      "1085:\tlearn: 4786952.1220267\ttotal: 3.07s\tremaining: 5.53s\n",
      "1086:\tlearn: 4786118.5802371\ttotal: 3.08s\tremaining: 5.53s\n",
      "1087:\tlearn: 4785265.3738817\ttotal: 3.08s\tremaining: 5.53s\n",
      "1088:\tlearn: 4784445.7676616\ttotal: 3.08s\tremaining: 5.52s\n",
      "1089:\tlearn: 4783645.4385841\ttotal: 3.08s\tremaining: 5.52s\n",
      "1090:\tlearn: 4782922.8743638\ttotal: 3.09s\tremaining: 5.52s\n",
      "1091:\tlearn: 4781856.1582899\ttotal: 3.09s\tremaining: 5.51s\n",
      "1092:\tlearn: 4781036.1612102\ttotal: 3.09s\tremaining: 5.51s\n",
      "1093:\tlearn: 4780070.3843069\ttotal: 3.09s\tremaining: 5.51s\n",
      "1094:\tlearn: 4778818.5440456\ttotal: 3.1s\tremaining: 5.5s\n",
      "1095:\tlearn: 4778306.8730583\ttotal: 3.1s\tremaining: 5.5s\n",
      "1096:\tlearn: 4777167.8605337\ttotal: 3.1s\tremaining: 5.5s\n",
      "1097:\tlearn: 4776710.5875665\ttotal: 3.1s\tremaining: 5.49s\n",
      "1098:\tlearn: 4776017.4112719\ttotal: 3.11s\tremaining: 5.49s\n",
      "1099:\tlearn: 4775059.9125260\ttotal: 3.11s\tremaining: 5.49s\n",
      "1100:\tlearn: 4773889.4855390\ttotal: 3.11s\tremaining: 5.49s\n",
      "1101:\tlearn: 4772684.6103514\ttotal: 3.12s\tremaining: 5.48s\n",
      "1102:\tlearn: 4771679.5384310\ttotal: 3.12s\tremaining: 5.48s\n",
      "1103:\tlearn: 4770582.4813083\ttotal: 3.12s\tremaining: 5.48s\n",
      "1104:\tlearn: 4769092.6890312\ttotal: 3.12s\tremaining: 5.47s\n",
      "1105:\tlearn: 4768222.5811642\ttotal: 3.13s\tremaining: 5.47s\n",
      "1106:\tlearn: 4767092.6242400\ttotal: 3.13s\tremaining: 5.47s\n",
      "1107:\tlearn: 4766367.2648653\ttotal: 3.13s\tremaining: 5.46s\n",
      "1108:\tlearn: 4765873.1524797\ttotal: 3.13s\tremaining: 5.46s\n",
      "1109:\tlearn: 4765631.7680547\ttotal: 3.14s\tremaining: 5.46s\n",
      "1110:\tlearn: 4764822.8613160\ttotal: 3.14s\tremaining: 5.46s\n",
      "1111:\tlearn: 4764261.5338788\ttotal: 3.14s\tremaining: 5.45s\n",
      "1112:\tlearn: 4763499.8118072\ttotal: 3.15s\tremaining: 5.45s\n",
      "1113:\tlearn: 4762136.8348575\ttotal: 3.15s\tremaining: 5.45s\n",
      "1114:\tlearn: 4761412.3234371\ttotal: 3.15s\tremaining: 5.44s\n",
      "1115:\tlearn: 4759851.2531624\ttotal: 3.15s\tremaining: 5.44s\n",
      "1116:\tlearn: 4758915.9966934\ttotal: 3.16s\tremaining: 5.44s\n",
      "1117:\tlearn: 4757887.1598857\ttotal: 3.16s\tremaining: 5.43s\n",
      "1118:\tlearn: 4756734.1423512\ttotal: 3.16s\tremaining: 5.43s\n",
      "1119:\tlearn: 4755474.5447229\ttotal: 3.17s\tremaining: 5.43s\n",
      "1120:\tlearn: 4754458.0631778\ttotal: 3.17s\tremaining: 5.42s\n",
      "1121:\tlearn: 4753804.6720769\ttotal: 3.17s\tremaining: 5.42s\n",
      "1122:\tlearn: 4753558.1663016\ttotal: 3.17s\tremaining: 5.42s\n",
      "1123:\tlearn: 4752880.8228347\ttotal: 3.17s\tremaining: 5.42s\n",
      "1124:\tlearn: 4752072.3670659\ttotal: 3.18s\tremaining: 5.41s\n",
      "1125:\tlearn: 4750938.5151767\ttotal: 3.18s\tremaining: 5.41s\n",
      "1126:\tlearn: 4749718.7524903\ttotal: 3.18s\tremaining: 5.41s\n",
      "1127:\tlearn: 4748714.2725197\ttotal: 3.19s\tremaining: 5.4s\n",
      "1128:\tlearn: 4747043.7928164\ttotal: 3.19s\tremaining: 5.4s\n",
      "1129:\tlearn: 4745833.8571337\ttotal: 3.19s\tremaining: 5.4s\n",
      "1130:\tlearn: 4744862.6720996\ttotal: 3.19s\tremaining: 5.39s\n",
      "1131:\tlearn: 4744594.2986365\ttotal: 3.2s\tremaining: 5.39s\n",
      "1132:\tlearn: 4744068.2909038\ttotal: 3.2s\tremaining: 5.39s\n",
      "1133:\tlearn: 4743242.3343671\ttotal: 3.2s\tremaining: 5.38s\n",
      "1134:\tlearn: 4742502.3923419\ttotal: 3.21s\tremaining: 5.38s\n",
      "1135:\tlearn: 4741933.3478801\ttotal: 3.21s\tremaining: 5.38s\n",
      "1136:\tlearn: 4741182.1245252\ttotal: 3.21s\tremaining: 5.38s\n",
      "1137:\tlearn: 4740825.4942870\ttotal: 3.21s\tremaining: 5.37s\n",
      "1138:\tlearn: 4739684.4794460\ttotal: 3.22s\tremaining: 5.37s\n",
      "1139:\tlearn: 4738662.3953377\ttotal: 3.22s\tremaining: 5.37s\n",
      "1140:\tlearn: 4737658.2084691\ttotal: 3.22s\tremaining: 5.37s\n",
      "1141:\tlearn: 4736392.6689275\ttotal: 3.22s\tremaining: 5.36s\n",
      "1142:\tlearn: 4735155.6095534\ttotal: 3.23s\tremaining: 5.36s\n",
      "1143:\tlearn: 4734693.1225642\ttotal: 3.23s\tremaining: 5.35s\n",
      "1144:\tlearn: 4734125.9081741\ttotal: 3.23s\tremaining: 5.35s\n",
      "1145:\tlearn: 4733371.4888768\ttotal: 3.23s\tremaining: 5.35s\n",
      "1146:\tlearn: 4732770.0305426\ttotal: 3.24s\tremaining: 5.34s\n",
      "1147:\tlearn: 4731942.0969114\ttotal: 3.24s\tremaining: 5.34s\n",
      "1148:\tlearn: 4730341.2751022\ttotal: 3.24s\tremaining: 5.34s\n",
      "1149:\tlearn: 4729865.4772869\ttotal: 3.25s\tremaining: 5.34s\n",
      "1150:\tlearn: 4728703.0798142\ttotal: 3.25s\tremaining: 5.33s\n",
      "1151:\tlearn: 4727704.2824580\ttotal: 3.25s\tremaining: 5.33s\n",
      "1152:\tlearn: 4726854.3634491\ttotal: 3.25s\tremaining: 5.33s\n",
      "1153:\tlearn: 4725981.7867517\ttotal: 3.26s\tremaining: 5.33s\n",
      "1154:\tlearn: 4724450.6525866\ttotal: 3.26s\tremaining: 5.32s\n",
      "1155:\tlearn: 4723788.7184335\ttotal: 3.26s\tremaining: 5.32s\n",
      "1156:\tlearn: 4722904.0478176\ttotal: 3.26s\tremaining: 5.32s\n",
      "1157:\tlearn: 4722355.7109155\ttotal: 3.27s\tremaining: 5.31s\n",
      "1158:\tlearn: 4721022.5597025\ttotal: 3.27s\tremaining: 5.31s\n",
      "1159:\tlearn: 4720355.8161132\ttotal: 3.27s\tremaining: 5.31s\n",
      "1160:\tlearn: 4719662.4609960\ttotal: 3.27s\tremaining: 5.3s\n",
      "1161:\tlearn: 4718902.2929662\ttotal: 3.28s\tremaining: 5.3s\n",
      "1162:\tlearn: 4717956.3627024\ttotal: 3.28s\tremaining: 5.3s\n",
      "1163:\tlearn: 4717456.2877333\ttotal: 3.28s\tremaining: 5.29s\n",
      "1164:\tlearn: 4716978.1032291\ttotal: 3.29s\tremaining: 5.29s\n",
      "1165:\tlearn: 4715957.9352620\ttotal: 3.29s\tremaining: 5.29s\n",
      "1166:\tlearn: 4715376.7897442\ttotal: 3.29s\tremaining: 5.28s\n",
      "1167:\tlearn: 4713419.1291006\ttotal: 3.29s\tremaining: 5.28s\n",
      "1168:\tlearn: 4711969.9600880\ttotal: 3.29s\tremaining: 5.28s\n",
      "1169:\tlearn: 4710889.7435895\ttotal: 3.3s\tremaining: 5.27s\n",
      "1170:\tlearn: 4710163.6288471\ttotal: 3.3s\tremaining: 5.27s\n",
      "1171:\tlearn: 4708941.0798736\ttotal: 3.3s\tremaining: 5.27s\n",
      "1172:\tlearn: 4707993.4914699\ttotal: 3.31s\tremaining: 5.26s\n",
      "1173:\tlearn: 4706888.5741175\ttotal: 3.31s\tremaining: 5.26s\n",
      "1174:\tlearn: 4705702.3348066\ttotal: 3.31s\tremaining: 5.26s\n",
      "1175:\tlearn: 4704904.0359652\ttotal: 3.31s\tremaining: 5.25s\n",
      "1176:\tlearn: 4704037.0856180\ttotal: 3.32s\tremaining: 5.25s\n",
      "1177:\tlearn: 4703572.7947801\ttotal: 3.32s\tremaining: 5.25s\n",
      "1178:\tlearn: 4702789.5139873\ttotal: 3.32s\tremaining: 5.25s\n",
      "1179:\tlearn: 4702218.3229068\ttotal: 3.33s\tremaining: 5.25s\n",
      "1180:\tlearn: 4701492.2234027\ttotal: 3.33s\tremaining: 5.24s\n",
      "1181:\tlearn: 4700081.4739282\ttotal: 3.33s\tremaining: 5.24s\n",
      "1182:\tlearn: 4699073.7943810\ttotal: 3.33s\tremaining: 5.24s\n",
      "1183:\tlearn: 4698664.7266153\ttotal: 3.34s\tremaining: 5.23s\n",
      "1184:\tlearn: 4698173.0866190\ttotal: 3.34s\tremaining: 5.23s\n",
      "1185:\tlearn: 4697030.0872320\ttotal: 3.34s\tremaining: 5.23s\n",
      "1186:\tlearn: 4696180.1998887\ttotal: 3.35s\tremaining: 5.23s\n",
      "1187:\tlearn: 4694876.5409070\ttotal: 3.35s\tremaining: 5.22s\n",
      "1188:\tlearn: 4694096.6378341\ttotal: 3.35s\tremaining: 5.22s\n",
      "1189:\tlearn: 4693114.8203005\ttotal: 3.35s\tremaining: 5.22s\n",
      "1190:\tlearn: 4692341.1701522\ttotal: 3.36s\tremaining: 5.21s\n",
      "1191:\tlearn: 4691549.6307697\ttotal: 3.36s\tremaining: 5.21s\n",
      "1192:\tlearn: 4690708.7211617\ttotal: 3.36s\tremaining: 5.21s\n",
      "1193:\tlearn: 4689759.5312715\ttotal: 3.36s\tremaining: 5.2s\n",
      "1194:\tlearn: 4688616.5865842\ttotal: 3.37s\tremaining: 5.2s\n",
      "1195:\tlearn: 4687542.3512633\ttotal: 3.37s\tremaining: 5.2s\n",
      "1196:\tlearn: 4686684.2793241\ttotal: 3.37s\tremaining: 5.2s\n",
      "1197:\tlearn: 4685544.4934029\ttotal: 3.38s\tremaining: 5.19s\n",
      "1198:\tlearn: 4684978.6333517\ttotal: 3.38s\tremaining: 5.19s\n",
      "1199:\tlearn: 4683927.6144955\ttotal: 3.38s\tremaining: 5.19s\n",
      "1200:\tlearn: 4683093.0640747\ttotal: 3.38s\tremaining: 5.18s\n",
      "1201:\tlearn: 4682267.5450643\ttotal: 3.39s\tremaining: 5.18s\n",
      "1202:\tlearn: 4681097.6849850\ttotal: 3.39s\tremaining: 5.18s\n",
      "1203:\tlearn: 4680463.6360141\ttotal: 3.39s\tremaining: 5.17s\n",
      "1204:\tlearn: 4679320.2723938\ttotal: 3.39s\tremaining: 5.17s\n",
      "1205:\tlearn: 4678853.5515332\ttotal: 3.4s\tremaining: 5.17s\n",
      "1206:\tlearn: 4678386.6501022\ttotal: 3.4s\tremaining: 5.17s\n",
      "1207:\tlearn: 4677276.9862514\ttotal: 3.4s\tremaining: 5.16s\n",
      "1208:\tlearn: 4676670.2884635\ttotal: 3.4s\tremaining: 5.16s\n",
      "1209:\tlearn: 4675480.5111648\ttotal: 3.41s\tremaining: 5.16s\n",
      "1210:\tlearn: 4675396.5336426\ttotal: 3.41s\tremaining: 5.15s\n",
      "1211:\tlearn: 4674632.0616382\ttotal: 3.41s\tremaining: 5.15s\n",
      "1212:\tlearn: 4673906.0468614\ttotal: 3.42s\tremaining: 5.15s\n",
      "1213:\tlearn: 4672816.6068754\ttotal: 3.42s\tremaining: 5.14s\n",
      "1214:\tlearn: 4672307.0537389\ttotal: 3.42s\tremaining: 5.14s\n",
      "1215:\tlearn: 4671701.0449312\ttotal: 3.42s\tremaining: 5.14s\n",
      "1216:\tlearn: 4670942.2049972\ttotal: 3.42s\tremaining: 5.13s\n",
      "1217:\tlearn: 4669788.1820913\ttotal: 3.43s\tremaining: 5.13s\n",
      "1218:\tlearn: 4669117.8342729\ttotal: 3.44s\tremaining: 5.14s\n",
      "1219:\tlearn: 4668459.9465172\ttotal: 3.44s\tremaining: 5.14s\n",
      "1220:\tlearn: 4668159.8648650\ttotal: 3.45s\tremaining: 5.14s\n",
      "1221:\tlearn: 4667344.1621008\ttotal: 3.45s\tremaining: 5.13s\n",
      "1222:\tlearn: 4666033.6845031\ttotal: 3.45s\tremaining: 5.13s\n",
      "1223:\tlearn: 4665185.0433797\ttotal: 3.45s\tremaining: 5.13s\n",
      "1224:\tlearn: 4664207.9694330\ttotal: 3.46s\tremaining: 5.13s\n",
      "1225:\tlearn: 4663282.7830225\ttotal: 3.46s\tremaining: 5.12s\n",
      "1226:\tlearn: 4662538.4742069\ttotal: 3.46s\tremaining: 5.12s\n",
      "1227:\tlearn: 4661670.0841018\ttotal: 3.47s\tremaining: 5.12s\n",
      "1228:\tlearn: 4660833.1399868\ttotal: 3.47s\tremaining: 5.11s\n",
      "1229:\tlearn: 4659905.0149382\ttotal: 3.47s\tremaining: 5.11s\n",
      "1230:\tlearn: 4659130.7335224\ttotal: 3.47s\tremaining: 5.11s\n",
      "1231:\tlearn: 4658377.6279617\ttotal: 3.48s\tremaining: 5.1s\n",
      "1232:\tlearn: 4658340.8705749\ttotal: 3.48s\tremaining: 5.1s\n",
      "1233:\tlearn: 4657909.0108087\ttotal: 3.48s\tremaining: 5.1s\n",
      "1234:\tlearn: 4656404.4637291\ttotal: 3.48s\tremaining: 5.09s\n",
      "1235:\tlearn: 4655090.4798277\ttotal: 3.49s\tremaining: 5.09s\n",
      "1236:\tlearn: 4654577.9514397\ttotal: 3.49s\tremaining: 5.09s\n",
      "1237:\tlearn: 4653814.6909714\ttotal: 3.49s\tremaining: 5.08s\n",
      "1238:\tlearn: 4653006.3622574\ttotal: 3.49s\tremaining: 5.08s\n",
      "1239:\tlearn: 4652210.4383144\ttotal: 3.5s\tremaining: 5.08s\n",
      "1240:\tlearn: 4651414.2948868\ttotal: 3.5s\tremaining: 5.08s\n",
      "1241:\tlearn: 4650015.1506885\ttotal: 3.5s\tremaining: 5.07s\n",
      "1242:\tlearn: 4648885.0145988\ttotal: 3.5s\tremaining: 5.07s\n",
      "1243:\tlearn: 4648351.1619318\ttotal: 3.51s\tremaining: 5.07s\n",
      "1244:\tlearn: 4647549.8523896\ttotal: 3.51s\tremaining: 5.06s\n",
      "1245:\tlearn: 4647512.5469712\ttotal: 3.51s\tremaining: 5.06s\n",
      "1246:\tlearn: 4645889.5377125\ttotal: 3.52s\tremaining: 5.06s\n",
      "1247:\tlearn: 4645093.5612147\ttotal: 3.52s\tremaining: 5.06s\n",
      "1248:\tlearn: 4644632.8543326\ttotal: 3.52s\tremaining: 5.05s\n",
      "1249:\tlearn: 4644111.4766940\ttotal: 3.52s\tremaining: 5.05s\n",
      "1250:\tlearn: 4643651.7138228\ttotal: 3.53s\tremaining: 5.05s\n",
      "1251:\tlearn: 4642464.0817531\ttotal: 3.53s\tremaining: 5.04s\n",
      "1252:\tlearn: 4641938.5157960\ttotal: 3.53s\tremaining: 5.04s\n",
      "1253:\tlearn: 4641850.8110385\ttotal: 3.54s\tremaining: 5.04s\n",
      "1254:\tlearn: 4640708.7961558\ttotal: 3.54s\tremaining: 5.04s\n",
      "1255:\tlearn: 4639508.8867703\ttotal: 3.54s\tremaining: 5.03s\n",
      "1256:\tlearn: 4638541.3663858\ttotal: 3.54s\tremaining: 5.03s\n",
      "1257:\tlearn: 4637778.1897050\ttotal: 3.55s\tremaining: 5.03s\n",
      "1258:\tlearn: 4637436.3487293\ttotal: 3.55s\tremaining: 5.02s\n",
      "1259:\tlearn: 4636446.7491192\ttotal: 3.55s\tremaining: 5.02s\n",
      "1260:\tlearn: 4635653.3712058\ttotal: 3.56s\tremaining: 5.02s\n",
      "1261:\tlearn: 4634784.0013494\ttotal: 3.56s\tremaining: 5.01s\n",
      "1262:\tlearn: 4633867.2649253\ttotal: 3.56s\tremaining: 5.01s\n",
      "1263:\tlearn: 4632570.6361371\ttotal: 3.56s\tremaining: 5.01s\n",
      "1264:\tlearn: 4631921.2724082\ttotal: 3.56s\tremaining: 5s\n",
      "1265:\tlearn: 4630603.2589963\ttotal: 3.57s\tremaining: 5s\n",
      "1266:\tlearn: 4629302.1414091\ttotal: 3.57s\tremaining: 5s\n",
      "1267:\tlearn: 4628381.1618340\ttotal: 3.57s\tremaining: 5s\n",
      "1268:\tlearn: 4627909.0738446\ttotal: 3.58s\tremaining: 4.99s\n",
      "1269:\tlearn: 4627485.1354046\ttotal: 3.58s\tremaining: 4.99s\n",
      "1270:\tlearn: 4626567.6004636\ttotal: 3.58s\tremaining: 4.99s\n",
      "1271:\tlearn: 4625842.6796083\ttotal: 3.58s\tremaining: 4.99s\n",
      "1272:\tlearn: 4625301.5464541\ttotal: 3.59s\tremaining: 4.98s\n",
      "1273:\tlearn: 4623908.5389541\ttotal: 3.59s\tremaining: 4.98s\n",
      "1274:\tlearn: 4623351.6415546\ttotal: 3.59s\tremaining: 4.98s\n",
      "1275:\tlearn: 4622688.9422737\ttotal: 3.6s\tremaining: 4.97s\n",
      "1276:\tlearn: 4621822.2903676\ttotal: 3.6s\tremaining: 4.97s\n",
      "1277:\tlearn: 4620722.3860656\ttotal: 3.6s\tremaining: 4.97s\n",
      "1278:\tlearn: 4620326.0637844\ttotal: 3.6s\tremaining: 4.96s\n",
      "1279:\tlearn: 4619813.3192291\ttotal: 3.61s\tremaining: 4.96s\n",
      "1280:\tlearn: 4619188.4320631\ttotal: 3.61s\tremaining: 4.96s\n",
      "1281:\tlearn: 4618205.1851498\ttotal: 3.61s\tremaining: 4.96s\n",
      "1282:\tlearn: 4617343.9342495\ttotal: 3.62s\tremaining: 4.95s\n",
      "1283:\tlearn: 4616756.0687976\ttotal: 3.62s\tremaining: 4.95s\n",
      "1284:\tlearn: 4616135.2702228\ttotal: 3.62s\tremaining: 4.95s\n",
      "1285:\tlearn: 4615365.7166136\ttotal: 3.62s\tremaining: 4.94s\n",
      "1286:\tlearn: 4614188.6377694\ttotal: 3.63s\tremaining: 4.94s\n",
      "1287:\tlearn: 4613165.3195230\ttotal: 3.63s\tremaining: 4.94s\n",
      "1288:\tlearn: 4612505.1187033\ttotal: 3.63s\tremaining: 4.94s\n",
      "1289:\tlearn: 4612471.5670223\ttotal: 3.63s\tremaining: 4.93s\n",
      "1290:\tlearn: 4611299.7070643\ttotal: 3.64s\tremaining: 4.93s\n",
      "1291:\tlearn: 4610405.6775712\ttotal: 3.64s\tremaining: 4.93s\n",
      "1292:\tlearn: 4609625.5626400\ttotal: 3.64s\tremaining: 4.92s\n",
      "1293:\tlearn: 4609031.8072306\ttotal: 3.64s\tremaining: 4.92s\n",
      "1294:\tlearn: 4609006.7285939\ttotal: 3.65s\tremaining: 4.92s\n",
      "1295:\tlearn: 4608021.0228443\ttotal: 3.65s\tremaining: 4.91s\n",
      "1296:\tlearn: 4607225.9800490\ttotal: 3.65s\tremaining: 4.91s\n",
      "1297:\tlearn: 4606344.4702012\ttotal: 3.66s\tremaining: 4.91s\n",
      "1298:\tlearn: 4605677.9010646\ttotal: 3.66s\tremaining: 4.91s\n",
      "1299:\tlearn: 4605125.9556970\ttotal: 3.66s\tremaining: 4.9s\n",
      "1300:\tlearn: 4604478.6375784\ttotal: 3.66s\tremaining: 4.9s\n",
      "1301:\tlearn: 4603292.2366369\ttotal: 3.67s\tremaining: 4.9s\n",
      "1302:\tlearn: 4602562.5097268\ttotal: 3.67s\tremaining: 4.89s\n",
      "1303:\tlearn: 4602140.9095819\ttotal: 3.67s\tremaining: 4.89s\n",
      "1304:\tlearn: 4601552.3386772\ttotal: 3.67s\tremaining: 4.89s\n",
      "1305:\tlearn: 4600987.8118930\ttotal: 3.68s\tremaining: 4.88s\n",
      "1306:\tlearn: 4599802.3115026\ttotal: 3.68s\tremaining: 4.88s\n",
      "1307:\tlearn: 4599001.0938344\ttotal: 3.68s\tremaining: 4.88s\n",
      "1308:\tlearn: 4597481.3640446\ttotal: 3.69s\tremaining: 4.88s\n",
      "1309:\tlearn: 4596657.0992924\ttotal: 3.69s\tremaining: 4.87s\n",
      "1310:\tlearn: 4595533.1054631\ttotal: 3.69s\tremaining: 4.87s\n",
      "1311:\tlearn: 4594516.8389140\ttotal: 3.69s\tremaining: 4.87s\n",
      "1312:\tlearn: 4593931.2109110\ttotal: 3.7s\tremaining: 4.87s\n",
      "1313:\tlearn: 4593194.0315313\ttotal: 3.7s\tremaining: 4.87s\n",
      "1314:\tlearn: 4592443.7016461\ttotal: 3.7s\tremaining: 4.86s\n",
      "1315:\tlearn: 4591602.5289015\ttotal: 3.71s\tremaining: 4.86s\n",
      "1316:\tlearn: 4590352.9903045\ttotal: 3.71s\tremaining: 4.86s\n",
      "1317:\tlearn: 4589570.3611511\ttotal: 3.71s\tremaining: 4.85s\n",
      "1318:\tlearn: 4588967.4343566\ttotal: 3.71s\tremaining: 4.85s\n",
      "1319:\tlearn: 4587976.7015059\ttotal: 3.72s\tremaining: 4.85s\n",
      "1320:\tlearn: 4586787.1100649\ttotal: 3.72s\tremaining: 4.84s\n",
      "1321:\tlearn: 4586138.8407944\ttotal: 3.72s\tremaining: 4.84s\n",
      "1322:\tlearn: 4585615.5843827\ttotal: 3.73s\tremaining: 4.84s\n",
      "1323:\tlearn: 4584665.0257995\ttotal: 3.73s\tremaining: 4.83s\n",
      "1324:\tlearn: 4584631.0480100\ttotal: 3.73s\tremaining: 4.83s\n",
      "1325:\tlearn: 4584106.2822724\ttotal: 3.73s\tremaining: 4.83s\n",
      "1326:\tlearn: 4583461.6648522\ttotal: 3.74s\tremaining: 4.83s\n",
      "1327:\tlearn: 4582685.0808896\ttotal: 3.74s\tremaining: 4.82s\n",
      "1328:\tlearn: 4581642.7524689\ttotal: 3.74s\tremaining: 4.82s\n",
      "1329:\tlearn: 4580786.5773548\ttotal: 3.74s\tremaining: 4.82s\n",
      "1330:\tlearn: 4579958.0848457\ttotal: 3.75s\tremaining: 4.81s\n",
      "1331:\tlearn: 4579015.9726345\ttotal: 3.75s\tremaining: 4.81s\n",
      "1332:\tlearn: 4578030.8512577\ttotal: 3.75s\tremaining: 4.81s\n",
      "1333:\tlearn: 4577214.6856287\ttotal: 3.76s\tremaining: 4.81s\n",
      "1334:\tlearn: 4575992.0226776\ttotal: 3.76s\tremaining: 4.8s\n",
      "1335:\tlearn: 4575069.8319613\ttotal: 3.76s\tremaining: 4.8s\n",
      "1336:\tlearn: 4574649.9171973\ttotal: 3.76s\tremaining: 4.8s\n",
      "1337:\tlearn: 4572963.3053916\ttotal: 3.77s\tremaining: 4.79s\n",
      "1338:\tlearn: 4572212.2642128\ttotal: 3.77s\tremaining: 4.79s\n",
      "1339:\tlearn: 4571435.0671050\ttotal: 3.77s\tremaining: 4.79s\n",
      "1340:\tlearn: 4570662.3284889\ttotal: 3.77s\tremaining: 4.79s\n",
      "1341:\tlearn: 4569955.3205644\ttotal: 3.78s\tremaining: 4.78s\n",
      "1342:\tlearn: 4569449.4433883\ttotal: 3.78s\tremaining: 4.78s\n",
      "1343:\tlearn: 4568704.7118222\ttotal: 3.78s\tremaining: 4.78s\n",
      "1344:\tlearn: 4568252.9080337\ttotal: 3.79s\tremaining: 4.77s\n",
      "1345:\tlearn: 4567357.9280997\ttotal: 3.79s\tremaining: 4.77s\n",
      "1346:\tlearn: 4566238.1786461\ttotal: 3.79s\tremaining: 4.77s\n",
      "1347:\tlearn: 4565606.9228434\ttotal: 3.79s\tremaining: 4.76s\n",
      "1348:\tlearn: 4564819.7621859\ttotal: 3.8s\tremaining: 4.76s\n",
      "1349:\tlearn: 4563635.9058986\ttotal: 3.8s\tremaining: 4.76s\n",
      "1350:\tlearn: 4562595.1830349\ttotal: 3.8s\tremaining: 4.76s\n",
      "1351:\tlearn: 4561959.2491375\ttotal: 3.81s\tremaining: 4.75s\n",
      "1352:\tlearn: 4560167.9467931\ttotal: 3.81s\tremaining: 4.75s\n",
      "1353:\tlearn: 4559050.3878041\ttotal: 3.81s\tremaining: 4.75s\n",
      "1354:\tlearn: 4558673.3811504\ttotal: 3.82s\tremaining: 4.75s\n",
      "1355:\tlearn: 4557447.8842166\ttotal: 3.82s\tremaining: 4.75s\n",
      "1356:\tlearn: 4556781.0881293\ttotal: 3.82s\tremaining: 4.74s\n",
      "1357:\tlearn: 4555450.5232727\ttotal: 3.83s\tremaining: 4.74s\n",
      "1358:\tlearn: 4553780.1992608\ttotal: 3.83s\tremaining: 4.74s\n",
      "1359:\tlearn: 4552425.8261224\ttotal: 3.83s\tremaining: 4.73s\n",
      "1360:\tlearn: 4551393.2373048\ttotal: 3.83s\tremaining: 4.73s\n",
      "1361:\tlearn: 4550354.4736824\ttotal: 3.83s\tremaining: 4.73s\n",
      "1362:\tlearn: 4549462.7638910\ttotal: 3.84s\tremaining: 4.72s\n",
      "1363:\tlearn: 4548662.1433011\ttotal: 3.84s\tremaining: 4.72s\n",
      "1364:\tlearn: 4548142.7415699\ttotal: 3.84s\tremaining: 4.72s\n",
      "1365:\tlearn: 4547461.3747884\ttotal: 3.85s\tremaining: 4.72s\n",
      "1366:\tlearn: 4546534.6984412\ttotal: 3.85s\tremaining: 4.71s\n",
      "1367:\tlearn: 4546056.3172760\ttotal: 3.85s\tremaining: 4.71s\n",
      "1368:\tlearn: 4545552.4748534\ttotal: 3.85s\tremaining: 4.71s\n",
      "1369:\tlearn: 4545066.2766430\ttotal: 3.86s\tremaining: 4.71s\n"
     ]
    },
    {
     "name": "stdout",
     "output_type": "stream",
     "text": [
      "1370:\tlearn: 4544340.9264783\ttotal: 3.86s\tremaining: 4.7s\n",
      "1371:\tlearn: 4543595.6577717\ttotal: 3.86s\tremaining: 4.7s\n",
      "1372:\tlearn: 4543069.1572250\ttotal: 3.87s\tremaining: 4.7s\n",
      "1373:\tlearn: 4542753.4705987\ttotal: 3.87s\tremaining: 4.69s\n",
      "1374:\tlearn: 4542380.5581319\ttotal: 3.87s\tremaining: 4.69s\n",
      "1375:\tlearn: 4542193.8920780\ttotal: 3.88s\tremaining: 4.69s\n",
      "1376:\tlearn: 4541375.6747439\ttotal: 3.88s\tremaining: 4.69s\n",
      "1377:\tlearn: 4540490.6194458\ttotal: 3.88s\tremaining: 4.68s\n",
      "1378:\tlearn: 4539513.7002557\ttotal: 3.88s\tremaining: 4.68s\n",
      "1379:\tlearn: 4538653.9582021\ttotal: 3.88s\tremaining: 4.68s\n",
      "1380:\tlearn: 4538408.0069659\ttotal: 3.89s\tremaining: 4.67s\n",
      "1381:\tlearn: 4537545.4914372\ttotal: 3.89s\tremaining: 4.67s\n",
      "1382:\tlearn: 4537196.8602123\ttotal: 3.9s\tremaining: 4.67s\n",
      "1383:\tlearn: 4536199.2893950\ttotal: 3.9s\tremaining: 4.67s\n",
      "1384:\tlearn: 4535505.2061148\ttotal: 3.9s\tremaining: 4.67s\n",
      "1385:\tlearn: 4533991.4184668\ttotal: 3.91s\tremaining: 4.67s\n",
      "1386:\tlearn: 4533325.6048769\ttotal: 3.91s\tremaining: 4.66s\n",
      "1387:\tlearn: 4532922.6930938\ttotal: 3.91s\tremaining: 4.66s\n",
      "1388:\tlearn: 4531384.2429474\ttotal: 3.92s\tremaining: 4.66s\n",
      "1389:\tlearn: 4529833.1172814\ttotal: 3.92s\tremaining: 4.66s\n",
      "1390:\tlearn: 4529273.1580307\ttotal: 3.92s\tremaining: 4.66s\n",
      "1391:\tlearn: 4528515.2928312\ttotal: 3.93s\tremaining: 4.65s\n",
      "1392:\tlearn: 4527506.2629715\ttotal: 3.93s\tremaining: 4.65s\n",
      "1393:\tlearn: 4526545.3673791\ttotal: 3.93s\tremaining: 4.65s\n",
      "1394:\tlearn: 4526124.3910488\ttotal: 3.94s\tremaining: 4.64s\n",
      "1395:\tlearn: 4525631.9334115\ttotal: 3.94s\tremaining: 4.64s\n",
      "1396:\tlearn: 4524604.1916808\ttotal: 3.94s\tremaining: 4.64s\n",
      "1397:\tlearn: 4523805.1019886\ttotal: 3.94s\tremaining: 4.64s\n",
      "1398:\tlearn: 4522718.4379368\ttotal: 3.95s\tremaining: 4.63s\n",
      "1399:\tlearn: 4522250.7213477\ttotal: 3.95s\tremaining: 4.63s\n",
      "1400:\tlearn: 4521940.9955314\ttotal: 3.95s\tremaining: 4.63s\n",
      "1401:\tlearn: 4520997.0387297\ttotal: 3.96s\tremaining: 4.63s\n",
      "1402:\tlearn: 4520467.1568416\ttotal: 3.96s\tremaining: 4.63s\n",
      "1403:\tlearn: 4519431.8652859\ttotal: 3.97s\tremaining: 4.63s\n",
      "1404:\tlearn: 4519238.1214374\ttotal: 3.97s\tremaining: 4.62s\n",
      "1405:\tlearn: 4518768.5109387\ttotal: 3.98s\tremaining: 4.62s\n",
      "1406:\tlearn: 4517651.6800101\ttotal: 3.98s\tremaining: 4.62s\n",
      "1407:\tlearn: 4516433.5689444\ttotal: 3.98s\tremaining: 4.62s\n",
      "1408:\tlearn: 4515835.5819638\ttotal: 3.99s\tremaining: 4.62s\n",
      "1409:\tlearn: 4515064.6290781\ttotal: 3.99s\tremaining: 4.62s\n",
      "1410:\tlearn: 4514722.3699929\ttotal: 3.99s\tremaining: 4.61s\n",
      "1411:\tlearn: 4514242.1118367\ttotal: 4s\tremaining: 4.61s\n",
      "1412:\tlearn: 4513356.6109200\ttotal: 4s\tremaining: 4.61s\n",
      "1413:\tlearn: 4512707.2588591\ttotal: 4s\tremaining: 4.61s\n",
      "1414:\tlearn: 4512211.2413950\ttotal: 4.01s\tremaining: 4.6s\n",
      "1415:\tlearn: 4511631.7437853\ttotal: 4.01s\tremaining: 4.6s\n",
      "1416:\tlearn: 4510868.4224605\ttotal: 4.01s\tremaining: 4.6s\n",
      "1417:\tlearn: 4510231.8176144\ttotal: 4.02s\tremaining: 4.6s\n",
      "1418:\tlearn: 4509126.3443766\ttotal: 4.02s\tremaining: 4.59s\n",
      "1419:\tlearn: 4508265.5747283\ttotal: 4.02s\tremaining: 4.59s\n",
      "1420:\tlearn: 4507169.7316033\ttotal: 4.02s\tremaining: 4.59s\n",
      "1421:\tlearn: 4506399.3648567\ttotal: 4.03s\tremaining: 4.58s\n",
      "1422:\tlearn: 4505301.7135240\ttotal: 4.03s\tremaining: 4.58s\n",
      "1423:\tlearn: 4504222.7170887\ttotal: 4.03s\tremaining: 4.58s\n",
      "1424:\tlearn: 4503327.9461262\ttotal: 4.04s\tremaining: 4.58s\n",
      "1425:\tlearn: 4502425.4748482\ttotal: 4.04s\tremaining: 4.57s\n",
      "1426:\tlearn: 4501857.9965644\ttotal: 4.04s\tremaining: 4.57s\n",
      "1427:\tlearn: 4501094.1130359\ttotal: 4.04s\tremaining: 4.57s\n",
      "1428:\tlearn: 4499635.5041044\ttotal: 4.05s\tremaining: 4.57s\n",
      "1429:\tlearn: 4498423.4481896\ttotal: 4.05s\tremaining: 4.57s\n",
      "1430:\tlearn: 4498023.1847022\ttotal: 4.06s\tremaining: 4.56s\n",
      "1431:\tlearn: 4497252.3877189\ttotal: 4.06s\tremaining: 4.56s\n",
      "1432:\tlearn: 4496629.1856634\ttotal: 4.06s\tremaining: 4.56s\n",
      "1433:\tlearn: 4495421.8141984\ttotal: 4.07s\tremaining: 4.56s\n",
      "1434:\tlearn: 4494823.9313138\ttotal: 4.07s\tremaining: 4.56s\n",
      "1435:\tlearn: 4494120.2845368\ttotal: 4.08s\tremaining: 4.55s\n",
      "1436:\tlearn: 4493744.3296476\ttotal: 4.08s\tremaining: 4.55s\n",
      "1437:\tlearn: 4492819.2858114\ttotal: 4.08s\tremaining: 4.55s\n",
      "1438:\tlearn: 4492285.7757545\ttotal: 4.08s\tremaining: 4.55s\n",
      "1439:\tlearn: 4491447.0645606\ttotal: 4.09s\tremaining: 4.54s\n",
      "1440:\tlearn: 4490094.5547415\ttotal: 4.09s\tremaining: 4.54s\n",
      "1441:\tlearn: 4489368.2607854\ttotal: 4.09s\tremaining: 4.54s\n",
      "1442:\tlearn: 4488762.3367084\ttotal: 4.09s\tremaining: 4.54s\n",
      "1443:\tlearn: 4487802.2695294\ttotal: 4.1s\tremaining: 4.53s\n",
      "1444:\tlearn: 4487343.3062468\ttotal: 4.1s\tremaining: 4.53s\n",
      "1445:\tlearn: 4486766.2868099\ttotal: 4.11s\tremaining: 4.53s\n",
      "1446:\tlearn: 4486150.2342441\ttotal: 4.11s\tremaining: 4.53s\n",
      "1447:\tlearn: 4485197.3183606\ttotal: 4.11s\tremaining: 4.53s\n",
      "1448:\tlearn: 4484567.1632465\ttotal: 4.12s\tremaining: 4.52s\n",
      "1449:\tlearn: 4483822.2721088\ttotal: 4.12s\tremaining: 4.52s\n",
      "1450:\tlearn: 4482799.9088648\ttotal: 4.12s\tremaining: 4.52s\n",
      "1451:\tlearn: 4481844.8023067\ttotal: 4.13s\tremaining: 4.51s\n",
      "1452:\tlearn: 4480727.5107180\ttotal: 4.13s\tremaining: 4.51s\n",
      "1453:\tlearn: 4480242.0193483\ttotal: 4.13s\tremaining: 4.51s\n",
      "1454:\tlearn: 4478524.1004004\ttotal: 4.13s\tremaining: 4.51s\n",
      "1455:\tlearn: 4478026.3001323\ttotal: 4.15s\tremaining: 4.52s\n",
      "1456:\tlearn: 4477519.7160087\ttotal: 4.16s\tremaining: 4.52s\n",
      "1457:\tlearn: 4477218.7891729\ttotal: 4.16s\tremaining: 4.52s\n",
      "1458:\tlearn: 4476646.5096794\ttotal: 4.17s\tremaining: 4.53s\n",
      "1459:\tlearn: 4475614.7536908\ttotal: 4.18s\tremaining: 4.52s\n",
      "1460:\tlearn: 4474667.8343877\ttotal: 4.18s\tremaining: 4.52s\n",
      "1461:\tlearn: 4473799.6542164\ttotal: 4.18s\tremaining: 4.52s\n",
      "1462:\tlearn: 4473050.5571755\ttotal: 4.19s\tremaining: 4.52s\n",
      "1463:\tlearn: 4472553.8290370\ttotal: 4.19s\tremaining: 4.51s\n",
      "1464:\tlearn: 4472297.6780210\ttotal: 4.19s\tremaining: 4.51s\n",
      "1465:\tlearn: 4471362.0337427\ttotal: 4.2s\tremaining: 4.51s\n",
      "1466:\tlearn: 4470695.9955779\ttotal: 4.2s\tremaining: 4.5s\n",
      "1467:\tlearn: 4469924.3514952\ttotal: 4.2s\tremaining: 4.5s\n",
      "1468:\tlearn: 4468818.7535801\ttotal: 4.2s\tremaining: 4.5s\n",
      "1469:\tlearn: 4468086.9305922\ttotal: 4.21s\tremaining: 4.5s\n",
      "1470:\tlearn: 4466792.7048621\ttotal: 4.21s\tremaining: 4.49s\n",
      "1471:\tlearn: 4466106.9108566\ttotal: 4.21s\tremaining: 4.49s\n",
      "1472:\tlearn: 4465166.2394346\ttotal: 4.21s\tremaining: 4.49s\n",
      "1473:\tlearn: 4464200.1748592\ttotal: 4.22s\tremaining: 4.48s\n",
      "1474:\tlearn: 4463278.0904321\ttotal: 4.22s\tremaining: 4.48s\n",
      "1475:\tlearn: 4462613.3530392\ttotal: 4.22s\tremaining: 4.48s\n",
      "1476:\tlearn: 4462116.0815197\ttotal: 4.23s\tremaining: 4.47s\n",
      "1477:\tlearn: 4461013.9779738\ttotal: 4.23s\tremaining: 4.47s\n",
      "1478:\tlearn: 4460476.2186205\ttotal: 4.23s\tremaining: 4.47s\n",
      "1479:\tlearn: 4459551.9128353\ttotal: 4.24s\tremaining: 4.47s\n",
      "1480:\tlearn: 4459518.3515783\ttotal: 4.24s\tremaining: 4.46s\n",
      "1481:\tlearn: 4458892.4127457\ttotal: 4.24s\tremaining: 4.46s\n",
      "1482:\tlearn: 4458177.3147090\ttotal: 4.24s\tremaining: 4.46s\n",
      "1483:\tlearn: 4457715.9203078\ttotal: 4.25s\tremaining: 4.46s\n",
      "1484:\tlearn: 4456424.4795361\ttotal: 4.25s\tremaining: 4.45s\n",
      "1485:\tlearn: 4455620.4058345\ttotal: 4.25s\tremaining: 4.45s\n",
      "1486:\tlearn: 4455122.8381148\ttotal: 4.26s\tremaining: 4.45s\n",
      "1487:\tlearn: 4454212.9310324\ttotal: 4.26s\tremaining: 4.44s\n",
      "1488:\tlearn: 4453700.3924252\ttotal: 4.26s\tremaining: 4.44s\n",
      "1489:\tlearn: 4453024.7373751\ttotal: 4.26s\tremaining: 4.44s\n",
      "1490:\tlearn: 4452850.9338733\ttotal: 4.27s\tremaining: 4.44s\n",
      "1491:\tlearn: 4452518.1319362\ttotal: 4.27s\tremaining: 4.43s\n",
      "1492:\tlearn: 4451833.0387321\ttotal: 4.27s\tremaining: 4.43s\n",
      "1493:\tlearn: 4451362.7083116\ttotal: 4.28s\tremaining: 4.43s\n",
      "1494:\tlearn: 4450905.0436062\ttotal: 4.28s\tremaining: 4.43s\n",
      "1495:\tlearn: 4449920.0057297\ttotal: 4.28s\tremaining: 4.42s\n",
      "1496:\tlearn: 4449303.7259308\ttotal: 4.29s\tremaining: 4.42s\n",
      "1497:\tlearn: 4448047.9688669\ttotal: 4.29s\tremaining: 4.42s\n",
      "1498:\tlearn: 4447585.1465825\ttotal: 4.29s\tremaining: 4.42s\n",
      "1499:\tlearn: 4446609.5237939\ttotal: 4.3s\tremaining: 4.41s\n",
      "1500:\tlearn: 4446147.6906972\ttotal: 4.3s\tremaining: 4.41s\n",
      "1501:\tlearn: 4444958.5038839\ttotal: 4.3s\tremaining: 4.41s\n",
      "1502:\tlearn: 4443994.3991734\ttotal: 4.3s\tremaining: 4.41s\n",
      "1503:\tlearn: 4443392.9321161\ttotal: 4.31s\tremaining: 4.4s\n",
      "1504:\tlearn: 4443042.4073869\ttotal: 4.31s\tremaining: 4.4s\n",
      "1505:\tlearn: 4442713.0721649\ttotal: 4.31s\tremaining: 4.4s\n",
      "1506:\tlearn: 4442296.5516227\ttotal: 4.32s\tremaining: 4.39s\n",
      "1507:\tlearn: 4441719.6120050\ttotal: 4.32s\tremaining: 4.39s\n",
      "1508:\tlearn: 4441056.6996675\ttotal: 4.32s\tremaining: 4.39s\n",
      "1509:\tlearn: 4440382.2343730\ttotal: 4.33s\tremaining: 4.38s\n",
      "1510:\tlearn: 4439918.1625349\ttotal: 4.33s\tremaining: 4.38s\n",
      "1511:\tlearn: 4438602.9693531\ttotal: 4.33s\tremaining: 4.38s\n",
      "1512:\tlearn: 4437994.5367776\ttotal: 4.33s\tremaining: 4.38s\n",
      "1513:\tlearn: 4437698.6769856\ttotal: 4.34s\tremaining: 4.37s\n",
      "1514:\tlearn: 4436877.4885745\ttotal: 4.34s\tremaining: 4.37s\n",
      "1515:\tlearn: 4436289.2105349\ttotal: 4.34s\tremaining: 4.37s\n",
      "1516:\tlearn: 4435578.9893865\ttotal: 4.35s\tremaining: 4.37s\n",
      "1517:\tlearn: 4434864.3475436\ttotal: 4.35s\tremaining: 4.36s\n",
      "1518:\tlearn: 4433815.9871532\ttotal: 4.35s\tremaining: 4.36s\n",
      "1519:\tlearn: 4432969.3154848\ttotal: 4.36s\tremaining: 4.36s\n",
      "1520:\tlearn: 4432237.4737371\ttotal: 4.36s\tremaining: 4.36s\n",
      "1521:\tlearn: 4430785.2358555\ttotal: 4.36s\tremaining: 4.35s\n",
      "1522:\tlearn: 4430559.2383210\ttotal: 4.36s\tremaining: 4.35s\n",
      "1523:\tlearn: 4429129.3673474\ttotal: 4.37s\tremaining: 4.35s\n",
      "1524:\tlearn: 4428405.1055911\ttotal: 4.37s\tremaining: 4.34s\n",
      "1525:\tlearn: 4427745.7110281\ttotal: 4.37s\tremaining: 4.34s\n",
      "1526:\tlearn: 4427059.6731634\ttotal: 4.38s\tremaining: 4.34s\n",
      "1527:\tlearn: 4426926.4440943\ttotal: 4.38s\tremaining: 4.33s\n",
      "1528:\tlearn: 4426375.1002759\ttotal: 4.38s\tremaining: 4.33s\n",
      "1529:\tlearn: 4426149.2880276\ttotal: 4.39s\tremaining: 4.33s\n",
      "1530:\tlearn: 4425063.1490769\ttotal: 4.39s\tremaining: 4.33s\n",
      "1531:\tlearn: 4423673.5446048\ttotal: 4.39s\tremaining: 4.33s\n",
      "1532:\tlearn: 4422842.2611499\ttotal: 4.4s\tremaining: 4.33s\n",
      "1533:\tlearn: 4421825.0193355\ttotal: 4.4s\tremaining: 4.32s\n",
      "1534:\tlearn: 4421379.0031864\ttotal: 4.4s\tremaining: 4.32s\n",
      "1535:\tlearn: 4420411.5188341\ttotal: 4.41s\tremaining: 4.32s\n",
      "1536:\tlearn: 4419561.4161848\ttotal: 4.41s\tremaining: 4.31s\n",
      "1537:\tlearn: 4419248.5302852\ttotal: 4.41s\tremaining: 4.31s\n",
      "1538:\tlearn: 4418438.7694141\ttotal: 4.42s\tremaining: 4.31s\n",
      "1539:\tlearn: 4417684.0917400\ttotal: 4.42s\tremaining: 4.31s\n",
      "1540:\tlearn: 4416344.5665605\ttotal: 4.42s\tremaining: 4.3s\n",
      "1541:\tlearn: 4415710.3429633\ttotal: 4.42s\tremaining: 4.3s\n",
      "1542:\tlearn: 4414792.1593949\ttotal: 4.43s\tremaining: 4.3s\n",
      "1543:\tlearn: 4414514.8735114\ttotal: 4.43s\tremaining: 4.29s\n",
      "1544:\tlearn: 4413906.5548930\ttotal: 4.43s\tremaining: 4.29s\n",
      "1545:\tlearn: 4413164.7486699\ttotal: 4.44s\tremaining: 4.29s\n",
      "1546:\tlearn: 4412916.6434594\ttotal: 4.44s\tremaining: 4.29s\n",
      "1547:\tlearn: 4412599.2103169\ttotal: 4.44s\tremaining: 4.28s\n",
      "1548:\tlearn: 4411423.7297631\ttotal: 4.45s\tremaining: 4.28s\n",
      "1549:\tlearn: 4410788.5505133\ttotal: 4.45s\tremaining: 4.28s\n",
      "1550:\tlearn: 4409748.0015060\ttotal: 4.45s\tremaining: 4.28s\n",
      "1551:\tlearn: 4408853.5951205\ttotal: 4.45s\tremaining: 4.27s\n",
      "1552:\tlearn: 4408496.5433818\ttotal: 4.46s\tremaining: 4.27s\n",
      "1553:\tlearn: 4408160.9438858\ttotal: 4.46s\tremaining: 4.27s\n",
      "1554:\tlearn: 4408040.0120717\ttotal: 4.46s\tremaining: 4.26s\n",
      "1555:\tlearn: 4406667.0590004\ttotal: 4.46s\tremaining: 4.26s\n",
      "1556:\tlearn: 4406060.4609768\ttotal: 4.47s\tremaining: 4.26s\n",
      "1557:\tlearn: 4405225.3282556\ttotal: 4.47s\tremaining: 4.25s\n",
      "1558:\tlearn: 4403849.0998264\ttotal: 4.47s\tremaining: 4.25s\n",
      "1559:\tlearn: 4403011.8665560\ttotal: 4.48s\tremaining: 4.25s\n",
      "1560:\tlearn: 4402398.8637406\ttotal: 4.48s\tremaining: 4.25s\n",
      "1561:\tlearn: 4401396.6327785\ttotal: 4.48s\tremaining: 4.25s\n",
      "1562:\tlearn: 4401040.8226360\ttotal: 4.49s\tremaining: 4.24s\n",
      "1563:\tlearn: 4400083.1207695\ttotal: 4.49s\tremaining: 4.24s\n",
      "1564:\tlearn: 4398948.4486855\ttotal: 4.49s\tremaining: 4.24s\n",
      "1565:\tlearn: 4398482.1558391\ttotal: 4.5s\tremaining: 4.24s\n",
      "1566:\tlearn: 4397736.4554884\ttotal: 4.5s\tremaining: 4.23s\n",
      "1567:\tlearn: 4397330.1116640\ttotal: 4.5s\tremaining: 4.23s\n",
      "1568:\tlearn: 4396639.2862945\ttotal: 4.5s\tremaining: 4.23s\n",
      "1569:\tlearn: 4396254.6907831\ttotal: 4.51s\tremaining: 4.22s\n",
      "1570:\tlearn: 4395285.5687264\ttotal: 4.51s\tremaining: 4.22s\n",
      "1571:\tlearn: 4393958.2523380\ttotal: 4.51s\tremaining: 4.22s\n",
      "1572:\tlearn: 4393058.2768860\ttotal: 4.52s\tremaining: 4.22s\n",
      "1573:\tlearn: 4392395.3329890\ttotal: 4.52s\tremaining: 4.21s\n",
      "1574:\tlearn: 4391951.1455797\ttotal: 4.52s\tremaining: 4.21s\n",
      "1575:\tlearn: 4391148.5778989\ttotal: 4.53s\tremaining: 4.21s\n",
      "1576:\tlearn: 4390477.1913610\ttotal: 4.53s\tremaining: 4.2s\n",
      "1577:\tlearn: 4389720.6274092\ttotal: 4.53s\tremaining: 4.2s\n",
      "1578:\tlearn: 4388939.2729100\ttotal: 4.53s\tremaining: 4.2s\n",
      "1579:\tlearn: 4388293.8999532\ttotal: 4.54s\tremaining: 4.2s\n",
      "1580:\tlearn: 4387539.6531147\ttotal: 4.54s\tremaining: 4.19s\n",
      "1581:\tlearn: 4386595.3328358\ttotal: 4.54s\tremaining: 4.19s\n",
      "1582:\tlearn: 4385903.2249195\ttotal: 4.54s\tremaining: 4.18s\n",
      "1583:\tlearn: 4384859.5998713\ttotal: 4.55s\tremaining: 4.18s\n",
      "1584:\tlearn: 4384514.1831612\ttotal: 4.55s\tremaining: 4.18s\n",
      "1585:\tlearn: 4383037.1584128\ttotal: 4.55s\tremaining: 4.18s\n",
      "1586:\tlearn: 4382479.1766162\ttotal: 4.55s\tremaining: 4.17s\n",
      "1587:\tlearn: 4382059.0613519\ttotal: 4.56s\tremaining: 4.17s\n",
      "1588:\tlearn: 4381685.7936126\ttotal: 4.56s\tremaining: 4.17s\n",
      "1589:\tlearn: 4381149.6987390\ttotal: 4.56s\tremaining: 4.16s\n",
      "1590:\tlearn: 4380902.8335031\ttotal: 4.56s\tremaining: 4.16s\n",
      "1591:\tlearn: 4380063.1433151\ttotal: 4.57s\tremaining: 4.16s\n",
      "1592:\tlearn: 4379408.5786252\ttotal: 4.57s\tremaining: 4.15s\n",
      "1593:\tlearn: 4378717.7375783\ttotal: 4.57s\tremaining: 4.15s\n",
      "1594:\tlearn: 4377940.5194048\ttotal: 4.57s\tremaining: 4.15s\n",
      "1595:\tlearn: 4377102.2836994\ttotal: 4.58s\tremaining: 4.14s\n",
      "1596:\tlearn: 4376061.3722365\ttotal: 4.58s\tremaining: 4.14s\n",
      "1597:\tlearn: 4375136.1200493\ttotal: 4.58s\tremaining: 4.14s\n",
      "1598:\tlearn: 4374878.6914106\ttotal: 4.58s\tremaining: 4.13s\n",
      "1599:\tlearn: 4374434.9711360\ttotal: 4.59s\tremaining: 4.13s\n",
      "1600:\tlearn: 4373628.6697241\ttotal: 4.59s\tremaining: 4.13s\n",
      "1601:\tlearn: 4373067.1490873\ttotal: 4.59s\tremaining: 4.12s\n",
      "1602:\tlearn: 4372499.6046726\ttotal: 4.59s\tremaining: 4.12s\n",
      "1603:\tlearn: 4371387.0079641\ttotal: 4.6s\tremaining: 4.12s\n",
      "1604:\tlearn: 4370338.0582400\ttotal: 4.6s\tremaining: 4.12s\n",
      "1605:\tlearn: 4368951.8727540\ttotal: 4.6s\tremaining: 4.11s\n",
      "1606:\tlearn: 4367994.3187259\ttotal: 4.61s\tremaining: 4.11s\n",
      "1607:\tlearn: 4367333.6816884\ttotal: 4.61s\tremaining: 4.11s\n",
      "1608:\tlearn: 4366613.6071737\ttotal: 4.61s\tremaining: 4.1s\n",
      "1609:\tlearn: 4365549.9146542\ttotal: 4.61s\tremaining: 4.1s\n",
      "1610:\tlearn: 4364691.6879747\ttotal: 4.62s\tremaining: 4.1s\n",
      "1611:\tlearn: 4364248.3479647\ttotal: 4.62s\tremaining: 4.09s\n",
      "1612:\tlearn: 4363486.1681309\ttotal: 4.62s\tremaining: 4.09s\n",
      "1613:\tlearn: 4363047.9523300\ttotal: 4.63s\tremaining: 4.09s\n",
      "1614:\tlearn: 4362396.7040496\ttotal: 4.63s\tremaining: 4.09s\n",
      "1615:\tlearn: 4361992.9325652\ttotal: 4.63s\tremaining: 4.08s\n",
      "1616:\tlearn: 4360919.3808891\ttotal: 4.63s\tremaining: 4.08s\n",
      "1617:\tlearn: 4360534.5238496\ttotal: 4.63s\tremaining: 4.08s\n",
      "1618:\tlearn: 4359981.2849788\ttotal: 4.64s\tremaining: 4.07s\n",
      "1619:\tlearn: 4359605.0634572\ttotal: 4.64s\tremaining: 4.07s\n",
      "1620:\tlearn: 4358750.8588174\ttotal: 4.64s\tremaining: 4.07s\n",
      "1621:\tlearn: 4358602.7414085\ttotal: 4.64s\tremaining: 4.06s\n",
      "1622:\tlearn: 4358147.9695863\ttotal: 4.65s\tremaining: 4.06s\n",
      "1623:\tlearn: 4357644.0827398\ttotal: 4.65s\tremaining: 4.06s\n",
      "1624:\tlearn: 4357071.4822481\ttotal: 4.65s\tremaining: 4.05s\n",
      "1625:\tlearn: 4356265.9300756\ttotal: 4.66s\tremaining: 4.05s\n",
      "1626:\tlearn: 4355692.0692775\ttotal: 4.66s\tremaining: 4.05s\n",
      "1627:\tlearn: 4355318.7135722\ttotal: 4.66s\tremaining: 4.04s\n",
      "1628:\tlearn: 4355095.3149760\ttotal: 4.66s\tremaining: 4.04s\n",
      "1629:\tlearn: 4354235.9344686\ttotal: 4.67s\tremaining: 4.04s\n",
      "1630:\tlearn: 4353031.9651514\ttotal: 4.67s\tremaining: 4.04s\n",
      "1631:\tlearn: 4352612.8574155\ttotal: 4.67s\tremaining: 4.03s\n",
      "1632:\tlearn: 4352119.2398700\ttotal: 4.67s\tremaining: 4.03s\n",
      "1633:\tlearn: 4351723.7822697\ttotal: 4.67s\tremaining: 4.03s\n",
      "1634:\tlearn: 4351439.9095758\ttotal: 4.68s\tremaining: 4.02s\n",
      "1635:\tlearn: 4350828.5605597\ttotal: 4.68s\tremaining: 4.02s\n",
      "1636:\tlearn: 4350030.0594499\ttotal: 4.68s\tremaining: 4.02s\n",
      "1637:\tlearn: 4349606.0504048\ttotal: 4.68s\tremaining: 4.01s\n",
      "1638:\tlearn: 4348932.1166471\ttotal: 4.69s\tremaining: 4.01s\n",
      "1639:\tlearn: 4347717.8800450\ttotal: 4.69s\tremaining: 4.01s\n",
      "1640:\tlearn: 4347287.2366076\ttotal: 4.69s\tremaining: 4s\n",
      "1641:\tlearn: 4346843.0024739\ttotal: 4.7s\tremaining: 4s\n",
      "1642:\tlearn: 4346166.1054935\ttotal: 4.7s\tremaining: 4s\n",
      "1643:\tlearn: 4345333.6130459\ttotal: 4.7s\tremaining: 3.99s\n",
      "1644:\tlearn: 4345007.5180625\ttotal: 4.7s\tremaining: 3.99s\n",
      "1645:\tlearn: 4344639.7982335\ttotal: 4.71s\tremaining: 3.99s\n",
      "1646:\tlearn: 4343915.0637689\ttotal: 4.71s\tremaining: 3.99s\n",
      "1647:\tlearn: 4343103.0188272\ttotal: 4.71s\tremaining: 3.98s\n",
      "1648:\tlearn: 4342528.8659996\ttotal: 4.71s\tremaining: 3.98s\n",
      "1649:\tlearn: 4342021.5592441\ttotal: 4.72s\tremaining: 3.98s\n",
      "1650:\tlearn: 4341146.7977473\ttotal: 4.72s\tremaining: 3.97s\n",
      "1651:\tlearn: 4340790.4262206\ttotal: 4.72s\tremaining: 3.97s\n",
      "1652:\tlearn: 4340379.8269743\ttotal: 4.73s\tremaining: 3.97s\n",
      "1653:\tlearn: 4339350.7811769\ttotal: 4.73s\tremaining: 3.96s\n",
      "1654:\tlearn: 4338854.7744142\ttotal: 4.73s\tremaining: 3.96s\n",
      "1655:\tlearn: 4338582.1941929\ttotal: 4.73s\tremaining: 3.96s\n",
      "1656:\tlearn: 4338077.6154163\ttotal: 4.74s\tremaining: 3.96s\n",
      "1657:\tlearn: 4337813.9912862\ttotal: 4.74s\tremaining: 3.95s\n",
      "1658:\tlearn: 4337455.3901171\ttotal: 4.74s\tremaining: 3.95s\n",
      "1659:\tlearn: 4336694.9302850\ttotal: 4.74s\tremaining: 3.95s\n",
      "1660:\tlearn: 4336400.3438267\ttotal: 4.75s\tremaining: 3.94s\n",
      "1661:\tlearn: 4335705.3199393\ttotal: 4.75s\tremaining: 3.94s\n",
      "1662:\tlearn: 4335154.5516734\ttotal: 4.75s\tremaining: 3.94s\n",
      "1663:\tlearn: 4334050.3767369\ttotal: 4.75s\tremaining: 3.93s\n",
      "1664:\tlearn: 4333534.9550362\ttotal: 4.76s\tremaining: 3.93s\n",
      "1665:\tlearn: 4333172.0205202\ttotal: 4.76s\tremaining: 3.93s\n",
      "1666:\tlearn: 4332920.6876427\ttotal: 4.76s\tremaining: 3.92s\n",
      "1667:\tlearn: 4331867.5940943\ttotal: 4.76s\tremaining: 3.92s\n",
      "1668:\tlearn: 4330366.9364447\ttotal: 4.77s\tremaining: 3.92s\n",
      "1669:\tlearn: 4330135.7383407\ttotal: 4.77s\tremaining: 3.92s\n",
      "1670:\tlearn: 4329573.1911531\ttotal: 4.77s\tremaining: 3.91s\n",
      "1671:\tlearn: 4329127.4441751\ttotal: 4.77s\tremaining: 3.91s\n",
      "1672:\tlearn: 4328274.3359516\ttotal: 4.78s\tremaining: 3.9s\n",
      "1673:\tlearn: 4327812.6482191\ttotal: 4.78s\tremaining: 3.9s\n",
      "1674:\tlearn: 4326997.4211107\ttotal: 4.78s\tremaining: 3.9s\n",
      "1675:\tlearn: 4326354.8609391\ttotal: 4.78s\tremaining: 3.9s\n",
      "1676:\tlearn: 4325532.4391585\ttotal: 4.79s\tremaining: 3.89s\n",
      "1677:\tlearn: 4324825.2243377\ttotal: 4.79s\tremaining: 3.89s\n",
      "1678:\tlearn: 4324175.2488283\ttotal: 4.79s\tremaining: 3.89s\n",
      "1679:\tlearn: 4323630.9992649\ttotal: 4.79s\tremaining: 3.88s\n",
      "1680:\tlearn: 4322866.9617030\ttotal: 4.8s\tremaining: 3.88s\n",
      "1681:\tlearn: 4321882.8803427\ttotal: 4.8s\tremaining: 3.88s\n",
      "1682:\tlearn: 4321443.1911371\ttotal: 4.8s\tremaining: 3.87s\n",
      "1683:\tlearn: 4320955.5481018\ttotal: 4.8s\tremaining: 3.87s\n",
      "1684:\tlearn: 4320322.3573701\ttotal: 4.81s\tremaining: 3.87s\n",
      "1685:\tlearn: 4319306.6528163\ttotal: 4.81s\tremaining: 3.87s\n",
      "1686:\tlearn: 4318675.8795827\ttotal: 4.81s\tremaining: 3.86s\n",
      "1687:\tlearn: 4318082.7284770\ttotal: 4.82s\tremaining: 3.86s\n",
      "1688:\tlearn: 4317700.5390222\ttotal: 4.82s\tremaining: 3.86s\n",
      "1689:\tlearn: 4317374.1217337\ttotal: 4.82s\tremaining: 3.85s\n",
      "1690:\tlearn: 4316451.1057385\ttotal: 4.82s\tremaining: 3.85s\n",
      "1691:\tlearn: 4315742.6770909\ttotal: 4.82s\tremaining: 3.85s\n",
      "1692:\tlearn: 4315140.6354102\ttotal: 4.83s\tremaining: 3.84s\n",
      "1693:\tlearn: 4314712.7231999\ttotal: 4.83s\tremaining: 3.84s\n",
      "1694:\tlearn: 4314481.6487112\ttotal: 4.83s\tremaining: 3.84s\n",
      "1695:\tlearn: 4313801.2048130\ttotal: 4.83s\tremaining: 3.83s\n",
      "1696:\tlearn: 4312787.5670624\ttotal: 4.85s\tremaining: 3.84s\n",
      "1697:\tlearn: 4311797.8220009\ttotal: 4.85s\tremaining: 3.83s\n",
      "1698:\tlearn: 4311466.9229477\ttotal: 4.85s\tremaining: 3.83s\n",
      "1699:\tlearn: 4310541.7449872\ttotal: 4.85s\tremaining: 3.83s\n",
      "1700:\tlearn: 4309278.7694035\ttotal: 4.86s\tremaining: 3.83s\n",
      "1701:\tlearn: 4308538.2289771\ttotal: 4.86s\tremaining: 3.82s\n",
      "1702:\tlearn: 4307657.6292312\ttotal: 4.86s\tremaining: 3.82s\n",
      "1703:\tlearn: 4307089.4783635\ttotal: 4.87s\tremaining: 3.82s\n",
      "1704:\tlearn: 4306543.9388171\ttotal: 4.87s\tremaining: 3.81s\n",
      "1705:\tlearn: 4306242.9762015\ttotal: 4.87s\tremaining: 3.81s\n",
      "1706:\tlearn: 4305531.7354706\ttotal: 4.87s\tremaining: 3.81s\n",
      "1707:\tlearn: 4304843.5279020\ttotal: 4.88s\tremaining: 3.8s\n",
      "1708:\tlearn: 4304304.9779082\ttotal: 4.88s\tremaining: 3.8s\n",
      "1709:\tlearn: 4303303.2094630\ttotal: 4.88s\tremaining: 3.8s\n",
      "1710:\tlearn: 4302610.2813507\ttotal: 4.88s\tremaining: 3.79s\n",
      "1711:\tlearn: 4302035.1381287\ttotal: 4.88s\tremaining: 3.79s\n",
      "1712:\tlearn: 4301588.5205428\ttotal: 4.89s\tremaining: 3.79s\n",
      "1713:\tlearn: 4301007.4858688\ttotal: 4.89s\tremaining: 3.79s\n",
      "1714:\tlearn: 4300316.9192698\ttotal: 4.89s\tremaining: 3.78s\n",
      "1715:\tlearn: 4299802.0997594\ttotal: 4.9s\tremaining: 3.78s\n",
      "1716:\tlearn: 4299170.4525068\ttotal: 4.9s\tremaining: 3.78s\n",
      "1717:\tlearn: 4298613.8009678\ttotal: 4.9s\tremaining: 3.77s\n",
      "1718:\tlearn: 4297939.6596920\ttotal: 4.9s\tremaining: 3.77s\n",
      "1719:\tlearn: 4297488.9608702\ttotal: 4.91s\tremaining: 3.77s\n",
      "1720:\tlearn: 4297261.0514824\ttotal: 4.91s\tremaining: 3.77s\n",
      "1721:\tlearn: 4296803.8587229\ttotal: 4.91s\tremaining: 3.76s\n",
      "1722:\tlearn: 4296411.3937097\ttotal: 4.92s\tremaining: 3.76s\n",
      "1723:\tlearn: 4295558.6162759\ttotal: 4.92s\tremaining: 3.76s\n",
      "1724:\tlearn: 4295041.7002988\ttotal: 4.92s\tremaining: 3.75s\n",
      "1725:\tlearn: 4294658.9722102\ttotal: 4.92s\tremaining: 3.75s\n",
      "1726:\tlearn: 4294307.4562484\ttotal: 4.92s\tremaining: 3.75s\n",
      "1727:\tlearn: 4293974.3032960\ttotal: 4.93s\tremaining: 3.75s\n",
      "1728:\tlearn: 4293366.0435373\ttotal: 4.93s\tremaining: 3.74s\n",
      "1729:\tlearn: 4292650.6178885\ttotal: 4.93s\tremaining: 3.74s\n",
      "1730:\tlearn: 4292223.1991544\ttotal: 4.94s\tremaining: 3.73s\n",
      "1731:\tlearn: 4291479.0624357\ttotal: 4.94s\tremaining: 3.73s\n",
      "1732:\tlearn: 4291001.1922363\ttotal: 4.94s\tremaining: 3.73s\n",
      "1733:\tlearn: 4290663.9802384\ttotal: 4.94s\tremaining: 3.73s\n",
      "1734:\tlearn: 4290291.7080202\ttotal: 4.95s\tremaining: 3.72s\n",
      "1735:\tlearn: 4289856.1364013\ttotal: 4.95s\tremaining: 3.72s\n",
      "1736:\tlearn: 4289406.5011965\ttotal: 4.95s\tremaining: 3.72s\n",
      "1737:\tlearn: 4288997.0243287\ttotal: 4.96s\tremaining: 3.71s\n",
      "1738:\tlearn: 4288294.9482570\ttotal: 4.96s\tremaining: 3.71s\n",
      "1739:\tlearn: 4288063.1307208\ttotal: 4.96s\tremaining: 3.71s\n",
      "1740:\tlearn: 4287824.0192701\ttotal: 4.96s\tremaining: 3.71s\n",
      "1741:\tlearn: 4286719.9487392\ttotal: 4.97s\tremaining: 3.7s\n",
      "1742:\tlearn: 4285865.5642050\ttotal: 4.97s\tremaining: 3.7s\n",
      "1743:\tlearn: 4285296.7364724\ttotal: 4.97s\tremaining: 3.7s\n",
      "1744:\tlearn: 4284131.5173245\ttotal: 4.97s\tremaining: 3.69s\n",
      "1745:\tlearn: 4283593.1697306\ttotal: 4.98s\tremaining: 3.69s\n",
      "1746:\tlearn: 4282746.7283438\ttotal: 4.98s\tremaining: 3.69s\n",
      "1747:\tlearn: 4282026.9999016\ttotal: 4.98s\tremaining: 3.69s\n",
      "1748:\tlearn: 4281546.3506854\ttotal: 4.98s\tremaining: 3.68s\n",
      "1749:\tlearn: 4281182.0920252\ttotal: 4.99s\tremaining: 3.68s\n",
      "1750:\tlearn: 4280559.6290909\ttotal: 4.99s\tremaining: 3.67s\n",
      "1751:\tlearn: 4280223.4058631\ttotal: 4.99s\tremaining: 3.67s\n",
      "1752:\tlearn: 4279690.0938393\ttotal: 5s\tremaining: 3.67s\n",
      "1753:\tlearn: 4279218.5947357\ttotal: 5s\tremaining: 3.67s\n",
      "1754:\tlearn: 4278892.0517309\ttotal: 5s\tremaining: 3.66s\n",
      "1755:\tlearn: 4278551.7585054\ttotal: 5s\tremaining: 3.66s\n",
      "1756:\tlearn: 4277638.5973823\ttotal: 5s\tremaining: 3.66s\n",
      "1757:\tlearn: 4276889.3135752\ttotal: 5.01s\tremaining: 3.65s\n",
      "1758:\tlearn: 4276498.8828750\ttotal: 5.01s\tremaining: 3.65s\n",
      "1759:\tlearn: 4275921.8405540\ttotal: 5.01s\tremaining: 3.65s\n",
      "1760:\tlearn: 4275193.2378872\ttotal: 5.01s\tremaining: 3.65s\n",
      "1761:\tlearn: 4274850.3874558\ttotal: 5.02s\tremaining: 3.64s\n",
      "1762:\tlearn: 4274018.2230112\ttotal: 5.02s\tremaining: 3.64s\n",
      "1763:\tlearn: 4273847.9477621\ttotal: 5.02s\tremaining: 3.64s\n",
      "1764:\tlearn: 4273525.5908271\ttotal: 5.03s\tremaining: 3.63s\n",
      "1765:\tlearn: 4273320.4817395\ttotal: 5.03s\tremaining: 3.63s\n",
      "1766:\tlearn: 4273099.8056654\ttotal: 5.03s\tremaining: 3.63s\n",
      "1767:\tlearn: 4272919.7270722\ttotal: 5.03s\tremaining: 3.62s\n",
      "1768:\tlearn: 4272460.6044637\ttotal: 5.04s\tremaining: 3.62s\n",
      "1769:\tlearn: 4272143.3404686\ttotal: 5.04s\tremaining: 3.62s\n",
      "1770:\tlearn: 4271507.9771864\ttotal: 5.04s\tremaining: 3.61s\n",
      "1771:\tlearn: 4271129.1343354\ttotal: 5.04s\tremaining: 3.61s\n",
      "1772:\tlearn: 4270872.4358413\ttotal: 5.05s\tremaining: 3.61s\n",
      "1773:\tlearn: 4270247.9044204\ttotal: 5.05s\tremaining: 3.61s\n",
      "1774:\tlearn: 4269920.6810472\ttotal: 5.05s\tremaining: 3.6s\n",
      "1775:\tlearn: 4269518.7971101\ttotal: 5.05s\tremaining: 3.6s\n",
      "1776:\tlearn: 4269161.1810037\ttotal: 5.06s\tremaining: 3.6s\n",
      "1777:\tlearn: 4268056.8811023\ttotal: 5.06s\tremaining: 3.59s\n",
      "1778:\tlearn: 4267077.0764227\ttotal: 5.06s\tremaining: 3.59s\n",
      "1779:\tlearn: 4266665.2613553\ttotal: 5.06s\tremaining: 3.59s\n",
      "1780:\tlearn: 4266139.6767544\ttotal: 5.07s\tremaining: 3.58s\n",
      "1781:\tlearn: 4265610.6349596\ttotal: 5.07s\tremaining: 3.58s\n",
      "1782:\tlearn: 4264548.9108075\ttotal: 5.07s\tremaining: 3.58s\n",
      "1783:\tlearn: 4264048.9969343\ttotal: 5.08s\tremaining: 3.58s\n",
      "1784:\tlearn: 4263310.8691987\ttotal: 5.08s\tremaining: 3.57s\n",
      "1785:\tlearn: 4262459.2610479\ttotal: 5.08s\tremaining: 3.57s\n",
      "1786:\tlearn: 4262016.4108873\ttotal: 5.08s\tremaining: 3.57s\n",
      "1787:\tlearn: 4261261.2032378\ttotal: 5.09s\tremaining: 3.56s\n",
      "1788:\tlearn: 4260480.5239836\ttotal: 5.09s\tremaining: 3.56s\n",
      "1789:\tlearn: 4259928.0487710\ttotal: 5.09s\tremaining: 3.56s\n",
      "1790:\tlearn: 4259587.7467207\ttotal: 5.09s\tremaining: 3.56s\n",
      "1791:\tlearn: 4259233.9493247\ttotal: 5.1s\tremaining: 3.55s\n",
      "1792:\tlearn: 4258743.1015856\ttotal: 5.1s\tremaining: 3.55s\n",
      "1793:\tlearn: 4257873.5371437\ttotal: 5.1s\tremaining: 3.55s\n",
      "1794:\tlearn: 4257418.9604571\ttotal: 5.11s\tremaining: 3.54s\n",
      "1795:\tlearn: 4256669.8834365\ttotal: 5.11s\tremaining: 3.54s\n",
      "1796:\tlearn: 4255716.4462284\ttotal: 5.11s\tremaining: 3.54s\n",
      "1797:\tlearn: 4255138.9630999\ttotal: 5.12s\tremaining: 3.54s\n",
      "1798:\tlearn: 4254460.1373785\ttotal: 5.12s\tremaining: 3.53s\n",
      "1799:\tlearn: 4253935.4343010\ttotal: 5.12s\tremaining: 3.53s\n",
      "1800:\tlearn: 4253622.3025050\ttotal: 5.12s\tremaining: 3.53s\n",
      "1801:\tlearn: 4252703.1874026\ttotal: 5.13s\tremaining: 3.52s\n",
      "1802:\tlearn: 4252292.5002601\ttotal: 5.13s\tremaining: 3.52s\n",
      "1803:\tlearn: 4251541.5958075\ttotal: 5.13s\tremaining: 3.52s\n",
      "1804:\tlearn: 4250857.5668991\ttotal: 5.13s\tremaining: 3.52s\n",
      "1805:\tlearn: 4250518.3220796\ttotal: 5.14s\tremaining: 3.51s\n",
      "1806:\tlearn: 4250139.4126705\ttotal: 5.14s\tremaining: 3.51s\n",
      "1807:\tlearn: 4249064.9614797\ttotal: 5.14s\tremaining: 3.51s\n",
      "1808:\tlearn: 4248805.6440004\ttotal: 5.14s\tremaining: 3.5s\n",
      "1809:\tlearn: 4248320.8519134\ttotal: 5.15s\tremaining: 3.5s\n",
      "1810:\tlearn: 4248126.8810932\ttotal: 5.15s\tremaining: 3.5s\n",
      "1811:\tlearn: 4247451.5893551\ttotal: 5.15s\tremaining: 3.49s\n",
      "1812:\tlearn: 4246687.2522800\ttotal: 5.15s\tremaining: 3.49s\n",
      "1813:\tlearn: 4246417.3382418\ttotal: 5.16s\tremaining: 3.49s\n",
      "1814:\tlearn: 4245469.9581986\ttotal: 5.16s\tremaining: 3.48s\n",
      "1815:\tlearn: 4244726.6839460\ttotal: 5.16s\tremaining: 3.48s\n",
      "1816:\tlearn: 4244094.4030355\ttotal: 5.16s\tremaining: 3.48s\n",
      "1817:\tlearn: 4242808.6097613\ttotal: 5.17s\tremaining: 3.48s\n",
      "1818:\tlearn: 4242301.4180734\ttotal: 5.17s\tremaining: 3.47s\n",
      "1819:\tlearn: 4241949.9203067\ttotal: 5.17s\tremaining: 3.47s\n",
      "1820:\tlearn: 4241555.9596910\ttotal: 5.17s\tremaining: 3.47s\n",
      "1821:\tlearn: 4240843.1711392\ttotal: 5.18s\tremaining: 3.46s\n",
      "1822:\tlearn: 4240263.3413243\ttotal: 5.18s\tremaining: 3.46s\n",
      "1823:\tlearn: 4239982.4064927\ttotal: 5.18s\tremaining: 3.46s\n",
      "1824:\tlearn: 4239019.4676308\ttotal: 5.18s\tremaining: 3.45s\n",
      "1825:\tlearn: 4238379.3237433\ttotal: 5.19s\tremaining: 3.45s\n",
      "1826:\tlearn: 4238051.3093408\ttotal: 5.19s\tremaining: 3.45s\n",
      "1827:\tlearn: 4237176.4623845\ttotal: 5.19s\tremaining: 3.44s\n",
      "1828:\tlearn: 4236841.6610453\ttotal: 5.2s\tremaining: 3.44s\n",
      "1829:\tlearn: 4236614.7021790\ttotal: 5.2s\tremaining: 3.44s\n",
      "1830:\tlearn: 4235763.4611327\ttotal: 5.2s\tremaining: 3.44s\n",
      "1831:\tlearn: 4235043.7988652\ttotal: 5.2s\tremaining: 3.43s\n",
      "1832:\tlearn: 4234579.5385714\ttotal: 5.21s\tremaining: 3.43s\n",
      "1833:\tlearn: 4234149.0849913\ttotal: 5.21s\tremaining: 3.43s\n",
      "1834:\tlearn: 4233288.4965252\ttotal: 5.21s\tremaining: 3.42s\n",
      "1835:\tlearn: 4233089.5221903\ttotal: 5.21s\tremaining: 3.42s\n",
      "1836:\tlearn: 4231863.4792420\ttotal: 5.21s\tremaining: 3.42s\n",
      "1837:\tlearn: 4230701.3292566\ttotal: 5.22s\tremaining: 3.41s\n",
      "1838:\tlearn: 4230542.1550968\ttotal: 5.22s\tremaining: 3.41s\n",
      "1839:\tlearn: 4229835.0748963\ttotal: 5.22s\tremaining: 3.41s\n",
      "1840:\tlearn: 4229318.8248602\ttotal: 5.22s\tremaining: 3.4s\n",
      "1841:\tlearn: 4228382.2301609\ttotal: 5.23s\tremaining: 3.4s\n",
      "1842:\tlearn: 4227624.6878270\ttotal: 5.23s\tremaining: 3.4s\n",
      "1843:\tlearn: 4227174.9033896\ttotal: 5.23s\tremaining: 3.4s\n",
      "1844:\tlearn: 4226635.6900621\ttotal: 5.23s\tremaining: 3.39s\n",
      "1845:\tlearn: 4226318.6619435\ttotal: 5.24s\tremaining: 3.39s\n",
      "1846:\tlearn: 4225964.7530680\ttotal: 5.24s\tremaining: 3.39s\n",
      "1847:\tlearn: 4225251.9393097\ttotal: 5.24s\tremaining: 3.38s\n",
      "1848:\tlearn: 4224747.2704722\ttotal: 5.25s\tremaining: 3.38s\n",
      "1849:\tlearn: 4224147.0955626\ttotal: 5.25s\tremaining: 3.38s\n",
      "1850:\tlearn: 4223507.5505781\ttotal: 5.25s\tremaining: 3.38s\n",
      "1851:\tlearn: 4222457.0266300\ttotal: 5.25s\tremaining: 3.37s\n",
      "1852:\tlearn: 4221743.6658213\ttotal: 5.25s\tremaining: 3.37s\n",
      "1853:\tlearn: 4221095.3342264\ttotal: 5.26s\tremaining: 3.37s\n",
      "1854:\tlearn: 4220743.0292188\ttotal: 5.26s\tremaining: 3.36s\n",
      "1855:\tlearn: 4220138.4733132\ttotal: 5.26s\tremaining: 3.36s\n",
      "1856:\tlearn: 4219303.7639505\ttotal: 5.26s\tremaining: 3.36s\n",
      "1857:\tlearn: 4218889.2373356\ttotal: 5.27s\tremaining: 3.35s\n",
      "1858:\tlearn: 4218345.8221314\ttotal: 5.27s\tremaining: 3.35s\n",
      "1859:\tlearn: 4218043.5499685\ttotal: 5.27s\tremaining: 3.35s\n",
      "1860:\tlearn: 4217558.3905357\ttotal: 5.28s\tremaining: 3.35s\n",
      "1861:\tlearn: 4216978.4808953\ttotal: 5.28s\tremaining: 3.34s\n",
      "1862:\tlearn: 4216613.1179162\ttotal: 5.28s\tremaining: 3.34s\n",
      "1863:\tlearn: 4216059.9344699\ttotal: 5.28s\tremaining: 3.34s\n",
      "1864:\tlearn: 4215392.2199770\ttotal: 5.29s\tremaining: 3.33s\n",
      "1865:\tlearn: 4214805.8180443\ttotal: 5.29s\tremaining: 3.33s\n",
      "1866:\tlearn: 4214151.5948997\ttotal: 5.29s\tremaining: 3.33s\n",
      "1867:\tlearn: 4213620.8423504\ttotal: 5.29s\tremaining: 3.32s\n",
      "1868:\tlearn: 4212767.6739463\ttotal: 5.3s\tremaining: 3.32s\n",
      "1869:\tlearn: 4211870.0557379\ttotal: 5.3s\tremaining: 3.32s\n",
      "1870:\tlearn: 4211556.5565700\ttotal: 5.3s\tremaining: 3.32s\n",
      "1871:\tlearn: 4210718.9890686\ttotal: 5.31s\tremaining: 3.31s\n",
      "1872:\tlearn: 4210437.5437451\ttotal: 5.31s\tremaining: 3.31s\n",
      "1873:\tlearn: 4209972.1058782\ttotal: 5.31s\tremaining: 3.31s\n",
      "1874:\tlearn: 4209682.3841211\ttotal: 5.31s\tremaining: 3.31s\n",
      "1875:\tlearn: 4208948.2748079\ttotal: 5.32s\tremaining: 3.3s\n",
      "1876:\tlearn: 4208266.7201068\ttotal: 5.32s\tremaining: 3.3s\n",
      "1877:\tlearn: 4207665.9451448\ttotal: 5.32s\tremaining: 3.3s\n",
      "1878:\tlearn: 4207105.8749612\ttotal: 5.33s\tremaining: 3.29s\n",
      "1879:\tlearn: 4206623.4035380\ttotal: 5.33s\tremaining: 3.29s\n",
      "1880:\tlearn: 4206155.7096760\ttotal: 5.33s\tremaining: 3.29s\n",
      "1881:\tlearn: 4204988.2737826\ttotal: 5.33s\tremaining: 3.28s\n",
      "1882:\tlearn: 4204623.0034852\ttotal: 5.33s\tremaining: 3.28s\n",
      "1883:\tlearn: 4204133.7967588\ttotal: 5.34s\tremaining: 3.28s\n",
      "1884:\tlearn: 4203013.8197344\ttotal: 5.34s\tremaining: 3.27s\n",
      "1885:\tlearn: 4202226.6712829\ttotal: 5.34s\tremaining: 3.27s\n",
      "1886:\tlearn: 4201579.0627641\ttotal: 5.34s\tremaining: 3.27s\n",
      "1887:\tlearn: 4201201.0525227\ttotal: 5.35s\tremaining: 3.27s\n",
      "1888:\tlearn: 4200419.6297106\ttotal: 5.35s\tremaining: 3.26s\n",
      "1889:\tlearn: 4199893.8385419\ttotal: 5.35s\tremaining: 3.26s\n",
      "1890:\tlearn: 4199350.2117556\ttotal: 5.36s\tremaining: 3.26s\n",
      "1891:\tlearn: 4198727.2009442\ttotal: 5.36s\tremaining: 3.25s\n",
      "1892:\tlearn: 4198147.5892046\ttotal: 5.36s\tremaining: 3.25s\n",
      "1893:\tlearn: 4197053.3812249\ttotal: 5.36s\tremaining: 3.25s\n",
      "1894:\tlearn: 4196372.7545435\ttotal: 5.37s\tremaining: 3.24s\n",
      "1895:\tlearn: 4196063.7514465\ttotal: 5.37s\tremaining: 3.24s\n",
      "1896:\tlearn: 4195340.6107673\ttotal: 5.37s\tremaining: 3.24s\n",
      "1897:\tlearn: 4194943.1324391\ttotal: 5.37s\tremaining: 3.23s\n",
      "1898:\tlearn: 4193738.2490192\ttotal: 5.38s\tremaining: 3.23s\n",
      "1899:\tlearn: 4193306.4778534\ttotal: 5.38s\tremaining: 3.23s\n",
      "1900:\tlearn: 4192434.2836511\ttotal: 5.38s\tremaining: 3.23s\n",
      "1901:\tlearn: 4191710.6236254\ttotal: 5.38s\tremaining: 3.22s\n",
      "1902:\tlearn: 4191073.0948457\ttotal: 5.38s\tremaining: 3.22s\n",
      "1903:\tlearn: 4190781.1663588\ttotal: 5.39s\tremaining: 3.22s\n",
      "1904:\tlearn: 4189728.4448910\ttotal: 5.39s\tremaining: 3.21s\n",
      "1905:\tlearn: 4189187.6654045\ttotal: 5.39s\tremaining: 3.21s\n",
      "1906:\tlearn: 4188490.6560221\ttotal: 5.39s\tremaining: 3.21s\n",
      "1907:\tlearn: 4188233.6538490\ttotal: 5.4s\tremaining: 3.2s\n",
      "1908:\tlearn: 4187650.2326814\ttotal: 5.4s\tremaining: 3.2s\n",
      "1909:\tlearn: 4187424.9188686\ttotal: 5.4s\tremaining: 3.2s\n",
      "1910:\tlearn: 4187097.1457506\ttotal: 5.4s\tremaining: 3.19s\n",
      "1911:\tlearn: 4186702.1242614\ttotal: 5.41s\tremaining: 3.19s\n",
      "1912:\tlearn: 4186008.2430064\ttotal: 5.41s\tremaining: 3.19s\n",
      "1913:\tlearn: 4185425.5785678\ttotal: 5.41s\tremaining: 3.19s\n",
      "1914:\tlearn: 4185095.9403166\ttotal: 5.41s\tremaining: 3.18s\n",
      "1915:\tlearn: 4184514.9719047\ttotal: 5.42s\tremaining: 3.18s\n",
      "1916:\tlearn: 4184238.3676249\ttotal: 5.42s\tremaining: 3.18s\n",
      "1917:\tlearn: 4183326.9630423\ttotal: 5.42s\tremaining: 3.17s\n",
      "1918:\tlearn: 4182577.9109251\ttotal: 5.42s\tremaining: 3.17s\n",
      "1919:\tlearn: 4182306.0512536\ttotal: 5.43s\tremaining: 3.17s\n",
      "1920:\tlearn: 4181514.9317419\ttotal: 5.43s\tremaining: 3.17s\n",
      "1921:\tlearn: 4181165.7961074\ttotal: 5.43s\tremaining: 3.16s\n",
      "1922:\tlearn: 4180756.9533259\ttotal: 5.43s\tremaining: 3.16s\n",
      "1923:\tlearn: 4180311.0318192\ttotal: 5.44s\tremaining: 3.16s\n",
      "1924:\tlearn: 4179650.6264559\ttotal: 5.44s\tremaining: 3.15s\n",
      "1925:\tlearn: 4178808.6576976\ttotal: 5.44s\tremaining: 3.15s\n",
      "1926:\tlearn: 4178245.1963341\ttotal: 5.45s\tremaining: 3.15s\n",
      "1927:\tlearn: 4177754.8801361\ttotal: 5.45s\tremaining: 3.14s\n",
      "1928:\tlearn: 4176935.0002219\ttotal: 5.45s\tremaining: 3.14s\n",
      "1929:\tlearn: 4176553.3283911\ttotal: 5.45s\tremaining: 3.14s\n",
      "1930:\tlearn: 4175791.3676067\ttotal: 5.45s\tremaining: 3.13s\n",
      "1931:\tlearn: 4174786.3430173\ttotal: 5.46s\tremaining: 3.13s\n",
      "1932:\tlearn: 4174352.7776108\ttotal: 5.46s\tremaining: 3.13s\n",
      "1933:\tlearn: 4173851.8304170\ttotal: 5.46s\tremaining: 3.13s\n",
      "1934:\tlearn: 4172941.3442015\ttotal: 5.46s\tremaining: 3.12s\n",
      "1935:\tlearn: 4171935.9552155\ttotal: 5.47s\tremaining: 3.12s\n",
      "1936:\tlearn: 4171219.1967891\ttotal: 5.47s\tremaining: 3.12s\n",
      "1937:\tlearn: 4171033.8736780\ttotal: 5.47s\tremaining: 3.11s\n",
      "1938:\tlearn: 4170433.0413846\ttotal: 5.47s\tremaining: 3.11s\n",
      "1939:\tlearn: 4169628.8391048\ttotal: 5.48s\tremaining: 3.11s\n",
      "1940:\tlearn: 4169349.8337329\ttotal: 5.48s\tremaining: 3.1s\n",
      "1941:\tlearn: 4168677.2037983\ttotal: 5.48s\tremaining: 3.1s\n",
      "1942:\tlearn: 4168243.1862286\ttotal: 5.48s\tremaining: 3.1s\n",
      "1943:\tlearn: 4168005.3587677\ttotal: 5.49s\tremaining: 3.1s\n",
      "1944:\tlearn: 4167128.3508127\ttotal: 5.49s\tremaining: 3.09s\n",
      "1945:\tlearn: 4166590.4587488\ttotal: 5.49s\tremaining: 3.09s\n",
      "1946:\tlearn: 4166334.0069132\ttotal: 5.49s\tremaining: 3.09s\n",
      "1947:\tlearn: 4165087.2199574\ttotal: 5.5s\tremaining: 3.08s\n",
      "1948:\tlearn: 4164380.3831157\ttotal: 5.5s\tremaining: 3.08s\n",
      "1949:\tlearn: 4163864.8391690\ttotal: 5.5s\tremaining: 3.08s\n",
      "1950:\tlearn: 4163245.2695643\ttotal: 5.5s\tremaining: 3.08s\n",
      "1951:\tlearn: 4162379.0446154\ttotal: 5.51s\tremaining: 3.07s\n",
      "1952:\tlearn: 4161715.8838351\ttotal: 5.51s\tremaining: 3.07s\n",
      "1953:\tlearn: 4161487.4417205\ttotal: 5.51s\tremaining: 3.07s\n",
      "1954:\tlearn: 4161001.0379880\ttotal: 5.51s\tremaining: 3.06s\n",
      "1955:\tlearn: 4160552.4411929\ttotal: 5.52s\tremaining: 3.06s\n",
      "1956:\tlearn: 4159868.4565107\ttotal: 5.52s\tremaining: 3.06s\n",
      "1957:\tlearn: 4159540.4023515\ttotal: 5.52s\tremaining: 3.06s\n",
      "1958:\tlearn: 4159157.2321435\ttotal: 5.53s\tremaining: 3.05s\n",
      "1959:\tlearn: 4158473.6443803\ttotal: 5.53s\tremaining: 3.05s\n",
      "1960:\tlearn: 4158291.7702245\ttotal: 5.53s\tremaining: 3.05s\n",
      "1961:\tlearn: 4157672.8102374\ttotal: 5.54s\tremaining: 3.04s\n",
      "1962:\tlearn: 4157076.6859237\ttotal: 5.54s\tremaining: 3.04s\n",
      "1963:\tlearn: 4156284.1798781\ttotal: 5.54s\tremaining: 3.04s\n",
      "1964:\tlearn: 4155755.8385160\ttotal: 5.54s\tremaining: 3.04s\n",
      "1965:\tlearn: 4154916.9072557\ttotal: 5.55s\tremaining: 3.03s\n",
      "1966:\tlearn: 4154759.3392952\ttotal: 5.55s\tremaining: 3.03s\n",
      "1967:\tlearn: 4154326.1166960\ttotal: 5.55s\tremaining: 3.03s\n",
      "1968:\tlearn: 4153710.1366022\ttotal: 5.55s\tremaining: 3.02s\n",
      "1969:\tlearn: 4153074.9723420\ttotal: 5.56s\tremaining: 3.02s\n",
      "1970:\tlearn: 4152365.4082294\ttotal: 5.56s\tremaining: 3.02s\n",
      "1971:\tlearn: 4151972.2858044\ttotal: 5.56s\tremaining: 3.02s\n",
      "1972:\tlearn: 4151391.4002019\ttotal: 5.57s\tremaining: 3.01s\n",
      "1973:\tlearn: 4150776.9610355\ttotal: 5.57s\tremaining: 3.01s\n",
      "1974:\tlearn: 4150520.4096904\ttotal: 5.57s\tremaining: 3.01s\n",
      "1975:\tlearn: 4150127.4913663\ttotal: 5.57s\tremaining: 3s\n",
      "1976:\tlearn: 4149613.7046600\ttotal: 5.58s\tremaining: 3s\n",
      "1977:\tlearn: 4148800.2562324\ttotal: 5.58s\tremaining: 3s\n",
      "1978:\tlearn: 4147773.1651234\ttotal: 5.58s\tremaining: 3s\n",
      "1979:\tlearn: 4146810.4886512\ttotal: 5.58s\tremaining: 2.99s\n",
      "1980:\tlearn: 4145922.5606044\ttotal: 5.59s\tremaining: 2.99s\n",
      "1981:\tlearn: 4145402.8478914\ttotal: 5.59s\tremaining: 2.99s\n",
      "1982:\tlearn: 4144817.3900614\ttotal: 5.59s\tremaining: 2.98s\n",
      "1983:\tlearn: 4143963.7911215\ttotal: 5.59s\tremaining: 2.98s\n",
      "1984:\tlearn: 4143888.5855886\ttotal: 5.6s\tremaining: 2.98s\n",
      "1985:\tlearn: 4143295.0493623\ttotal: 5.6s\tremaining: 2.97s\n",
      "1986:\tlearn: 4142737.6105547\ttotal: 5.6s\tremaining: 2.97s\n",
      "1987:\tlearn: 4142320.7097132\ttotal: 5.6s\tremaining: 2.97s\n",
      "1988:\tlearn: 4141478.1725921\ttotal: 5.61s\tremaining: 2.96s\n",
      "1989:\tlearn: 4140841.5544799\ttotal: 5.61s\tremaining: 2.96s\n",
      "1990:\tlearn: 4140471.3870050\ttotal: 5.61s\tremaining: 2.96s\n",
      "1991:\tlearn: 4140278.6938534\ttotal: 5.61s\tremaining: 2.96s\n",
      "1992:\tlearn: 4140206.9518383\ttotal: 5.62s\tremaining: 2.95s\n",
      "1993:\tlearn: 4139930.3838816\ttotal: 5.62s\tremaining: 2.95s\n",
      "1994:\tlearn: 4139037.4511762\ttotal: 5.62s\tremaining: 2.95s\n",
      "1995:\tlearn: 4138878.3356802\ttotal: 5.63s\tremaining: 2.94s\n",
      "1996:\tlearn: 4138345.5457250\ttotal: 5.63s\tremaining: 2.94s\n",
      "1997:\tlearn: 4137429.6705237\ttotal: 5.63s\tremaining: 2.94s\n",
      "1998:\tlearn: 4136639.5578570\ttotal: 5.63s\tremaining: 2.94s\n",
      "1999:\tlearn: 4136336.6402340\ttotal: 5.63s\tremaining: 2.93s\n",
      "2000:\tlearn: 4136145.6238257\ttotal: 5.64s\tremaining: 2.93s\n",
      "2001:\tlearn: 4135482.8789771\ttotal: 5.64s\tremaining: 2.93s\n",
      "2002:\tlearn: 4135002.3096351\ttotal: 5.64s\tremaining: 2.92s\n",
      "2003:\tlearn: 4133790.5966098\ttotal: 5.64s\tremaining: 2.92s\n",
      "2004:\tlearn: 4133060.2867466\ttotal: 5.65s\tremaining: 2.92s\n",
      "2005:\tlearn: 4132343.6057964\ttotal: 5.65s\tremaining: 2.92s\n",
      "2006:\tlearn: 4131984.0089215\ttotal: 5.65s\tremaining: 2.91s\n",
      "2007:\tlearn: 4131405.6449834\ttotal: 5.66s\tremaining: 2.91s\n",
      "2008:\tlearn: 4131198.8107820\ttotal: 5.66s\tremaining: 2.91s\n",
      "2009:\tlearn: 4130846.4843606\ttotal: 5.66s\tremaining: 2.9s\n",
      "2010:\tlearn: 4130373.0971689\ttotal: 5.66s\tremaining: 2.9s\n",
      "2011:\tlearn: 4129688.2660246\ttotal: 5.67s\tremaining: 2.9s\n",
      "2012:\tlearn: 4129385.5228754\ttotal: 5.67s\tremaining: 2.9s\n",
      "2013:\tlearn: 4129276.7209505\ttotal: 5.67s\tremaining: 2.89s\n",
      "2014:\tlearn: 4128450.3994565\ttotal: 5.68s\tremaining: 2.89s\n",
      "2015:\tlearn: 4127818.6594334\ttotal: 5.68s\tremaining: 2.89s\n",
      "2016:\tlearn: 4127300.9000820\ttotal: 5.68s\tremaining: 2.88s\n",
      "2017:\tlearn: 4126855.0717490\ttotal: 5.68s\tremaining: 2.88s\n",
      "2018:\tlearn: 4126211.2461906\ttotal: 5.69s\tremaining: 2.88s\n",
      "2019:\tlearn: 4125784.3334630\ttotal: 5.69s\tremaining: 2.88s\n",
      "2020:\tlearn: 4125619.0783089\ttotal: 5.69s\tremaining: 2.87s\n",
      "2021:\tlearn: 4124908.1245620\ttotal: 5.69s\tremaining: 2.87s\n",
      "2022:\tlearn: 4124831.2604168\ttotal: 5.7s\tremaining: 2.87s\n",
      "2023:\tlearn: 4124449.6388307\ttotal: 5.7s\tremaining: 2.86s\n",
      "2024:\tlearn: 4123551.1857691\ttotal: 5.7s\tremaining: 2.86s\n",
      "2025:\tlearn: 4122944.9891824\ttotal: 5.7s\tremaining: 2.86s\n",
      "2026:\tlearn: 4122526.8236294\ttotal: 5.71s\tremaining: 2.85s\n",
      "2027:\tlearn: 4122034.3782453\ttotal: 5.71s\tremaining: 2.85s\n",
      "2028:\tlearn: 4121324.8489140\ttotal: 5.71s\tremaining: 2.85s\n",
      "2029:\tlearn: 4120295.6874742\ttotal: 5.71s\tremaining: 2.85s\n",
      "2030:\tlearn: 4119699.6960986\ttotal: 5.72s\tremaining: 2.84s\n",
      "2031:\tlearn: 4119475.6496178\ttotal: 5.72s\tremaining: 2.84s\n",
      "2032:\tlearn: 4119011.0242969\ttotal: 5.72s\tremaining: 2.84s\n",
      "2033:\tlearn: 4118318.0846991\ttotal: 5.72s\tremaining: 2.83s\n",
      "2034:\tlearn: 4117725.2070743\ttotal: 5.73s\tremaining: 2.83s\n",
      "2035:\tlearn: 4116718.4485920\ttotal: 5.73s\tremaining: 2.83s\n",
      "2036:\tlearn: 4116189.9677004\ttotal: 5.74s\tremaining: 2.83s\n",
      "2037:\tlearn: 4115806.3817938\ttotal: 5.74s\tremaining: 2.82s\n",
      "2038:\tlearn: 4115210.4997916\ttotal: 5.74s\tremaining: 2.82s\n",
      "2039:\tlearn: 4114461.6723794\ttotal: 5.75s\tremaining: 2.82s\n",
      "2040:\tlearn: 4113751.0180887\ttotal: 5.75s\tremaining: 2.82s\n",
      "2041:\tlearn: 4113318.5802677\ttotal: 5.76s\tremaining: 2.82s\n",
      "2042:\tlearn: 4113028.4862388\ttotal: 5.76s\tremaining: 2.81s\n",
      "2043:\tlearn: 4112300.0537039\ttotal: 5.76s\tremaining: 2.81s\n",
      "2044:\tlearn: 4111891.9693177\ttotal: 5.76s\tremaining: 2.81s\n",
      "2045:\tlearn: 4111289.5170801\ttotal: 5.77s\tremaining: 2.81s\n",
      "2046:\tlearn: 4110878.6099412\ttotal: 5.77s\tremaining: 2.8s\n",
      "2047:\tlearn: 4110477.0056207\ttotal: 5.77s\tremaining: 2.8s\n",
      "2048:\tlearn: 4109862.6656769\ttotal: 5.78s\tremaining: 2.8s\n",
      "2049:\tlearn: 4109685.4565390\ttotal: 5.78s\tremaining: 2.79s\n",
      "2050:\tlearn: 4109063.9321445\ttotal: 5.78s\tremaining: 2.79s\n",
      "2051:\tlearn: 4108506.5484546\ttotal: 5.78s\tremaining: 2.79s\n",
      "2052:\tlearn: 4108169.2374180\ttotal: 5.8s\tremaining: 2.79s\n",
      "2053:\tlearn: 4107866.2452007\ttotal: 5.8s\tremaining: 2.79s\n",
      "2054:\tlearn: 4107316.1109118\ttotal: 5.8s\tremaining: 2.78s\n",
      "2055:\tlearn: 4106808.2785988\ttotal: 5.8s\tremaining: 2.78s\n",
      "2056:\tlearn: 4106468.1568610\ttotal: 5.81s\tremaining: 2.78s\n",
      "2057:\tlearn: 4105761.1479193\ttotal: 5.81s\tremaining: 2.77s\n",
      "2058:\tlearn: 4105160.9930515\ttotal: 5.81s\tremaining: 2.77s\n",
      "2059:\tlearn: 4104617.3004023\ttotal: 5.81s\tremaining: 2.77s\n",
      "2060:\tlearn: 4103929.6138419\ttotal: 5.82s\tremaining: 2.77s\n",
      "2061:\tlearn: 4103645.1497354\ttotal: 5.82s\tremaining: 2.76s\n",
      "2062:\tlearn: 4103109.7578617\ttotal: 5.82s\tremaining: 2.76s\n",
      "2063:\tlearn: 4102608.8182015\ttotal: 5.82s\tremaining: 2.76s\n",
      "2064:\tlearn: 4101921.0280881\ttotal: 5.83s\tremaining: 2.75s\n",
      "2065:\tlearn: 4101192.5805068\ttotal: 5.83s\tremaining: 2.75s\n",
      "2066:\tlearn: 4100616.7201027\ttotal: 5.83s\tremaining: 2.75s\n",
      "2067:\tlearn: 4099920.0013825\ttotal: 5.83s\tremaining: 2.75s\n",
      "2068:\tlearn: 4099864.4223986\ttotal: 5.84s\tremaining: 2.74s\n",
      "2069:\tlearn: 4099591.1394482\ttotal: 5.84s\tremaining: 2.74s\n",
      "2070:\tlearn: 4099370.8640644\ttotal: 5.84s\tremaining: 2.74s\n",
      "2071:\tlearn: 4098677.1906150\ttotal: 5.84s\tremaining: 2.73s\n",
      "2072:\tlearn: 4098432.5951516\ttotal: 5.85s\tremaining: 2.73s\n",
      "2073:\tlearn: 4097987.0222758\ttotal: 5.85s\tremaining: 2.73s\n",
      "2074:\tlearn: 4097129.8643663\ttotal: 5.85s\tremaining: 2.72s\n",
      "2075:\tlearn: 4096343.0721786\ttotal: 5.86s\tremaining: 2.72s\n",
      "2076:\tlearn: 4095614.2703359\ttotal: 5.86s\tremaining: 2.72s\n",
      "2077:\tlearn: 4094869.9280283\ttotal: 5.86s\tremaining: 2.71s\n",
      "2078:\tlearn: 4094667.2030922\ttotal: 5.86s\tremaining: 2.71s\n",
      "2079:\tlearn: 4094039.3084139\ttotal: 5.86s\tremaining: 2.71s\n",
      "2080:\tlearn: 4093564.9214050\ttotal: 5.87s\tremaining: 2.71s\n",
      "2081:\tlearn: 4093019.7363180\ttotal: 5.87s\tremaining: 2.7s\n",
      "2082:\tlearn: 4092509.7518800\ttotal: 5.87s\tremaining: 2.7s\n",
      "2083:\tlearn: 4092077.1051603\ttotal: 5.88s\tremaining: 2.7s\n",
      "2084:\tlearn: 4090937.1905892\ttotal: 5.88s\tremaining: 2.69s\n",
      "2085:\tlearn: 4090440.9679969\ttotal: 5.88s\tremaining: 2.69s\n",
      "2086:\tlearn: 4089492.9069674\ttotal: 5.9s\tremaining: 2.7s\n",
      "2087:\tlearn: 4088868.4997362\ttotal: 5.9s\tremaining: 2.69s\n",
      "2088:\tlearn: 4088537.5816827\ttotal: 5.91s\tremaining: 2.69s\n",
      "2089:\tlearn: 4087939.2060078\ttotal: 5.91s\tremaining: 2.69s\n",
      "2090:\tlearn: 4087301.2312503\ttotal: 5.91s\tremaining: 2.69s\n",
      "2091:\tlearn: 4086626.3453218\ttotal: 5.91s\tremaining: 2.68s\n",
      "2092:\tlearn: 4086158.3472590\ttotal: 5.92s\tremaining: 2.68s\n",
      "2093:\tlearn: 4085431.3009908\ttotal: 5.92s\tremaining: 2.68s\n",
      "2094:\tlearn: 4085033.7072543\ttotal: 5.92s\tremaining: 2.67s\n",
      "2095:\tlearn: 4083989.6619693\ttotal: 5.92s\tremaining: 2.67s\n",
      "2096:\tlearn: 4083975.7679522\ttotal: 5.93s\tremaining: 2.67s\n",
      "2097:\tlearn: 4083502.4759538\ttotal: 5.93s\tremaining: 2.67s\n",
      "2098:\tlearn: 4083162.6785825\ttotal: 5.93s\tremaining: 2.66s\n",
      "2099:\tlearn: 4082735.3248772\ttotal: 5.93s\tremaining: 2.66s\n",
      "2100:\tlearn: 4082541.1195116\ttotal: 5.94s\tremaining: 2.66s\n",
      "2101:\tlearn: 4082139.4163626\ttotal: 5.94s\tremaining: 2.65s\n",
      "2102:\tlearn: 4081735.2203683\ttotal: 5.94s\tremaining: 2.65s\n",
      "2103:\tlearn: 4081505.3383122\ttotal: 5.95s\tremaining: 2.65s\n",
      "2104:\tlearn: 4081231.6132023\ttotal: 5.95s\tremaining: 2.64s\n",
      "2105:\tlearn: 4080856.1844392\ttotal: 5.95s\tremaining: 2.64s\n",
      "2106:\tlearn: 4080116.0555309\ttotal: 5.95s\tremaining: 2.64s\n",
      "2107:\tlearn: 4079718.2410700\ttotal: 5.96s\tremaining: 2.64s\n",
      "2108:\tlearn: 4079127.7729349\ttotal: 5.96s\tremaining: 2.63s\n",
      "2109:\tlearn: 4078011.9855588\ttotal: 5.96s\tremaining: 2.63s\n",
      "2110:\tlearn: 4077649.8376549\ttotal: 5.96s\tremaining: 2.63s\n",
      "2111:\tlearn: 4077237.9471598\ttotal: 5.96s\tremaining: 2.62s\n",
      "2112:\tlearn: 4076517.8955631\ttotal: 5.97s\tremaining: 2.62s\n",
      "2113:\tlearn: 4076027.5190674\ttotal: 5.97s\tremaining: 2.62s\n",
      "2114:\tlearn: 4075254.2367924\ttotal: 5.97s\tremaining: 2.62s\n",
      "2115:\tlearn: 4074973.1605969\ttotal: 5.98s\tremaining: 2.61s\n",
      "2116:\tlearn: 4074729.4620860\ttotal: 5.98s\tremaining: 2.61s\n",
      "2117:\tlearn: 4074139.4057746\ttotal: 5.98s\tremaining: 2.61s\n",
      "2118:\tlearn: 4073627.1480201\ttotal: 5.98s\tremaining: 2.6s\n",
      "2119:\tlearn: 4073197.6450594\ttotal: 5.99s\tremaining: 2.6s\n",
      "2120:\tlearn: 4072848.3340096\ttotal: 5.99s\tremaining: 2.6s\n",
      "2121:\tlearn: 4072376.4407012\ttotal: 5.99s\tremaining: 2.6s\n",
      "2122:\tlearn: 4071945.0757694\ttotal: 6s\tremaining: 2.59s\n",
      "2123:\tlearn: 4071197.5117092\ttotal: 6s\tremaining: 2.59s\n",
      "2124:\tlearn: 4070854.3129475\ttotal: 6s\tremaining: 2.59s\n",
      "2125:\tlearn: 4070176.7162597\ttotal: 6s\tremaining: 2.58s\n",
      "2126:\tlearn: 4069702.9292074\ttotal: 6.01s\tremaining: 2.58s\n",
      "2127:\tlearn: 4069283.5612525\ttotal: 6.01s\tremaining: 2.58s\n",
      "2128:\tlearn: 4068928.7390432\ttotal: 6.01s\tremaining: 2.58s\n",
      "2129:\tlearn: 4068548.5468955\ttotal: 6.02s\tremaining: 2.57s\n",
      "2130:\tlearn: 4068239.9597449\ttotal: 6.02s\tremaining: 2.57s\n",
      "2131:\tlearn: 4067788.1587398\ttotal: 6.02s\tremaining: 2.57s\n",
      "2132:\tlearn: 4067242.8122663\ttotal: 6.03s\tremaining: 2.56s\n",
      "2133:\tlearn: 4066849.7676225\ttotal: 6.03s\tremaining: 2.56s\n",
      "2134:\tlearn: 4065751.3789846\ttotal: 6.03s\tremaining: 2.56s\n",
      "2135:\tlearn: 4064820.1449331\ttotal: 6.04s\tremaining: 2.56s\n",
      "2136:\tlearn: 4064306.2938030\ttotal: 6.04s\tremaining: 2.55s\n",
      "2137:\tlearn: 4063435.0526532\ttotal: 6.04s\tremaining: 2.55s\n",
      "2138:\tlearn: 4063295.9424046\ttotal: 6.04s\tremaining: 2.55s\n",
      "2139:\tlearn: 4062411.4622660\ttotal: 6.04s\tremaining: 2.54s\n",
      "2140:\tlearn: 4061889.4755288\ttotal: 6.05s\tremaining: 2.54s\n",
      "2141:\tlearn: 4061400.5729786\ttotal: 6.05s\tremaining: 2.54s\n",
      "2142:\tlearn: 4060977.5156261\ttotal: 6.05s\tremaining: 2.54s\n",
      "2143:\tlearn: 4060569.7355823\ttotal: 6.06s\tremaining: 2.53s\n",
      "2144:\tlearn: 4059529.1140808\ttotal: 6.06s\tremaining: 2.53s\n",
      "2145:\tlearn: 4059092.8735869\ttotal: 6.06s\tremaining: 2.53s\n",
      "2146:\tlearn: 4058546.4069787\ttotal: 6.06s\tremaining: 2.52s\n",
      "2147:\tlearn: 4058097.3085444\ttotal: 6.07s\tremaining: 2.52s\n",
      "2148:\tlearn: 4057558.7787812\ttotal: 6.07s\tremaining: 2.52s\n",
      "2149:\tlearn: 4056930.9564507\ttotal: 6.07s\tremaining: 2.52s\n",
      "2150:\tlearn: 4056477.9162094\ttotal: 6.07s\tremaining: 2.51s\n",
      "2151:\tlearn: 4055825.3037971\ttotal: 6.08s\tremaining: 2.51s\n",
      "2152:\tlearn: 4055589.4821771\ttotal: 6.08s\tremaining: 2.51s\n",
      "2153:\tlearn: 4054837.7723243\ttotal: 6.08s\tremaining: 2.5s\n",
      "2154:\tlearn: 4053756.8157987\ttotal: 6.08s\tremaining: 2.5s\n",
      "2155:\tlearn: 4053217.0532767\ttotal: 6.09s\tremaining: 2.5s\n",
      "2156:\tlearn: 4052773.7426051\ttotal: 6.09s\tremaining: 2.5s\n",
      "2157:\tlearn: 4052005.0617570\ttotal: 6.09s\tremaining: 2.49s\n",
      "2158:\tlearn: 4051475.8377535\ttotal: 6.09s\tremaining: 2.49s\n",
      "2159:\tlearn: 4051079.2463194\ttotal: 6.1s\tremaining: 2.49s\n",
      "2160:\tlearn: 4050375.2906705\ttotal: 6.1s\tremaining: 2.48s\n",
      "2161:\tlearn: 4049874.1358757\ttotal: 6.1s\tremaining: 2.48s\n",
      "2162:\tlearn: 4049358.2173370\ttotal: 6.1s\tremaining: 2.48s\n",
      "2163:\tlearn: 4048774.8404738\ttotal: 6.11s\tremaining: 2.48s\n",
      "2164:\tlearn: 4048223.9833895\ttotal: 6.11s\tremaining: 2.47s\n",
      "2165:\tlearn: 4047793.7661206\ttotal: 6.11s\tremaining: 2.47s\n",
      "2166:\tlearn: 4047414.1379062\ttotal: 6.12s\tremaining: 2.47s\n",
      "2167:\tlearn: 4046726.5744878\ttotal: 6.12s\tremaining: 2.46s\n",
      "2168:\tlearn: 4046027.0340553\ttotal: 6.12s\tremaining: 2.46s\n",
      "2169:\tlearn: 4045510.4884224\ttotal: 6.12s\tremaining: 2.46s\n",
      "2170:\tlearn: 4044924.4908030\ttotal: 6.13s\tremaining: 2.46s\n",
      "2171:\tlearn: 4044537.3205193\ttotal: 6.13s\tremaining: 2.45s\n",
      "2172:\tlearn: 4043764.6285774\ttotal: 6.13s\tremaining: 2.45s\n",
      "2173:\tlearn: 4042729.0981165\ttotal: 6.13s\tremaining: 2.45s\n",
      "2174:\tlearn: 4042356.8375068\ttotal: 6.14s\tremaining: 2.44s\n",
      "2175:\tlearn: 4041587.0086037\ttotal: 6.14s\tremaining: 2.44s\n",
      "2176:\tlearn: 4040770.3817328\ttotal: 6.14s\tremaining: 2.44s\n",
      "2177:\tlearn: 4040474.8876727\ttotal: 6.14s\tremaining: 2.44s\n",
      "2178:\tlearn: 4040001.6820355\ttotal: 6.15s\tremaining: 2.43s\n",
      "2179:\tlearn: 4039603.5336558\ttotal: 6.15s\tremaining: 2.43s\n",
      "2180:\tlearn: 4038997.7603510\ttotal: 6.15s\tremaining: 2.43s\n",
      "2181:\tlearn: 4038372.6498288\ttotal: 6.16s\tremaining: 2.42s\n",
      "2182:\tlearn: 4037845.7272794\ttotal: 6.16s\tremaining: 2.42s\n",
      "2183:\tlearn: 4037629.2513165\ttotal: 6.16s\tremaining: 2.42s\n",
      "2184:\tlearn: 4036955.8659665\ttotal: 6.16s\tremaining: 2.41s\n",
      "2185:\tlearn: 4036482.8376356\ttotal: 6.17s\tremaining: 2.41s\n",
      "2186:\tlearn: 4035852.9873328\ttotal: 6.17s\tremaining: 2.41s\n",
      "2187:\tlearn: 4035616.9099701\ttotal: 6.17s\tremaining: 2.4s\n",
      "2188:\tlearn: 4035263.3544995\ttotal: 6.17s\tremaining: 2.4s\n",
      "2189:\tlearn: 4034393.2559375\ttotal: 6.18s\tremaining: 2.4s\n",
      "2190:\tlearn: 4033734.7736667\ttotal: 6.18s\tremaining: 2.4s\n",
      "2191:\tlearn: 4033175.1992768\ttotal: 6.18s\tremaining: 2.39s\n",
      "2192:\tlearn: 4032706.9942414\ttotal: 6.18s\tremaining: 2.39s\n",
      "2193:\tlearn: 4032159.1973526\ttotal: 6.18s\tremaining: 2.39s\n",
      "2194:\tlearn: 4031838.7447834\ttotal: 6.19s\tremaining: 2.38s\n",
      "2195:\tlearn: 4031114.5398636\ttotal: 6.19s\tremaining: 2.38s\n",
      "2196:\tlearn: 4030554.2041661\ttotal: 6.19s\tremaining: 2.38s\n",
      "2197:\tlearn: 4030317.9297950\ttotal: 6.2s\tremaining: 2.38s\n",
      "2198:\tlearn: 4029740.8603783\ttotal: 6.2s\tremaining: 2.37s\n",
      "2199:\tlearn: 4029125.0823457\ttotal: 6.2s\tremaining: 2.37s\n",
      "2200:\tlearn: 4028826.6199036\ttotal: 6.2s\tremaining: 2.37s\n",
      "2201:\tlearn: 4028515.8301860\ttotal: 6.21s\tremaining: 2.36s\n",
      "2202:\tlearn: 4028109.5720537\ttotal: 6.21s\tremaining: 2.36s\n",
      "2203:\tlearn: 4027128.5515831\ttotal: 6.21s\tremaining: 2.36s\n",
      "2204:\tlearn: 4025951.1130967\ttotal: 6.21s\tremaining: 2.35s\n",
      "2205:\tlearn: 4025562.4543115\ttotal: 6.21s\tremaining: 2.35s\n",
      "2206:\tlearn: 4024904.4838214\ttotal: 6.22s\tremaining: 2.35s\n",
      "2207:\tlearn: 4024604.0299492\ttotal: 6.22s\tremaining: 2.35s\n",
      "2208:\tlearn: 4024137.5738379\ttotal: 6.22s\tremaining: 2.34s\n",
      "2209:\tlearn: 4023428.4048032\ttotal: 6.22s\tremaining: 2.34s\n",
      "2210:\tlearn: 4023134.1511266\ttotal: 6.23s\tremaining: 2.34s\n",
      "2211:\tlearn: 4022276.4515580\ttotal: 6.23s\tremaining: 2.33s\n",
      "2212:\tlearn: 4021705.3431620\ttotal: 6.23s\tremaining: 2.33s\n",
      "2213:\tlearn: 4020720.6690291\ttotal: 6.24s\tremaining: 2.33s\n",
      "2214:\tlearn: 4020217.9359948\ttotal: 6.24s\tremaining: 2.33s\n",
      "2215:\tlearn: 4019783.2819792\ttotal: 6.24s\tremaining: 2.32s\n",
      "2216:\tlearn: 4019543.1024352\ttotal: 6.24s\tremaining: 2.32s\n",
      "2217:\tlearn: 4019152.4067010\ttotal: 6.25s\tremaining: 2.32s\n",
      "2218:\tlearn: 4018639.6995765\ttotal: 6.25s\tremaining: 2.31s\n",
      "2219:\tlearn: 4017808.6789865\ttotal: 6.25s\tremaining: 2.31s\n",
      "2220:\tlearn: 4017135.5681740\ttotal: 6.25s\tremaining: 2.31s\n",
      "2221:\tlearn: 4016653.0820069\ttotal: 6.26s\tremaining: 2.31s\n",
      "2222:\tlearn: 4016222.2145054\ttotal: 6.26s\tremaining: 2.3s\n",
      "2223:\tlearn: 4015779.9633795\ttotal: 6.26s\tremaining: 2.3s\n",
      "2224:\tlearn: 4015262.3660315\ttotal: 6.26s\tremaining: 2.3s\n",
      "2225:\tlearn: 4015001.8342929\ttotal: 6.27s\tremaining: 2.29s\n",
      "2226:\tlearn: 4014440.2032879\ttotal: 6.27s\tremaining: 2.29s\n",
      "2227:\tlearn: 4014325.4548105\ttotal: 6.27s\tremaining: 2.29s\n",
      "2228:\tlearn: 4014131.4338691\ttotal: 6.27s\tremaining: 2.29s\n",
      "2229:\tlearn: 4013797.8020134\ttotal: 6.28s\tremaining: 2.28s\n",
      "2230:\tlearn: 4012851.5642895\ttotal: 6.28s\tremaining: 2.28s\n",
      "2231:\tlearn: 4012633.5887437\ttotal: 6.28s\tremaining: 2.28s\n",
      "2232:\tlearn: 4012423.5475036\ttotal: 6.28s\tremaining: 2.27s\n",
      "2233:\tlearn: 4011703.0711061\ttotal: 6.29s\tremaining: 2.27s\n",
      "2234:\tlearn: 4011105.3754993\ttotal: 6.29s\tremaining: 2.27s\n",
      "2235:\tlearn: 4010719.8605547\ttotal: 6.29s\tremaining: 2.27s\n",
      "2236:\tlearn: 4010264.8951348\ttotal: 6.29s\tremaining: 2.26s\n",
      "2237:\tlearn: 4010154.2824688\ttotal: 6.3s\tremaining: 2.26s\n",
      "2238:\tlearn: 4009940.5636952\ttotal: 6.3s\tremaining: 2.26s\n",
      "2239:\tlearn: 4009508.4838439\ttotal: 6.3s\tremaining: 2.25s\n",
      "2240:\tlearn: 4009199.4417523\ttotal: 6.3s\tremaining: 2.25s\n",
      "2241:\tlearn: 4008810.1103558\ttotal: 6.31s\tremaining: 2.25s\n",
      "2242:\tlearn: 4008424.9824783\ttotal: 6.31s\tremaining: 2.24s\n",
      "2243:\tlearn: 4007723.7639671\ttotal: 6.31s\tremaining: 2.24s\n",
      "2244:\tlearn: 4006915.0220672\ttotal: 6.31s\tremaining: 2.24s\n",
      "2245:\tlearn: 4006570.1167941\ttotal: 6.32s\tremaining: 2.23s\n",
      "2246:\tlearn: 4005970.9564433\ttotal: 6.32s\tremaining: 2.23s\n",
      "2247:\tlearn: 4005746.1787764\ttotal: 6.32s\tremaining: 2.23s\n",
      "2248:\tlearn: 4005240.1152773\ttotal: 6.33s\tremaining: 2.23s\n",
      "2249:\tlearn: 4004270.4527479\ttotal: 6.33s\tremaining: 2.22s\n",
      "2250:\tlearn: 4003684.0024810\ttotal: 6.33s\tremaining: 2.22s\n",
      "2251:\tlearn: 4003364.8292126\ttotal: 6.33s\tremaining: 2.22s\n",
      "2252:\tlearn: 4003013.6863527\ttotal: 6.33s\tremaining: 2.21s\n",
      "2253:\tlearn: 4002713.6049948\ttotal: 6.34s\tremaining: 2.21s\n",
      "2254:\tlearn: 4002254.2389735\ttotal: 6.34s\tremaining: 2.21s\n",
      "2255:\tlearn: 4001325.1388261\ttotal: 6.34s\tremaining: 2.21s\n",
      "2256:\tlearn: 4001143.6133955\ttotal: 6.35s\tremaining: 2.2s\n",
      "2257:\tlearn: 4001001.2050002\ttotal: 6.35s\tremaining: 2.2s\n",
      "2258:\tlearn: 4000813.4832356\ttotal: 6.35s\tremaining: 2.2s\n",
      "2259:\tlearn: 4000328.7660925\ttotal: 6.36s\tremaining: 2.2s\n",
      "2260:\tlearn: 3999783.8805599\ttotal: 6.36s\tremaining: 2.19s\n",
      "2261:\tlearn: 3999292.1790779\ttotal: 6.36s\tremaining: 2.19s\n",
      "2262:\tlearn: 3998619.3546209\ttotal: 6.36s\tremaining: 2.19s\n",
      "2263:\tlearn: 3997938.4085848\ttotal: 6.37s\tremaining: 2.18s\n",
      "2264:\tlearn: 3997585.2367088\ttotal: 6.37s\tremaining: 2.18s\n",
      "2265:\tlearn: 3997362.5568298\ttotal: 6.37s\tremaining: 2.18s\n",
      "2266:\tlearn: 3996742.6507491\ttotal: 6.37s\tremaining: 2.18s\n",
      "2267:\tlearn: 3996057.9843832\ttotal: 6.38s\tremaining: 2.17s\n",
      "2268:\tlearn: 3995597.4166461\ttotal: 6.38s\tremaining: 2.17s\n",
      "2269:\tlearn: 3994923.4715032\ttotal: 6.38s\tremaining: 2.17s\n",
      "2270:\tlearn: 3994815.0056754\ttotal: 6.38s\tremaining: 2.16s\n",
      "2271:\tlearn: 3994419.5836267\ttotal: 6.39s\tremaining: 2.16s\n",
      "2272:\tlearn: 3993595.8856468\ttotal: 6.39s\tremaining: 2.16s\n",
      "2273:\tlearn: 3992799.1257642\ttotal: 6.39s\tremaining: 2.16s\n",
      "2274:\tlearn: 3992653.6063983\ttotal: 6.4s\tremaining: 2.15s\n",
      "2275:\tlearn: 3992215.5373504\ttotal: 6.4s\tremaining: 2.15s\n",
      "2276:\tlearn: 3991745.1061128\ttotal: 6.4s\tremaining: 2.15s\n",
      "2277:\tlearn: 3991171.1587635\ttotal: 6.41s\tremaining: 2.15s\n",
      "2278:\tlearn: 3990916.0966488\ttotal: 6.41s\tremaining: 2.14s\n",
      "2279:\tlearn: 3990325.2625985\ttotal: 6.41s\tremaining: 2.14s\n",
      "2280:\tlearn: 3989619.4200207\ttotal: 6.41s\tremaining: 2.14s\n",
      "2281:\tlearn: 3989040.2334035\ttotal: 6.42s\tremaining: 2.13s\n",
      "2282:\tlearn: 3988361.2707608\ttotal: 6.42s\tremaining: 2.13s\n",
      "2283:\tlearn: 3987885.8234338\ttotal: 6.42s\tremaining: 2.13s\n",
      "2284:\tlearn: 3987597.9755930\ttotal: 6.42s\tremaining: 2.13s\n",
      "2285:\tlearn: 3986843.5973147\ttotal: 6.43s\tremaining: 2.12s\n",
      "2286:\tlearn: 3986492.9975187\ttotal: 6.43s\tremaining: 2.12s\n",
      "2287:\tlearn: 3986178.2735985\ttotal: 6.43s\tremaining: 2.12s\n",
      "2288:\tlearn: 3985810.1958781\ttotal: 6.44s\tremaining: 2.11s\n",
      "2289:\tlearn: 3984758.3625917\ttotal: 6.44s\tremaining: 2.11s\n",
      "2290:\tlearn: 3984187.7605921\ttotal: 6.44s\tremaining: 2.11s\n",
      "2291:\tlearn: 3983809.4081657\ttotal: 6.45s\tremaining: 2.11s\n",
      "2292:\tlearn: 3983450.4060942\ttotal: 6.45s\tremaining: 2.1s\n",
      "2293:\tlearn: 3983090.0738567\ttotal: 6.45s\tremaining: 2.1s\n",
      "2294:\tlearn: 3982750.2751909\ttotal: 6.45s\tremaining: 2.1s\n",
      "2295:\tlearn: 3982407.7901733\ttotal: 6.46s\tremaining: 2.1s\n",
      "2296:\tlearn: 3981816.6338022\ttotal: 6.46s\tremaining: 2.09s\n",
      "2297:\tlearn: 3981604.3847899\ttotal: 6.46s\tremaining: 2.09s\n",
      "2298:\tlearn: 3981117.3989418\ttotal: 6.47s\tremaining: 2.09s\n",
      "2299:\tlearn: 3980769.8971593\ttotal: 6.47s\tremaining: 2.08s\n",
      "2300:\tlearn: 3979881.7087493\ttotal: 6.47s\tremaining: 2.08s\n",
      "2301:\tlearn: 3979499.2250584\ttotal: 6.48s\tremaining: 2.08s\n",
      "2302:\tlearn: 3979173.8017631\ttotal: 6.48s\tremaining: 2.08s\n",
      "2303:\tlearn: 3979030.0927047\ttotal: 6.48s\tremaining: 2.07s\n",
      "2304:\tlearn: 3978547.9964698\ttotal: 6.49s\tremaining: 2.07s\n",
      "2305:\tlearn: 3978223.9947505\ttotal: 6.49s\tremaining: 2.07s\n",
      "2306:\tlearn: 3977991.5539996\ttotal: 6.49s\tremaining: 2.06s\n",
      "2307:\tlearn: 3977386.6329185\ttotal: 6.49s\tremaining: 2.06s\n",
      "2308:\tlearn: 3976389.4372149\ttotal: 6.5s\tremaining: 2.06s\n",
      "2309:\tlearn: 3975821.4462599\ttotal: 6.5s\tremaining: 2.06s\n",
      "2310:\tlearn: 3975470.0747182\ttotal: 6.5s\tremaining: 2.05s\n",
      "2311:\tlearn: 3975075.9587188\ttotal: 6.5s\tremaining: 2.05s\n",
      "2312:\tlearn: 3974787.0856618\ttotal: 6.51s\tremaining: 2.05s\n",
      "2313:\tlearn: 3974119.5851963\ttotal: 6.51s\tremaining: 2.05s\n",
      "2314:\tlearn: 3974031.6207285\ttotal: 6.51s\tremaining: 2.04s\n",
      "2315:\tlearn: 3973549.3021435\ttotal: 6.52s\tremaining: 2.04s\n",
      "2316:\tlearn: 3973183.8080553\ttotal: 6.52s\tremaining: 2.04s\n",
      "2317:\tlearn: 3972808.8435886\ttotal: 6.52s\tremaining: 2.03s\n",
      "2318:\tlearn: 3972467.4946903\ttotal: 6.53s\tremaining: 2.03s\n",
      "2319:\tlearn: 3972265.2010011\ttotal: 6.53s\tremaining: 2.03s\n",
      "2320:\tlearn: 3971915.2603365\ttotal: 6.53s\tremaining: 2.03s\n",
      "2321:\tlearn: 3971710.8516454\ttotal: 6.54s\tremaining: 2.02s\n",
      "2322:\tlearn: 3971216.5141154\ttotal: 6.54s\tremaining: 2.02s\n",
      "2323:\tlearn: 3970713.4585516\ttotal: 6.54s\tremaining: 2.02s\n",
      "2324:\tlearn: 3970515.7868295\ttotal: 6.54s\tremaining: 2.02s\n",
      "2325:\tlearn: 3970008.8170556\ttotal: 6.55s\tremaining: 2.01s\n",
      "2326:\tlearn: 3969665.2982899\ttotal: 6.55s\tremaining: 2.01s\n",
      "2327:\tlearn: 3969204.1314232\ttotal: 6.55s\tremaining: 2.01s\n",
      "2328:\tlearn: 3968905.4399922\ttotal: 6.55s\tremaining: 2s\n",
      "2329:\tlearn: 3968513.4024022\ttotal: 6.56s\tremaining: 2s\n",
      "2330:\tlearn: 3968152.2770499\ttotal: 6.56s\tremaining: 2s\n",
      "2331:\tlearn: 3967799.7477784\ttotal: 6.56s\tremaining: 2s\n",
      "2332:\tlearn: 3967185.4465642\ttotal: 6.57s\tremaining: 1.99s\n",
      "2333:\tlearn: 3966564.5238673\ttotal: 6.57s\tremaining: 1.99s\n",
      "2334:\tlearn: 3966323.8630341\ttotal: 6.57s\tremaining: 1.99s\n",
      "2335:\tlearn: 3965997.1424338\ttotal: 6.57s\tremaining: 1.98s\n",
      "2336:\tlearn: 3965738.1826285\ttotal: 6.58s\tremaining: 1.98s\n",
      "2337:\tlearn: 3964949.3876438\ttotal: 6.58s\tremaining: 1.98s\n",
      "2338:\tlearn: 3964259.8438986\ttotal: 6.58s\tremaining: 1.98s\n",
      "2339:\tlearn: 3963948.4913142\ttotal: 6.59s\tremaining: 1.97s\n",
      "2340:\tlearn: 3963549.1932471\ttotal: 6.59s\tremaining: 1.97s\n",
      "2341:\tlearn: 3963221.4257666\ttotal: 6.59s\tremaining: 1.97s\n",
      "2342:\tlearn: 3962610.1502320\ttotal: 6.6s\tremaining: 1.97s\n",
      "2343:\tlearn: 3961941.2649116\ttotal: 6.6s\tremaining: 1.96s\n",
      "2344:\tlearn: 3961409.2560993\ttotal: 6.6s\tremaining: 1.96s\n",
      "2345:\tlearn: 3960862.2259871\ttotal: 6.6s\tremaining: 1.96s\n",
      "2346:\tlearn: 3960632.0768772\ttotal: 6.61s\tremaining: 1.95s\n",
      "2347:\tlearn: 3960299.1269510\ttotal: 6.61s\tremaining: 1.95s\n",
      "2348:\tlearn: 3959652.6836334\ttotal: 6.61s\tremaining: 1.95s\n",
      "2349:\tlearn: 3958974.1922213\ttotal: 6.62s\tremaining: 1.95s\n",
      "2350:\tlearn: 3958787.6900924\ttotal: 6.62s\tremaining: 1.94s\n",
      "2351:\tlearn: 3958199.1053755\ttotal: 6.62s\tremaining: 1.94s\n",
      "2352:\tlearn: 3958098.7342592\ttotal: 6.62s\tremaining: 1.94s\n",
      "2353:\tlearn: 3957691.2414823\ttotal: 6.63s\tremaining: 1.93s\n",
      "2354:\tlearn: 3956851.3943257\ttotal: 6.63s\tremaining: 1.93s\n",
      "2355:\tlearn: 3956311.7297903\ttotal: 6.63s\tremaining: 1.93s\n",
      "2356:\tlearn: 3955721.0411126\ttotal: 6.63s\tremaining: 1.93s\n",
      "2357:\tlearn: 3955173.6892778\ttotal: 6.64s\tremaining: 1.92s\n",
      "2358:\tlearn: 3954488.1821099\ttotal: 6.64s\tremaining: 1.92s\n",
      "2359:\tlearn: 3953788.1585942\ttotal: 6.64s\tremaining: 1.92s\n",
      "2360:\tlearn: 3953362.3536885\ttotal: 6.65s\tremaining: 1.91s\n",
      "2361:\tlearn: 3953226.4860117\ttotal: 6.65s\tremaining: 1.91s\n",
      "2362:\tlearn: 3952527.0218815\ttotal: 6.65s\tremaining: 1.91s\n",
      "2363:\tlearn: 3952221.1814357\ttotal: 6.65s\tremaining: 1.91s\n",
      "2364:\tlearn: 3951797.5866500\ttotal: 6.66s\tremaining: 1.9s\n",
      "2365:\tlearn: 3951472.1250937\ttotal: 6.66s\tremaining: 1.9s\n",
      "2366:\tlearn: 3950961.9359121\ttotal: 6.66s\tremaining: 1.9s\n",
      "2367:\tlearn: 3950591.9709102\ttotal: 6.67s\tremaining: 1.89s\n",
      "2368:\tlearn: 3949986.0834944\ttotal: 6.67s\tremaining: 1.89s\n",
      "2369:\tlearn: 3949357.0220839\ttotal: 6.67s\tremaining: 1.89s\n",
      "2370:\tlearn: 3948904.5315032\ttotal: 6.67s\tremaining: 1.89s\n",
      "2371:\tlearn: 3948400.7354266\ttotal: 6.68s\tremaining: 1.88s\n",
      "2372:\tlearn: 3947795.9311360\ttotal: 6.68s\tremaining: 1.88s\n",
      "2373:\tlearn: 3947733.0131562\ttotal: 6.68s\tremaining: 1.88s\n",
      "2374:\tlearn: 3947084.2901466\ttotal: 6.68s\tremaining: 1.87s\n",
      "2375:\tlearn: 3946284.9705826\ttotal: 6.69s\tremaining: 1.87s\n",
      "2376:\tlearn: 3945468.2857806\ttotal: 6.71s\tremaining: 1.88s\n",
      "2377:\tlearn: 3944978.3597702\ttotal: 6.72s\tremaining: 1.87s\n",
      "2378:\tlearn: 3944625.3406373\ttotal: 6.72s\tremaining: 1.87s\n",
      "2379:\tlearn: 3944132.6284933\ttotal: 6.72s\tremaining: 1.87s\n",
      "2380:\tlearn: 3943713.6987653\ttotal: 6.72s\tremaining: 1.86s\n",
      "2381:\tlearn: 3943618.4128630\ttotal: 6.73s\tremaining: 1.86s\n",
      "2382:\tlearn: 3942867.2167754\ttotal: 6.73s\tremaining: 1.86s\n",
      "2383:\tlearn: 3942411.6239744\ttotal: 6.73s\tremaining: 1.85s\n",
      "2384:\tlearn: 3941930.8178393\ttotal: 6.74s\tremaining: 1.85s\n",
      "2385:\tlearn: 3941485.3693142\ttotal: 6.74s\tremaining: 1.85s\n",
      "2386:\tlearn: 3941361.5565062\ttotal: 6.74s\tremaining: 1.85s\n",
      "2387:\tlearn: 3940419.3739993\ttotal: 6.74s\tremaining: 1.84s\n",
      "2388:\tlearn: 3939852.2759988\ttotal: 6.75s\tremaining: 1.84s\n",
      "2389:\tlearn: 3939532.8984650\ttotal: 6.75s\tremaining: 1.84s\n",
      "2390:\tlearn: 3938891.4942214\ttotal: 6.75s\tremaining: 1.83s\n",
      "2391:\tlearn: 3938629.8248463\ttotal: 6.75s\tremaining: 1.83s\n",
      "2392:\tlearn: 3938191.5214075\ttotal: 6.76s\tremaining: 1.83s\n",
      "2393:\tlearn: 3937752.8378905\ttotal: 6.76s\tremaining: 1.83s\n",
      "2394:\tlearn: 3937167.4840495\ttotal: 6.76s\tremaining: 1.82s\n",
      "2395:\tlearn: 3936591.8592152\ttotal: 6.76s\tremaining: 1.82s\n",
      "2396:\tlearn: 3935969.1711352\ttotal: 6.77s\tremaining: 1.82s\n",
      "2397:\tlearn: 3935241.4659673\ttotal: 6.77s\tremaining: 1.81s\n",
      "2398:\tlearn: 3934807.8541118\ttotal: 6.77s\tremaining: 1.81s\n",
      "2399:\tlearn: 3934060.9858814\ttotal: 6.78s\tremaining: 1.81s\n",
      "2400:\tlearn: 3933911.9934687\ttotal: 6.78s\tremaining: 1.81s\n",
      "2401:\tlearn: 3933529.2811883\ttotal: 6.78s\tremaining: 1.8s\n",
      "2402:\tlearn: 3933297.5589542\ttotal: 6.78s\tremaining: 1.8s\n",
      "2403:\tlearn: 3932551.4228883\ttotal: 6.79s\tremaining: 1.8s\n",
      "2404:\tlearn: 3932225.0782571\ttotal: 6.79s\tremaining: 1.79s\n",
      "2405:\tlearn: 3931780.2823463\ttotal: 6.79s\tremaining: 1.79s\n",
      "2406:\tlearn: 3931365.4901238\ttotal: 6.79s\tremaining: 1.79s\n",
      "2407:\tlearn: 3930451.2694069\ttotal: 6.8s\tremaining: 1.79s\n",
      "2408:\tlearn: 3930085.1773002\ttotal: 6.8s\tremaining: 1.78s\n",
      "2409:\tlearn: 3929411.5289773\ttotal: 6.8s\tremaining: 1.78s\n",
      "2410:\tlearn: 3929029.2503684\ttotal: 6.8s\tremaining: 1.78s\n",
      "2411:\tlearn: 3928444.8500088\ttotal: 6.81s\tremaining: 1.77s\n",
      "2412:\tlearn: 3927666.6294368\ttotal: 6.81s\tremaining: 1.77s\n",
      "2413:\tlearn: 3927457.5157956\ttotal: 6.81s\tremaining: 1.77s\n",
      "2414:\tlearn: 3927019.8467402\ttotal: 6.82s\tremaining: 1.77s\n",
      "2415:\tlearn: 3926628.4603090\ttotal: 6.82s\tremaining: 1.76s\n",
      "2416:\tlearn: 3926450.0461955\ttotal: 6.82s\tremaining: 1.76s\n",
      "2417:\tlearn: 3926105.4861201\ttotal: 6.82s\tremaining: 1.76s\n",
      "2418:\tlearn: 3925188.0708237\ttotal: 6.83s\tremaining: 1.75s\n",
      "2419:\tlearn: 3924780.9553687\ttotal: 6.83s\tremaining: 1.75s\n",
      "2420:\tlearn: 3924661.4323668\ttotal: 6.83s\tremaining: 1.75s\n",
      "2421:\tlearn: 3924247.3120495\ttotal: 6.83s\tremaining: 1.75s\n",
      "2422:\tlearn: 3923890.9560327\ttotal: 6.84s\tremaining: 1.74s\n",
      "2423:\tlearn: 3923670.0597690\ttotal: 6.84s\tremaining: 1.74s\n",
      "2424:\tlearn: 3923213.5105412\ttotal: 6.84s\tremaining: 1.74s\n",
      "2425:\tlearn: 3922823.2739714\ttotal: 6.84s\tremaining: 1.73s\n",
      "2426:\tlearn: 3922101.7070964\ttotal: 6.85s\tremaining: 1.73s\n",
      "2427:\tlearn: 3921780.1244265\ttotal: 6.85s\tremaining: 1.73s\n",
      "2428:\tlearn: 3921421.6013841\ttotal: 6.85s\tremaining: 1.73s\n",
      "2429:\tlearn: 3921211.3139278\ttotal: 6.85s\tremaining: 1.72s\n",
      "2430:\tlearn: 3920883.3623155\ttotal: 6.86s\tremaining: 1.72s\n",
      "2431:\tlearn: 3920369.3106057\ttotal: 6.86s\tremaining: 1.72s\n",
      "2432:\tlearn: 3920120.8949209\ttotal: 6.86s\tremaining: 1.71s\n",
      "2433:\tlearn: 3919764.6027037\ttotal: 6.86s\tremaining: 1.71s\n",
      "2434:\tlearn: 3919180.2013308\ttotal: 6.87s\tremaining: 1.71s\n",
      "2435:\tlearn: 3918645.4464992\ttotal: 6.87s\tremaining: 1.71s\n",
      "2436:\tlearn: 3918108.1092700\ttotal: 6.88s\tremaining: 1.7s\n",
      "2437:\tlearn: 3917963.2286624\ttotal: 6.88s\tremaining: 1.7s\n",
      "2438:\tlearn: 3917747.5965324\ttotal: 6.88s\tremaining: 1.7s\n",
      "2439:\tlearn: 3917429.0500016\ttotal: 6.88s\tremaining: 1.7s\n",
      "2440:\tlearn: 3916737.9144594\ttotal: 6.89s\tremaining: 1.69s\n",
      "2441:\tlearn: 3916621.0073180\ttotal: 6.89s\tremaining: 1.69s\n",
      "2442:\tlearn: 3916141.5221367\ttotal: 6.89s\tremaining: 1.69s\n",
      "2443:\tlearn: 3915862.4472360\ttotal: 6.89s\tremaining: 1.68s\n",
      "2444:\tlearn: 3915284.3707414\ttotal: 6.9s\tremaining: 1.68s\n",
      "2445:\tlearn: 3915010.9677510\ttotal: 6.9s\tremaining: 1.68s\n",
      "2446:\tlearn: 3914906.0212250\ttotal: 6.9s\tremaining: 1.68s\n",
      "2447:\tlearn: 3914542.7101557\ttotal: 6.91s\tremaining: 1.67s\n",
      "2448:\tlearn: 3913827.8448286\ttotal: 6.91s\tremaining: 1.67s\n",
      "2449:\tlearn: 3913311.0380093\ttotal: 6.91s\tremaining: 1.67s\n",
      "2450:\tlearn: 3912384.6776637\ttotal: 6.91s\tremaining: 1.66s\n",
      "2451:\tlearn: 3911792.9373798\ttotal: 6.92s\tremaining: 1.66s\n",
      "2452:\tlearn: 3911592.6375646\ttotal: 6.92s\tremaining: 1.66s\n",
      "2453:\tlearn: 3910878.8820043\ttotal: 6.92s\tremaining: 1.66s\n",
      "2454:\tlearn: 3910715.7249129\ttotal: 6.92s\tremaining: 1.65s\n",
      "2455:\tlearn: 3910572.1300472\ttotal: 6.93s\tremaining: 1.65s\n",
      "2456:\tlearn: 3910117.5885491\ttotal: 6.93s\tremaining: 1.65s\n",
      "2457:\tlearn: 3909673.2134171\ttotal: 6.93s\tremaining: 1.64s\n",
      "2458:\tlearn: 3909503.3280867\ttotal: 6.94s\tremaining: 1.64s\n",
      "2459:\tlearn: 3909155.0715973\ttotal: 6.94s\tremaining: 1.64s\n",
      "2460:\tlearn: 3909006.3517586\ttotal: 6.94s\tremaining: 1.64s\n",
      "2461:\tlearn: 3908470.4852353\ttotal: 6.94s\tremaining: 1.63s\n",
      "2462:\tlearn: 3908161.0552747\ttotal: 6.95s\tremaining: 1.63s\n",
      "2463:\tlearn: 3907549.0845053\ttotal: 6.95s\tremaining: 1.63s\n",
      "2464:\tlearn: 3907060.8683516\ttotal: 6.95s\tremaining: 1.62s\n",
      "2465:\tlearn: 3906466.2962322\ttotal: 6.96s\tremaining: 1.62s\n",
      "2466:\tlearn: 3905875.4394803\ttotal: 6.96s\tremaining: 1.62s\n",
      "2467:\tlearn: 3905435.4447661\ttotal: 6.96s\tremaining: 1.62s\n",
      "2468:\tlearn: 3905060.5649699\ttotal: 6.96s\tremaining: 1.61s\n",
      "2469:\tlearn: 3904313.0811620\ttotal: 6.97s\tremaining: 1.61s\n",
      "2470:\tlearn: 3903852.4953336\ttotal: 6.97s\tremaining: 1.61s\n",
      "2471:\tlearn: 3903635.8533078\ttotal: 6.97s\tremaining: 1.6s\n",
      "2472:\tlearn: 3902889.3499974\ttotal: 6.97s\tremaining: 1.6s\n",
      "2473:\tlearn: 3901856.7179339\ttotal: 6.98s\tremaining: 1.6s\n",
      "2474:\tlearn: 3901458.1336493\ttotal: 6.98s\tremaining: 1.6s\n",
      "2475:\tlearn: 3900690.5362302\ttotal: 6.98s\tremaining: 1.59s\n",
      "2476:\tlearn: 3900408.9424375\ttotal: 6.99s\tremaining: 1.59s\n",
      "2477:\tlearn: 3900023.4199623\ttotal: 6.99s\tremaining: 1.59s\n",
      "2478:\tlearn: 3899354.5891557\ttotal: 6.99s\tremaining: 1.58s\n",
      "2479:\tlearn: 3899094.5044326\ttotal: 6.99s\tremaining: 1.58s\n",
      "2480:\tlearn: 3898125.8058946\ttotal: 7s\tremaining: 1.58s\n",
      "2481:\tlearn: 3897648.5656056\ttotal: 7s\tremaining: 1.58s\n",
      "2482:\tlearn: 3897371.0925337\ttotal: 7s\tremaining: 1.57s\n",
      "2483:\tlearn: 3896908.8398263\ttotal: 7s\tremaining: 1.57s\n",
      "2484:\tlearn: 3896305.1379198\ttotal: 7.01s\tremaining: 1.57s\n",
      "2485:\tlearn: 3895938.3495442\ttotal: 7.01s\tremaining: 1.56s\n",
      "2486:\tlearn: 3895631.5420064\ttotal: 7.01s\tremaining: 1.56s\n",
      "2487:\tlearn: 3895070.5039669\ttotal: 7.02s\tremaining: 1.56s\n",
      "2488:\tlearn: 3894427.0521808\ttotal: 7.02s\tremaining: 1.56s\n",
      "2489:\tlearn: 3893977.2533423\ttotal: 7.02s\tremaining: 1.55s\n",
      "2490:\tlearn: 3893459.3064345\ttotal: 7.02s\tremaining: 1.55s\n",
      "2491:\tlearn: 3893195.6286624\ttotal: 7.03s\tremaining: 1.55s\n",
      "2492:\tlearn: 3892896.2485088\ttotal: 7.03s\tremaining: 1.54s\n",
      "2493:\tlearn: 3892637.9510647\ttotal: 7.03s\tremaining: 1.54s\n",
      "2494:\tlearn: 3892054.9799256\ttotal: 7.04s\tremaining: 1.54s\n",
      "2495:\tlearn: 3891169.7288262\ttotal: 7.04s\tremaining: 1.54s\n",
      "2496:\tlearn: 3890447.7115514\ttotal: 7.04s\tremaining: 1.53s\n",
      "2497:\tlearn: 3890216.3997576\ttotal: 7.04s\tremaining: 1.53s\n",
      "2498:\tlearn: 3889910.1557354\ttotal: 7.04s\tremaining: 1.53s\n",
      "2499:\tlearn: 3889560.1473677\ttotal: 7.05s\tremaining: 1.52s\n",
      "2500:\tlearn: 3889391.6935264\ttotal: 7.05s\tremaining: 1.52s\n",
      "2501:\tlearn: 3888972.8810973\ttotal: 7.05s\tremaining: 1.52s\n",
      "2502:\tlearn: 3888753.2096348\ttotal: 7.06s\tremaining: 1.52s\n",
      "2503:\tlearn: 3888256.6416360\ttotal: 7.06s\tremaining: 1.51s\n",
      "2504:\tlearn: 3887711.3362629\ttotal: 7.06s\tremaining: 1.51s\n",
      "2505:\tlearn: 3887185.5415799\ttotal: 7.06s\tremaining: 1.51s\n",
      "2506:\tlearn: 3886895.0352955\ttotal: 7.07s\tremaining: 1.5s\n",
      "2507:\tlearn: 3886339.0124399\ttotal: 7.07s\tremaining: 1.5s\n",
      "2508:\tlearn: 3885943.6375668\ttotal: 7.07s\tremaining: 1.5s\n",
      "2509:\tlearn: 3885325.1011146\ttotal: 7.07s\tremaining: 1.5s\n",
      "2510:\tlearn: 3884712.9882764\ttotal: 7.08s\tremaining: 1.49s\n",
      "2511:\tlearn: 3884456.5302248\ttotal: 7.08s\tremaining: 1.49s\n",
      "2512:\tlearn: 3883853.5683159\ttotal: 7.08s\tremaining: 1.49s\n",
      "2513:\tlearn: 3883545.5955119\ttotal: 7.08s\tremaining: 1.49s\n",
      "2514:\tlearn: 3883092.9242829\ttotal: 7.09s\tremaining: 1.48s\n",
      "2515:\tlearn: 3882711.3355563\ttotal: 7.09s\tremaining: 1.48s\n",
      "2516:\tlearn: 3882171.7261199\ttotal: 7.09s\tremaining: 1.48s\n",
      "2517:\tlearn: 3881586.6323289\ttotal: 7.09s\tremaining: 1.47s\n",
      "2518:\tlearn: 3881240.0249614\ttotal: 7.1s\tremaining: 1.47s\n",
      "2519:\tlearn: 3880960.2916562\ttotal: 7.1s\tremaining: 1.47s\n",
      "2520:\tlearn: 3880627.2672765\ttotal: 7.1s\tremaining: 1.46s\n",
      "2521:\tlearn: 3880276.9100206\ttotal: 7.1s\tremaining: 1.46s\n",
      "2522:\tlearn: 3880029.2484836\ttotal: 7.11s\tremaining: 1.46s\n",
      "2523:\tlearn: 3879257.7973099\ttotal: 7.11s\tremaining: 1.46s\n",
      "2524:\tlearn: 3878626.6930749\ttotal: 7.11s\tremaining: 1.45s\n",
      "2525:\tlearn: 3878019.7068616\ttotal: 7.11s\tremaining: 1.45s\n",
      "2526:\tlearn: 3877592.2418866\ttotal: 7.12s\tremaining: 1.45s\n",
      "2527:\tlearn: 3877221.9606595\ttotal: 7.12s\tremaining: 1.44s\n",
      "2528:\tlearn: 3876879.1566949\ttotal: 7.12s\tremaining: 1.44s\n",
      "2529:\tlearn: 3876355.6133425\ttotal: 7.12s\tremaining: 1.44s\n",
      "2530:\tlearn: 3875797.4194555\ttotal: 7.13s\tremaining: 1.44s\n",
      "2531:\tlearn: 3875324.8828708\ttotal: 7.13s\tremaining: 1.43s\n",
      "2532:\tlearn: 3874839.6433412\ttotal: 7.13s\tremaining: 1.43s\n",
      "2533:\tlearn: 3874391.3070364\ttotal: 7.14s\tremaining: 1.43s\n",
      "2534:\tlearn: 3874240.8735173\ttotal: 7.14s\tremaining: 1.43s\n",
      "2535:\tlearn: 3873530.2957648\ttotal: 7.14s\tremaining: 1.42s\n",
      "2536:\tlearn: 3872905.0114718\ttotal: 7.14s\tremaining: 1.42s\n",
      "2537:\tlearn: 3872310.1378762\ttotal: 7.15s\tremaining: 1.42s\n",
      "2538:\tlearn: 3872014.0573863\ttotal: 7.15s\tremaining: 1.41s\n",
      "2539:\tlearn: 3871570.1944094\ttotal: 7.15s\tremaining: 1.41s\n",
      "2540:\tlearn: 3870830.6387833\ttotal: 7.16s\tremaining: 1.41s\n",
      "2541:\tlearn: 3870262.2705049\ttotal: 7.16s\tremaining: 1.41s\n",
      "2542:\tlearn: 3869659.9504447\ttotal: 7.16s\tremaining: 1.4s\n",
      "2543:\tlearn: 3869218.8489649\ttotal: 7.16s\tremaining: 1.4s\n",
      "2544:\tlearn: 3868915.5444748\ttotal: 7.17s\tremaining: 1.4s\n",
      "2545:\tlearn: 3868393.4098773\ttotal: 7.17s\tremaining: 1.39s\n",
      "2546:\tlearn: 3868332.2137328\ttotal: 7.17s\tremaining: 1.39s\n",
      "2547:\tlearn: 3867918.6534854\ttotal: 7.17s\tremaining: 1.39s\n",
      "2548:\tlearn: 3867578.3675226\ttotal: 7.18s\tremaining: 1.39s\n",
      "2549:\tlearn: 3867294.0834872\ttotal: 7.18s\tremaining: 1.38s\n",
      "2550:\tlearn: 3866980.1394735\ttotal: 7.18s\tremaining: 1.38s\n",
      "2551:\tlearn: 3866272.8375590\ttotal: 7.18s\tremaining: 1.38s\n",
      "2552:\tlearn: 3865699.7071901\ttotal: 7.19s\tremaining: 1.37s\n",
      "2553:\tlearn: 3865217.9951284\ttotal: 7.19s\tremaining: 1.37s\n",
      "2554:\tlearn: 3864830.5677118\ttotal: 7.19s\tremaining: 1.37s\n",
      "2555:\tlearn: 3864559.8045399\ttotal: 7.19s\tremaining: 1.36s\n",
      "2556:\tlearn: 3864077.3775891\ttotal: 7.2s\tremaining: 1.36s\n",
      "2557:\tlearn: 3863918.2202396\ttotal: 7.2s\tremaining: 1.36s\n",
      "2558:\tlearn: 3863493.8528662\ttotal: 7.2s\tremaining: 1.36s\n",
      "2559:\tlearn: 3863197.8109336\ttotal: 7.21s\tremaining: 1.35s\n",
      "2560:\tlearn: 3862842.7267538\ttotal: 7.21s\tremaining: 1.35s\n",
      "2561:\tlearn: 3862371.5801392\ttotal: 7.21s\tremaining: 1.35s\n",
      "2562:\tlearn: 3861732.3276862\ttotal: 7.21s\tremaining: 1.34s\n",
      "2563:\tlearn: 3861316.1698226\ttotal: 7.22s\tremaining: 1.34s\n",
      "2564:\tlearn: 3860748.8151331\ttotal: 7.22s\tremaining: 1.34s\n",
      "2565:\tlearn: 3860388.8737983\ttotal: 7.22s\tremaining: 1.34s\n",
      "2566:\tlearn: 3860060.4395065\ttotal: 7.22s\tremaining: 1.33s\n",
      "2567:\tlearn: 3859727.3904951\ttotal: 7.23s\tremaining: 1.33s\n",
      "2568:\tlearn: 3859518.2354897\ttotal: 7.23s\tremaining: 1.33s\n",
      "2569:\tlearn: 3859283.7335672\ttotal: 7.23s\tremaining: 1.32s\n",
      "2570:\tlearn: 3858579.9567901\ttotal: 7.24s\tremaining: 1.32s\n",
      "2571:\tlearn: 3857769.6688339\ttotal: 7.24s\tremaining: 1.32s\n",
      "2572:\tlearn: 3857364.0744509\ttotal: 7.24s\tremaining: 1.32s\n",
      "2573:\tlearn: 3857018.8743864\ttotal: 7.24s\tremaining: 1.31s\n",
      "2574:\tlearn: 3856674.6729727\ttotal: 7.25s\tremaining: 1.31s\n",
      "2575:\tlearn: 3856196.0798062\ttotal: 7.25s\tremaining: 1.31s\n",
      "2576:\tlearn: 3855506.7514839\ttotal: 7.25s\tremaining: 1.3s\n",
      "2577:\tlearn: 3854952.9344156\ttotal: 7.25s\tremaining: 1.3s\n",
      "2578:\tlearn: 3854503.0491290\ttotal: 7.26s\tremaining: 1.3s\n",
      "2579:\tlearn: 3854294.6085946\ttotal: 7.26s\tremaining: 1.3s\n",
      "2580:\tlearn: 3854040.3538553\ttotal: 7.26s\tremaining: 1.29s\n",
      "2581:\tlearn: 3853747.8178375\ttotal: 7.27s\tremaining: 1.29s\n",
      "2582:\tlearn: 3853531.8277977\ttotal: 7.27s\tremaining: 1.29s\n",
      "2583:\tlearn: 3852905.9790639\ttotal: 7.27s\tremaining: 1.29s\n",
      "2584:\tlearn: 3852715.8387045\ttotal: 7.28s\tremaining: 1.28s\n",
      "2585:\tlearn: 3852635.0157405\ttotal: 7.28s\tremaining: 1.28s\n",
      "2586:\tlearn: 3851971.1629277\ttotal: 7.28s\tremaining: 1.28s\n",
      "2587:\tlearn: 3851721.2812202\ttotal: 7.28s\tremaining: 1.27s\n",
      "2588:\tlearn: 3851042.7619229\ttotal: 7.29s\tremaining: 1.27s\n",
      "2589:\tlearn: 3850703.5310407\ttotal: 7.29s\tremaining: 1.27s\n",
      "2590:\tlearn: 3850490.4904648\ttotal: 7.29s\tremaining: 1.27s\n",
      "2591:\tlearn: 3850376.5117100\ttotal: 7.29s\tremaining: 1.26s\n",
      "2592:\tlearn: 3850095.1257717\ttotal: 7.29s\tremaining: 1.26s\n",
      "2593:\tlearn: 3849847.1212438\ttotal: 7.3s\tremaining: 1.26s\n",
      "2594:\tlearn: 3849623.2920425\ttotal: 7.3s\tremaining: 1.25s\n",
      "2595:\tlearn: 3849206.3567422\ttotal: 7.31s\tremaining: 1.25s\n",
      "2596:\tlearn: 3848841.0013103\ttotal: 7.31s\tremaining: 1.25s\n",
      "2597:\tlearn: 3848730.5543294\ttotal: 7.31s\tremaining: 1.25s\n",
      "2598:\tlearn: 3848479.3520899\ttotal: 7.31s\tremaining: 1.24s\n",
      "2599:\tlearn: 3848015.8599201\ttotal: 7.32s\tremaining: 1.24s\n",
      "2600:\tlearn: 3847635.1657015\ttotal: 7.32s\tremaining: 1.24s\n",
      "2601:\tlearn: 3847179.8300558\ttotal: 7.32s\tremaining: 1.24s\n",
      "2602:\tlearn: 3846750.3703145\ttotal: 7.32s\tremaining: 1.23s\n",
      "2603:\tlearn: 3846257.0689373\ttotal: 7.33s\tremaining: 1.23s\n",
      "2604:\tlearn: 3845987.1770870\ttotal: 7.33s\tremaining: 1.23s\n",
      "2605:\tlearn: 3845650.8196625\ttotal: 7.33s\tremaining: 1.22s\n",
      "2606:\tlearn: 3845080.2932303\ttotal: 7.34s\tremaining: 1.22s\n",
      "2607:\tlearn: 3844597.5128836\ttotal: 7.34s\tremaining: 1.22s\n",
      "2608:\tlearn: 3844315.1771549\ttotal: 7.34s\tremaining: 1.22s\n",
      "2609:\tlearn: 3843983.4748142\ttotal: 7.34s\tremaining: 1.21s\n",
      "2610:\tlearn: 3843504.0153459\ttotal: 7.35s\tremaining: 1.21s\n",
      "2611:\tlearn: 3843176.4393684\ttotal: 7.35s\tremaining: 1.21s\n",
      "2612:\tlearn: 3842670.2682848\ttotal: 7.35s\tremaining: 1.2s\n",
      "2613:\tlearn: 3842387.1425722\ttotal: 7.35s\tremaining: 1.2s\n",
      "2614:\tlearn: 3842076.7156987\ttotal: 7.36s\tremaining: 1.2s\n",
      "2615:\tlearn: 3841617.0015120\ttotal: 7.36s\tremaining: 1.2s\n",
      "2616:\tlearn: 3841396.8521507\ttotal: 7.36s\tremaining: 1.19s\n",
      "2617:\tlearn: 3840905.5174017\ttotal: 7.36s\tremaining: 1.19s\n",
      "2618:\tlearn: 3840773.3783427\ttotal: 7.37s\tremaining: 1.19s\n",
      "2619:\tlearn: 3840708.9374421\ttotal: 7.37s\tremaining: 1.18s\n",
      "2620:\tlearn: 3840068.9216382\ttotal: 7.37s\tremaining: 1.18s\n",
      "2621:\tlearn: 3839477.1065992\ttotal: 7.37s\tremaining: 1.18s\n",
      "2622:\tlearn: 3839132.9554716\ttotal: 7.38s\tremaining: 1.18s\n",
      "2623:\tlearn: 3838580.7707591\ttotal: 7.38s\tremaining: 1.17s\n",
      "2624:\tlearn: 3838108.9094504\ttotal: 7.38s\tremaining: 1.17s\n",
      "2625:\tlearn: 3837691.6393803\ttotal: 7.38s\tremaining: 1.17s\n",
      "2626:\tlearn: 3837272.0714173\ttotal: 7.39s\tremaining: 1.16s\n",
      "2627:\tlearn: 3836947.2436468\ttotal: 7.39s\tremaining: 1.16s\n",
      "2628:\tlearn: 3836534.7148911\ttotal: 7.39s\tremaining: 1.16s\n",
      "2629:\tlearn: 3836193.6253981\ttotal: 7.4s\tremaining: 1.16s\n",
      "2630:\tlearn: 3835845.7048324\ttotal: 7.4s\tremaining: 1.15s\n",
      "2631:\tlearn: 3835166.9222052\ttotal: 7.4s\tremaining: 1.15s\n",
      "2632:\tlearn: 3834716.0242001\ttotal: 7.4s\tremaining: 1.15s\n",
      "2633:\tlearn: 3834242.0229582\ttotal: 7.41s\tremaining: 1.14s\n",
      "2634:\tlearn: 3833537.9577232\ttotal: 7.41s\tremaining: 1.14s\n",
      "2635:\tlearn: 3833255.2549662\ttotal: 7.41s\tremaining: 1.14s\n",
      "2636:\tlearn: 3832994.9577713\ttotal: 7.41s\tremaining: 1.14s\n",
      "2637:\tlearn: 3832854.8440105\ttotal: 7.42s\tremaining: 1.13s\n",
      "2638:\tlearn: 3832140.7621004\ttotal: 7.42s\tremaining: 1.13s\n",
      "2639:\tlearn: 3831817.4729900\ttotal: 7.42s\tremaining: 1.13s\n",
      "2640:\tlearn: 3831519.2546664\ttotal: 7.42s\tremaining: 1.12s\n",
      "2641:\tlearn: 3831198.5875298\ttotal: 7.43s\tremaining: 1.12s\n",
      "2642:\tlearn: 3830891.9573190\ttotal: 7.43s\tremaining: 1.12s\n",
      "2643:\tlearn: 3830636.7619852\ttotal: 7.43s\tremaining: 1.11s\n",
      "2644:\tlearn: 3830242.5300070\ttotal: 7.43s\tremaining: 1.11s\n",
      "2645:\tlearn: 3829552.6659063\ttotal: 7.44s\tremaining: 1.11s\n",
      "2646:\tlearn: 3829109.9498234\ttotal: 7.44s\tremaining: 1.11s\n",
      "2647:\tlearn: 3828864.1140970\ttotal: 7.44s\tremaining: 1.1s\n",
      "2648:\tlearn: 3828263.5990244\ttotal: 7.44s\tremaining: 1.1s\n",
      "2649:\tlearn: 3827827.3813568\ttotal: 7.45s\tremaining: 1.1s\n",
      "2650:\tlearn: 3827267.0706296\ttotal: 7.45s\tremaining: 1.1s\n",
      "2651:\tlearn: 3826800.6609409\ttotal: 7.45s\tremaining: 1.09s\n",
      "2652:\tlearn: 3826581.7227047\ttotal: 7.45s\tremaining: 1.09s\n",
      "2653:\tlearn: 3826285.4047760\ttotal: 7.46s\tremaining: 1.09s\n",
      "2654:\tlearn: 3825728.0979978\ttotal: 7.46s\tremaining: 1.08s\n",
      "2655:\tlearn: 3825342.4180825\ttotal: 7.46s\tremaining: 1.08s\n",
      "2656:\tlearn: 3824820.6178256\ttotal: 7.46s\tremaining: 1.08s\n",
      "2657:\tlearn: 3824450.0071023\ttotal: 7.47s\tremaining: 1.08s\n",
      "2658:\tlearn: 3824013.9338478\ttotal: 7.47s\tremaining: 1.07s\n",
      "2659:\tlearn: 3823357.1461959\ttotal: 7.47s\tremaining: 1.07s\n",
      "2660:\tlearn: 3822792.3519518\ttotal: 7.47s\tremaining: 1.07s\n",
      "2661:\tlearn: 3822506.7766509\ttotal: 7.48s\tremaining: 1.06s\n",
      "2662:\tlearn: 3822159.8214403\ttotal: 7.48s\tremaining: 1.06s\n",
      "2663:\tlearn: 3821583.8180749\ttotal: 7.48s\tremaining: 1.06s\n",
      "2664:\tlearn: 3821151.3393032\ttotal: 7.49s\tremaining: 1.06s\n",
      "2665:\tlearn: 3820535.4295904\ttotal: 7.49s\tremaining: 1.05s\n",
      "2666:\tlearn: 3819633.7836041\ttotal: 7.49s\tremaining: 1.05s\n",
      "2667:\tlearn: 3819341.6195725\ttotal: 7.49s\tremaining: 1.05s\n",
      "2668:\tlearn: 3818693.0108703\ttotal: 7.5s\tremaining: 1.04s\n",
      "2669:\tlearn: 3818376.1767156\ttotal: 7.5s\tremaining: 1.04s\n",
      "2670:\tlearn: 3817795.3729995\ttotal: 7.5s\tremaining: 1.04s\n",
      "2671:\tlearn: 3817526.2497643\ttotal: 7.5s\tremaining: 1.04s\n",
      "2672:\tlearn: 3817189.3531107\ttotal: 7.51s\tremaining: 1.03s\n",
      "2673:\tlearn: 3816841.2434999\ttotal: 7.51s\tremaining: 1.03s\n",
      "2674:\tlearn: 3816380.0568062\ttotal: 7.51s\tremaining: 1.03s\n",
      "2675:\tlearn: 3816067.9183067\ttotal: 7.51s\tremaining: 1.02s\n",
      "2676:\tlearn: 3815392.2861959\ttotal: 7.52s\tremaining: 1.02s\n",
      "2677:\tlearn: 3815228.3129154\ttotal: 7.52s\tremaining: 1.02s\n",
      "2678:\tlearn: 3814584.9462737\ttotal: 7.53s\tremaining: 1.02s\n",
      "2679:\tlearn: 3814051.6416072\ttotal: 7.53s\tremaining: 1.01s\n",
      "2680:\tlearn: 3813664.2735310\ttotal: 7.53s\tremaining: 1.01s\n",
      "2681:\tlearn: 3813248.3070779\ttotal: 7.53s\tremaining: 1.01s\n",
      "2682:\tlearn: 3812679.4760224\ttotal: 7.54s\tremaining: 1s\n",
      "2683:\tlearn: 3812265.3369531\ttotal: 7.54s\tremaining: 1s\n",
      "2684:\tlearn: 3811852.6264244\ttotal: 7.54s\tremaining: 1s\n",
      "2685:\tlearn: 3811695.4088716\ttotal: 7.54s\tremaining: 997ms\n",
      "2686:\tlearn: 3811595.8853484\ttotal: 7.55s\tremaining: 994ms\n",
      "2687:\tlearn: 3811211.6916353\ttotal: 7.55s\tremaining: 991ms\n",
      "2688:\tlearn: 3810736.5577539\ttotal: 7.55s\tremaining: 989ms\n",
      "2689:\tlearn: 3810440.1908743\ttotal: 7.55s\tremaining: 986ms\n",
      "2690:\tlearn: 3809786.8970276\ttotal: 7.56s\tremaining: 983ms\n",
      "2691:\tlearn: 3809373.3615050\ttotal: 7.56s\tremaining: 980ms\n",
      "2692:\tlearn: 3808869.5046660\ttotal: 7.56s\tremaining: 977ms\n",
      "2693:\tlearn: 3808687.0098045\ttotal: 7.57s\tremaining: 974ms\n",
      "2694:\tlearn: 3808069.2880626\ttotal: 7.57s\tremaining: 972ms\n",
      "2695:\tlearn: 3807570.4851592\ttotal: 7.57s\tremaining: 969ms\n",
      "2696:\tlearn: 3807262.6515508\ttotal: 7.57s\tremaining: 966ms\n",
      "2697:\tlearn: 3807096.0044233\ttotal: 7.58s\tremaining: 963ms\n",
      "2698:\tlearn: 3806639.9527770\ttotal: 7.58s\tremaining: 960ms\n",
      "2699:\tlearn: 3806555.1844551\ttotal: 7.58s\tremaining: 957ms\n",
      "2700:\tlearn: 3806119.8052617\ttotal: 7.58s\tremaining: 954ms\n",
      "2701:\tlearn: 3805846.9005360\ttotal: 7.58s\tremaining: 952ms\n",
      "2702:\tlearn: 3805459.6561769\ttotal: 7.59s\tremaining: 949ms\n",
      "2703:\tlearn: 3805223.4556089\ttotal: 7.59s\tremaining: 946ms\n",
      "2704:\tlearn: 3804771.4541696\ttotal: 7.59s\tremaining: 943ms\n",
      "2705:\tlearn: 3804602.0153240\ttotal: 7.6s\tremaining: 940ms\n",
      "2706:\tlearn: 3803877.0464283\ttotal: 7.6s\tremaining: 938ms\n",
      "2707:\tlearn: 3803694.4252014\ttotal: 7.6s\tremaining: 935ms\n",
      "2708:\tlearn: 3803457.4222471\ttotal: 7.6s\tremaining: 932ms\n",
      "2709:\tlearn: 3803141.4296794\ttotal: 7.61s\tremaining: 929ms\n",
      "2710:\tlearn: 3802984.3920874\ttotal: 7.61s\tremaining: 926ms\n",
      "2711:\tlearn: 3802352.1744162\ttotal: 7.61s\tremaining: 923ms\n",
      "2712:\tlearn: 3801813.0445383\ttotal: 7.61s\tremaining: 921ms\n",
      "2713:\tlearn: 3801602.7109263\ttotal: 7.62s\tremaining: 918ms\n",
      "2714:\tlearn: 3800872.5969723\ttotal: 7.62s\tremaining: 915ms\n",
      "2715:\tlearn: 3800607.6208571\ttotal: 7.62s\tremaining: 912ms\n",
      "2716:\tlearn: 3800216.6194257\ttotal: 7.63s\tremaining: 909ms\n",
      "2717:\tlearn: 3799892.4258503\ttotal: 7.63s\tremaining: 906ms\n",
      "2718:\tlearn: 3799628.9165408\ttotal: 7.63s\tremaining: 904ms\n",
      "2719:\tlearn: 3799072.4422516\ttotal: 7.63s\tremaining: 901ms\n",
      "2720:\tlearn: 3798745.2858528\ttotal: 7.63s\tremaining: 898ms\n",
      "2721:\tlearn: 3798379.7245063\ttotal: 7.64s\tremaining: 895ms\n",
      "2722:\tlearn: 3798247.5311802\ttotal: 7.64s\tremaining: 892ms\n",
      "2723:\tlearn: 3797922.5074736\ttotal: 7.64s\tremaining: 889ms\n",
      "2724:\tlearn: 3797309.9880130\ttotal: 7.64s\tremaining: 887ms\n",
      "2725:\tlearn: 3796859.2107633\ttotal: 7.65s\tremaining: 884ms\n",
      "2726:\tlearn: 3796464.2497411\ttotal: 7.65s\tremaining: 881ms\n",
      "2727:\tlearn: 3795913.3440902\ttotal: 7.65s\tremaining: 878ms\n",
      "2728:\tlearn: 3795618.7378966\ttotal: 7.66s\tremaining: 875ms\n",
      "2729:\tlearn: 3795274.2298452\ttotal: 7.66s\tremaining: 872ms\n",
      "2730:\tlearn: 3795054.8786454\ttotal: 7.66s\tremaining: 870ms\n",
      "2731:\tlearn: 3794651.3467753\ttotal: 7.66s\tremaining: 867ms\n",
      "2732:\tlearn: 3794591.7915927\ttotal: 7.67s\tremaining: 864ms\n",
      "2733:\tlearn: 3794247.3432161\ttotal: 7.67s\tremaining: 861ms\n",
      "2734:\tlearn: 3793778.5283313\ttotal: 7.67s\tremaining: 858ms\n",
      "2735:\tlearn: 3793272.0433395\ttotal: 7.67s\tremaining: 855ms\n",
      "2736:\tlearn: 3792583.3340368\ttotal: 7.67s\tremaining: 853ms\n",
      "2737:\tlearn: 3792274.8366176\ttotal: 7.68s\tremaining: 850ms\n",
      "2738:\tlearn: 3791753.1422374\ttotal: 7.68s\tremaining: 847ms\n",
      "2739:\tlearn: 3791439.4222292\ttotal: 7.68s\tremaining: 844ms\n",
      "2740:\tlearn: 3791182.8940173\ttotal: 7.68s\tremaining: 841ms\n",
      "2741:\tlearn: 3790538.8969336\ttotal: 7.69s\tremaining: 838ms\n",
      "2742:\tlearn: 3790324.8315503\ttotal: 7.69s\tremaining: 836ms\n",
      "2743:\tlearn: 3789701.3616425\ttotal: 7.69s\tremaining: 833ms\n",
      "2744:\tlearn: 3789032.5834229\ttotal: 7.7s\tremaining: 830ms\n",
      "2745:\tlearn: 3788808.9527817\ttotal: 7.7s\tremaining: 827ms\n",
      "2746:\tlearn: 3788506.0012303\ttotal: 7.7s\tremaining: 824ms\n",
      "2747:\tlearn: 3787872.1651641\ttotal: 7.7s\tremaining: 821ms\n",
      "2748:\tlearn: 3787473.8092812\ttotal: 7.71s\tremaining: 819ms\n",
      "2749:\tlearn: 3787091.9179980\ttotal: 7.71s\tremaining: 816ms\n",
      "2750:\tlearn: 3786854.6664133\ttotal: 7.71s\tremaining: 813ms\n",
      "2751:\tlearn: 3786433.6653200\ttotal: 7.71s\tremaining: 810ms\n",
      "2752:\tlearn: 3785950.7246378\ttotal: 7.72s\tremaining: 807ms\n",
      "2753:\tlearn: 3785764.7247800\ttotal: 7.72s\tremaining: 804ms\n",
      "2754:\tlearn: 3785351.3074272\ttotal: 7.72s\tremaining: 802ms\n",
      "2755:\tlearn: 3784949.5583341\ttotal: 7.72s\tremaining: 799ms\n",
      "2756:\tlearn: 3784725.9782724\ttotal: 7.73s\tremaining: 796ms\n",
      "2757:\tlearn: 3784352.4422268\ttotal: 7.73s\tremaining: 793ms\n",
      "2758:\tlearn: 3783999.4541037\ttotal: 7.73s\tremaining: 790ms\n",
      "2759:\tlearn: 3783625.2565314\ttotal: 7.74s\tremaining: 788ms\n",
      "2760:\tlearn: 3783213.9899387\ttotal: 7.74s\tremaining: 785ms\n",
      "2761:\tlearn: 3782975.0952375\ttotal: 7.74s\tremaining: 782ms\n",
      "2762:\tlearn: 3782701.7119259\ttotal: 7.74s\tremaining: 779ms\n",
      "2763:\tlearn: 3782027.5704295\ttotal: 7.75s\tremaining: 776ms\n",
      "2764:\tlearn: 3781934.7763799\ttotal: 7.75s\tremaining: 774ms\n",
      "2765:\tlearn: 3781756.9126310\ttotal: 7.75s\tremaining: 771ms\n",
      "2766:\tlearn: 3781512.1811747\ttotal: 7.76s\tremaining: 768ms\n",
      "2767:\tlearn: 3781256.2760388\ttotal: 7.76s\tremaining: 765ms\n",
      "2768:\tlearn: 3780803.0763840\ttotal: 7.76s\tremaining: 762ms\n",
      "2769:\tlearn: 3780576.3967085\ttotal: 7.76s\tremaining: 760ms\n",
      "2770:\tlearn: 3780455.3724351\ttotal: 7.77s\tremaining: 757ms\n",
      "2771:\tlearn: 3779743.6309076\ttotal: 7.77s\tremaining: 754ms\n",
      "2772:\tlearn: 3779396.3008761\ttotal: 7.77s\tremaining: 751ms\n",
      "2773:\tlearn: 3779220.0815865\ttotal: 7.77s\tremaining: 748ms\n",
      "2774:\tlearn: 3778967.7403822\ttotal: 7.78s\tremaining: 745ms\n",
      "2775:\tlearn: 3778893.7278581\ttotal: 7.78s\tremaining: 743ms\n",
      "2776:\tlearn: 3778224.5919076\ttotal: 7.78s\tremaining: 740ms\n",
      "2777:\tlearn: 3777599.1085295\ttotal: 7.79s\tremaining: 737ms\n",
      "2778:\tlearn: 3777159.3601688\ttotal: 7.79s\tremaining: 734ms\n",
      "2779:\tlearn: 3776809.7790462\ttotal: 7.79s\tremaining: 731ms\n",
      "2780:\tlearn: 3776148.5084257\ttotal: 7.79s\tremaining: 729ms\n",
      "2781:\tlearn: 3776002.8388081\ttotal: 7.79s\tremaining: 726ms\n",
      "2782:\tlearn: 3775741.9430826\ttotal: 7.8s\tremaining: 723ms\n",
      "2783:\tlearn: 3775324.6661381\ttotal: 7.8s\tremaining: 720ms\n",
      "2784:\tlearn: 3775006.5666062\ttotal: 7.8s\tremaining: 717ms\n",
      "2785:\tlearn: 3774382.4762147\ttotal: 7.8s\tremaining: 714ms\n",
      "2786:\tlearn: 3774062.3842480\ttotal: 7.81s\tremaining: 712ms\n",
      "2787:\tlearn: 3773249.5511541\ttotal: 7.81s\tremaining: 709ms\n",
      "2788:\tlearn: 3772632.1430190\ttotal: 7.81s\tremaining: 706ms\n",
      "2789:\tlearn: 3772408.7175434\ttotal: 7.82s\tremaining: 703ms\n",
      "2790:\tlearn: 3772020.9220472\ttotal: 7.82s\tremaining: 700ms\n",
      "2791:\tlearn: 3771431.8614191\ttotal: 7.82s\tremaining: 697ms\n",
      "2792:\tlearn: 3770898.4407319\ttotal: 7.82s\tremaining: 695ms\n",
      "2793:\tlearn: 3770629.8500611\ttotal: 7.83s\tremaining: 692ms\n",
      "2794:\tlearn: 3770449.5013085\ttotal: 7.83s\tremaining: 689ms\n",
      "2795:\tlearn: 3770078.8617220\ttotal: 7.83s\tremaining: 686ms\n",
      "2796:\tlearn: 3769821.6988310\ttotal: 7.83s\tremaining: 683ms\n",
      "2797:\tlearn: 3769605.8888521\ttotal: 7.83s\tremaining: 681ms\n",
      "2798:\tlearn: 3769411.0357866\ttotal: 7.84s\tremaining: 678ms\n",
      "2799:\tlearn: 3768682.6435755\ttotal: 7.84s\tremaining: 675ms\n",
      "2800:\tlearn: 3768119.6271059\ttotal: 7.84s\tremaining: 672ms\n",
      "2801:\tlearn: 3767566.9805219\ttotal: 7.85s\tremaining: 669ms\n",
      "2802:\tlearn: 3767392.8459730\ttotal: 7.85s\tremaining: 667ms\n",
      "2803:\tlearn: 3766699.6908265\ttotal: 7.85s\tremaining: 664ms\n",
      "2804:\tlearn: 3766413.8948008\ttotal: 7.86s\tremaining: 661ms\n",
      "2805:\tlearn: 3765842.8321018\ttotal: 7.86s\tremaining: 658ms\n",
      "2806:\tlearn: 3765602.0782215\ttotal: 7.86s\tremaining: 655ms\n",
      "2807:\tlearn: 3765275.5544244\ttotal: 7.86s\tremaining: 653ms\n",
      "2808:\tlearn: 3764800.3032790\ttotal: 7.87s\tremaining: 650ms\n",
      "2809:\tlearn: 3764410.7158209\ttotal: 7.87s\tremaining: 647ms\n",
      "2810:\tlearn: 3764264.2635866\ttotal: 7.87s\tremaining: 644ms\n",
      "2811:\tlearn: 3764100.7295851\ttotal: 7.87s\tremaining: 641ms\n",
      "2812:\tlearn: 3763808.0322363\ttotal: 7.88s\tremaining: 638ms\n",
      "2813:\tlearn: 3763121.3017386\ttotal: 7.88s\tremaining: 636ms\n",
      "2814:\tlearn: 3762589.4081037\ttotal: 7.88s\tremaining: 633ms\n",
      "2815:\tlearn: 3762195.5800519\ttotal: 7.88s\tremaining: 630ms\n",
      "2816:\tlearn: 3761721.8055213\ttotal: 7.89s\tremaining: 627ms\n",
      "2817:\tlearn: 3761543.4397601\ttotal: 7.89s\tremaining: 624ms\n",
      "2818:\tlearn: 3761419.3790089\ttotal: 7.89s\tremaining: 621ms\n",
      "2819:\tlearn: 3761155.3723111\ttotal: 7.89s\tremaining: 619ms\n",
      "2820:\tlearn: 3760728.3502587\ttotal: 7.9s\tremaining: 616ms\n",
      "2821:\tlearn: 3760587.8683007\ttotal: 7.9s\tremaining: 613ms\n",
      "2822:\tlearn: 3759990.3612829\ttotal: 7.9s\tremaining: 610ms\n",
      "2823:\tlearn: 3759558.7132240\ttotal: 7.91s\tremaining: 607ms\n",
      "2824:\tlearn: 3758896.8195811\ttotal: 7.91s\tremaining: 605ms\n",
      "2825:\tlearn: 3758045.2034482\ttotal: 7.91s\tremaining: 602ms\n",
      "2826:\tlearn: 3757842.7920303\ttotal: 7.91s\tremaining: 599ms\n",
      "2827:\tlearn: 3757623.4971146\ttotal: 7.92s\tremaining: 596ms\n",
      "2828:\tlearn: 3757327.2278086\ttotal: 7.92s\tremaining: 593ms\n",
      "2829:\tlearn: 3756784.2109118\ttotal: 7.92s\tremaining: 591ms\n",
      "2830:\tlearn: 3756583.3946176\ttotal: 7.92s\tremaining: 588ms\n",
      "2831:\tlearn: 3756346.6224669\ttotal: 7.93s\tremaining: 585ms\n",
      "2832:\tlearn: 3756043.3391618\ttotal: 7.93s\tremaining: 582ms\n",
      "2833:\tlearn: 3755444.0849684\ttotal: 7.93s\tremaining: 579ms\n",
      "2834:\tlearn: 3754938.5664513\ttotal: 7.93s\tremaining: 577ms\n",
      "2835:\tlearn: 3754563.6221476\ttotal: 7.94s\tremaining: 574ms\n",
      "2836:\tlearn: 3754187.4889951\ttotal: 7.94s\tremaining: 571ms\n",
      "2837:\tlearn: 3753786.0416765\ttotal: 7.94s\tremaining: 568ms\n",
      "2838:\tlearn: 3753427.1927811\ttotal: 7.95s\tremaining: 565ms\n",
      "2839:\tlearn: 3752892.0111313\ttotal: 7.95s\tremaining: 563ms\n",
      "2840:\tlearn: 3752712.4652220\ttotal: 7.95s\tremaining: 560ms\n",
      "2841:\tlearn: 3751575.2580999\ttotal: 7.96s\tremaining: 557ms\n",
      "2842:\tlearn: 3751183.9738024\ttotal: 7.96s\tremaining: 554ms\n",
      "2843:\tlearn: 3750556.2735578\ttotal: 7.96s\tremaining: 552ms\n",
      "2844:\tlearn: 3750184.3803169\ttotal: 7.96s\tremaining: 549ms\n",
      "2845:\tlearn: 3749799.8271942\ttotal: 7.97s\tremaining: 546ms\n",
      "2846:\tlearn: 3749572.0830501\ttotal: 7.97s\tremaining: 543ms\n",
      "2847:\tlearn: 3749190.1551712\ttotal: 7.97s\tremaining: 540ms\n",
      "2848:\tlearn: 3748525.1526560\ttotal: 7.98s\tremaining: 538ms\n",
      "2849:\tlearn: 3748149.5401590\ttotal: 7.98s\tremaining: 535ms\n",
      "2850:\tlearn: 3747853.2887683\ttotal: 7.98s\tremaining: 532ms\n",
      "2851:\tlearn: 3747443.4773880\ttotal: 7.98s\tremaining: 529ms\n",
      "2852:\tlearn: 3747033.8459659\ttotal: 7.99s\tremaining: 526ms\n",
      "2853:\tlearn: 3746369.0704935\ttotal: 7.99s\tremaining: 524ms\n",
      "2854:\tlearn: 3745756.6108625\ttotal: 7.99s\tremaining: 521ms\n",
      "2855:\tlearn: 3745508.8145926\ttotal: 8s\tremaining: 518ms\n",
      "2856:\tlearn: 3745342.0406434\ttotal: 8s\tremaining: 515ms\n",
      "2857:\tlearn: 3744833.7801990\ttotal: 8s\tremaining: 512ms\n",
      "2858:\tlearn: 3744552.2285148\ttotal: 8s\tremaining: 509ms\n",
      "2859:\tlearn: 3744081.4369526\ttotal: 8.01s\tremaining: 507ms\n",
      "2860:\tlearn: 3743339.8647273\ttotal: 8.01s\tremaining: 504ms\n",
      "2861:\tlearn: 3743004.3085360\ttotal: 8.01s\tremaining: 501ms\n",
      "2862:\tlearn: 3742710.9389146\ttotal: 8.01s\tremaining: 498ms\n",
      "2863:\tlearn: 3742111.9577391\ttotal: 8.02s\tremaining: 495ms\n",
      "2864:\tlearn: 3741912.2672723\ttotal: 8.02s\tremaining: 493ms\n",
      "2865:\tlearn: 3741441.7677090\ttotal: 8.02s\tremaining: 490ms\n",
      "2866:\tlearn: 3740924.7133513\ttotal: 8.02s\tremaining: 487ms\n",
      "2867:\tlearn: 3740533.3262332\ttotal: 8.03s\tremaining: 484ms\n",
      "2868:\tlearn: 3740094.0076677\ttotal: 8.03s\tremaining: 481ms\n",
      "2869:\tlearn: 3739780.1910420\ttotal: 8.03s\tremaining: 479ms\n",
      "2870:\tlearn: 3739482.0142182\ttotal: 8.03s\tremaining: 476ms\n",
      "2871:\tlearn: 3739365.1490727\ttotal: 8.04s\tremaining: 473ms\n",
      "2872:\tlearn: 3739036.3985050\ttotal: 8.04s\tremaining: 470ms\n",
      "2873:\tlearn: 3738246.0387314\ttotal: 8.04s\tremaining: 467ms\n",
      "2874:\tlearn: 3737795.3169777\ttotal: 8.04s\tremaining: 464ms\n",
      "2875:\tlearn: 3737467.3973738\ttotal: 8.05s\tremaining: 462ms\n",
      "2876:\tlearn: 3737011.4419688\ttotal: 8.05s\tremaining: 459ms\n",
      "2877:\tlearn: 3736368.5094073\ttotal: 8.05s\tremaining: 456ms\n",
      "2878:\tlearn: 3735827.4908854\ttotal: 8.05s\tremaining: 453ms\n",
      "2879:\tlearn: 3735402.3596197\ttotal: 8.06s\tremaining: 450ms\n",
      "2880:\tlearn: 3734942.2486402\ttotal: 8.06s\tremaining: 448ms\n",
      "2881:\tlearn: 3734469.2120721\ttotal: 8.06s\tremaining: 445ms\n",
      "2882:\tlearn: 3734116.1402938\ttotal: 8.06s\tremaining: 442ms\n",
      "2883:\tlearn: 3733400.4805719\ttotal: 8.06s\tremaining: 439ms\n",
      "2884:\tlearn: 3733080.4141463\ttotal: 8.07s\tremaining: 436ms\n",
      "2885:\tlearn: 3732802.3534478\ttotal: 8.07s\tremaining: 433ms\n",
      "2886:\tlearn: 3731979.4736526\ttotal: 8.07s\tremaining: 431ms\n",
      "2887:\tlearn: 3731743.5083387\ttotal: 8.07s\tremaining: 428ms\n",
      "2888:\tlearn: 3731565.0668657\ttotal: 8.08s\tremaining: 425ms\n",
      "2889:\tlearn: 3731151.4295141\ttotal: 8.08s\tremaining: 422ms\n",
      "2890:\tlearn: 3730913.5977378\ttotal: 8.08s\tremaining: 419ms\n",
      "2891:\tlearn: 3730640.7506149\ttotal: 8.09s\tremaining: 417ms\n",
      "2892:\tlearn: 3730389.8482560\ttotal: 8.09s\tremaining: 414ms\n",
      "2893:\tlearn: 3730026.9049808\ttotal: 8.09s\tremaining: 411ms\n",
      "2894:\tlearn: 3729671.9676427\ttotal: 8.09s\tremaining: 408ms\n",
      "2895:\tlearn: 3729277.7455576\ttotal: 8.1s\tremaining: 405ms\n",
      "2896:\tlearn: 3728845.9416209\ttotal: 8.1s\tremaining: 403ms\n",
      "2897:\tlearn: 3728491.4774946\ttotal: 8.1s\tremaining: 400ms\n",
      "2898:\tlearn: 3728380.2312776\ttotal: 8.1s\tremaining: 397ms\n",
      "2899:\tlearn: 3728085.7691258\ttotal: 8.11s\tremaining: 394ms\n",
      "2900:\tlearn: 3727774.3281688\ttotal: 8.11s\tremaining: 391ms\n",
      "2901:\tlearn: 3727352.4047595\ttotal: 8.11s\tremaining: 389ms\n",
      "2902:\tlearn: 3727200.9337777\ttotal: 8.11s\tremaining: 386ms\n",
      "2903:\tlearn: 3726717.1111319\ttotal: 8.12s\tremaining: 383ms\n",
      "2904:\tlearn: 3726217.5505230\ttotal: 8.12s\tremaining: 380ms\n",
      "2905:\tlearn: 3725739.0449721\ttotal: 8.12s\tremaining: 377ms\n",
      "2906:\tlearn: 3725256.7740600\ttotal: 8.12s\tremaining: 374ms\n",
      "2907:\tlearn: 3724884.6598637\ttotal: 8.13s\tremaining: 372ms\n",
      "2908:\tlearn: 3724572.8469108\ttotal: 8.13s\tremaining: 369ms\n",
      "2909:\tlearn: 3724140.7773666\ttotal: 8.13s\tremaining: 366ms\n",
      "2910:\tlearn: 3723696.6388150\ttotal: 8.13s\tremaining: 363ms\n",
      "2911:\tlearn: 3723560.8654961\ttotal: 8.14s\tremaining: 360ms\n",
      "2912:\tlearn: 3723314.0002031\ttotal: 8.14s\tremaining: 358ms\n",
      "2913:\tlearn: 3722821.4260397\ttotal: 8.14s\tremaining: 355ms\n",
      "2914:\tlearn: 3722236.3885629\ttotal: 8.14s\tremaining: 352ms\n",
      "2915:\tlearn: 3721672.7708241\ttotal: 8.15s\tremaining: 349ms\n",
      "2916:\tlearn: 3721577.8820170\ttotal: 8.15s\tremaining: 346ms\n",
      "2917:\tlearn: 3721045.4959185\ttotal: 8.15s\tremaining: 344ms\n",
      "2918:\tlearn: 3720715.8253757\ttotal: 8.15s\tremaining: 341ms\n",
      "2919:\tlearn: 3720046.8921925\ttotal: 8.16s\tremaining: 338ms\n",
      "2920:\tlearn: 3719577.7144612\ttotal: 8.16s\tremaining: 335ms\n",
      "2921:\tlearn: 3719143.1621478\ttotal: 8.16s\tremaining: 332ms\n",
      "2922:\tlearn: 3718769.5584584\ttotal: 8.16s\tremaining: 330ms\n",
      "2923:\tlearn: 3718315.1211895\ttotal: 8.17s\tremaining: 327ms\n",
      "2924:\tlearn: 3718149.7112736\ttotal: 8.17s\tremaining: 324ms\n",
      "2925:\tlearn: 3717859.5258475\ttotal: 8.17s\tremaining: 321ms\n",
      "2926:\tlearn: 3717246.8676891\ttotal: 8.18s\tremaining: 318ms\n",
      "2927:\tlearn: 3716918.0254584\ttotal: 8.18s\tremaining: 316ms\n",
      "2928:\tlearn: 3716550.9579591\ttotal: 8.18s\tremaining: 313ms\n",
      "2929:\tlearn: 3715836.0088507\ttotal: 8.18s\tremaining: 310ms\n",
      "2930:\tlearn: 3715442.3268117\ttotal: 8.19s\tremaining: 307ms\n",
      "2931:\tlearn: 3715082.1601583\ttotal: 8.19s\tremaining: 304ms\n",
      "2932:\tlearn: 3714743.1724309\ttotal: 8.19s\tremaining: 302ms\n",
      "2933:\tlearn: 3714534.3349274\ttotal: 8.19s\tremaining: 299ms\n",
      "2934:\tlearn: 3714312.3813825\ttotal: 8.2s\tremaining: 296ms\n",
      "2935:\tlearn: 3714040.7559919\ttotal: 8.2s\tremaining: 293ms\n",
      "2936:\tlearn: 3713930.7070615\ttotal: 8.2s\tremaining: 290ms\n",
      "2937:\tlearn: 3713604.5465564\ttotal: 8.21s\tremaining: 288ms\n",
      "2938:\tlearn: 3713441.2423790\ttotal: 8.21s\tremaining: 285ms\n",
      "2939:\tlearn: 3713262.9709566\ttotal: 8.21s\tremaining: 282ms\n",
      "2940:\tlearn: 3713034.7229991\ttotal: 8.21s\tremaining: 279ms\n",
      "2941:\tlearn: 3712901.6547444\ttotal: 8.21s\tremaining: 276ms\n",
      "2942:\tlearn: 3712552.5200981\ttotal: 8.22s\tremaining: 274ms\n",
      "2943:\tlearn: 3712276.1783310\ttotal: 8.22s\tremaining: 271ms\n",
      "2944:\tlearn: 3712112.1720266\ttotal: 8.22s\tremaining: 268ms\n",
      "2945:\tlearn: 3711844.7982125\ttotal: 8.22s\tremaining: 265ms\n",
      "2946:\tlearn: 3711477.5824025\ttotal: 8.23s\tremaining: 262ms\n",
      "2947:\tlearn: 3710941.8234846\ttotal: 8.23s\tremaining: 260ms\n",
      "2948:\tlearn: 3710753.9161095\ttotal: 8.23s\tremaining: 257ms\n",
      "2949:\tlearn: 3710372.8134171\ttotal: 8.24s\tremaining: 254ms\n",
      "2950:\tlearn: 3709978.1677847\ttotal: 8.24s\tremaining: 251ms\n",
      "2951:\tlearn: 3709620.0151176\ttotal: 8.24s\tremaining: 248ms\n",
      "2952:\tlearn: 3709278.1527151\ttotal: 8.24s\tremaining: 246ms\n",
      "2953:\tlearn: 3709001.7420561\ttotal: 8.24s\tremaining: 243ms\n",
      "2954:\tlearn: 3708677.6414107\ttotal: 8.25s\tremaining: 240ms\n",
      "2955:\tlearn: 3708213.1751717\ttotal: 8.25s\tremaining: 237ms\n",
      "2956:\tlearn: 3707767.2298748\ttotal: 8.25s\tremaining: 234ms\n",
      "2957:\tlearn: 3707512.3020808\ttotal: 8.26s\tremaining: 232ms\n",
      "2958:\tlearn: 3706948.5037527\ttotal: 8.26s\tremaining: 229ms\n",
      "2959:\tlearn: 3706552.6502858\ttotal: 8.26s\tremaining: 226ms\n",
      "2960:\tlearn: 3706302.7925156\ttotal: 8.26s\tremaining: 223ms\n",
      "2961:\tlearn: 3706112.2241120\ttotal: 8.27s\tremaining: 220ms\n",
      "2962:\tlearn: 3705721.7940411\ttotal: 8.27s\tremaining: 218ms\n",
      "2963:\tlearn: 3705446.1813500\ttotal: 8.27s\tremaining: 215ms\n",
      "2964:\tlearn: 3704994.7392417\ttotal: 8.27s\tremaining: 212ms\n",
      "2965:\tlearn: 3704309.0298809\ttotal: 8.28s\tremaining: 209ms\n",
      "2966:\tlearn: 3703931.6194440\ttotal: 8.28s\tremaining: 206ms\n",
      "2967:\tlearn: 3703526.4140391\ttotal: 8.28s\tremaining: 204ms\n",
      "2968:\tlearn: 3703311.5204507\ttotal: 8.28s\tremaining: 201ms\n",
      "2969:\tlearn: 3703067.3457814\ttotal: 8.29s\tremaining: 198ms\n",
      "2970:\tlearn: 3702792.4838259\ttotal: 8.29s\tremaining: 195ms\n",
      "2971:\tlearn: 3702465.5036998\ttotal: 8.29s\tremaining: 192ms\n",
      "2972:\tlearn: 3702157.6826511\ttotal: 8.29s\tremaining: 190ms\n",
      "2973:\tlearn: 3701584.0829970\ttotal: 8.29s\tremaining: 187ms\n",
      "2974:\tlearn: 3701468.3563928\ttotal: 8.3s\tremaining: 184ms\n",
      "2975:\tlearn: 3701009.2413860\ttotal: 8.3s\tremaining: 181ms\n",
      "2976:\tlearn: 3700317.1934716\ttotal: 8.3s\tremaining: 179ms\n",
      "2977:\tlearn: 3699915.2423138\ttotal: 8.31s\tremaining: 176ms\n",
      "2978:\tlearn: 3699521.1733742\ttotal: 8.31s\tremaining: 173ms\n",
      "2979:\tlearn: 3699218.4353264\ttotal: 8.31s\tremaining: 170ms\n",
      "2980:\tlearn: 3698615.7062992\ttotal: 8.31s\tremaining: 167ms\n",
      "2981:\tlearn: 3698190.8109110\ttotal: 8.32s\tremaining: 165ms\n",
      "2982:\tlearn: 3697807.8310774\ttotal: 8.32s\tremaining: 162ms\n",
      "2983:\tlearn: 3697669.8988334\ttotal: 8.32s\tremaining: 159ms\n",
      "2984:\tlearn: 3697526.7942491\ttotal: 8.32s\tremaining: 156ms\n",
      "2985:\tlearn: 3696831.5340637\ttotal: 8.33s\tremaining: 153ms\n",
      "2986:\tlearn: 3696700.6901526\ttotal: 8.33s\tremaining: 151ms\n",
      "2987:\tlearn: 3696253.1637267\ttotal: 8.33s\tremaining: 148ms\n",
      "2988:\tlearn: 3696008.2422087\ttotal: 8.34s\tremaining: 145ms\n",
      "2989:\tlearn: 3695624.1114114\ttotal: 8.34s\tremaining: 142ms\n",
      "2990:\tlearn: 3695380.2258600\ttotal: 8.34s\tremaining: 139ms\n",
      "2991:\tlearn: 3695181.2679425\ttotal: 8.34s\tremaining: 137ms\n",
      "2992:\tlearn: 3694892.0355671\ttotal: 8.35s\tremaining: 134ms\n",
      "2993:\tlearn: 3694593.2178634\ttotal: 8.35s\tremaining: 131ms\n",
      "2994:\tlearn: 3694140.5399274\ttotal: 8.35s\tremaining: 128ms\n",
      "2995:\tlearn: 3693914.0164485\ttotal: 8.35s\tremaining: 125ms\n",
      "2996:\tlearn: 3693299.3267645\ttotal: 8.36s\tremaining: 123ms\n",
      "2997:\tlearn: 3693011.6634590\ttotal: 8.36s\tremaining: 120ms\n",
      "2998:\tlearn: 3692670.4123482\ttotal: 8.36s\tremaining: 117ms\n",
      "2999:\tlearn: 3692183.2214864\ttotal: 8.37s\tremaining: 114ms\n",
      "3000:\tlearn: 3691699.5758191\ttotal: 8.37s\tremaining: 112ms\n",
      "3001:\tlearn: 3691338.0190910\ttotal: 8.37s\tremaining: 109ms\n",
      "3002:\tlearn: 3690992.2945954\ttotal: 8.37s\tremaining: 106ms\n",
      "3003:\tlearn: 3690507.8536070\ttotal: 8.38s\tremaining: 103ms\n",
      "3004:\tlearn: 3690025.9716035\ttotal: 8.38s\tremaining: 100ms\n",
      "3005:\tlearn: 3689866.4950534\ttotal: 8.38s\tremaining: 97.6ms\n",
      "3006:\tlearn: 3689531.6636983\ttotal: 8.38s\tremaining: 94.8ms\n",
      "3007:\tlearn: 3689214.1582772\ttotal: 8.38s\tremaining: 92ms\n",
      "3008:\tlearn: 3688900.6732347\ttotal: 8.39s\tremaining: 89.2ms\n",
      "3009:\tlearn: 3688276.7678240\ttotal: 8.39s\tremaining: 86.4ms\n",
      "3010:\tlearn: 3687674.6476030\ttotal: 8.39s\tremaining: 83.6ms\n",
      "3011:\tlearn: 3686956.6148480\ttotal: 8.39s\tremaining: 80.8ms\n",
      "3012:\tlearn: 3686570.2823550\ttotal: 8.4s\tremaining: 78ms\n",
      "3013:\tlearn: 3686398.3027987\ttotal: 8.4s\tremaining: 75.2ms\n",
      "3014:\tlearn: 3686262.0309236\ttotal: 8.4s\tremaining: 72.5ms\n",
      "3015:\tlearn: 3685465.7824083\ttotal: 8.4s\tremaining: 69.7ms\n",
      "3016:\tlearn: 3685092.8274019\ttotal: 8.41s\tremaining: 66.9ms\n",
      "3017:\tlearn: 3684543.9332236\ttotal: 8.41s\tremaining: 64.1ms\n",
      "3018:\tlearn: 3684254.5452724\ttotal: 8.41s\tremaining: 61.3ms\n",
      "3019:\tlearn: 3683782.9574498\ttotal: 8.41s\tremaining: 58.5ms\n",
      "3020:\tlearn: 3683204.7605042\ttotal: 8.42s\tremaining: 55.7ms\n",
      "3021:\tlearn: 3682744.5329380\ttotal: 8.42s\tremaining: 52.9ms\n",
      "3022:\tlearn: 3682517.1456897\ttotal: 8.42s\tremaining: 50.2ms\n",
      "3023:\tlearn: 3682272.8526775\ttotal: 8.43s\tremaining: 47.4ms\n",
      "3024:\tlearn: 3681900.7005054\ttotal: 8.43s\tremaining: 44.6ms\n",
      "3025:\tlearn: 3681818.7810972\ttotal: 8.43s\tremaining: 41.8ms\n",
      "3026:\tlearn: 3681523.9247314\ttotal: 8.44s\tremaining: 39ms\n",
      "3027:\tlearn: 3681192.5074868\ttotal: 8.44s\tremaining: 36.2ms\n",
      "3028:\tlearn: 3680714.4038814\ttotal: 8.44s\tremaining: 33.4ms\n",
      "3029:\tlearn: 3680057.1572575\ttotal: 8.44s\tremaining: 30.7ms\n",
      "3030:\tlearn: 3679836.4200361\ttotal: 8.45s\tremaining: 27.9ms\n",
      "3031:\tlearn: 3679164.7442628\ttotal: 8.45s\tremaining: 25.1ms\n",
      "3032:\tlearn: 3678454.3600774\ttotal: 8.45s\tremaining: 22.3ms\n",
      "3033:\tlearn: 3678291.7351679\ttotal: 8.45s\tremaining: 19.5ms\n",
      "3034:\tlearn: 3677887.1268026\ttotal: 8.46s\tremaining: 16.7ms\n",
      "3035:\tlearn: 3677708.6593666\ttotal: 8.46s\tremaining: 13.9ms\n",
      "3036:\tlearn: 3677198.5199516\ttotal: 8.46s\tremaining: 11.1ms\n",
      "3037:\tlearn: 3677041.7159829\ttotal: 8.46s\tremaining: 8.36ms\n",
      "3038:\tlearn: 3676520.0728427\ttotal: 8.46s\tremaining: 5.57ms\n",
      "3039:\tlearn: 3676152.8528734\ttotal: 8.47s\tremaining: 2.79ms\n",
      "3040:\tlearn: 3675953.2304818\ttotal: 8.47s\tremaining: 0us\n",
      "[LightGBM] [Warning] min_data_in_leaf is set=11, min_child_samples=20 will be ignored. Current value: min_data_in_leaf=11\n",
      "[LightGBM] [Warning] min_data_in_leaf is set=11, min_child_samples=20 will be ignored. Current value: min_data_in_leaf=11\n",
      "[LightGBM] [Info] Auto-choosing col-wise multi-threading, the overhead of testing was 0.000342 seconds.\n",
      "You can set `force_col_wise=true` to remove the overhead.\n",
      "[LightGBM] [Info] Total Bins 1229\n",
      "[LightGBM] [Info] Number of data points in the train set: 10464, number of used features: 12\n",
      "[LightGBM] [Info] Start training from score 8983092.029817\n",
      "[LightGBM] [Warning] min_data_in_leaf is set=11, min_child_samples=20 will be ignored. Current value: min_data_in_leaf=11\n",
      "[LightGBM] [Warning] min_data_in_leaf is set=11, min_child_samples=20 will be ignored. Current value: min_data_in_leaf=11\n",
      "[LightGBM] [Warning] min_data_in_leaf is set=11, min_child_samples=20 will be ignored. Current value: min_data_in_leaf=11\n",
      "[LightGBM] [Warning] min_data_in_leaf is set=11, min_child_samples=20 will be ignored. Current value: min_data_in_leaf=11\n",
      "\n",
      "====== Models After Hyper Parameter Tuning ======\n"
     ]
    },
    {
     "data": {
      "text/html": [
       "<div>\n",
       "<style scoped>\n",
       "    .dataframe tbody tr th:only-of-type {\n",
       "        vertical-align: middle;\n",
       "    }\n",
       "\n",
       "    .dataframe tbody tr th {\n",
       "        vertical-align: top;\n",
       "    }\n",
       "\n",
       "    .dataframe thead th {\n",
       "        text-align: right;\n",
       "    }\n",
       "</style>\n",
       "<table border=\"1\" class=\"dataframe\">\n",
       "  <thead>\n",
       "    <tr style=\"text-align: right;\">\n",
       "      <th></th>\n",
       "      <th>Model</th>\n",
       "      <th>MAE</th>\n",
       "      <th>MSE</th>\n",
       "      <th>RMSE</th>\n",
       "      <th>R2 Score</th>\n",
       "    </tr>\n",
       "  </thead>\n",
       "  <tbody>\n",
       "    <tr>\n",
       "      <th>0</th>\n",
       "      <td>CatBoost</td>\n",
       "      <td>3997552.30</td>\n",
       "      <td>70846232863322.12</td>\n",
       "      <td>8417020.43</td>\n",
       "      <td>0.74</td>\n",
       "    </tr>\n",
       "    <tr>\n",
       "      <th>1</th>\n",
       "      <td>XGBoost</td>\n",
       "      <td>4121875.50</td>\n",
       "      <td>73843698069640.23</td>\n",
       "      <td>8593235.60</td>\n",
       "      <td>0.73</td>\n",
       "    </tr>\n",
       "    <tr>\n",
       "      <th>2</th>\n",
       "      <td>LightGBM</td>\n",
       "      <td>4096442.64</td>\n",
       "      <td>77616554558983.50</td>\n",
       "      <td>8810025.80</td>\n",
       "      <td>0.71</td>\n",
       "    </tr>\n",
       "  </tbody>\n",
       "</table>\n",
       "</div>"
      ],
      "text/plain": [
       "      Model         MAE                MSE        RMSE R2 Score\n",
       "0  CatBoost  3997552.30  70846232863322.12  8417020.43     0.74\n",
       "1   XGBoost  4121875.50  73843698069640.23  8593235.60     0.73\n",
       "2  LightGBM  4096442.64  77616554558983.50  8810025.80     0.71"
      ]
     },
     "execution_count": 90,
     "metadata": {},
     "output_type": "execute_result"
    }
   ],
   "source": [
    "model_list(models_tuned, \"After\")"
   ]
  },
  {
   "cell_type": "code",
   "execution_count": 106,
   "metadata": {},
   "outputs": [],
   "source": [
    "best_params_cat = {'n_estimators': 3041, \n",
    "                   'learning_rate': 0.015200431190185505, \n",
    "                   'depth': 6, 'subsample': 0.35404000069709357, \n",
    "                   'colsample_bylevel': 0.7034636176287521, \n",
    "                   'min_data_in_leaf': 66}\n",
    "\n",
    "best_params_xgb = {'n_estimators': 3028, \n",
    "                   'learning_rate': 0.008793590048053681, \n",
    "                   'max_depth': 4, \n",
    "                   'subsample': 0.6913724938472428, \n",
    "                   'colsample_bytree': 0.9929722196907147, \n",
    "                   'min_child_weight': 6}\n",
    "\n",
    "best_params_lgbm = {'n_estimators': 3655, \n",
    "                    'learning_rate': 0.038372002420737066, \n",
    "                    'num_leaves': 83, \n",
    "                    'subsample': 0.9026763541482938, \n",
    "                    'colsample_bytree': 0.8451214304452654, \n",
    "                    'min_data_in_leaf': 11}"
   ]
  },
  {
   "cell_type": "code",
   "execution_count": null,
   "metadata": {},
   "outputs": [],
   "source": []
  },
  {
   "cell_type": "code",
   "execution_count": null,
   "metadata": {},
   "outputs": [],
   "source": []
  },
  {
   "cell_type": "code",
   "execution_count": 91,
   "metadata": {},
   "outputs": [
    {
     "data": {
      "text/html": [
       "<style>#sk-container-id-3 {\n",
       "  /* Definition of color scheme common for light and dark mode */\n",
       "  --sklearn-color-text: black;\n",
       "  --sklearn-color-line: gray;\n",
       "  /* Definition of color scheme for unfitted estimators */\n",
       "  --sklearn-color-unfitted-level-0: #fff5e6;\n",
       "  --sklearn-color-unfitted-level-1: #f6e4d2;\n",
       "  --sklearn-color-unfitted-level-2: #ffe0b3;\n",
       "  --sklearn-color-unfitted-level-3: chocolate;\n",
       "  /* Definition of color scheme for fitted estimators */\n",
       "  --sklearn-color-fitted-level-0: #f0f8ff;\n",
       "  --sklearn-color-fitted-level-1: #d4ebff;\n",
       "  --sklearn-color-fitted-level-2: #b3dbfd;\n",
       "  --sklearn-color-fitted-level-3: cornflowerblue;\n",
       "\n",
       "  /* Specific color for light theme */\n",
       "  --sklearn-color-text-on-default-background: var(--sg-text-color, var(--theme-code-foreground, var(--jp-content-font-color1, black)));\n",
       "  --sklearn-color-background: var(--sg-background-color, var(--theme-background, var(--jp-layout-color0, white)));\n",
       "  --sklearn-color-border-box: var(--sg-text-color, var(--theme-code-foreground, var(--jp-content-font-color1, black)));\n",
       "  --sklearn-color-icon: #696969;\n",
       "\n",
       "  @media (prefers-color-scheme: dark) {\n",
       "    /* Redefinition of color scheme for dark theme */\n",
       "    --sklearn-color-text-on-default-background: var(--sg-text-color, var(--theme-code-foreground, var(--jp-content-font-color1, white)));\n",
       "    --sklearn-color-background: var(--sg-background-color, var(--theme-background, var(--jp-layout-color0, #111)));\n",
       "    --sklearn-color-border-box: var(--sg-text-color, var(--theme-code-foreground, var(--jp-content-font-color1, white)));\n",
       "    --sklearn-color-icon: #878787;\n",
       "  }\n",
       "}\n",
       "\n",
       "#sk-container-id-3 {\n",
       "  color: var(--sklearn-color-text);\n",
       "}\n",
       "\n",
       "#sk-container-id-3 pre {\n",
       "  padding: 0;\n",
       "}\n",
       "\n",
       "#sk-container-id-3 input.sk-hidden--visually {\n",
       "  border: 0;\n",
       "  clip: rect(1px 1px 1px 1px);\n",
       "  clip: rect(1px, 1px, 1px, 1px);\n",
       "  height: 1px;\n",
       "  margin: -1px;\n",
       "  overflow: hidden;\n",
       "  padding: 0;\n",
       "  position: absolute;\n",
       "  width: 1px;\n",
       "}\n",
       "\n",
       "#sk-container-id-3 div.sk-dashed-wrapped {\n",
       "  border: 1px dashed var(--sklearn-color-line);\n",
       "  margin: 0 0.4em 0.5em 0.4em;\n",
       "  box-sizing: border-box;\n",
       "  padding-bottom: 0.4em;\n",
       "  background-color: var(--sklearn-color-background);\n",
       "}\n",
       "\n",
       "#sk-container-id-3 div.sk-container {\n",
       "  /* jupyter's `normalize.less` sets `[hidden] { display: none; }`\n",
       "     but bootstrap.min.css set `[hidden] { display: none !important; }`\n",
       "     so we also need the `!important` here to be able to override the\n",
       "     default hidden behavior on the sphinx rendered scikit-learn.org.\n",
       "     See: https://github.com/scikit-learn/scikit-learn/issues/21755 */\n",
       "  display: inline-block !important;\n",
       "  position: relative;\n",
       "}\n",
       "\n",
       "#sk-container-id-3 div.sk-text-repr-fallback {\n",
       "  display: none;\n",
       "}\n",
       "\n",
       "div.sk-parallel-item,\n",
       "div.sk-serial,\n",
       "div.sk-item {\n",
       "  /* draw centered vertical line to link estimators */\n",
       "  background-image: linear-gradient(var(--sklearn-color-text-on-default-background), var(--sklearn-color-text-on-default-background));\n",
       "  background-size: 2px 100%;\n",
       "  background-repeat: no-repeat;\n",
       "  background-position: center center;\n",
       "}\n",
       "\n",
       "/* Parallel-specific style estimator block */\n",
       "\n",
       "#sk-container-id-3 div.sk-parallel-item::after {\n",
       "  content: \"\";\n",
       "  width: 100%;\n",
       "  border-bottom: 2px solid var(--sklearn-color-text-on-default-background);\n",
       "  flex-grow: 1;\n",
       "}\n",
       "\n",
       "#sk-container-id-3 div.sk-parallel {\n",
       "  display: flex;\n",
       "  align-items: stretch;\n",
       "  justify-content: center;\n",
       "  background-color: var(--sklearn-color-background);\n",
       "  position: relative;\n",
       "}\n",
       "\n",
       "#sk-container-id-3 div.sk-parallel-item {\n",
       "  display: flex;\n",
       "  flex-direction: column;\n",
       "}\n",
       "\n",
       "#sk-container-id-3 div.sk-parallel-item:first-child::after {\n",
       "  align-self: flex-end;\n",
       "  width: 50%;\n",
       "}\n",
       "\n",
       "#sk-container-id-3 div.sk-parallel-item:last-child::after {\n",
       "  align-self: flex-start;\n",
       "  width: 50%;\n",
       "}\n",
       "\n",
       "#sk-container-id-3 div.sk-parallel-item:only-child::after {\n",
       "  width: 0;\n",
       "}\n",
       "\n",
       "/* Serial-specific style estimator block */\n",
       "\n",
       "#sk-container-id-3 div.sk-serial {\n",
       "  display: flex;\n",
       "  flex-direction: column;\n",
       "  align-items: center;\n",
       "  background-color: var(--sklearn-color-background);\n",
       "  padding-right: 1em;\n",
       "  padding-left: 1em;\n",
       "}\n",
       "\n",
       "\n",
       "/* Toggleable style: style used for estimator/Pipeline/ColumnTransformer box that is\n",
       "clickable and can be expanded/collapsed.\n",
       "- Pipeline and ColumnTransformer use this feature and define the default style\n",
       "- Estimators will overwrite some part of the style using the `sk-estimator` class\n",
       "*/\n",
       "\n",
       "/* Pipeline and ColumnTransformer style (default) */\n",
       "\n",
       "#sk-container-id-3 div.sk-toggleable {\n",
       "  /* Default theme specific background. It is overwritten whether we have a\n",
       "  specific estimator or a Pipeline/ColumnTransformer */\n",
       "  background-color: var(--sklearn-color-background);\n",
       "}\n",
       "\n",
       "/* Toggleable label */\n",
       "#sk-container-id-3 label.sk-toggleable__label {\n",
       "  cursor: pointer;\n",
       "  display: block;\n",
       "  width: 100%;\n",
       "  margin-bottom: 0;\n",
       "  padding: 0.5em;\n",
       "  box-sizing: border-box;\n",
       "  text-align: center;\n",
       "}\n",
       "\n",
       "#sk-container-id-3 label.sk-toggleable__label-arrow:before {\n",
       "  /* Arrow on the left of the label */\n",
       "  content: \"▸\";\n",
       "  float: left;\n",
       "  margin-right: 0.25em;\n",
       "  color: var(--sklearn-color-icon);\n",
       "}\n",
       "\n",
       "#sk-container-id-3 label.sk-toggleable__label-arrow:hover:before {\n",
       "  color: var(--sklearn-color-text);\n",
       "}\n",
       "\n",
       "/* Toggleable content - dropdown */\n",
       "\n",
       "#sk-container-id-3 div.sk-toggleable__content {\n",
       "  max-height: 0;\n",
       "  max-width: 0;\n",
       "  overflow: hidden;\n",
       "  text-align: left;\n",
       "  /* unfitted */\n",
       "  background-color: var(--sklearn-color-unfitted-level-0);\n",
       "}\n",
       "\n",
       "#sk-container-id-3 div.sk-toggleable__content.fitted {\n",
       "  /* fitted */\n",
       "  background-color: var(--sklearn-color-fitted-level-0);\n",
       "}\n",
       "\n",
       "#sk-container-id-3 div.sk-toggleable__content pre {\n",
       "  margin: 0.2em;\n",
       "  border-radius: 0.25em;\n",
       "  color: var(--sklearn-color-text);\n",
       "  /* unfitted */\n",
       "  background-color: var(--sklearn-color-unfitted-level-0);\n",
       "}\n",
       "\n",
       "#sk-container-id-3 div.sk-toggleable__content.fitted pre {\n",
       "  /* unfitted */\n",
       "  background-color: var(--sklearn-color-fitted-level-0);\n",
       "}\n",
       "\n",
       "#sk-container-id-3 input.sk-toggleable__control:checked~div.sk-toggleable__content {\n",
       "  /* Expand drop-down */\n",
       "  max-height: 200px;\n",
       "  max-width: 100%;\n",
       "  overflow: auto;\n",
       "}\n",
       "\n",
       "#sk-container-id-3 input.sk-toggleable__control:checked~label.sk-toggleable__label-arrow:before {\n",
       "  content: \"▾\";\n",
       "}\n",
       "\n",
       "/* Pipeline/ColumnTransformer-specific style */\n",
       "\n",
       "#sk-container-id-3 div.sk-label input.sk-toggleable__control:checked~label.sk-toggleable__label {\n",
       "  color: var(--sklearn-color-text);\n",
       "  background-color: var(--sklearn-color-unfitted-level-2);\n",
       "}\n",
       "\n",
       "#sk-container-id-3 div.sk-label.fitted input.sk-toggleable__control:checked~label.sk-toggleable__label {\n",
       "  background-color: var(--sklearn-color-fitted-level-2);\n",
       "}\n",
       "\n",
       "/* Estimator-specific style */\n",
       "\n",
       "/* Colorize estimator box */\n",
       "#sk-container-id-3 div.sk-estimator input.sk-toggleable__control:checked~label.sk-toggleable__label {\n",
       "  /* unfitted */\n",
       "  background-color: var(--sklearn-color-unfitted-level-2);\n",
       "}\n",
       "\n",
       "#sk-container-id-3 div.sk-estimator.fitted input.sk-toggleable__control:checked~label.sk-toggleable__label {\n",
       "  /* fitted */\n",
       "  background-color: var(--sklearn-color-fitted-level-2);\n",
       "}\n",
       "\n",
       "#sk-container-id-3 div.sk-label label.sk-toggleable__label,\n",
       "#sk-container-id-3 div.sk-label label {\n",
       "  /* The background is the default theme color */\n",
       "  color: var(--sklearn-color-text-on-default-background);\n",
       "}\n",
       "\n",
       "/* On hover, darken the color of the background */\n",
       "#sk-container-id-3 div.sk-label:hover label.sk-toggleable__label {\n",
       "  color: var(--sklearn-color-text);\n",
       "  background-color: var(--sklearn-color-unfitted-level-2);\n",
       "}\n",
       "\n",
       "/* Label box, darken color on hover, fitted */\n",
       "#sk-container-id-3 div.sk-label.fitted:hover label.sk-toggleable__label.fitted {\n",
       "  color: var(--sklearn-color-text);\n",
       "  background-color: var(--sklearn-color-fitted-level-2);\n",
       "}\n",
       "\n",
       "/* Estimator label */\n",
       "\n",
       "#sk-container-id-3 div.sk-label label {\n",
       "  font-family: monospace;\n",
       "  font-weight: bold;\n",
       "  display: inline-block;\n",
       "  line-height: 1.2em;\n",
       "}\n",
       "\n",
       "#sk-container-id-3 div.sk-label-container {\n",
       "  text-align: center;\n",
       "}\n",
       "\n",
       "/* Estimator-specific */\n",
       "#sk-container-id-3 div.sk-estimator {\n",
       "  font-family: monospace;\n",
       "  border: 1px dotted var(--sklearn-color-border-box);\n",
       "  border-radius: 0.25em;\n",
       "  box-sizing: border-box;\n",
       "  margin-bottom: 0.5em;\n",
       "  /* unfitted */\n",
       "  background-color: var(--sklearn-color-unfitted-level-0);\n",
       "}\n",
       "\n",
       "#sk-container-id-3 div.sk-estimator.fitted {\n",
       "  /* fitted */\n",
       "  background-color: var(--sklearn-color-fitted-level-0);\n",
       "}\n",
       "\n",
       "/* on hover */\n",
       "#sk-container-id-3 div.sk-estimator:hover {\n",
       "  /* unfitted */\n",
       "  background-color: var(--sklearn-color-unfitted-level-2);\n",
       "}\n",
       "\n",
       "#sk-container-id-3 div.sk-estimator.fitted:hover {\n",
       "  /* fitted */\n",
       "  background-color: var(--sklearn-color-fitted-level-2);\n",
       "}\n",
       "\n",
       "/* Specification for estimator info (e.g. \"i\" and \"?\") */\n",
       "\n",
       "/* Common style for \"i\" and \"?\" */\n",
       "\n",
       ".sk-estimator-doc-link,\n",
       "a:link.sk-estimator-doc-link,\n",
       "a:visited.sk-estimator-doc-link {\n",
       "  float: right;\n",
       "  font-size: smaller;\n",
       "  line-height: 1em;\n",
       "  font-family: monospace;\n",
       "  background-color: var(--sklearn-color-background);\n",
       "  border-radius: 1em;\n",
       "  height: 1em;\n",
       "  width: 1em;\n",
       "  text-decoration: none !important;\n",
       "  margin-left: 1ex;\n",
       "  /* unfitted */\n",
       "  border: var(--sklearn-color-unfitted-level-1) 1pt solid;\n",
       "  color: var(--sklearn-color-unfitted-level-1);\n",
       "}\n",
       "\n",
       ".sk-estimator-doc-link.fitted,\n",
       "a:link.sk-estimator-doc-link.fitted,\n",
       "a:visited.sk-estimator-doc-link.fitted {\n",
       "  /* fitted */\n",
       "  border: var(--sklearn-color-fitted-level-1) 1pt solid;\n",
       "  color: var(--sklearn-color-fitted-level-1);\n",
       "}\n",
       "\n",
       "/* On hover */\n",
       "div.sk-estimator:hover .sk-estimator-doc-link:hover,\n",
       ".sk-estimator-doc-link:hover,\n",
       "div.sk-label-container:hover .sk-estimator-doc-link:hover,\n",
       ".sk-estimator-doc-link:hover {\n",
       "  /* unfitted */\n",
       "  background-color: var(--sklearn-color-unfitted-level-3);\n",
       "  color: var(--sklearn-color-background);\n",
       "  text-decoration: none;\n",
       "}\n",
       "\n",
       "div.sk-estimator.fitted:hover .sk-estimator-doc-link.fitted:hover,\n",
       ".sk-estimator-doc-link.fitted:hover,\n",
       "div.sk-label-container:hover .sk-estimator-doc-link.fitted:hover,\n",
       ".sk-estimator-doc-link.fitted:hover {\n",
       "  /* fitted */\n",
       "  background-color: var(--sklearn-color-fitted-level-3);\n",
       "  color: var(--sklearn-color-background);\n",
       "  text-decoration: none;\n",
       "}\n",
       "\n",
       "/* Span, style for the box shown on hovering the info icon */\n",
       ".sk-estimator-doc-link span {\n",
       "  display: none;\n",
       "  z-index: 9999;\n",
       "  position: relative;\n",
       "  font-weight: normal;\n",
       "  right: .2ex;\n",
       "  padding: .5ex;\n",
       "  margin: .5ex;\n",
       "  width: min-content;\n",
       "  min-width: 20ex;\n",
       "  max-width: 50ex;\n",
       "  color: var(--sklearn-color-text);\n",
       "  box-shadow: 2pt 2pt 4pt #999;\n",
       "  /* unfitted */\n",
       "  background: var(--sklearn-color-unfitted-level-0);\n",
       "  border: .5pt solid var(--sklearn-color-unfitted-level-3);\n",
       "}\n",
       "\n",
       ".sk-estimator-doc-link.fitted span {\n",
       "  /* fitted */\n",
       "  background: var(--sklearn-color-fitted-level-0);\n",
       "  border: var(--sklearn-color-fitted-level-3);\n",
       "}\n",
       "\n",
       ".sk-estimator-doc-link:hover span {\n",
       "  display: block;\n",
       "}\n",
       "\n",
       "/* \"?\"-specific style due to the `<a>` HTML tag */\n",
       "\n",
       "#sk-container-id-3 a.estimator_doc_link {\n",
       "  float: right;\n",
       "  font-size: 1rem;\n",
       "  line-height: 1em;\n",
       "  font-family: monospace;\n",
       "  background-color: var(--sklearn-color-background);\n",
       "  border-radius: 1rem;\n",
       "  height: 1rem;\n",
       "  width: 1rem;\n",
       "  text-decoration: none;\n",
       "  /* unfitted */\n",
       "  color: var(--sklearn-color-unfitted-level-1);\n",
       "  border: var(--sklearn-color-unfitted-level-1) 1pt solid;\n",
       "}\n",
       "\n",
       "#sk-container-id-3 a.estimator_doc_link.fitted {\n",
       "  /* fitted */\n",
       "  border: var(--sklearn-color-fitted-level-1) 1pt solid;\n",
       "  color: var(--sklearn-color-fitted-level-1);\n",
       "}\n",
       "\n",
       "/* On hover */\n",
       "#sk-container-id-3 a.estimator_doc_link:hover {\n",
       "  /* unfitted */\n",
       "  background-color: var(--sklearn-color-unfitted-level-3);\n",
       "  color: var(--sklearn-color-background);\n",
       "  text-decoration: none;\n",
       "}\n",
       "\n",
       "#sk-container-id-3 a.estimator_doc_link.fitted:hover {\n",
       "  /* fitted */\n",
       "  background-color: var(--sklearn-color-fitted-level-3);\n",
       "}\n",
       "</style><div id=\"sk-container-id-3\" class=\"sk-top-container\"><div class=\"sk-text-repr-fallback\"><pre>XGBRegressor(base_score=None, booster=None, callbacks=None,\n",
       "             colsample_bylevel=None, colsample_bynode=None,\n",
       "             colsample_bytree=0.5, early_stopping_rounds=None,\n",
       "             enable_categorical=False, eval_metric=None, feature_types=None,\n",
       "             gamma=100, gpu_id=None, grow_policy=None, importance_type=None,\n",
       "             interaction_constraints=None, learning_rate=0.2, max_bin=None,\n",
       "             max_cat_threshold=None, max_cat_to_onehot=None,\n",
       "             max_delta_step=None, max_depth=3, max_leaves=None,\n",
       "             min_child_weight=100, missing=nan, monotone_constraints=None,\n",
       "             n_estimators=1000, n_jobs=None, num_parallel_tree=None,\n",
       "             predictor=None, random_state=42, ...)</pre><b>In a Jupyter environment, please rerun this cell to show the HTML representation or trust the notebook. <br />On GitHub, the HTML representation is unable to render, please try loading this page with nbviewer.org.</b></div><div class=\"sk-container\" hidden><div class=\"sk-item\"><div class=\"sk-estimator fitted sk-toggleable\"><input class=\"sk-toggleable__control sk-hidden--visually\" id=\"sk-estimator-id-3\" type=\"checkbox\" checked><label for=\"sk-estimator-id-3\" class=\"sk-toggleable__label fitted sk-toggleable__label-arrow fitted\">&nbsp;XGBRegressor<span class=\"sk-estimator-doc-link fitted\">i<span>Fitted</span></span></label><div class=\"sk-toggleable__content fitted\"><pre>XGBRegressor(base_score=None, booster=None, callbacks=None,\n",
       "             colsample_bylevel=None, colsample_bynode=None,\n",
       "             colsample_bytree=0.5, early_stopping_rounds=None,\n",
       "             enable_categorical=False, eval_metric=None, feature_types=None,\n",
       "             gamma=100, gpu_id=None, grow_policy=None, importance_type=None,\n",
       "             interaction_constraints=None, learning_rate=0.2, max_bin=None,\n",
       "             max_cat_threshold=None, max_cat_to_onehot=None,\n",
       "             max_delta_step=None, max_depth=3, max_leaves=None,\n",
       "             min_child_weight=100, missing=nan, monotone_constraints=None,\n",
       "             n_estimators=1000, n_jobs=None, num_parallel_tree=None,\n",
       "             predictor=None, random_state=42, ...)</pre></div> </div></div></div></div>"
      ],
      "text/plain": [
       "XGBRegressor(base_score=None, booster=None, callbacks=None,\n",
       "             colsample_bylevel=None, colsample_bynode=None,\n",
       "             colsample_bytree=0.5, early_stopping_rounds=None,\n",
       "             enable_categorical=False, eval_metric=None, feature_types=None,\n",
       "             gamma=100, gpu_id=None, grow_policy=None, importance_type=None,\n",
       "             interaction_constraints=None, learning_rate=0.2, max_bin=None,\n",
       "             max_cat_threshold=None, max_cat_to_onehot=None,\n",
       "             max_delta_step=None, max_depth=3, max_leaves=None,\n",
       "             min_child_weight=100, missing=nan, monotone_constraints=None,\n",
       "             n_estimators=1000, n_jobs=None, num_parallel_tree=None,\n",
       "             predictor=None, random_state=42, ...)"
      ]
     },
     "execution_count": 91,
     "metadata": {},
     "output_type": "execute_result"
    }
   ],
   "source": [
    "# XGBoost 모델 생성\n",
    "model_xgb = XGBRegressor(n_estimators=1000,\n",
    "                          learning_rate=0.2,\n",
    "                          min_child_weight=100,\n",
    "                          max_depth=3,\n",
    "                          gamma=100,\n",
    "                          colsample_bytree=0.5,\n",
    "                          random_state=42)\n",
    "\n",
    "# Robust 스케일링 적용한 X_train_scaled 이용\n",
    "model_xgb.fit(X_train_robust, y_train)"
   ]
  },
  {
   "cell_type": "code",
   "execution_count": 92,
   "metadata": {},
   "outputs": [
    {
     "data": {
      "image/png": "[encoded data removed]",
      "text/plain": [
       "<Figure size 800x400 with 1 Axes>"
      ]
     },
     "metadata": {
      "image/png": {
       "height": 392,
       "width": 801
      }
     },
     "output_type": "display_data"
    }
   ],
   "source": [
    "# feature importance 파악\n",
    "\n",
    "# 배열형태로 반환\n",
    "xgb_importance_values = model_xgb.feature_importances_\n",
    "\n",
    "# 정렬과 시각화를 쉽게 하기 위해 series 전환\n",
    "xgb_series = pd.Series(xgb_importance_values, index = X_train.columns)\n",
    "xgb_top10 = xgb_series.sort_values(ascending=False)[:10]\n",
    "\n",
    "# 시각화\n",
    "plt.figure(figsize=(8,4))\n",
    "plt.title('Feature Importance Top 10')\n",
    "sns.barplot(x=xgb_top10, y=xgb_top10.index)\n",
    "plt.show()\n",
    "\n",
    "\n",
    "# 이 지표는 절대적이지 않다.\n",
    "# 중요도는 낮게 평가되었지만 실제로 중요한 특성일 수도 있고,\n",
    "# 그렇기 때문에 제거했을 경우 성능이 떨어질 수도 있다.\n",
    "# -> 상위 n개의 특성들을 제외한 나머지 특성들을 모두 제거하는 방식은 바람직하지 못함\n",
    "\n",
    "# feature importance를 고려하여 특성별로 A/B test 를 진행하며 feature selection 해야 한다\n",
    "# https://hwi-doc.tistory.com/entry/Feature-selection-feature-importance-vs-permutation-importance"
   ]
  },
  {
   "cell_type": "code",
   "execution_count": 93,
   "metadata": {},
   "outputs": [
    {
     "data": {
      "text/plain": [
       "0.9034212296215226"
      ]
     },
     "execution_count": 93,
     "metadata": {},
     "output_type": "execute_result"
    }
   ],
   "source": [
    "model_xgb.score(X_train_robust, y_train)"
   ]
  },
  {
   "cell_type": "code",
   "execution_count": 94,
   "metadata": {},
   "outputs": [
    {
     "data": {
      "text/plain": [
       "0.7673726808119388"
      ]
     },
     "execution_count": 94,
     "metadata": {},
     "output_type": "execute_result"
    }
   ],
   "source": [
    "model_xgb.score(X_val_robust, y_val)"
   ]
  },
  {
   "cell_type": "code",
   "execution_count": 95,
   "metadata": {},
   "outputs": [
    {
     "data": {
      "text/plain": [
       "0.7028692326933028"
      ]
     },
     "execution_count": 95,
     "metadata": {},
     "output_type": "execute_result"
    }
   ],
   "source": [
    "model_xgb.score(X_test_robust, y_test)"
   ]
  },
  {
   "cell_type": "code",
   "execution_count": 96,
   "metadata": {},
   "outputs": [
    {
     "data": {
      "text/plain": [
       "array([-1641967.8, 15791167. , 14232742. , ...,  2353040.2,    52526. ,\n",
       "       24503766. ], dtype=float32)"
      ]
     },
     "execution_count": 96,
     "metadata": {},
     "output_type": "execute_result"
    }
   ],
   "source": [
    "model_xgb.predict(X_test_robust)"
   ]
  },
  {
   "cell_type": "code",
   "execution_count": 97,
   "metadata": {},
   "outputs": [
    {
     "data": {
      "text/plain": [
       "8977188.733237214"
      ]
     },
     "execution_count": 97,
     "metadata": {},
     "output_type": "execute_result"
    }
   ],
   "source": [
    "metrics.mean_squared_error(y_test, model_xgb.predict(X_test_robust), squared=False)"
   ]
  },
  {
   "cell_type": "code",
   "execution_count": 98,
   "metadata": {},
   "outputs": [
    {
     "data": {
      "text/plain": [
       "66137976.0"
      ]
     },
     "execution_count": 98,
     "metadata": {},
     "output_type": "execute_result"
    }
   ],
   "source": [
    "# 1446\n",
    "# Kai Havertz\n",
    "model_xgb.predict(X_test_robust)[1446]"
   ]
  },
  {
   "cell_type": "code",
   "execution_count": 99,
   "metadata": {},
   "outputs": [
    {
     "data": {
      "text/plain": [
       "7          900000.0\n",
       "11       30000000.0\n",
       "21       28000000.0\n",
       "26       15000000.0\n",
       "27         500000.0\n",
       "            ...    \n",
       "15983     5000000.0\n",
       "15988     1800000.0\n",
       "15994     1000000.0\n",
       "15995     1000000.0\n",
       "16000    18000000.0\n",
       "Name: market_value_per_season, Length: 2920, dtype: float64"
      ]
     },
     "execution_count": 99,
     "metadata": {},
     "output_type": "execute_result"
    }
   ],
   "source": [
    "y_test"
   ]
  },
  {
   "cell_type": "code",
   "execution_count": 100,
   "metadata": {},
   "outputs": [
    {
     "data": {
      "text/html": [
       "<div>\n",
       "<style scoped>\n",
       "    .dataframe tbody tr th:only-of-type {\n",
       "        vertical-align: middle;\n",
       "    }\n",
       "\n",
       "    .dataframe tbody tr th {\n",
       "        vertical-align: top;\n",
       "    }\n",
       "\n",
       "    .dataframe thead th {\n",
       "        text-align: right;\n",
       "    }\n",
       "</style>\n",
       "<table border=\"1\" class=\"dataframe\">\n",
       "  <thead>\n",
       "    <tr style=\"text-align: right;\">\n",
       "      <th></th>\n",
       "      <th>player_name</th>\n",
       "      <th>start_season</th>\n",
       "      <th>goals</th>\n",
       "      <th>assists</th>\n",
       "      <th>minutes_played</th>\n",
       "      <th>competition_code</th>\n",
       "      <th>age</th>\n",
       "      <th>position</th>\n",
       "      <th>current_club_name</th>\n",
       "      <th>country</th>\n",
       "      <th>foot</th>\n",
       "      <th>height_in_cm</th>\n",
       "    </tr>\n",
       "  </thead>\n",
       "  <tbody>\n",
       "    <tr>\n",
       "      <th>7</th>\n",
       "      <td>3.090621e+06</td>\n",
       "      <td>2023</td>\n",
       "      <td>0</td>\n",
       "      <td>0</td>\n",
       "      <td>235</td>\n",
       "      <td>1.760686e+07</td>\n",
       "      <td>34</td>\n",
       "      <td>7.573533e+06</td>\n",
       "      <td>1.669718e+07</td>\n",
       "      <td>1.580558e+07</td>\n",
       "      <td>9.059222e+06</td>\n",
       "      <td>170.0</td>\n",
       "    </tr>\n",
       "    <tr>\n",
       "      <th>11</th>\n",
       "      <td>1.378455e+07</td>\n",
       "      <td>2023</td>\n",
       "      <td>0</td>\n",
       "      <td>0</td>\n",
       "      <td>720</td>\n",
       "      <td>1.760686e+07</td>\n",
       "      <td>21</td>\n",
       "      <td>6.410489e+06</td>\n",
       "      <td>1.246267e+07</td>\n",
       "      <td>1.165922e+07</td>\n",
       "      <td>8.371419e+06</td>\n",
       "      <td>185.0</td>\n",
       "    </tr>\n",
       "    <tr>\n",
       "      <th>21</th>\n",
       "      <td>1.869467e+07</td>\n",
       "      <td>2023</td>\n",
       "      <td>0</td>\n",
       "      <td>0</td>\n",
       "      <td>540</td>\n",
       "      <td>1.760686e+07</td>\n",
       "      <td>25</td>\n",
       "      <td>5.777534e+06</td>\n",
       "      <td>3.253681e+07</td>\n",
       "      <td>1.580558e+07</td>\n",
       "      <td>8.982164e+06</td>\n",
       "      <td>190.0</td>\n",
       "    </tr>\n",
       "    <tr>\n",
       "      <th>26</th>\n",
       "      <td>6.612677e+06</td>\n",
       "      <td>2023</td>\n",
       "      <td>0</td>\n",
       "      <td>0</td>\n",
       "      <td>526</td>\n",
       "      <td>1.760686e+07</td>\n",
       "      <td>21</td>\n",
       "      <td>1.040246e+07</td>\n",
       "      <td>4.469679e+06</td>\n",
       "      <td>1.580558e+07</td>\n",
       "      <td>8.982164e+06</td>\n",
       "      <td>181.0</td>\n",
       "    </tr>\n",
       "    <tr>\n",
       "      <th>27</th>\n",
       "      <td>8.983092e+06</td>\n",
       "      <td>2023</td>\n",
       "      <td>1</td>\n",
       "      <td>0</td>\n",
       "      <td>298</td>\n",
       "      <td>9.004052e+06</td>\n",
       "      <td>28</td>\n",
       "      <td>9.240542e+06</td>\n",
       "      <td>1.740985e+06</td>\n",
       "      <td>8.238751e+06</td>\n",
       "      <td>9.059222e+06</td>\n",
       "      <td>199.0</td>\n",
       "    </tr>\n",
       "    <tr>\n",
       "      <th>...</th>\n",
       "      <td>...</td>\n",
       "      <td>...</td>\n",
       "      <td>...</td>\n",
       "      <td>...</td>\n",
       "      <td>...</td>\n",
       "      <td>...</td>\n",
       "      <td>...</td>\n",
       "      <td>...</td>\n",
       "      <td>...</td>\n",
       "      <td>...</td>\n",
       "      <td>...</td>\n",
       "      <td>...</td>\n",
       "    </tr>\n",
       "    <tr>\n",
       "      <th>15983</th>\n",
       "      <td>4.012582e+06</td>\n",
       "      <td>2023</td>\n",
       "      <td>1</td>\n",
       "      <td>0</td>\n",
       "      <td>2093</td>\n",
       "      <td>9.404664e+06</td>\n",
       "      <td>29</td>\n",
       "      <td>9.814288e+06</td>\n",
       "      <td>3.976935e+06</td>\n",
       "      <td>7.964127e+06</td>\n",
       "      <td>8.982164e+06</td>\n",
       "      <td>177.0</td>\n",
       "    </tr>\n",
       "    <tr>\n",
       "      <th>15988</th>\n",
       "      <td>2.202918e+06</td>\n",
       "      <td>2023</td>\n",
       "      <td>1</td>\n",
       "      <td>4</td>\n",
       "      <td>1664</td>\n",
       "      <td>9.404664e+06</td>\n",
       "      <td>34</td>\n",
       "      <td>6.410489e+06</td>\n",
       "      <td>8.704671e+06</td>\n",
       "      <td>7.964127e+06</td>\n",
       "      <td>8.982164e+06</td>\n",
       "      <td>182.0</td>\n",
       "    </tr>\n",
       "    <tr>\n",
       "      <th>15994</th>\n",
       "      <td>9.018411e+05</td>\n",
       "      <td>2023</td>\n",
       "      <td>0</td>\n",
       "      <td>0</td>\n",
       "      <td>1170</td>\n",
       "      <td>9.404664e+06</td>\n",
       "      <td>33</td>\n",
       "      <td>5.777534e+06</td>\n",
       "      <td>1.168214e+07</td>\n",
       "      <td>1.263018e+07</td>\n",
       "      <td>8.982164e+06</td>\n",
       "      <td>192.0</td>\n",
       "    </tr>\n",
       "    <tr>\n",
       "      <th>15995</th>\n",
       "      <td>8.983092e+06</td>\n",
       "      <td>2023</td>\n",
       "      <td>1</td>\n",
       "      <td>0</td>\n",
       "      <td>366</td>\n",
       "      <td>2.712768e+06</td>\n",
       "      <td>22</td>\n",
       "      <td>1.059005e+07</td>\n",
       "      <td>9.386958e+05</td>\n",
       "      <td>6.922201e+06</td>\n",
       "      <td>9.059222e+06</td>\n",
       "      <td>170.0</td>\n",
       "    </tr>\n",
       "    <tr>\n",
       "      <th>16000</th>\n",
       "      <td>2.575445e+07</td>\n",
       "      <td>2023</td>\n",
       "      <td>5</td>\n",
       "      <td>6</td>\n",
       "      <td>2278</td>\n",
       "      <td>9.404664e+06</td>\n",
       "      <td>33</td>\n",
       "      <td>9.814288e+06</td>\n",
       "      <td>3.416083e+07</td>\n",
       "      <td>8.238751e+06</td>\n",
       "      <td>8.982164e+06</td>\n",
       "      <td>180.0</td>\n",
       "    </tr>\n",
       "  </tbody>\n",
       "</table>\n",
       "<p>2920 rows × 12 columns</p>\n",
       "</div>"
      ],
      "text/plain": [
       "        player_name  start_season  goals  assists  minutes_played  \\\n",
       "7      3.090621e+06          2023      0        0             235   \n",
       "11     1.378455e+07          2023      0        0             720   \n",
       "21     1.869467e+07          2023      0        0             540   \n",
       "26     6.612677e+06          2023      0        0             526   \n",
       "27     8.983092e+06          2023      1        0             298   \n",
       "...             ...           ...    ...      ...             ...   \n",
       "15983  4.012582e+06          2023      1        0            2093   \n",
       "15988  2.202918e+06          2023      1        4            1664   \n",
       "15994  9.018411e+05          2023      0        0            1170   \n",
       "15995  8.983092e+06          2023      1        0             366   \n",
       "16000  2.575445e+07          2023      5        6            2278   \n",
       "\n",
       "       competition_code  age      position  current_club_name       country  \\\n",
       "7          1.760686e+07   34  7.573533e+06       1.669718e+07  1.580558e+07   \n",
       "11         1.760686e+07   21  6.410489e+06       1.246267e+07  1.165922e+07   \n",
       "21         1.760686e+07   25  5.777534e+06       3.253681e+07  1.580558e+07   \n",
       "26         1.760686e+07   21  1.040246e+07       4.469679e+06  1.580558e+07   \n",
       "27         9.004052e+06   28  9.240542e+06       1.740985e+06  8.238751e+06   \n",
       "...                 ...  ...           ...                ...           ...   \n",
       "15983      9.404664e+06   29  9.814288e+06       3.976935e+06  7.964127e+06   \n",
       "15988      9.404664e+06   34  6.410489e+06       8.704671e+06  7.964127e+06   \n",
       "15994      9.404664e+06   33  5.777534e+06       1.168214e+07  1.263018e+07   \n",
       "15995      2.712768e+06   22  1.059005e+07       9.386958e+05  6.922201e+06   \n",
       "16000      9.404664e+06   33  9.814288e+06       3.416083e+07  8.238751e+06   \n",
       "\n",
       "               foot  height_in_cm  \n",
       "7      9.059222e+06         170.0  \n",
       "11     8.371419e+06         185.0  \n",
       "21     8.982164e+06         190.0  \n",
       "26     8.982164e+06         181.0  \n",
       "27     9.059222e+06         199.0  \n",
       "...             ...           ...  \n",
       "15983  8.982164e+06         177.0  \n",
       "15988  8.982164e+06         182.0  \n",
       "15994  8.982164e+06         192.0  \n",
       "15995  9.059222e+06         170.0  \n",
       "16000  8.982164e+06         180.0  \n",
       "\n",
       "[2920 rows x 12 columns]"
      ]
     },
     "execution_count": 100,
     "metadata": {},
     "output_type": "execute_result"
    }
   ],
   "source": [
    "X_test"
   ]
  },
  {
   "cell_type": "code",
   "execution_count": 101,
   "metadata": {},
   "outputs": [
    {
     "data": {
      "text/plain": [
       "1760     55000000.0\n",
       "3380     55000000.0\n",
       "7842     55000000.0\n",
       "8596     55000000.0\n",
       "8752     55000000.0\n",
       "9670     55000000.0\n",
       "10023    55000000.0\n",
       "10024    55000000.0\n",
       "14431    55000000.0\n",
       "15091    55000000.0\n",
       "Name: market_value_per_season, dtype: float64"
      ]
     },
     "execution_count": 101,
     "metadata": {},
     "output_type": "execute_result"
    }
   ],
   "source": [
    "y_test[y_test == 55000000.0]"
   ]
  },
  {
   "cell_type": "code",
   "execution_count": 102,
   "metadata": {},
   "outputs": [
    {
     "data": {
      "text/html": [
       "<div>\n",
       "<style scoped>\n",
       "    .dataframe tbody tr th:only-of-type {\n",
       "        vertical-align: middle;\n",
       "    }\n",
       "\n",
       "    .dataframe tbody tr th {\n",
       "        vertical-align: top;\n",
       "    }\n",
       "\n",
       "    .dataframe thead th {\n",
       "        text-align: right;\n",
       "    }\n",
       "</style>\n",
       "<table border=\"1\" class=\"dataframe\">\n",
       "  <thead>\n",
       "    <tr style=\"text-align: right;\">\n",
       "      <th></th>\n",
       "      <th>index</th>\n",
       "      <th>market_value_per_season</th>\n",
       "    </tr>\n",
       "  </thead>\n",
       "  <tbody>\n",
       "    <tr>\n",
       "      <th>0</th>\n",
       "      <td>7</td>\n",
       "      <td>900000.0</td>\n",
       "    </tr>\n",
       "    <tr>\n",
       "      <th>1</th>\n",
       "      <td>11</td>\n",
       "      <td>30000000.0</td>\n",
       "    </tr>\n",
       "    <tr>\n",
       "      <th>2</th>\n",
       "      <td>21</td>\n",
       "      <td>28000000.0</td>\n",
       "    </tr>\n",
       "    <tr>\n",
       "      <th>3</th>\n",
       "      <td>26</td>\n",
       "      <td>15000000.0</td>\n",
       "    </tr>\n",
       "    <tr>\n",
       "      <th>4</th>\n",
       "      <td>27</td>\n",
       "      <td>500000.0</td>\n",
       "    </tr>\n",
       "    <tr>\n",
       "      <th>...</th>\n",
       "      <td>...</td>\n",
       "      <td>...</td>\n",
       "    </tr>\n",
       "    <tr>\n",
       "      <th>2915</th>\n",
       "      <td>15983</td>\n",
       "      <td>5000000.0</td>\n",
       "    </tr>\n",
       "    <tr>\n",
       "      <th>2916</th>\n",
       "      <td>15988</td>\n",
       "      <td>1800000.0</td>\n",
       "    </tr>\n",
       "    <tr>\n",
       "      <th>2917</th>\n",
       "      <td>15994</td>\n",
       "      <td>1000000.0</td>\n",
       "    </tr>\n",
       "    <tr>\n",
       "      <th>2918</th>\n",
       "      <td>15995</td>\n",
       "      <td>1000000.0</td>\n",
       "    </tr>\n",
       "    <tr>\n",
       "      <th>2919</th>\n",
       "      <td>16000</td>\n",
       "      <td>18000000.0</td>\n",
       "    </tr>\n",
       "  </tbody>\n",
       "</table>\n",
       "<p>2920 rows × 2 columns</p>\n",
       "</div>"
      ],
      "text/plain": [
       "      index  market_value_per_season\n",
       "0         7                 900000.0\n",
       "1        11               30000000.0\n",
       "2        21               28000000.0\n",
       "3        26               15000000.0\n",
       "4        27                 500000.0\n",
       "...     ...                      ...\n",
       "2915  15983                5000000.0\n",
       "2916  15988                1800000.0\n",
       "2917  15994                1000000.0\n",
       "2918  15995                1000000.0\n",
       "2919  16000               18000000.0\n",
       "\n",
       "[2920 rows x 2 columns]"
      ]
     },
     "execution_count": 102,
     "metadata": {},
     "output_type": "execute_result"
    }
   ],
   "source": [
    "y_test.reset_index()"
   ]
  },
  {
   "cell_type": "code",
   "execution_count": 103,
   "metadata": {},
   "outputs": [
    {
     "data": {
      "text/html": [
       "<div>\n",
       "<style scoped>\n",
       "    .dataframe tbody tr th:only-of-type {\n",
       "        vertical-align: middle;\n",
       "    }\n",
       "\n",
       "    .dataframe tbody tr th {\n",
       "        vertical-align: top;\n",
       "    }\n",
       "\n",
       "    .dataframe thead th {\n",
       "        text-align: right;\n",
       "    }\n",
       "</style>\n",
       "<table border=\"1\" class=\"dataframe\">\n",
       "  <thead>\n",
       "    <tr style=\"text-align: right;\">\n",
       "      <th></th>\n",
       "      <th>index</th>\n",
       "      <th>market_value_per_season</th>\n",
       "    </tr>\n",
       "  </thead>\n",
       "  <tbody>\n",
       "    <tr>\n",
       "      <th>1446</th>\n",
       "      <td>7842</td>\n",
       "      <td>55000000.0</td>\n",
       "    </tr>\n",
       "  </tbody>\n",
       "</table>\n",
       "</div>"
      ],
      "text/plain": [
       "      index  market_value_per_season\n",
       "1446   7842               55000000.0"
      ]
     },
     "execution_count": 103,
     "metadata": {},
     "output_type": "execute_result"
    }
   ],
   "source": [
    "y_test.reset_index()[y_test.reset_index()[\"index\"]==7842]"
   ]
  },
  {
   "cell_type": "code",
   "execution_count": 104,
   "metadata": {},
   "outputs": [
    {
     "data": {
      "text/html": [
       "<div>\n",
       "<style scoped>\n",
       "    .dataframe tbody tr th:only-of-type {\n",
       "        vertical-align: middle;\n",
       "    }\n",
       "\n",
       "    .dataframe tbody tr th {\n",
       "        vertical-align: top;\n",
       "    }\n",
       "\n",
       "    .dataframe thead th {\n",
       "        text-align: right;\n",
       "    }\n",
       "</style>\n",
       "<table border=\"1\" class=\"dataframe\">\n",
       "  <thead>\n",
       "    <tr style=\"text-align: right;\">\n",
       "      <th></th>\n",
       "      <th>player_name</th>\n",
       "      <th>start_season</th>\n",
       "      <th>goals</th>\n",
       "      <th>assists</th>\n",
       "      <th>minutes_played</th>\n",
       "      <th>competition_code</th>\n",
       "      <th>age</th>\n",
       "      <th>position</th>\n",
       "      <th>current_club_name</th>\n",
       "      <th>market_value_per_season</th>\n",
       "      <th>country</th>\n",
       "      <th>foot</th>\n",
       "      <th>height_in_cm</th>\n",
       "    </tr>\n",
       "  </thead>\n",
       "  <tbody>\n",
       "    <tr>\n",
       "      <th>7838</th>\n",
       "      <td>Kai Havertz</td>\n",
       "      <td>2019</td>\n",
       "      <td>12</td>\n",
       "      <td>6</td>\n",
       "      <td>2463</td>\n",
       "      <td>bundesliga</td>\n",
       "      <td>20</td>\n",
       "      <td>Attacking Midfield</td>\n",
       "      <td>Arsenal Football Club</td>\n",
       "      <td>81000000.0</td>\n",
       "      <td>Germany</td>\n",
       "      <td>left</td>\n",
       "      <td>193.0</td>\n",
       "    </tr>\n",
       "    <tr>\n",
       "      <th>7839</th>\n",
       "      <td>Kai Havertz</td>\n",
       "      <td>2020</td>\n",
       "      <td>4</td>\n",
       "      <td>5</td>\n",
       "      <td>1520</td>\n",
       "      <td>premier-league</td>\n",
       "      <td>21</td>\n",
       "      <td>Attacking Midfield</td>\n",
       "      <td>Arsenal Football Club</td>\n",
       "      <td>70000000.0</td>\n",
       "      <td>Germany</td>\n",
       "      <td>left</td>\n",
       "      <td>193.0</td>\n",
       "    </tr>\n",
       "    <tr>\n",
       "      <th>7840</th>\n",
       "      <td>Kai Havertz</td>\n",
       "      <td>2021</td>\n",
       "      <td>8</td>\n",
       "      <td>4</td>\n",
       "      <td>1811</td>\n",
       "      <td>premier-league</td>\n",
       "      <td>22</td>\n",
       "      <td>Attacking Midfield</td>\n",
       "      <td>Arsenal Football Club</td>\n",
       "      <td>70000000.0</td>\n",
       "      <td>Germany</td>\n",
       "      <td>left</td>\n",
       "      <td>193.0</td>\n",
       "    </tr>\n",
       "    <tr>\n",
       "      <th>7841</th>\n",
       "      <td>Kai Havertz</td>\n",
       "      <td>2022</td>\n",
       "      <td>7</td>\n",
       "      <td>1</td>\n",
       "      <td>2579</td>\n",
       "      <td>premier-league</td>\n",
       "      <td>23</td>\n",
       "      <td>Attacking Midfield</td>\n",
       "      <td>Arsenal Football Club</td>\n",
       "      <td>55000000.0</td>\n",
       "      <td>Germany</td>\n",
       "      <td>left</td>\n",
       "      <td>193.0</td>\n",
       "    </tr>\n",
       "    <tr>\n",
       "      <th>7842</th>\n",
       "      <td>Kai Havertz</td>\n",
       "      <td>2023</td>\n",
       "      <td>8</td>\n",
       "      <td>3</td>\n",
       "      <td>1783</td>\n",
       "      <td>premier-league</td>\n",
       "      <td>24</td>\n",
       "      <td>Attacking Midfield</td>\n",
       "      <td>Arsenal Football Club</td>\n",
       "      <td>55000000.0</td>\n",
       "      <td>Germany</td>\n",
       "      <td>left</td>\n",
       "      <td>193.0</td>\n",
       "    </tr>\n",
       "  </tbody>\n",
       "</table>\n",
       "</div>"
      ],
      "text/plain": [
       "      player_name  start_season  goals  assists  minutes_played  \\\n",
       "7838  Kai Havertz          2019     12        6            2463   \n",
       "7839  Kai Havertz          2020      4        5            1520   \n",
       "7840  Kai Havertz          2021      8        4            1811   \n",
       "7841  Kai Havertz          2022      7        1            2579   \n",
       "7842  Kai Havertz          2023      8        3            1783   \n",
       "\n",
       "     competition_code  age            position      current_club_name  \\\n",
       "7838       bundesliga   20  Attacking Midfield  Arsenal Football Club   \n",
       "7839   premier-league   21  Attacking Midfield  Arsenal Football Club   \n",
       "7840   premier-league   22  Attacking Midfield  Arsenal Football Club   \n",
       "7841   premier-league   23  Attacking Midfield  Arsenal Football Club   \n",
       "7842   premier-league   24  Attacking Midfield  Arsenal Football Club   \n",
       "\n",
       "      market_value_per_season  country  foot  height_in_cm  \n",
       "7838               81000000.0  Germany  left         193.0  \n",
       "7839               70000000.0  Germany  left         193.0  \n",
       "7840               70000000.0  Germany  left         193.0  \n",
       "7841               55000000.0  Germany  left         193.0  \n",
       "7842               55000000.0  Germany  left         193.0  "
      ]
     },
     "execution_count": 104,
     "metadata": {},
     "output_type": "execute_result"
    }
   ],
   "source": [
    "df[df.player_name==\"Kai Havertz\"]"
   ]
  },
  {
   "cell_type": "code",
   "execution_count": 105,
   "metadata": {},
   "outputs": [
    {
     "data": {
      "text/html": [
       "<div>\n",
       "<style scoped>\n",
       "    .dataframe tbody tr th:only-of-type {\n",
       "        vertical-align: middle;\n",
       "    }\n",
       "\n",
       "    .dataframe tbody tr th {\n",
       "        vertical-align: top;\n",
       "    }\n",
       "\n",
       "    .dataframe thead th {\n",
       "        text-align: right;\n",
       "    }\n",
       "</style>\n",
       "<table border=\"1\" class=\"dataframe\">\n",
       "  <thead>\n",
       "    <tr style=\"text-align: right;\">\n",
       "      <th></th>\n",
       "      <th>player_name</th>\n",
       "      <th>start_season</th>\n",
       "      <th>goals</th>\n",
       "      <th>assists</th>\n",
       "      <th>minutes_played</th>\n",
       "      <th>competition_code</th>\n",
       "      <th>age</th>\n",
       "      <th>position</th>\n",
       "      <th>current_club_name</th>\n",
       "      <th>country</th>\n",
       "      <th>foot</th>\n",
       "      <th>height_in_cm</th>\n",
       "    </tr>\n",
       "  </thead>\n",
       "  <tbody>\n",
       "    <tr>\n",
       "      <th>7842</th>\n",
       "      <td>Kai Havertz</td>\n",
       "      <td>2023</td>\n",
       "      <td>8</td>\n",
       "      <td>3</td>\n",
       "      <td>1783</td>\n",
       "      <td>premier-league</td>\n",
       "      <td>24</td>\n",
       "      <td>Attacking Midfield</td>\n",
       "      <td>Arsenal Football Club</td>\n",
       "      <td>Germany</td>\n",
       "      <td>left</td>\n",
       "      <td>193.0</td>\n",
       "    </tr>\n",
       "  </tbody>\n",
       "</table>\n",
       "</div>"
      ],
      "text/plain": [
       "      player_name  start_season  goals  assists  minutes_played  \\\n",
       "7842  Kai Havertz          2023      8        3            1783   \n",
       "\n",
       "     competition_code  age            position      current_club_name  \\\n",
       "7842   premier-league   24  Attacking Midfield  Arsenal Football Club   \n",
       "\n",
       "      country  foot  height_in_cm  \n",
       "7842  Germany  left         193.0  "
      ]
     },
     "execution_count": 105,
     "metadata": {},
     "output_type": "execute_result"
    }
   ],
   "source": [
    "test[features][test[features].player_name==\"Kai Havertz\"]"
   ]
  },
  {
   "cell_type": "code",
   "execution_count": null,
   "metadata": {},
   "outputs": [],
   "source": []
  },
  {
   "cell_type": "markdown",
   "metadata": {},
   "source": []
  },
  {
   "cell_type": "markdown",
   "metadata": {},
   "source": []
  },
  {
   "cell_type": "markdown",
   "metadata": {},
   "source": []
  }
 ],
 "metadata": {
  "kernelspec": {
   "display_name": "football",
   "language": "python",
   "name": "python3"
  },
  "language_info": {
   "codemirror_mode": {
    "name": "ipython",
    "version": 3
   },
   "file_extension": ".py",
   "mimetype": "text/x-python",
   "name": "python",
   "nbconvert_exporter": "python",
   "pygments_lexer": "ipython3",
   "version": "3.11.8"
  }
 },
 "nbformat": 4,
 "nbformat_minor": 2
}
